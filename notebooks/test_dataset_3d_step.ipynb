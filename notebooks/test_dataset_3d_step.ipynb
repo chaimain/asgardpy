{
 "cells": [
  {
   "cell_type": "code",
   "execution_count": 1,
   "id": "7d6fda22",
   "metadata": {},
   "outputs": [],
   "source": [
    "from asgardpy.analysis import AsgardpyAnalysis\n",
    "from asgardpy.config import AsgardpyConfig\n",
    "from gammapy.modeling.models import Models, create_crab_spectral_model\n",
    "import matplotlib.pyplot as plt\n",
    "import numpy as np\n",
    "\n",
    "import astropy.units as u\n",
    "import logging"
   ]
  },
  {
   "cell_type": "code",
   "execution_count": 2,
   "id": "bfc2f79e",
   "metadata": {},
   "outputs": [],
   "source": [
    "from asgardpy.data.dataset_3d import Dataset3DGeneration"
   ]
  },
  {
   "cell_type": "code",
   "execution_count": null,
   "id": "1fbb35a0",
   "metadata": {},
   "outputs": [],
   "source": []
  },
  {
   "cell_type": "code",
   "execution_count": 3,
   "id": "a33c9e1e",
   "metadata": {},
   "outputs": [],
   "source": [
    "log = logging.getLogger(\"test 3d dataset\")"
   ]
  },
  {
   "cell_type": "code",
   "execution_count": 4,
   "id": "92096341",
   "metadata": {},
   "outputs": [],
   "source": [
    "base_dir = \"/fefs/aswg/workspace/chaitanya.priyadarshi/\"\n",
    "config_file = base_dir + \"analyze_pg1553_full.yaml\"\n",
    "output_dir = base_dir + \"real_data/AGN/PG1553/v09x/tailcut84/DL3/interp_irf_en_dep/no_tuning/geff_80/teff_80/20220511_dec931/joint_fit/\""
   ]
  },
  {
   "cell_type": "code",
   "execution_count": 5,
   "id": "5982ee75",
   "metadata": {},
   "outputs": [],
   "source": [
    "config = AsgardpyConfig()"
   ]
  },
  {
   "cell_type": "code",
   "execution_count": 6,
   "id": "fff3e9c6",
   "metadata": {},
   "outputs": [],
   "source": [
    "config_main = config.read(config_file)"
   ]
  },
  {
   "cell_type": "code",
   "execution_count": 7,
   "id": "0d869263",
   "metadata": {},
   "outputs": [
    {
     "name": "stdout",
     "output_type": "stream",
     "text": [
      "('log', LogConfig(level='info', filename=None, filemode=None, format=None, datefmt=None))\n",
      "('outdir', '/fefs/aswg/workspace/chaitanya.priyadarshi/real_data/AGN/PG1553/v09x/tailcut84/DL3/interp_irf_en_dep/no_tuning/geff_80/teff_80/20220511_dec931/joint_fit/')\n",
      "('n_jobs', 1)\n",
      "('steps', [<AnalysisStepEnum.datasets_3d: 'datasets-3d'>, <AnalysisStepEnum.fit: 'fit'>])\n",
      "('overwrite', True)\n",
      "('stacked_dataset', True)\n"
     ]
    }
   ],
   "source": [
    "for g in config_main.general:\n",
    "    print(g)"
   ]
  },
  {
   "cell_type": "markdown",
   "id": "f67c315b",
   "metadata": {},
   "source": [
    "# Steps mentioned in the main config file"
   ]
  },
  {
   "cell_type": "code",
   "execution_count": 8,
   "id": "ae942ef3",
   "metadata": {},
   "outputs": [
    {
     "data": {
      "text/plain": [
       "[<AnalysisStepEnum.datasets_3d: 'datasets-3d'>, <AnalysisStepEnum.fit: 'fit'>]"
      ]
     },
     "execution_count": 8,
     "metadata": {},
     "output_type": "execute_result"
    }
   ],
   "source": [
    "config_main.general.steps"
   ]
  },
  {
   "cell_type": "markdown",
   "id": "e8841d85",
   "metadata": {},
   "source": [
    "# Target source information"
   ]
  },
  {
   "cell_type": "code",
   "execution_count": 9,
   "id": "e4b13051",
   "metadata": {},
   "outputs": [
    {
     "name": "stdout",
     "output_type": "stream",
     "text": [
      "('source_name', 'PG1553+113')\n",
      "('sky_position', SkyCoordConfig(frame=<FrameEnum.icrs: 'icrs'>, lon=<Angle 238.92934976 deg>, lat=<Angle 11.19010155 deg>))\n",
      "('use_uniform_position', True)\n",
      "('models_file', None)\n",
      "('extended', False)\n",
      "('components', SkyModelComponent(name='PG1553+113', type='SkyModel', spectral=SpectralModelConfig(model_name='LogParabola', type='LogParabolaSpectralModel', parameters=[ModelParams(name='amplitude', value=1e-05, unit='cm-2 s-1 TeV-1', error=1.5e-06, min=1e-13, max=0.01, frozen=False), ModelParams(name='reference', value=1.5, unit='GeV', error=0.0, min=0.001, max=100.0, frozen=True), ModelParams(name='alpha', value=1.5, unit='', error=0.1, min=0.5, max=5.0, frozen=False), ModelParams(name='beta', value=0.1, unit='', error=0.01, min=1e-06, max=1.0, frozen=False)], ebl_abs=EBLAbsorptionModel(model_name='dominguez', type='EBLAbsorptionNormSpectralModel', redshift=0.433, alpha_norm=1.0)), spatial=SpatialModelConfig(model_name=None, type=None, parameters=[ModelParams(name=None, value=None, unit=None, error=None, min=None, max=None, frozen=True)])))\n",
      "('covariance', 'None')\n",
      "('from_fermi', False)\n"
     ]
    }
   ],
   "source": [
    "for c in config_main.target:\n",
    "    print(c)"
   ]
  },
  {
   "cell_type": "markdown",
   "id": "96cad898",
   "metadata": {},
   "source": [
    "# 3D Datasets informations"
   ]
  },
  {
   "cell_type": "code",
   "execution_count": 10,
   "id": "e6f98b78",
   "metadata": {},
   "outputs": [
    {
     "name": "stdout",
     "output_type": "stream",
     "text": [
      "('type', <ReductionTypeEnum.cube: '3d'>)\n",
      "('instruments', [Dataset3DBaseConfig(name='Fermi-LAT', io=[InputConfig(type='lat', input_dir=PosixPath('/fefs/aswg/workspace/lst1-agn-paper/LAT/PG1553+113/Analysis1/EBL/LogParabola'), glob_pattern={'events': '*MkTime.fits*', 'edisp': '*eDRM.fits*', 'xml_model': '*out.xml', 'exposure': '*BinnedMap.fits*', 'psf': '*psf.fits*'}), InputConfig(type='lat-aux', input_dir=PosixPath('/fefs/aswg/workspace/lst1-agn-paper/LAT/diffuse_models'), glob_pattern={'diffuse': 'gll_iem_v07.fits*', 'iso': 'iso_P8R3_SOURCE_V3_*.txt'})], dataset_info=Dataset3DInfoConfig(name='Fermi-LAT', key=['FRONT', 'BACK'], map_selection=[<MapSelectionEnum.counts: 'counts'>, <MapSelectionEnum.exposure: 'exposure'>, <MapSelectionEnum.background: 'background'>, <MapSelectionEnum.psf: 'psf'>, <MapSelectionEnum.edisp: 'edisp'>], obs_time=TimeIntervalsConfig(format=<TimeFormatEnum.iso: 'iso'>, intervals=[TimeRangeConfig(start=<Time object: scale='utc' format='iso' value=2021-04-01 00:00:00.000>, stop=<Time object: scale='utc' format='iso' value=2022-05-25 00:00:00.000>)]), background=BackgroundConfig(method=None, region_finder_method=None, parameters={}, exclusion={'target_source': True, 'regions': [{'type': 'CircleAnnulusSkyRegion', 'name': 'None', 'position': {'frame': 'icrs', 'lon': '238.92934976 deg', 'lat': '11.19010155 deg'}, 'parameters': {'rad_0': '8 deg', 'rad_1': '30 deg'}}]}), safe_mask=SafeMaskConfig(methods=[], parameters={'min': '0.1 GeV', 'max': '1 TeV'}), on_region=SpatialCircleConfig(frame=<FrameEnum.icrs: 'icrs'>, lon=<Angle 238.92934976 deg>, lat=<Angle 11.19010155 deg>, radius=None), containment_correction=True, spectral_energy_range=EnergyAxisConfig(min=<Quantity 100. MeV>, max=<Quantity 1. TeV>, nbins=2)))])\n"
     ]
    }
   ],
   "source": [
    "for cc in config_main.dataset3d:\n",
    "    print(cc)"
   ]
  },
  {
   "cell_type": "code",
   "execution_count": 11,
   "id": "78dfdca5",
   "metadata": {},
   "outputs": [
    {
     "name": "stdout",
     "output_type": "stream",
     "text": [
      "('fit_range', EnergyRangeConfig(min=<Quantity 100. MeV>, max=<Quantity 1. TeV>))\n",
      "('backend', <BackendEnum.minuit: 'minuit'>)\n",
      "('optimize_opts', {})\n",
      "('covariance_opts', {})\n",
      "('confidence_opts', {})\n",
      "('store_trace', True)\n"
     ]
    }
   ],
   "source": [
    "for cc in config_main.fit_params:\n",
    "    print(cc)"
   ]
  },
  {
   "cell_type": "code",
   "execution_count": null,
   "id": "4ed95dc2",
   "metadata": {},
   "outputs": [],
   "source": []
  },
  {
   "cell_type": "code",
   "execution_count": 12,
   "id": "a0fb7951",
   "metadata": {},
   "outputs": [
    {
     "name": "stderr",
     "output_type": "stream",
     "text": [
      "Setting logging config: {'level': 'INFO', 'filename': None, 'filemode': None, 'format': None, 'datefmt': None}\n"
     ]
    }
   ],
   "source": [
    "analysis = AsgardpyAnalysis(config_main)"
   ]
  },
  {
   "cell_type": "code",
   "execution_count": 13,
   "id": "b16d5c25",
   "metadata": {},
   "outputs": [
    {
     "data": {
      "text/plain": [
       "<asgardpy.analysis.analysis.AsgardpyAnalysis at 0x7faaee4af370>"
      ]
     },
     "execution_count": 13,
     "metadata": {},
     "output_type": "execute_result"
    }
   ],
   "source": [
    "analysis"
   ]
  },
  {
   "cell_type": "code",
   "execution_count": null,
   "id": "de064d49",
   "metadata": {},
   "outputs": [],
   "source": []
  },
  {
   "cell_type": "markdown",
   "id": "64e40e78",
   "metadata": {},
   "source": [
    "# Prepare for a single 3D Dataset, based on instrument and key_name"
   ]
  },
  {
   "cell_type": "code",
   "execution_count": 14,
   "id": "2368b75c",
   "metadata": {},
   "outputs": [
    {
     "name": "stdout",
     "output_type": "stream",
     "text": [
      "1 number of 3D dataset information provided\n",
      "Instrument selected is Fermi-LAT\n"
     ]
    }
   ],
   "source": [
    "instruments_list = config_main.dataset3d.instruments\n",
    "print(len(instruments_list), \"number of 3D dataset information provided\")\n",
    "\n",
    "config_3d_dataset = instruments_list[0]\n",
    "print(f\"Instrument selected is {config_3d_dataset.name}\")"
   ]
  },
  {
   "cell_type": "code",
   "execution_count": 15,
   "id": "00935ccc",
   "metadata": {},
   "outputs": [
    {
     "name": "stdout",
     "output_type": "stream",
     "text": [
      "The list of different keys or modes of observations for the selected instrument are ['FRONT', 'BACK']\n"
     ]
    }
   ],
   "source": [
    "key_names = config_3d_dataset.dataset_info.key\n",
    "print(f\"The list of different keys or modes of observations for the selected instrument are {key_names}\")"
   ]
  },
  {
   "cell_type": "markdown",
   "id": "9d99ae35",
   "metadata": {},
   "source": [
    "# Run each Dataset3DGeneration step"
   ]
  },
  {
   "cell_type": "code",
   "execution_count": 16,
   "id": "89f38e52",
   "metadata": {},
   "outputs": [],
   "source": [
    "generate_3d_dataset = Dataset3DGeneration(\n",
    "    log, config_3d_dataset, config_main, key_names[0]\n",
    ")"
   ]
  },
  {
   "cell_type": "code",
   "execution_count": null,
   "id": "ec50476e",
   "metadata": {},
   "outputs": [],
   "source": []
  },
  {
   "cell_type": "markdown",
   "id": "48610957",
   "metadata": {},
   "source": [
    "## Initialized variables"
   ]
  },
  {
   "cell_type": "code",
   "execution_count": 17,
   "id": "6a342965",
   "metadata": {},
   "outputs": [
    {
     "name": "stdout",
     "output_type": "stream",
     "text": [
      "Fermi-LAT\n"
     ]
    }
   ],
   "source": [
    "print(generate_3d_dataset.instrument_name)"
   ]
  },
  {
   "cell_type": "code",
   "execution_count": 18,
   "id": "74f57a5e",
   "metadata": {},
   "outputs": [
    {
     "name": "stdout",
     "output_type": "stream",
     "text": [
      "[InputConfig(type='lat', input_dir=PosixPath('/fefs/aswg/workspace/lst1-agn-paper/LAT/PG1553+113/Analysis1/EBL/LogParabola'), glob_pattern={'events': '*MkTime.fits*', 'edisp': '*eDRM.fits*', 'xml_model': '*out.xml', 'exposure': '*BinnedMap.fits*', 'psf': '*psf.fits*'}), InputConfig(type='lat-aux', input_dir=PosixPath('/fefs/aswg/workspace/lst1-agn-paper/LAT/diffuse_models'), glob_pattern={'diffuse': 'gll_iem_v07.fits*', 'iso': 'iso_P8R3_SOURCE_V3_*.txt'})]\n"
     ]
    }
   ],
   "source": [
    "print(generate_3d_dataset.config_3d_dataset_io)"
   ]
  },
  {
   "cell_type": "code",
   "execution_count": 19,
   "id": "c91d096e",
   "metadata": {},
   "outputs": [
    {
     "name": "stdout",
     "output_type": "stream",
     "text": [
      "name='Fermi-LAT' key=['FRONT', 'BACK'] map_selection=[<MapSelectionEnum.counts: 'counts'>, <MapSelectionEnum.exposure: 'exposure'>, <MapSelectionEnum.background: 'background'>, <MapSelectionEnum.psf: 'psf'>, <MapSelectionEnum.edisp: 'edisp'>] obs_time=TimeIntervalsConfig(format=<TimeFormatEnum.iso: 'iso'>, intervals=[TimeRangeConfig(start=<Time object: scale='utc' format='iso' value=2021-04-01 00:00:00.000>, stop=<Time object: scale='utc' format='iso' value=2022-05-25 00:00:00.000>)]) background=BackgroundConfig(method=None, region_finder_method=None, parameters={}, exclusion={'target_source': True, 'regions': [{'type': 'CircleAnnulusSkyRegion', 'name': 'None', 'position': {'frame': 'icrs', 'lon': '238.92934976 deg', 'lat': '11.19010155 deg'}, 'parameters': {'rad_0': '8 deg', 'rad_1': '30 deg'}}]}) safe_mask=SafeMaskConfig(methods=[], parameters={'min': '0.1 GeV', 'max': '1 TeV'}) on_region=SpatialCircleConfig(frame=<FrameEnum.icrs: 'icrs'>, lon=<Angle 238.92934976 deg>, lat=<Angle 11.19010155 deg>, radius=None) containment_correction=True spectral_energy_range=EnergyAxisConfig(min=<Quantity 100. MeV>, max=<Quantity 1. TeV>, nbins=2)\n"
     ]
    }
   ],
   "source": [
    "print(generate_3d_dataset.config_3d_dataset_info)"
   ]
  },
  {
   "cell_type": "code",
   "execution_count": 20,
   "id": "0df8fdb0",
   "metadata": {},
   "outputs": [
    {
     "name": "stdout",
     "output_type": "stream",
     "text": [
      "FRONT\n"
     ]
    }
   ],
   "source": [
    "print(generate_3d_dataset.key_name)"
   ]
  },
  {
   "cell_type": "code",
   "execution_count": 21,
   "id": "0640b735",
   "metadata": {},
   "outputs": [
    {
     "name": "stdout",
     "output_type": "stream",
     "text": [
      "source_name='PG1553+113' sky_position=SkyCoordConfig(frame=<FrameEnum.icrs: 'icrs'>, lon=<Angle 238.92934976 deg>, lat=<Angle 11.19010155 deg>) use_uniform_position=True models_file=None extended=False components=SkyModelComponent(name='PG1553+113', type='SkyModel', spectral=SpectralModelConfig(model_name='LogParabola', type='LogParabolaSpectralModel', parameters=[ModelParams(name='amplitude', value=1e-05, unit='cm-2 s-1 TeV-1', error=1.5e-06, min=1e-13, max=0.01, frozen=False), ModelParams(name='reference', value=1.5, unit='GeV', error=0.0, min=0.001, max=100.0, frozen=True), ModelParams(name='alpha', value=1.5, unit='', error=0.1, min=0.5, max=5.0, frozen=False), ModelParams(name='beta', value=0.1, unit='', error=0.01, min=1e-06, max=1.0, frozen=False)], ebl_abs=EBLAbsorptionModel(model_name='dominguez', type='EBLAbsorptionNormSpectralModel', redshift=0.433, alpha_norm=1.0)), spatial=SpatialModelConfig(model_name=None, type=None, parameters=[ModelParams(name=None, value=None, unit=None, error=None, min=None, max=None, frozen=True)])) covariance='None' from_fermi=False\n"
     ]
    }
   ],
   "source": [
    "print(generate_3d_dataset.config_target)"
   ]
  },
  {
   "cell_type": "code",
   "execution_count": 22,
   "id": "8037ffe9",
   "metadata": {},
   "outputs": [
    {
     "name": "stdout",
     "output_type": "stream",
     "text": [
      "model_name='LogParabola' type='LogParabolaSpectralModel' parameters=[ModelParams(name='amplitude', value=1e-05, unit='cm-2 s-1 TeV-1', error=1.5e-06, min=1e-13, max=0.01, frozen=False), ModelParams(name='reference', value=1.5, unit='GeV', error=0.0, min=0.001, max=100.0, frozen=True), ModelParams(name='alpha', value=1.5, unit='', error=0.1, min=0.5, max=5.0, frozen=False), ModelParams(name='beta', value=0.1, unit='', error=0.01, min=1e-06, max=1.0, frozen=False)] ebl_abs=EBLAbsorptionModel(model_name='dominguez', type='EBLAbsorptionNormSpectralModel', redshift=0.433, alpha_norm=1.0)\n"
     ]
    }
   ],
   "source": [
    "print(generate_3d_dataset.model)"
   ]
  },
  {
   "cell_type": "code",
   "execution_count": 23,
   "id": "db036bc5",
   "metadata": {},
   "outputs": [
    {
     "name": "stdout",
     "output_type": "stream",
     "text": [
      "[] None\n"
     ]
    }
   ],
   "source": [
    "print(generate_3d_dataset.exclusion_regions, generate_3d_dataset.target_full_model)"
   ]
  },
  {
   "cell_type": "code",
   "execution_count": null,
   "id": "bac2931e",
   "metadata": {},
   "outputs": [],
   "source": []
  },
  {
   "cell_type": "markdown",
   "id": "73f96d8c",
   "metadata": {},
   "source": [
    "### First check for the given file list if they are readable or not."
   ]
  },
  {
   "cell_type": "code",
   "execution_count": 24,
   "id": "4218e5c0",
   "metadata": {},
   "outputs": [
    {
     "name": "stderr",
     "output_type": "stream",
     "text": [
      "The list of DL3 event files for LAT selected: [PosixPath('/fefs/aswg/workspace/lst1-agn-paper/LAT/PG1553+113/Analysis1/EBL/LogParabola/PG_1553+113_LAT_Analysis_BACK_MkTime.fits.gz'), PosixPath('/fefs/aswg/workspace/lst1-agn-paper/LAT/PG1553+113/Analysis1/EBL/LogParabola/PG_1553+113_LAT_Analysis_FRONT_MkTime.fits.gz')]\n",
      "The list of Detector Response Matrix files for LAT selected: [PosixPath('/fefs/aswg/workspace/lst1-agn-paper/LAT/PG1553+113/Analysis1/EBL/LogParabola/PG_1553+113_LAT_Analysis_BACK_LogParabola_eDRM.fits.gz'), PosixPath('/fefs/aswg/workspace/lst1-agn-paper/LAT/PG1553+113/Analysis1/EBL/LogParabola/PG_1553+113_LAT_Analysis_FRONT_LogParabola_eDRM.fits.gz')]\n",
      "The list of XML files for LAT selected: [PosixPath('/fefs/aswg/workspace/lst1-agn-paper/LAT/PG1553+113/Analysis1/EBL/LogParabola/PG_1553+113_LogParabola_LAT_Analysis_out.xml')]\n",
      "The list of Exposure Map files for LAT selected: [PosixPath('/fefs/aswg/workspace/lst1-agn-paper/LAT/PG1553+113/Analysis1/EBL/LogParabola/PG_1553+113_LAT_Analysis_BACK_BinnedMap.fits.gz'), PosixPath('/fefs/aswg/workspace/lst1-agn-paper/LAT/PG1553+113/Analysis1/EBL/LogParabola/PG_1553+113_LAT_Analysis_FRONT_BinnedMap.fits.gz')]\n",
      "The list of PSF files for LAT selected: [PosixPath('/fefs/aswg/workspace/lst1-agn-paper/LAT/PG1553+113/Analysis1/EBL/LogParabola/PG_1553+113_LAT_Analysis_BACK_LogParabola_psf.fits.gz'), PosixPath('/fefs/aswg/workspace/lst1-agn-paper/LAT/PG1553+113/Analysis1/EBL/LogParabola/PG_1553+113_LAT_Analysis_FRONT_LogParabola_psf.fits.gz')]\n",
      "WARNING: FITSFixedWarning: RADECSYS= 'FK5 ' \n",
      "the RADECSYS keyword is deprecated, use RADESYSa. [astropy.wcs.wcs]\n",
      "FITSFixedWarning: RADECSYS= 'FK5 ' \n",
      "the RADECSYS keyword is deprecated, use RADESYSa.\n",
      "WARNING: FITSFixedWarning: 'datfix' made the change 'Set DATEREF to '2001-01-01T00:01:04.184' from MJDREF.\n",
      "Set MJD-OBS to 59311.500100 from DATE-OBS.\n",
      "Set MJD-END to 59723.499648 from DATE-END'. [astropy.wcs.wcs]\n",
      "FITSFixedWarning: 'datfix' made the change 'Set DATEREF to '2001-01-01T00:01:04.184' from MJDREF.\n",
      "Set MJD-OBS to 59311.500100 from DATE-OBS.\n",
      "Set MJD-END to 59723.499648 from DATE-END'.\n",
      "The list of Diffuse Galactic sources for LAT-Aux selected: [PosixPath('/fefs/aswg/workspace/lst1-agn-paper/LAT/diffuse_models/gll_iem_v07.fits')]\n",
      "The list of Isotropic Diffuse model files for LAT-Aux selected: [PosixPath('/fefs/aswg/workspace/lst1-agn-paper/LAT/diffuse_models/iso_P8R3_SOURCE_V3_BACK_v1.txt'), PosixPath('/fefs/aswg/workspace/lst1-agn-paper/LAT/diffuse_models/iso_P8R3_SOURCE_V3_FRONT_v1.txt'), PosixPath('/fefs/aswg/workspace/lst1-agn-paper/LAT/diffuse_models/iso_P8R3_SOURCE_V3_PSF0_v1.txt'), PosixPath('/fefs/aswg/workspace/lst1-agn-paper/LAT/diffuse_models/iso_P8R3_SOURCE_V3_PSF1_v1.txt'), PosixPath('/fefs/aswg/workspace/lst1-agn-paper/LAT/diffuse_models/iso_P8R3_SOURCE_V3_PSF2_v1.txt'), PosixPath('/fefs/aswg/workspace/lst1-agn-paper/LAT/diffuse_models/iso_P8R3_SOURCE_V3_PSF3_v1.txt'), PosixPath('/fefs/aswg/workspace/lst1-agn-paper/LAT/diffuse_models/iso_P8R3_SOURCE_V3_v1.txt')]\n"
     ]
    }
   ],
   "source": [
    "file_list = generate_3d_dataset.read_to_objects(\n",
    "    generate_3d_dataset.model, \n",
    "    generate_3d_dataset.key_name\n",
    ")"
   ]
  },
  {
   "cell_type": "code",
   "execution_count": 25,
   "id": "bddaa80b",
   "metadata": {},
   "outputs": [
    {
     "name": "stdout",
     "output_type": "stream",
     "text": [
      "{'xml_file': PosixPath('/fefs/aswg/workspace/lst1-agn-paper/LAT/PG1553+113/Analysis1/EBL/LogParabola/PG_1553+113_LogParabola_LAT_Analysis_out.xml'), 'events_file': PosixPath('/fefs/aswg/workspace/lst1-agn-paper/LAT/PG1553+113/Analysis1/EBL/LogParabola/PG_1553+113_LAT_Analysis_FRONT_MkTime.fits.gz'), 'edrm_file': PosixPath('/fefs/aswg/workspace/lst1-agn-paper/LAT/PG1553+113/Analysis1/EBL/LogParabola/PG_1553+113_LAT_Analysis_FRONT_LogParabola_eDRM.fits.gz'), 'expmap_file': PosixPath('/fefs/aswg/workspace/lst1-agn-paper/LAT/PG1553+113/Analysis1/EBL/LogParabola/PG_1553+113_LAT_Analysis_FRONT_BinnedMap.fits.gz'), 'psf_file': PosixPath('/fefs/aswg/workspace/lst1-agn-paper/LAT/PG1553+113/Analysis1/EBL/LogParabola/PG_1553+113_LAT_Analysis_FRONT_LogParabola_psf.fits.gz'), 'diff_gal_file': PosixPath('/fefs/aswg/workspace/lst1-agn-paper/LAT/diffuse_models/gll_iem_v07.fits'), 'iso_file': PosixPath('/fefs/aswg/workspace/lst1-agn-paper/LAT/diffuse_models/iso_P8R3_SOURCE_V3_FRONT_v1.txt')}\n"
     ]
    }
   ],
   "source": [
    "print(file_list)"
   ]
  },
  {
   "cell_type": "code",
   "execution_count": 26,
   "id": "a57b44ce",
   "metadata": {},
   "outputs": [
    {
     "name": "stdout",
     "output_type": "stream",
     "text": [
      "xml_file /fefs/aswg/workspace/lst1-agn-paper/LAT/PG1553+113/Analysis1/EBL/LogParabola/PG_1553+113_LogParabola_LAT_Analysis_out.xml\n",
      "events_file /fefs/aswg/workspace/lst1-agn-paper/LAT/PG1553+113/Analysis1/EBL/LogParabola/PG_1553+113_LAT_Analysis_FRONT_MkTime.fits.gz\n",
      "edrm_file /fefs/aswg/workspace/lst1-agn-paper/LAT/PG1553+113/Analysis1/EBL/LogParabola/PG_1553+113_LAT_Analysis_FRONT_LogParabola_eDRM.fits.gz\n",
      "expmap_file /fefs/aswg/workspace/lst1-agn-paper/LAT/PG1553+113/Analysis1/EBL/LogParabola/PG_1553+113_LAT_Analysis_FRONT_BinnedMap.fits.gz\n",
      "psf_file /fefs/aswg/workspace/lst1-agn-paper/LAT/PG1553+113/Analysis1/EBL/LogParabola/PG_1553+113_LAT_Analysis_FRONT_LogParabola_psf.fits.gz\n",
      "diff_gal_file /fefs/aswg/workspace/lst1-agn-paper/LAT/diffuse_models/gll_iem_v07.fits\n",
      "iso_file /fefs/aswg/workspace/lst1-agn-paper/LAT/diffuse_models/iso_P8R3_SOURCE_V3_FRONT_v1.txt\n"
     ]
    }
   ],
   "source": [
    "for k in file_list.keys():\n",
    "    print(k, file_list[k])"
   ]
  },
  {
   "cell_type": "code",
   "execution_count": null,
   "id": "a0b5f6af",
   "metadata": {},
   "outputs": [],
   "source": []
  },
  {
   "cell_type": "code",
   "execution_count": 27,
   "id": "1bd5744b",
   "metadata": {},
   "outputs": [
    {
     "name": "stdout",
     "output_type": "stream",
     "text": [
      "WcsNDMap\n",
      "\n",
      "\tgeom  : WcsGeom \n",
      " \taxes  : ['lon', 'lat', 'energy_true']\n",
      "\tshape : (141, 141, 42)\n",
      "\tndim  : 3\n",
      "\tunit  : cm2 s\n",
      "\tdtype : >f4\n",
      "\n",
      "WcsGeom\n",
      "\n",
      "\taxes       : ['lon', 'lat', 'energy_true']\n",
      "\tshape      : (141, 141, 42)\n",
      "\tndim       : 3\n",
      "\tframe      : fk5\n",
      "\tprojection : AIT\n",
      "\tcenter     : 238.9 deg, 11.2 deg\n",
      "\twidth      : 14.1 deg x 14.1 deg\n",
      "\twcs ref    : 238.9 deg, 11.2 deg\n",
      "\n"
     ]
    }
   ],
   "source": [
    "print(generate_3d_dataset.exposure)\n",
    "print(generate_3d_dataset.exposure.geom)"
   ]
  },
  {
   "cell_type": "code",
   "execution_count": 28,
   "id": "399ec664",
   "metadata": {},
   "outputs": [
    {
     "name": "stdout",
     "output_type": "stream",
     "text": [
      "RegionNDMap\n",
      "\n",
      "\tgeom  : RegionGeom \n",
      " \taxes  : ['lon', 'lat', 'rad', 'energy_true']\n",
      "\tshape : (1, 1, 300, 41)\n",
      "\tndim  : 4\n",
      "\tunit  : 1 / sr\n",
      "\tdtype : >f8\n",
      "\n"
     ]
    }
   ],
   "source": [
    "print(generate_3d_dataset.psf)"
   ]
  },
  {
   "cell_type": "code",
   "execution_count": 29,
   "id": "adc297b7",
   "metadata": {},
   "outputs": [
    {
     "name": "stdout",
     "output_type": "stream",
     "text": [
      "Filename: /fefs/aswg/workspace/lst1-agn-paper/LAT/PG1553+113/Analysis1/EBL/LogParabola/PG_1553+113_LAT_Analysis_FRONT_LogParabola_eDRM.fits.gz\n",
      "No.    Name      Ver    Type      Cards   Dimensions   Format\n",
      "  0  PRIMARY       1 PrimaryHDU      59   (1, 1, 1)   float32   \n",
      "  1  GTI           1 BinTableHDU     33   194R x 2C   [D, D]   \n",
      "  2  EBOUNDS       1 BinTableHDU     38   141R x 3C   [I, 1E, 1E]   \n",
      "  3  DRM           1 BinTableHDU     29   41R x 6C   ['D', 'D', 'I', 'PI(1)', 'PI(1)', 'PE(41)']   \n",
      "None\n"
     ]
    }
   ],
   "source": [
    "print(generate_3d_dataset.drmap.info())"
   ]
  },
  {
   "cell_type": "code",
   "execution_count": 30,
   "id": "3ffb1331",
   "metadata": {},
   "outputs": [
    {
     "name": "stdout",
     "output_type": "stream",
     "text": [
      "None\n"
     ]
    }
   ],
   "source": [
    "print(generate_3d_dataset.edisp_kernel)"
   ]
  },
  {
   "cell_type": "code",
   "execution_count": 31,
   "id": "cbcb0713",
   "metadata": {},
   "outputs": [
    {
     "name": "stdout",
     "output_type": "stream",
     "text": [
      "WcsNDMap\n",
      "\n",
      "\tgeom  : WcsGeom \n",
      " \taxes  : ['lon', 'lat', 'energy_true']\n",
      "\tshape : (2880, 1441, 28)\n",
      "\tndim  : 3\n",
      "\tunit  : 1 / (cm2 MeV s sr)\n",
      "\tdtype : >f4\n",
      "\n"
     ]
    }
   ],
   "source": [
    "print(generate_3d_dataset.diff_gal)"
   ]
  },
  {
   "cell_type": "code",
   "execution_count": 32,
   "id": "29dd2c0e",
   "metadata": {},
   "outputs": [
    {
     "name": "stdout",
     "output_type": "stream",
     "text": [
      "SkyModel\n",
      "\n",
      "  Name                      : fermi-diffuse-iso-FRONT\n",
      "  Datasets names            : None\n",
      "  Spectral model type       : CompoundSpectralModel\n",
      "  Spatial  model type       : ConstantSpatialModel\n",
      "  Temporal model type       : \n",
      "  Parameters:\n",
      "    norm                  (frozen):      1.000                   \n",
      "    norm                          :      1.000   +/-    0.00             \n",
      "    tilt                  (frozen):      0.000                   \n",
      "    reference             (frozen):      1.000       TeV         \n",
      "    value                 (frozen):      1.000       1 / sr      \n",
      "\n",
      "\n"
     ]
    }
   ],
   "source": [
    "print(generate_3d_dataset.diff_iso)"
   ]
  },
  {
   "cell_type": "code",
   "execution_count": 33,
   "id": "aa66fa9b",
   "metadata": {},
   "outputs": [
    {
     "name": "stdout",
     "output_type": "stream",
     "text": [
      "11 number of sources read from XML file\n"
     ]
    }
   ],
   "source": [
    "print(len(generate_3d_dataset.list_sources), \"number of sources read from XML file\")"
   ]
  },
  {
   "cell_type": "code",
   "execution_count": 34,
   "id": "1ee26cbf",
   "metadata": {},
   "outputs": [
    {
     "name": "stdout",
     "output_type": "stream",
     "text": [
      "SkyModel\n",
      "\n",
      "  Name                      : PG1553+113\n",
      "  Datasets names            : None\n",
      "  Spectral model type       : CompoundSpectralModel\n",
      "  Spatial  model type       : PointSpatialModel\n",
      "  Temporal model type       : \n",
      "  Parameters:\n",
      "    amplitude                     :   1.00e-05   +/- 1.5e-06 1 / (cm2 s TeV)\n",
      "    reference             (frozen):      1.500       GeV         \n",
      "    alpha                         :      1.500   +/-    0.10             \n",
      "    beta                          :      0.100   +/-    0.01             \n",
      "    alpha_norm            (frozen):      1.000                   \n",
      "    redshift              (frozen):      0.433                   \n",
      "    lon_0                 (frozen):      0.382       rad         \n",
      "    lat_0                 (frozen):      0.767       rad         \n",
      "\n",
      "\n",
      "SkyModel\n",
      "\n",
      "  Name                      : 4FGL J1541.7+1413\n",
      "  Datasets names            : None\n",
      "  Spectral model type       : PowerLawSpectralModel\n",
      "  Spatial  model type       : PointSpatialModel\n",
      "  Temporal model type       : \n",
      "  Parameters:\n",
      "    index                 (frozen):      1.918                   \n",
      "    amplitude             (frozen):   9.20e-01       1 / (cm2 MeV s)\n",
      "    reference             (frozen):   4846.950       MeV         \n",
      "    lon_0                 (frozen):      0.414       rad         \n",
      "    lat_0                 (frozen):      0.844       rad         \n",
      "\n",
      "\n",
      "SkyModel\n",
      "\n",
      "  Name                      : 4FGL J1546.0+0819\n",
      "  Datasets names            : None\n",
      "  Spectral model type       : LogParabolaSpectralModel\n",
      "  Spatial  model type       : PointSpatialModel\n",
      "  Temporal model type       : \n",
      "  Parameters:\n",
      "    amplitude                     :   6.73e+00   +/- 0.0e+00 1 / (cm2 MeV s)\n",
      "    reference             (frozen):   2326.920       MeV         \n",
      "    alpha                         :      1.509   +/-    0.00             \n",
      "    beta                          :      1.000   +/-    0.00             \n",
      "    lon_0                 (frozen):      0.293       rad         \n",
      "    lat_0                 (frozen):      0.780       rad         \n",
      "\n",
      "\n",
      "SkyModel\n",
      "\n",
      "  Name                      : 4FGL J1548.3+1456\n",
      "  Datasets names            : None\n",
      "  Spectral model type       : LogParabolaSpectralModel\n",
      "  Spatial  model type       : PointSpatialModel\n",
      "  Temporal model type       : \n",
      "  Parameters:\n",
      "    amplitude                     :   1.34e+00   +/- 0.0e+00 1 / (cm2 MeV s)\n",
      "    reference             (frozen):   1179.140       MeV         \n",
      "    alpha                         :      0.500   +/-    0.00             \n",
      "    beta                          :      0.425   +/-    0.00             \n",
      "    lon_0                 (frozen):      0.448       rad         \n",
      "    lat_0                 (frozen):      0.824       rad         \n",
      "\n",
      "\n",
      "SkyModel\n",
      "\n",
      "  Name                      : 4FGL J1550.7+0528\n",
      "  Datasets names            : None\n",
      "  Spectral model type       : LogParabolaSpectralModel\n",
      "  Spatial  model type       : PointSpatialModel\n",
      "  Temporal model type       : \n",
      "  Parameters:\n",
      "    amplitude                     :   8.82e+00   +/- 0.0e+00 1 / (cm2 MeV s)\n",
      "    reference             (frozen):    951.191       MeV         \n",
      "    alpha                 (frozen):      2.287                   \n",
      "    beta                  (frozen):      0.139                   \n",
      "    lon_0                 (frozen):      0.249       rad         \n",
      "    lat_0                 (frozen):      0.737       rad         \n",
      "\n",
      "\n",
      "SkyModel\n",
      "\n",
      "  Name                      : 4FGL J1603.8+1104\n",
      "  Datasets names            : None\n",
      "  Spectral model type       : PowerLawSpectralModel\n",
      "  Spatial  model type       : PointSpatialModel\n",
      "  Temporal model type       : \n",
      "  Parameters:\n",
      "    index                 (frozen):      2.117                   \n",
      "    amplitude             (frozen):   1.64e+00       1 / (cm2 MeV s)\n",
      "    reference             (frozen):   3349.730       MeV         \n",
      "    lon_0                 (frozen):      0.401       rad         \n",
      "    lat_0                 (frozen):      0.735       rad         \n",
      "\n",
      "\n",
      "SkyModel\n",
      "\n",
      "  Name                      : 4FGL J1607.0+1550\n",
      "  Datasets names            : None\n",
      "  Spectral model type       : LogParabolaSpectralModel\n",
      "  Spatial  model type       : PointSpatialModel\n",
      "  Temporal model type       : \n",
      "  Parameters:\n",
      "    amplitude                     :   5.38e-01   +/- 0.0e+00 1 / (cm2 MeV s)\n",
      "    reference             (frozen):    733.220       MeV         \n",
      "    alpha                 (frozen):      2.146                   \n",
      "    beta                  (frozen):      0.108                   \n",
      "    lon_0                 (frozen):      0.512       rad         \n",
      "    lat_0                 (frozen):      0.758       rad         \n",
      "\n",
      "\n",
      "SkyModel\n",
      "\n",
      "  Name                      : 4FGL J1608.7+1029\n",
      "  Datasets names            : None\n",
      "  Spectral model type       : LogParabolaSpectralModel\n",
      "  Spatial  model type       : PointSpatialModel\n",
      "  Temporal model type       : \n",
      "  Parameters:\n",
      "    amplitude                     :   1.93e+00   +/- 0.0e+00 1 / (cm2 MeV s)\n",
      "    reference             (frozen):    541.299       MeV         \n",
      "    alpha                         :      2.592   +/-    0.00             \n",
      "    beta                          :      0.000   +/-    0.00             \n",
      "    lon_0                 (frozen):      0.402       rad         \n",
      "    lat_0                 (frozen):      0.712       rad         \n",
      "\n",
      "\n",
      "SkyModel\n",
      "\n",
      "  Name                      : 4FGL J1612.1+1407\n",
      "  Datasets names            : None\n",
      "  Spectral model type       : LogParabolaSpectralModel\n",
      "  Spatial  model type       : PointSpatialModel\n",
      "  Temporal model type       : \n",
      "  Parameters:\n",
      "    amplitude                     :   8.91e+00   +/- 0.0e+00 1 / (cm2 MeV s)\n",
      "    reference             (frozen):   1674.090       MeV         \n",
      "    alpha                         :      2.070   +/-    0.00             \n",
      "    beta                          :      1.000   +/-    0.00             \n",
      "    lon_0                 (frozen):      0.486       rad         \n",
      "    lat_0                 (frozen):      0.726       rad         \n",
      "\n",
      "\n",
      "SkyModel\n",
      "\n",
      "  Name                      : diffuse-iem\n",
      "  Datasets names            : None\n",
      "  Spectral model type       : PowerLawNormSpectralModel\n",
      "  Spatial  model type       : TemplateSpatialModel\n",
      "  Temporal model type       : \n",
      "  Parameters:\n",
      "    norm                          :      1.000   +/-    0.00             \n",
      "    tilt                  (frozen):      0.000                   \n",
      "    reference             (frozen):      1.000       TeV         \n",
      "\n",
      "\n",
      "SkyModel\n",
      "\n",
      "  Name                      : fermi-diffuse-iso-FRONT\n",
      "  Datasets names            : None\n",
      "  Spectral model type       : CompoundSpectralModel\n",
      "  Spatial  model type       : ConstantSpatialModel\n",
      "  Temporal model type       : \n",
      "  Parameters:\n",
      "    norm                  (frozen):      1.000                   \n",
      "    norm                          :      1.000   +/-    0.00             \n",
      "    tilt                  (frozen):      0.000                   \n",
      "    reference             (frozen):      1.000       TeV         \n",
      "    value                 (frozen):      1.000       1 / sr      \n",
      "\n",
      "\n"
     ]
    }
   ],
   "source": [
    "for src in generate_3d_dataset.list_sources:\n",
    "    print(src)"
   ]
  },
  {
   "cell_type": "code",
   "execution_count": 35,
   "id": "c207768b",
   "metadata": {},
   "outputs": [
    {
     "name": "stdout",
     "output_type": "stream",
     "text": [
      "Number of free parameters in the whole list of SkyModels: 19\n"
     ]
    }
   ],
   "source": [
    "print(\"Number of free parameters in the whole list of SkyModels:\", len(Models(generate_3d_dataset.list_sources).parameters.free_parameters))"
   ]
  },
  {
   "cell_type": "code",
   "execution_count": 36,
   "id": "a5fe0263",
   "metadata": {},
   "outputs": [
    {
     "name": "stdout",
     "output_type": "stream",
     "text": [
      "Names of the sources in the whole list of SkyModels: ['PG1553+113', '4FGL J1541.7+1413', '4FGL J1546.0+0819', '4FGL J1548.3+1456', '4FGL J1550.7+0528', '4FGL J1603.8+1104', '4FGL J1607.0+1550', '4FGL J1608.7+1029', '4FGL J1612.1+1407', 'diffuse-iem', 'fermi-diffuse-iso-FRONT']\n"
     ]
    }
   ],
   "source": [
    "print(\"Names of the sources in the whole list of SkyModels:\", Models(generate_3d_dataset.list_sources).names)"
   ]
  },
  {
   "cell_type": "code",
   "execution_count": 37,
   "id": "5e3316a0",
   "metadata": {},
   "outputs": [
    {
     "name": "stdout",
     "output_type": "stream",
     "text": [
      "The SkyModel of the target source is\n",
      " SkyModel\n",
      "\n",
      "  Name                      : PG1553+113\n",
      "  Datasets names            : None\n",
      "  Spectral model type       : CompoundSpectralModel\n",
      "  Spatial  model type       : PointSpatialModel\n",
      "  Temporal model type       : \n",
      "  Parameters:\n",
      "    amplitude                     :   1.00e-05   +/- 1.5e-06 1 / (cm2 s TeV)\n",
      "    reference             (frozen):      1.500       GeV         \n",
      "    alpha                         :      1.500   +/-    0.10             \n",
      "    beta                          :      0.100   +/-    0.01             \n",
      "    alpha_norm            (frozen):      1.000                   \n",
      "    redshift              (frozen):      0.433                   \n",
      "    lon_0                 (frozen):      0.382       rad         \n",
      "    lat_0                 (frozen):      0.767       rad         \n",
      "\n",
      "\n"
     ]
    }
   ],
   "source": [
    "print(\"The SkyModel of the target source is\\n\", generate_3d_dataset.target_full_model)"
   ]
  },
  {
   "cell_type": "code",
   "execution_count": null,
   "id": "66aa88c5",
   "metadata": {},
   "outputs": [],
   "source": []
  },
  {
   "cell_type": "markdown",
   "id": "1f93b74c",
   "metadata": {},
   "source": [
    "### Start preparing objects to create the counts map"
   ]
  },
  {
   "cell_type": "code",
   "execution_count": 38,
   "id": "fb7e17d2",
   "metadata": {},
   "outputs": [],
   "source": [
    "generate_3d_dataset.set_energy_dispersion_matrix()"
   ]
  },
  {
   "cell_type": "code",
   "execution_count": 39,
   "id": "9f57bbce",
   "metadata": {},
   "outputs": [
    {
     "name": "stdout",
     "output_type": "stream",
     "text": [
      "EDispKernel\n",
      "-----------\n",
      "\n",
      "  axes  : ['energy_true', 'energy']\n",
      "  shape : (41, 41)\n",
      "  ndim  : 2\n",
      "  unit  : \n",
      "  dtype : float32\n",
      "\n",
      "MapAxis\n",
      "\n",
      "\tname       : energy    \n",
      "\tunit       : 'MeV'     \n",
      "\tnbins      : 41        \n",
      "\tnode type  : edges     \n",
      "\tedges min  : 1.5e+02 MeV\n",
      "\tedges max  : 2.0e+06 MeV\n",
      "\tinterp     : log       \n",
      " MapAxis\n",
      "\n",
      "\tname       : energy_true\n",
      "\tunit       : 'MeV'     \n",
      "\tnbins      : 41        \n",
      "\tnode type  : edges     \n",
      "\tedges min  : 1.5e+02 MeV\n",
      "\tedges max  : 2.0e+06 MeV\n",
      "\tinterp     : log       \n",
      "\n"
     ]
    },
    {
     "data": {
      "image/png": "[encoded data removed]",
      "text/plain": [
       "<Figure size 1500x500 with 2 Axes>"
      ]
     },
     "metadata": {},
     "output_type": "display_data"
    }
   ],
   "source": [
    "print(generate_3d_dataset.edisp_kernel)\n",
    "print(generate_3d_dataset.energy_axis, generate_3d_dataset.energy_axis_true)\n",
    "generate_3d_dataset.edisp_kernel.peek()"
   ]
  },
  {
   "cell_type": "code",
   "execution_count": null,
   "id": "d93fca51",
   "metadata": {},
   "outputs": [],
   "source": []
  },
  {
   "cell_type": "code",
   "execution_count": 40,
   "id": "16eacca4",
   "metadata": {},
   "outputs": [],
   "source": [
    "generate_3d_dataset.load_events(file_list[\"events_file\"])"
   ]
  },
  {
   "cell_type": "markdown",
   "id": "6877f12a",
   "metadata": {},
   "source": [
    "### EventList and GTI"
   ]
  },
  {
   "cell_type": "code",
   "execution_count": 41,
   "id": "5222023a",
   "metadata": {},
   "outputs": [
    {
     "name": "stdout",
     "output_type": "stream",
     "text": [
      "[TimeRangeConfig(start=<Time object: scale='utc' format='iso' value=2021-04-01 00:00:00.000>, stop=<Time object: scale='utc' format='iso' value=2022-05-25 00:00:00.000>)]\n"
     ]
    }
   ],
   "source": [
    "# Time interval to select events\n",
    "print(generate_3d_dataset.config_3d_dataset_info.obs_time.intervals)"
   ]
  },
  {
   "cell_type": "code",
   "execution_count": 42,
   "id": "e37b21b2",
   "metadata": {},
   "outputs": [
    {
     "data": {
      "image/png": "[encoded data removed]",
      "text/plain": [
       "<Figure size 1200x800 with 5 Axes>"
      ]
     },
     "metadata": {},
     "output_type": "display_data"
    }
   ],
   "source": [
    "generate_3d_dataset.events.peek()"
   ]
  },
  {
   "cell_type": "code",
   "execution_count": 43,
   "id": "ebaae3e3",
   "metadata": {},
   "outputs": [
    {
     "name": "stdout",
     "output_type": "stream",
     "text": [
      "GTI info:\n",
      "- Number of GTIs: 194\n",
      "- Duration: 878748.0685400963 s\n",
      "- Start: 639489613.6 s MET\n",
      "- Start: 2021-04-07T12:01:17.784 (time standard: TT)\n",
      "- Stop: 675086374.6 s MET\n",
      "- Stop: 2022-05-24T12:00:38.784 (time standard: TT)\n",
      "\n"
     ]
    }
   ],
   "source": [
    "print(generate_3d_dataset.gti)"
   ]
  },
  {
   "cell_type": "code",
   "execution_count": null,
   "id": "458eeb24",
   "metadata": {},
   "outputs": [],
   "source": []
  },
  {
   "cell_type": "code",
   "execution_count": 44,
   "id": "6ec462f3",
   "metadata": {},
   "outputs": [
    {
     "name": "stdout",
     "output_type": "stream",
     "text": [
      "<SkyCoord (FK5: equinox=J2000.000): (ra, dec) in deg\n",
      "    (238.929, 11.1901)>\n"
     ]
    }
   ],
   "source": [
    "# Source position from the Events file\n",
    "generate_3d_dataset.get_source_skycoord()\n",
    "print(generate_3d_dataset.source_pos)"
   ]
  },
  {
   "cell_type": "code",
   "execution_count": null,
   "id": "785eb7a0",
   "metadata": {},
   "outputs": [],
   "source": []
  },
  {
   "cell_type": "markdown",
   "id": "82a94419",
   "metadata": {},
   "source": [
    "## Create the Counts Map"
   ]
  },
  {
   "cell_type": "code",
   "execution_count": 45,
   "id": "1c15e216",
   "metadata": {},
   "outputs": [],
   "source": [
    "generate_3d_dataset._counts_map()"
   ]
  },
  {
   "cell_type": "code",
   "execution_count": 46,
   "id": "e5fdda1a",
   "metadata": {},
   "outputs": [
    {
     "data": {
      "text/plain": [
       "WcsNDMap\n",
       "\n",
       "\tgeom  : WcsGeom \n",
       " \taxes  : ['lon', 'lat', 'energy']\n",
       "\tshape : (141, 141, 41)\n",
       "\tndim  : 3\n",
       "\tunit  : \n",
       "\tdtype : float64"
      ]
     },
     "execution_count": 46,
     "metadata": {},
     "output_type": "execute_result"
    }
   ],
   "source": [
    "generate_3d_dataset.counts_map"
   ]
  },
  {
   "cell_type": "code",
   "execution_count": 47,
   "id": "d36020ef",
   "metadata": {},
   "outputs": [
    {
     "data": {
      "text/plain": [
       "WcsGeom\n",
       "\n",
       "\taxes       : ['lon', 'lat', 'energy']\n",
       "\tshape      : (141, 141, 41)\n",
       "\tndim       : 3\n",
       "\tframe      : fk5\n",
       "\tprojection : TAN\n",
       "\tcenter     : 238.9 deg, 11.2 deg\n",
       "\twidth      : 14.1 deg x 14.1 deg\n",
       "\twcs ref    : 238.9 deg, 11.2 deg"
      ]
     },
     "execution_count": 47,
     "metadata": {},
     "output_type": "execute_result"
    }
   ],
   "source": [
    "generate_3d_dataset.counts_map.geom"
   ]
  },
  {
   "cell_type": "code",
   "execution_count": 48,
   "id": "bd52ffa4",
   "metadata": {},
   "outputs": [
    {
     "data": {
      "text/plain": [
       "544.0"
      ]
     },
     "execution_count": 48,
     "metadata": {},
     "output_type": "execute_result"
    }
   ],
   "source": [
    "generate_3d_dataset.counts_map.data.sum()"
   ]
  },
  {
   "cell_type": "code",
   "execution_count": null,
   "id": "3a641623",
   "metadata": {},
   "outputs": [],
   "source": []
  },
  {
   "cell_type": "markdown",
   "id": "ada85dac",
   "metadata": {},
   "source": [
    "### Exclusion mask"
   ]
  },
  {
   "cell_type": "code",
   "execution_count": 49,
   "id": "55ce893b",
   "metadata": {},
   "outputs": [
    {
     "name": "stderr",
     "output_type": "stream",
     "text": [
      "Using the background region from config for exclusion mask\n",
      "Skipping model fermi-diffuse-iso-FRONT - no spatial component present\n"
     ]
    },
    {
     "name": "stdout",
     "output_type": "stream",
     "text": [
      "PG1553+113 0d00m01.25428523s\n",
      "4FGL J1541.7+1413 4d33m31.04787186s\n",
      "4FGL J1546.0+0819 3d43m35.66456158s\n",
      "4FGL J1548.3+1456 4d09m25.61652147s\n",
      "4FGL J1550.7+0528 5d50m45.8432288s\n",
      "4FGL J1603.8+1104 1d59m45.80745452s\n",
      "4FGL J1607.0+1550 5d24m51.76678001s\n",
      "4FGL J1608.7+1029 3d15m49.66282584s\n",
      "4FGL J1612.1+1407 4d57m27.22641296s\n",
      "Separation of models location from selected center [0d00m01.25428523s 4d33m31.04787186s 3d43m35.66456158s 4d09m25.61652147s\n",
      " 5d50m45.84322879s 1d59m45.80745452s 5d24m51.76678001s 3d15m49.66282584s\n",
      " 4d57m27.22641296s 48d06m11.58026544s]\n"
     ]
    }
   ],
   "source": [
    "generate_3d_dataset._create_exclusion_mask()"
   ]
  },
  {
   "cell_type": "code",
   "execution_count": 50,
   "id": "e43a484c",
   "metadata": {},
   "outputs": [
    {
     "name": "stdout",
     "output_type": "stream",
     "text": [
      "WcsNDMap\n",
      "\n",
      "\tgeom  : WcsGeom \n",
      " \taxes  : ['lon', 'lat', 'energy']\n",
      "\tshape : (141, 141, 41)\n",
      "\tndim  : 3\n",
      "\tunit  : \n",
      "\tdtype : bool\n",
      "\n"
     ]
    }
   ],
   "source": [
    "print(generate_3d_dataset.exclusion_mask)"
   ]
  },
  {
   "cell_type": "code",
   "execution_count": 52,
   "id": "019bdd87",
   "metadata": {},
   "outputs": [
    {
     "name": "stdout",
     "output_type": "stream",
     "text": [
      "[]\n"
     ]
    }
   ],
   "source": [
    "print(generate_3d_dataset.exclusion_regions)"
   ]
  },
  {
   "cell_type": "code",
   "execution_count": 51,
   "id": "9dc09742",
   "metadata": {},
   "outputs": [
    {
     "name": "stdout",
     "output_type": "stream",
     "text": [
      "<class 'gammapy.modeling.models.core.Models'> 11\n"
     ]
    }
   ],
   "source": [
    "print(type(generate_3d_dataset.list_sources), len(generate_3d_dataset.list_sources))"
   ]
  },
  {
   "cell_type": "code",
   "execution_count": null,
   "id": "86d08e4e",
   "metadata": {},
   "outputs": [],
   "source": []
  },
  {
   "cell_type": "markdown",
   "id": "dfab56f8",
   "metadata": {},
   "source": [
    "### IRF interpolators"
   ]
  },
  {
   "cell_type": "code",
   "execution_count": 53,
   "id": "47facdbb",
   "metadata": {},
   "outputs": [],
   "source": [
    "generate_3d_dataset._set_edisp_interpolator()"
   ]
  },
  {
   "cell_type": "code",
   "execution_count": 55,
   "id": "b950eae3",
   "metadata": {},
   "outputs": [
    {
     "name": "stdout",
     "output_type": "stream",
     "text": [
      "EDispKernel\n",
      "-----------\n",
      "\n",
      "  axes  : ['energy_true', 'energy']\n",
      "  shape : (41, 41)\n",
      "  ndim  : 2\n",
      "  unit  : \n",
      "  dtype : float64\n",
      "\n"
     ]
    },
    {
     "data": {
      "image/png": "[encoded data removed]",
      "text/plain": [
       "<Figure size 1500x500 with 2 Axes>"
      ]
     },
     "metadata": {},
     "output_type": "display_data"
    }
   ],
   "source": [
    "print(generate_3d_dataset.edisp_interp_kernel)\n",
    "generate_3d_dataset.edisp_interp_kernel.peek()"
   ]
  },
  {
   "cell_type": "code",
   "execution_count": 56,
   "id": "abd0d869",
   "metadata": {},
   "outputs": [],
   "source": [
    "generate_3d_dataset._set_exposure_interpolator()"
   ]
  },
  {
   "cell_type": "code",
   "execution_count": 57,
   "id": "2aa7965b",
   "metadata": {},
   "outputs": [
    {
     "name": "stdout",
     "output_type": "stream",
     "text": [
      "WcsNDMap\n",
      "\n",
      "\tgeom  : WcsGeom \n",
      " \taxes  : ['lon', 'lat', 'energy_true']\n",
      "\tshape : (141, 141, 41)\n",
      "\tndim  : 3\n",
      "\tunit  : cm2 s\n",
      "\tdtype : float64\n",
      "\n"
     ]
    }
   ],
   "source": [
    "print(generate_3d_dataset.exposure_interp)"
   ]
  },
  {
   "cell_type": "code",
   "execution_count": null,
   "id": "95ac2e03",
   "metadata": {},
   "outputs": [],
   "source": []
  },
  {
   "cell_type": "markdown",
   "id": "2a5fe141",
   "metadata": {},
   "source": [
    "### Diffuse background cutout"
   ]
  },
  {
   "cell_type": "code",
   "execution_count": 58,
   "id": "5e9b1cc1",
   "metadata": {},
   "outputs": [
    {
     "name": "stdout",
     "output_type": "stream",
     "text": [
      "SkyModel\n",
      "\n",
      "  Name                      : diffuse-iem\n",
      "  Datasets names            : None\n",
      "  Spectral model type       : PowerLawNormSpectralModel\n",
      "  Spatial  model type       : TemplateSpatialModel\n",
      "  Temporal model type       : \n",
      "  Parameters:\n",
      "    norm                          :      1.000   +/-    0.00             \n",
      "    tilt                  (frozen):      0.000                   \n",
      "    reference             (frozen):      1.000       TeV         \n",
      "\n",
      "\n"
     ]
    }
   ],
   "source": [
    "print(generate_3d_dataset.list_sources[\"diffuse-iem\"])\n",
    "generate_3d_dataset._generate_diffuse_background_cutout()"
   ]
  },
  {
   "cell_type": "code",
   "execution_count": 59,
   "id": "3a3a56aa",
   "metadata": {},
   "outputs": [
    {
     "name": "stdout",
     "output_type": "stream",
     "text": [
      "SkyModel\n",
      "\n",
      "  Name                      : diffuse-iem\n",
      "  Datasets names            : None\n",
      "  Spectral model type       : PowerLawNormSpectralModel\n",
      "  Spatial  model type       : TemplateSpatialModel\n",
      "  Temporal model type       : \n",
      "  Parameters:\n",
      "    norm                          :      1.000   +/-    0.00             \n",
      "    tilt                  (frozen):      0.000                   \n",
      "    reference             (frozen):      1.000       TeV         \n",
      "\n",
      "\n"
     ]
    }
   ],
   "source": [
    "print(generate_3d_dataset.list_sources[\"diffuse-iem\"])"
   ]
  },
  {
   "cell_type": "code",
   "execution_count": 60,
   "id": "37e3764b",
   "metadata": {},
   "outputs": [
    {
     "name": "stdout",
     "output_type": "stream",
     "text": [
      "SkyModel\n",
      "\n",
      "  Name                      : diffuse-iem\n",
      "  Datasets names            : None\n",
      "  Spectral model type       : PowerLawNormSpectralModel\n",
      "  Spatial  model type       : TemplateSpatialModel\n",
      "  Temporal model type       : \n",
      "  Parameters:\n",
      "    norm                          :      1.000   +/-    0.00             \n",
      "    tilt                  (frozen):      0.000                   \n",
      "    reference             (frozen):      1.000       TeV         \n",
      "\n",
      "\n"
     ]
    }
   ],
   "source": [
    "print(generate_3d_dataset.diff_gal_cutout)"
   ]
  },
  {
   "cell_type": "code",
   "execution_count": 61,
   "id": "e764d127",
   "metadata": {},
   "outputs": [
    {
     "name": "stdout",
     "output_type": "stream",
     "text": [
      "WcsNDMap\n",
      "\n",
      "\tgeom  : WcsGeom \n",
      " \taxes  : ['lon', 'lat', 'energy_true']\n",
      "\tshape : (113, 113, 28)\n",
      "\tndim  : 3\n",
      "\tunit  : 1 / (cm2 MeV s sr)\n",
      "\tdtype : >f4\n",
      "\n"
     ]
    }
   ],
   "source": [
    "print(generate_3d_dataset.diffuse_cutout)"
   ]
  },
  {
   "cell_type": "code",
   "execution_count": null,
   "id": "186b020a",
   "metadata": {},
   "outputs": [],
   "source": []
  },
  {
   "cell_type": "markdown",
   "id": "a789d25f",
   "metadata": {},
   "source": [
    "### Produce MapDataset"
   ]
  },
  {
   "cell_type": "code",
   "execution_count": 62,
   "id": "e0d63095",
   "metadata": {},
   "outputs": [
    {
     "name": "stdout",
     "output_type": "stream",
     "text": [
      "Using the exclusion mask to create a safe mask\n"
     ]
    }
   ],
   "source": [
    "dataset = generate_3d_dataset.generate_dataset()"
   ]
  },
  {
   "cell_type": "code",
   "execution_count": 63,
   "id": "aeba72d3",
   "metadata": {},
   "outputs": [
    {
     "name": "stdout",
     "output_type": "stream",
     "text": [
      "MapDataset\n",
      "----------\n",
      "\n",
      "  Name                            : Fermi-LAT_FRONT \n",
      "\n",
      "  Total counts                    : 507 \n",
      "  Total background counts         : nan\n",
      "  Total excess counts             : nan\n",
      "\n",
      "  Predicted counts                : nan\n",
      "  Predicted background counts     : nan\n",
      "  Predicted excess counts         : nan\n",
      "\n",
      "  Exposure min                    : 2.13e+08 cm2 s\n",
      "  Exposure max                    : 7.65e+08 cm2 s\n",
      "\n",
      "  Number of total bins            : 815121 \n",
      "  Number of fit bins              : 745093 \n",
      "\n",
      "  Fit statistic type              : cash\n",
      "  Fit statistic value (-2 log(L)) : nan\n",
      "\n",
      "  Number of models                : 0 \n",
      "  Number of parameters            : 0\n",
      "  Number of free parameters       : 0\n",
      "\n",
      "\n"
     ]
    }
   ],
   "source": [
    "print(dataset)"
   ]
  },
  {
   "cell_type": "code",
   "execution_count": null,
   "id": "2a622bb5",
   "metadata": {},
   "outputs": [],
   "source": []
  },
  {
   "cell_type": "code",
   "execution_count": 65,
   "id": "6532e4d4",
   "metadata": {},
   "outputs": [
    {
     "name": "stdout",
     "output_type": "stream",
     "text": [
      "Models\n",
      "\n",
      "Component 0: SkyModel\n",
      "\n",
      "  Name                      : PG1553+113\n",
      "  Datasets names            : None\n",
      "  Spectral model type       : CompoundSpectralModel\n",
      "  Spatial  model type       : PointSpatialModel\n",
      "  Temporal model type       : \n",
      "  Parameters:\n",
      "    amplitude                     :   1.00e-05   +/- 1.5e-06 1 / (cm2 s TeV)\n",
      "    reference             (frozen):      1.500       GeV         \n",
      "    alpha                         :      1.500   +/-    0.10             \n",
      "    beta                          :      0.100   +/-    0.01             \n",
      "    alpha_norm            (frozen):      1.000                   \n",
      "    redshift              (frozen):      0.433                   \n",
      "    lon_0                 (frozen):      0.382       rad         \n",
      "    lat_0                 (frozen):      0.767       rad         \n",
      "\n",
      "Component 1: SkyModel\n",
      "\n",
      "  Name                      : 4FGL J1541.7+1413\n",
      "  Datasets names            : None\n",
      "  Spectral model type       : PowerLawSpectralModel\n",
      "  Spatial  model type       : PointSpatialModel\n",
      "  Temporal model type       : \n",
      "  Parameters:\n",
      "    index                 (frozen):      1.918                   \n",
      "    amplitude             (frozen):   9.20e-01       1 / (cm2 MeV s)\n",
      "    reference             (frozen):   4846.950       MeV         \n",
      "    lon_0                 (frozen):      0.414       rad         \n",
      "    lat_0                 (frozen):      0.844       rad         \n",
      "\n",
      "Component 2: SkyModel\n",
      "\n",
      "  Name                      : 4FGL J1546.0+0819\n",
      "  Datasets names            : None\n",
      "  Spectral model type       : LogParabolaSpectralModel\n",
      "  Spatial  model type       : PointSpatialModel\n",
      "  Temporal model type       : \n",
      "  Parameters:\n",
      "    amplitude                     :   6.73e+00   +/- 0.0e+00 1 / (cm2 MeV s)\n",
      "    reference             (frozen):   2326.920       MeV         \n",
      "    alpha                         :      1.509   +/-    0.00             \n",
      "    beta                          :      1.000   +/-    0.00             \n",
      "    lon_0                 (frozen):      0.293       rad         \n",
      "    lat_0                 (frozen):      0.780       rad         \n",
      "\n",
      "Component 3: SkyModel\n",
      "\n",
      "  Name                      : 4FGL J1548.3+1456\n",
      "  Datasets names            : None\n",
      "  Spectral model type       : LogParabolaSpectralModel\n",
      "  Spatial  model type       : PointSpatialModel\n",
      "  Temporal model type       : \n",
      "  Parameters:\n",
      "    amplitude                     :   1.34e+00   +/- 0.0e+00 1 / (cm2 MeV s)\n",
      "    reference             (frozen):   1179.140       MeV         \n",
      "    alpha                         :      0.500   +/-    0.00             \n",
      "    beta                          :      0.425   +/-    0.00             \n",
      "    lon_0                 (frozen):      0.448       rad         \n",
      "    lat_0                 (frozen):      0.824       rad         \n",
      "\n",
      "Component 4: SkyModel\n",
      "\n",
      "  Name                      : 4FGL J1550.7+0528\n",
      "  Datasets names            : None\n",
      "  Spectral model type       : LogParabolaSpectralModel\n",
      "  Spatial  model type       : PointSpatialModel\n",
      "  Temporal model type       : \n",
      "  Parameters:\n",
      "    amplitude                     :   8.82e+00   +/- 0.0e+00 1 / (cm2 MeV s)\n",
      "    reference             (frozen):    951.191       MeV         \n",
      "    alpha                 (frozen):      2.287                   \n",
      "    beta                  (frozen):      0.139                   \n",
      "    lon_0                 (frozen):      0.249       rad         \n",
      "    lat_0                 (frozen):      0.737       rad         \n",
      "\n",
      "Component 5: SkyModel\n",
      "\n",
      "  Name                      : 4FGL J1603.8+1104\n",
      "  Datasets names            : None\n",
      "  Spectral model type       : PowerLawSpectralModel\n",
      "  Spatial  model type       : PointSpatialModel\n",
      "  Temporal model type       : \n",
      "  Parameters:\n",
      "    index                 (frozen):      2.117                   \n",
      "    amplitude             (frozen):   1.64e+00       1 / (cm2 MeV s)\n",
      "    reference             (frozen):   3349.730       MeV         \n",
      "    lon_0                 (frozen):      0.401       rad         \n",
      "    lat_0                 (frozen):      0.735       rad         \n",
      "\n",
      "Component 6: SkyModel\n",
      "\n",
      "  Name                      : 4FGL J1607.0+1550\n",
      "  Datasets names            : None\n",
      "  Spectral model type       : LogParabolaSpectralModel\n",
      "  Spatial  model type       : PointSpatialModel\n",
      "  Temporal model type       : \n",
      "  Parameters:\n",
      "    amplitude                     :   5.38e-01   +/- 0.0e+00 1 / (cm2 MeV s)\n",
      "    reference             (frozen):    733.220       MeV         \n",
      "    alpha                 (frozen):      2.146                   \n",
      "    beta                  (frozen):      0.108                   \n",
      "    lon_0                 (frozen):      0.512       rad         \n",
      "    lat_0                 (frozen):      0.758       rad         \n",
      "\n",
      "Component 7: SkyModel\n",
      "\n",
      "  Name                      : 4FGL J1608.7+1029\n",
      "  Datasets names            : None\n",
      "  Spectral model type       : LogParabolaSpectralModel\n",
      "  Spatial  model type       : PointSpatialModel\n",
      "  Temporal model type       : \n",
      "  Parameters:\n",
      "    amplitude                     :   1.93e+00   +/- 0.0e+00 1 / (cm2 MeV s)\n",
      "    reference             (frozen):    541.299       MeV         \n",
      "    alpha                         :      2.592   +/-    0.00             \n",
      "    beta                          :      0.000   +/-    0.00             \n",
      "    lon_0                 (frozen):      0.402       rad         \n",
      "    lat_0                 (frozen):      0.712       rad         \n",
      "\n",
      "Component 8: SkyModel\n",
      "\n",
      "  Name                      : 4FGL J1612.1+1407\n",
      "  Datasets names            : None\n",
      "  Spectral model type       : LogParabolaSpectralModel\n",
      "  Spatial  model type       : PointSpatialModel\n",
      "  Temporal model type       : \n",
      "  Parameters:\n",
      "    amplitude                     :   8.91e+00   +/- 0.0e+00 1 / (cm2 MeV s)\n",
      "    reference             (frozen):   1674.090       MeV         \n",
      "    alpha                         :      2.070   +/-    0.00             \n",
      "    beta                          :      1.000   +/-    0.00             \n",
      "    lon_0                 (frozen):      0.486       rad         \n",
      "    lat_0                 (frozen):      0.726       rad         \n",
      "\n",
      "Component 9: SkyModel\n",
      "\n",
      "  Name                      : diffuse-iem\n",
      "  Datasets names            : None\n",
      "  Spectral model type       : PowerLawNormSpectralModel\n",
      "  Spatial  model type       : TemplateSpatialModel\n",
      "  Temporal model type       : \n",
      "  Parameters:\n",
      "    norm                          :      1.000   +/-    0.00             \n",
      "    tilt                  (frozen):      0.000                   \n",
      "    reference             (frozen):      1.000       TeV         \n",
      "\n",
      "Component 10: SkyModel\n",
      "\n",
      "  Name                      : fermi-diffuse-iso-FRONT\n",
      "  Datasets names            : None\n",
      "  Spectral model type       : CompoundSpectralModel\n",
      "  Spatial  model type       : ConstantSpatialModel\n",
      "  Temporal model type       : \n",
      "  Parameters:\n",
      "    norm                  (frozen):      1.000                   \n",
      "    norm                          :      1.000   +/-    0.00             \n",
      "    tilt                  (frozen):      0.000                   \n",
      "    reference             (frozen):      1.000       TeV         \n",
      "    value                 (frozen):      1.000       1 / sr      \n",
      "\n",
      "\n"
     ]
    }
   ],
   "source": [
    "print(generate_3d_dataset.list_sources)"
   ]
  },
  {
   "cell_type": "code",
   "execution_count": null,
   "id": "de9b9b5c",
   "metadata": {},
   "outputs": [],
   "source": []
  },
  {
   "cell_type": "code",
   "execution_count": 66,
   "id": "086c80de",
   "metadata": {},
   "outputs": [],
   "source": [
    "# Check assinging models to the dataset"
   ]
  },
  {
   "cell_type": "code",
   "execution_count": 67,
   "id": "d8ce118e",
   "metadata": {},
   "outputs": [],
   "source": [
    "dataset.models = generate_3d_dataset.list_sources"
   ]
  },
  {
   "cell_type": "code",
   "execution_count": 68,
   "id": "2bdcc5c0",
   "metadata": {},
   "outputs": [
    {
     "name": "stdout",
     "output_type": "stream",
     "text": [
      "MapDataset\n",
      "----------\n",
      "\n",
      "  Name                            : Fermi-LAT_FRONT \n",
      "\n",
      "  Total counts                    : 507 \n",
      "  Total background counts         : nan\n",
      "  Total excess counts             : nan\n",
      "\n",
      "  Predicted counts                : 157783296933718.47\n",
      "  Predicted background counts     : nan\n",
      "  Predicted excess counts         : 157783296925139.69\n",
      "\n",
      "  Exposure min                    : 2.13e+08 cm2 s\n",
      "  Exposure max                    : 7.65e+08 cm2 s\n",
      "\n",
      "  Number of total bins            : 815121 \n",
      "  Number of fit bins              : 745093 \n",
      "\n",
      "  Fit statistic type              : cash\n",
      "  Fit statistic value (-2 log(L)) : 315566593848453.44\n",
      "\n",
      "  Number of models                : 11 \n",
      "  Number of parameters            : 62\n",
      "  Number of free parameters       : 19\n",
      "\n",
      "  Component 0: SkyModel\n",
      "  \n",
      "    Name                      : PG1553+113\n",
      "    Datasets names            : None\n",
      "    Spectral model type       : CompoundSpectralModel\n",
      "    Spatial  model type       : PointSpatialModel\n",
      "    Temporal model type       : \n",
      "    Parameters:\n",
      "      amplitude                     :   1.00e-05   +/- 1.5e-06 1 / (cm2 s TeV)\n",
      "      reference             (frozen):      1.500       GeV         \n",
      "      alpha                         :      1.500   +/-    0.10             \n",
      "      beta                          :      0.100   +/-    0.01             \n",
      "      alpha_norm            (frozen):      1.000                   \n",
      "      redshift              (frozen):      0.433                   \n",
      "      lon_0                 (frozen):      0.382       rad         \n",
      "      lat_0                 (frozen):      0.767       rad         \n",
      "  \n",
      "  Component 1: SkyModel\n",
      "  \n",
      "    Name                      : 4FGL J1541.7+1413\n",
      "    Datasets names            : None\n",
      "    Spectral model type       : PowerLawSpectralModel\n",
      "    Spatial  model type       : PointSpatialModel\n",
      "    Temporal model type       : \n",
      "    Parameters:\n",
      "      index                 (frozen):      1.918                   \n",
      "      amplitude             (frozen):   9.20e-01       1 / (cm2 MeV s)\n",
      "      reference             (frozen):   4846.950       MeV         \n",
      "      lon_0                 (frozen):      0.414       rad         \n",
      "      lat_0                 (frozen):      0.844       rad         \n",
      "  \n",
      "  Component 2: SkyModel\n",
      "  \n",
      "    Name                      : 4FGL J1546.0+0819\n",
      "    Datasets names            : None\n",
      "    Spectral model type       : LogParabolaSpectralModel\n",
      "    Spatial  model type       : PointSpatialModel\n",
      "    Temporal model type       : \n",
      "    Parameters:\n",
      "      amplitude                     :   6.73e+00   +/- 0.0e+00 1 / (cm2 MeV s)\n",
      "      reference             (frozen):   2326.920       MeV         \n",
      "      alpha                         :      1.509   +/-    0.00             \n",
      "      beta                          :      1.000   +/-    0.00             \n",
      "      lon_0                 (frozen):      0.293       rad         \n",
      "      lat_0                 (frozen):      0.780       rad         \n",
      "  \n",
      "  Component 3: SkyModel\n",
      "  \n",
      "    Name                      : 4FGL J1548.3+1456\n",
      "    Datasets names            : None\n",
      "    Spectral model type       : LogParabolaSpectralModel\n",
      "    Spatial  model type       : PointSpatialModel\n",
      "    Temporal model type       : \n",
      "    Parameters:\n",
      "      amplitude                     :   1.34e+00   +/- 0.0e+00 1 / (cm2 MeV s)\n",
      "      reference             (frozen):   1179.140       MeV         \n",
      "      alpha                         :      0.500   +/-    0.00             \n",
      "      beta                          :      0.425   +/-    0.00             \n",
      "      lon_0                 (frozen):      0.448       rad         \n",
      "      lat_0                 (frozen):      0.824       rad         \n",
      "  \n",
      "  Component 4: SkyModel\n",
      "  \n",
      "    Name                      : 4FGL J1550.7+0528\n",
      "    Datasets names            : None\n",
      "    Spectral model type       : LogParabolaSpectralModel\n",
      "    Spatial  model type       : PointSpatialModel\n",
      "    Temporal model type       : \n",
      "    Parameters:\n",
      "      amplitude                     :   8.82e+00   +/- 0.0e+00 1 / (cm2 MeV s)\n",
      "      reference             (frozen):    951.191       MeV         \n",
      "      alpha                 (frozen):      2.287                   \n",
      "      beta                  (frozen):      0.139                   \n",
      "      lon_0                 (frozen):      0.249       rad         \n",
      "      lat_0                 (frozen):      0.737       rad         \n",
      "  \n",
      "  Component 5: SkyModel\n",
      "  \n",
      "    Name                      : 4FGL J1603.8+1104\n",
      "    Datasets names            : None\n",
      "    Spectral model type       : PowerLawSpectralModel\n",
      "    Spatial  model type       : PointSpatialModel\n",
      "    Temporal model type       : \n",
      "    Parameters:\n",
      "      index                 (frozen):      2.117                   \n",
      "      amplitude             (frozen):   1.64e+00       1 / (cm2 MeV s)\n",
      "      reference             (frozen):   3349.730       MeV         \n",
      "      lon_0                 (frozen):      0.401       rad         \n",
      "      lat_0                 (frozen):      0.735       rad         \n",
      "  \n",
      "  Component 6: SkyModel\n",
      "  \n",
      "    Name                      : 4FGL J1607.0+1550\n",
      "    Datasets names            : None\n",
      "    Spectral model type       : LogParabolaSpectralModel\n",
      "    Spatial  model type       : PointSpatialModel\n",
      "    Temporal model type       : \n",
      "    Parameters:\n",
      "      amplitude                     :   5.38e-01   +/- 0.0e+00 1 / (cm2 MeV s)\n",
      "      reference             (frozen):    733.220       MeV         \n",
      "      alpha                 (frozen):      2.146                   \n",
      "      beta                  (frozen):      0.108                   \n",
      "      lon_0                 (frozen):      0.512       rad         \n",
      "      lat_0                 (frozen):      0.758       rad         \n",
      "  \n",
      "  Component 7: SkyModel\n",
      "  \n",
      "    Name                      : 4FGL J1608.7+1029\n",
      "    Datasets names            : None\n",
      "    Spectral model type       : LogParabolaSpectralModel\n",
      "    Spatial  model type       : PointSpatialModel\n",
      "    Temporal model type       : \n",
      "    Parameters:\n",
      "      amplitude                     :   1.93e+00   +/- 0.0e+00 1 / (cm2 MeV s)\n",
      "      reference             (frozen):    541.299       MeV         \n",
      "      alpha                         :      2.592   +/-    0.00             \n",
      "      beta                          :      0.000   +/-    0.00             \n",
      "      lon_0                 (frozen):      0.402       rad         \n",
      "      lat_0                 (frozen):      0.712       rad         \n",
      "  \n",
      "  Component 8: SkyModel\n",
      "  \n",
      "    Name                      : 4FGL J1612.1+1407\n",
      "    Datasets names            : None\n",
      "    Spectral model type       : LogParabolaSpectralModel\n",
      "    Spatial  model type       : PointSpatialModel\n",
      "    Temporal model type       : \n",
      "    Parameters:\n",
      "      amplitude                     :   8.91e+00   +/- 0.0e+00 1 / (cm2 MeV s)\n",
      "      reference             (frozen):   1674.090       MeV         \n",
      "      alpha                         :      2.070   +/-    0.00             \n",
      "      beta                          :      1.000   +/-    0.00             \n",
      "      lon_0                 (frozen):      0.486       rad         \n",
      "      lat_0                 (frozen):      0.726       rad         \n",
      "  \n",
      "  Component 9: SkyModel\n",
      "  \n",
      "    Name                      : diffuse-iem\n",
      "    Datasets names            : None\n",
      "    Spectral model type       : PowerLawNormSpectralModel\n",
      "    Spatial  model type       : TemplateSpatialModel\n",
      "    Temporal model type       : \n",
      "    Parameters:\n",
      "      norm                          :      1.000   +/-    0.00             \n",
      "      tilt                  (frozen):      0.000                   \n",
      "      reference             (frozen):      1.000       TeV         \n",
      "  \n",
      "  Component 10: SkyModel\n",
      "  \n",
      "    Name                      : fermi-diffuse-iso-FRONT\n",
      "    Datasets names            : None\n",
      "    Spectral model type       : CompoundSpectralModel\n",
      "    Spatial  model type       : ConstantSpatialModel\n",
      "    Temporal model type       : \n",
      "    Parameters:\n",
      "      norm                  (frozen):      1.000                   \n",
      "      norm                          :      1.000   +/-    0.00             \n",
      "      tilt                  (frozen):      0.000                   \n",
      "      reference             (frozen):      1.000       TeV         \n",
      "      value                 (frozen):      1.000       1 / sr      \n",
      "  \n",
      "  \n"
     ]
    }
   ],
   "source": [
    "print(dataset)"
   ]
  },
  {
   "cell_type": "code",
   "execution_count": 70,
   "id": "0e0807b2",
   "metadata": {},
   "outputs": [
    {
     "data": {
      "text/plain": [
       "32.70512468400929"
      ]
     },
     "execution_count": 70,
     "metadata": {},
     "output_type": "execute_result"
    }
   ],
   "source": [
    "dataset.npred_signal(model_name=\"PG1553+113\").data.sum()"
   ]
  },
  {
   "cell_type": "code",
   "execution_count": null,
   "id": "3be410f9",
   "metadata": {},
   "outputs": [],
   "source": []
  }
 ],
 "metadata": {
  "kernelspec": {
   "display_name": "gammapy-dev",
   "language": "python",
   "name": "gammapy-dev"
  },
  "language_info": {
   "codemirror_mode": {
    "name": "ipython",
    "version": 3
   },
   "file_extension": ".py",
   "mimetype": "text/x-python",
   "name": "python",
   "nbconvert_exporter": "python",
   "pygments_lexer": "ipython3",
   "version": "3.8.13"
  }
 },
 "nbformat": 4,
 "nbformat_minor": 5
}
