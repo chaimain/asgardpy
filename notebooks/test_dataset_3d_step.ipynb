{
 "cells": [
  {
   "cell_type": "code",
   "execution_count": 1,
   "id": "7d6fda22",
   "metadata": {},
   "outputs": [
    {
     "name": "stderr",
     "output_type": "stream",
     "text": [
      "WARNING: AstropyDeprecationWarning: The truth value of a Quantity is ambiguous. In the future this will raise a ValueError. [astropy.units.quantity]\n"
     ]
    }
   ],
   "source": [
    "from asgardpy.analysis import AsgardpyAnalysis\n",
    "from asgardpy.config import AsgardpyConfig\n",
    "from asgardpy.data.target import apply_selection_mask_to_models\n",
    "\n",
    "from gammapy.modeling.models import Models, PowerLawSpectralModel\n",
    "\n",
    "import matplotlib.pyplot as plt\n",
    "import numpy as np\n",
    "\n",
    "import astropy.units as u\n",
    "import logging"
   ]
  },
  {
   "cell_type": "code",
   "execution_count": 2,
   "id": "bfc2f79e",
   "metadata": {},
   "outputs": [],
   "source": [
    "from asgardpy.data.dataset_3d import Dataset3DGeneration"
   ]
  },
  {
   "cell_type": "code",
   "execution_count": null,
   "id": "aaf00ba7-92a5-4044-8e70-6bad57b97b7f",
   "metadata": {},
   "outputs": [],
   "source": []
  },
  {
   "cell_type": "code",
   "execution_count": 3,
   "id": "a33c9e1e",
   "metadata": {},
   "outputs": [],
   "source": [
    "log = logging.getLogger(\"test 3d dataset\")"
   ]
  },
  {
   "cell_type": "code",
   "execution_count": 32,
   "id": "92096341",
   "metadata": {},
   "outputs": [],
   "source": [
    "#config_file = \"/path/to/Config.yaml\"\n",
    "config_file = \"/fefs/aswg/workspace/chaitanya.priyadarshi/analyze_pg1553_fermipy.yaml\""
   ]
  },
  {
   "cell_type": "code",
   "execution_count": 33,
   "id": "5982ee75",
   "metadata": {},
   "outputs": [],
   "source": [
    "config = AsgardpyConfig()"
   ]
  },
  {
   "cell_type": "code",
   "execution_count": 34,
   "id": "fff3e9c6",
   "metadata": {},
   "outputs": [
    {
     "name": "stderr",
     "output_type": "stream",
     "text": [
      "WARNING: AstropyDeprecationWarning: The truth value of a Quantity is ambiguous. In the future this will raise a ValueError. [astropy.units.quantity]\n",
      "AstropyDeprecationWarning: The truth value of a Quantity is ambiguous. In the future this will raise a ValueError.\n"
     ]
    },
    {
     "name": "stdout",
     "output_type": "stream",
     "text": [
      "CPU times: user 34.1 ms, sys: 2.88 ms, total: 37 ms\n",
      "Wall time: 34 ms\n"
     ]
    }
   ],
   "source": [
    "%%time\n",
    "config_main = config.read(config_file)"
   ]
  },
  {
   "cell_type": "code",
   "execution_count": 35,
   "id": "0d869263",
   "metadata": {},
   "outputs": [
    {
     "name": "stdout",
     "output_type": "stream",
     "text": [
      "('log', LogConfig(level='info', filename='', filemode='w', format='', datefmt=''))\n",
      "('outdir', PosixPath('/fefs/aswg/workspace/chaitanya.priyadarshi/real_data/AGN/PG1553/v09x/tailcut84/DL3/interp_irf_en_dep/no_tuning/geff_80/teff_80/20220511_dec931/joint_fit/fermipy/test2'))\n",
      "('n_jobs', 1)\n",
      "('steps', [<AnalysisStepEnum.datasets_3d: 'datasets-3d'>, <AnalysisStepEnum.datasets_1d: 'datasets-1d'>, <AnalysisStepEnum.fit: 'fit'>, <AnalysisStepEnum.flux_points: 'flux-points'>])\n",
      "('overwrite', True)\n",
      "('stacked_dataset', True)\n"
     ]
    }
   ],
   "source": [
    "for g in config_main.general:\n",
    "    print(g)"
   ]
  },
  {
   "cell_type": "markdown",
   "id": "f67c315b",
   "metadata": {},
   "source": [
    "# Steps mentioned in the main config file"
   ]
  },
  {
   "cell_type": "code",
   "execution_count": 36,
   "id": "ae942ef3",
   "metadata": {},
   "outputs": [
    {
     "data": {
      "text/plain": [
       "[<AnalysisStepEnum.datasets_3d: 'datasets-3d'>,\n",
       " <AnalysisStepEnum.datasets_1d: 'datasets-1d'>,\n",
       " <AnalysisStepEnum.fit: 'fit'>,\n",
       " <AnalysisStepEnum.flux_points: 'flux-points'>]"
      ]
     },
     "execution_count": 36,
     "metadata": {},
     "output_type": "execute_result"
    }
   ],
   "source": [
    "config_main.general.steps"
   ]
  },
  {
   "cell_type": "markdown",
   "id": "e8841d85",
   "metadata": {},
   "source": [
    "# Target source information"
   ]
  },
  {
   "cell_type": "code",
   "execution_count": 37,
   "id": "e4b13051",
   "metadata": {},
   "outputs": [
    {
     "name": "stdout",
     "output_type": "stream",
     "text": [
      "('source_name', '4FGL J1555.7+1111')\n",
      "('sky_position', SkyCoordConfig(frame=<FrameEnum.icrs: 'icrs'>, lon=<Angle 238.92934976 deg>, lat=<Angle 11.19010155 deg>))\n",
      "('use_uniform_position', True)\n",
      "('models_file', PosixPath('/fefs/aswg/workspace/chaitanya.priyadarshi/pg1553_model_ecpl_fermipy.yaml'))\n",
      "('extended', False)\n",
      "('components', [SkyModelComponent(name='', type='SkyModel', spectral=SpectralModelConfig(type='', parameters=[ModelParams(name='', value=1.0, unit=' ', error=0.1, min=0.1, max=10.0, frozen=True)], ebl_abs=EBLAbsorptionModel(filename=PosixPath('.'), reference='dominguez', type='EBLAbsorptionNormSpectralModel', redshift=0.4, alpha_norm=1.0)), spatial=SpatialModelConfig(type='', parameters=[ModelParams(name='', value=1.0, unit=' ', error=0.1, min=0.1, max=10.0, frozen=True)]))])\n",
      "('covariance', 'None')\n",
      "('from_3d', False)\n",
      "('roi_selection', RoISelectionConfig(roi_radius=<Angle 0. deg>, free_sources=['None']))\n"
     ]
    }
   ],
   "source": [
    "for c in config_main.target:\n",
    "    print(c)"
   ]
  },
  {
   "cell_type": "markdown",
   "id": "96cad898",
   "metadata": {},
   "source": [
    "# 3D Datasets informations"
   ]
  },
  {
   "cell_type": "code",
   "execution_count": 38,
   "id": "e6f98b78",
   "metadata": {},
   "outputs": [
    {
     "name": "stdout",
     "output_type": "stream",
     "text": [
      "('type', <ReductionTypeEnum.cube: '3d'>)\n",
      "('instruments', [Dataset3DBaseConfig(name='Fermi-LAT', io=[InputConfig(type='lat', input_dir=PosixPath('/fefs/aswg/workspace/lst1-agn-paper/LAT/PG1553+113/Analysis3/LST_times/base'), glob_pattern={'events': 'ft1*.fits*', 'edisp': 'drm*.fits*', 'xml_model': 'fit1_0*.xml', 'exposure': 'bexpmap_0*.fits*', 'psf': 'psf*.fits*'}), InputConfig(type='lat-aux', input_dir=PosixPath('/fefs/aswg/workspace/lst1-agn-paper/LAT/diffuse_models'), glob_pattern={'gal_diffuse': '', 'iso_diffuse': ''})], dataset_info=Dataset3DInfoConfig(name='Fermi-LAT', key=['00', '01'], map_selection=[<MapSelectionEnum.counts: 'counts'>, <MapSelectionEnum.exposure: 'exposure'>, <MapSelectionEnum.background: 'background'>, <MapSelectionEnum.psf: 'psf'>, <MapSelectionEnum.edisp: 'edisp'>], geom=GeomConfig(wcs=WcsConfig(skydir=SkyCoordConfig(frame=<FrameEnum.icrs: 'icrs'>, lon=<Angle 0. deg>, lat=<Angle 0. deg>), binsize=<Angle 0.1 deg>, proj=<ProjectionEnum.tan: 'TAN'>, map_frame_shape=MapFrameShapeConfig(width=<Angle 10. deg>, height=<Angle 10. deg>), binsize_irf=<Angle 0.2 deg>), selection=SelectionConfig(offset_max=<Angle 2.5 deg>), axes=[MapAxesConfig(name='energy', axis=EnergyAxisConfig(min=<Quantity 0.3 GeV>, max=<Quantity 0.3 TeV>, nbins=8, per_decade=True), axis_custom=EnergyEdgesCustomConfig(edges=[], unit='TeV'))], from_events_file=True), background=BackgroundConfig(method=<BackgroundMethodEnum.reflected: 'reflected'>, region_finder_method=<BackgroundRegionFinderMethodEnum.wobble: 'wobble'>, parameters={}, exclusion=ExclusionRegionsConfig(target_source=True, regions=[RegionsConfig(type='CircleAnnulusSkyRegion', name='4FGL J1555.7+1111', position=SkyCoordConfig(frame=<FrameEnum.icrs: 'icrs'>, lon=<Angle 238.92934976 deg>, lat=<Angle 11.19010155 deg>), parameters={'rad_0': '8 deg', 'rad_1': '30 deg'})])), safe_mask=SafeMaskConfig(methods=[], parameters={'min': '0.3 GeV', 'max': '0.3 TeV'}), on_region=SpatialCircleConfig(frame=<FrameEnum.icrs: 'icrs'>, lon=<Angle 238.92934976 deg>, lat=<Angle 11.19010155 deg>, radius=<Angle 0.1 rad>), containment_correction=True, spectral_energy_range=MapAxesConfig(name='energy', axis=EnergyAxisConfig(min=<Quantity 0.3 GeV>, max=<Quantity 0.09487 TeV>, nbins=4, per_decade=True), axis_custom=EnergyEdgesCustomConfig(edges=[], unit='TeV'))))])\n"
     ]
    }
   ],
   "source": [
    "for cc in config_main.dataset3d:\n",
    "    print(cc)"
   ]
  },
  {
   "cell_type": "code",
   "execution_count": 39,
   "id": "78dfdca5",
   "metadata": {},
   "outputs": [
    {
     "name": "stdout",
     "output_type": "stream",
     "text": [
      "('fit_range', EnergyRangeConfig(min=<Quantity 300. MeV>, max=<Quantity 1. TeV>))\n",
      "('backend', <BackendEnum.minuit: 'minuit'>)\n",
      "('optimize_opts', {})\n",
      "('covariance_opts', {})\n",
      "('confidence_opts', {})\n",
      "('store_trace', True)\n"
     ]
    }
   ],
   "source": [
    "for cc in config_main.fit_params:\n",
    "    print(cc)"
   ]
  },
  {
   "cell_type": "code",
   "execution_count": 40,
   "id": "4ed95dc2",
   "metadata": {},
   "outputs": [
    {
     "data": {
      "text/plain": [
       "{'level': 'info', 'filename': '', 'filemode': 'w', 'format': '', 'datefmt': ''}"
      ]
     },
     "execution_count": 40,
     "metadata": {},
     "output_type": "execute_result"
    }
   ],
   "source": [
    "config_main.general.log.dict()"
   ]
  },
  {
   "cell_type": "code",
   "execution_count": 41,
   "id": "a0fb7951",
   "metadata": {},
   "outputs": [
    {
     "name": "stderr",
     "output_type": "stream",
     "text": [
      "Setting logging config: {'level': 'INFO', 'filename': '', 'filemode': 'w', 'format': '', 'datefmt': ''}\n"
     ]
    },
    {
     "name": "stdout",
     "output_type": "stream",
     "text": [
      "CPU times: user 31.3 ms, sys: 3.12 ms, total: 34.4 ms\n",
      "Wall time: 31.4 ms\n"
     ]
    }
   ],
   "source": [
    "%%time\n",
    "analysis = AsgardpyAnalysis(config_main)"
   ]
  },
  {
   "cell_type": "code",
   "execution_count": 42,
   "id": "b16d5c25",
   "metadata": {},
   "outputs": [
    {
     "data": {
      "text/plain": [
       "<asgardpy.analysis.analysis.AsgardpyAnalysis at 0x7fde05acd190>"
      ]
     },
     "execution_count": 42,
     "metadata": {},
     "output_type": "execute_result"
    }
   ],
   "source": [
    "analysis"
   ]
  },
  {
   "cell_type": "code",
   "execution_count": null,
   "id": "de064d49",
   "metadata": {},
   "outputs": [],
   "source": []
  },
  {
   "cell_type": "markdown",
   "id": "64e40e78",
   "metadata": {},
   "source": [
    "# Prepare for a single 3D Dataset, based on instrument and key_name"
   ]
  },
  {
   "cell_type": "code",
   "execution_count": 43,
   "id": "2368b75c",
   "metadata": {},
   "outputs": [
    {
     "name": "stdout",
     "output_type": "stream",
     "text": [
      "1 number of 3D dataset information provided\n",
      "Instrument selected is Fermi-LAT\n"
     ]
    }
   ],
   "source": [
    "instruments_list = config_main.dataset3d.instruments\n",
    "print(len(instruments_list), \"number of 3D dataset information provided\")\n",
    "\n",
    "config_3d_dataset = instruments_list[0]\n",
    "print(f\"Instrument selected is {config_3d_dataset.name}\")"
   ]
  },
  {
   "cell_type": "code",
   "execution_count": 44,
   "id": "00935ccc",
   "metadata": {},
   "outputs": [
    {
     "name": "stdout",
     "output_type": "stream",
     "text": [
      "The list of different keys or modes of observations for the selected instrument are ['00', '01']\n"
     ]
    }
   ],
   "source": [
    "key_names = config_3d_dataset.dataset_info.key\n",
    "print(f\"The list of different keys or modes of observations for the selected instrument are {key_names}\")"
   ]
  },
  {
   "cell_type": "markdown",
   "id": "9d99ae35",
   "metadata": {},
   "source": [
    "# Run each Dataset3DGeneration step"
   ]
  },
  {
   "cell_type": "code",
   "execution_count": 45,
   "id": "89f38e52",
   "metadata": {},
   "outputs": [
    {
     "name": "stdout",
     "output_type": "stream",
     "text": [
      "CPU times: user 31 µs, sys: 0 ns, total: 31 µs\n",
      "Wall time: 40.5 µs\n"
     ]
    }
   ],
   "source": [
    "%%time\n",
    "generate_3d_dataset = Dataset3DGeneration(\n",
    "    log, config_3d_dataset, config_main\n",
    ")"
   ]
  },
  {
   "cell_type": "code",
   "execution_count": null,
   "id": "ec50476e",
   "metadata": {},
   "outputs": [],
   "source": []
  },
  {
   "cell_type": "markdown",
   "id": "48610957",
   "metadata": {},
   "source": [
    "## Initialized variables"
   ]
  },
  {
   "cell_type": "code",
   "execution_count": 46,
   "id": "0640b735",
   "metadata": {},
   "outputs": [
    {
     "name": "stdout",
     "output_type": "stream",
     "text": [
      "source_name='4FGL J1555.7+1111' sky_position=SkyCoordConfig(frame=<FrameEnum.icrs: 'icrs'>, lon=<Angle 238.92934976 deg>, lat=<Angle 11.19010155 deg>) use_uniform_position=True models_file=PosixPath('/fefs/aswg/workspace/chaitanya.priyadarshi/pg1553_model_ecpl_fermipy.yaml') extended=False components=[SkyModelComponent(name='', type='SkyModel', spectral=SpectralModelConfig(type='', parameters=[ModelParams(name='', value=1.0, unit=' ', error=0.1, min=0.1, max=10.0, frozen=True)], ebl_abs=EBLAbsorptionModel(filename=PosixPath('.'), reference='dominguez', type='EBLAbsorptionNormSpectralModel', redshift=0.4, alpha_norm=1.0)), spatial=SpatialModelConfig(type='', parameters=[ModelParams(name='', value=1.0, unit=' ', error=0.1, min=0.1, max=10.0, frozen=True)]))] covariance='None' from_3d=False roi_selection=RoISelectionConfig(roi_radius=<Angle 0. deg>, free_sources=['None'])\n"
     ]
    }
   ],
   "source": [
    "print(generate_3d_dataset.config_target)"
   ]
  },
  {
   "cell_type": "code",
   "execution_count": 47,
   "id": "db036bc5",
   "metadata": {},
   "outputs": [
    {
     "name": "stdout",
     "output_type": "stream",
     "text": [
      "None\n"
     ]
    }
   ],
   "source": [
    "print(generate_3d_dataset.exclusion_mask)"
   ]
  },
  {
   "cell_type": "code",
   "execution_count": 48,
   "id": "bac2931e",
   "metadata": {},
   "outputs": [
    {
     "name": "stdout",
     "output_type": "stream",
     "text": [
      "{'exposure': None, 'psf': None, 'edisp': None, 'edisp_kernel': None, 'edisp_interp_kernel': None, 'exposure_interp': None}\n"
     ]
    }
   ],
   "source": [
    "print(generate_3d_dataset.irfs)"
   ]
  },
  {
   "cell_type": "code",
   "execution_count": 49,
   "id": "7d328594",
   "metadata": {},
   "outputs": [
    {
     "name": "stdout",
     "output_type": "stream",
     "text": [
      "{'events': None, 'event_fits': None, 'gti': None, 'counts_map': None}\n"
     ]
    }
   ],
   "source": [
    "print(generate_3d_dataset.events)"
   ]
  },
  {
   "cell_type": "code",
   "execution_count": 50,
   "id": "44d50e8d",
   "metadata": {},
   "outputs": [
    {
     "name": "stdout",
     "output_type": "stream",
     "text": [
      "{'gal_diffuse': None, 'iso_diffuse': None, 'gal_diffuse_cutout': None}\n"
     ]
    }
   ],
   "source": [
    "print(generate_3d_dataset.diffuse_models)"
   ]
  },
  {
   "cell_type": "code",
   "execution_count": 51,
   "id": "b85591de",
   "metadata": {},
   "outputs": [
    {
     "name": "stdout",
     "output_type": "stream",
     "text": [
      "[]\n"
     ]
    }
   ],
   "source": [
    "print(generate_3d_dataset.list_sources)"
   ]
  },
  {
   "cell_type": "code",
   "execution_count": null,
   "id": "4576fdb5",
   "metadata": {},
   "outputs": [],
   "source": []
  },
  {
   "cell_type": "markdown",
   "id": "73f96d8c",
   "metadata": {},
   "source": [
    "### First check for the given file list if they are readable or not."
   ]
  },
  {
   "cell_type": "code",
   "execution_count": 52,
   "id": "4218e5c0",
   "metadata": {},
   "outputs": [
    {
     "name": "stderr",
     "output_type": "stream",
     "text": [
      "Selecting the file with name containing 00\n",
      "Selecting the file with name containing 00\n",
      "Selecting the file with name containing 00\n",
      "Selecting the file with name containing 00\n",
      "WARNING: FITSFixedWarning: RADECSYS= 'FK5 ' \n",
      "the RADECSYS keyword is deprecated, use RADESYSa. [astropy.wcs.wcs]\n",
      "FITSFixedWarning: RADECSYS= 'FK5 ' \n",
      "the RADECSYS keyword is deprecated, use RADESYSa.\n",
      "WARNING: FITSFixedWarning: 'datfix' made the change 'Set DATEREF to '2001-01-01T00:01:04.184' from MJDREF.\n",
      "Set MJD-OBS to 59311.500100 from DATE-OBS.\n",
      "Set MJD-END to 59639.499613 from DATE-END'. [astropy.wcs.wcs]\n",
      "FITSFixedWarning: 'datfix' made the change 'Set DATEREF to '2001-01-01T00:01:04.184' from MJDREF.\n",
      "Set MJD-OBS to 59311.500100 from DATE-OBS.\n",
      "Set MJD-END to 59639.499613 from DATE-END'.\n"
     ]
    },
    {
     "ename": "KeyError",
     "evalue": "\"No object found with tag: ''\"",
     "output_type": "error",
     "traceback": [
      "\u001b[0;31m---------------------------------------------------------------------------\u001b[0m",
      "\u001b[0;31mKeyError\u001b[0m                                  Traceback (most recent call last)",
      "File \u001b[0;32m<timed exec>:1\u001b[0m\n",
      "File \u001b[0;32m/fefs/aswg/workspace/chaitanya.priyadarshi/software/asgardpy/asgardpy/data/dataset_3d.py:273\u001b[0m, in \u001b[0;36mDataset3DGeneration.read_to_objects\u001b[0;34m(self, key_name)\u001b[0m\n\u001b[1;32m    265\u001b[0m             io_ \u001b[38;5;241m=\u001b[39m \u001b[38;5;28mself\u001b[39m\u001b[38;5;241m.\u001b[39mupdate_aux_info_from_xml(\n\u001b[1;32m    266\u001b[0m                 io_, file_list[\u001b[38;5;124m\"\u001b[39m\u001b[38;5;124mxml_file\u001b[39m\u001b[38;5;124m\"\u001b[39m], fetch_gal_diff\u001b[38;5;241m=\u001b[39m\u001b[38;5;28;01mTrue\u001b[39;00m\n\u001b[1;32m    267\u001b[0m             )\n\u001b[1;32m    269\u001b[0m         file_list, [\n\u001b[1;32m    270\u001b[0m             \u001b[38;5;28mself\u001b[39m\u001b[38;5;241m.\u001b[39mdiffuse_models[\u001b[38;5;124m\"\u001b[39m\u001b[38;5;124mgal_diffuse\u001b[39m\u001b[38;5;124m\"\u001b[39m],\n\u001b[1;32m    271\u001b[0m             \u001b[38;5;28mself\u001b[39m\u001b[38;5;241m.\u001b[39mdiffuse_models[\u001b[38;5;124m\"\u001b[39m\u001b[38;5;124miso_diffuse\u001b[39m\u001b[38;5;124m\"\u001b[39m],\n\u001b[1;32m    272\u001b[0m         ] \u001b[38;5;241m=\u001b[39m \u001b[38;5;28mself\u001b[39m\u001b[38;5;241m.\u001b[39mget_base_objects(io_, key_name, file_list)\n\u001b[0;32m--> 273\u001b[0m         \u001b[38;5;28;43mself\u001b[39;49m\u001b[38;5;241;43m.\u001b[39;49m\u001b[43mget_list_objects\u001b[49m\u001b[43m(\u001b[49m\u001b[43mio_\u001b[49m\u001b[38;5;241;43m.\u001b[39;49m\u001b[43minput_dir\u001b[49m\u001b[43m,\u001b[49m\u001b[43m \u001b[49m\u001b[43mfile_list\u001b[49m\u001b[43m[\u001b[49m\u001b[38;5;124;43m\"\u001b[39;49m\u001b[38;5;124;43mxml_file\u001b[39;49m\u001b[38;5;124;43m\"\u001b[39;49m\u001b[43m]\u001b[49m\u001b[43m)\u001b[49m\n\u001b[1;32m    275\u001b[0m \u001b[38;5;28;01mreturn\u001b[39;00m file_list\n",
      "File \u001b[0;32m/fefs/aswg/workspace/chaitanya.priyadarshi/software/asgardpy/asgardpy/data/dataset_3d.py:347\u001b[0m, in \u001b[0;36mDataset3DGeneration.get_list_objects\u001b[0;34m(self, aux_path, xml_file)\u001b[0m\n\u001b[1;32m    345\u001b[0m     source \u001b[38;5;241m=\u001b[39m create_gal_diffuse_skymodel(\u001b[38;5;28mself\u001b[39m\u001b[38;5;241m.\u001b[39mdiffuse_models[\u001b[38;5;124m\"\u001b[39m\u001b[38;5;124mgal_diffuse\u001b[39m\u001b[38;5;124m\"\u001b[39m])\n\u001b[1;32m    346\u001b[0m \u001b[38;5;28;01melse\u001b[39;00m:\n\u001b[0;32m--> 347\u001b[0m     source, is_target_source \u001b[38;5;241m=\u001b[39m \u001b[43mcreate_source_skymodel\u001b[49m\u001b[43m(\u001b[49m\n\u001b[1;32m    348\u001b[0m \u001b[43m        \u001b[49m\u001b[38;5;28;43mself\u001b[39;49m\u001b[38;5;241;43m.\u001b[39;49m\u001b[43mconfig_target\u001b[49m\u001b[43m,\u001b[49m\u001b[43m \u001b[49m\u001b[43msource\u001b[49m\u001b[43m,\u001b[49m\u001b[43m \u001b[49m\u001b[43maux_path\u001b[49m\n\u001b[1;32m    349\u001b[0m \u001b[43m    \u001b[49m\u001b[43m)\u001b[49m\n\u001b[1;32m    350\u001b[0m \u001b[38;5;28;01mif\u001b[39;00m is_target_source:\n\u001b[1;32m    351\u001b[0m     \u001b[38;5;28mself\u001b[39m\u001b[38;5;241m.\u001b[39mlist_sources\u001b[38;5;241m.\u001b[39minsert(\u001b[38;5;241m0\u001b[39m, source)\n",
      "File \u001b[0;32m/fefs/aswg/workspace/chaitanya.priyadarshi/software/asgardpy/asgardpy/data/target.py:811\u001b[0m, in \u001b[0;36mcreate_source_skymodel\u001b[0;34m(config_target, source, aux_path)\u001b[0m\n\u001b[1;32m    809\u001b[0m     \u001b[38;5;66;03m# Only taking the spectral model information right now.\u001b[39;00m\n\u001b[1;32m    810\u001b[0m     \u001b[38;5;28;01mif\u001b[39;00m \u001b[38;5;129;01mnot\u001b[39;00m config_target\u001b[38;5;241m.\u001b[39mfrom_3d:\n\u001b[0;32m--> 811\u001b[0m         spectral_model, _ \u001b[38;5;241m=\u001b[39m \u001b[43mread_models_from_asgardpy_config\u001b[49m\u001b[43m(\u001b[49m\u001b[43mconfig_target\u001b[49m\u001b[43m)\u001b[49m\n\u001b[1;32m    813\u001b[0m \u001b[38;5;28;01mif\u001b[39;00m spectral_model \u001b[38;5;129;01mis\u001b[39;00m \u001b[38;5;28;01mNone\u001b[39;00m:\n\u001b[1;32m    814\u001b[0m     \u001b[38;5;66;03m# Define the Spectral Model type for Gammapy\u001b[39;00m\n\u001b[1;32m    815\u001b[0m     \u001b[38;5;28;01mfor\u001b[39;00m spec \u001b[38;5;129;01min\u001b[39;00m spectrum:\n",
      "File \u001b[0;32m/fefs/aswg/workspace/chaitanya.priyadarshi/software/asgardpy/asgardpy/data/target.py:382\u001b[0m, in \u001b[0;36mread_models_from_asgardpy_config\u001b[0;34m(config)\u001b[0m\n\u001b[1;32m    380\u001b[0m \u001b[38;5;66;03m# Spectral Model\u001b[39;00m\n\u001b[1;32m    381\u001b[0m \u001b[38;5;28;01mif\u001b[39;00m model_config\u001b[38;5;241m.\u001b[39mspectral\u001b[38;5;241m.\u001b[39mebl_abs\u001b[38;5;241m.\u001b[39mreference \u001b[38;5;241m!=\u001b[39m \u001b[38;5;124m\"\u001b[39m\u001b[38;5;124m\"\u001b[39m:\n\u001b[0;32m--> 382\u001b[0m     model1 \u001b[38;5;241m=\u001b[39m \u001b[43mSPECTRAL_MODEL_REGISTRY\u001b[49m\u001b[38;5;241;43m.\u001b[39;49m\u001b[43mget_cls\u001b[49m\u001b[43m(\u001b[49m\u001b[43mmodel_config\u001b[49m\u001b[38;5;241;43m.\u001b[39;49m\u001b[43mspectral\u001b[49m\u001b[38;5;241;43m.\u001b[39;49m\u001b[43mtype\u001b[49m\u001b[43m)\u001b[49m()\u001b[38;5;241m.\u001b[39mfrom_dict(\n\u001b[1;32m    383\u001b[0m         {\u001b[38;5;124m\"\u001b[39m\u001b[38;5;124mspectral\u001b[39m\u001b[38;5;124m\"\u001b[39m: config_to_dict(model_config\u001b[38;5;241m.\u001b[39mspectral)}\n\u001b[1;32m    384\u001b[0m     )\n\u001b[1;32m    386\u001b[0m     ebl_model \u001b[38;5;241m=\u001b[39m model_config\u001b[38;5;241m.\u001b[39mspectral\u001b[38;5;241m.\u001b[39mebl_abs\n\u001b[1;32m    388\u001b[0m     \u001b[38;5;66;03m# First check for filename of a custom EBL model\u001b[39;00m\n",
      "File \u001b[0;32m~/anaconda3/envs/asgardpy/lib/python3.11/site-packages/gammapy/utils/registry.py:14\u001b[0m, in \u001b[0;36mRegistry.get_cls\u001b[0;34m(self, tag)\u001b[0m\n\u001b[1;32m     12\u001b[0m     \u001b[38;5;28;01mif\u001b[39;00m tag \u001b[38;5;129;01min\u001b[39;00m tags:\n\u001b[1;32m     13\u001b[0m         \u001b[38;5;28;01mreturn\u001b[39;00m \u001b[38;5;28mcls\u001b[39m\n\u001b[0;32m---> 14\u001b[0m \u001b[38;5;28;01mraise\u001b[39;00m \u001b[38;5;167;01mKeyError\u001b[39;00m(\u001b[38;5;124mf\u001b[39m\u001b[38;5;124m\"\u001b[39m\u001b[38;5;124mNo object found with tag: \u001b[39m\u001b[38;5;132;01m{\u001b[39;00mtag\u001b[38;5;132;01m!r}\u001b[39;00m\u001b[38;5;124m\"\u001b[39m)\n",
      "\u001b[0;31mKeyError\u001b[0m: \"No object found with tag: ''\""
     ]
    }
   ],
   "source": [
    "%%time\n",
    "file_list = generate_3d_dataset.read_to_objects(key_names[0])"
   ]
  },
  {
   "cell_type": "code",
   "execution_count": 31,
   "id": "bddaa80b",
   "metadata": {},
   "outputs": [
    {
     "ename": "NameError",
     "evalue": "name 'file_list' is not defined",
     "output_type": "error",
     "traceback": [
      "\u001b[0;31m---------------------------------------------------------------------------\u001b[0m",
      "\u001b[0;31mNameError\u001b[0m                                 Traceback (most recent call last)",
      "Cell \u001b[0;32mIn[31], line 1\u001b[0m\n\u001b[0;32m----> 1\u001b[0m \u001b[38;5;28mprint\u001b[39m(\u001b[43mfile_list\u001b[49m)\n",
      "\u001b[0;31mNameError\u001b[0m: name 'file_list' is not defined"
     ]
    }
   ],
   "source": [
    "print(file_list)"
   ]
  },
  {
   "cell_type": "code",
   "execution_count": null,
   "id": "a57b44ce",
   "metadata": {},
   "outputs": [],
   "source": [
    "for k in file_list.keys():\n",
    "    print(k, file_list[k])"
   ]
  },
  {
   "cell_type": "code",
   "execution_count": null,
   "id": "a0b5f6af",
   "metadata": {},
   "outputs": [],
   "source": []
  },
  {
   "cell_type": "code",
   "execution_count": null,
   "id": "1bd5744b",
   "metadata": {},
   "outputs": [],
   "source": [
    "print(generate_3d_dataset.irfs[\"exposure\"])"
   ]
  },
  {
   "cell_type": "code",
   "execution_count": null,
   "id": "399ec664",
   "metadata": {},
   "outputs": [],
   "source": [
    "print(generate_3d_dataset.irfs[\"psf\"])"
   ]
  },
  {
   "cell_type": "code",
   "execution_count": null,
   "id": "adc297b7",
   "metadata": {},
   "outputs": [],
   "source": [
    "print(generate_3d_dataset.irfs[\"edisp\"].info())"
   ]
  },
  {
   "cell_type": "code",
   "execution_count": null,
   "id": "cbcb0713",
   "metadata": {},
   "outputs": [],
   "source": [
    "print(generate_3d_dataset.diffuse_models[\"gal_diffuse\"])"
   ]
  },
  {
   "cell_type": "code",
   "execution_count": null,
   "id": "29dd2c0e",
   "metadata": {},
   "outputs": [],
   "source": [
    "print(generate_3d_dataset.diffuse_models[\"iso_diffuse\"])"
   ]
  },
  {
   "cell_type": "code",
   "execution_count": null,
   "id": "aa66fa9b",
   "metadata": {},
   "outputs": [],
   "source": [
    "print(len(generate_3d_dataset.list_sources), \"number of sources read from XML file\")"
   ]
  },
  {
   "cell_type": "code",
   "execution_count": null,
   "id": "1ee26cbf",
   "metadata": {
    "tags": []
   },
   "outputs": [],
   "source": [
    "for src in generate_3d_dataset.list_sources:\n",
    "    print(src)"
   ]
  },
  {
   "cell_type": "code",
   "execution_count": null,
   "id": "c207768b",
   "metadata": {},
   "outputs": [],
   "source": [
    "print(\"Number of free parameters in the whole list of SkyModels:\", len(Models(generate_3d_dataset.list_sources).parameters.free_parameters))"
   ]
  },
  {
   "cell_type": "code",
   "execution_count": null,
   "id": "a5fe0263",
   "metadata": {},
   "outputs": [],
   "source": [
    "print(\"Names of the sources in the whole list of SkyModels:\", Models(generate_3d_dataset.list_sources).names)"
   ]
  },
  {
   "cell_type": "code",
   "execution_count": null,
   "id": "66aa88c5",
   "metadata": {},
   "outputs": [],
   "source": []
  },
  {
   "cell_type": "markdown",
   "id": "1f93b74c",
   "metadata": {},
   "source": [
    "### Start preparing objects to create the counts map"
   ]
  },
  {
   "cell_type": "code",
   "execution_count": null,
   "id": "fb7e17d2",
   "metadata": {},
   "outputs": [],
   "source": [
    "%%time\n",
    "generate_3d_dataset.set_energy_dispersion_matrix()"
   ]
  },
  {
   "cell_type": "code",
   "execution_count": null,
   "id": "9f57bbce",
   "metadata": {},
   "outputs": [],
   "source": [
    "print(generate_3d_dataset.irfs[\"edisp_kernel\"])\n",
    "generate_3d_dataset.irfs[\"edisp_kernel\"].peek()"
   ]
  },
  {
   "cell_type": "code",
   "execution_count": null,
   "id": "d93fca51",
   "metadata": {},
   "outputs": [],
   "source": []
  },
  {
   "cell_type": "code",
   "execution_count": null,
   "id": "16eacca4",
   "metadata": {},
   "outputs": [],
   "source": [
    "%%time\n",
    "generate_3d_dataset.load_events(file_list[\"events_file\"])"
   ]
  },
  {
   "cell_type": "markdown",
   "id": "6877f12a",
   "metadata": {},
   "source": [
    "### EventList and GTI"
   ]
  },
  {
   "cell_type": "code",
   "execution_count": null,
   "id": "e37b21b2",
   "metadata": {},
   "outputs": [],
   "source": [
    "generate_3d_dataset.events[\"events\"].peek()"
   ]
  },
  {
   "cell_type": "code",
   "execution_count": null,
   "id": "ebaae3e3",
   "metadata": {},
   "outputs": [],
   "source": [
    "print(generate_3d_dataset.events[\"gti\"])"
   ]
  },
  {
   "cell_type": "code",
   "execution_count": null,
   "id": "458eeb24",
   "metadata": {},
   "outputs": [],
   "source": []
  },
  {
   "cell_type": "code",
   "execution_count": null,
   "id": "6ec462f3",
   "metadata": {},
   "outputs": [],
   "source": [
    "%%time\n",
    "# Source position from the Events file\n",
    "source_pos, evts_radius = generate_3d_dataset.get_source_skycoord()\n",
    "print(source_pos, evts_radius)"
   ]
  },
  {
   "cell_type": "code",
   "execution_count": null,
   "id": "785eb7a0",
   "metadata": {},
   "outputs": [],
   "source": []
  },
  {
   "cell_type": "markdown",
   "id": "82a94419",
   "metadata": {},
   "source": [
    "## Create the Counts Map"
   ]
  },
  {
   "cell_type": "code",
   "execution_count": null,
   "id": "1c15e216",
   "metadata": {},
   "outputs": [],
   "source": [
    "%%time\n",
    "generate_3d_dataset.create_counts_map(source_pos, evts_radius)"
   ]
  },
  {
   "cell_type": "code",
   "execution_count": null,
   "id": "e5fdda1a",
   "metadata": {},
   "outputs": [],
   "source": [
    "generate_3d_dataset.events[\"counts_map\"]"
   ]
  },
  {
   "cell_type": "code",
   "execution_count": null,
   "id": "02b30a6c-0d6c-47ec-91f6-e990ce6b792e",
   "metadata": {},
   "outputs": [],
   "source": [
    "generate_3d_dataset.events[\"counts_map\"].plot_interactive()"
   ]
  },
  {
   "cell_type": "code",
   "execution_count": null,
   "id": "3a641623",
   "metadata": {},
   "outputs": [],
   "source": [
    "generate_3d_dataset.events[\"counts_map\"].sum_over_axes().smooth(2).plot(stretch=\"sqrt\", add_cbar=True)"
   ]
  },
  {
   "cell_type": "code",
   "execution_count": null,
   "id": "eb594d80",
   "metadata": {},
   "outputs": [],
   "source": []
  },
  {
   "cell_type": "markdown",
   "id": "ada85dac",
   "metadata": {},
   "source": [
    "### Exclusion mask"
   ]
  },
  {
   "cell_type": "code",
   "execution_count": null,
   "id": "55ce893b",
   "metadata": {},
   "outputs": [],
   "source": [
    "%%time\n",
    "generate_3d_dataset.create_exclusion_mask()"
   ]
  },
  {
   "cell_type": "code",
   "execution_count": null,
   "id": "e43a484c",
   "metadata": {},
   "outputs": [],
   "source": [
    "print(generate_3d_dataset.exclusion_mask)"
   ]
  },
  {
   "cell_type": "code",
   "execution_count": null,
   "id": "f8e65b31-2230-4581-9630-4e353a040569",
   "metadata": {},
   "outputs": [],
   "source": [
    "generate_3d_dataset.exclusion_mask.plot_interactive()"
   ]
  },
  {
   "cell_type": "code",
   "execution_count": null,
   "id": "86d08e4e",
   "metadata": {},
   "outputs": [],
   "source": []
  },
  {
   "cell_type": "markdown",
   "id": "dfab56f8",
   "metadata": {},
   "source": [
    "### IRF interpolators"
   ]
  },
  {
   "cell_type": "code",
   "execution_count": null,
   "id": "47facdbb",
   "metadata": {},
   "outputs": [],
   "source": [
    "%%time\n",
    "generate_3d_dataset.set_edisp_interpolator()"
   ]
  },
  {
   "cell_type": "code",
   "execution_count": null,
   "id": "b950eae3",
   "metadata": {},
   "outputs": [],
   "source": [
    "print(generate_3d_dataset.irfs[\"edisp_interp_kernel\"])\n",
    "generate_3d_dataset.irfs[\"edisp_interp_kernel\"].peek()"
   ]
  },
  {
   "cell_type": "code",
   "execution_count": null,
   "id": "abd0d869",
   "metadata": {},
   "outputs": [],
   "source": [
    "%%time\n",
    "generate_3d_dataset.set_exposure_interpolator()"
   ]
  },
  {
   "cell_type": "code",
   "execution_count": null,
   "id": "2aa7965b",
   "metadata": {},
   "outputs": [],
   "source": [
    "print(generate_3d_dataset.irfs[\"exposure_interp\"])"
   ]
  },
  {
   "cell_type": "code",
   "execution_count": null,
   "id": "95ac2e03",
   "metadata": {},
   "outputs": [],
   "source": []
  },
  {
   "cell_type": "markdown",
   "id": "2a5fe141",
   "metadata": {},
   "source": [
    "### Diffuse background cutout"
   ]
  },
  {
   "cell_type": "code",
   "execution_count": null,
   "id": "5e9b1cc1",
   "metadata": {},
   "outputs": [],
   "source": [
    "%%time\n",
    "generate_3d_dataset.generate_diffuse_background_cutout()"
   ]
  },
  {
   "cell_type": "code",
   "execution_count": null,
   "id": "3a3a56aa",
   "metadata": {},
   "outputs": [],
   "source": [
    "print(Models(generate_3d_dataset.list_sources)[\"diffuse-iem\"])"
   ]
  },
  {
   "cell_type": "code",
   "execution_count": null,
   "id": "37e3764b",
   "metadata": {},
   "outputs": [],
   "source": [
    "print(generate_3d_dataset.diffuse_models[\"gal_diffuse_cutout\"])"
   ]
  },
  {
   "cell_type": "code",
   "execution_count": null,
   "id": "186b020a",
   "metadata": {},
   "outputs": [],
   "source": []
  },
  {
   "cell_type": "markdown",
   "id": "84e7caa5",
   "metadata": {},
   "source": [
    "# Apply Exclusion mask to models"
   ]
  },
  {
   "cell_type": "code",
   "execution_count": null,
   "id": "171fa7b4",
   "metadata": {},
   "outputs": [],
   "source": [
    "generate_3d_dataset.list_sources = apply_selection_mask_to_models(\n",
    "    generate_3d_dataset.list_sources,\n",
    "    target_source=generate_3d_dataset.config_target.source_name,\n",
    "    selection_mask=generate_3d_dataset.exclusion_mask,\n",
    ")"
   ]
  },
  {
   "cell_type": "code",
   "execution_count": null,
   "id": "c7c2e713",
   "metadata": {},
   "outputs": [],
   "source": [
    "for m in generate_3d_dataset.list_sources:\n",
    "    print(m)"
   ]
  },
  {
   "cell_type": "code",
   "execution_count": null,
   "id": "8fbf173e",
   "metadata": {},
   "outputs": [],
   "source": []
  },
  {
   "cell_type": "markdown",
   "id": "a789d25f",
   "metadata": {},
   "source": [
    "### Produce MapDataset"
   ]
  },
  {
   "cell_type": "code",
   "execution_count": null,
   "id": "e0d63095",
   "metadata": {},
   "outputs": [],
   "source": [
    "%%time\n",
    "dataset = generate_3d_dataset.generate_dataset(key_names[0])"
   ]
  },
  {
   "cell_type": "code",
   "execution_count": null,
   "id": "aeba72d3",
   "metadata": {
    "tags": []
   },
   "outputs": [],
   "source": [
    "print(dataset)"
   ]
  },
  {
   "cell_type": "code",
   "execution_count": null,
   "id": "1e88514f-4f15-4971-adf9-0e6b06d8fb0b",
   "metadata": {},
   "outputs": [],
   "source": []
  },
  {
   "cell_type": "code",
   "execution_count": null,
   "id": "6532e4d4",
   "metadata": {
    "tags": []
   },
   "outputs": [],
   "source": [
    "for m in generate_3d_dataset.list_sources:\n",
    "    print(m)"
   ]
  },
  {
   "cell_type": "code",
   "execution_count": null,
   "id": "cdd1edc0-e030-43b8-982c-d33003ae26a1",
   "metadata": {},
   "outputs": [],
   "source": []
  },
  {
   "cell_type": "markdown",
   "id": "40b9634e-bfe1-46bf-b8bf-b0c0e1579224",
   "metadata": {},
   "source": [
    "# Assigning models to the dataset"
   ]
  },
  {
   "cell_type": "code",
   "execution_count": null,
   "id": "d8ce118e",
   "metadata": {},
   "outputs": [],
   "source": [
    "%%time\n",
    "dataset.models = generate_3d_dataset.list_sources"
   ]
  },
  {
   "cell_type": "code",
   "execution_count": null,
   "id": "2bdcc5c0",
   "metadata": {
    "tags": []
   },
   "outputs": [],
   "source": [
    "%%time\n",
    "print(dataset)"
   ]
  },
  {
   "cell_type": "code",
   "execution_count": null,
   "id": "936a9ca2",
   "metadata": {},
   "outputs": [],
   "source": []
  },
  {
   "cell_type": "markdown",
   "id": "8f7af0db",
   "metadata": {},
   "source": [
    "# Some basic plots from the Dataset"
   ]
  },
  {
   "cell_type": "code",
   "execution_count": null,
   "id": "08f27f6e-dd64-482c-9044-e51816516e3f",
   "metadata": {},
   "outputs": [],
   "source": [
    "dataset.mask_safe.plot_interactive()"
   ]
  },
  {
   "cell_type": "code",
   "execution_count": null,
   "id": "bd60c3d7-0f4e-4346-aa54-30c5d77cb39e",
   "metadata": {},
   "outputs": [],
   "source": []
  },
  {
   "cell_type": "code",
   "execution_count": null,
   "id": "9c5cc4bf-29f4-4336-9b57-e986f1065a8b",
   "metadata": {},
   "outputs": [],
   "source": [
    "fig = plt.figure(figsize=(6, 3.8), dpi=120)\n",
    "vmin, vmax = np.percentile(\n",
    "    dataset.counts.sum_over_axes().smooth(\"0.1 deg\").data, \n",
    "    [5, 99.9]\n",
    ")\n",
    "ax = dataset.counts.sum_over_axes().smooth(\"0.2 deg\").plot(\n",
    "    vmin=vmin, vmax=vmax, add_cbar=True, stretch=\"sqrt\",\n",
    ")\n",
    "ax.set_title('CountsMap')"
   ]
  },
  {
   "cell_type": "code",
   "execution_count": null,
   "id": "fd58f24b",
   "metadata": {},
   "outputs": [],
   "source": [
    "dataset.plot_residuals_spectral()"
   ]
  },
  {
   "cell_type": "code",
   "execution_count": null,
   "id": "6e0fbbb6",
   "metadata": {},
   "outputs": [],
   "source": [
    "dataset.plot_residuals_spatial()"
   ]
  },
  {
   "cell_type": "code",
   "execution_count": null,
   "id": "b64dcc1b",
   "metadata": {},
   "outputs": [],
   "source": [
    "dataset.info_dict()"
   ]
  },
  {
   "cell_type": "code",
   "execution_count": null,
   "id": "3be410f9",
   "metadata": {},
   "outputs": [],
   "source": [
    "plt.figure(figsize=(8, 5))\n",
    "axs = plt.subplot(111, projection=dataset.counts.geom.wcs)\n",
    "\n",
    "dataset.counts.sum_over_axes().smooth(0.05 * u.deg).plot(\n",
    "    ax=axs, stretch=\"sqrt\", add_cbar=True, cmap=\"afmhot\"\n",
    ")\n",
    "dataset.models.plot_regions(ax=axs, color=\"white\")\n",
    "axs.set_title(dataset.name)\n",
    "\n",
    "plt.show()"
   ]
  },
  {
   "cell_type": "code",
   "execution_count": null,
   "id": "370074aa-ce83-4966-8110-c2bdab43ad1f",
   "metadata": {},
   "outputs": [],
   "source": [
    "dataset.exposure.plot_interactive(add_cbar=True)"
   ]
  },
  {
   "cell_type": "code",
   "execution_count": null,
   "id": "f6ba3bc5-5dfd-4109-9eac-9d7f02353aa1",
   "metadata": {},
   "outputs": [],
   "source": []
  },
  {
   "cell_type": "code",
   "execution_count": null,
   "id": "3d4d6e44-e61b-4678-a229-f01bae83e8a3",
   "metadata": {},
   "outputs": [],
   "source": [
    "dataset.psf.plot_containment_radius_vs_energy()"
   ]
  },
  {
   "cell_type": "code",
   "execution_count": null,
   "id": "77c38e7d",
   "metadata": {},
   "outputs": [],
   "source": [
    "plt.figure(figsize=(8, 5))\n",
    "\n",
    "energy = [100, 300, 1000] * u.GeV\n",
    "dataset.psf.plot_psf_vs_rad(energy_true=energy)\n",
    "\n",
    "spectrum = PowerLawSpectralModel(index=1.25)\n",
    "psf_mean = dataset.psf.to_image(spectrum=spectrum)\n",
    "psf_mean.plot_psf_vs_rad(c=\"k\", ls=\"--\", energy_true=[500] * u.GeV)\n",
    "\n",
    "plt.xlim(1e-3, 0.3)\n",
    "plt.ylim(1e3, 1e6)\n",
    "plt.legend()"
   ]
  },
  {
   "cell_type": "code",
   "execution_count": null,
   "id": "a475aede-34ca-439d-aa3a-287391acc3e5",
   "metadata": {},
   "outputs": [],
   "source": [
    "radius = dataset.psf.containment_radius(energy_true=1 * u.TeV, fraction=0.95)\n",
    "print(radius)"
   ]
  },
  {
   "cell_type": "code",
   "execution_count": null,
   "id": "ea611006-e557-407f-8a9e-29d2342b6f93",
   "metadata": {},
   "outputs": [],
   "source": [
    "plt.figure()\n",
    "edisp_kernel = dataset.edisp.get_edisp_kernel()\n",
    "edisp_kernel.plot_matrix()"
   ]
  },
  {
   "cell_type": "code",
   "execution_count": null,
   "id": "fd83eacc-8309-453f-ac1b-c9084af3b6de",
   "metadata": {},
   "outputs": [],
   "source": []
  },
  {
   "cell_type": "code",
   "execution_count": null,
   "id": "0fec0deb-1433-4957-9ee9-7c0835687a62",
   "metadata": {},
   "outputs": [],
   "source": [
    "plt.figure()\n",
    "npred = dataset.npred()\n",
    "npred.sum_over_axes().plot(add_cbar=True)"
   ]
  },
  {
   "cell_type": "code",
   "execution_count": null,
   "id": "f98c9816",
   "metadata": {},
   "outputs": [],
   "source": []
  }
 ],
 "metadata": {
  "kernelspec": {
   "display_name": "asgardpy",
   "language": "python",
   "name": "asgardpy"
  },
  "language_info": {
   "codemirror_mode": {
    "name": "ipython",
    "version": 3
   },
   "file_extension": ".py",
   "mimetype": "text/x-python",
   "name": "python",
   "nbconvert_exporter": "python",
   "pygments_lexer": "ipython3",
   "version": "3.11.3"
  }
 },
 "nbformat": 4,
 "nbformat_minor": 5
}
