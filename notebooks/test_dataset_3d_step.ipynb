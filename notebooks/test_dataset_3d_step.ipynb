{
 "cells": [
  {
   "cell_type": "code",
   "execution_count": 1,
   "id": "7d6fda22",
   "metadata": {},
   "outputs": [],
   "source": [
    "import logging\n",
    "import os\n",
    "\n",
    "import astropy.units as u\n",
    "import matplotlib.pyplot as plt\n",
    "import numpy as np\n",
    "from gammapy.datasets import Datasets, MapDataset\n",
    "from gammapy.modeling.models import Models, PowerLawSpectralModel\n",
    "\n",
    "from asgardpy.analysis import AsgardpyAnalysis\n",
    "from asgardpy.config import AsgardpyConfig"
   ]
  },
  {
   "cell_type": "code",
   "execution_count": 2,
   "id": "bfc2f79e",
   "metadata": {},
   "outputs": [],
   "source": [
    "from asgardpy.base.geom import create_counts_map, get_source_position\n",
    "from asgardpy.base.reduction import (\n",
    "    get_exclusion_region_mask,\n",
    ")\n",
    "from asgardpy.data.dataset_3d import Dataset3DGeneration\n",
    "from asgardpy.data.target import apply_selection_mask_to_models"
   ]
  },
  {
   "cell_type": "code",
   "execution_count": 3,
   "id": "aaf00ba7-92a5-4044-8e70-6bad57b97b7f",
   "metadata": {},
   "outputs": [],
   "source": [
    "# os.environ['GAMMAPY_DATA']"
   ]
  },
  {
   "cell_type": "code",
   "execution_count": 4,
   "id": "a33c9e1e",
   "metadata": {},
   "outputs": [],
   "source": [
    "log = logging.getLogger(\"test 3d dataset\")"
   ]
  },
  {
   "cell_type": "code",
   "execution_count": 5,
   "id": "92096341",
   "metadata": {},
   "outputs": [],
   "source": [
    "config_file = \"../src/asgardpy/tests/config_hawc.yaml\""
   ]
  },
  {
   "cell_type": "code",
   "execution_count": 6,
   "id": "5982ee75",
   "metadata": {},
   "outputs": [],
   "source": [
    "config = AsgardpyConfig()"
   ]
  },
  {
   "cell_type": "code",
   "execution_count": 7,
   "id": "fff3e9c6",
   "metadata": {},
   "outputs": [
    {
     "name": "stdout",
     "output_type": "stream",
     "text": [
      "CPU times: user 23.9 ms, sys: 0 ns, total: 23.9 ms\n",
      "Wall time: 22.9 ms\n"
     ]
    }
   ],
   "source": [
    "%%time\n",
    "config_main = config.read(config_file)"
   ]
  },
  {
   "cell_type": "code",
   "execution_count": null,
   "id": "3665ec86-725c-41af-aae7-31206978bb30",
   "metadata": {},
   "outputs": [],
   "source": []
  },
  {
   "cell_type": "markdown",
   "id": "0558f5c1-3191-48aa-83bb-8d24940ea734",
   "metadata": {},
   "source": [
    "# Update path of test data"
   ]
  },
  {
   "cell_type": "code",
   "execution_count": 8,
   "id": "98c7ae53-526b-4d9a-aa7d-7c1dfe1a03c2",
   "metadata": {},
   "outputs": [],
   "source": [
    "config_main.dataset3d.instruments[0].input_dl3[\n",
    "    0\n",
    "].input_dir = f\"{os.environ['GAMMAPY_DATA']}hawc/crab_events_pass4/\"\n",
    "# config_main.dataset3d.instruments[0].input_dl3[1].input_dir = f\"{os.environ['GAMMAPY_DATA']}fermipy-crab/\"\n",
    "# config_main.dataset1d.instruments[0].input_dl3[0].input_dir = f\"{os.environ['GAMMAPY_DATA']}hess-dl3-dr1/\""
   ]
  },
  {
   "cell_type": "code",
   "execution_count": null,
   "id": "91cb2049-7d5a-4ed0-b9e0-853507290c43",
   "metadata": {},
   "outputs": [],
   "source": []
  },
  {
   "cell_type": "code",
   "execution_count": 9,
   "id": "0d869263",
   "metadata": {
    "scrolled": true
   },
   "outputs": [
    {
     "data": {
      "text/plain": [
       "{'log': {'level': 'info',\n",
       "  'filename': '',\n",
       "  'filemode': 'w',\n",
       "  'format': '',\n",
       "  'datefmt': ''},\n",
       " 'outdir': PosixPath('..'),\n",
       " 'n_jobs': 10,\n",
       " 'parallel_backend': 'multiprocessing',\n",
       " 'steps': ['datasets-3d', 'datasets-1d', 'fit', 'flux-points'],\n",
       " 'overwrite': True,\n",
       " 'stacked_dataset': True}"
      ]
     },
     "execution_count": 9,
     "metadata": {},
     "output_type": "execute_result"
    }
   ],
   "source": [
    "config_main.general.model_dump()"
   ]
  },
  {
   "cell_type": "markdown",
   "id": "f67c315b",
   "metadata": {},
   "source": [
    "# Steps mentioned in the main config file"
   ]
  },
  {
   "cell_type": "code",
   "execution_count": 10,
   "id": "ae942ef3",
   "metadata": {},
   "outputs": [
    {
     "data": {
      "text/plain": [
       "['datasets-3d', 'datasets-1d', 'fit', 'flux-points']"
      ]
     },
     "execution_count": 10,
     "metadata": {},
     "output_type": "execute_result"
    }
   ],
   "source": [
    "config_main.general.steps"
   ]
  },
  {
   "cell_type": "markdown",
   "id": "e8841d85",
   "metadata": {},
   "source": [
    "# Target source information"
   ]
  },
  {
   "cell_type": "code",
   "execution_count": 11,
   "id": "e4b13051",
   "metadata": {
    "scrolled": true
   },
   "outputs": [
    {
     "data": {
      "text/plain": [
       "{'source_name': '4FGL J0534.5+2201i',\n",
       " 'sky_position': {'frame': 'icrs',\n",
       "  'lon': <Quantity 83.6338333 deg>,\n",
       "  'lat': <Quantity 22.0145 deg>,\n",
       "  'radius': <Quantity 0. deg>},\n",
       " 'use_uniform_position': True,\n",
       " 'models_file': PosixPath('.'),\n",
       " 'datasets_with_fov_bkg_model': [],\n",
       " 'use_catalog': {'name': '',\n",
       "  'selection_radius': <Quantity 0. deg>,\n",
       "  'exclusion_radius': <Quantity 0. deg>},\n",
       " 'components': [{'name': '4FGL J0534.5+2201i',\n",
       "   'type': 'SkyModel',\n",
       "   'datasets_names': [''],\n",
       "   'spectral': {'type': 'LogParabolaSpectralModel',\n",
       "    'parameters': [{'name': 'amplitude',\n",
       "      'value': 1e-06,\n",
       "      'unit': 'cm-2 s-1 TeV-1',\n",
       "      'error': 1.5e-07,\n",
       "      'min': 1e-13,\n",
       "      'max': 0.01,\n",
       "      'frozen': False},\n",
       "     {'name': 'reference',\n",
       "      'value': 0.015,\n",
       "      'unit': 'TeV',\n",
       "      'error': 0.0,\n",
       "      'min': 0.0001,\n",
       "      'max': 100.0,\n",
       "      'frozen': True},\n",
       "     {'name': 'alpha',\n",
       "      'value': 1.7,\n",
       "      'unit': '',\n",
       "      'error': 0.1,\n",
       "      'min': 0.5,\n",
       "      'max': 5.0,\n",
       "      'frozen': False},\n",
       "     {'name': 'beta',\n",
       "      'value': 0.1,\n",
       "      'unit': '',\n",
       "      'error': 0.001,\n",
       "      'min': 1e-06,\n",
       "      'max': 1.0,\n",
       "      'frozen': False}],\n",
       "    'ebl_abs': {'filename': PosixPath('.'),\n",
       "     'reference': 'dominguez',\n",
       "     'type': 'EBLAbsorptionNormSpectralModel',\n",
       "     'redshift': 0.0,\n",
       "     'alpha_norm': 1.0}},\n",
       "   'spatial': {'type': '',\n",
       "    'frame': 'icrs',\n",
       "    'parameters': [{'name': '',\n",
       "      'value': 1.0,\n",
       "      'unit': ' ',\n",
       "      'error': 0.1,\n",
       "      'min': 0.1,\n",
       "      'max': 10.0,\n",
       "      'frozen': True}]}}],\n",
       " 'covariance': 'None',\n",
       " 'from_3d': False,\n",
       " 'roi_selection': {'roi_radius': <Quantity 0. deg>,\n",
       "  'free_sources': ['4FGL J0521.7+2112',\n",
       "   '4FGL J0528.3+1817',\n",
       "   '4FGL J0536.2+1733',\n",
       "   '4FGL J0534.5+2200']}}"
      ]
     },
     "execution_count": 11,
     "metadata": {},
     "output_type": "execute_result"
    }
   ],
   "source": [
    "config_main.target.model_dump()"
   ]
  },
  {
   "cell_type": "markdown",
   "id": "96cad898",
   "metadata": {},
   "source": [
    "# 3D Datasets informations"
   ]
  },
  {
   "cell_type": "code",
   "execution_count": 10,
   "id": "e6f98b78",
   "metadata": {
    "scrolled": true
   },
   "outputs": [
    {
     "data": {
      "text/plain": [
       "{'type': '3d',\n",
       " 'instruments': [{'name': 'HAWC',\n",
       "   'input_dl3': [{'type': 'hawc',\n",
       "     'input_dir': PosixPath('/home/chaitanya/software/gammapy-datasets/1.2/hawc/crab_events_pass4'),\n",
       "     'glob_pattern': {'en_est': '*NN*fits.gz',\n",
       "      'transit': 'irfs/TransitsMap*fits.gz'}}],\n",
       "   'input_dl4': False,\n",
       "   'dataset_info': {'name': 'HAWC',\n",
       "    'key': [],\n",
       "    'observation': {'obs_ids': [],\n",
       "     'event_type': [5, 6, 7, 8, 9],\n",
       "     'obs_file': PosixPath('.'),\n",
       "     'obs_time': [],\n",
       "     'obs_cone': {'frame': 'icrs',\n",
       "      'lon': <Quantity 0. deg>,\n",
       "      'lat': <Quantity 0. deg>,\n",
       "      'radius': <Quantity 0. deg>},\n",
       "     'required_irfs': ['aeff']},\n",
       "    'map_selection': ['counts', 'background', 'exposure', 'edisp', 'psf'],\n",
       "    'geom': {'wcs': {'skydir': {'frame': 'icrs',\n",
       "       'lon': <Quantity 0. deg>,\n",
       "       'lat': <Quantity 0. deg>,\n",
       "       'radius': <Quantity 0. deg>},\n",
       "      'binsize': <Quantity 0.02 deg>,\n",
       "      'proj': 'TAN',\n",
       "      'map_frame_shape': {'width': <Quantity 6. deg>,\n",
       "       'height': <Quantity 6. deg>},\n",
       "      'binsize_irf': <Quantity 0.2 deg>},\n",
       "     'selection': {'offset_max': <Quantity 2.5 deg>},\n",
       "     'axes': [{'name': 'energy',\n",
       "       'axis': {'min': <Quantity 1. TeV>,\n",
       "        'max': <Quantity 316. TeV>,\n",
       "        'nbins': 4,\n",
       "        'per_decade': True},\n",
       "       'axis_custom': {'edges': [1.0,\n",
       "         1.78,\n",
       "         3.16,\n",
       "         5.62,\n",
       "         10.0,\n",
       "         17.8,\n",
       "         31.6,\n",
       "         56.2,\n",
       "         100.0,\n",
       "         177.0,\n",
       "         316.0],\n",
       "        'unit': 'TeV'}},\n",
       "      {'name': 'energy_true',\n",
       "       'axis': {'min': <Quantity 10. GeV>,\n",
       "        'max': <Quantity 10000. TeV>,\n",
       "        'nbins': 10,\n",
       "        'per_decade': True},\n",
       "       'axis_custom': {'edges': [], 'unit': 'TeV'}}],\n",
       "     'from_events_file': True,\n",
       "     'reco_psf': True},\n",
       "    'background': {'method': 'reflected',\n",
       "     'region_finder_method': 'wobble',\n",
       "     'parameters': {},\n",
       "     'exclusion': {'target_source': True,\n",
       "      'regions': [{'type': 'CircleAnnulusSkyRegion',\n",
       "        'name': '4FGL J0534.5+2201i',\n",
       "        'position': {'frame': 'icrs',\n",
       "         'lon': <Quantity 83.6338333 deg>,\n",
       "         'lat': <Quantity 22.0145 deg>,\n",
       "         'radius': <Quantity 0. deg>},\n",
       "        'parameters': {'rad_0': '1 deg', 'rad_1': '30 deg'}},\n",
       "       {'type': 'CircleSkyRegion',\n",
       "        'name': '4FGL J0521.7+2112',\n",
       "        'position': {'frame': 'icrs',\n",
       "         'lon': <Quantity 0. deg>,\n",
       "         'lat': <Quantity 0. deg>,\n",
       "         'radius': <Quantity 0. deg>},\n",
       "        'parameters': {'region_radius': '0.5 deg'}}],\n",
       "      'exclusion_file': PosixPath('.')}},\n",
       "    'safe_mask': {'methods': ['aeff-max'], 'parameters': {'aeff_percent': 10}},\n",
       "    'on_region': {'frame': 'icrs',\n",
       "     'lon': <Quantity 83.6338333 deg>,\n",
       "     'lat': <Quantity 22.0145 deg>,\n",
       "     'radius': <Quantity 0. deg>},\n",
       "    'containment_correction': True},\n",
       "   'dl4_dataset_info': {'dl4_dataset': {'type': 'MapDataset',\n",
       "     'input_dir': PosixPath('.'),\n",
       "     'glob_pattern': 'pha*fits',\n",
       "     'dl4_format': 'gadf'},\n",
       "    'spectral_energy_range': {'name': 'energy',\n",
       "     'axis': {'min': <Quantity 1. TeV>,\n",
       "      'max': <Quantity 316. TeV>,\n",
       "      'nbins': 5,\n",
       "      'per_decade': True},\n",
       "     'axis_custom': {'edges': [], 'unit': 'TeV'}}}}]}"
      ]
     },
     "execution_count": 10,
     "metadata": {},
     "output_type": "execute_result"
    }
   ],
   "source": [
    "config_main.dataset3d.model_dump()"
   ]
  },
  {
   "cell_type": "code",
   "execution_count": 13,
   "id": "78dfdca5",
   "metadata": {},
   "outputs": [
    {
     "data": {
      "text/plain": [
       "{'fit_range': {'min': <Quantity 1. GeV>, 'max': <Quantity 40. TeV>},\n",
       " 'backend': 'minuit',\n",
       " 'optimize_opts': {},\n",
       " 'covariance_opts': {},\n",
       " 'confidence_opts': {},\n",
       " 'store_trace': True}"
      ]
     },
     "execution_count": 13,
     "metadata": {},
     "output_type": "execute_result"
    }
   ],
   "source": [
    "config_main.fit_params.model_dump()"
   ]
  },
  {
   "cell_type": "code",
   "execution_count": 9,
   "id": "a0fb7951",
   "metadata": {},
   "outputs": [
    {
     "name": "stderr",
     "output_type": "stream",
     "text": [
      "Setting logging config: {'level': 'INFO', 'filename': '', 'filemode': 'w', 'format': '', 'datefmt': ''}\n"
     ]
    },
    {
     "name": "stdout",
     "output_type": "stream",
     "text": [
      "CPU times: user 3.3 ms, sys: 24 μs, total: 3.32 ms\n",
      "Wall time: 2.94 ms\n"
     ]
    }
   ],
   "source": [
    "%%time\n",
    "analysis = AsgardpyAnalysis(config_main)"
   ]
  },
  {
   "cell_type": "code",
   "execution_count": 38,
   "id": "b16d5c25",
   "metadata": {},
   "outputs": [
    {
     "data": {
      "text/plain": [
       "<asgardpy.analysis.analysis.AsgardpyAnalysis at 0x73f362490680>"
      ]
     },
     "execution_count": 38,
     "metadata": {},
     "output_type": "execute_result"
    }
   ],
   "source": [
    "analysis"
   ]
  },
  {
   "cell_type": "code",
   "execution_count": null,
   "id": "5ebb3af9-fffc-4359-ba3c-0a78fbf58bd2",
   "metadata": {},
   "outputs": [],
   "source": []
  },
  {
   "cell_type": "code",
   "execution_count": 10,
   "id": "db259f74-2f81-4a3f-8b7c-a676f846f38a",
   "metadata": {
    "scrolled": true
   },
   "outputs": [
    {
     "name": "stderr",
     "output_type": "stream",
     "text": [
      "Perform DL3 to DL4 process!\n",
      "1 number of 3D Datasets given\n",
      "No distinct keys used for the 3D dataset\n",
      "Observation ID list selected: 103000133\n",
      "Observations selected: 1 out of 1.\n"
     ]
    },
    {
     "name": "stdout",
     "output_type": "stream",
     "text": [
      "Preparing for fHit number  5\n"
     ]
    },
    {
     "name": "stderr",
     "output_type": "stream",
     "text": [
      "Observation ID list selected: 103000133\n",
      "Observations selected: 1 out of 1.\n"
     ]
    },
    {
     "name": "stdout",
     "output_type": "stream",
     "text": [
      "Preparing for fHit number  6\n"
     ]
    },
    {
     "name": "stderr",
     "output_type": "stream",
     "text": [
      "Observation ID list selected: 103000133\n",
      "Observations selected: 1 out of 1.\n"
     ]
    },
    {
     "name": "stdout",
     "output_type": "stream",
     "text": [
      "Preparing for fHit number  7\n"
     ]
    },
    {
     "name": "stderr",
     "output_type": "stream",
     "text": [
      "Observation ID list selected: 103000133\n",
      "Observations selected: 1 out of 1.\n"
     ]
    },
    {
     "name": "stdout",
     "output_type": "stream",
     "text": [
      "Preparing for fHit number  8\n"
     ]
    },
    {
     "name": "stderr",
     "output_type": "stream",
     "text": [
      "Observation ID list selected: 103000133\n",
      "Observations selected: 1 out of 1.\n"
     ]
    },
    {
     "name": "stdout",
     "output_type": "stream",
     "text": [
      "Preparing for fHit number  9\n"
     ]
    },
    {
     "name": "stderr",
     "output_type": "stream",
     "text": [
      "Analysis Step datasets-3d completed\n",
      "Models have been associated with the Datasets\n"
     ]
    }
   ],
   "source": [
    "analysis.run([\"datasets-3d\"])"
   ]
  },
  {
   "cell_type": "code",
   "execution_count": null,
   "id": "4e157ee5-967a-41a6-8d2c-d0c95f52672a",
   "metadata": {},
   "outputs": [],
   "source": []
  },
  {
   "cell_type": "code",
   "execution_count": 11,
   "id": "5bfe9417-37b0-4d15-a757-e73226a6fb50",
   "metadata": {
    "scrolled": true
   },
   "outputs": [
    {
     "name": "stdout",
     "output_type": "stream",
     "text": [
      "MapDataset\n",
      "----------\n",
      "\n",
      "  Name                            : nHit-5 \n",
      "\n",
      "  Total counts                    : 7212 \n",
      "  Total background counts         : 6999.17\n",
      "  Total excess counts             : 212.83\n",
      "\n",
      "  Predicted counts                : 14089.19\n",
      "  Predicted background counts     : 6999.17\n",
      "  Predicted excess counts         : 7090.01\n",
      "\n",
      "  Exposure min                    : 2.33e+08 cm2 s\n",
      "  Exposure max                    : 4.95e+13 cm2 s\n",
      "\n",
      "  Number of total bins            : 900000 \n",
      "  Number of fit bins              : 360000 \n",
      "\n",
      "  Fit statistic type              : cash\n",
      "  Fit statistic value (-2 log(L)) : 75060.94\n",
      "\n",
      "  Number of models                : 1 \n",
      "  Number of parameters            : 8\n",
      "  Number of free parameters       : 3\n",
      "\n",
      "  Component 0: SkyModel\n",
      "  \n",
      "    Name                      : 4FGL J0534.5+2201i\n",
      "    Datasets names            : None\n",
      "    Spectral model type       : CompoundSpectralModel\n",
      "    Spatial  model type       : PointSpatialModel\n",
      "    Temporal model type       : \n",
      "    Parameters:\n",
      "      amplitude                     :   1.00e-11   +/- 1.5e-12 1 / (TeV s cm2)\n",
      "      reference             (frozen):      7.000       TeV         \n",
      "      alpha                         :      2.700   +/-    0.10             \n",
      "      beta                          :      0.100   +/-    0.00             \n",
      "      alpha_norm            (frozen):      1.000                   \n",
      "      redshift              (frozen):      0.000                   \n",
      "      lon_0                 (frozen):     83.634       deg         \n",
      "      lat_0                 (frozen):     22.015       deg         \n",
      "  \n",
      "  \n"
     ]
    }
   ],
   "source": [
    "for d in analysis.datasets:\n",
    "    print(d)"
   ]
  },
  {
   "cell_type": "code",
   "execution_count": 12,
   "id": "39c89003-826c-480e-89cc-fa230072105a",
   "metadata": {},
   "outputs": [
    {
     "data": {
      "text/html": [
       "<pre>WcsNDMap\n",
       "\n",
       "\tgeom  : WcsGeom \n",
       " \taxes  : [&#x27;lon&#x27;, &#x27;lat&#x27;, &#x27;energy_true&#x27;]\n",
       "\tshape : (300, 300, 60)\n",
       "\tndim  : 3\n",
       "\tunit  : cm2 s\n",
       "\tdtype : float64\n",
       "</pre>"
      ],
      "text/plain": [
       "<gammapy.maps.wcs.ndmap.WcsNDMap at 0x73f363916de0>"
      ]
     },
     "execution_count": 12,
     "metadata": {},
     "output_type": "execute_result"
    }
   ],
   "source": [
    "analysis.datasets[0].exposure"
   ]
  },
  {
   "cell_type": "code",
   "execution_count": 13,
   "id": "342e7dd1-67ac-454b-8a94-d8032a123788",
   "metadata": {},
   "outputs": [
    {
     "name": "stdout",
     "output_type": "stream",
     "text": [
      "WcsNDMap\n",
      "\n",
      "\tgeom  : WcsGeom \n",
      " \taxes  : ['lon', 'lat', 'rad', 'energy']\n",
      "\tshape : (30, 30, 66, 10)\n",
      "\tndim  : 4\n",
      "\tunit  : 1 / deg2\n",
      "\tdtype : float64\n",
      "\n"
     ]
    }
   ],
   "source": [
    "print(analysis.datasets[0].psf)"
   ]
  },
  {
   "cell_type": "code",
   "execution_count": 20,
   "id": "de064d49",
   "metadata": {},
   "outputs": [],
   "source": [
    "analysis.datasets[0].psf.exposure_map = analysis.datasets[0].exposure"
   ]
  },
  {
   "cell_type": "code",
   "execution_count": null,
   "id": "0d1fa940-0715-4aed-b7aa-178e7ce541e0",
   "metadata": {},
   "outputs": [],
   "source": []
  },
  {
   "cell_type": "code",
   "execution_count": 17,
   "id": "69a2b64f-c8d3-470a-86d5-48e7872f2baf",
   "metadata": {},
   "outputs": [],
   "source": [
    "for d in analysis.datasets:\n",
    "    # d.psf.exposure_map = d.exposure\n",
    "    # g = d.psf.exposure_map.geom.squash(\"energy_true\")\n",
    "    # d.psf.exposure_map._geom = g #d.psf.exposure_map.geom.interp_to_geom(g.to_image())\n",
    "    d.mask_safe = None"
   ]
  },
  {
   "cell_type": "code",
   "execution_count": null,
   "id": "f2595d81-73d1-4b08-b986-df87bc580505",
   "metadata": {},
   "outputs": [],
   "source": []
  },
  {
   "cell_type": "code",
   "execution_count": 18,
   "id": "2444cf01-2e97-4e70-9608-ad25ec9b4287",
   "metadata": {
    "scrolled": true
   },
   "outputs": [
    {
     "ename": "ValueError",
     "evalue": "('energy', 'should have only one bin')",
     "output_type": "error",
     "traceback": [
      "\u001b[0;31m---------------------------------------------------------------------------\u001b[0m",
      "\u001b[0;31mValueError\u001b[0m                                Traceback (most recent call last)",
      "Cell \u001b[0;32mIn[18], line 1\u001b[0m\n\u001b[0;32m----> 1\u001b[0m \u001b[43manalysis\u001b[49m\u001b[38;5;241;43m.\u001b[39;49m\u001b[43mdatasets\u001b[49m\u001b[38;5;241;43m.\u001b[39;49m\u001b[43mstack_reduce\u001b[49m\u001b[43m(\u001b[49m\u001b[43mname\u001b[49m\u001b[38;5;241;43m=\u001b[39;49m\u001b[38;5;124;43m\"\u001b[39;49m\u001b[38;5;124;43mHAWC\u001b[39;49m\u001b[38;5;124;43m\"\u001b[39;49m\u001b[43m)\u001b[49m\n",
      "File \u001b[0;32m~/mambaforge/envs/asgardpy/lib/python3.12/site-packages/gammapy/datasets/core.py:498\u001b[0m, in \u001b[0;36mDatasets.stack_reduce\u001b[0;34m(self, name, nan_to_num)\u001b[0m\n\u001b[1;32m    493\u001b[0m \u001b[38;5;28;01mif\u001b[39;00m \u001b[38;5;129;01mnot\u001b[39;00m \u001b[38;5;28mself\u001b[39m\u001b[38;5;241m.\u001b[39mis_all_same_type:\n\u001b[1;32m    494\u001b[0m     \u001b[38;5;28;01mraise\u001b[39;00m \u001b[38;5;167;01mValueError\u001b[39;00m(\n\u001b[1;32m    495\u001b[0m         \u001b[38;5;124m\"\u001b[39m\u001b[38;5;124mStacking impossible: all Datasets contained are not of a unique type.\u001b[39m\u001b[38;5;124m\"\u001b[39m\n\u001b[1;32m    496\u001b[0m     )\n\u001b[0;32m--> 498\u001b[0m stacked \u001b[38;5;241m=\u001b[39m \u001b[38;5;28;43mself\u001b[39;49m\u001b[43m[\u001b[49m\u001b[38;5;241;43m0\u001b[39;49m\u001b[43m]\u001b[49m\u001b[38;5;241;43m.\u001b[39;49m\u001b[43mto_masked\u001b[49m\u001b[43m(\u001b[49m\u001b[43mname\u001b[49m\u001b[38;5;241;43m=\u001b[39;49m\u001b[43mname\u001b[49m\u001b[43m,\u001b[49m\u001b[43m \u001b[49m\u001b[43mnan_to_num\u001b[49m\u001b[38;5;241;43m=\u001b[39;49m\u001b[43mnan_to_num\u001b[49m\u001b[43m)\u001b[49m\n\u001b[1;32m    500\u001b[0m \u001b[38;5;28;01mfor\u001b[39;00m dataset \u001b[38;5;129;01min\u001b[39;00m \u001b[38;5;28mself\u001b[39m[\u001b[38;5;241m1\u001b[39m:]:\n\u001b[1;32m    501\u001b[0m     stacked\u001b[38;5;241m.\u001b[39mstack(dataset, nan_to_num\u001b[38;5;241m=\u001b[39mnan_to_num)\n",
      "File \u001b[0;32m~/mambaforge/envs/asgardpy/lib/python3.12/site-packages/gammapy/datasets/map.py:944\u001b[0m, in \u001b[0;36mMapDataset.to_masked\u001b[0;34m(self, name, nan_to_num)\u001b[0m\n\u001b[1;32m    929\u001b[0m \u001b[38;5;250m\u001b[39m\u001b[38;5;124;03m\"\"\"Return masked dataset.\u001b[39;00m\n\u001b[1;32m    930\u001b[0m \n\u001b[1;32m    931\u001b[0m \u001b[38;5;124;03mParameters\u001b[39;00m\n\u001b[0;32m   (...)\u001b[0m\n\u001b[1;32m    941\u001b[0m \u001b[38;5;124;03m    Masked dataset.\u001b[39;00m\n\u001b[1;32m    942\u001b[0m \u001b[38;5;124;03m\"\"\"\u001b[39;00m\n\u001b[1;32m    943\u001b[0m dataset \u001b[38;5;241m=\u001b[39m \u001b[38;5;28mself\u001b[39m\u001b[38;5;241m.\u001b[39m\u001b[38;5;18m__class__\u001b[39m\u001b[38;5;241m.\u001b[39mfrom_geoms(\u001b[38;5;241m*\u001b[39m\u001b[38;5;241m*\u001b[39m\u001b[38;5;28mself\u001b[39m\u001b[38;5;241m.\u001b[39mgeoms, name\u001b[38;5;241m=\u001b[39mname)\n\u001b[0;32m--> 944\u001b[0m \u001b[43mdataset\u001b[49m\u001b[38;5;241;43m.\u001b[39;49m\u001b[43mstack\u001b[49m\u001b[43m(\u001b[49m\u001b[38;5;28;43mself\u001b[39;49m\u001b[43m,\u001b[49m\u001b[43m \u001b[49m\u001b[43mnan_to_num\u001b[49m\u001b[38;5;241;43m=\u001b[39;49m\u001b[43mnan_to_num\u001b[49m\u001b[43m)\u001b[49m\n\u001b[1;32m    945\u001b[0m \u001b[38;5;28;01mreturn\u001b[39;00m dataset\n",
      "File \u001b[0;32m~/mambaforge/envs/asgardpy/lib/python3.12/site-packages/gammapy/datasets/map.py:1020\u001b[0m, in \u001b[0;36mMapDataset.stack\u001b[0;34m(self, other, nan_to_num)\u001b[0m\n\u001b[1;32m   1017\u001b[0m         \u001b[38;5;28mself\u001b[39m\u001b[38;5;241m.\u001b[39mbackground \u001b[38;5;241m=\u001b[39m background\n\u001b[1;32m   1019\u001b[0m \u001b[38;5;28;01mif\u001b[39;00m \u001b[38;5;28mself\u001b[39m\u001b[38;5;241m.\u001b[39mpsf \u001b[38;5;129;01mand\u001b[39;00m other\u001b[38;5;241m.\u001b[39mpsf:\n\u001b[0;32m-> 1020\u001b[0m     \u001b[38;5;28mself\u001b[39m\u001b[38;5;241m.\u001b[39mpsf\u001b[38;5;241m.\u001b[39mstack(other\u001b[38;5;241m.\u001b[39mpsf, weights\u001b[38;5;241m=\u001b[39m\u001b[43mother\u001b[49m\u001b[38;5;241;43m.\u001b[39;49m\u001b[43mmask_safe_psf\u001b[49m)\n\u001b[1;32m   1022\u001b[0m \u001b[38;5;28;01mif\u001b[39;00m \u001b[38;5;28mself\u001b[39m\u001b[38;5;241m.\u001b[39medisp \u001b[38;5;129;01mand\u001b[39;00m other\u001b[38;5;241m.\u001b[39medisp:\n\u001b[1;32m   1023\u001b[0m     \u001b[38;5;28mself\u001b[39m\u001b[38;5;241m.\u001b[39medisp\u001b[38;5;241m.\u001b[39mstack(other\u001b[38;5;241m.\u001b[39medisp, weights\u001b[38;5;241m=\u001b[39mother\u001b[38;5;241m.\u001b[39mmask_safe_edisp)\n",
      "File \u001b[0;32m~/mambaforge/envs/asgardpy/lib/python3.12/site-packages/gammapy/datasets/map.py:908\u001b[0m, in \u001b[0;36mMapDataset.mask_safe_psf\u001b[0;34m(self)\u001b[0m\n\u001b[1;32m    906\u001b[0m geom \u001b[38;5;241m=\u001b[39m \u001b[38;5;28mself\u001b[39m\u001b[38;5;241m.\u001b[39mpsf\u001b[38;5;241m.\u001b[39mpsf_map\u001b[38;5;241m.\u001b[39mgeom\u001b[38;5;241m.\u001b[39msquash(\u001b[38;5;124m\"\u001b[39m\u001b[38;5;124menergy_true\u001b[39m\u001b[38;5;124m\"\u001b[39m)\u001b[38;5;241m.\u001b[39msquash(\u001b[38;5;124m\"\u001b[39m\u001b[38;5;124mrad\u001b[39m\u001b[38;5;124m\"\u001b[39m)\n\u001b[1;32m    907\u001b[0m mask_safe_psf \u001b[38;5;241m=\u001b[39m \u001b[38;5;28mself\u001b[39m\u001b[38;5;241m.\u001b[39mmask_safe_image\u001b[38;5;241m.\u001b[39minterp_to_geom(geom\u001b[38;5;241m.\u001b[39mto_image())\n\u001b[0;32m--> 908\u001b[0m \u001b[38;5;28;01mreturn\u001b[39;00m \u001b[43mmask_safe_psf\u001b[49m\u001b[38;5;241;43m.\u001b[39;49m\u001b[43mto_cube\u001b[49m\u001b[43m(\u001b[49m\u001b[43mgeom\u001b[49m\u001b[38;5;241;43m.\u001b[39;49m\u001b[43maxes\u001b[49m\u001b[43m)\u001b[49m\n",
      "File \u001b[0;32m~/mambaforge/envs/asgardpy/lib/python3.12/site-packages/gammapy/maps/core.py:1766\u001b[0m, in \u001b[0;36mMap.to_cube\u001b[0;34m(self, axes)\u001b[0m\n\u001b[1;32m   1764\u001b[0m \u001b[38;5;28;01mfor\u001b[39;00m ax \u001b[38;5;129;01min\u001b[39;00m axes:\n\u001b[1;32m   1765\u001b[0m     \u001b[38;5;28;01mif\u001b[39;00m ax\u001b[38;5;241m.\u001b[39mnbin \u001b[38;5;241m>\u001b[39m \u001b[38;5;241m1\u001b[39m:\n\u001b[0;32m-> 1766\u001b[0m         \u001b[38;5;28;01mraise\u001b[39;00m \u001b[38;5;167;01mValueError\u001b[39;00m(ax\u001b[38;5;241m.\u001b[39mname, \u001b[38;5;124m\"\u001b[39m\u001b[38;5;124mshould have only one bin\u001b[39m\u001b[38;5;124m\"\u001b[39m)\n\u001b[1;32m   1767\u001b[0m geom \u001b[38;5;241m=\u001b[39m \u001b[38;5;28mself\u001b[39m\u001b[38;5;241m.\u001b[39mgeom\u001b[38;5;241m.\u001b[39mto_cube(axes)\n\u001b[1;32m   1768\u001b[0m data \u001b[38;5;241m=\u001b[39m \u001b[38;5;28mself\u001b[39m\u001b[38;5;241m.\u001b[39mdata\u001b[38;5;241m.\u001b[39mreshape((\u001b[38;5;241m1\u001b[39m,) \u001b[38;5;241m*\u001b[39m \u001b[38;5;28mlen\u001b[39m(axes) \u001b[38;5;241m+\u001b[39m \u001b[38;5;28mself\u001b[39m\u001b[38;5;241m.\u001b[39mdata\u001b[38;5;241m.\u001b[39mshape)\n",
      "\u001b[0;31mValueError\u001b[0m: ('energy', 'should have only one bin')"
     ]
    }
   ],
   "source": [
    "analysis.datasets.stack_reduce(name=\"HAWC\")"
   ]
  },
  {
   "cell_type": "code",
   "execution_count": 15,
   "id": "ab9c155f-3456-4ff9-a570-96d340dde257",
   "metadata": {
    "scrolled": true
   },
   "outputs": [
    {
     "name": "stdout",
     "output_type": "stream",
     "text": [
      "WcsNDMap\n",
      "\n",
      "\tgeom  : WcsGeom \n",
      " \taxes  : ['lon', 'lat', 'energy']\n",
      "\tshape : (300, 300, 10)\n",
      "\tndim  : 3\n",
      "\tunit  : \n",
      "\tdtype : bool\n",
      "\n"
     ]
    },
    {
     "ename": "ValueError",
     "evalue": "('energy', 'should have only one bin')",
     "output_type": "error",
     "traceback": [
      "\u001b[0;31m---------------------------------------------------------------------------\u001b[0m",
      "\u001b[0;31mValueError\u001b[0m                                Traceback (most recent call last)",
      "Cell \u001b[0;32mIn[15], line 2\u001b[0m\n\u001b[1;32m      1\u001b[0m \u001b[38;5;28mprint\u001b[39m(analysis\u001b[38;5;241m.\u001b[39mdatasets[\u001b[38;5;241m0\u001b[39m]\u001b[38;5;241m.\u001b[39mmask_safe)\n\u001b[0;32m----> 2\u001b[0m \u001b[38;5;28mprint\u001b[39m(\u001b[43manalysis\u001b[49m\u001b[38;5;241;43m.\u001b[39;49m\u001b[43mdatasets\u001b[49m\u001b[43m[\u001b[49m\u001b[38;5;241;43m0\u001b[39;49m\u001b[43m]\u001b[49m\u001b[38;5;241;43m.\u001b[39;49m\u001b[43mmask_safe_psf\u001b[49m)\n\u001b[1;32m      3\u001b[0m \u001b[38;5;66;03m#exposure.geom.squash(\"energy_true\")\u001b[39;00m\n",
      "File \u001b[0;32m~/mambaforge/envs/asgardpy/lib/python3.12/site-packages/gammapy/datasets/map.py:908\u001b[0m, in \u001b[0;36mMapDataset.mask_safe_psf\u001b[0;34m(self)\u001b[0m\n\u001b[1;32m    906\u001b[0m geom \u001b[38;5;241m=\u001b[39m \u001b[38;5;28mself\u001b[39m\u001b[38;5;241m.\u001b[39mpsf\u001b[38;5;241m.\u001b[39mpsf_map\u001b[38;5;241m.\u001b[39mgeom\u001b[38;5;241m.\u001b[39msquash(\u001b[38;5;124m\"\u001b[39m\u001b[38;5;124menergy_true\u001b[39m\u001b[38;5;124m\"\u001b[39m)\u001b[38;5;241m.\u001b[39msquash(\u001b[38;5;124m\"\u001b[39m\u001b[38;5;124mrad\u001b[39m\u001b[38;5;124m\"\u001b[39m)\n\u001b[1;32m    907\u001b[0m mask_safe_psf \u001b[38;5;241m=\u001b[39m \u001b[38;5;28mself\u001b[39m\u001b[38;5;241m.\u001b[39mmask_safe_image\u001b[38;5;241m.\u001b[39minterp_to_geom(geom\u001b[38;5;241m.\u001b[39mto_image())\n\u001b[0;32m--> 908\u001b[0m \u001b[38;5;28;01mreturn\u001b[39;00m \u001b[43mmask_safe_psf\u001b[49m\u001b[38;5;241;43m.\u001b[39;49m\u001b[43mto_cube\u001b[49m\u001b[43m(\u001b[49m\u001b[43mgeom\u001b[49m\u001b[38;5;241;43m.\u001b[39;49m\u001b[43maxes\u001b[49m\u001b[43m)\u001b[49m\n",
      "File \u001b[0;32m~/mambaforge/envs/asgardpy/lib/python3.12/site-packages/gammapy/maps/core.py:1766\u001b[0m, in \u001b[0;36mMap.to_cube\u001b[0;34m(self, axes)\u001b[0m\n\u001b[1;32m   1764\u001b[0m \u001b[38;5;28;01mfor\u001b[39;00m ax \u001b[38;5;129;01min\u001b[39;00m axes:\n\u001b[1;32m   1765\u001b[0m     \u001b[38;5;28;01mif\u001b[39;00m ax\u001b[38;5;241m.\u001b[39mnbin \u001b[38;5;241m>\u001b[39m \u001b[38;5;241m1\u001b[39m:\n\u001b[0;32m-> 1766\u001b[0m         \u001b[38;5;28;01mraise\u001b[39;00m \u001b[38;5;167;01mValueError\u001b[39;00m(ax\u001b[38;5;241m.\u001b[39mname, \u001b[38;5;124m\"\u001b[39m\u001b[38;5;124mshould have only one bin\u001b[39m\u001b[38;5;124m\"\u001b[39m)\n\u001b[1;32m   1767\u001b[0m geom \u001b[38;5;241m=\u001b[39m \u001b[38;5;28mself\u001b[39m\u001b[38;5;241m.\u001b[39mgeom\u001b[38;5;241m.\u001b[39mto_cube(axes)\n\u001b[1;32m   1768\u001b[0m data \u001b[38;5;241m=\u001b[39m \u001b[38;5;28mself\u001b[39m\u001b[38;5;241m.\u001b[39mdata\u001b[38;5;241m.\u001b[39mreshape((\u001b[38;5;241m1\u001b[39m,) \u001b[38;5;241m*\u001b[39m \u001b[38;5;28mlen\u001b[39m(axes) \u001b[38;5;241m+\u001b[39m \u001b[38;5;28mself\u001b[39m\u001b[38;5;241m.\u001b[39mdata\u001b[38;5;241m.\u001b[39mshape)\n",
      "\u001b[0;31mValueError\u001b[0m: ('energy', 'should have only one bin')"
     ]
    }
   ],
   "source": [
    "print(analysis.datasets[0].mask_safe)\n",
    "print(analysis.datasets[0].mask_safe_psf)\n",
    "# exposure.geom.squash(\"energy_true\")"
   ]
  },
  {
   "cell_type": "code",
   "execution_count": 11,
   "id": "fb4ab10b-70a0-43cf-88a0-4af59f3907f1",
   "metadata": {},
   "outputs": [],
   "source": [
    "analysis.datasets[0].meta.optional = None\n",
    "analysis.datasets[0].write(\"../DL4_HAWC_Crab_5NN.fits\", overwrite=True)"
   ]
  },
  {
   "cell_type": "code",
   "execution_count": 12,
   "id": "33bdde86-1b63-4e2d-9380-5518151d078c",
   "metadata": {},
   "outputs": [
    {
     "ename": "IndexError",
     "evalue": "list index out of range",
     "output_type": "error",
     "traceback": [
      "\u001b[0;31m---------------------------------------------------------------------------\u001b[0m",
      "\u001b[0;31mIndexError\u001b[0m                                Traceback (most recent call last)",
      "Cell \u001b[0;32mIn[12], line 1\u001b[0m\n\u001b[0;32m----> 1\u001b[0m \u001b[43manalysis\u001b[49m\u001b[38;5;241;43m.\u001b[39;49m\u001b[43mdatasets\u001b[49m\u001b[43m[\u001b[49m\u001b[38;5;241;43m1\u001b[39;49m\u001b[43m]\u001b[49m\u001b[38;5;241m.\u001b[39mmeta\u001b[38;5;241m.\u001b[39moptional \u001b[38;5;241m=\u001b[39m \u001b[38;5;28;01mNone\u001b[39;00m\n\u001b[1;32m      2\u001b[0m analysis\u001b[38;5;241m.\u001b[39mdatasets[\u001b[38;5;241m1\u001b[39m]\u001b[38;5;241m.\u001b[39mwrite(\u001b[38;5;124m\"\u001b[39m\u001b[38;5;124m../DL4_HAWC_Crab_6NN.fits\u001b[39m\u001b[38;5;124m\"\u001b[39m, overwrite\u001b[38;5;241m=\u001b[39m\u001b[38;5;28;01mTrue\u001b[39;00m)\n",
      "File \u001b[0;32m~/mambaforge/envs/asgardpy/lib/python3.12/site-packages/gammapy/datasets/core.py:568\u001b[0m, in \u001b[0;36mDatasets.__getitem__\u001b[0;34m(self, key)\u001b[0m\n\u001b[1;32m    567\u001b[0m \u001b[38;5;28;01mdef\u001b[39;00m \u001b[38;5;21m__getitem__\u001b[39m(\u001b[38;5;28mself\u001b[39m, key):\n\u001b[0;32m--> 568\u001b[0m     \u001b[38;5;28;01mreturn\u001b[39;00m \u001b[38;5;28;43mself\u001b[39;49m\u001b[38;5;241;43m.\u001b[39;49m\u001b[43m_datasets\u001b[49m\u001b[43m[\u001b[49m\u001b[38;5;28;43mself\u001b[39;49m\u001b[38;5;241;43m.\u001b[39;49m\u001b[43mindex\u001b[49m\u001b[43m(\u001b[49m\u001b[43mkey\u001b[49m\u001b[43m)\u001b[49m\u001b[43m]\u001b[49m\n",
      "\u001b[0;31mIndexError\u001b[0m: list index out of range"
     ]
    }
   ],
   "source": [
    "analysis.datasets[1].meta.optional = None\n",
    "analysis.datasets[1].write(\"../DL4_HAWC_Crab_6NN.fits\", overwrite=True)"
   ]
  },
  {
   "cell_type": "code",
   "execution_count": 36,
   "id": "05ed641e-c5ad-4eb5-b1f4-1316887807eb",
   "metadata": {},
   "outputs": [
    {
     "data": {
      "text/html": [
       "<pre>MapDataset\n",
       "----------\n",
       "\n",
       "  Name                            : nHit-5 \n",
       "\n",
       "  Total counts                    : 7212 \n",
       "  Total background counts         : 6999.17\n",
       "  Total excess counts             : 212.83\n",
       "\n",
       "  Predicted counts                : 6999.17\n",
       "  Predicted background counts     : 6999.17\n",
       "  Predicted excess counts         : nan\n",
       "\n",
       "  Exposure min                    : 2.33e+08 cm2 s\n",
       "  Exposure max                    : 4.95e+13 cm2 s\n",
       "\n",
       "  Number of total bins            : 900000 \n",
       "  Number of fit bins              : 360000 \n",
       "\n",
       "  Fit statistic type              : cash\n",
       "  Fit statistic value (-2 log(L)) : nan\n",
       "\n",
       "  Number of models                : 0 \n",
       "  Number of parameters            : 0\n",
       "  Number of free parameters       : 0\n",
       "\n",
       "</pre>"
      ],
      "text/plain": [
       "<gammapy.datasets.map.MapDataset at 0x73f36248cad0>"
      ]
     },
     "execution_count": 36,
     "metadata": {},
     "output_type": "execute_result"
    }
   ],
   "source": [
    "MapDataset.read(\"../DL4_HAWC_Crab_5NN.fits\")"
   ]
  },
  {
   "cell_type": "code",
   "execution_count": 14,
   "id": "9a3a6cd3-89c2-49e5-88c0-328cacf3f139",
   "metadata": {},
   "outputs": [
    {
     "data": {
      "text/html": [
       "<pre>Datasets\n",
       "--------\n",
       "\n",
       "Dataset 0: \n",
       "\n",
       "  Type       : MapDataset\n",
       "  Name       : nHit-5\n",
       "  Instrument : HAWC\n",
       "  Models     : [&#x27;4FGL J0534.5+2201i&#x27;]\n",
       "\n",
       "</pre>"
      ],
      "text/plain": [
       "<gammapy.datasets.core.Datasets at 0x7108cc1fad80>"
      ]
     },
     "execution_count": 14,
     "metadata": {},
     "output_type": "execute_result"
    }
   ],
   "source": [
    "analysis.datasets"
   ]
  },
  {
   "cell_type": "code",
   "execution_count": null,
   "id": "205caa0c-cc02-409f-8174-7fd2c544d638",
   "metadata": {},
   "outputs": [],
   "source": []
  },
  {
   "cell_type": "code",
   "execution_count": 12,
   "id": "f12e139c-1ebe-4657-88a9-b8c697390d76",
   "metadata": {},
   "outputs": [
    {
     "name": "stderr",
     "output_type": "stream",
     "text": [
      "Perform DL4 to DL5 processes!\n",
      "OptimizeResult\n",
      "\n",
      "\tbackend    : minuit\n",
      "\tmethod     : migrad\n",
      "\tsuccess    : False\n",
      "\tmessage    : Optimization failed. Call limit was reached.\n",
      "\tnfev       : 1382\n",
      "\ttotal stat : 63380.24\n",
      "\n",
      "CovarianceResult\n",
      "\n",
      "\tbackend    : minuit\n",
      "\tmethod     : hesse\n",
      "\tsuccess    : True\n",
      "\tmessage    : Hesse terminated successfully.\n",
      "\n",
      "Analysis Step fit completed\n",
      "Analysis Step flux-points completed\n",
      "The Chi2/dof value of the goodness of Fit is 0.48/7\n",
      "and the p-value is 9.995e-01 and in Significance 0.00 sigmas\n",
      "with best fit TS (Observed) as 0.478 and max fit TS (Expected) as 0.000\n"
     ]
    },
    {
     "name": "stdout",
     "output_type": "stream",
     "text": [
      "CPU times: user 25.2 s, sys: 69.3 ms, total: 25.3 s\n",
      "Wall time: 25.3 s\n"
     ]
    }
   ],
   "source": [
    "%%time\n",
    "analysis.run([\"fit\", \"flux-points\"])"
   ]
  },
  {
   "cell_type": "code",
   "execution_count": 15,
   "id": "7af897fd-6827-4690-934a-01679e8a15ec",
   "metadata": {},
   "outputs": [
    {
     "data": {
      "text/html": [
       "<pre>Models\n",
       "\n",
       "Component 0: SkyModel\n",
       "\n",
       "  Name                      : 4FGL J0534.5+2201i\n",
       "  Datasets names            : None\n",
       "  Spectral model type       : CompoundSpectralModel\n",
       "  Spatial  model type       : PointSpatialModel\n",
       "  Temporal model type       : \n",
       "  Parameters:\n",
       "    amplitude                     :   5.95e-14   +/- 1.0e-14 1 / (TeV s cm2)\n",
       "    reference             (frozen):      7.000       TeV         \n",
       "    alpha                         :      4.118   +/-    0.30             \n",
       "    beta                          :      0.895   +/-    0.01             \n",
       "    alpha_norm            (frozen):      1.000                   \n",
       "    redshift              (frozen):      0.000                   \n",
       "    lon_0                 (frozen):     83.634       deg         \n",
       "    lat_0                 (frozen):     22.015       deg         \n",
       "\n",
       "</pre>"
      ],
      "text/plain": [
       "<gammapy.modeling.models.core.Models at 0x79c8f6012600>"
      ]
     },
     "execution_count": 15,
     "metadata": {},
     "output_type": "execute_result"
    }
   ],
   "source": [
    "analysis.final_model"
   ]
  },
  {
   "cell_type": "code",
   "execution_count": 13,
   "id": "d31ecb18-69a1-4de3-9ba8-0ab0ad084886",
   "metadata": {},
   "outputs": [
    {
     "ename": "IndexError",
     "evalue": "list index out of range",
     "output_type": "error",
     "traceback": [
      "\u001b[0;31m---------------------------------------------------------------------------\u001b[0m",
      "\u001b[0;31mIndexError\u001b[0m                                Traceback (most recent call last)",
      "Cell \u001b[0;32mIn[13], line 1\u001b[0m\n\u001b[0;32m----> 1\u001b[0m \u001b[43manalysis\u001b[49m\u001b[38;5;241;43m.\u001b[39;49m\u001b[43mflux_points\u001b[49m\u001b[43m[\u001b[49m\u001b[38;5;241;43m0\u001b[39;49m\u001b[43m]\u001b[49m\u001b[38;5;241m.\u001b[39mplot(sed_type\u001b[38;5;241m=\u001b[39m\u001b[38;5;124m\"\u001b[39m\u001b[38;5;124me2dnde\u001b[39m\u001b[38;5;124m\"\u001b[39m, color\u001b[38;5;241m=\u001b[39m\u001b[38;5;124m\"\u001b[39m\u001b[38;5;124mred\u001b[39m\u001b[38;5;124m\"\u001b[39m, label\u001b[38;5;241m=\u001b[39m\u001b[38;5;124m\"\u001b[39m\u001b[38;5;124mHAWC\u001b[39m\u001b[38;5;124m\"\u001b[39m)\n\u001b[1;32m      2\u001b[0m analysis\u001b[38;5;241m.\u001b[39mdatasets[\u001b[38;5;241m0\u001b[39m]\u001b[38;5;241m.\u001b[39mmodels[config_main\u001b[38;5;241m.\u001b[39mtarget\u001b[38;5;241m.\u001b[39msource_name]\u001b[38;5;241m.\u001b[39mspectral_model\u001b[38;5;241m.\u001b[39mplot(\n\u001b[1;32m      3\u001b[0m     sed_type\u001b[38;5;241m=\u001b[39m\u001b[38;5;124m\"\u001b[39m\u001b[38;5;124me2dnde\u001b[39m\u001b[38;5;124m\"\u001b[39m, energy_bounds\u001b[38;5;241m=\u001b[39m[\u001b[38;5;241m1\u001b[39m \u001b[38;5;241m*\u001b[39m u\u001b[38;5;241m.\u001b[39mTeV, \u001b[38;5;241m400\u001b[39m \u001b[38;5;241m*\u001b[39m u\u001b[38;5;241m.\u001b[39mTeV]\n\u001b[1;32m      4\u001b[0m )\n\u001b[1;32m      5\u001b[0m analysis\u001b[38;5;241m.\u001b[39mdatasets[\u001b[38;5;241m0\u001b[39m]\u001b[38;5;241m.\u001b[39mmodels[config_main\u001b[38;5;241m.\u001b[39mtarget\u001b[38;5;241m.\u001b[39msource_name]\u001b[38;5;241m.\u001b[39mspectral_model\u001b[38;5;241m.\u001b[39mplot_error(\n\u001b[1;32m      6\u001b[0m     sed_type\u001b[38;5;241m=\u001b[39m\u001b[38;5;124m\"\u001b[39m\u001b[38;5;124me2dnde\u001b[39m\u001b[38;5;124m\"\u001b[39m, energy_bounds\u001b[38;5;241m=\u001b[39m[\u001b[38;5;241m1\u001b[39m \u001b[38;5;241m*\u001b[39m u\u001b[38;5;241m.\u001b[39mTeV, \u001b[38;5;241m400\u001b[39m \u001b[38;5;241m*\u001b[39m u\u001b[38;5;241m.\u001b[39mTeV]\n\u001b[1;32m      7\u001b[0m )\n",
      "\u001b[0;31mIndexError\u001b[0m: list index out of range"
     ]
    }
   ],
   "source": [
    "analysis.flux_points[0].plot(sed_type=\"e2dnde\", color=\"red\", label=\"HAWC\")\n",
    "analysis.datasets[0].models[config_main.target.source_name].spectral_model.plot(\n",
    "    sed_type=\"e2dnde\", energy_bounds=[1 * u.TeV, 400 * u.TeV]\n",
    ")\n",
    "analysis.datasets[0].models[config_main.target.source_name].spectral_model.plot_error(\n",
    "    sed_type=\"e2dnde\", energy_bounds=[1 * u.TeV, 400 * u.TeV]\n",
    ")\n",
    "\n",
    "plt.grid(which=\"both\")\n",
    "plt.legend()"
   ]
  },
  {
   "cell_type": "code",
   "execution_count": 19,
   "id": "cf932c54-98bd-4e6c-b43c-378ec97a39d8",
   "metadata": {},
   "outputs": [],
   "source": [
    "m5 = MapDataset.read(\"/home/chaitanya/software/gammapy-datasets/dev/hawc/DL4/nHit-5.fits.gz\")\n",
    "m6 = MapDataset.read(\"/home/chaitanya/software/gammapy-datasets/dev/hawc/DL4/nHit-6.fits.gz\")"
   ]
  },
  {
   "cell_type": "code",
   "execution_count": 22,
   "id": "c7e807e7-abfb-46ae-8414-8a88c46399ba",
   "metadata": {},
   "outputs": [
    {
     "data": {
      "text/html": [
       "<pre>Datasets\n",
       "--------\n",
       "\n",
       "Dataset 0: \n",
       "\n",
       "  Type       : MapDataset\n",
       "  Name       : nHit-5\n",
       "  Instrument : HAWC\n",
       "  Models     : \n",
       "\n",
       "Dataset 1: \n",
       "\n",
       "  Type       : MapDataset\n",
       "  Name       : nHit-6\n",
       "  Instrument : HAWC\n",
       "  Models     : \n",
       "\n",
       "</pre>"
      ],
      "text/plain": [
       "<gammapy.datasets.core.Datasets at 0x79c8f5f8ac60>"
      ]
     },
     "execution_count": 22,
     "metadata": {},
     "output_type": "execute_result"
    }
   ],
   "source": [
    "Datasets([m5, m6])"
   ]
  },
  {
   "cell_type": "code",
   "execution_count": null,
   "id": "380931ef-d7ec-45da-a3a4-cf3d9e0c00dc",
   "metadata": {},
   "outputs": [],
   "source": []
  },
  {
   "cell_type": "code",
   "execution_count": null,
   "id": "5ed10d93-2fc7-44b8-bf4b-b499cb519027",
   "metadata": {},
   "outputs": [],
   "source": []
  },
  {
   "cell_type": "markdown",
   "id": "64e40e78",
   "metadata": {},
   "source": [
    "# Prepare for a single 3D Dataset, based on instrument and key_name\n",
    "## Using Fermi-LAT data as example here. For GADF-compliant DL3 dataset, after loading the events into file_list[\"events_file\"] follow similar steps as for test_dataset_1d_step"
   ]
  },
  {
   "cell_type": "code",
   "execution_count": 12,
   "id": "2368b75c",
   "metadata": {},
   "outputs": [
    {
     "name": "stdout",
     "output_type": "stream",
     "text": [
      "1 number of 3D dataset information provided\n",
      "Instrument selected is HAWC\n"
     ]
    }
   ],
   "source": [
    "instruments_list = config_main.dataset3d.instruments\n",
    "print(len(instruments_list), \"number of 3D dataset information provided\")\n",
    "\n",
    "config_3d_dataset = instruments_list[0]\n",
    "print(f\"Instrument selected is {config_3d_dataset.name}\")"
   ]
  },
  {
   "cell_type": "code",
   "execution_count": 13,
   "id": "00935ccc",
   "metadata": {},
   "outputs": [
    {
     "name": "stdout",
     "output_type": "stream",
     "text": [
      "The list of different keys or modes of observations for the selected instrument are []\n"
     ]
    }
   ],
   "source": [
    "key_names = config_3d_dataset.dataset_info.key\n",
    "print(f\"The list of different keys or modes of observations for the selected instrument are {key_names}\")"
   ]
  },
  {
   "cell_type": "markdown",
   "id": "9d99ae35",
   "metadata": {},
   "source": [
    "# Run each Dataset3DGeneration step"
   ]
  },
  {
   "cell_type": "code",
   "execution_count": 14,
   "id": "89f38e52",
   "metadata": {},
   "outputs": [
    {
     "name": "stdout",
     "output_type": "stream",
     "text": [
      "CPU times: user 20 μs, sys: 2 μs, total: 22 μs\n",
      "Wall time: 25.5 μs\n"
     ]
    }
   ],
   "source": [
    "%%time\n",
    "generate_3d_dataset = Dataset3DGeneration(log, config_3d_dataset, analysis.config)"
   ]
  },
  {
   "cell_type": "code",
   "execution_count": null,
   "id": "ec50476e",
   "metadata": {},
   "outputs": [],
   "source": []
  },
  {
   "cell_type": "markdown",
   "id": "48610957",
   "metadata": {},
   "source": [
    "## Initialized variables"
   ]
  },
  {
   "cell_type": "code",
   "execution_count": 19,
   "id": "0640b735",
   "metadata": {
    "scrolled": true
   },
   "outputs": [
    {
     "data": {
      "text/plain": [
       "{'source_name': '4FGL J0534.5+2201i',\n",
       " 'sky_position': {'frame': 'icrs',\n",
       "  'lon': <Quantity 83.6338333 deg>,\n",
       "  'lat': <Quantity 22.0145 deg>,\n",
       "  'radius': <Quantity 0. deg>},\n",
       " 'use_uniform_position': True,\n",
       " 'models_file': PosixPath('.'),\n",
       " 'datasets_with_fov_bkg_model': [],\n",
       " 'use_catalog': {'name': '',\n",
       "  'selection_radius': <Quantity 0. deg>,\n",
       "  'exclusion_radius': <Quantity 0. deg>},\n",
       " 'components': [{'name': '4FGL J0534.5+2201i',\n",
       "   'type': 'SkyModel',\n",
       "   'datasets_names': [''],\n",
       "   'spectral': {'type': 'LogParabolaSpectralModel',\n",
       "    'parameters': [{'name': 'amplitude',\n",
       "      'value': 1e-06,\n",
       "      'unit': 'cm-2 s-1 TeV-1',\n",
       "      'error': 1.5e-07,\n",
       "      'min': 1e-13,\n",
       "      'max': 0.01,\n",
       "      'frozen': False},\n",
       "     {'name': 'reference',\n",
       "      'value': 0.015,\n",
       "      'unit': 'TeV',\n",
       "      'error': 0.0,\n",
       "      'min': 0.0001,\n",
       "      'max': 100.0,\n",
       "      'frozen': True},\n",
       "     {'name': 'alpha',\n",
       "      'value': 1.7,\n",
       "      'unit': '',\n",
       "      'error': 0.1,\n",
       "      'min': 0.5,\n",
       "      'max': 5.0,\n",
       "      'frozen': False},\n",
       "     {'name': 'beta',\n",
       "      'value': 0.1,\n",
       "      'unit': '',\n",
       "      'error': 0.001,\n",
       "      'min': 1e-06,\n",
       "      'max': 1.0,\n",
       "      'frozen': False}],\n",
       "    'ebl_abs': {'filename': PosixPath('.'),\n",
       "     'reference': 'dominguez',\n",
       "     'type': 'EBLAbsorptionNormSpectralModel',\n",
       "     'redshift': 0.0,\n",
       "     'alpha_norm': 1.0}},\n",
       "   'spatial': {'type': '',\n",
       "    'frame': 'icrs',\n",
       "    'parameters': [{'name': '',\n",
       "      'value': 1.0,\n",
       "      'unit': ' ',\n",
       "      'error': 0.1,\n",
       "      'min': 0.1,\n",
       "      'max': 10.0,\n",
       "      'frozen': True}]}}],\n",
       " 'covariance': 'None',\n",
       " 'from_3d': False,\n",
       " 'roi_selection': {'roi_radius': <Quantity 0. deg>,\n",
       "  'free_sources': ['4FGL J0521.7+2112',\n",
       "   '4FGL J0528.3+1817',\n",
       "   '4FGL J0536.2+1733',\n",
       "   '4FGL J0534.5+2200']}}"
      ]
     },
     "execution_count": 19,
     "metadata": {},
     "output_type": "execute_result"
    }
   ],
   "source": [
    "generate_3d_dataset.config_target.model_dump()"
   ]
  },
  {
   "cell_type": "code",
   "execution_count": 20,
   "id": "db036bc5",
   "metadata": {},
   "outputs": [
    {
     "name": "stdout",
     "output_type": "stream",
     "text": [
      "None\n"
     ]
    }
   ],
   "source": [
    "print(generate_3d_dataset.exclusion_mask)"
   ]
  },
  {
   "cell_type": "code",
   "execution_count": 21,
   "id": "bac2931e",
   "metadata": {},
   "outputs": [
    {
     "name": "stdout",
     "output_type": "stream",
     "text": [
      "{'exposure': None, 'psf': None, 'edisp': None, 'edisp_kernel': None, 'edisp_interp_kernel': None, 'exposure_interp': None}\n"
     ]
    }
   ],
   "source": [
    "print(generate_3d_dataset.irfs)"
   ]
  },
  {
   "cell_type": "code",
   "execution_count": 22,
   "id": "7d328594",
   "metadata": {},
   "outputs": [
    {
     "name": "stdout",
     "output_type": "stream",
     "text": [
      "{'events': None, 'event_fits': None, 'gti': None, 'counts_map': None}\n"
     ]
    }
   ],
   "source": [
    "print(generate_3d_dataset.events)"
   ]
  },
  {
   "cell_type": "code",
   "execution_count": 23,
   "id": "44d50e8d",
   "metadata": {},
   "outputs": [
    {
     "name": "stdout",
     "output_type": "stream",
     "text": [
      "{'gal_diffuse': None, 'iso_diffuse': None, 'key_name': None, 'gal_diffuse_cutout': None}\n"
     ]
    }
   ],
   "source": [
    "print(generate_3d_dataset.diffuse_models)"
   ]
  },
  {
   "cell_type": "code",
   "execution_count": 24,
   "id": "b85591de",
   "metadata": {},
   "outputs": [
    {
     "name": "stdout",
     "output_type": "stream",
     "text": [
      "[]\n"
     ]
    }
   ],
   "source": [
    "print(generate_3d_dataset.list_source_models)"
   ]
  },
  {
   "cell_type": "code",
   "execution_count": 15,
   "id": "4576fdb5",
   "metadata": {},
   "outputs": [],
   "source": [
    "exclusion_regions = []"
   ]
  },
  {
   "cell_type": "markdown",
   "id": "73f96d8c",
   "metadata": {},
   "source": [
    "### First check for the given file list if they are readable or not."
   ]
  },
  {
   "cell_type": "code",
   "execution_count": 16,
   "id": "4218e5c0",
   "metadata": {
    "scrolled": true
   },
   "outputs": [
    {
     "ename": "IndexError",
     "evalue": "list index out of range",
     "output_type": "error",
     "traceback": [
      "\u001b[0;31m---------------------------------------------------------------------------\u001b[0m",
      "\u001b[0;31mIndexError\u001b[0m                                Traceback (most recent call last)",
      "File \u001b[0;32m<timed exec>:1\u001b[0m\n",
      "\u001b[0;31mIndexError\u001b[0m: list index out of range"
     ]
    }
   ],
   "source": [
    "%%time\n",
    "file_list = generate_3d_dataset.read_to_objects(key_names[0])"
   ]
  },
  {
   "cell_type": "code",
   "execution_count": 27,
   "id": "bddaa80b",
   "metadata": {},
   "outputs": [
    {
     "data": {
      "text/plain": [
       "{'xml_file': PosixPath('/home/chaitanya/software/gammapy-datasets/1.3/fermipy-crab/srcmdl_00.xml'),\n",
       " 'events_file': PosixPath('/home/chaitanya/software/gammapy-datasets/1.3/fermipy-crab/ft1_00.fits'),\n",
       " 'edrm_file': PosixPath('/home/chaitanya/software/gammapy-datasets/1.3/fermipy-crab/drm_00.fits'),\n",
       " 'expmap_file': PosixPath('/home/chaitanya/software/gammapy-datasets/1.3/fermipy-crab/bexpmap_00.fits'),\n",
       " 'psf_file': PosixPath('/home/chaitanya/software/gammapy-datasets/1.3/fermipy-crab/psf_00.fits'),\n",
       " 'iso_diff_file': PosixPath('/home/chaitanya/software/gammapy-datasets/1.3/fermipy-crab/iso_P8R3_SOURCE_V3_00_v1.txt'),\n",
       " 'gal_diff_file': PosixPath('/home/chaitanya/software/gammapy-datasets/1.3/fermipy-crab/gll_iem_v07_cutout.fits')}"
      ]
     },
     "execution_count": 27,
     "metadata": {},
     "output_type": "execute_result"
    }
   ],
   "source": [
    "file_list"
   ]
  },
  {
   "cell_type": "code",
   "execution_count": null,
   "id": "a0b5f6af",
   "metadata": {},
   "outputs": [],
   "source": []
  },
  {
   "cell_type": "code",
   "execution_count": 17,
   "id": "1bd5744b",
   "metadata": {},
   "outputs": [
    {
     "name": "stdout",
     "output_type": "stream",
     "text": [
      "None\n"
     ]
    }
   ],
   "source": [
    "print(generate_3d_dataset.irfs[\"exposure\"])"
   ]
  },
  {
   "cell_type": "code",
   "execution_count": 29,
   "id": "399ec664",
   "metadata": {},
   "outputs": [
    {
     "name": "stdout",
     "output_type": "stream",
     "text": [
      "RegionNDMap\n",
      "\n",
      "\tgeom  : RegionGeom \n",
      " \taxes  : ['lon', 'lat', 'rad', 'energy_true']\n",
      "\tshape : (1, 1, 400, 48)\n",
      "\tndim  : 4\n",
      "\tunit  : 1 / sr\n",
      "\tdtype : >f8\n",
      "\n"
     ]
    }
   ],
   "source": [
    "print(generate_3d_dataset.irfs[\"psf\"])"
   ]
  },
  {
   "cell_type": "code",
   "execution_count": 30,
   "id": "adc297b7",
   "metadata": {},
   "outputs": [
    {
     "name": "stdout",
     "output_type": "stream",
     "text": [
      "Filename: /home/chaitanya/software/gammapy-datasets/1.3/fermipy-crab/drm_00.fits\n",
      "No.    Name      Ver    Type      Cards   Dimensions   Format\n",
      "  0  PRIMARY       1 PrimaryHDU      59   (1, 1, 1)   float32   \n",
      "  1  GTI           1 BinTableHDU     33   18978R x 2C   [D, D]   \n",
      "  2  EBOUNDS       1 BinTableHDU     38   150R x 3C   [I, 1E, 1E]   \n",
      "  3  DRM           1 BinTableHDU     29   24R x 6C   [D, D, I, PI(1), PI(1), PE(24)]   \n",
      "None\n"
     ]
    }
   ],
   "source": [
    "print(generate_3d_dataset.irfs[\"edisp\"].info())"
   ]
  },
  {
   "cell_type": "code",
   "execution_count": 31,
   "id": "cbcb0713",
   "metadata": {},
   "outputs": [
    {
     "name": "stdout",
     "output_type": "stream",
     "text": [
      "SkyModel\n",
      "\n",
      "  Name                      : diffuse-iem\n",
      "  Datasets names            : None\n",
      "  Spectral model type       : PowerLawNormSpectralModel\n",
      "  Spatial  model type       : TemplateSpatialModel\n",
      "  Temporal model type       : \n",
      "  Parameters:\n",
      "    norm                          :      1.000   +/-    0.00             \n",
      "    tilt                  (frozen):      0.000                   \n",
      "    reference             (frozen):      1.000       TeV         \n",
      "    lon_0                 (frozen):    187.750       deg         \n",
      "    lat_0                 (frozen):     -5.812       deg         \n",
      "\n",
      "\n"
     ]
    }
   ],
   "source": [
    "print(generate_3d_dataset.diffuse_models[\"gal_diffuse\"])"
   ]
  },
  {
   "cell_type": "code",
   "execution_count": 32,
   "id": "29dd2c0e",
   "metadata": {},
   "outputs": [
    {
     "name": "stdout",
     "output_type": "stream",
     "text": [
      "SkyModel\n",
      "\n",
      "  Name                      : fermi-diffuse-iso-00\n",
      "  Datasets names            : None\n",
      "  Spectral model type       : CompoundSpectralModel\n",
      "  Spatial  model type       : ConstantSpatialModel\n",
      "  Temporal model type       : \n",
      "  Parameters:\n",
      "    norm                          :      1.000   +/-    0.00             \n",
      "    tilt                  (frozen):      0.000                   \n",
      "    reference             (frozen):      1.000       TeV         \n",
      "    value                 (frozen):      1.000       1 / sr      \n",
      "\n",
      "\n"
     ]
    }
   ],
   "source": [
    "print(generate_3d_dataset.diffuse_models[\"iso_diffuse\"])"
   ]
  },
  {
   "cell_type": "code",
   "execution_count": 33,
   "id": "aa66fa9b",
   "metadata": {},
   "outputs": [
    {
     "name": "stdout",
     "output_type": "stream",
     "text": [
      "55 number of sources read from XML file\n"
     ]
    }
   ],
   "source": [
    "print(len(generate_3d_dataset.list_source_models), \"number of sources read from XML file\")"
   ]
  },
  {
   "cell_type": "code",
   "execution_count": 34,
   "id": "1ee26cbf",
   "metadata": {
    "scrolled": true,
    "tags": []
   },
   "outputs": [
    {
     "name": "stdout",
     "output_type": "stream",
     "text": [
      "SkyModel\n",
      "\n",
      "  Name                      : 4FGL J0534.5+2201i\n",
      "  Datasets names            : None\n",
      "  Spectral model type       : CompoundSpectralModel\n",
      "  Spatial  model type       : GaussianSpatialModel\n",
      "  Temporal model type       : \n",
      "  Parameters:\n",
      "    amplitude                     :   1.00e-06   +/- 1.5e-07 1 / (TeV s cm2)\n",
      "    reference             (frozen):      0.015       TeV         \n",
      "    alpha                         :      1.700   +/-    0.10             \n",
      "    beta                          :      0.100   +/-    0.00             \n",
      "    alpha_norm            (frozen):      1.000                   \n",
      "    redshift              (frozen):      0.000                   \n",
      "    lon_0                 (frozen):    184.553       deg         \n",
      "    lat_0                 (frozen):     -5.781       deg         \n",
      "    sigma                 (frozen):      0.020       deg         \n",
      "    e                     (frozen):      0.000                   \n",
      "    phi                   (frozen):      0.000       deg         \n",
      "\n",
      "\n",
      "SkyModel\n",
      "\n",
      "  Name                      : 4FGL J0534.5+2201s\n",
      "  Datasets names            : None\n",
      "  Spectral model type       : PowerLawSpectralModel\n",
      "  Spatial  model type       : PointSpatialModel\n",
      "  Temporal model type       : \n",
      "  Parameters:\n",
      "    index                         :      3.802   +/-    0.12             \n",
      "    amplitude                     :   3.80e-02   +/- 2.5e-03 1 / (TeV s cm2)\n",
      "    reference             (frozen):      0.000       TeV         \n",
      "    lon_0                 (frozen):      3.221       rad         \n",
      "    lat_0                 (frozen):     -0.101       rad         \n",
      "\n",
      "\n",
      "SkyModel\n",
      "\n",
      "  Name                      : 4FGL J0534.5+2200\n",
      "  Datasets names            : None\n",
      "  Spectral model type       : ExpCutoffPowerLawSpectralModel\n",
      "  Spatial  model type       : PointSpatialModel\n",
      "  Temporal model type       : \n",
      "  Parameters:\n",
      "    index                         :      1.883   +/-    0.03             \n",
      "    amplitude                     :   7.23e-04   +/- 1.0e-05 1 / (TeV s cm2)\n",
      "    reference             (frozen):      0.001       TeV         \n",
      "    lambda_                       :    295.318   +/-    0.00 1 / TeV     \n",
      "    alpha                 (frozen):      0.667                   \n",
      "    lon_0                 (frozen):      3.221       rad         \n",
      "    lat_0                 (frozen):     -0.101       rad         \n",
      "\n",
      "\n",
      "SkyModel\n",
      "\n",
      "  Name                      : 4FGL J0526.3+2246\n",
      "  Datasets names            : None\n",
      "  Spectral model type       : PowerLawSpectralModel\n",
      "  Spatial  model type       : PointSpatialModel\n",
      "  Temporal model type       : \n",
      "  Parameters:\n",
      "    index                         :      2.026   +/-    0.14             \n",
      "    amplitude                     :   1.32e-08   +/- 2.6e-09 1 / (TeV s cm2)\n",
      "    reference             (frozen):      0.005       TeV         \n",
      "    lon_0                 (frozen):      3.192       rad         \n",
      "    lat_0                 (frozen):     -0.121       rad         \n",
      "\n",
      "\n",
      "SkyModel\n",
      "\n",
      "  Name                      : 4FGL J0544.4+2238\n",
      "  Datasets names            : None\n",
      "  Spectral model type       : PowerLawSpectralModel\n",
      "  Spatial  model type       : PointSpatialModel\n",
      "  Temporal model type       : \n",
      "  Parameters:\n",
      "    index                         :      2.292   +/-    0.19             \n",
      "    amplitude                     :   3.25e-08   +/- 7.4e-09 1 / (TeV s cm2)\n",
      "    reference             (frozen):      0.003       TeV         \n",
      "    lon_0                 (frozen):      3.233       rad         \n",
      "    lat_0                 (frozen):     -0.061       rad         \n",
      "\n",
      "\n",
      "SkyModel\n",
      "\n",
      "  Name                      : 4FGL J0521.7+2112\n",
      "  Datasets names            : None\n",
      "  Spectral model type       : LogParabolaSpectralModel\n",
      "  Spatial  model type       : PointSpatialModel\n",
      "  Temporal model type       : \n",
      "  Parameters:\n",
      "    amplitude                     :   4.62e-06   +/- 8.5e-08 1 / (TeV s cm2)\n",
      "    reference             (frozen):      0.002       TeV         \n",
      "    alpha                         :      1.853   +/-    0.02             \n",
      "    beta                          :      0.046   +/-    0.01             \n",
      "    lon_0                 (frozen):      3.205       rad         \n",
      "    lat_0                 (frozen):     -0.152       rad         \n",
      "\n",
      "\n",
      "SkyModel\n",
      "\n",
      "  Name                      : 4FGL J0528.3+1817\n",
      "  Datasets names            : None\n",
      "  Spectral model type       : PowerLawSpectralModel\n",
      "  Spatial  model type       : PointSpatialModel\n",
      "  Temporal model type       : \n",
      "  Parameters:\n",
      "    index                         :      1.683   +/-    0.15             \n",
      "    amplitude                     :   1.84e-09   +/- 4.8e-10 1 / (TeV s cm2)\n",
      "    reference             (frozen):      0.010       TeV         \n",
      "    lon_0                 (frozen):      3.263       rad         \n",
      "    lat_0                 (frozen):     -0.157       rad         \n",
      "\n",
      "\n",
      "SkyModel\n",
      "\n",
      "  Name                      : 4FGL J0536.2+1733\n",
      "  Datasets names            : None\n",
      "  Spectral model type       : LogParabolaSpectralModel\n",
      "  Spatial  model type       : PointSpatialModel\n",
      "  Temporal model type       : \n",
      "  Parameters:\n",
      "    amplitude                     :   8.60e-08   +/- 1.2e-08 1 / (TeV s cm2)\n",
      "    reference             (frozen):      0.003       TeV         \n",
      "    alpha                         :      1.970   +/-    0.15             \n",
      "    beta                          :      0.239   +/-    0.10             \n",
      "    lon_0                 (frozen):      3.291       rad         \n",
      "    lat_0                 (frozen):     -0.136       rad         \n",
      "\n",
      "\n",
      "SkyModel\n",
      "\n",
      "  Name                      : 4FGL J0550.9+2552c\n",
      "  Datasets names            : None\n",
      "  Spectral model type       : PowerLawSpectralModel\n",
      "  Spatial  model type       : PointSpatialModel\n",
      "  Temporal model type       : \n",
      "  Parameters:\n",
      "    index                         :      2.445   +/-    0.14             \n",
      "    amplitude                     :   2.10e-07   +/- 4.2e-08 1 / (TeV s cm2)\n",
      "    reference             (frozen):      0.002       TeV         \n",
      "    lon_0                 (frozen):      3.198       rad         \n",
      "    lat_0                 (frozen):     -0.010       rad         \n",
      "\n",
      "\n",
      "SkyModel\n",
      "\n",
      "  Name                      : 4FGL J0539.0+1644\n",
      "  Datasets names            : None\n",
      "  Spectral model type       : PowerLawSpectralModel\n",
      "  Spatial  model type       : PointSpatialModel\n",
      "  Temporal model type       : \n",
      "  Parameters:\n",
      "    index                         :      1.974   +/-   -0.11             \n",
      "    amplitude                     :   1.61e-08   +/- 2.5e-09 1 / (TeV s cm2)\n",
      "    reference             (frozen):      0.005       TeV         \n",
      "    lon_0                 (frozen):      3.310       rad         \n",
      "    lat_0                 (frozen):     -0.134       rad         \n",
      "\n",
      "\n",
      "SkyModel\n",
      "\n",
      "  Name                      : 4FGL J0534.2+2751\n",
      "  Datasets names            : None\n",
      "  Spectral model type       : PowerLawSpectralModel\n",
      "  Spatial  model type       : PointSpatialModel\n",
      "  Temporal model type       : \n",
      "  Parameters:\n",
      "    index                         :      1.892   +/-    0.15             \n",
      "    amplitude                     :   5.47e-09   +/- 1.2e-09 1 / (TeV s cm2)\n",
      "    reference             (frozen):      0.008       TeV         \n",
      "    lon_0                 (frozen):      3.134       rad         \n",
      "    lat_0                 (frozen):     -0.047       rad         \n",
      "\n",
      "\n",
      "SkyModel\n",
      "\n",
      "  Name                      : 4FGL J0540.3+2756e\n",
      "  Datasets names            : None\n",
      "  Spectral model type       : LogParabolaSpectralModel\n",
      "  Spatial  model type       : TemplateSpatialModel\n",
      "  Temporal model type       : \n",
      "  Parameters:\n",
      "    amplitude                     :   6.24e-06   +/- 3.4e-07 1 / (TeV s cm2)\n",
      "    reference             (frozen):      0.001       TeV         \n",
      "    alpha                         :      1.995   +/-    0.05             \n",
      "    beta                          :      0.125   +/-    0.03             \n",
      "    lon_0                 (frozen):    180.250       deg         \n",
      "    lat_0                 (frozen):     -1.500       deg         \n",
      "\n",
      "\n",
      "SkyModel\n",
      "\n",
      "  Name                      : 4FGL J0521.2+1637\n",
      "  Datasets names            : None\n",
      "  Spectral model type       : PowerLawSpectralModel\n",
      "  Spatial  model type       : PointSpatialModel\n",
      "  Temporal model type       : \n",
      "  Parameters:\n",
      "    index                         :      2.231   +/-    0.14             \n",
      "    amplitude                     :   5.69e-08   +/- 1.1e-08 1 / (TeV s cm2)\n",
      "    reference             (frozen):      0.002       TeV         \n",
      "    lon_0                 (frozen):      3.271       rad         \n",
      "    lat_0                 (frozen):     -0.198       rad         \n",
      "\n",
      "\n",
      "SkyModel\n",
      "\n",
      "  Name                      : 4FGL J0552.0+2656c\n",
      "  Datasets names            : None\n",
      "  Spectral model type       : PowerLawSpectralModel\n",
      "  Spatial  model type       : PointSpatialModel\n",
      "  Temporal model type       : \n",
      "  Parameters:\n",
      "    index                         :      2.725   +/-    0.13             \n",
      "    amplitude                     :   1.58e-06   +/- 2.9e-07 1 / (TeV s cm2)\n",
      "    reference             (frozen):      0.001       TeV         \n",
      "    lon_0                 (frozen):      3.184       rad         \n",
      "    lat_0                 (frozen):      0.003       rad         \n",
      "\n",
      "\n",
      "SkyModel\n",
      "\n",
      "  Name                      : 4FGL J0601.4+2320\n",
      "  Datasets names            : None\n",
      "  Spectral model type       : PowerLawSpectralModel\n",
      "  Spatial  model type       : PointSpatialModel\n",
      "  Temporal model type       : \n",
      "  Parameters:\n",
      "    index                         :      2.755   +/-    0.10             \n",
      "    amplitude                     :   2.59e-06   +/- 3.5e-07 1 / (TeV s cm2)\n",
      "    reference             (frozen):      0.001       TeV         \n",
      "    lon_0                 (frozen):      3.257       rad         \n",
      "    lat_0                 (frozen):      0.004       rad         \n",
      "\n",
      "\n",
      "SkyModel\n",
      "\n",
      "  Name                      : 4FGL J0509.1+1943\n",
      "  Datasets names            : None\n",
      "  Spectral model type       : PowerLawSpectralModel\n",
      "  Spatial  model type       : PointSpatialModel\n",
      "  Temporal model type       : \n",
      "  Parameters:\n",
      "    index                         :      2.788   +/-    0.17             \n",
      "    amplitude                     :   7.06e-07   +/- 1.5e-07 1 / (TeV s cm2)\n",
      "    reference             (frozen):      0.001       TeV         \n",
      "    lon_0                 (frozen):      3.197       rad         \n",
      "    lat_0                 (frozen):     -0.209       rad         \n",
      "\n",
      "\n",
      "SkyModel\n",
      "\n",
      "  Name                      : 4FGL J0533.9+2838\n",
      "  Datasets names            : None\n",
      "  Spectral model type       : PowerLawSpectralModel\n",
      "  Spatial  model type       : PointSpatialModel\n",
      "  Temporal model type       : \n",
      "  Parameters:\n",
      "    index                         :      3.218   +/-    0.14             \n",
      "    amplitude                     :   5.26e-05   +/- 8.1e-06 1 / (TeV s cm2)\n",
      "    reference             (frozen):      0.000       TeV         \n",
      "    lon_0                 (frozen):      3.122       rad         \n",
      "    lat_0                 (frozen):     -0.041       rad         \n",
      "\n",
      "\n",
      "SkyModel\n",
      "\n",
      "  Name                      : 4FGL J0519.6+2744\n",
      "  Datasets names            : None\n",
      "  Spectral model type       : PowerLawSpectralModel\n",
      "  Spatial  model type       : PointSpatialModel\n",
      "  Temporal model type       : \n",
      "  Parameters:\n",
      "    index                         :      2.189   +/-    0.19             \n",
      "    amplitude                     :   1.31e-08   +/- 2.8e-09 1 / (TeV s cm2)\n",
      "    reference             (frozen):      0.004       TeV         \n",
      "    lon_0                 (frozen):      3.105       rad         \n",
      "    lat_0                 (frozen):     -0.095       rad         \n",
      "\n",
      "\n",
      "SkyModel\n",
      "\n",
      "  Name                      : 4FGL J0603.9+2159\n",
      "  Datasets names            : None\n",
      "  Spectral model type       : PowerLawSpectralModel\n",
      "  Spatial  model type       : PointSpatialModel\n",
      "  Temporal model type       : \n",
      "  Parameters:\n",
      "    index                         :      2.379   +/-    0.10             \n",
      "    amplitude                     :   1.61e-07   +/- 1.9e-08 1 / (TeV s cm2)\n",
      "    reference             (frozen):      0.002       TeV         \n",
      "    lon_0                 (frozen):      3.283       rad         \n",
      "    lat_0                 (frozen):      0.001       rad         \n",
      "\n",
      "\n",
      "SkyModel\n",
      "\n",
      "  Name                      : 4FGL J0510.0+1800\n",
      "  Datasets names            : None\n",
      "  Spectral model type       : LogParabolaSpectralModel\n",
      "  Spatial  model type       : PointSpatialModel\n",
      "  Temporal model type       : \n",
      "  Parameters:\n",
      "    amplitude                     :   4.33e-06   +/- 1.3e-07 1 / (TeV s cm2)\n",
      "    reference             (frozen):      0.001       TeV         \n",
      "    alpha                         :      2.103   +/-    0.03             \n",
      "    beta                          :      0.092   +/-    0.02             \n",
      "    lon_0                 (frozen):      3.224       rad         \n",
      "    lat_0                 (frozen):     -0.223       rad         \n",
      "\n",
      "\n",
      "SkyModel\n",
      "\n",
      "  Name                      : 4FGL J0524.5+2839\n",
      "  Datasets names            : None\n",
      "  Spectral model type       : PowerLawSpectralModel\n",
      "  Spatial  model type       : PointSpatialModel\n",
      "  Temporal model type       : \n",
      "  Parameters:\n",
      "    index                         :      2.008   +/-    0.07             \n",
      "    amplitude                     :   5.99e-08   +/- 5.5e-09 1 / (TeV s cm2)\n",
      "    reference             (frozen):      0.004       TeV         \n",
      "    lon_0                 (frozen):      3.102       rad         \n",
      "    lat_0                 (frozen):     -0.071       rad         \n",
      "\n",
      "\n",
      "SkyModel\n",
      "\n",
      "  Name                      : 4FGL J0533.5+1449\n",
      "  Datasets names            : None\n",
      "  Spectral model type       : PowerLawSpectralModel\n",
      "  Spatial  model type       : PointSpatialModel\n",
      "  Temporal model type       : \n",
      "  Parameters:\n",
      "    index                         :      1.932   +/-    0.17             \n",
      "    amplitude                     :   6.56e-09   +/- 1.7e-09 1 / (TeV s cm2)\n",
      "    reference             (frozen):      0.005       TeV         \n",
      "    lon_0                 (frozen):      3.326       rad         \n",
      "    lat_0                 (frozen):     -0.171       rad         \n",
      "\n",
      "\n",
      "SkyModel\n",
      "\n",
      "  Name                      : 4FGL J0539.6+1432\n",
      "  Datasets names            : None\n",
      "  Spectral model type       : PowerLawSpectralModel\n",
      "  Spatial  model type       : PointSpatialModel\n",
      "  Temporal model type       : \n",
      "  Parameters:\n",
      "    index                         :      2.545   +/-    0.06             \n",
      "    amplitude                     :   1.59e-06   +/- 1.3e-07 1 / (TeV s cm2)\n",
      "    reference             (frozen):      0.001       TeV         \n",
      "    lon_0                 (frozen):      3.344       rad         \n",
      "    lat_0                 (frozen):     -0.152       rad         \n",
      "\n",
      "\n",
      "SkyModel\n",
      "\n",
      "  Name                      : 4FGL J0515.8+1527\n",
      "  Datasets names            : None\n",
      "  Spectral model type       : PowerLawSpectralModel\n",
      "  Spatial  model type       : PointSpatialModel\n",
      "  Temporal model type       : \n",
      "  Parameters:\n",
      "    index                         :      1.942   +/-    0.04             \n",
      "    amplitude                     :   1.95e-07   +/- 1.2e-08 1 / (TeV s cm2)\n",
      "    reference             (frozen):      0.003       TeV         \n",
      "    lon_0                 (frozen):      3.276       rad         \n",
      "    lat_0                 (frozen):     -0.228       rad         \n",
      "\n",
      "\n",
      "SkyModel\n",
      "\n",
      "  Name                      : 4FGL J0609.0+2136c\n",
      "  Datasets names            : None\n",
      "  Spectral model type       : LogParabolaSpectralModel\n",
      "  Spatial  model type       : PointSpatialModel\n",
      "  Temporal model type       : \n",
      "  Parameters:\n",
      "    amplitude                     :   8.51e-07   +/- 1.2e-07 1 / (TeV s cm2)\n",
      "    reference             (frozen):      0.001       TeV         \n",
      "    alpha                         :      2.413   +/-    0.19             \n",
      "    beta                          :      0.380   +/-    0.14             \n",
      "    lon_0                 (frozen):      3.298       rad         \n",
      "    lat_0                 (frozen):      0.016       rad         \n",
      "\n",
      "\n",
      "SkyModel\n",
      "\n",
      "  Name                      : 4FGL J0501.0+2424\n",
      "  Datasets names            : None\n",
      "  Spectral model type       : PowerLawSpectralModel\n",
      "  Spatial  model type       : PointSpatialModel\n",
      "  Temporal model type       : \n",
      "  Parameters:\n",
      "    index                         :      1.872   +/-    0.13             \n",
      "    amplitude                     :   5.55e-09   +/- 1.2e-09 1 / (TeV s cm2)\n",
      "    reference             (frozen):      0.006       TeV         \n",
      "    lon_0                 (frozen):      3.110       rad         \n",
      "    lat_0                 (frozen):     -0.188       rad         \n",
      "\n",
      "\n",
      "SkyModel\n",
      "\n",
      "  Name                      : 4FGL J0608.8+2034c\n",
      "  Datasets names            : None\n",
      "  Spectral model type       : PowerLawSpectralModel\n",
      "  Spatial  model type       : PointSpatialModel\n",
      "  Temporal model type       : \n",
      "  Parameters:\n",
      "    index                         :      2.511   +/-   -0.08             \n",
      "    amplitude                     :   1.35e-07   +/- 1.8e-08 1 / (TeV s cm2)\n",
      "    reference             (frozen):      0.003       TeV         \n",
      "    lon_0                 (frozen):      3.314       rad         \n",
      "    lat_0                 (frozen):      0.006       rad         \n",
      "\n",
      "\n",
      "SkyModel\n",
      "\n",
      "  Name                      : 4FGL J0609.0+2006\n",
      "  Datasets names            : None\n",
      "  Spectral model type       : LogParabolaSpectralModel\n",
      "  Spatial  model type       : PointSpatialModel\n",
      "  Temporal model type       : \n",
      "  Parameters:\n",
      "    amplitude                     :   2.01e-06   +/- 3.1e-07 1 / (TeV s cm2)\n",
      "    reference             (frozen):      0.001       TeV         \n",
      "    alpha                         :      2.887   +/-    0.32             \n",
      "    beta                          :      0.605   +/-    0.26             \n",
      "    lon_0                 (frozen):      3.321       rad         \n",
      "    lat_0                 (frozen):      0.003       rad         \n",
      "\n",
      "\n",
      "SkyModel\n",
      "\n",
      "  Name                      : 4FGL J0530.9+1332\n",
      "  Datasets names            : None\n",
      "  Spectral model type       : LogParabolaSpectralModel\n",
      "  Spatial  model type       : PointSpatialModel\n",
      "  Temporal model type       : \n",
      "  Parameters:\n",
      "    amplitude                     :   5.59e-06   +/- 3.0e-07 1 / (TeV s cm2)\n",
      "    reference             (frozen):      0.001       TeV         \n",
      "    alpha                         :      2.549   +/-    0.06             \n",
      "    beta                          :      0.278   +/-    0.05             \n",
      "    lon_0                 (frozen):      3.340       rad         \n",
      "    lat_0                 (frozen):     -0.192       rad         \n",
      "\n",
      "\n",
      "SkyModel\n",
      "\n",
      "  Name                      : 4FGL J0459.4+1921\n",
      "  Datasets names            : None\n",
      "  Spectral model type       : PowerLawSpectralModel\n",
      "  Spatial  model type       : PointSpatialModel\n",
      "  Temporal model type       : \n",
      "  Parameters:\n",
      "    index                         :      2.029   +/-    0.20             \n",
      "    amplitude                     :   3.64e-09   +/- 9.7e-10 1 / (TeV s cm2)\n",
      "    reference             (frozen):      0.007       TeV         \n",
      "    lon_0                 (frozen):      3.178       rad         \n",
      "    lat_0                 (frozen):     -0.245       rad         \n",
      "\n",
      "\n",
      "SkyModel\n",
      "\n",
      "  Name                      : 4FGL J0531.7+1241c\n",
      "  Datasets names            : None\n",
      "  Spectral model type       : PowerLawSpectralModel\n",
      "  Spatial  model type       : PointSpatialModel\n",
      "  Temporal model type       : \n",
      "  Parameters:\n",
      "    index                         :      2.668   +/-    0.12             \n",
      "    amplitude                     :   6.99e-07   +/- 1.3e-07 1 / (TeV s cm2)\n",
      "    reference             (frozen):      0.001       TeV         \n",
      "    lon_0                 (frozen):      3.355       rad         \n",
      "    lat_0                 (frozen):     -0.197       rad         \n",
      "\n",
      "\n",
      "SkyModel\n",
      "\n",
      "  Name                      : 4FGL J0614.9+2426\n",
      "  Datasets names            : None\n",
      "  Spectral model type       : PowerLawSpectralModel\n",
      "  Spatial  model type       : PointSpatialModel\n",
      "  Temporal model type       : \n",
      "  Parameters:\n",
      "    index                         :      2.188   +/-    0.14             \n",
      "    amplitude                     :   3.46e-08   +/- 7.8e-09 1 / (TeV s cm2)\n",
      "    reference             (frozen):      0.003       TeV         \n",
      "    lon_0                 (frozen):      3.266       rad         \n",
      "    lat_0                 (frozen):      0.060       rad         \n",
      "\n",
      "\n",
      "SkyModel\n",
      "\n",
      "  Name                      : 4FGL J0616.5+2235\n",
      "  Datasets names            : None\n",
      "  Spectral model type       : PowerLawSpectralModel\n",
      "  Spatial  model type       : PointSpatialModel\n",
      "  Temporal model type       : \n",
      "  Parameters:\n",
      "    index                         :      1.998   +/-    0.06             \n",
      "    amplitude                     :   3.71e-08   +/- 3.6e-09 1 / (TeV s cm2)\n",
      "    reference             (frozen):      0.011       TeV         \n",
      "    lon_0                 (frozen):      3.298       rad         \n",
      "    lat_0                 (frozen):      0.051       rad         \n",
      "\n",
      "\n",
      "SkyModel\n",
      "\n",
      "  Name                      : 4FGL J0617.2+2234e\n",
      "  Datasets names            : None\n",
      "  Spectral model type       : LogParabolaSpectralModel\n",
      "  Spatial  model type       : GaussianSpatialModel\n",
      "  Temporal model type       : \n",
      "  Parameters:\n",
      "    amplitude                     :   3.93e-06   +/- 5.7e-08 1 / (TeV s cm2)\n",
      "    reference             (frozen):      0.004       TeV         \n",
      "    alpha                         :      2.234   +/-    0.01             \n",
      "    beta                          :      0.127   +/-    0.01             \n",
      "    lon_0                 (frozen):    189.048       deg         \n",
      "    lat_0                 (frozen):      3.033       deg         \n",
      "    sigma                 (frozen):      0.179       deg         \n",
      "    e                     (frozen):      0.000                   \n",
      "    phi                   (frozen):      0.000       deg         \n",
      "\n",
      "\n",
      "SkyModel\n",
      "\n",
      "  Name                      : 4FGL J0610.7+1656\n",
      "  Datasets names            : None\n",
      "  Spectral model type       : LogParabolaSpectralModel\n",
      "  Spatial  model type       : PointSpatialModel\n",
      "  Temporal model type       : \n",
      "  Parameters:\n",
      "    amplitude                     :   3.86e-06   +/- 4.9e-07 1 / (TeV s cm2)\n",
      "    reference             (frozen):      0.001       TeV         \n",
      "    alpha                         :      2.877   +/-    0.25             \n",
      "    beta                          :      0.530   +/-    0.19             \n",
      "    lon_0                 (frozen):      3.373       rad         \n",
      "    lat_0                 (frozen):     -0.018       rad         \n",
      "\n",
      "\n",
      "SkyModel\n",
      "\n",
      "  Name                      : 4FGL J0452.0+2100\n",
      "  Datasets names            : None\n",
      "  Spectral model type       : PowerLawSpectralModel\n",
      "  Spatial  model type       : PointSpatialModel\n",
      "  Temporal model type       : \n",
      "  Parameters:\n",
      "    index                         :      1.641   +/-    0.17             \n",
      "    amplitude                     :   1.25e-09   +/- 3.9e-10 1 / (TeV s cm2)\n",
      "    reference             (frozen):      0.011       TeV         \n",
      "    lon_0                 (frozen):      3.136       rad         \n",
      "    lat_0                 (frozen):     -0.253       rad         \n",
      "\n",
      "\n",
      "SkyModel\n",
      "\n",
      "  Name                      : 4FGL J0540.0+1209\n",
      "  Datasets names            : None\n",
      "  Spectral model type       : PowerLawSpectralModel\n",
      "  Spatial  model type       : PointSpatialModel\n",
      "  Temporal model type       : \n",
      "  Parameters:\n",
      "    index                         :      2.306   +/-    0.12             \n",
      "    amplitude                     :   7.80e-08   +/- 1.3e-08 1 / (TeV s cm2)\n",
      "    reference             (frozen):      0.002       TeV         \n",
      "    lon_0                 (frozen):      3.381       rad         \n",
      "    lat_0                 (frozen):     -0.172       rad         \n",
      "\n",
      "\n",
      "SkyModel\n",
      "\n",
      "  Name                      : 4FGL J0613.1+1749c\n",
      "  Datasets names            : None\n",
      "  Spectral model type       : PowerLawSpectralModel\n",
      "  Spatial  model type       : PointSpatialModel\n",
      "  Temporal model type       : \n",
      "  Parameters:\n",
      "    index                         :      2.634   +/-    0.11             \n",
      "    amplitude                     :   8.93e-07   +/- 1.5e-07 1 / (TeV s cm2)\n",
      "    reference             (frozen):      0.001       TeV         \n",
      "    lon_0                 (frozen):      3.365       rad         \n",
      "    lat_0                 (frozen):     -0.001       rad         \n",
      "\n",
      "\n",
      "SkyModel\n",
      "\n",
      "  Name                      : 4FGL J0456.2+2702\n",
      "  Datasets names            : None\n",
      "  Spectral model type       : LogParabolaSpectralModel\n",
      "  Spatial  model type       : PointSpatialModel\n",
      "  Temporal model type       : \n",
      "  Parameters:\n",
      "    amplitude                     :   6.56e-07   +/- 7.6e-08 1 / (TeV s cm2)\n",
      "    reference             (frozen):      0.001       TeV         \n",
      "    alpha                         :      2.318   +/-    0.11             \n",
      "    beta                          :      0.173   +/-    0.07             \n",
      "    lon_0                 (frozen):      3.061       rad         \n",
      "    lat_0                 (frozen):     -0.175       rad         \n",
      "\n",
      "\n",
      "SkyModel\n",
      "\n",
      "  Name                      : 4FGL J0554.1+3107\n",
      "  Datasets names            : None\n",
      "  Spectral model type       : ExpCutoffPowerLawSpectralModel\n",
      "  Spatial  model type       : PointSpatialModel\n",
      "  Temporal model type       : \n",
      "  Parameters:\n",
      "    index                         :      0.616   +/-    0.08             \n",
      "    amplitude                     :   4.51e-05   +/- 3.6e-06 1 / (TeV s cm2)\n",
      "    reference             (frozen):      0.000       TeV         \n",
      "    lambda_                       :   2498.897   +/-    0.00 1 / TeV     \n",
      "    alpha                 (frozen):      0.667                   \n",
      "    lon_0                 (frozen):      3.126       rad         \n",
      "    lat_0                 (frozen):      0.047       rad         \n",
      "\n",
      "\n",
      "SkyModel\n",
      "\n",
      "  Name                      : 4FGL J0611.6+2803\n",
      "  Datasets names            : None\n",
      "  Spectral model type       : PowerLawSpectralModel\n",
      "  Spatial  model type       : PointSpatialModel\n",
      "  Temporal model type       : \n",
      "  Parameters:\n",
      "    index                         :      2.218   +/-    0.10             \n",
      "    amplitude                     :   1.07e-07   +/- 1.5e-08 1 / (TeV s cm2)\n",
      "    reference             (frozen):      0.002       TeV         \n",
      "    lon_0                 (frozen):      3.205       rad         \n",
      "    lat_0                 (frozen):      0.079       rad         \n",
      "\n",
      "\n",
      "SkyModel\n",
      "\n",
      "  Name                      : 4FGL J0559.6+3044\n",
      "  Datasets names            : None\n",
      "  Spectral model type       : LogParabolaSpectralModel\n",
      "  Spatial  model type       : PointSpatialModel\n",
      "  Temporal model type       : \n",
      "  Parameters:\n",
      "    amplitude                     :   4.64e-09   +/- 1.1e-09 1 / (TeV s cm2)\n",
      "    reference             (frozen):      0.010       TeV         \n",
      "    alpha                         :      1.402   +/-    0.26             \n",
      "    beta                          :      0.418   +/-    0.18             \n",
      "    lon_0                 (frozen):      3.141       rad         \n",
      "    lat_0                 (frozen):      0.062       rad         \n",
      "\n",
      "\n",
      "SkyModel\n",
      "\n",
      "  Name                      : 4FGL J0548.6+1200\n",
      "  Datasets names            : None\n",
      "  Spectral model type       : PowerLawSpectralModel\n",
      "  Spatial  model type       : PointSpatialModel\n",
      "  Temporal model type       : \n",
      "  Parameters:\n",
      "    index                         :      2.738   +/-    0.16             \n",
      "    amplitude                     :   1.57e-06   +/- 3.2e-07 1 / (TeV s cm2)\n",
      "    reference             (frozen):      0.001       TeV         \n",
      "    lon_0                 (frozen):      3.402       rad         \n",
      "    lat_0                 (frozen):     -0.141       rad         \n",
      "\n",
      "\n",
      "SkyModel\n",
      "\n",
      "  Name                      : 4FGL J0502.2+3016\n",
      "  Datasets names            : None\n",
      "  Spectral model type       : PowerLawSpectralModel\n",
      "  Spatial  model type       : PointSpatialModel\n",
      "  Temporal model type       : \n",
      "  Parameters:\n",
      "    index                         :      2.086   +/-    0.22             \n",
      "    amplitude                     :   6.55e-09   +/- 1.9e-09 1 / (TeV s cm2)\n",
      "    reference             (frozen):      0.005       TeV         \n",
      "    lon_0                 (frozen):      3.030       rad         \n",
      "    lat_0                 (frozen):     -0.123       rad         \n",
      "\n",
      "\n",
      "SkyModel\n",
      "\n",
      "  Name                      : 4FGL J0600.3+1244\n",
      "  Datasets names            : None\n",
      "  Spectral model type       : PowerLawSpectralModel\n",
      "  Spatial  model type       : PointSpatialModel\n",
      "  Temporal model type       : \n",
      "  Parameters:\n",
      "    index                         :      1.533   +/-   -0.09             \n",
      "    amplitude                     :   2.33e-09   +/- 3.6e-10 1 / (TeV s cm2)\n",
      "    reference             (frozen):      0.016       TeV         \n",
      "    lon_0                 (frozen):      3.416       rad         \n",
      "    lat_0                 (frozen):     -0.092       rad         \n",
      "\n",
      "\n",
      "SkyModel\n",
      "\n",
      "  Name                      : 4FGL J0612.6+1520c\n",
      "  Datasets names            : None\n",
      "  Spectral model type       : PowerLawSpectralModel\n",
      "  Spatial  model type       : PointSpatialModel\n",
      "  Temporal model type       : \n",
      "  Parameters:\n",
      "    index                         :      2.658   +/-   -0.13             \n",
      "    amplitude                     :   3.69e-07   +/- 8.5e-08 1 / (TeV s cm2)\n",
      "    reference             (frozen):      0.001       TeV         \n",
      "    lon_0                 (frozen):      3.402       rad         \n",
      "    lat_0                 (frozen):     -0.024       rad         \n",
      "\n",
      "\n",
      "SkyModel\n",
      "\n",
      "  Name                      : 4FGL J0502.5+1340\n",
      "  Datasets names            : None\n",
      "  Spectral model type       : PowerLawSpectralModel\n",
      "  Spatial  model type       : PointSpatialModel\n",
      "  Temporal model type       : \n",
      "  Parameters:\n",
      "    index                         :      2.232   +/-    0.11             \n",
      "    amplitude                     :   1.14e-07   +/- 1.6e-08 1 / (TeV s cm2)\n",
      "    reference             (frozen):      0.002       TeV         \n",
      "    lon_0                 (frozen):      3.270       rad         \n",
      "    lat_0                 (frozen):     -0.292       rad         \n",
      "\n",
      "\n",
      "SkyModel\n",
      "\n",
      "  Name                      : 4FGL J0501.7+3048\n",
      "  Datasets names            : None\n",
      "  Spectral model type       : PowerLawSpectralModel\n",
      "  Spatial  model type       : PointSpatialModel\n",
      "  Temporal model type       : \n",
      "  Parameters:\n",
      "    index                         :      1.963   +/-    0.14             \n",
      "    amplitude                     :   9.23e-09   +/- 1.6e-09 1 / (TeV s cm2)\n",
      "    reference             (frozen):      0.006       TeV         \n",
      "    lon_0                 (frozen):      3.021       rad         \n",
      "    lat_0                 (frozen):     -0.119       rad         \n",
      "\n",
      "\n",
      "SkyModel\n",
      "\n",
      "  Name                      : 4FGL J0453.3+2843\n",
      "  Datasets names            : None\n",
      "  Spectral model type       : LogParabolaSpectralModel\n",
      "  Spatial  model type       : PointSpatialModel\n",
      "  Temporal model type       : \n",
      "  Parameters:\n",
      "    amplitude                     :   6.39e-07   +/- 1.0e-07 1 / (TeV s cm2)\n",
      "    reference             (frozen):      0.001       TeV         \n",
      "    alpha                         :      2.417   +/-    0.19             \n",
      "    beta                          :      0.276   +/-    0.12             \n",
      "    lon_0                 (frozen):      3.030       rad         \n",
      "    lat_0                 (frozen):     -0.166       rad         \n",
      "\n",
      "\n",
      "SkyModel\n",
      "\n",
      "  Name                      : 4FGL J0609.5+1402\n",
      "  Datasets names            : None\n",
      "  Spectral model type       : PowerLawSpectralModel\n",
      "  Spatial  model type       : PointSpatialModel\n",
      "  Temporal model type       : \n",
      "  Parameters:\n",
      "    index                         :      2.543   +/-    0.12             \n",
      "    amplitude                     :   6.57e-07   +/- 1.2e-07 1 / (TeV s cm2)\n",
      "    reference             (frozen):      0.001       TeV         \n",
      "    lon_0                 (frozen):      3.415       rad         \n",
      "    lat_0                 (frozen):     -0.046       rad         \n",
      "\n",
      "\n",
      "SkyModel\n",
      "\n",
      "  Name                      : 4FGL J0608.6+1149\n",
      "  Datasets names            : None\n",
      "  Spectral model type       : PowerLawSpectralModel\n",
      "  Spatial  model type       : PointSpatialModel\n",
      "  Temporal model type       : \n",
      "  Parameters:\n",
      "    index                         :      2.267   +/-    0.14             \n",
      "    amplitude                     :   3.24e-08   +/- 6.3e-09 1 / (TeV s cm2)\n",
      "    reference             (frozen):      0.003       TeV         \n",
      "    lon_0                 (frozen):      3.447       rad         \n",
      "    lat_0                 (frozen):     -0.068       rad         \n",
      "\n",
      "\n",
      "SkyModel\n",
      "\n",
      "  Name                      : 4FGL J0449.6+3027\n",
      "  Datasets names            : None\n",
      "  Spectral model type       : PowerLawSpectralModel\n",
      "  Spatial  model type       : PointSpatialModel\n",
      "  Temporal model type       : \n",
      "  Parameters:\n",
      "    index                         :      2.648   +/-    0.14             \n",
      "    amplitude                     :   8.36e-07   +/- 1.8e-07 1 / (TeV s cm2)\n",
      "    reference             (frozen):      0.001       TeV         \n",
      "    lon_0                 (frozen):      2.997       rad         \n",
      "    lat_0                 (frozen):     -0.158       rad         \n",
      "\n",
      "\n",
      "SkyModel\n",
      "\n",
      "  Name                      : 4FGL J0458.0+1152\n",
      "  Datasets names            : None\n",
      "  Spectral model type       : PowerLawSpectralModel\n",
      "  Spatial  model type       : PointSpatialModel\n",
      "  Temporal model type       : \n",
      "  Parameters:\n",
      "    index                         :      1.887   +/-    0.17             \n",
      "    amplitude                     :   3.37e-09   +/- 8.1e-10 1 / (TeV s cm2)\n",
      "    reference             (frozen):      0.008       TeV         \n",
      "    lon_0                 (frozen):      3.286       rad         \n",
      "    lat_0                 (frozen):     -0.326       rad         \n",
      "\n",
      "\n",
      "SkyModel\n",
      "\n",
      "  Name                      : fermi-diffuse-iso-00\n",
      "  Datasets names            : None\n",
      "  Spectral model type       : CompoundSpectralModel\n",
      "  Spatial  model type       : ConstantSpatialModel\n",
      "  Temporal model type       : \n",
      "  Parameters:\n",
      "    norm                          :      1.000   +/-    0.00             \n",
      "    tilt                  (frozen):      0.000                   \n",
      "    reference             (frozen):      1.000       TeV         \n",
      "    value                 (frozen):      1.000       1 / sr      \n",
      "\n",
      "\n",
      "SkyModel\n",
      "\n",
      "  Name                      : diffuse-iem\n",
      "  Datasets names            : None\n",
      "  Spectral model type       : PowerLawNormSpectralModel\n",
      "  Spatial  model type       : TemplateSpatialModel\n",
      "  Temporal model type       : \n",
      "  Parameters:\n",
      "    norm                          :      1.000   +/-    0.00             \n",
      "    tilt                  (frozen):      0.000                   \n",
      "    reference             (frozen):      1.000       TeV         \n",
      "    lon_0                 (frozen):    187.750       deg         \n",
      "    lat_0                 (frozen):     -5.812       deg         \n",
      "\n",
      "\n"
     ]
    }
   ],
   "source": [
    "for src in generate_3d_dataset.list_source_models:\n",
    "    print(src)"
   ]
  },
  {
   "cell_type": "code",
   "execution_count": 35,
   "id": "c207768b",
   "metadata": {},
   "outputs": [
    {
     "name": "stdout",
     "output_type": "stream",
     "text": [
      "Number of free parameters in the whole list of SkyModels: 123\n"
     ]
    }
   ],
   "source": [
    "print(\n",
    "    \"Number of free parameters in the whole list of SkyModels:\",\n",
    "    len(Models(generate_3d_dataset.list_source_models).parameters.free_parameters),\n",
    ")"
   ]
  },
  {
   "cell_type": "code",
   "execution_count": 36,
   "id": "a5fe0263",
   "metadata": {},
   "outputs": [
    {
     "name": "stdout",
     "output_type": "stream",
     "text": [
      "Names of the sources in the whole list of SkyModels: ['4FGL J0534.5+2201i', '4FGL J0534.5+2201s', '4FGL J0534.5+2200', '4FGL J0526.3+2246', '4FGL J0544.4+2238', '4FGL J0521.7+2112', '4FGL J0528.3+1817', '4FGL J0536.2+1733', '4FGL J0550.9+2552c', '4FGL J0539.0+1644', '4FGL J0534.2+2751', '4FGL J0540.3+2756e', '4FGL J0521.2+1637', '4FGL J0552.0+2656c', '4FGL J0601.4+2320', '4FGL J0509.1+1943', '4FGL J0533.9+2838', '4FGL J0519.6+2744', '4FGL J0603.9+2159', '4FGL J0510.0+1800', '4FGL J0524.5+2839', '4FGL J0533.5+1449', '4FGL J0539.6+1432', '4FGL J0515.8+1527', '4FGL J0609.0+2136c', '4FGL J0501.0+2424', '4FGL J0608.8+2034c', '4FGL J0609.0+2006', '4FGL J0530.9+1332', '4FGL J0459.4+1921', '4FGL J0531.7+1241c', '4FGL J0614.9+2426', '4FGL J0616.5+2235', '4FGL J0617.2+2234e', '4FGL J0610.7+1656', '4FGL J0452.0+2100', '4FGL J0540.0+1209', '4FGL J0613.1+1749c', '4FGL J0456.2+2702', '4FGL J0554.1+3107', '4FGL J0611.6+2803', '4FGL J0559.6+3044', '4FGL J0548.6+1200', '4FGL J0502.2+3016', '4FGL J0600.3+1244', '4FGL J0612.6+1520c', '4FGL J0502.5+1340', '4FGL J0501.7+3048', '4FGL J0453.3+2843', '4FGL J0609.5+1402', '4FGL J0608.6+1149', '4FGL J0449.6+3027', '4FGL J0458.0+1152', 'fermi-diffuse-iso-00', 'diffuse-iem']\n"
     ]
    }
   ],
   "source": [
    "print(\"Names of the sources in the whole list of SkyModels:\", Models(generate_3d_dataset.list_source_models).names)"
   ]
  },
  {
   "cell_type": "code",
   "execution_count": null,
   "id": "66aa88c5",
   "metadata": {},
   "outputs": [],
   "source": []
  },
  {
   "cell_type": "markdown",
   "id": "1f93b74c",
   "metadata": {},
   "source": [
    "### Start preparing objects to create the counts map"
   ]
  },
  {
   "cell_type": "code",
   "execution_count": 37,
   "id": "fb7e17d2",
   "metadata": {},
   "outputs": [
    {
     "name": "stdout",
     "output_type": "stream",
     "text": [
      "CPU times: user 3.46 ms, sys: 152 μs, total: 3.61 ms\n",
      "Wall time: 3.16 ms\n"
     ]
    }
   ],
   "source": [
    "%%time\n",
    "generate_3d_dataset.set_energy_dispersion_matrix()"
   ]
  },
  {
   "cell_type": "code",
   "execution_count": 38,
   "id": "9f57bbce",
   "metadata": {
    "scrolled": true
   },
   "outputs": [
    {
     "name": "stdout",
     "output_type": "stream",
     "text": [
      "EDispKernel\n",
      "-----------\n",
      "\n",
      "  axes  : ['energy_true', 'energy']\n",
      "  shape : (24, 24)\n",
      "  ndim  : 2\n",
      "  unit  : \n",
      "  dtype : float32\n",
      "\n"
     ]
    },
    {
     "data": {
      "image/png": "[encoded data removed]",
      "text/plain": [
       "<Figure size 1500x500 with 2 Axes>"
      ]
     },
     "metadata": {},
     "output_type": "display_data"
    }
   ],
   "source": [
    "print(generate_3d_dataset.irfs[\"edisp_kernel\"])\n",
    "generate_3d_dataset.irfs[\"edisp_kernel\"].peek()"
   ]
  },
  {
   "cell_type": "code",
   "execution_count": null,
   "id": "d93fca51",
   "metadata": {},
   "outputs": [],
   "source": []
  },
  {
   "cell_type": "code",
   "execution_count": 39,
   "id": "16eacca4",
   "metadata": {},
   "outputs": [
    {
     "name": "stdout",
     "output_type": "stream",
     "text": [
      "CPU times: user 37.2 ms, sys: 3.73 ms, total: 41 ms\n",
      "Wall time: 40.7 ms\n"
     ]
    }
   ],
   "source": [
    "%%time\n",
    "generate_3d_dataset.load_events(file_list[\"events_file\"])"
   ]
  },
  {
   "cell_type": "markdown",
   "id": "6877f12a",
   "metadata": {},
   "source": [
    "### EventList and GTI"
   ]
  },
  {
   "cell_type": "code",
   "execution_count": 40,
   "id": "e37b21b2",
   "metadata": {
    "scrolled": true
   },
   "outputs": [
    {
     "data": {
      "image/png": "[encoded data removed]",
      "text/plain": [
       "<Figure size 1200x800 with 5 Axes>"
      ]
     },
     "metadata": {},
     "output_type": "display_data"
    }
   ],
   "source": [
    "generate_3d_dataset.events[\"events\"].peek()"
   ]
  },
  {
   "cell_type": "code",
   "execution_count": 41,
   "id": "ebaae3e3",
   "metadata": {},
   "outputs": [
    {
     "name": "stdout",
     "output_type": "stream",
     "text": [
      "GTI info:\n",
      "- Number of GTIs: 18978\n",
      "- Duration: 90748484.2994926 s\n",
      "- Start: 567993605.0 s MET\n",
      "- Start: 2019-01-01T00:01:09.184 (time standard: TT)\n",
      "- Stop: 675646997.0852783 s MET\n",
      "- Stop: 2022-05-30T23:44:21.269 (time standard: TT)\n",
      "\n"
     ]
    }
   ],
   "source": [
    "print(generate_3d_dataset.events[\"gti\"])"
   ]
  },
  {
   "cell_type": "code",
   "execution_count": null,
   "id": "458eeb24",
   "metadata": {},
   "outputs": [],
   "source": []
  },
  {
   "cell_type": "code",
   "execution_count": 42,
   "id": "6ec462f3",
   "metadata": {},
   "outputs": [
    {
     "name": "stdout",
     "output_type": "stream",
     "text": [
      "{'center': <SkyCoord (FK5: equinox=J2000.000): (ra, dec) in deg\n",
      "    (83.633, 22.02)>, 'radius': 11.10660172}\n",
      "CPU times: user 4.98 ms, sys: 2.63 ms, total: 7.61 ms\n",
      "Wall time: 2.53 ms\n"
     ]
    }
   ],
   "source": [
    "%%time\n",
    "# Source position from the Events file\n",
    "center_pos = get_source_position(\n",
    "    target_region=generate_3d_dataset.config_target,\n",
    "    fits_header=generate_3d_dataset.events[\"event_fits\"][1].header,\n",
    ")\n",
    "print(center_pos)"
   ]
  },
  {
   "cell_type": "code",
   "execution_count": null,
   "id": "785eb7a0",
   "metadata": {},
   "outputs": [],
   "source": []
  },
  {
   "cell_type": "markdown",
   "id": "82a94419",
   "metadata": {},
   "source": [
    "## Create the Counts Map"
   ]
  },
  {
   "cell_type": "code",
   "execution_count": 43,
   "id": "1c15e216",
   "metadata": {},
   "outputs": [
    {
     "name": "stdout",
     "output_type": "stream",
     "text": [
      "CPU times: user 978 ms, sys: 63.5 ms, total: 1.04 s\n",
      "Wall time: 982 ms\n"
     ]
    }
   ],
   "source": [
    "%%time\n",
    "generate_3d_dataset.events[\"counts_map\"] = create_counts_map(\n",
    "    geom_config=generate_3d_dataset.config_3d_dataset.dataset_info.geom,\n",
    "    center_pos=center_pos,\n",
    ")\n",
    "generate_3d_dataset.events[\"counts_map\"].fill_by_coord(\n",
    "    {\n",
    "        \"skycoord\": generate_3d_dataset.events[\"events\"].radec,\n",
    "        \"energy\": generate_3d_dataset.events[\"events\"].energy,\n",
    "        \"time\": generate_3d_dataset.events[\"events\"].time,\n",
    "    }\n",
    ")"
   ]
  },
  {
   "cell_type": "code",
   "execution_count": 44,
   "id": "e5fdda1a",
   "metadata": {},
   "outputs": [
    {
     "data": {
      "text/html": [
       "<pre>WcsNDMap\n",
       "\n",
       "\tgeom  : WcsGeom \n",
       " \taxes  : [&#x27;lon&#x27;, &#x27;lat&#x27;, &#x27;energy&#x27;]\n",
       "\tshape : (222, 222, 24)\n",
       "\tndim  : 3\n",
       "\tunit  : \n",
       "\tdtype : float64\n",
       "</pre>"
      ],
      "text/plain": [
       "<gammapy.maps.wcs.ndmap.WcsNDMap at 0x796891829dc0>"
      ]
     },
     "execution_count": 44,
     "metadata": {},
     "output_type": "execute_result"
    }
   ],
   "source": [
    "generate_3d_dataset.events[\"counts_map\"]"
   ]
  },
  {
   "cell_type": "code",
   "execution_count": 45,
   "id": "02b30a6c-0d6c-47ec-91f6-e990ce6b792e",
   "metadata": {
    "scrolled": true
   },
   "outputs": [
    {
     "data": {
      "application/vnd.jupyter.widget-view+json": {
       "model_id": "2f18102773e74aa197d4ded02641bebc",
       "version_major": 2,
       "version_minor": 0
      },
      "text/plain": [
       "interactive(children=(SelectionSlider(continuous_update=False, description='Select energy:', layout=Layout(wid…"
      ]
     },
     "metadata": {},
     "output_type": "display_data"
    }
   ],
   "source": [
    "generate_3d_dataset.events[\"counts_map\"].plot_interactive()"
   ]
  },
  {
   "cell_type": "code",
   "execution_count": 46,
   "id": "3a641623",
   "metadata": {
    "scrolled": true
   },
   "outputs": [
    {
     "data": {
      "text/plain": [
       "<WCSAxes: >"
      ]
     },
     "execution_count": 46,
     "metadata": {},
     "output_type": "execute_result"
    },
    {
     "data": {
      "image/png": "[encoded data removed]",
      "text/plain": [
       "<Figure size 640x480 with 2 Axes>"
      ]
     },
     "metadata": {},
     "output_type": "display_data"
    }
   ],
   "source": [
    "generate_3d_dataset.events[\"counts_map\"].sum_over_axes().smooth(2).plot(stretch=\"sqrt\", add_cbar=True)"
   ]
  },
  {
   "cell_type": "code",
   "execution_count": null,
   "id": "eb594d80",
   "metadata": {},
   "outputs": [],
   "source": []
  },
  {
   "cell_type": "markdown",
   "id": "ada85dac",
   "metadata": {},
   "source": [
    "### Exclusion mask"
   ]
  },
  {
   "cell_type": "code",
   "execution_count": 47,
   "id": "55ce893b",
   "metadata": {},
   "outputs": [
    {
     "name": "stdout",
     "output_type": "stream",
     "text": [
      "CPU times: user 198 ms, sys: 108 ms, total: 307 ms\n",
      "Wall time: 204 ms\n"
     ]
    }
   ],
   "source": [
    "%%time\n",
    "generate_3d_dataset.exclusion_mask = get_exclusion_region_mask(\n",
    "    exclusion_params=generate_3d_dataset.config_3d_dataset.dataset_info.background.exclusion,\n",
    "    excluded_geom=generate_3d_dataset.events[\"counts_map\"].geom.copy(),\n",
    "    exclusion_regions=exclusion_regions,\n",
    "    config_target=generate_3d_dataset.config_target,\n",
    "    geom_config=generate_3d_dataset.config_3d_dataset.dataset_info.geom,\n",
    "    log=generate_3d_dataset.log,\n",
    ")"
   ]
  },
  {
   "cell_type": "code",
   "execution_count": 48,
   "id": "e43a484c",
   "metadata": {},
   "outputs": [
    {
     "name": "stdout",
     "output_type": "stream",
     "text": [
      "WcsNDMap\n",
      "\n",
      "\tgeom  : WcsGeom \n",
      " \taxes  : ['lon', 'lat', 'energy']\n",
      "\tshape : (222, 222, 24)\n",
      "\tndim  : 3\n",
      "\tunit  : \n",
      "\tdtype : bool\n",
      "\n"
     ]
    }
   ],
   "source": [
    "print(generate_3d_dataset.exclusion_mask)"
   ]
  },
  {
   "cell_type": "code",
   "execution_count": 49,
   "id": "f8e65b31-2230-4581-9630-4e353a040569",
   "metadata": {
    "scrolled": true
   },
   "outputs": [
    {
     "data": {
      "application/vnd.jupyter.widget-view+json": {
       "model_id": "cd293605318b4d4ea88a926079dc2e4a",
       "version_major": 2,
       "version_minor": 0
      },
      "text/plain": [
       "interactive(children=(SelectionSlider(continuous_update=False, description='Select energy:', layout=Layout(wid…"
      ]
     },
     "metadata": {},
     "output_type": "display_data"
    }
   ],
   "source": [
    "generate_3d_dataset.exclusion_mask.plot_interactive()"
   ]
  },
  {
   "cell_type": "code",
   "execution_count": null,
   "id": "86d08e4e",
   "metadata": {},
   "outputs": [],
   "source": []
  },
  {
   "cell_type": "markdown",
   "id": "dfab56f8",
   "metadata": {},
   "source": [
    "### IRF interpolators"
   ]
  },
  {
   "cell_type": "code",
   "execution_count": 50,
   "id": "47facdbb",
   "metadata": {},
   "outputs": [
    {
     "name": "stdout",
     "output_type": "stream",
     "text": [
      "CPU times: user 2.92 ms, sys: 4.63 ms, total: 7.55 ms\n",
      "Wall time: 2.36 ms\n"
     ]
    }
   ],
   "source": [
    "%%time\n",
    "generate_3d_dataset.set_edisp_interpolator()"
   ]
  },
  {
   "cell_type": "code",
   "execution_count": 51,
   "id": "b950eae3",
   "metadata": {
    "scrolled": true
   },
   "outputs": [
    {
     "name": "stdout",
     "output_type": "stream",
     "text": [
      "EDispKernel\n",
      "-----------\n",
      "\n",
      "  axes  : ['energy_true', 'energy']\n",
      "  shape : (24, 24)\n",
      "  ndim  : 2\n",
      "  unit  : \n",
      "  dtype : float64\n",
      "\n"
     ]
    },
    {
     "data": {
      "image/png": "[encoded data removed]",
      "text/plain": [
       "<Figure size 1500x500 with 2 Axes>"
      ]
     },
     "metadata": {},
     "output_type": "display_data"
    }
   ],
   "source": [
    "print(generate_3d_dataset.irfs[\"edisp_interp_kernel\"])\n",
    "generate_3d_dataset.irfs[\"edisp_interp_kernel\"].peek()"
   ]
  },
  {
   "cell_type": "code",
   "execution_count": 52,
   "id": "abd0d869",
   "metadata": {},
   "outputs": [
    {
     "name": "stdout",
     "output_type": "stream",
     "text": [
      "CPU times: user 375 ms, sys: 42.9 ms, total: 418 ms\n",
      "Wall time: 417 ms\n"
     ]
    }
   ],
   "source": [
    "%%time\n",
    "generate_3d_dataset.set_exposure_interpolator()"
   ]
  },
  {
   "cell_type": "code",
   "execution_count": 53,
   "id": "2aa7965b",
   "metadata": {},
   "outputs": [
    {
     "name": "stdout",
     "output_type": "stream",
     "text": [
      "WcsNDMap\n",
      "\n",
      "\tgeom  : WcsGeom \n",
      " \taxes  : ['lon', 'lat', 'energy_true']\n",
      "\tshape : (222, 222, 24)\n",
      "\tndim  : 3\n",
      "\tunit  : cm2 s\n",
      "\tdtype : float64\n",
      "\n"
     ]
    }
   ],
   "source": [
    "print(generate_3d_dataset.irfs[\"exposure_interp\"])"
   ]
  },
  {
   "cell_type": "code",
   "execution_count": null,
   "id": "95ac2e03",
   "metadata": {},
   "outputs": [],
   "source": []
  },
  {
   "cell_type": "markdown",
   "id": "2a5fe141",
   "metadata": {},
   "source": [
    "### Diffuse background cutout"
   ]
  },
  {
   "cell_type": "code",
   "execution_count": 54,
   "id": "5e9b1cc1",
   "metadata": {},
   "outputs": [
    {
     "name": "stdout",
     "output_type": "stream",
     "text": [
      "CPU times: user 15.4 ms, sys: 137 μs, total: 15.5 ms\n",
      "Wall time: 14.9 ms\n"
     ]
    }
   ],
   "source": [
    "%%time\n",
    "generate_3d_dataset.generate_diffuse_background_cutout()"
   ]
  },
  {
   "cell_type": "code",
   "execution_count": 55,
   "id": "3a3a56aa",
   "metadata": {},
   "outputs": [
    {
     "name": "stdout",
     "output_type": "stream",
     "text": [
      "SkyModel\n",
      "\n",
      "  Name                      : diffuse-iem\n",
      "  Datasets names            : None\n",
      "  Spectral model type       : PowerLawNormSpectralModel\n",
      "  Spatial  model type       : TemplateSpatialModel\n",
      "  Temporal model type       : \n",
      "  Parameters:\n",
      "    norm                          :      1.000   +/-    0.00             \n",
      "    tilt                  (frozen):      0.000                   \n",
      "    reference             (frozen):      1.000       TeV         \n",
      "    lon_0                 (frozen):    187.750       deg         \n",
      "    lat_0                 (frozen):     -5.812       deg         \n",
      "\n",
      "\n"
     ]
    }
   ],
   "source": [
    "print(Models(generate_3d_dataset.list_source_models)[\"diffuse-iem\"])"
   ]
  },
  {
   "cell_type": "code",
   "execution_count": 56,
   "id": "37e3764b",
   "metadata": {},
   "outputs": [
    {
     "name": "stdout",
     "output_type": "stream",
     "text": [
      "SkyModel\n",
      "\n",
      "  Name                      : diffuse-iem\n",
      "  Datasets names            : None\n",
      "  Spectral model type       : PowerLawNormSpectralModel\n",
      "  Spatial  model type       : TemplateSpatialModel\n",
      "  Temporal model type       : \n",
      "  Parameters:\n",
      "    norm                          :      1.000   +/-    0.00             \n",
      "    tilt                  (frozen):      0.000                   \n",
      "    reference             (frozen):      1.000       TeV         \n",
      "    lon_0                 (frozen):    187.750       deg         \n",
      "    lat_0                 (frozen):     -5.812       deg         \n",
      "\n",
      "\n"
     ]
    }
   ],
   "source": [
    "print(generate_3d_dataset.diffuse_models[\"gal_diffuse_cutout\"])"
   ]
  },
  {
   "cell_type": "code",
   "execution_count": null,
   "id": "186b020a",
   "metadata": {},
   "outputs": [],
   "source": []
  },
  {
   "cell_type": "markdown",
   "id": "84e7caa5",
   "metadata": {},
   "source": [
    "# Apply Exclusion mask to models"
   ]
  },
  {
   "cell_type": "code",
   "execution_count": 57,
   "id": "171fa7b4",
   "metadata": {},
   "outputs": [],
   "source": [
    "generate_3d_dataset.list_source_models = apply_selection_mask_to_models(\n",
    "    generate_3d_dataset.list_source_models,\n",
    "    target_source=generate_3d_dataset.config_target.source_name,\n",
    "    selection_mask=generate_3d_dataset.exclusion_mask,\n",
    ")"
   ]
  },
  {
   "cell_type": "code",
   "execution_count": 58,
   "id": "c7c2e713",
   "metadata": {},
   "outputs": [
    {
     "name": "stdout",
     "output_type": "stream",
     "text": [
      "SkyModel\n",
      "\n",
      "  Name                      : 4FGL J0534.5+2201i\n",
      "  Datasets names            : None\n",
      "  Spectral model type       : CompoundSpectralModel\n",
      "  Spatial  model type       : GaussianSpatialModel\n",
      "  Temporal model type       : \n",
      "  Parameters:\n",
      "    amplitude                     :   1.00e-06   +/- 1.5e-07 1 / (TeV s cm2)\n",
      "    reference             (frozen):      0.015       TeV         \n",
      "    alpha                         :      1.700   +/-    0.10             \n",
      "    beta                          :      0.100   +/-    0.00             \n",
      "    alpha_norm            (frozen):      1.000                   \n",
      "    redshift              (frozen):      0.000                   \n",
      "    lon_0                 (frozen):    184.553       deg         \n",
      "    lat_0                 (frozen):     -5.781       deg         \n",
      "    sigma                 (frozen):      0.020       deg         \n",
      "    e                     (frozen):      0.000                   \n",
      "    phi                   (frozen):      0.000       deg         \n",
      "\n",
      "\n",
      "SkyModel\n",
      "\n",
      "  Name                      : 4FGL J0534.5+2201s\n",
      "  Datasets names            : None\n",
      "  Spectral model type       : PowerLawSpectralModel\n",
      "  Spatial  model type       : PointSpatialModel\n",
      "  Temporal model type       : \n",
      "  Parameters:\n",
      "    index                         :      3.802   +/-    0.12             \n",
      "    amplitude                     :   3.80e-02   +/- 2.5e-03 1 / (TeV s cm2)\n",
      "    reference             (frozen):      0.000       TeV         \n",
      "    lon_0                 (frozen):      3.221       rad         \n",
      "    lat_0                 (frozen):     -0.101       rad         \n",
      "\n",
      "\n",
      "SkyModel\n",
      "\n",
      "  Name                      : 4FGL J0534.5+2200\n",
      "  Datasets names            : None\n",
      "  Spectral model type       : ExpCutoffPowerLawSpectralModel\n",
      "  Spatial  model type       : PointSpatialModel\n",
      "  Temporal model type       : \n",
      "  Parameters:\n",
      "    index                         :      1.883   +/-    0.03             \n",
      "    amplitude                     :   7.23e-04   +/- 1.0e-05 1 / (TeV s cm2)\n",
      "    reference             (frozen):      0.001       TeV         \n",
      "    lambda_                       :    295.318   +/-    0.00 1 / TeV     \n",
      "    alpha                 (frozen):      0.667                   \n",
      "    lon_0                 (frozen):      3.221       rad         \n",
      "    lat_0                 (frozen):     -0.101       rad         \n",
      "\n",
      "\n",
      "SkyModel\n",
      "\n",
      "  Name                      : 4FGL J0526.3+2246\n",
      "  Datasets names            : None\n",
      "  Spectral model type       : PowerLawSpectralModel\n",
      "  Spatial  model type       : PointSpatialModel\n",
      "  Temporal model type       : \n",
      "  Parameters:\n",
      "    index                         :      2.026   +/-    0.14             \n",
      "    amplitude                     :   1.32e-08   +/- 2.6e-09 1 / (TeV s cm2)\n",
      "    reference             (frozen):      0.005       TeV         \n",
      "    lon_0                 (frozen):      3.192       rad         \n",
      "    lat_0                 (frozen):     -0.121       rad         \n",
      "\n",
      "\n",
      "SkyModel\n",
      "\n",
      "  Name                      : 4FGL J0544.4+2238\n",
      "  Datasets names            : None\n",
      "  Spectral model type       : PowerLawSpectralModel\n",
      "  Spatial  model type       : PointSpatialModel\n",
      "  Temporal model type       : \n",
      "  Parameters:\n",
      "    index                         :      2.292   +/-    0.19             \n",
      "    amplitude                     :   3.25e-08   +/- 7.4e-09 1 / (TeV s cm2)\n",
      "    reference             (frozen):      0.003       TeV         \n",
      "    lon_0                 (frozen):      3.233       rad         \n",
      "    lat_0                 (frozen):     -0.061       rad         \n",
      "\n",
      "\n",
      "SkyModel\n",
      "\n",
      "  Name                      : 4FGL J0528.3+1817\n",
      "  Datasets names            : None\n",
      "  Spectral model type       : PowerLawSpectralModel\n",
      "  Spatial  model type       : PointSpatialModel\n",
      "  Temporal model type       : \n",
      "  Parameters:\n",
      "    index                         :      1.683   +/-    0.15             \n",
      "    amplitude                     :   1.84e-09   +/- 4.8e-10 1 / (TeV s cm2)\n",
      "    reference             (frozen):      0.010       TeV         \n",
      "    lon_0                 (frozen):      3.263       rad         \n",
      "    lat_0                 (frozen):     -0.157       rad         \n",
      "\n",
      "\n",
      "SkyModel\n",
      "\n",
      "  Name                      : 4FGL J0536.2+1733\n",
      "  Datasets names            : None\n",
      "  Spectral model type       : LogParabolaSpectralModel\n",
      "  Spatial  model type       : PointSpatialModel\n",
      "  Temporal model type       : \n",
      "  Parameters:\n",
      "    amplitude                     :   8.60e-08   +/- 1.2e-08 1 / (TeV s cm2)\n",
      "    reference             (frozen):      0.003       TeV         \n",
      "    alpha                         :      1.970   +/-    0.15             \n",
      "    beta                          :      0.239   +/-    0.10             \n",
      "    lon_0                 (frozen):      3.291       rad         \n",
      "    lat_0                 (frozen):     -0.136       rad         \n",
      "\n",
      "\n",
      "SkyModel\n",
      "\n",
      "  Name                      : 4FGL J0540.3+2756e\n",
      "  Datasets names            : None\n",
      "  Spectral model type       : LogParabolaSpectralModel\n",
      "  Spatial  model type       : TemplateSpatialModel\n",
      "  Temporal model type       : \n",
      "  Parameters:\n",
      "    amplitude                     :   6.24e-06   +/- 3.4e-07 1 / (TeV s cm2)\n",
      "    reference             (frozen):      0.001       TeV         \n",
      "    alpha                         :      1.995   +/-    0.05             \n",
      "    beta                          :      0.125   +/-    0.03             \n",
      "    lon_0                 (frozen):    180.250       deg         \n",
      "    lat_0                 (frozen):     -1.500       deg         \n",
      "\n",
      "\n",
      "SkyModel\n",
      "\n",
      "  Name                      : fermi-diffuse-iso-00\n",
      "  Datasets names            : None\n",
      "  Spectral model type       : CompoundSpectralModel\n",
      "  Spatial  model type       : ConstantSpatialModel\n",
      "  Temporal model type       : \n",
      "  Parameters:\n",
      "    norm                          :      1.000   +/-    0.00             \n",
      "    tilt                  (frozen):      0.000                   \n",
      "    reference             (frozen):      1.000       TeV         \n",
      "    value                 (frozen):      1.000       1 / sr      \n",
      "\n",
      "\n",
      "SkyModel\n",
      "\n",
      "  Name                      : diffuse-iem\n",
      "  Datasets names            : None\n",
      "  Spectral model type       : PowerLawNormSpectralModel\n",
      "  Spatial  model type       : TemplateSpatialModel\n",
      "  Temporal model type       : \n",
      "  Parameters:\n",
      "    norm                          :      1.000   +/-    0.00             \n",
      "    tilt                  (frozen):      0.000                   \n",
      "    reference             (frozen):      1.000       TeV         \n",
      "    lon_0                 (frozen):    187.750       deg         \n",
      "    lat_0                 (frozen):     -5.812       deg         \n",
      "\n",
      "\n"
     ]
    }
   ],
   "source": [
    "for m in generate_3d_dataset.list_source_models:\n",
    "    print(m)"
   ]
  },
  {
   "cell_type": "code",
   "execution_count": null,
   "id": "8fbf173e",
   "metadata": {},
   "outputs": [],
   "source": []
  },
  {
   "cell_type": "markdown",
   "id": "a789d25f",
   "metadata": {},
   "source": [
    "### Produce MapDataset"
   ]
  },
  {
   "cell_type": "code",
   "execution_count": 59,
   "id": "e0d63095",
   "metadata": {},
   "outputs": [
    {
     "name": "stderr",
     "output_type": "stream",
     "text": [
      "Using the exclusion mask to create a safe mask\n"
     ]
    },
    {
     "name": "stdout",
     "output_type": "stream",
     "text": [
      "CPU times: user 2.64 ms, sys: 2.18 ms, total: 4.82 ms\n",
      "Wall time: 4.34 ms\n"
     ]
    }
   ],
   "source": [
    "%%time\n",
    "dataset = generate_3d_dataset.generate_dataset(key_names[0])"
   ]
  },
  {
   "cell_type": "code",
   "execution_count": 60,
   "id": "aeba72d3",
   "metadata": {
    "scrolled": true,
    "tags": []
   },
   "outputs": [
    {
     "name": "stdout",
     "output_type": "stream",
     "text": [
      "MapDataset\n",
      "----------\n",
      "\n",
      "  Name                            : Fermi-LAT_00 \n",
      "\n",
      "  Total counts                    : 23266 \n",
      "  Total background counts         : nan\n",
      "  Total excess counts             : nan\n",
      "\n",
      "  Predicted counts                : nan\n",
      "  Predicted background counts     : nan\n",
      "  Predicted excess counts         : nan\n",
      "\n",
      "  Exposure min                    : 5.80e+10 cm2 s\n",
      "  Exposure max                    : 7.19e+10 cm2 s\n",
      "\n",
      "  Number of total bins            : 1182816 \n",
      "  Number of fit bins              : 186744 \n",
      "\n",
      "  Fit statistic type              : cash\n",
      "  Fit statistic value (-2 log(L)) : nan\n",
      "\n",
      "  Number of models                : 0 \n",
      "  Number of parameters            : 0\n",
      "  Number of free parameters       : 0\n",
      "\n",
      "\n"
     ]
    }
   ],
   "source": [
    "print(dataset)"
   ]
  },
  {
   "cell_type": "code",
   "execution_count": null,
   "id": "1e88514f-4f15-4971-adf9-0e6b06d8fb0b",
   "metadata": {},
   "outputs": [],
   "source": []
  },
  {
   "cell_type": "code",
   "execution_count": 61,
   "id": "6532e4d4",
   "metadata": {
    "tags": []
   },
   "outputs": [
    {
     "name": "stdout",
     "output_type": "stream",
     "text": [
      "SkyModel\n",
      "\n",
      "  Name                      : 4FGL J0534.5+2201i\n",
      "  Datasets names            : None\n",
      "  Spectral model type       : CompoundSpectralModel\n",
      "  Spatial  model type       : GaussianSpatialModel\n",
      "  Temporal model type       : \n",
      "  Parameters:\n",
      "    amplitude                     :   1.00e-06   +/- 1.5e-07 1 / (TeV s cm2)\n",
      "    reference             (frozen):      0.015       TeV         \n",
      "    alpha                         :      1.700   +/-    0.10             \n",
      "    beta                          :      0.100   +/-    0.00             \n",
      "    alpha_norm            (frozen):      1.000                   \n",
      "    redshift              (frozen):      0.000                   \n",
      "    lon_0                 (frozen):    184.553       deg         \n",
      "    lat_0                 (frozen):     -5.781       deg         \n",
      "    sigma                 (frozen):      0.020       deg         \n",
      "    e                     (frozen):      0.000                   \n",
      "    phi                   (frozen):      0.000       deg         \n",
      "\n",
      "\n",
      "SkyModel\n",
      "\n",
      "  Name                      : 4FGL J0534.5+2201s\n",
      "  Datasets names            : None\n",
      "  Spectral model type       : PowerLawSpectralModel\n",
      "  Spatial  model type       : PointSpatialModel\n",
      "  Temporal model type       : \n",
      "  Parameters:\n",
      "    index                         :      3.802   +/-    0.12             \n",
      "    amplitude                     :   3.80e-02   +/- 2.5e-03 1 / (TeV s cm2)\n",
      "    reference             (frozen):      0.000       TeV         \n",
      "    lon_0                 (frozen):      3.221       rad         \n",
      "    lat_0                 (frozen):     -0.101       rad         \n",
      "\n",
      "\n",
      "SkyModel\n",
      "\n",
      "  Name                      : 4FGL J0534.5+2200\n",
      "  Datasets names            : None\n",
      "  Spectral model type       : ExpCutoffPowerLawSpectralModel\n",
      "  Spatial  model type       : PointSpatialModel\n",
      "  Temporal model type       : \n",
      "  Parameters:\n",
      "    index                         :      1.883   +/-    0.03             \n",
      "    amplitude                     :   7.23e-04   +/- 1.0e-05 1 / (TeV s cm2)\n",
      "    reference             (frozen):      0.001       TeV         \n",
      "    lambda_                       :    295.318   +/-    0.00 1 / TeV     \n",
      "    alpha                 (frozen):      0.667                   \n",
      "    lon_0                 (frozen):      3.221       rad         \n",
      "    lat_0                 (frozen):     -0.101       rad         \n",
      "\n",
      "\n",
      "SkyModel\n",
      "\n",
      "  Name                      : 4FGL J0526.3+2246\n",
      "  Datasets names            : None\n",
      "  Spectral model type       : PowerLawSpectralModel\n",
      "  Spatial  model type       : PointSpatialModel\n",
      "  Temporal model type       : \n",
      "  Parameters:\n",
      "    index                         :      2.026   +/-    0.14             \n",
      "    amplitude                     :   1.32e-08   +/- 2.6e-09 1 / (TeV s cm2)\n",
      "    reference             (frozen):      0.005       TeV         \n",
      "    lon_0                 (frozen):      3.192       rad         \n",
      "    lat_0                 (frozen):     -0.121       rad         \n",
      "\n",
      "\n",
      "SkyModel\n",
      "\n",
      "  Name                      : 4FGL J0544.4+2238\n",
      "  Datasets names            : None\n",
      "  Spectral model type       : PowerLawSpectralModel\n",
      "  Spatial  model type       : PointSpatialModel\n",
      "  Temporal model type       : \n",
      "  Parameters:\n",
      "    index                         :      2.292   +/-    0.19             \n",
      "    amplitude                     :   3.25e-08   +/- 7.4e-09 1 / (TeV s cm2)\n",
      "    reference             (frozen):      0.003       TeV         \n",
      "    lon_0                 (frozen):      3.233       rad         \n",
      "    lat_0                 (frozen):     -0.061       rad         \n",
      "\n",
      "\n",
      "SkyModel\n",
      "\n",
      "  Name                      : 4FGL J0528.3+1817\n",
      "  Datasets names            : None\n",
      "  Spectral model type       : PowerLawSpectralModel\n",
      "  Spatial  model type       : PointSpatialModel\n",
      "  Temporal model type       : \n",
      "  Parameters:\n",
      "    index                         :      1.683   +/-    0.15             \n",
      "    amplitude                     :   1.84e-09   +/- 4.8e-10 1 / (TeV s cm2)\n",
      "    reference             (frozen):      0.010       TeV         \n",
      "    lon_0                 (frozen):      3.263       rad         \n",
      "    lat_0                 (frozen):     -0.157       rad         \n",
      "\n",
      "\n",
      "SkyModel\n",
      "\n",
      "  Name                      : 4FGL J0536.2+1733\n",
      "  Datasets names            : None\n",
      "  Spectral model type       : LogParabolaSpectralModel\n",
      "  Spatial  model type       : PointSpatialModel\n",
      "  Temporal model type       : \n",
      "  Parameters:\n",
      "    amplitude                     :   8.60e-08   +/- 1.2e-08 1 / (TeV s cm2)\n",
      "    reference             (frozen):      0.003       TeV         \n",
      "    alpha                         :      1.970   +/-    0.15             \n",
      "    beta                          :      0.239   +/-    0.10             \n",
      "    lon_0                 (frozen):      3.291       rad         \n",
      "    lat_0                 (frozen):     -0.136       rad         \n",
      "\n",
      "\n",
      "SkyModel\n",
      "\n",
      "  Name                      : 4FGL J0540.3+2756e\n",
      "  Datasets names            : None\n",
      "  Spectral model type       : LogParabolaSpectralModel\n",
      "  Spatial  model type       : TemplateSpatialModel\n",
      "  Temporal model type       : \n",
      "  Parameters:\n",
      "    amplitude                     :   6.24e-06   +/- 3.4e-07 1 / (TeV s cm2)\n",
      "    reference             (frozen):      0.001       TeV         \n",
      "    alpha                         :      1.995   +/-    0.05             \n",
      "    beta                          :      0.125   +/-    0.03             \n",
      "    lon_0                 (frozen):    180.250       deg         \n",
      "    lat_0                 (frozen):     -1.500       deg         \n",
      "\n",
      "\n",
      "SkyModel\n",
      "\n",
      "  Name                      : fermi-diffuse-iso-00\n",
      "  Datasets names            : None\n",
      "  Spectral model type       : CompoundSpectralModel\n",
      "  Spatial  model type       : ConstantSpatialModel\n",
      "  Temporal model type       : \n",
      "  Parameters:\n",
      "    norm                          :      1.000   +/-    0.00             \n",
      "    tilt                  (frozen):      0.000                   \n",
      "    reference             (frozen):      1.000       TeV         \n",
      "    value                 (frozen):      1.000       1 / sr      \n",
      "\n",
      "\n",
      "SkyModel\n",
      "\n",
      "  Name                      : diffuse-iem\n",
      "  Datasets names            : None\n",
      "  Spectral model type       : PowerLawNormSpectralModel\n",
      "  Spatial  model type       : TemplateSpatialModel\n",
      "  Temporal model type       : \n",
      "  Parameters:\n",
      "    norm                          :      1.000   +/-    0.00             \n",
      "    tilt                  (frozen):      0.000                   \n",
      "    reference             (frozen):      1.000       TeV         \n",
      "    lon_0                 (frozen):    187.750       deg         \n",
      "    lat_0                 (frozen):     -5.812       deg         \n",
      "\n",
      "\n"
     ]
    }
   ],
   "source": [
    "for m in generate_3d_dataset.list_source_models:\n",
    "    print(m)"
   ]
  },
  {
   "cell_type": "code",
   "execution_count": null,
   "id": "cdd1edc0-e030-43b8-982c-d33003ae26a1",
   "metadata": {},
   "outputs": [],
   "source": []
  },
  {
   "cell_type": "markdown",
   "id": "40b9634e-bfe1-46bf-b8bf-b0c0e1579224",
   "metadata": {},
   "source": [
    "# Assigning models to the dataset"
   ]
  },
  {
   "cell_type": "code",
   "execution_count": 62,
   "id": "d8ce118e",
   "metadata": {},
   "outputs": [
    {
     "name": "stdout",
     "output_type": "stream",
     "text": [
      "CPU times: user 448 ms, sys: 4.38 ms, total: 453 ms\n",
      "Wall time: 452 ms\n"
     ]
    }
   ],
   "source": [
    "%%time\n",
    "dataset.models = generate_3d_dataset.list_source_models"
   ]
  },
  {
   "cell_type": "code",
   "execution_count": 63,
   "id": "2bdcc5c0",
   "metadata": {
    "scrolled": true,
    "tags": []
   },
   "outputs": [
    {
     "name": "stderr",
     "output_type": "stream",
     "text": [
      "/home/chaitanya/mambaforge/envs/asgardpy/lib/python3.12/site-packages/gammapy/utils/interpolation.py:200: RuntimeWarning: overflow encountered in exp\n",
      "  output = np.exp(values)\n"
     ]
    },
    {
     "name": "stdout",
     "output_type": "stream",
     "text": [
      "MapDataset\n",
      "----------\n",
      "\n",
      "  Name                            : Fermi-LAT_00 \n",
      "\n",
      "  Total counts                    : 23266 \n",
      "  Total background counts         : nan\n",
      "  Total excess counts             : nan\n",
      "\n",
      "  Predicted counts                : 27155.04\n",
      "  Predicted background counts     : nan\n",
      "  Predicted excess counts         : 27155.04\n",
      "\n",
      "  Exposure min                    : 5.80e+10 cm2 s\n",
      "  Exposure max                    : 7.19e+10 cm2 s\n",
      "\n",
      "  Number of total bins            : 1182816 \n",
      "  Number of fit bins              : 186744 \n",
      "\n",
      "  Fit statistic type              : cash\n",
      "  Fit statistic value (-2 log(L)) : 23288.57\n",
      "\n",
      "  Number of models                : 10 \n",
      "  Number of parameters            : 59\n",
      "  Number of free parameters       : 22\n",
      "\n",
      "  Component 0: SkyModel\n",
      "  \n",
      "    Name                      : 4FGL J0534.5+2201i\n",
      "    Datasets names            : None\n",
      "    Spectral model type       : CompoundSpectralModel\n",
      "    Spatial  model type       : GaussianSpatialModel\n",
      "    Temporal model type       : \n",
      "    Parameters:\n",
      "      amplitude                     :   1.00e-06   +/- 1.5e-07 1 / (TeV s cm2)\n",
      "      reference             (frozen):      0.015       TeV         \n",
      "      alpha                         :      1.700   +/-    0.10             \n",
      "      beta                          :      0.100   +/-    0.00             \n",
      "      alpha_norm            (frozen):      1.000                   \n",
      "      redshift              (frozen):      0.000                   \n",
      "      lon_0                 (frozen):    184.553       deg         \n",
      "      lat_0                 (frozen):     -5.781       deg         \n",
      "      sigma                 (frozen):      0.020       deg         \n",
      "      e                     (frozen):      0.000                   \n",
      "      phi                   (frozen):      0.000       deg         \n",
      "  \n",
      "  Component 1: SkyModel\n",
      "  \n",
      "    Name                      : 4FGL J0534.5+2201s\n",
      "    Datasets names            : None\n",
      "    Spectral model type       : PowerLawSpectralModel\n",
      "    Spatial  model type       : PointSpatialModel\n",
      "    Temporal model type       : \n",
      "    Parameters:\n",
      "      index                         :      3.802   +/-    0.12             \n",
      "      amplitude                     :   3.80e-02   +/- 2.5e-03 1 / (TeV s cm2)\n",
      "      reference             (frozen):      0.000       TeV         \n",
      "      lon_0                 (frozen):      3.221       rad         \n",
      "      lat_0                 (frozen):     -0.101       rad         \n",
      "  \n",
      "  Component 2: SkyModel\n",
      "  \n",
      "    Name                      : 4FGL J0534.5+2200\n",
      "    Datasets names            : None\n",
      "    Spectral model type       : ExpCutoffPowerLawSpectralModel\n",
      "    Spatial  model type       : PointSpatialModel\n",
      "    Temporal model type       : \n",
      "    Parameters:\n",
      "      index                         :      1.883   +/-    0.03             \n",
      "      amplitude                     :   7.23e-04   +/- 1.0e-05 1 / (TeV s cm2)\n",
      "      reference             (frozen):      0.001       TeV         \n",
      "      lambda_                       :    295.318   +/-    0.00 1 / TeV     \n",
      "      alpha                 (frozen):      0.667                   \n",
      "      lon_0                 (frozen):      3.221       rad         \n",
      "      lat_0                 (frozen):     -0.101       rad         \n",
      "  \n",
      "  Component 3: SkyModel\n",
      "  \n",
      "    Name                      : 4FGL J0526.3+2246\n",
      "    Datasets names            : None\n",
      "    Spectral model type       : PowerLawSpectralModel\n",
      "    Spatial  model type       : PointSpatialModel\n",
      "    Temporal model type       : \n",
      "    Parameters:\n",
      "      index                         :      2.026   +/-    0.14             \n",
      "      amplitude                     :   1.32e-08   +/- 2.6e-09 1 / (TeV s cm2)\n",
      "      reference             (frozen):      0.005       TeV         \n",
      "      lon_0                 (frozen):      3.192       rad         \n",
      "      lat_0                 (frozen):     -0.121       rad         \n",
      "  \n",
      "  Component 4: SkyModel\n",
      "  \n",
      "    Name                      : 4FGL J0544.4+2238\n",
      "    Datasets names            : None\n",
      "    Spectral model type       : PowerLawSpectralModel\n",
      "    Spatial  model type       : PointSpatialModel\n",
      "    Temporal model type       : \n",
      "    Parameters:\n",
      "      index                         :      2.292   +/-    0.19             \n",
      "      amplitude                     :   3.25e-08   +/- 7.4e-09 1 / (TeV s cm2)\n",
      "      reference             (frozen):      0.003       TeV         \n",
      "      lon_0                 (frozen):      3.233       rad         \n",
      "      lat_0                 (frozen):     -0.061       rad         \n",
      "  \n",
      "  Component 5: SkyModel\n",
      "  \n",
      "    Name                      : 4FGL J0528.3+1817\n",
      "    Datasets names            : None\n",
      "    Spectral model type       : PowerLawSpectralModel\n",
      "    Spatial  model type       : PointSpatialModel\n",
      "    Temporal model type       : \n",
      "    Parameters:\n",
      "      index                         :      1.683   +/-    0.15             \n",
      "      amplitude                     :   1.84e-09   +/- 4.8e-10 1 / (TeV s cm2)\n",
      "      reference             (frozen):      0.010       TeV         \n",
      "      lon_0                 (frozen):      3.263       rad         \n",
      "      lat_0                 (frozen):     -0.157       rad         \n",
      "  \n",
      "  Component 6: SkyModel\n",
      "  \n",
      "    Name                      : 4FGL J0536.2+1733\n",
      "    Datasets names            : None\n",
      "    Spectral model type       : LogParabolaSpectralModel\n",
      "    Spatial  model type       : PointSpatialModel\n",
      "    Temporal model type       : \n",
      "    Parameters:\n",
      "      amplitude                     :   8.60e-08   +/- 1.2e-08 1 / (TeV s cm2)\n",
      "      reference             (frozen):      0.003       TeV         \n",
      "      alpha                         :      1.970   +/-    0.15             \n",
      "      beta                          :      0.239   +/-    0.10             \n",
      "      lon_0                 (frozen):      3.291       rad         \n",
      "      lat_0                 (frozen):     -0.136       rad         \n",
      "  \n",
      "  Component 7: SkyModel\n",
      "  \n",
      "    Name                      : 4FGL J0540.3+2756e\n",
      "    Datasets names            : None\n",
      "    Spectral model type       : LogParabolaSpectralModel\n",
      "    Spatial  model type       : TemplateSpatialModel\n",
      "    Temporal model type       : \n",
      "    Parameters:\n",
      "      amplitude                     :   6.24e-06   +/- 3.4e-07 1 / (TeV s cm2)\n",
      "      reference             (frozen):      0.001       TeV         \n",
      "      alpha                         :      1.995   +/-    0.05             \n",
      "      beta                          :      0.125   +/-    0.03             \n",
      "      lon_0                 (frozen):    180.250       deg         \n",
      "      lat_0                 (frozen):     -1.500       deg         \n",
      "  \n",
      "  Component 8: SkyModel\n",
      "  \n",
      "    Name                      : fermi-diffuse-iso-00\n",
      "    Datasets names            : None\n",
      "    Spectral model type       : CompoundSpectralModel\n",
      "    Spatial  model type       : ConstantSpatialModel\n",
      "    Temporal model type       : \n",
      "    Parameters:\n",
      "      norm                          :      1.000   +/-    0.00             \n",
      "      tilt                  (frozen):      0.000                   \n",
      "      reference             (frozen):      1.000       TeV         \n",
      "      value                 (frozen):      1.000       1 / sr      \n",
      "  \n",
      "  Component 9: SkyModel\n",
      "  \n",
      "    Name                      : diffuse-iem\n",
      "    Datasets names            : None\n",
      "    Spectral model type       : PowerLawNormSpectralModel\n",
      "    Spatial  model type       : TemplateSpatialModel\n",
      "    Temporal model type       : \n",
      "    Parameters:\n",
      "      norm                          :      1.000   +/-    0.00             \n",
      "      tilt                  (frozen):      0.000                   \n",
      "      reference             (frozen):      1.000       TeV         \n",
      "      lon_0                 (frozen):    187.750       deg         \n",
      "      lat_0                 (frozen):     -5.812       deg         \n",
      "  \n",
      "  \n",
      "CPU times: user 862 ms, sys: 13.3 ms, total: 876 ms\n",
      "Wall time: 874 ms\n"
     ]
    }
   ],
   "source": [
    "%%time\n",
    "print(dataset)"
   ]
  },
  {
   "cell_type": "code",
   "execution_count": null,
   "id": "936a9ca2",
   "metadata": {},
   "outputs": [],
   "source": []
  },
  {
   "cell_type": "markdown",
   "id": "8f7af0db",
   "metadata": {},
   "source": [
    "# Some basic plots from the Dataset"
   ]
  },
  {
   "cell_type": "code",
   "execution_count": 64,
   "id": "08f27f6e-dd64-482c-9044-e51816516e3f",
   "metadata": {
    "scrolled": true
   },
   "outputs": [
    {
     "data": {
      "application/vnd.jupyter.widget-view+json": {
       "model_id": "2a42eba194754c9091ceee0e81693614",
       "version_major": 2,
       "version_minor": 0
      },
      "text/plain": [
       "interactive(children=(SelectionSlider(continuous_update=False, description='Select energy:', layout=Layout(wid…"
      ]
     },
     "metadata": {},
     "output_type": "display_data"
    }
   ],
   "source": [
    "dataset.mask_safe.plot_interactive()"
   ]
  },
  {
   "cell_type": "code",
   "execution_count": null,
   "id": "bd60c3d7-0f4e-4346-aa54-30c5d77cb39e",
   "metadata": {},
   "outputs": [],
   "source": []
  },
  {
   "cell_type": "code",
   "execution_count": 65,
   "id": "9c5cc4bf-29f4-4336-9b57-e986f1065a8b",
   "metadata": {
    "scrolled": true
   },
   "outputs": [
    {
     "data": {
      "text/plain": [
       "Text(0.5, 1.0, 'CountsMap')"
      ]
     },
     "execution_count": 65,
     "metadata": {},
     "output_type": "execute_result"
    },
    {
     "data": {
      "image/png": "[encoded data removed]",
      "text/plain": [
       "<Figure size 720x456 with 2 Axes>"
      ]
     },
     "metadata": {},
     "output_type": "display_data"
    }
   ],
   "source": [
    "fig = plt.figure(figsize=(6, 3.8), dpi=120)\n",
    "vmin, vmax = np.percentile(dataset.counts.sum_over_axes().smooth(\"0.1 deg\").data, [5, 99.9])\n",
    "ax = (\n",
    "    dataset.counts.sum_over_axes()\n",
    "    .smooth(\"0.2 deg\")\n",
    "    .plot(\n",
    "        vmin=vmin,\n",
    "        vmax=vmax,\n",
    "        add_cbar=True,\n",
    "        stretch=\"sqrt\",\n",
    "    )\n",
    ")\n",
    "ax.set_title(\"CountsMap\")"
   ]
  },
  {
   "cell_type": "code",
   "execution_count": 66,
   "id": "fd58f24b",
   "metadata": {
    "scrolled": true
   },
   "outputs": [
    {
     "data": {
      "text/plain": [
       "<Axes: xlabel='Energy [$\\\\mathrm{TeV}$]', ylabel='Residuals (data - model)'>"
      ]
     },
     "execution_count": 66,
     "metadata": {},
     "output_type": "execute_result"
    },
    {
     "data": {
      "image/png": "[encoded data removed]",
      "text/plain": [
       "<Figure size 640x480 with 1 Axes>"
      ]
     },
     "metadata": {},
     "output_type": "display_data"
    }
   ],
   "source": [
    "dataset.plot_residuals_spectral()"
   ]
  },
  {
   "cell_type": "code",
   "execution_count": 67,
   "id": "6e0fbbb6",
   "metadata": {
    "scrolled": true
   },
   "outputs": [
    {
     "data": {
      "text/plain": [
       "<WCSAxes: >"
      ]
     },
     "execution_count": 67,
     "metadata": {},
     "output_type": "execute_result"
    },
    {
     "data": {
      "image/png": "[encoded data removed]",
      "text/plain": [
       "<Figure size 640x480 with 2 Axes>"
      ]
     },
     "metadata": {},
     "output_type": "display_data"
    }
   ],
   "source": [
    "dataset.plot_residuals_spatial()"
   ]
  },
  {
   "cell_type": "code",
   "execution_count": 68,
   "id": "b64dcc1b",
   "metadata": {
    "scrolled": true
   },
   "outputs": [
    {
     "data": {
      "text/plain": [
       "{'name': 'Fermi-LAT_00',\n",
       " 'counts': 23266,\n",
       " 'excess': nan,\n",
       " 'sqrt_ts': nan,\n",
       " 'background': nan,\n",
       " 'npred': 27155.042823345564,\n",
       " 'npred_background': nan,\n",
       " 'npred_signal': 27155.042823345564,\n",
       " 'exposure_min': <Quantity 5.79582612e+10 cm2 s>,\n",
       " 'exposure_max': <Quantity 7.18732788e+10 cm2 s>,\n",
       " 'livetime': <Quantity nan s>,\n",
       " 'ontime': <Quantity 90748484.2994926 s>,\n",
       " 'counts_rate': <Quantity nan 1 / s>,\n",
       " 'background_rate': <Quantity nan 1 / s>,\n",
       " 'excess_rate': <Quantity nan 1 / s>,\n",
       " 'n_bins': 1182816,\n",
       " 'n_fit_bins': 186744,\n",
       " 'stat_type': 'cash',\n",
       " 'stat_sum': 23288.57064332735}"
      ]
     },
     "execution_count": 68,
     "metadata": {},
     "output_type": "execute_result"
    }
   ],
   "source": [
    "dataset.info_dict()"
   ]
  },
  {
   "cell_type": "code",
   "execution_count": 69,
   "id": "3be410f9",
   "metadata": {},
   "outputs": [
    {
     "name": "stderr",
     "output_type": "stream",
     "text": [
      "/home/chaitanya/mambaforge/envs/asgardpy/lib/python3.12/site-packages/regions/shapes/ellipse.py:209: UserWarning: Setting the 'color' property will override the edgecolor or facecolor properties.\n",
      "  return Ellipse(xy=xy, width=width, height=height, angle=angle,\n",
      "/home/chaitanya/mambaforge/envs/asgardpy/lib/python3.12/site-packages/regions/shapes/rectangle.py:205: UserWarning: Setting the 'color' property will override the edgecolor or facecolor properties.\n",
      "  return Rectangle(xy=xy, width=width, height=height,\n"
     ]
    },
    {
     "data": {
      "image/png": "[encoded data removed]",
      "text/plain": [
       "<Figure size 800x500 with 2 Axes>"
      ]
     },
     "metadata": {},
     "output_type": "display_data"
    }
   ],
   "source": [
    "plt.figure(figsize=(8, 5))\n",
    "axs = plt.subplot(111, projection=dataset.counts.geom.wcs)\n",
    "\n",
    "dataset.counts.sum_over_axes().smooth(0.05 * u.deg).plot(ax=axs, stretch=\"sqrt\", add_cbar=True, cmap=\"afmhot\")\n",
    "dataset.models.plot_regions(ax=axs, color=\"white\")\n",
    "axs.set_title(dataset.name)\n",
    "\n",
    "plt.show()"
   ]
  },
  {
   "cell_type": "code",
   "execution_count": 70,
   "id": "370074aa-ce83-4966-8110-c2bdab43ad1f",
   "metadata": {
    "scrolled": true
   },
   "outputs": [
    {
     "data": {
      "application/vnd.jupyter.widget-view+json": {
       "model_id": "896c3360c8a04bd48830acd1fc435cad",
       "version_major": 2,
       "version_minor": 0
      },
      "text/plain": [
       "interactive(children=(SelectionSlider(continuous_update=False, description='Select energy_true:', layout=Layou…"
      ]
     },
     "metadata": {},
     "output_type": "display_data"
    }
   ],
   "source": [
    "dataset.exposure.plot_interactive(add_cbar=True)"
   ]
  },
  {
   "cell_type": "code",
   "execution_count": null,
   "id": "f6ba3bc5-5dfd-4109-9eac-9d7f02353aa1",
   "metadata": {},
   "outputs": [],
   "source": []
  },
  {
   "cell_type": "code",
   "execution_count": 71,
   "id": "3d4d6e44-e61b-4678-a229-f01bae83e8a3",
   "metadata": {
    "scrolled": true
   },
   "outputs": [
    {
     "data": {
      "text/plain": [
       "<Axes: xlabel='True Energy [$\\\\mathrm{MeV}$]', ylabel='Containment radius [$\\\\mathrm{{}^{\\\\circ}}$]'>"
      ]
     },
     "execution_count": 71,
     "metadata": {},
     "output_type": "execute_result"
    },
    {
     "data": {
      "image/png": "[encoded data removed]",
      "text/plain": [
       "<Figure size 640x480 with 1 Axes>"
      ]
     },
     "metadata": {},
     "output_type": "display_data"
    }
   ],
   "source": [
    "dataset.psf.plot_containment_radius_vs_energy()"
   ]
  },
  {
   "cell_type": "code",
   "execution_count": 72,
   "id": "77c38e7d",
   "metadata": {
    "scrolled": true
   },
   "outputs": [
    {
     "data": {
      "text/plain": [
       "<matplotlib.legend.Legend at 0x7968917d1b80>"
      ]
     },
     "execution_count": 72,
     "metadata": {},
     "output_type": "execute_result"
    },
    {
     "data": {
      "image/png": "[encoded data removed]",
      "text/plain": [
       "<Figure size 800x500 with 1 Axes>"
      ]
     },
     "metadata": {},
     "output_type": "display_data"
    }
   ],
   "source": [
    "plt.figure(figsize=(8, 5))\n",
    "\n",
    "energy = [100, 300, 1000] * u.GeV\n",
    "dataset.psf.plot_psf_vs_rad(energy_true=energy)\n",
    "\n",
    "spectral_model = PowerLawSpectralModel(index=1.25)\n",
    "psf_mean = dataset.psf.to_image(spectral_model=spectral_model)\n",
    "psf_mean.plot_psf_vs_rad(c=\"k\", ls=\"--\", energy_true=[500] * u.GeV)\n",
    "\n",
    "plt.xlim(1e-3, 0.3)\n",
    "plt.ylim(1e3, 1e6)\n",
    "plt.legend()"
   ]
  },
  {
   "cell_type": "code",
   "execution_count": 73,
   "id": "a475aede-34ca-439d-aa3a-287391acc3e5",
   "metadata": {},
   "outputs": [
    {
     "name": "stdout",
     "output_type": "stream",
     "text": [
      "[0.23928125] deg\n"
     ]
    }
   ],
   "source": [
    "radius = dataset.psf.containment_radius(energy_true=1 * u.TeV, fraction=0.95)\n",
    "print(radius)"
   ]
  },
  {
   "cell_type": "code",
   "execution_count": 74,
   "id": "ea611006-e557-407f-8a9e-29d2342b6f93",
   "metadata": {
    "scrolled": true
   },
   "outputs": [
    {
     "data": {
      "text/plain": [
       "<Axes: xlabel='True Energy [$\\\\mathrm{TeV}$]', ylabel='Energy [$\\\\mathrm{TeV}$]'>"
      ]
     },
     "execution_count": 74,
     "metadata": {},
     "output_type": "execute_result"
    },
    {
     "data": {
      "image/png": "[encoded data removed]",
      "text/plain": [
       "<Figure size 640x480 with 1 Axes>"
      ]
     },
     "metadata": {},
     "output_type": "display_data"
    }
   ],
   "source": [
    "plt.figure()\n",
    "edisp_kernel = dataset.edisp.get_edisp_kernel()\n",
    "edisp_kernel.plot_matrix()"
   ]
  },
  {
   "cell_type": "code",
   "execution_count": null,
   "id": "fd83eacc-8309-453f-ac1b-c9084af3b6de",
   "metadata": {},
   "outputs": [],
   "source": []
  },
  {
   "cell_type": "code",
   "execution_count": 75,
   "id": "0fec0deb-1433-4957-9ee9-7c0835687a62",
   "metadata": {
    "scrolled": true
   },
   "outputs": [
    {
     "data": {
      "text/plain": [
       "<WCSAxes: >"
      ]
     },
     "execution_count": 75,
     "metadata": {},
     "output_type": "execute_result"
    },
    {
     "data": {
      "image/png": "[encoded data removed]",
      "text/plain": [
       "<Figure size 640x480 with 2 Axes>"
      ]
     },
     "metadata": {},
     "output_type": "display_data"
    }
   ],
   "source": [
    "plt.figure()\n",
    "npred = dataset.npred()\n",
    "npred.sum_over_axes().plot(add_cbar=True)"
   ]
  },
  {
   "cell_type": "code",
   "execution_count": null,
   "id": "f98c9816",
   "metadata": {},
   "outputs": [],
   "source": []
  }
 ],
 "metadata": {
  "kernelspec": {
   "display_name": "asgardpy",
   "language": "python",
   "name": "asgardpy"
  },
  "language_info": {
   "codemirror_mode": {
    "name": "ipython",
    "version": 3
   },
   "file_extension": ".py",
   "mimetype": "text/x-python",
   "name": "python",
   "nbconvert_exporter": "python",
   "pygments_lexer": "ipython3",
   "version": "3.12.7"
  }
 },
 "nbformat": 4,
 "nbformat_minor": 5
}
