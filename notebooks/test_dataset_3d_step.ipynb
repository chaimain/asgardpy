{
 "cells": [
  {
   "cell_type": "code",
   "execution_count": null,
   "id": "7d6fda22",
   "metadata": {},
   "outputs": [],
   "source": [
    "from asgardpy.analysis import AsgardpyAnalysis\n",
    "from asgardpy.config import AsgardpyConfig\n",
    "from asgardpy.data.target import apply_selection_mask_to_models\n",
    "\n",
    "from gammapy.modeling.models import Models, PowerLawSpectralModel\n",
    "\n",
    "import matplotlib.pyplot as plt\n",
    "import numpy as np\n",
    "\n",
    "import astropy.units as u\n",
    "import logging"
   ]
  },
  {
   "cell_type": "code",
   "execution_count": null,
   "id": "bfc2f79e",
   "metadata": {},
   "outputs": [],
   "source": [
    "from asgardpy.data.dataset_3d import Dataset3DGeneration"
   ]
  },
  {
   "cell_type": "code",
   "execution_count": null,
   "id": "aaf00ba7-92a5-4044-8e70-6bad57b97b7f",
   "metadata": {},
   "outputs": [],
   "source": []
  },
  {
   "cell_type": "code",
   "execution_count": null,
   "id": "a33c9e1e",
   "metadata": {},
   "outputs": [],
   "source": [
    "log = logging.getLogger(\"test 3d dataset\")"
   ]
  },
  {
   "cell_type": "code",
   "execution_count": null,
   "id": "92096341",
   "metadata": {},
   "outputs": [],
   "source": [
    "config_file = \"/path/to/Config.yaml\""
   ]
  },
  {
   "cell_type": "code",
   "execution_count": null,
   "id": "5982ee75",
   "metadata": {},
   "outputs": [],
   "source": [
    "config = AsgardpyConfig()"
   ]
  },
  {
   "cell_type": "code",
   "execution_count": null,
   "id": "eab8fb32",
   "metadata": {},
   "outputs": [],
   "source": [
    "config"
   ]
  },
  {
   "cell_type": "code",
   "execution_count": null,
   "id": "fff3e9c6",
   "metadata": {},
   "outputs": [],
   "source": [
    "%%time\n",
    "config_main = config.read(config_file)"
   ]
  },
  {
   "cell_type": "code",
   "execution_count": null,
   "id": "0d869263",
   "metadata": {},
   "outputs": [],
   "source": [
    "for g in config_main.general:\n",
    "    print(g)"
   ]
  },
  {
   "cell_type": "markdown",
   "id": "f67c315b",
   "metadata": {},
   "source": [
    "# Steps mentioned in the main config file"
   ]
  },
  {
   "cell_type": "code",
   "execution_count": null,
   "id": "ae942ef3",
   "metadata": {},
   "outputs": [],
   "source": [
    "config_main.general.steps"
   ]
  },
  {
   "cell_type": "markdown",
   "id": "e8841d85",
   "metadata": {},
   "source": [
    "# Target source information"
   ]
  },
  {
   "cell_type": "code",
   "execution_count": null,
   "id": "e4b13051",
   "metadata": {},
   "outputs": [],
   "source": [
    "for c in config_main.target:\n",
    "    print(c)"
   ]
  },
  {
   "cell_type": "markdown",
   "id": "96cad898",
   "metadata": {},
   "source": [
    "# 3D Datasets informations"
   ]
  },
  {
   "cell_type": "code",
   "execution_count": null,
   "id": "e6f98b78",
   "metadata": {},
   "outputs": [],
   "source": [
    "for cc in config_main.dataset3d:\n",
    "    print(cc)"
   ]
  },
  {
   "cell_type": "code",
   "execution_count": null,
   "id": "78dfdca5",
   "metadata": {},
   "outputs": [],
   "source": [
    "for cc in config_main.fit_params:\n",
    "    print(cc)"
   ]
  },
  {
   "cell_type": "code",
   "execution_count": null,
   "id": "4ed95dc2",
   "metadata": {},
   "outputs": [],
   "source": [
    "config_main.general.log.dict()"
   ]
  },
  {
   "cell_type": "code",
   "execution_count": null,
   "id": "a0fb7951",
   "metadata": {},
   "outputs": [],
   "source": [
    "%%time\n",
    "analysis = AsgardpyAnalysis(config_main)"
   ]
  },
  {
   "cell_type": "code",
   "execution_count": null,
   "id": "b16d5c25",
   "metadata": {},
   "outputs": [],
   "source": [
    "analysis"
   ]
  },
  {
   "cell_type": "code",
   "execution_count": null,
   "id": "de064d49",
   "metadata": {},
   "outputs": [],
   "source": []
  },
  {
   "cell_type": "markdown",
   "id": "64e40e78",
   "metadata": {},
   "source": [
    "# Prepare for a single 3D Dataset, based on instrument and key_name"
   ]
  },
  {
   "cell_type": "code",
   "execution_count": null,
   "id": "2368b75c",
   "metadata": {},
   "outputs": [],
   "source": [
    "instruments_list = config_main.dataset3d.instruments\n",
    "print(len(instruments_list), \"number of 3D dataset information provided\")\n",
    "\n",
    "config_3d_dataset = instruments_list[0]\n",
    "print(f\"Instrument selected is {config_3d_dataset.name}\")"
   ]
  },
  {
   "cell_type": "code",
   "execution_count": null,
   "id": "00935ccc",
   "metadata": {},
   "outputs": [],
   "source": [
    "key_names = config_3d_dataset.dataset_info.key\n",
    "print(f\"The list of different keys or modes of observations for the selected instrument are {key_names}\")"
   ]
  },
  {
   "cell_type": "markdown",
   "id": "9d99ae35",
   "metadata": {},
   "source": [
    "# Run each Dataset3DGeneration step"
   ]
  },
  {
   "cell_type": "code",
   "execution_count": null,
   "id": "89f38e52",
   "metadata": {},
   "outputs": [],
   "source": [
    "%%time\n",
    "generate_3d_dataset = Dataset3DGeneration(\n",
    "    log, config_3d_dataset, config_main\n",
    ")"
   ]
  },
  {
   "cell_type": "code",
   "execution_count": null,
   "id": "ec50476e",
   "metadata": {},
   "outputs": [],
   "source": []
  },
  {
   "cell_type": "markdown",
   "id": "48610957",
   "metadata": {},
   "source": [
    "## Initialized variables"
   ]
  },
  {
   "cell_type": "code",
   "execution_count": null,
   "id": "0640b735",
   "metadata": {},
   "outputs": [],
   "source": [
    "print(generate_3d_dataset.config_target)"
   ]
  },
  {
   "cell_type": "code",
   "execution_count": null,
   "id": "db036bc5",
   "metadata": {},
   "outputs": [],
   "source": [
    "print(generate_3d_dataset.exclusion_mask)"
   ]
  },
  {
   "cell_type": "code",
   "execution_count": null,
   "id": "bac2931e",
   "metadata": {},
   "outputs": [],
   "source": [
    "print(generate_3d_dataset.irfs)"
   ]
  },
  {
   "cell_type": "code",
   "execution_count": null,
   "id": "7d328594",
   "metadata": {},
   "outputs": [],
   "source": [
    "print(generate_3d_dataset.events)"
   ]
  },
  {
   "cell_type": "code",
   "execution_count": null,
   "id": "44d50e8d",
   "metadata": {},
   "outputs": [],
   "source": [
    "print(generate_3d_dataset.diffuse_models)"
   ]
  },
  {
   "cell_type": "code",
   "execution_count": null,
   "id": "b85591de",
   "metadata": {},
   "outputs": [],
   "source": [
    "print(generate_3d_dataset.list_sources)"
   ]
  },
  {
   "cell_type": "code",
   "execution_count": null,
   "id": "4576fdb5",
   "metadata": {},
   "outputs": [],
   "source": []
  },
  {
   "cell_type": "markdown",
   "id": "73f96d8c",
   "metadata": {},
   "source": [
    "### First check for the given file list if they are readable or not."
   ]
  },
  {
   "cell_type": "code",
   "execution_count": null,
   "id": "4218e5c0",
   "metadata": {},
   "outputs": [],
   "source": [
    "%%time\n",
    "file_list = generate_3d_dataset.read_to_objects(key_names[0])"
   ]
  },
  {
   "cell_type": "code",
   "execution_count": null,
   "id": "bddaa80b",
   "metadata": {},
   "outputs": [],
   "source": [
    "print(file_list)"
   ]
  },
  {
   "cell_type": "code",
   "execution_count": null,
   "id": "a57b44ce",
   "metadata": {},
   "outputs": [],
   "source": [
    "for k in file_list.keys():\n",
    "    print(k, file_list[k])"
   ]
  },
  {
   "cell_type": "code",
   "execution_count": null,
   "id": "a0b5f6af",
   "metadata": {},
   "outputs": [],
   "source": []
  },
  {
   "cell_type": "code",
   "execution_count": null,
   "id": "1bd5744b",
   "metadata": {},
   "outputs": [],
   "source": [
    "print(generate_3d_dataset.irfs[\"exposure\"])"
   ]
  },
  {
   "cell_type": "code",
   "execution_count": null,
   "id": "399ec664",
   "metadata": {},
   "outputs": [],
   "source": [
    "print(generate_3d_dataset.irfs[\"psf\"])"
   ]
  },
  {
   "cell_type": "code",
   "execution_count": null,
   "id": "adc297b7",
   "metadata": {},
   "outputs": [],
   "source": [
    "print(generate_3d_dataset.irfs[\"edisp\"].info())"
   ]
  },
  {
   "cell_type": "code",
   "execution_count": null,
   "id": "cbcb0713",
   "metadata": {},
   "outputs": [],
   "source": [
    "print(generate_3d_dataset.diffuse_models[\"gal_diffuse\"])"
   ]
  },
  {
   "cell_type": "code",
   "execution_count": null,
   "id": "29dd2c0e",
   "metadata": {},
   "outputs": [],
   "source": [
    "print(generate_3d_dataset.diffuse_models[\"iso_diffuse\"])"
   ]
  },
  {
   "cell_type": "code",
   "execution_count": null,
   "id": "aa66fa9b",
   "metadata": {},
   "outputs": [],
   "source": [
    "print(len(generate_3d_dataset.list_sources), \"number of sources read from XML file\")"
   ]
  },
  {
   "cell_type": "code",
   "execution_count": null,
   "id": "1ee26cbf",
   "metadata": {
    "tags": []
   },
   "outputs": [],
   "source": [
    "for src in generate_3d_dataset.list_sources:\n",
    "    print(src)"
   ]
  },
  {
   "cell_type": "code",
   "execution_count": null,
   "id": "c207768b",
   "metadata": {},
   "outputs": [],
   "source": [
    "print(\"Number of free parameters in the whole list of SkyModels:\", len(Models(generate_3d_dataset.list_sources).parameters.free_parameters))"
   ]
  },
  {
   "cell_type": "code",
   "execution_count": null,
   "id": "a5fe0263",
   "metadata": {},
   "outputs": [],
   "source": [
    "print(\"Names of the sources in the whole list of SkyModels:\", Models(generate_3d_dataset.list_sources).names)"
   ]
  },
  {
   "cell_type": "code",
   "execution_count": null,
   "id": "66aa88c5",
   "metadata": {},
   "outputs": [],
   "source": []
  },
  {
   "cell_type": "markdown",
   "id": "1f93b74c",
   "metadata": {},
   "source": [
    "### Start preparing objects to create the counts map"
   ]
  },
  {
   "cell_type": "code",
   "execution_count": null,
   "id": "fb7e17d2",
   "metadata": {},
   "outputs": [],
   "source": [
    "%%time\n",
    "generate_3d_dataset.set_energy_dispersion_matrix()"
   ]
  },
  {
   "cell_type": "code",
   "execution_count": null,
   "id": "9f57bbce",
   "metadata": {},
   "outputs": [],
   "source": [
    "print(generate_3d_dataset.irfs[\"edisp_kernel\"])\n",
    "generate_3d_dataset.irfs[\"edisp_kernel\"].peek()"
   ]
  },
  {
   "cell_type": "code",
   "execution_count": null,
   "id": "d93fca51",
   "metadata": {},
   "outputs": [],
   "source": []
  },
  {
   "cell_type": "code",
   "execution_count": null,
   "id": "16eacca4",
   "metadata": {},
   "outputs": [],
   "source": [
    "%%time\n",
    "generate_3d_dataset.load_events(file_list[\"events_file\"])"
   ]
  },
  {
   "cell_type": "markdown",
   "id": "6877f12a",
   "metadata": {},
   "source": [
    "### EventList and GTI"
   ]
  },
  {
   "cell_type": "code",
   "execution_count": null,
   "id": "e37b21b2",
   "metadata": {},
   "outputs": [],
   "source": [
    "generate_3d_dataset.events[\"events\"].peek()"
   ]
  },
  {
   "cell_type": "code",
   "execution_count": null,
   "id": "ebaae3e3",
   "metadata": {},
   "outputs": [],
   "source": [
    "print(generate_3d_dataset.events[\"gti\"])"
   ]
  },
  {
   "cell_type": "code",
   "execution_count": null,
   "id": "458eeb24",
   "metadata": {},
   "outputs": [],
   "source": []
  },
  {
   "cell_type": "code",
   "execution_count": null,
   "id": "6ec462f3",
   "metadata": {},
   "outputs": [],
   "source": [
    "%%time\n",
    "# Source position from the Events file\n",
    "source_pos, evts_radius = generate_3d_dataset.get_source_skycoord()\n",
    "print(source_pos, evts_radius)"
   ]
  },
  {
   "cell_type": "code",
   "execution_count": null,
   "id": "785eb7a0",
   "metadata": {},
   "outputs": [],
   "source": []
  },
  {
   "cell_type": "markdown",
   "id": "82a94419",
   "metadata": {},
   "source": [
    "## Create the Counts Map"
   ]
  },
  {
   "cell_type": "code",
   "execution_count": null,
   "id": "1c15e216",
   "metadata": {},
   "outputs": [],
   "source": [
    "%%time\n",
    "generate_3d_dataset.create_counts_map(source_pos, evts_radius)"
   ]
  },
  {
   "cell_type": "code",
   "execution_count": null,
   "id": "e5fdda1a",
   "metadata": {},
   "outputs": [],
   "source": [
    "generate_3d_dataset.events[\"counts_map\"]"
   ]
  },
  {
   "cell_type": "code",
   "execution_count": null,
   "id": "02b30a6c-0d6c-47ec-91f6-e990ce6b792e",
   "metadata": {},
   "outputs": [],
   "source": [
    "generate_3d_dataset.events[\"counts_map\"].plot_interactive()"
   ]
  },
  {
   "cell_type": "code",
   "execution_count": null,
   "id": "3a641623",
   "metadata": {},
   "outputs": [],
   "source": [
    "generate_3d_dataset.events[\"counts_map\"].sum_over_axes().smooth(2).plot(stretch=\"sqrt\", add_cbar=True)"
   ]
  },
  {
   "cell_type": "code",
   "execution_count": null,
   "id": "eb594d80",
   "metadata": {},
   "outputs": [],
   "source": []
  },
  {
   "cell_type": "markdown",
   "id": "ada85dac",
   "metadata": {},
   "source": [
    "### Exclusion mask"
   ]
  },
  {
   "cell_type": "code",
   "execution_count": null,
   "id": "55ce893b",
   "metadata": {},
   "outputs": [],
   "source": [
    "%%time\n",
    "generate_3d_dataset.create_exclusion_mask()"
   ]
  },
  {
   "cell_type": "code",
   "execution_count": null,
   "id": "e43a484c",
   "metadata": {},
   "outputs": [],
   "source": [
    "print(generate_3d_dataset.exclusion_mask)"
   ]
  },
  {
   "cell_type": "code",
   "execution_count": null,
   "id": "f8e65b31-2230-4581-9630-4e353a040569",
   "metadata": {},
   "outputs": [],
   "source": [
    "generate_3d_dataset.exclusion_mask.plot_interactive()"
   ]
  },
  {
   "cell_type": "code",
   "execution_count": null,
   "id": "86d08e4e",
   "metadata": {},
   "outputs": [],
   "source": []
  },
  {
   "cell_type": "markdown",
   "id": "dfab56f8",
   "metadata": {},
   "source": [
    "### IRF interpolators"
   ]
  },
  {
   "cell_type": "code",
   "execution_count": null,
   "id": "47facdbb",
   "metadata": {},
   "outputs": [],
   "source": [
    "%%time\n",
    "generate_3d_dataset.set_edisp_interpolator()"
   ]
  },
  {
   "cell_type": "code",
   "execution_count": null,
   "id": "b950eae3",
   "metadata": {},
   "outputs": [],
   "source": [
    "print(generate_3d_dataset.irfs[\"edisp_interp_kernel\"])\n",
    "generate_3d_dataset.irfs[\"edisp_interp_kernel\"].peek()"
   ]
  },
  {
   "cell_type": "code",
   "execution_count": null,
   "id": "abd0d869",
   "metadata": {},
   "outputs": [],
   "source": [
    "%%time\n",
    "generate_3d_dataset.set_exposure_interpolator()"
   ]
  },
  {
   "cell_type": "code",
   "execution_count": null,
   "id": "2aa7965b",
   "metadata": {},
   "outputs": [],
   "source": [
    "print(generate_3d_dataset.irfs[\"exposure_interp\"])"
   ]
  },
  {
   "cell_type": "code",
   "execution_count": null,
   "id": "95ac2e03",
   "metadata": {},
   "outputs": [],
   "source": []
  },
  {
   "cell_type": "markdown",
   "id": "2a5fe141",
   "metadata": {},
   "source": [
    "### Diffuse background cutout"
   ]
  },
  {
   "cell_type": "code",
   "execution_count": null,
   "id": "5e9b1cc1",
   "metadata": {},
   "outputs": [],
   "source": [
    "%%time\n",
    "generate_3d_dataset.generate_diffuse_background_cutout()"
   ]
  },
  {
   "cell_type": "code",
   "execution_count": null,
   "id": "3a3a56aa",
   "metadata": {},
   "outputs": [],
   "source": [
    "print(Models(generate_3d_dataset.list_sources)[\"diffuse-iem\"])"
   ]
  },
  {
   "cell_type": "code",
   "execution_count": null,
   "id": "37e3764b",
   "metadata": {},
   "outputs": [],
   "source": [
    "print(generate_3d_dataset.diffuse_models[\"gal_diffuse_cutout\"])"
   ]
  },
  {
   "cell_type": "code",
   "execution_count": null,
   "id": "186b020a",
   "metadata": {},
   "outputs": [],
   "source": []
  },
  {
   "cell_type": "markdown",
   "id": "84e7caa5",
   "metadata": {},
   "source": [
    "# Apply Exclusion mask to models"
   ]
  },
  {
   "cell_type": "code",
   "execution_count": null,
   "id": "171fa7b4",
   "metadata": {},
   "outputs": [],
   "source": [
    "generate_3d_dataset.list_sources = apply_selection_mask_to_models(\n",
    "    generate_3d_dataset.list_sources,\n",
    "    target_source=generate_3d_dataset.config_target.source_name,\n",
    "    selection_mask=generate_3d_dataset.exclusion_mask,\n",
    ")"
   ]
  },
  {
   "cell_type": "code",
   "execution_count": null,
   "id": "c7c2e713",
   "metadata": {},
   "outputs": [],
   "source": [
    "for m in generate_3d_dataset.list_sources:\n",
    "    print(m)"
   ]
  },
  {
   "cell_type": "code",
   "execution_count": null,
   "id": "8fbf173e",
   "metadata": {},
   "outputs": [],
   "source": []
  },
  {
   "cell_type": "markdown",
   "id": "a789d25f",
   "metadata": {},
   "source": [
    "### Produce MapDataset"
   ]
  },
  {
   "cell_type": "code",
   "execution_count": null,
   "id": "e0d63095",
   "metadata": {},
   "outputs": [],
   "source": [
    "%%time\n",
    "dataset = generate_3d_dataset.generate_dataset(key_names[0])"
   ]
  },
  {
   "cell_type": "code",
   "execution_count": null,
   "id": "aeba72d3",
   "metadata": {
    "tags": []
   },
   "outputs": [],
   "source": [
    "print(dataset)"
   ]
  },
  {
   "cell_type": "code",
   "execution_count": null,
   "id": "1e88514f-4f15-4971-adf9-0e6b06d8fb0b",
   "metadata": {},
   "outputs": [],
   "source": []
  },
  {
   "cell_type": "code",
   "execution_count": null,
   "id": "6532e4d4",
   "metadata": {
    "tags": []
   },
   "outputs": [],
   "source": [
    "for m in generate_3d_dataset.list_sources:\n",
    "    print(m)"
   ]
  },
  {
   "cell_type": "code",
   "execution_count": null,
   "id": "cdd1edc0-e030-43b8-982c-d33003ae26a1",
   "metadata": {},
   "outputs": [],
   "source": []
  },
  {
   "cell_type": "markdown",
   "id": "40b9634e-bfe1-46bf-b8bf-b0c0e1579224",
   "metadata": {},
   "source": [
    "# Assigning models to the dataset"
   ]
  },
  {
   "cell_type": "code",
   "execution_count": null,
   "id": "d8ce118e",
   "metadata": {},
   "outputs": [],
   "source": [
    "%%time\n",
    "dataset.models = generate_3d_dataset.list_sources"
   ]
  },
  {
   "cell_type": "code",
   "execution_count": null,
   "id": "2bdcc5c0",
   "metadata": {
    "tags": []
   },
   "outputs": [],
   "source": [
    "%%time\n",
    "print(dataset)"
   ]
  },
  {
   "cell_type": "code",
   "execution_count": null,
   "id": "936a9ca2",
   "metadata": {},
   "outputs": [],
   "source": []
  },
  {
   "cell_type": "markdown",
   "id": "8f7af0db",
   "metadata": {},
   "source": [
    "# Some basic plots from the Dataset"
   ]
  },
  {
   "cell_type": "code",
   "execution_count": null,
   "id": "08f27f6e-dd64-482c-9044-e51816516e3f",
   "metadata": {},
   "outputs": [],
   "source": [
    "dataset.mask_safe.plot_interactive()"
   ]
  },
  {
   "cell_type": "code",
   "execution_count": null,
   "id": "bd60c3d7-0f4e-4346-aa54-30c5d77cb39e",
   "metadata": {},
   "outputs": [],
   "source": []
  },
  {
   "cell_type": "code",
   "execution_count": null,
   "id": "9c5cc4bf-29f4-4336-9b57-e986f1065a8b",
   "metadata": {},
   "outputs": [],
   "source": [
    "fig = plt.figure(figsize=(6, 3.8), dpi=120)\n",
    "vmin, vmax = np.percentile(\n",
    "    dataset.counts.sum_over_axes().smooth(\"0.1 deg\").data, \n",
    "    [5, 99.9]\n",
    ")\n",
    "ax = dataset.counts.sum_over_axes().smooth(\"0.2 deg\").plot(\n",
    "    vmin=vmin, vmax=vmax, add_cbar=True, stretch=\"sqrt\",\n",
    ")\n",
    "ax.set_title('CountsMap')"
   ]
  },
  {
   "cell_type": "code",
   "execution_count": null,
   "id": "fd58f24b",
   "metadata": {},
   "outputs": [],
   "source": [
    "dataset.plot_residuals_spectral()"
   ]
  },
  {
   "cell_type": "code",
   "execution_count": null,
   "id": "6e0fbbb6",
   "metadata": {},
   "outputs": [],
   "source": [
    "dataset.plot_residuals_spatial()"
   ]
  },
  {
   "cell_type": "code",
   "execution_count": null,
   "id": "b64dcc1b",
   "metadata": {},
   "outputs": [],
   "source": [
    "dataset.info_dict()"
   ]
  },
  {
   "cell_type": "code",
   "execution_count": null,
   "id": "3be410f9",
   "metadata": {},
   "outputs": [],
   "source": [
    "plt.figure(figsize=(8, 5))\n",
    "axs = plt.subplot(111, projection=dataset.counts.geom.wcs)\n",
    "\n",
    "dataset.counts.sum_over_axes().smooth(0.05 * u.deg).plot(\n",
    "    ax=axs, stretch=\"sqrt\", add_cbar=True, cmap=\"afmhot\"\n",
    ")\n",
    "dataset.models.plot_regions(ax=axs, color=\"white\")\n",
    "axs.set_title(dataset.name)\n",
    "\n",
    "plt.show()"
   ]
  },
  {
   "cell_type": "code",
   "execution_count": null,
   "id": "370074aa-ce83-4966-8110-c2bdab43ad1f",
   "metadata": {},
   "outputs": [],
   "source": [
    "dataset.exposure.plot_interactive(add_cbar=True)"
   ]
  },
  {
   "cell_type": "code",
   "execution_count": null,
   "id": "f6ba3bc5-5dfd-4109-9eac-9d7f02353aa1",
   "metadata": {},
   "outputs": [],
   "source": []
  },
  {
   "cell_type": "code",
   "execution_count": null,
   "id": "3d4d6e44-e61b-4678-a229-f01bae83e8a3",
   "metadata": {},
   "outputs": [],
   "source": [
    "dataset.psf.plot_containment_radius_vs_energy()"
   ]
  },
  {
   "cell_type": "code",
   "execution_count": null,
   "id": "77c38e7d",
   "metadata": {},
   "outputs": [],
   "source": [
    "plt.figure(figsize=(8, 5))\n",
    "\n",
    "energy = [100, 300, 1000] * u.GeV\n",
    "dataset.psf.plot_psf_vs_rad(energy_true=energy)\n",
    "\n",
    "spectrum = PowerLawSpectralModel(index=1.25)\n",
    "psf_mean = dataset.psf.to_image(spectrum=spectrum)\n",
    "psf_mean.plot_psf_vs_rad(c=\"k\", ls=\"--\", energy_true=[500] * u.GeV)\n",
    "\n",
    "plt.xlim(1e-3, 0.3)\n",
    "plt.ylim(1e3, 1e6)\n",
    "plt.legend()"
   ]
  },
  {
   "cell_type": "code",
   "execution_count": null,
   "id": "a475aede-34ca-439d-aa3a-287391acc3e5",
   "metadata": {},
   "outputs": [],
   "source": [
    "radius = dataset.psf.containment_radius(energy_true=1 * u.TeV, fraction=0.95)\n",
    "print(radius)"
   ]
  },
  {
   "cell_type": "code",
   "execution_count": null,
   "id": "ea611006-e557-407f-8a9e-29d2342b6f93",
   "metadata": {},
   "outputs": [],
   "source": [
    "plt.figure()\n",
    "edisp_kernel = dataset.edisp.get_edisp_kernel()\n",
    "edisp_kernel.plot_matrix()"
   ]
  },
  {
   "cell_type": "code",
   "execution_count": null,
   "id": "fd83eacc-8309-453f-ac1b-c9084af3b6de",
   "metadata": {},
   "outputs": [],
   "source": []
  },
  {
   "cell_type": "code",
   "execution_count": null,
   "id": "0fec0deb-1433-4957-9ee9-7c0835687a62",
   "metadata": {},
   "outputs": [],
   "source": [
    "plt.figure()\n",
    "npred = dataset.npred()\n",
    "npred.sum_over_axes().plot(add_cbar=True)"
   ]
  },
  {
   "cell_type": "code",
   "execution_count": null,
   "id": "f98c9816",
   "metadata": {},
   "outputs": [],
   "source": []
  }
 ],
 "metadata": {
  "kernelspec": {
   "display_name": "gammapy-dev",
   "language": "python",
   "name": "gammapy-dev"
  },
  "language_info": {
   "codemirror_mode": {
    "name": "ipython",
    "version": 3
   },
   "file_extension": ".py",
   "mimetype": "text/x-python",
   "name": "python",
   "nbconvert_exporter": "python",
   "pygments_lexer": "ipython3",
   "version": "3.8.13"
  }
 },
 "nbformat": 4,
 "nbformat_minor": 5
}
