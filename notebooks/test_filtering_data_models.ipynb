{
 "cells": [
  {
   "cell_type": "code",
   "execution_count": 1,
   "id": "f7b9e86f-f8f6-4289-858e-165ab6bc92af",
   "metadata": {},
   "outputs": [],
   "source": [
    "import os\n",
    "from pathlib import Path\n",
    "import numpy as np\n",
    "import logging\n",
    "\n",
    "import matplotlib.pyplot as plt\n",
    "from astropy.coordinates import SkyCoord\n",
    "import astropy.units as u\n",
    "\n",
    "from gammapy.catalog import CATALOG_REGISTRY\n",
    "from gammapy.modeling.models import Models\n",
    "from gammapy.maps import Map"
   ]
  },
  {
   "cell_type": "code",
   "execution_count": 2,
   "id": "33c904bd-1d67-46b5-b9ce-ac351d8ff4e8",
   "metadata": {},
   "outputs": [],
   "source": [
    "from asgardpy.analysis import AsgardpyAnalysis\n",
    "from asgardpy.config import AsgardpyConfig\n",
    "\n",
    "from asgardpy.data.dataset_3d import Dataset3DGeneration\n",
    "\n",
    "from asgardpy.data.target import (\n",
    "    set_models, \n",
    "    apply_selection_mask_to_models,\n",
    "    read_models_from_asgardpy_config\n",
    ")"
   ]
  },
  {
   "cell_type": "code",
   "execution_count": 3,
   "id": "370a0b79-7679-48e4-8608-dd1a66680662",
   "metadata": {},
   "outputs": [],
   "source": [
    "# os.environ['GAMMAPY_DATA']"
   ]
  },
  {
   "cell_type": "code",
   "execution_count": 4,
   "id": "a0b308d3-68a5-485d-9979-9ff6bc62f5e0",
   "metadata": {},
   "outputs": [],
   "source": [
    "log = logging.getLogger(\"test filtering of Data/Models\")"
   ]
  },
  {
   "cell_type": "code",
   "execution_count": null,
   "id": "ffa3b858-02e1-495e-b16a-01bc9e86bcda",
   "metadata": {},
   "outputs": [],
   "source": []
  },
  {
   "cell_type": "code",
   "execution_count": 5,
   "id": "0a573d78-c9dd-45bf-8c4d-1b6687533082",
   "metadata": {},
   "outputs": [],
   "source": [
    "config_file = \"../src/asgardpy/tests/config_test_gadf.yaml\""
   ]
  },
  {
   "cell_type": "code",
   "execution_count": 6,
   "id": "c389f43a-7ff5-4f14-96ce-14c1de367e29",
   "metadata": {},
   "outputs": [],
   "source": [
    "config_main = AsgardpyConfig().read(config_file)"
   ]
  },
  {
   "cell_type": "markdown",
   "id": "d8a1f68b-a4d5-4d9a-a525-483f80d11c13",
   "metadata": {},
   "source": [
    "# Update path of test data"
   ]
  },
  {
   "cell_type": "code",
   "execution_count": 7,
   "id": "8f24f8d4-2a09-4421-822f-2c7a77c18f25",
   "metadata": {},
   "outputs": [],
   "source": [
    "config_main.dataset3d.instruments[0].input_dl3[0].input_dir = f\"{os.environ['GAMMAPY_DATA']}hess-dl3-dr1/\"\n",
    "config_main.dataset3d.instruments[0].dataset_info.background.exclusion.exclusion_file = (\n",
    "    f\"{os.environ['GAMMAPY_DATA']}joint-crab/exclusion/exclusion_mask_crab.fits.gz\"\n",
    ")\n",
    "config_main.dataset1d.instruments[0].input_dl3[0].input_dir = f\"{os.environ['GAMMAPY_DATA']}magic/rad_max/data/\""
   ]
  },
  {
   "cell_type": "code",
   "execution_count": 8,
   "id": "71a4fc57-45c7-45a2-a7c2-0a51cef86d55",
   "metadata": {},
   "outputs": [],
   "source": [
    "config_main.target.use_catalog.selection_radius = \"10 deg\"\n",
    "config_main.target.roi_selection.roi_radius = \"2.8 deg\""
   ]
  },
  {
   "cell_type": "markdown",
   "id": "c2087d2e-c855-445b-b40b-bc84c453ccb8",
   "metadata": {},
   "source": [
    "# Basic Config informations"
   ]
  },
  {
   "cell_type": "code",
   "execution_count": 9,
   "id": "97d2cb50-df59-43cb-b0dd-80bcb0580873",
   "metadata": {
    "scrolled": true
   },
   "outputs": [
    {
     "data": {
      "text/plain": [
       "{'log': {'level': 'info',\n",
       "  'filename': '',\n",
       "  'filemode': 'w',\n",
       "  'format': '',\n",
       "  'datefmt': ''},\n",
       " 'outdir': PosixPath('.'),\n",
       " 'n_jobs': 10,\n",
       " 'parallel_backend': 'multiprocessing',\n",
       " 'steps': ['datasets-3d', 'datasets-1d', 'fit', 'flux-points'],\n",
       " 'overwrite': True,\n",
       " 'stacked_dataset': True}"
      ]
     },
     "execution_count": 9,
     "metadata": {},
     "output_type": "execute_result"
    }
   ],
   "source": [
    "config_main.general.dict()"
   ]
  },
  {
   "cell_type": "code",
   "execution_count": 10,
   "id": "ceabf365-8e46-4ccf-ae01-854f26db2fa6",
   "metadata": {
    "scrolled": true
   },
   "outputs": [
    {
     "data": {
      "text/plain": [
       "{'source_name': 'Crab Nebula',\n",
       " 'sky_position': {'frame': 'icrs',\n",
       "  'lon': <Quantity 83.633 deg>,\n",
       "  'lat': <Quantity 22.014 deg>,\n",
       "  'radius': <Quantity 0. deg>},\n",
       " 'use_uniform_position': True,\n",
       " 'models_file': PosixPath('.'),\n",
       " 'datasets_with_fov_bkg_model': ['HESS'],\n",
       " 'use_catalog': {'name': '3fhl',\n",
       "  'selection_radius': <Quantity 10. deg>,\n",
       "  'exclusion_radius': <Quantity 0.2 deg>},\n",
       " 'components': [{'name': 'Crab Nebula',\n",
       "   'type': 'SkyModel',\n",
       "   'datasets_names': [''],\n",
       "   'spectral': {'type': 'LogParabolaSpectralModel',\n",
       "    'parameters': [{'name': 'amplitude',\n",
       "      'value': 1e-06,\n",
       "      'unit': 'cm-2 s-1 TeV-1',\n",
       "      'error': 1.5e-07,\n",
       "      'min': 1e-13,\n",
       "      'max': 0.01,\n",
       "      'frozen': False},\n",
       "     {'name': 'reference',\n",
       "      'value': 0.01,\n",
       "      'unit': 'TeV',\n",
       "      'error': 0.0,\n",
       "      'min': 0.0001,\n",
       "      'max': 100.0,\n",
       "      'frozen': True},\n",
       "     {'name': 'alpha',\n",
       "      'value': 1.7,\n",
       "      'unit': '',\n",
       "      'error': 0.1,\n",
       "      'min': 0.5,\n",
       "      'max': 5.0,\n",
       "      'frozen': False},\n",
       "     {'name': 'beta',\n",
       "      'value': 0.1,\n",
       "      'unit': '',\n",
       "      'error': 0.001,\n",
       "      'min': 1e-06,\n",
       "      'max': 1.0,\n",
       "      'frozen': False}],\n",
       "    'ebl_abs': {'filename': PosixPath('.'),\n",
       "     'reference': 'dominguez',\n",
       "     'type': 'EBLAbsorptionNormSpectralModel',\n",
       "     'redshift': 0.0,\n",
       "     'alpha_norm': 1.0}},\n",
       "   'spatial': {'type': 'PointSpatialModel',\n",
       "    'frame': 'icrs',\n",
       "    'parameters': [{'name': 'lon_0',\n",
       "      'value': 83.63,\n",
       "      'unit': 'deg',\n",
       "      'error': 0.1,\n",
       "      'min': 0.1,\n",
       "      'max': 10.0,\n",
       "      'frozen': True},\n",
       "     {'name': 'lat_0',\n",
       "      'value': 22.014,\n",
       "      'unit': 'deg',\n",
       "      'error': 0.1,\n",
       "      'min': 0.1,\n",
       "      'max': 10.0,\n",
       "      'frozen': True}]}}],\n",
       " 'covariance': 'None',\n",
       " 'from_3d': False,\n",
       " 'roi_selection': {'roi_radius': <Quantity 2.8 deg>, 'free_sources': []}}"
      ]
     },
     "execution_count": 10,
     "metadata": {},
     "output_type": "execute_result"
    }
   ],
   "source": [
    "config_main.target.dict()"
   ]
  },
  {
   "cell_type": "code",
   "execution_count": 11,
   "id": "e0681176-7c6e-4fe2-9da9-3a1cf7fcd4f2",
   "metadata": {
    "scrolled": true
   },
   "outputs": [
    {
     "data": {
      "text/plain": [
       "{'type': '3d',\n",
       " 'instruments': [{'name': 'HESS',\n",
       "   'input_dl3': [{'type': 'gadf-dl3',\n",
       "     'input_dir': PosixPath('/home/chaitanya/software/gammapy-datasets/1.2/hess-dl3-dr1'),\n",
       "     'glob_pattern': {'dl3': 'data/hess_*fits.gz'}}],\n",
       "   'input_dl4': False,\n",
       "   'dataset_info': {'name': 'HESS',\n",
       "    'key': [],\n",
       "    'observation': {'obs_ids': [],\n",
       "     'obs_file': PosixPath('.'),\n",
       "     'obs_time': [{'format': 'iso',\n",
       "       'start': '2004-12-04 22:00:00.000',\n",
       "       'stop': '2004-12-04 22:44:00.000'},\n",
       "      {'format': 'mjd', 'start': '53343.947916666', 'stop': '53343.989583333'},\n",
       "      {'format': 'iso',\n",
       "       'start': '2004-12-05 00:00:00.000',\n",
       "       'stop': '2004-12-07 00:00:00.000'}],\n",
       "     'obs_cone': {'frame': 'icrs',\n",
       "      'lon': <Quantity 83.633 deg>,\n",
       "      'lat': <Quantity 22.014 deg>,\n",
       "      'radius': <Quantity 5. deg>},\n",
       "     'required_irfs': ['aeff', 'edisp', 'psf', 'bkg']},\n",
       "    'map_selection': ['counts', 'exposure', 'background', 'psf', 'edisp'],\n",
       "    'geom': {'wcs': {'skydir': {'frame': 'icrs',\n",
       "       'lon': <Quantity 0. deg>,\n",
       "       'lat': <Quantity 0. deg>,\n",
       "       'radius': <Quantity 0. deg>},\n",
       "      'binsize': <Quantity 0.02 deg>,\n",
       "      'proj': 'TAN',\n",
       "      'map_frame_shape': {'width': <Quantity 2. deg>,\n",
       "       'height': <Quantity 2. deg>},\n",
       "      'binsize_irf': <Quantity 0.2 deg>},\n",
       "     'selection': {'offset_max': <Quantity 2.5 deg>},\n",
       "     'axes': [{'name': 'energy',\n",
       "       'axis': {'min': <Quantity 1. TeV>,\n",
       "        'max': <Quantity 10. TeV>,\n",
       "        'nbins': 10,\n",
       "        'per_decade': True},\n",
       "       'axis_custom': {'edges': [], 'unit': 'TeV'}},\n",
       "      {'name': 'energy_true',\n",
       "       'axis': {'min': <Quantity 0.5 TeV>,\n",
       "        'max': <Quantity 20. TeV>,\n",
       "        'nbins': 20,\n",
       "        'per_decade': False},\n",
       "       'axis_custom': {'edges': [], 'unit': 'TeV'}}],\n",
       "     'from_events_file': False},\n",
       "    'background': {'method': 'fov_background',\n",
       "     'region_finder_method': 'wobble',\n",
       "     'parameters': {'method': 'scale'},\n",
       "     'exclusion': {'target_source': True,\n",
       "      'regions': [],\n",
       "      'exclusion_file': PosixPath('/home/chaitanya/software/gammapy-datasets/1.2/joint-crab/exclusion/exclusion_mask_crab.fits.gz')}},\n",
       "    'safe_mask': {'methods': ['aeff-default'], 'parameters': {}},\n",
       "    'on_region': {'frame': 'icrs',\n",
       "     'lon': <Quantity 83.633 deg>,\n",
       "     'lat': <Quantity 22.014 deg>,\n",
       "     'radius': <Quantity 5. deg>},\n",
       "    'containment_correction': True},\n",
       "   'dl4_dataset_info': {'dl4_dataset': {'type': 'MapDataset',\n",
       "     'input_dir': PosixPath('.'),\n",
       "     'glob_pattern': 'pha*fits',\n",
       "     'dl4_format': 'gadf'},\n",
       "    'spectral_energy_range': {'name': 'energy',\n",
       "     'axis': {'min': <Quantity 1. TeV>,\n",
       "      'max': <Quantity 10. TeV>,\n",
       "      'nbins': 5,\n",
       "      'per_decade': True},\n",
       "     'axis_custom': {'edges': [], 'unit': 'TeV'}}}}]}"
      ]
     },
     "execution_count": 11,
     "metadata": {},
     "output_type": "execute_result"
    }
   ],
   "source": [
    "config_main.dataset3d.dict()"
   ]
  },
  {
   "cell_type": "code",
   "execution_count": 12,
   "id": "4b5c4d66-8adb-4723-a8a7-df4737a41498",
   "metadata": {
    "scrolled": true
   },
   "outputs": [
    {
     "data": {
      "text/plain": [
       "{'type': '1d',\n",
       " 'instruments': [{'name': 'MAGIC',\n",
       "   'input_dl3': [{'type': 'gadf-dl3',\n",
       "     'input_dir': PosixPath('/home/chaitanya/software/gammapy-datasets/1.2/magic/rad_max/data'),\n",
       "     'glob_pattern': {'dl3': '2013*fits'}}],\n",
       "   'input_dl4': False,\n",
       "   'dataset_info': {'name': 'MAGIC',\n",
       "    'geom': {'wcs': {'skydir': {'frame': 'icrs',\n",
       "       'lon': <Quantity 0. deg>,\n",
       "       'lat': <Quantity 0. deg>,\n",
       "       'radius': <Quantity 0. deg>},\n",
       "      'binsize': <Quantity 0.02 deg>,\n",
       "      'proj': 'TAN',\n",
       "      'map_frame_shape': {'width': <Quantity 6. deg>,\n",
       "       'height': <Quantity 6. deg>},\n",
       "      'binsize_irf': <Quantity 0.2 deg>},\n",
       "     'selection': {'offset_max': <Quantity 2.5 deg>},\n",
       "     'axes': [{'name': 'energy',\n",
       "       'axis': {'min': <Quantity 0.05 TeV>,\n",
       "        'max': <Quantity 10. TeV>,\n",
       "        'nbins': 5,\n",
       "        'per_decade': True},\n",
       "       'axis_custom': {'edges': [], 'unit': 'TeV'}},\n",
       "      {'name': 'energy_true',\n",
       "       'axis': {'min': <Quantity 0.01 TeV>,\n",
       "        'max': <Quantity 10. TeV>,\n",
       "        'nbins': 10,\n",
       "        'per_decade': True},\n",
       "       'axis_custom': {'edges': [], 'unit': 'TeV'}}],\n",
       "     'from_events_file': True},\n",
       "    'observation': {'obs_ids': [],\n",
       "     'obs_file': PosixPath('.'),\n",
       "     'obs_time': [],\n",
       "     'obs_cone': {'frame': 'icrs',\n",
       "      'lon': <Quantity 0. deg>,\n",
       "      'lat': <Quantity 0. deg>,\n",
       "      'radius': <Quantity 0. deg>},\n",
       "     'required_irfs': ['aeff', 'edisp', 'rad_max']},\n",
       "    'background': {'method': 'reflected',\n",
       "     'region_finder_method': 'wobble',\n",
       "     'parameters': {'n_off_regions': 3},\n",
       "     'exclusion': {'target_source': True,\n",
       "      'regions': [{'type': 'CircleSkyRegion',\n",
       "        'name': '4FGL J0521.7+2112',\n",
       "        'position': {'frame': 'icrs',\n",
       "         'lon': <Quantity 0. deg>,\n",
       "         'lat': <Quantity 0. deg>,\n",
       "         'radius': <Quantity 0. deg>},\n",
       "        'parameters': {'region_radius': '0.5 deg'}}],\n",
       "      'exclusion_file': PosixPath('.')}},\n",
       "    'safe_mask': {'methods': ['aeff-default'], 'parameters': {}},\n",
       "    'on_region': {'frame': 'icrs',\n",
       "     'lon': <Quantity 83.633 deg>,\n",
       "     'lat': <Quantity 22.014 deg>,\n",
       "     'radius': <Quantity 0. deg>},\n",
       "    'containment_correction': False,\n",
       "    'map_selection': ['counts', 'exposure', 'edisp']},\n",
       "   'dl4_dataset_info': {'dl4_dataset': {'type': 'MapDataset',\n",
       "     'input_dir': PosixPath('.'),\n",
       "     'glob_pattern': 'pha*fits',\n",
       "     'dl4_format': 'gadf'},\n",
       "    'spectral_energy_range': {'name': 'energy',\n",
       "     'axis': {'min': <Quantity 100. GeV>,\n",
       "      'max': <Quantity 10. TeV>,\n",
       "      'nbins': 5,\n",
       "      'per_decade': True},\n",
       "     'axis_custom': {'edges': [0.0631,\n",
       "       0.1,\n",
       "       0.1585,\n",
       "       0.2512,\n",
       "       0.3981,\n",
       "       0.631,\n",
       "       1.0,\n",
       "       1.585,\n",
       "       2.512],\n",
       "      'unit': 'TeV'}}}}]}"
      ]
     },
     "execution_count": 12,
     "metadata": {},
     "output_type": "execute_result"
    }
   ],
   "source": [
    "config_main.dataset1d.dict()"
   ]
  },
  {
   "cell_type": "markdown",
   "id": "ea0441ae-83af-462f-b599-624b6c6385b5",
   "metadata": {},
   "source": [
    "# Initialize main functions"
   ]
  },
  {
   "cell_type": "code",
   "execution_count": 13,
   "id": "5cb28971-708d-4843-b92c-e679ec86f1c5",
   "metadata": {},
   "outputs": [],
   "source": [
    "# analysis = AsgardpyAnalysis(config_main)"
   ]
  },
  {
   "cell_type": "code",
   "execution_count": null,
   "id": "270df332-b5a6-438c-8824-c40476d86d37",
   "metadata": {},
   "outputs": [],
   "source": []
  },
  {
   "cell_type": "code",
   "execution_count": 14,
   "id": "657dc423-3edc-411b-bfa0-d2f1f4efddd5",
   "metadata": {},
   "outputs": [
    {
     "name": "stdout",
     "output_type": "stream",
     "text": [
      "1 number of 3D dataset information provided\n",
      "Instrument selected is HESS\n"
     ]
    }
   ],
   "source": [
    "instruments_list = config_main.dataset3d.instruments\n",
    "print(len(instruments_list), \"number of 3D dataset information provided\")\n",
    "\n",
    "config_3d_dataset = instruments_list[0]\n",
    "print(f\"Instrument selected is {config_3d_dataset.name}\")"
   ]
  },
  {
   "cell_type": "code",
   "execution_count": 15,
   "id": "6e9afc83-7532-421c-b819-053b8bb4e77a",
   "metadata": {},
   "outputs": [
    {
     "name": "stdout",
     "output_type": "stream",
     "text": [
      "The list of different keys or modes of observations for the selected instrument are []\n"
     ]
    }
   ],
   "source": [
    "key_names = config_3d_dataset.dataset_info.key\n",
    "print(f\"The list of different keys or modes of observations for the selected instrument are {key_names}\")"
   ]
  },
  {
   "cell_type": "code",
   "execution_count": null,
   "id": "c7ee1e10-ca66-4704-9dee-28da7e744d00",
   "metadata": {},
   "outputs": [],
   "source": []
  },
  {
   "cell_type": "code",
   "execution_count": 16,
   "id": "9c78937d-9d32-4120-bf2d-47b1668b6c5d",
   "metadata": {},
   "outputs": [
    {
     "name": "stdout",
     "output_type": "stream",
     "text": [
      "CPU times: user 5 µs, sys: 5 µs, total: 10 µs\n",
      "Wall time: 12.6 µs\n"
     ]
    }
   ],
   "source": [
    "%%time\n",
    "generate_3d_dataset = Dataset3DGeneration(\n",
    "    log, config_3d_dataset, config_main, #analysis.config\n",
    ")"
   ]
  },
  {
   "cell_type": "markdown",
   "id": "f09e6410-1d3d-445c-a6ef-2c7c9ab4e3ba",
   "metadata": {},
   "source": [
    "# Check default information of the 3D datasets"
   ]
  },
  {
   "cell_type": "code",
   "execution_count": 17,
   "id": "dee3c1c0-2254-4bc3-8dc9-03ad4897fa2a",
   "metadata": {},
   "outputs": [
    {
     "name": "stdout",
     "output_type": "stream",
     "text": [
      "None\n"
     ]
    }
   ],
   "source": [
    "print(generate_3d_dataset.exclusion_mask)"
   ]
  },
  {
   "cell_type": "code",
   "execution_count": 18,
   "id": "596683ad-15e0-423f-8197-7f22100433ed",
   "metadata": {},
   "outputs": [
    {
     "name": "stdout",
     "output_type": "stream",
     "text": [
      "{'gal_diffuse': None, 'iso_diffuse': None, 'key_name': None, 'gal_diffuse_cutout': None}\n"
     ]
    }
   ],
   "source": [
    "print(generate_3d_dataset.diffuse_models)"
   ]
  },
  {
   "cell_type": "code",
   "execution_count": 19,
   "id": "21631776-8fde-4051-989c-6947a9c631cf",
   "metadata": {},
   "outputs": [
    {
     "name": "stdout",
     "output_type": "stream",
     "text": [
      "[]\n"
     ]
    }
   ],
   "source": [
    "print(generate_3d_dataset.list_source_models)"
   ]
  },
  {
   "cell_type": "code",
   "execution_count": 20,
   "id": "42204b75-4fe0-4d26-b608-8a41a9ae7520",
   "metadata": {},
   "outputs": [],
   "source": [
    "exclusion_regions = []"
   ]
  },
  {
   "cell_type": "code",
   "execution_count": 21,
   "id": "61b7f434-4965-491a-bea0-f0f763b00ed0",
   "metadata": {},
   "outputs": [],
   "source": [
    "filled_skymodel = False"
   ]
  },
  {
   "cell_type": "code",
   "execution_count": 22,
   "id": "2c7b64ac-2572-4575-866e-231411bb71be",
   "metadata": {},
   "outputs": [
    {
     "name": "stdout",
     "output_type": "stream",
     "text": [
      "CPU times: user 411 µs, sys: 455 µs, total: 866 µs\n",
      "Wall time: 602 µs\n"
     ]
    }
   ],
   "source": [
    "%%time\n",
    "file_list = generate_3d_dataset.read_to_objects(key_names)"
   ]
  },
  {
   "cell_type": "code",
   "execution_count": 23,
   "id": "a34d2f4a-109c-4ef6-a68c-25d71b49b342",
   "metadata": {
    "scrolled": true
   },
   "outputs": [
    {
     "name": "stdout",
     "output_type": "stream",
     "text": [
      "105\n"
     ]
    }
   ],
   "source": [
    "print(len(file_list))"
   ]
  },
  {
   "cell_type": "code",
   "execution_count": null,
   "id": "1a6d9636-6c29-4d1c-8da1-ef1d973077ab",
   "metadata": {},
   "outputs": [],
   "source": []
  },
  {
   "cell_type": "markdown",
   "id": "a2dc7cb1-48b4-4ebe-8b25-4afd03a800b7",
   "metadata": {},
   "source": [
    "# Start filtering data/models"
   ]
  },
  {
   "cell_type": "markdown",
   "id": "16349c0a-9fbd-48b1-b9d2-656f9058b74e",
   "metadata": {},
   "source": [
    "## Filter Observations based on time intervals"
   ]
  },
  {
   "cell_type": "code",
   "execution_count": 24,
   "id": "23a8414e-bd9c-4f61-9c64-5588dfa8906e",
   "metadata": {},
   "outputs": [],
   "source": [
    "from asgardpy.base.geom import (\n",
    "    get_source_position, \n",
    "    generate_geom,\n",
    ")\n",
    "from asgardpy.base.reduction import (\n",
    "    get_filtered_observations,\n",
    ")"
   ]
  },
  {
   "cell_type": "code",
   "execution_count": 25,
   "id": "29d254b8-b471-4e69-b08a-874acc3736ab",
   "metadata": {},
   "outputs": [],
   "source": [
    "observations = get_filtered_observations(\n",
    "    dl3_path=generate_3d_dataset.config_3d_dataset.input_dl3[0].input_dir,\n",
    "    obs_config=generate_3d_dataset.config_3d_dataset.dataset_info.observation,\n",
    "    log=generate_3d_dataset.log,\n",
    ")"
   ]
  },
  {
   "cell_type": "code",
   "execution_count": 26,
   "id": "a2b40f66-a475-4049-82d4-9cb61e58400d",
   "metadata": {
    "scrolled": true
   },
   "outputs": [
    {
     "name": "stdout",
     "output_type": "stream",
     "text": [
      "Observations\n",
      "Number of observations: 3\n",
      "Observation\n",
      "\n",
      "\tobs id            : 23523 \n",
      " \ttstart            : 53343.92\n",
      "\ttstop             : 53343.94\n",
      "\tduration          : 1687.00 s\n",
      "\tpointing (icrs)   : 83.6 deg, 21.5 deg\n",
      "\n",
      "\tdeadtime fraction : 6.2%\n",
      "Observation\n",
      "\n",
      "\tobs id            : 23526 \n",
      " \ttstart            : 53343.95\n",
      "\ttstop             : 53343.97\n",
      "\tduration          : 1683.00 s\n",
      "\tpointing (icrs)   : 83.6 deg, 22.5 deg\n",
      "\n",
      "\tdeadtime fraction : 6.6%\n",
      "Observation\n",
      "\n",
      "\tobs id            : 23559 \n",
      " \ttstart            : 53345.96\n",
      "\ttstop             : 53345.98\n",
      "\tduration          : 1686.00 s\n",
      "\tpointing (icrs)   : 85.3 deg, 22.0 deg\n",
      "\n",
      "\tdeadtime fraction : 6.4%\n",
      "\n"
     ]
    }
   ],
   "source": [
    "print(observations)"
   ]
  },
  {
   "cell_type": "code",
   "execution_count": null,
   "id": "d3ccdb61-93a9-41f1-a9b7-284458a78cb9",
   "metadata": {},
   "outputs": [],
   "source": []
  },
  {
   "cell_type": "markdown",
   "id": "fccdf93b-cd8f-40f4-9827-5ea1af251a91",
   "metadata": {},
   "source": [
    "## Filter observations based on the obs cone"
   ]
  },
  {
   "cell_type": "code",
   "execution_count": 27,
   "id": "861d7fa1-1094-4f12-a01e-fb9257055bdf",
   "metadata": {},
   "outputs": [
    {
     "data": {
      "text/plain": [
       "{'obs_ids': [],\n",
       " 'obs_file': PosixPath('.'),\n",
       " 'obs_time': [{'format': 'iso',\n",
       "   'start': '2004-12-04 22:00:00.000',\n",
       "   'stop': '2004-12-04 22:44:00.000'},\n",
       "  {'format': 'mjd', 'start': '53343.947916666', 'stop': '53343.989583333'},\n",
       "  {'format': 'iso',\n",
       "   'start': '2004-12-05 00:00:00.000',\n",
       "   'stop': '2004-12-07 00:00:00.000'}],\n",
       " 'obs_cone': {'frame': 'icrs',\n",
       "  'lon': <Quantity 83.633 deg>,\n",
       "  'lat': <Quantity 22.014 deg>,\n",
       "  'radius': <Quantity 5. deg>},\n",
       " 'required_irfs': ['aeff', 'edisp', 'psf', 'bkg']}"
      ]
     },
     "execution_count": 27,
     "metadata": {},
     "output_type": "execute_result"
    }
   ],
   "source": [
    "generate_3d_dataset.config_3d_dataset.dataset_info.observation.dict()"
   ]
  },
  {
   "cell_type": "code",
   "execution_count": 28,
   "id": "c544027a-c1bb-47bc-a568-b466ffb82d5b",
   "metadata": {},
   "outputs": [],
   "source": [
    "temp_obs_1 = generate_3d_dataset.config_3d_dataset.dataset_info.observation.copy()\n",
    "temp_obs_2 = generate_3d_dataset.config_3d_dataset.dataset_info.observation.copy()\n",
    "\n",
    "# Defaulting to ignore the selection criteria\n",
    "temp_obs_1.obs_cone = {}"
   ]
  },
  {
   "cell_type": "code",
   "execution_count": 29,
   "id": "df0f6e4b-03dc-43cb-8f65-facd91f932b7",
   "metadata": {},
   "outputs": [
    {
     "data": {
      "text/plain": [
       "{'obs_ids': [],\n",
       " 'obs_file': PosixPath('.'),\n",
       " 'obs_time': [{'format': 'iso',\n",
       "   'start': '2004-12-04 22:00:00.000',\n",
       "   'stop': '2004-12-04 22:44:00.000'},\n",
       "  {'format': 'mjd', 'start': '53343.947916666', 'stop': '53343.989583333'},\n",
       "  {'format': 'iso',\n",
       "   'start': '2004-12-05 00:00:00.000',\n",
       "   'stop': '2004-12-07 00:00:00.000'}],\n",
       " 'obs_cone': {'frame': 'icrs',\n",
       "  'lon': <Quantity 0. deg>,\n",
       "  'lat': <Quantity 0. deg>,\n",
       "  'radius': <Quantity 0. deg>},\n",
       " 'required_irfs': ['aeff', 'edisp', 'psf', 'bkg']}"
      ]
     },
     "execution_count": 29,
     "metadata": {},
     "output_type": "execute_result"
    }
   ],
   "source": [
    "temp_obs_1.dict()"
   ]
  },
  {
   "cell_type": "code",
   "execution_count": 30,
   "id": "235eac09-2b13-4753-ad99-3628d752847a",
   "metadata": {},
   "outputs": [
    {
     "data": {
      "text/plain": [
       "{'obs_ids': [],\n",
       " 'obs_file': PosixPath('.'),\n",
       " 'obs_time': [{'format': 'iso',\n",
       "   'start': '2004-12-04 22:00:00.000',\n",
       "   'stop': '2004-12-04 22:44:00.000'},\n",
       "  {'format': 'mjd', 'start': '53343.947916666', 'stop': '53343.989583333'},\n",
       "  {'format': 'iso',\n",
       "   'start': '2004-12-05 00:00:00.000',\n",
       "   'stop': '2004-12-07 00:00:00.000'}],\n",
       " 'obs_cone': {'frame': 'icrs',\n",
       "  'lon': <Quantity 83.633 deg>,\n",
       "  'lat': <Quantity 22.014 deg>,\n",
       "  'radius': <Quantity 5. deg>},\n",
       " 'required_irfs': ['aeff', 'edisp', 'psf', 'bkg']}"
      ]
     },
     "execution_count": 30,
     "metadata": {},
     "output_type": "execute_result"
    }
   ],
   "source": [
    "temp_obs_2.dict()"
   ]
  },
  {
   "cell_type": "code",
   "execution_count": 31,
   "id": "10f2f673-b2ed-4b2c-9ad0-b863d4d17457",
   "metadata": {},
   "outputs": [],
   "source": [
    "obs_temp_1 = get_filtered_observations(\n",
    "    dl3_path=generate_3d_dataset.config_3d_dataset.input_dl3[0].input_dir,\n",
    "    obs_config=temp_obs_1,\n",
    "    log=generate_3d_dataset.log,\n",
    ")"
   ]
  },
  {
   "cell_type": "code",
   "execution_count": 32,
   "id": "df844fc0-c1c5-49d4-9a78-82e1e205293d",
   "metadata": {},
   "outputs": [
    {
     "name": "stdout",
     "output_type": "stream",
     "text": [
      "['23523', '23526', '23559']\n"
     ]
    }
   ],
   "source": [
    "print(obs_temp_1.ids)"
   ]
  },
  {
   "cell_type": "code",
   "execution_count": 33,
   "id": "fc51e522-5295-44d9-b32e-6796c06a2e4d",
   "metadata": {},
   "outputs": [
    {
     "name": "stdout",
     "output_type": "stream",
     "text": [
      "frame='icrs' lon=<Quantity 83.633 deg> lat=<Quantity 22.014 deg> radius=<Quantity 1. deg>\n"
     ]
    }
   ],
   "source": [
    "# Reduce the observation cone to exclude a run\n",
    "temp_obs_2.obs_cone.radius = 1 * u.deg\n",
    "print(temp_obs_2.obs_cone)"
   ]
  },
  {
   "cell_type": "code",
   "execution_count": 34,
   "id": "f4887691-b756-4d50-8e95-fcad2cf25503",
   "metadata": {},
   "outputs": [],
   "source": [
    "obs_temp_2 = get_filtered_observations(\n",
    "    dl3_path=generate_3d_dataset.config_3d_dataset.input_dl3[0].input_dir,\n",
    "    obs_config=temp_obs_2,\n",
    "    log=generate_3d_dataset.log,\n",
    ")"
   ]
  },
  {
   "cell_type": "code",
   "execution_count": 35,
   "id": "dde2757a-6745-46bb-8020-35e460b556d2",
   "metadata": {},
   "outputs": [
    {
     "name": "stdout",
     "output_type": "stream",
     "text": [
      "['23523', '23526']\n"
     ]
    }
   ],
   "source": [
    "print(obs_temp_2.ids)"
   ]
  },
  {
   "cell_type": "markdown",
   "id": "eb148f10-b8ca-4452-819f-332b484d09f9",
   "metadata": {},
   "source": [
    "# Apply selection mask to list of models"
   ]
  },
  {
   "cell_type": "markdown",
   "id": "2727107a-88dc-4335-95fd-c50c0fda4261",
   "metadata": {},
   "source": [
    "## Selction using Catalog information"
   ]
  },
  {
   "cell_type": "code",
   "execution_count": 36,
   "id": "9b5436e5-1411-4fc2-932f-6387b764e643",
   "metadata": {},
   "outputs": [
    {
     "data": {
      "text/plain": [
       "{'name': '3fhl',\n",
       " 'selection_radius': <Quantity 10. deg>,\n",
       " 'exclusion_radius': <Quantity 0.2 deg>}"
      ]
     },
     "execution_count": 36,
     "metadata": {},
     "output_type": "execute_result"
    }
   ],
   "source": [
    "generate_3d_dataset.config_target.use_catalog.dict()"
   ]
  },
  {
   "cell_type": "code",
   "execution_count": 37,
   "id": "8997606c-94c0-4502-9a17-385cba97a6b9",
   "metadata": {},
   "outputs": [
    {
     "name": "stdout",
     "output_type": "stream",
     "text": [
      "{'name': '3fhl', 'selection_radius': <Quantity 10. deg>, 'exclusion_radius': <Quantity 1. deg>}\n"
     ]
    }
   ],
   "source": [
    "# Change the exclusion radius\n",
    "generate_3d_dataset.config_target.use_catalog.exclusion_radius = 1 * u.deg\n",
    "print(generate_3d_dataset.config_target.use_catalog.dict())"
   ]
  },
  {
   "cell_type": "code",
   "execution_count": 38,
   "id": "2e4801d4-2fe0-4c60-8208-73a93a68ba59",
   "metadata": {
    "scrolled": true
   },
   "outputs": [
    {
     "name": "stdout",
     "output_type": "stream",
     "text": [
      "CPU times: user 42 s, sys: 14.9 s, total: 56.9 s\n",
      "Wall time: 57.4 s\n"
     ]
    },
    {
     "data": {
      "text/html": [
       "<pre>Datasets\n",
       "--------\n",
       "\n",
       "Dataset 0: \n",
       "\n",
       "  Type       : MapDataset\n",
       "  Name       : veU68cJB\n",
       "  Instrument : HESS\n",
       "  Models     : [&#x27;veU68cJB-bkg&#x27;]\n",
       "\n",
       "Dataset 1: \n",
       "\n",
       "  Type       : MapDataset\n",
       "  Name       : aJil2eNx\n",
       "  Instrument : HESS\n",
       "  Models     : [&#x27;aJil2eNx-bkg&#x27;]\n",
       "\n",
       "</pre>"
      ],
      "text/plain": [
       "<gammapy.datasets.core.Datasets at 0x7339d47d0b50>"
      ]
     },
     "execution_count": 38,
     "metadata": {},
     "output_type": "execute_result"
    }
   ],
   "source": [
    "%%time\n",
    "generate_3d_dataset.generate_gadf_dataset(file_list, exclusion_regions, filled_skymodel)"
   ]
  },
  {
   "cell_type": "code",
   "execution_count": 39,
   "id": "79ad7b2f-b681-43ee-af9d-1da17c86ac86",
   "metadata": {},
   "outputs": [],
   "source": [
    "for m in generate_3d_dataset.list_source_models:\n",
    "    m.spatial_model.freeze()"
   ]
  },
  {
   "cell_type": "code",
   "execution_count": 40,
   "id": "6b72f7ef-b069-428a-912c-fcdaad1c5002",
   "metadata": {},
   "outputs": [
    {
     "name": "stdout",
     "output_type": "stream",
     "text": [
      "CPU times: user 2.9 ms, sys: 0 ns, total: 2.9 ms\n",
      "Wall time: 2.71 ms\n"
     ]
    }
   ],
   "source": [
    "%%time\n",
    "# Without any ROI selection\n",
    "source_models_1 = apply_selection_mask_to_models(\n",
    "    generate_3d_dataset.list_source_models,\n",
    "    target_source=generate_3d_dataset.config_target.source_name,\n",
    "    selection_mask=generate_3d_dataset.exclusion_mask,\n",
    ")"
   ]
  },
  {
   "cell_type": "code",
   "execution_count": 41,
   "id": "e3365a96-048c-4ec5-80be-e4209ca8b9e3",
   "metadata": {
    "scrolled": true
   },
   "outputs": [
    {
     "name": "stdout",
     "output_type": "stream",
     "text": [
      "28\n"
     ]
    }
   ],
   "source": [
    "print(len(source_models_1.parameters.free_parameters))"
   ]
  },
  {
   "cell_type": "code",
   "execution_count": 42,
   "id": "55f367e5-91bc-4ac4-904a-130e6258b69a",
   "metadata": {},
   "outputs": [
    {
     "data": {
      "text/plain": [
       "{'roi_radius': <Quantity 2.8 deg>, 'free_sources': []}"
      ]
     },
     "execution_count": 42,
     "metadata": {},
     "output_type": "execute_result"
    }
   ],
   "source": [
    "config_main.target.roi_selection.dict()"
   ]
  },
  {
   "cell_type": "code",
   "execution_count": 43,
   "id": "24fe0737-5ce1-457d-ba23-47a10a3a95ab",
   "metadata": {},
   "outputs": [
    {
     "name": "stdout",
     "output_type": "stream",
     "text": [
      "CPU times: user 16.2 ms, sys: 79 µs, total: 16.3 ms\n",
      "Wall time: 15.8 ms\n"
     ]
    }
   ],
   "source": [
    "%%time\n",
    "# With a ROI selection\n",
    "source_models_2 = apply_selection_mask_to_models(\n",
    "    generate_3d_dataset.list_source_models,\n",
    "    target_source=generate_3d_dataset.config_target.source_name,\n",
    "    selection_mask=generate_3d_dataset.exclusion_mask,\n",
    "    roi_radius=config_main.target.roi_selection.roi_radius,\n",
    "    free_sources=config_main.target.roi_selection.free_sources\n",
    ")"
   ]
  },
  {
   "cell_type": "code",
   "execution_count": 44,
   "id": "2a144ed6-0f4c-4afd-a6ca-1684215a8bad",
   "metadata": {
    "scrolled": true
   },
   "outputs": [
    {
     "name": "stdout",
     "output_type": "stream",
     "text": [
      "5\n"
     ]
    }
   ],
   "source": [
    "print(len(source_models_2.parameters.free_parameters))"
   ]
  },
  {
   "cell_type": "code",
   "execution_count": null,
   "id": "ec7ad99a-f180-4e36-be59-6dd920ae2230",
   "metadata": {},
   "outputs": [],
   "source": []
  }
 ],
 "metadata": {
  "kernelspec": {
   "display_name": "asgardpy",
   "language": "python",
   "name": "asgardpy"
  },
  "language_info": {
   "codemirror_mode": {
    "name": "ipython",
    "version": 3
   },
   "file_extension": ".py",
   "mimetype": "text/x-python",
   "name": "python",
   "nbconvert_exporter": "python",
   "pygments_lexer": "ipython3",
   "version": "3.11.4"
  }
 },
 "nbformat": 4,
 "nbformat_minor": 5
}
