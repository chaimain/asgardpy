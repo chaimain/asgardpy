{
 "cells": [
  {
   "cell_type": "code",
   "execution_count": null,
   "id": "027df894",
   "metadata": {},
   "outputs": [],
   "source": [
    "from asgardpy.analysis import AsgardpyAnalysis\n",
    "from asgardpy.config import AsgardpyConfig\n",
    "from asgardpy.utils.plot import (\n",
    "    plot_parameter_stat_profile,\n",
    "    plot_spectrum_fp,\n",
    "    plot_spectrum_model\n",
    ")\n",
    "from gammapy.modeling.models import Models\n",
    "import matplotlib.pyplot as plt\n",
    "import numpy as np\n",
    "\n",
    "import astropy.units as u"
   ]
  },
  {
   "cell_type": "code",
   "execution_count": null,
   "id": "a7bcfded",
   "metadata": {},
   "outputs": [],
   "source": [
    "config_file = \"/path/to/Config.yaml\""
   ]
  },
  {
   "cell_type": "code",
   "execution_count": null,
   "id": "b2679f2b",
   "metadata": {},
   "outputs": [],
   "source": [
    "config = AsgardpyConfig()"
   ]
  },
  {
   "cell_type": "code",
   "execution_count": null,
   "id": "22a414c1",
   "metadata": {},
   "outputs": [],
   "source": [
    "config_main = config.read(config_file)\n",
    "only_3d_config = config.read(config_file)\n",
    "only_1d_config = config.read(config_file)"
   ]
  },
  {
   "cell_type": "code",
   "execution_count": null,
   "id": "e18a456c",
   "metadata": {},
   "outputs": [],
   "source": [
    "for g in config_main.general:\n",
    "    print(g)"
   ]
  },
  {
   "cell_type": "markdown",
   "id": "0159ce32",
   "metadata": {},
   "source": [
    "# Steps mentioned in the main config file"
   ]
  },
  {
   "cell_type": "code",
   "execution_count": null,
   "id": "96c2286e",
   "metadata": {},
   "outputs": [],
   "source": [
    "config_main.general.steps"
   ]
  },
  {
   "cell_type": "markdown",
   "id": "6980c7bd",
   "metadata": {},
   "source": [
    "# Target source information"
   ]
  },
  {
   "cell_type": "code",
   "execution_count": null,
   "id": "4fa7363c",
   "metadata": {
    "scrolled": true
   },
   "outputs": [],
   "source": [
    "for c in config_main.target:\n",
    "    print(c)"
   ]
  },
  {
   "cell_type": "markdown",
   "id": "321a5aee",
   "metadata": {},
   "source": [
    "# Datasets informations"
   ]
  },
  {
   "cell_type": "code",
   "execution_count": null,
   "id": "434bb4d7",
   "metadata": {},
   "outputs": [],
   "source": [
    "for cc in config_main.dataset3d:\n",
    "    print(cc)"
   ]
  },
  {
   "cell_type": "code",
   "execution_count": null,
   "id": "88c8f36c",
   "metadata": {},
   "outputs": [],
   "source": [
    "for cc in config_main.dataset1d:\n",
    "    print(cc)"
   ]
  },
  {
   "cell_type": "code",
   "execution_count": null,
   "id": "9963a955",
   "metadata": {},
   "outputs": [],
   "source": [
    "for cc in config_main.fit_params:\n",
    "    print(cc)"
   ]
  },
  {
   "cell_type": "code",
   "execution_count": null,
   "id": "e299bee7",
   "metadata": {},
   "outputs": [],
   "source": []
  },
  {
   "cell_type": "markdown",
   "id": "d307748e",
   "metadata": {},
   "source": [
    "## Update the Target parameters for only 1D analysis, in the config"
   ]
  },
  {
   "cell_type": "code",
   "execution_count": null,
   "id": "88e55051",
   "metadata": {},
   "outputs": [],
   "source": [
    "print(only_1d_config.target.components.spectral.parameters[0])\n",
    "only_1d_config.target.components.spectral.parameters[0].value = 1e-9\n",
    "only_1d_config.target.components.spectral.parameters[0].error = 1e-10\n",
    "print(only_1d_config.target.components.spectral.parameters[0])"
   ]
  },
  {
   "cell_type": "code",
   "execution_count": null,
   "id": "92c9ff5b",
   "metadata": {},
   "outputs": [],
   "source": [
    "print(only_1d_config.target.components.spectral.parameters[1])\n",
    "only_1d_config.target.components.spectral.parameters[1].value = 0.07\n",
    "print(only_1d_config.target.components.spectral.parameters[1])"
   ]
  },
  {
   "cell_type": "code",
   "execution_count": null,
   "id": "43c876c9",
   "metadata": {},
   "outputs": [],
   "source": [
    "print(only_1d_config.target.components.spectral.parameters[2])\n",
    "only_1d_config.target.components.spectral.parameters[2].value = 2.0\n",
    "print(only_1d_config.target.components.spectral.parameters[2])"
   ]
  },
  {
   "cell_type": "code",
   "execution_count": null,
   "id": "33c33535",
   "metadata": {},
   "outputs": [],
   "source": []
  },
  {
   "cell_type": "code",
   "execution_count": null,
   "id": "394d399a",
   "metadata": {},
   "outputs": [],
   "source": [
    "analysis = AsgardpyAnalysis(config_main)"
   ]
  },
  {
   "cell_type": "code",
   "execution_count": null,
   "id": "b7657535",
   "metadata": {},
   "outputs": [],
   "source": [
    "only_3d_analysis = AsgardpyAnalysis(only_3d_config)"
   ]
  },
  {
   "cell_type": "code",
   "execution_count": null,
   "id": "da9e333f",
   "metadata": {},
   "outputs": [],
   "source": [
    "only_1d_analysis = AsgardpyAnalysis(only_1d_config)"
   ]
  },
  {
   "cell_type": "code",
   "execution_count": null,
   "id": "dcf541bb",
   "metadata": {},
   "outputs": [],
   "source": [
    "analysis"
   ]
  },
  {
   "cell_type": "markdown",
   "id": "9a3bfcfd",
   "metadata": {},
   "source": [
    "# Run all the steps"
   ]
  },
  {
   "cell_type": "code",
   "execution_count": null,
   "id": "3f779101",
   "metadata": {
    "scrolled": true
   },
   "outputs": [],
   "source": [
    "%%time\n",
    "analysis.run()"
   ]
  },
  {
   "cell_type": "code",
   "execution_count": null,
   "id": "c10aa6f7",
   "metadata": {},
   "outputs": [],
   "source": [
    "%%time\n",
    "only_3d_analysis.run([\"datasets-3d\", \"fit\", \"flux-points\"])"
   ]
  },
  {
   "cell_type": "code",
   "execution_count": null,
   "id": "a9ce7191",
   "metadata": {
    "scrolled": true
   },
   "outputs": [],
   "source": [
    "%%time\n",
    "only_1d_analysis.run([\"datasets-1d\", \"fit\", \"flux-points\"])"
   ]
  },
  {
   "cell_type": "code",
   "execution_count": null,
   "id": "593be894",
   "metadata": {},
   "outputs": [],
   "source": []
  },
  {
   "cell_type": "markdown",
   "id": "b1e4f81e",
   "metadata": {},
   "source": [
    "# Get the final products"
   ]
  },
  {
   "cell_type": "code",
   "execution_count": null,
   "id": "0cc87ea1",
   "metadata": {},
   "outputs": [],
   "source": [
    "for d in analysis.datasets:\n",
    "    print(d)"
   ]
  },
  {
   "cell_type": "code",
   "execution_count": null,
   "id": "5e3400ac",
   "metadata": {},
   "outputs": [],
   "source": [
    "for d in analysis.datasets:\n",
    "    print(d.name)"
   ]
  },
  {
   "cell_type": "code",
   "execution_count": null,
   "id": "ba207be7",
   "metadata": {},
   "outputs": [],
   "source": []
  },
  {
   "cell_type": "code",
   "execution_count": null,
   "id": "42f44550",
   "metadata": {},
   "outputs": [],
   "source": [
    "analysis.fit_result"
   ]
  },
  {
   "cell_type": "code",
   "execution_count": null,
   "id": "fbea7909",
   "metadata": {
    "scrolled": true
   },
   "outputs": [],
   "source": [
    "print(only_3d_analysis.fit_result)\n",
    "print(only_1d_analysis.fit_result)"
   ]
  },
  {
   "cell_type": "code",
   "execution_count": null,
   "id": "d6410034",
   "metadata": {},
   "outputs": [],
   "source": []
  },
  {
   "cell_type": "code",
   "execution_count": null,
   "id": "c63141c0",
   "metadata": {},
   "outputs": [],
   "source": [
    "print(analysis.final_model)"
   ]
  },
  {
   "cell_type": "code",
   "execution_count": null,
   "id": "cad334b8",
   "metadata": {},
   "outputs": [],
   "source": [
    "print(only_3d_analysis.final_model)"
   ]
  },
  {
   "cell_type": "code",
   "execution_count": null,
   "id": "18d081b3",
   "metadata": {},
   "outputs": [],
   "source": [
    "print(only_1d_analysis.datasets.models)"
   ]
  },
  {
   "cell_type": "code",
   "execution_count": null,
   "id": "598a5839",
   "metadata": {},
   "outputs": [],
   "source": []
  },
  {
   "cell_type": "code",
   "execution_count": null,
   "id": "ec48bd9f",
   "metadata": {
    "scrolled": true
   },
   "outputs": [],
   "source": [
    "analysis.final_model.parameters.to_table()"
   ]
  },
  {
   "cell_type": "code",
   "execution_count": null,
   "id": "e0a0f6c7",
   "metadata": {},
   "outputs": [],
   "source": [
    "analysis.final_model.covariance.get_subcovariance(\n",
    "    analysis.final_model.parameters.free_parameters\n",
    ").plot_correlation()"
   ]
  },
  {
   "cell_type": "code",
   "execution_count": null,
   "id": "ac06bf2e",
   "metadata": {},
   "outputs": [],
   "source": [
    "print(analysis.final_model[config_main.target.source_name])"
   ]
  },
  {
   "cell_type": "code",
   "execution_count": null,
   "id": "09c28887",
   "metadata": {},
   "outputs": [],
   "source": [
    "if len(analysis.final_model[config_main.target.source_name].parameters)> 3:\n",
    "    nrow = int(np.sqrt(len(analysis.final_model[config_main.target.source_name].parameters)))\n",
    "    ncol = int(np.ceil(len(analysis.final_model[config_main.target.source_name].parameters)/nrow))\n",
    "else:\n",
    "    ncol = len(analysis.final_model[config_main.target.source_name].parameters)\n",
    "    nrow = 1\n",
    "print(ncol, nrow)"
   ]
  },
  {
   "cell_type": "code",
   "execution_count": null,
   "id": "d1b2ffd8",
   "metadata": {
    "scrolled": true
   },
   "outputs": [],
   "source": [
    "%%time\n",
    "plt.figure(figsize=(ncol*6, nrow*5))\n",
    "total_stat = analysis.fit_result.total_stat\n",
    "\n",
    "for i, par in enumerate(analysis.final_model[config_main.target.source_name].parameters.free_parameters):\n",
    "    par.scan_n_values = 30\n",
    "    \n",
    "    idx = analysis.final_model[config_main.target.source_name].parameters.index(par)\n",
    "    name = Models(analysis.final_model[config_main.target.source_name]).parameters_unique_names[idx]\n",
    "    \n",
    "    profile = analysis.fit.stat_profile(datasets=analysis.datasets, parameter=par)\n",
    "    \n",
    "    plt.subplot(nrow, ncol, i+1)\n",
    "    plt.plot(profile[f\"{name}_scan\"], profile[\"stat_scan\"] - total_stat)\n",
    "    plt.xlabel(f\"{par.name} {par.unit}\")\n",
    "    plt.ylabel(\"Delta TS\")\n",
    "    plt.grid()\n",
    "    if par.value != 0:\n",
    "        plt.title(f\"{par.name}: {par.value:.2e} +/-{par.error:.2e}\\n(Relative Error +/-{par.error/par.value:.2e})\")\n",
    "    else:\n",
    "        plt.title(f\"{par.name}: {par.value:.2e} +/-{par.error:.2e}\")\n",
    "plt.tight_layout()"
   ]
  },
  {
   "cell_type": "code",
   "execution_count": null,
   "id": "85e70d4c",
   "metadata": {},
   "outputs": [],
   "source": [
    "%%time\n",
    "# Only 3D Dataset\n",
    "plt.figure(figsize=(ncol*6, nrow*5))\n",
    "total_stat = only_3d_analysis.fit_result.total_stat\n",
    "\n",
    "for i, par in enumerate(only_3d_analysis.final_model[config_main.target.source_name].parameters.free_parameters):\n",
    "    par.scan_n_values = 30\n",
    "    \n",
    "    idx = only_3d_analysis.final_model[config_main.target.source_name].parameters.index(par)\n",
    "    name = Models(only_3d_analysis.final_model[config_main.target.source_name]).parameters_unique_names[idx]\n",
    "    \n",
    "    profile = only_3d_analysis.fit.stat_profile(datasets=only_3d_analysis.datasets, parameter=par)\n",
    "    \n",
    "    plt.subplot(nrow, ncol, i+1)\n",
    "    plt.plot(profile[f\"{name}_scan\"], profile[\"stat_scan\"] - total_stat)\n",
    "    plt.xlabel(f\"{par.name} {par.unit}\")\n",
    "    plt.ylabel(\"Delta TS\")\n",
    "    plt.grid()\n",
    "    if par.value != 0:\n",
    "        plt.title(f\"{par.name}: {par.value:.2e} +/-{par.error:.2e}\\n(Relative Error +/-{par.error/par.value:.2e})\")\n",
    "    else:\n",
    "        plt.title(f\"{par.name}: {par.value:.2e} +/-{par.error:.2e}\")\n",
    "plt.tight_layout()"
   ]
  },
  {
   "cell_type": "code",
   "execution_count": null,
   "id": "39040602",
   "metadata": {},
   "outputs": [],
   "source": [
    "%%time\n",
    "# Only 1D Dataset\n",
    "plt.figure(figsize=(ncol*6, nrow*5))\n",
    "total_stat = only_1d_analysis.fit_result.total_stat\n",
    "\n",
    "for i, par in enumerate(Models(only_1d_analysis.datasets.models).parameters.free_parameters):\n",
    "    par.scan_n_values = 30\n",
    "\n",
    "    idx = only_1d_analysis.datasets.models.parameters.index(par)\n",
    "    name = Models(only_1d_analysis.datasets.models).parameters_unique_names[idx]\n",
    "    \n",
    "    profile = only_1d_analysis.fit.stat_profile(datasets=only_1d_analysis.datasets, parameter=par)\n",
    "    \n",
    "    plt.subplot(nrow, ncol, i+1)\n",
    "    plt.plot(profile[f\"{name}_scan\"], profile[\"stat_scan\"] - total_stat)\n",
    "    plt.xlabel(f\"{par.name} {par.unit}\")\n",
    "    plt.ylabel(\"Delta TS\")\n",
    "    plt.grid()\n",
    "    if par.value != 0:\n",
    "        plt.title(f\"{par.name}: {par.value:.2e} +/-{par.error:.2e}\\n(Relative Error +/-{par.error/par.value:.2e})\")\n",
    "    else:\n",
    "        plt.title(f\"{par.name}: {par.value:.2e} +/-{par.error:.2e}\")\n",
    "plt.tight_layout()"
   ]
  },
  {
   "cell_type": "code",
   "execution_count": null,
   "id": "f21c48bb",
   "metadata": {},
   "outputs": [],
   "source": []
  },
  {
   "cell_type": "code",
   "execution_count": null,
   "id": "5eebc9f6",
   "metadata": {},
   "outputs": [],
   "source": [
    "for fp in analysis.flux_points:\n",
    "    print(fp)"
   ]
  },
  {
   "cell_type": "code",
   "execution_count": null,
   "id": "7e10de3d",
   "metadata": {
    "scrolled": true
   },
   "outputs": [],
   "source": [
    "analysis.flux_points[0].to_table(formatted=True, sed_type=\"e2dnde\")"
   ]
  },
  {
   "cell_type": "code",
   "execution_count": null,
   "id": "ddbbbe56",
   "metadata": {
    "scrolled": true
   },
   "outputs": [],
   "source": [
    "analysis.flux_points[1].to_table(formatted=True, sed_type=\"e2dnde\")"
   ]
  },
  {
   "cell_type": "code",
   "execution_count": null,
   "id": "e14d97f7",
   "metadata": {},
   "outputs": [],
   "source": []
  },
  {
   "cell_type": "code",
   "execution_count": null,
   "id": "6c82c1a9",
   "metadata": {},
   "outputs": [],
   "source": [
    "# Checking TS profiles of only Joint-Fit\n",
    "analysis.flux_points[0].plot_ts_profiles(sed_type=\"e2dnde\")\n",
    "analysis.flux_points[0].plot(sed_type=\"e2dnde\", color=\"orange\")\n",
    "\n",
    "plt.grid(which='both')\n",
    "plt.title('TS Profiles')"
   ]
  },
  {
   "cell_type": "code",
   "execution_count": null,
   "id": "af1f774f",
   "metadata": {},
   "outputs": [],
   "source": [
    "analysis.flux_points[1].plot_ts_profiles(sed_type=\"e2dnde\")\n",
    "analysis.flux_points[1].plot(sed_type=\"e2dnde\", color=\"orange\")\n",
    "\n",
    "plt.grid(which='both')\n",
    "plt.title('TS Profiles')"
   ]
  },
  {
   "cell_type": "code",
   "execution_count": null,
   "id": "54a7f5ba",
   "metadata": {},
   "outputs": [],
   "source": [
    "e_plot_min = 100 * u.MeV\n",
    "e_plot_max = 10 * u.TeV\n",
    "\n",
    "sed_kwargs = {\n",
    "    \"sed_type\": \"e2dnde\",\n",
    "    \"energy_bounds\": [e_plot_min, e_plot_max]\n",
    "}\n",
    "sed_plot_kwargs = {\n",
    "    \"sed_type\": \"e2dnde\",\n",
    "}"
   ]
  },
  {
   "cell_type": "code",
   "execution_count": null,
   "id": "6d26f85c",
   "metadata": {},
   "outputs": [],
   "source": [
    "only_3d_analysis.flux_points[0].plot(sed_type=\"e2dnde\", color=\"orange\", label=\"Only Fermi-LAT\")\n",
    "only_1d_analysis.flux_points[0].plot(sed_type=\"e2dnde\", color=\"green\", label=\"Only LST-1\")\n",
    "\n",
    "analysis.flux_points[0].plot(sed_type=\"e2dnde\", color=\"red\", label=\"Joint-Fit Fermi-LAT\")\n",
    "analysis.flux_points[1].plot(sed_type=\"e2dnde\", color=\"blue\", label=\"Joint-Fit LST-1\")\n",
    "\n",
    "sed_kwargs[\"label\"] = \"\"\n",
    "analysis.final_model[0].spectral_model.plot_error(**sed_kwargs)\n",
    "sed_kwargs[\"label\"] = \"Joint Fit Observed model\"\n",
    "analysis.final_model[0].spectral_model.plot(**sed_kwargs)\n",
    "sed_kwargs[\"label\"] = \"Joint Fit Intrinsic model\"\n",
    "analysis.final_model[0].spectral_model.model1.plot(**sed_kwargs)\n",
    "\n",
    "plt.grid(which=\"both\")\n",
    "plt.legend(bbox_to_anchor=(1,1))\n",
    "plt.xlim(e_plot_min, e_plot_max)"
   ]
  },
  {
   "cell_type": "code",
   "execution_count": null,
   "id": "9402a05a",
   "metadata": {},
   "outputs": [],
   "source": [
    "# Only Models\n",
    "sed_kwargs[\"label\"] = \"\"\n",
    "analysis.final_model[0].spectral_model.plot_error(**sed_kwargs)\n",
    "sed_kwargs[\"label\"] = \"Joint Fit Observed model\"\n",
    "analysis.final_model[0].spectral_model.plot(**sed_kwargs)\n",
    "\n",
    "sed_kwargs[\"label\"] = \"\"\n",
    "only_3d_analysis.final_model[0].spectral_model.plot_error(**sed_kwargs)\n",
    "sed_kwargs[\"label\"] = \"Only Fermi-LAT Observed model\"\n",
    "only_3d_analysis.final_model[0].spectral_model.plot(**sed_kwargs)\n",
    "\n",
    "sed_kwargs[\"label\"] = \"\"\n",
    "only_1d_analysis.datasets.models[0].spectral_model.plot_error(**sed_kwargs)\n",
    "sed_kwargs[\"label\"] = \"Only LST-1 Observed model\"\n",
    "only_1d_analysis.datasets.models[0].spectral_model.plot(**sed_kwargs)\n",
    "\n",
    "plt.grid(which=\"both\")\n",
    "plt.legend()\n",
    "plt.xlim(e_plot_min, e_plot_max)"
   ]
  },
  {
   "cell_type": "code",
   "execution_count": null,
   "id": "162e0d83",
   "metadata": {},
   "outputs": [],
   "source": []
  }
 ],
 "metadata": {
  "kernelspec": {
   "display_name": "gammapy-dev",
   "language": "python",
   "name": "gammapy-dev"
  },
  "language_info": {
   "codemirror_mode": {
    "name": "ipython",
    "version": 3
   },
   "file_extension": ".py",
   "mimetype": "text/x-python",
   "name": "python",
   "nbconvert_exporter": "python",
   "pygments_lexer": "ipython3",
   "version": "3.8.13"
  }
 },
 "nbformat": 4,
 "nbformat_minor": 5
}
