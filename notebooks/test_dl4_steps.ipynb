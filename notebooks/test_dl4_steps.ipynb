{
 "cells": [
  {
   "cell_type": "code",
   "execution_count": 1,
   "id": "b1ec7671",
   "metadata": {
    "tags": []
   },
   "outputs": [],
   "source": [
    "import os\n",
    "\n",
    "import matplotlib.pyplot as plt\n",
    "import numpy as np\n",
    "\n",
    "import astropy.units as u\n",
    "import logging\n",
    "\n",
    "from asgardpy.analysis import AsgardpyAnalysis\n",
    "from asgardpy.config import AsgardpyConfig\n",
    "from asgardpy.data.target import apply_selection_mask_to_models, set_models\n",
    "\n",
    "from gammapy.maps import Map\n",
    "from gammapy.modeling.models import Models\n",
    "from gammapy.modeling import Fit\n",
    "from gammapy.estimators import FluxPointsEstimator\n",
    "from gammapy.datasets import Datasets"
   ]
  },
  {
   "cell_type": "code",
   "execution_count": 2,
   "id": "26d02b94",
   "metadata": {
    "tags": []
   },
   "outputs": [
    {
     "data": {
      "text/plain": [
       "'/data/magic/users-ifae/cpriyada/lst/software/gammapy-datasets/dev/'"
      ]
     },
     "execution_count": 2,
     "metadata": {},
     "output_type": "execute_result"
    }
   ],
   "source": [
    "os.environ['GAMMAPY_DATA']"
   ]
  },
  {
   "cell_type": "code",
   "execution_count": 3,
   "id": "d6ebb09f",
   "metadata": {
    "tags": []
   },
   "outputs": [],
   "source": [
    "log = logging.getLogger(\"test DL4 steps\")"
   ]
  },
  {
   "cell_type": "code",
   "execution_count": 4,
   "id": "1544544f",
   "metadata": {
    "tags": []
   },
   "outputs": [],
   "source": [
    "config_file = \"../asgardpy/tests/config_test_base.yaml\""
   ]
  },
  {
   "cell_type": "code",
   "execution_count": 5,
   "id": "b88cfc7a",
   "metadata": {
    "tags": []
   },
   "outputs": [],
   "source": [
    "config = AsgardpyConfig()"
   ]
  },
  {
   "cell_type": "code",
   "execution_count": 6,
   "id": "512ebdbc",
   "metadata": {
    "tags": []
   },
   "outputs": [
    {
     "name": "stdout",
     "output_type": "stream",
     "text": [
      "CPU times: user 34.5 ms, sys: 2.25 ms, total: 36.7 ms\n",
      "Wall time: 36 ms\n"
     ]
    }
   ],
   "source": [
    "%%time\n",
    "config_main = config.read(config_file)"
   ]
  },
  {
   "cell_type": "code",
   "execution_count": null,
   "id": "96f76e58-f163-4046-8ef8-5bef887c74d2",
   "metadata": {},
   "outputs": [],
   "source": []
  },
  {
   "cell_type": "markdown",
   "id": "0ce80129-e973-4d6e-b86b-0b2c9a46acf0",
   "metadata": {},
   "source": [
    "# Update path of test data"
   ]
  },
  {
   "cell_type": "code",
   "execution_count": 7,
   "id": "6d7a2aa4-0edb-4dc3-9e48-0184c60a6f32",
   "metadata": {
    "tags": []
   },
   "outputs": [],
   "source": [
    "config_main.dataset3d.instruments[0].input_dl3[0].input_dir = f\"{os.environ['GAMMAPY_DATA']}fermipy-crab/\"\n",
    "config_main.dataset3d.instruments[0].input_dl3[1].input_dir = f\"{os.environ['GAMMAPY_DATA']}fermipy-crab/\"\n",
    "config_main.dataset1d.instruments[0].input_dl3[0].input_dir = f\"{os.environ['GAMMAPY_DATA']}hess-dl3-dr1/\"\n",
    "config_main.dataset1d.instruments[1].input_dl3[0].input_dir = f\"{os.environ['GAMMAPY_DATA']}magic/rad_max/data/\""
   ]
  },
  {
   "cell_type": "code",
   "execution_count": null,
   "id": "b57284e6-5860-422a-a6e6-a18493acc31f",
   "metadata": {},
   "outputs": [],
   "source": []
  },
  {
   "cell_type": "code",
   "execution_count": 8,
   "id": "a1048270",
   "metadata": {
    "tags": []
   },
   "outputs": [
    {
     "name": "stdout",
     "output_type": "stream",
     "text": [
      "('log', LogConfig(level='info', filename='', filemode='w', format='', datefmt=''))\n",
      "('outdir', PosixPath('.'))\n",
      "('n_jobs', 10)\n",
      "('parallel_backend', <ParallelBackendEnum.multi: 'multiprocessing'>)\n",
      "('steps', [<AnalysisStepEnum.datasets_3d: 'datasets-3d'>, <AnalysisStepEnum.datasets_1d: 'datasets-1d'>, <AnalysisStepEnum.fit: 'fit'>, <AnalysisStepEnum.flux_points: 'flux-points'>])\n",
      "('overwrite', True)\n",
      "('stacked_dataset', True)\n"
     ]
    }
   ],
   "source": [
    "for g in config_main.general:\n",
    "    print(g)"
   ]
  },
  {
   "cell_type": "markdown",
   "id": "00c5f313",
   "metadata": {},
   "source": [
    "# Steps mentioned in the main config file"
   ]
  },
  {
   "cell_type": "code",
   "execution_count": 9,
   "id": "75d2e424",
   "metadata": {
    "tags": []
   },
   "outputs": [
    {
     "data": {
      "text/plain": [
       "[<AnalysisStepEnum.datasets_3d: 'datasets-3d'>,\n",
       " <AnalysisStepEnum.datasets_1d: 'datasets-1d'>,\n",
       " <AnalysisStepEnum.fit: 'fit'>,\n",
       " <AnalysisStepEnum.flux_points: 'flux-points'>]"
      ]
     },
     "execution_count": 9,
     "metadata": {},
     "output_type": "execute_result"
    }
   ],
   "source": [
    "config_main.general.steps"
   ]
  },
  {
   "cell_type": "code",
   "execution_count": 10,
   "id": "612bb495",
   "metadata": {
    "tags": []
   },
   "outputs": [
    {
     "name": "stdout",
     "output_type": "stream",
     "text": [
      "('source_name', '4FGL J0534.5+2201i')\n",
      "('sky_position', SkyPositionConfig(frame=<FrameEnum.icrs: 'icrs'>, lon=<Angle 83.633 deg>, lat=<Angle 22.02 deg>, radius=<Angle 0. deg>))\n",
      "('use_uniform_position', True)\n",
      "('models_file', PosixPath('.'))\n",
      "('add_fov_bkg_model', False)\n",
      "('use_catalog', CatalogConfig(name='', selection_radius=<Angle 0. deg>, exclusion_radius=<Angle 0. deg>))\n",
      "('components', [ModelComponent(name='4FGL J0534.5+2201i', type=<ModelTypeEnum.skymodel: 'SkyModel'>, datasets_names=[''], spectral=SpectralModelConfig(type='LogParabolaSpectralModel', parameters=[ModelParams(name='amplitude', value=1e-06, unit='cm-2 s-1 TeV-1', error=1.5e-07, min=1e-13, max=0.01, frozen=False), ModelParams(name='reference', value=0.01, unit='TeV', error=0.0, min=0.0001, max=100.0, frozen=True), ModelParams(name='alpha', value=1.7, unit='', error=0.1, min=0.5, max=5.0, frozen=False), ModelParams(name='beta', value=0.1, unit='', error=0.001, min=1e-06, max=1.0, frozen=False)], ebl_abs=EBLAbsorptionModel(filename=PosixPath('.'), reference='dominguez', type='EBLAbsorptionNormSpectralModel', redshift=0.0, alpha_norm=1.0)), spatial=SpatialModelConfig(type='', frame=<FrameEnum.icrs: 'icrs'>, parameters=[ModelParams(name='', value=1.0, unit=' ', error=0.1, min=0.1, max=10.0, frozen=True)]))])\n",
      "('covariance', 'None')\n",
      "('from_3d', False)\n",
      "('roi_selection', RoISelectionConfig(roi_radius=<Angle 0. deg>, free_sources=['4FGL J0521.7+2112', '4FGL J0528.3+1817', '4FGL J0536.2+1733', '4FGL J0534.5+2200']))\n"
     ]
    }
   ],
   "source": [
    "for c in config_main.target:\n",
    "    print(c)"
   ]
  },
  {
   "cell_type": "markdown",
   "id": "4b167659",
   "metadata": {},
   "source": [
    "# Datasets informations"
   ]
  },
  {
   "cell_type": "code",
   "execution_count": 11,
   "id": "65118f53",
   "metadata": {
    "tags": []
   },
   "outputs": [
    {
     "name": "stdout",
     "output_type": "stream",
     "text": [
      "('type', <ReductionTypeEnum.cube: '3d'>)\n",
      "('instruments', [Dataset3DBaseConfig(name='Fermi-LAT', input_dl3=[InputDL3Config(type='lat', input_dir=PosixPath('/data/magic/users-ifae/cpriyada/lst/software/gammapy-datasets/dev/fermipy-crab'), glob_pattern={'events': '*ft*.fits*', 'edisp': 'drm*.fits*', 'xml_model': 'srcmdl*.xml', 'exposure': 'bexpmap*.fits*', 'psf': 'psf*.fits*'}), InputDL3Config(type='lat-aux', input_dir=PosixPath('/data/magic/users-ifae/cpriyada/lst/software/gammapy-datasets/dev/fermipy-crab'), glob_pattern={'gal_diffuse': 'gll_iem_v07_cutout.fits*', 'iso_diffuse': 'iso_P8R3_SOURCE_V3_*.txt'})], input_dl4=False, dataset_info=Dataset3DInfoConfig(name='Fermi-LAT', key=['00', '01'], observation=ObservationsConfig(obs_ids=[], obs_file=PosixPath('.'), obs_time=TimeIntervalsConfig(format=<TimeFormatEnum.iso: 'iso'>, intervals=[TimeRangeConfig(start=<Time object: scale='utc' format='mjd' value=0.0>, stop=<Time object: scale='utc' format='mjd' value=0.0>)]), obs_cone=SkyPositionConfig(frame=<FrameEnum.icrs: 'icrs'>, lon=<Angle 0. deg>, lat=<Angle 0. deg>, radius=<Angle 0. deg>), required_irfs=[<RequiredHDUEnum.aeff: 'aeff'>]), map_selection=[<MapSelectionEnum.counts: 'counts'>, <MapSelectionEnum.exposure: 'exposure'>, <MapSelectionEnum.background: 'background'>, <MapSelectionEnum.psf: 'psf'>, <MapSelectionEnum.edisp: 'edisp'>], geom=GeomConfig(wcs=WcsConfig(skydir=SkyPositionConfig(frame=<FrameEnum.icrs: 'icrs'>, lon=<Angle 0. deg>, lat=<Angle 0. deg>, radius=<Angle 0. deg>), binsize=<Angle 0.1 deg>, proj=<ProjectionEnum.tan: 'TAN'>, map_frame_shape=MapFrameShapeConfig(width=<Angle 4. deg>, height=<Angle 4. deg>), binsize_irf=<Angle 0.2 deg>), selection=SelectionConfig(offset_max=<Angle 2.5 deg>), axes=[MapAxesConfig(name='energy', axis=EnergyAxisConfig(min=<Quantity 1. GeV>, max=<Quantity 1. TeV>, nbins=8, per_decade=True), axis_custom=EnergyEdgesCustomConfig(edges=[], unit='TeV'))], from_events_file=True), background=BackgroundConfig(method=<BackgroundMethodEnum.reflected: 'reflected'>, region_finder_method=<BackgroundRegionFinderMethodEnum.wobble: 'wobble'>, parameters={}, exclusion=ExclusionRegionsConfig(target_source=True, regions=[RegionsConfig(type='CircleAnnulusSkyRegion', name='4FGL J0534.5+2201i', position=SkyPositionConfig(frame=<FrameEnum.icrs: 'icrs'>, lon=<Angle 83.633 deg>, lat=<Angle 22.02 deg>, radius=<Angle 0. deg>), parameters={'rad_0': '5 deg', 'rad_1': '30 deg'}), RegionsConfig(type='CircleSkyRegion', name='4FGL J0521.7+2112', position=SkyPositionConfig(frame=<FrameEnum.icrs: 'icrs'>, lon=<Angle 0. deg>, lat=<Angle 0. deg>, radius=<Angle 0. deg>), parameters={'region_radius': '0.5 deg'})], exclusion_file=PosixPath('.'))), safe_mask=SafeMaskConfig(methods=[], parameters={'min': '1 GeV', 'max': '1 TeV'}), on_region=SkyPositionConfig(frame=<FrameEnum.icrs: 'icrs'>, lon=<Angle 83.633 deg>, lat=<Angle 22.02 deg>, radius=<Angle 0. deg>), containment_correction=True), dl4_dataset_info=DL4BaseConfig(dl4_dataset=InputDL4Config(type=<DatasetTypeEnum.MapDataset: 'MapDataset'>, input_dir=PosixPath('.'), glob_pattern='pha*fits', dl4_format=<DL4FormatEnum.gadf: 'gadf'>), spectral_energy_range=MapAxesConfig(name='energy', axis=EnergyAxisConfig(min=<Quantity 1. GeV>, max=<Quantity 562.34132519 GeV>, nbins=2, per_decade=True), axis_custom=EnergyEdgesCustomConfig(edges=[], unit='TeV'))))])\n"
     ]
    }
   ],
   "source": [
    "for cc in config_main.dataset3d:\n",
    "    print(cc)"
   ]
  },
  {
   "cell_type": "code",
   "execution_count": 12,
   "id": "25b7a155",
   "metadata": {
    "tags": []
   },
   "outputs": [
    {
     "name": "stdout",
     "output_type": "stream",
     "text": [
      "('type', <ReductionTypeEnum.spectrum: '1d'>)\n",
      "('instruments', [Dataset1DBaseConfig(name='HESS', input_dl3=[InputDL3Config(type='gadf-dl3', input_dir=PosixPath('/data/magic/users-ifae/cpriyada/lst/software/gammapy-datasets/dev/hess-dl3-dr1'), glob_pattern={'dl3': 'data/hess_*fits.gz'})], input_dl4=False, dataset_info=Dataset1DInfoConfig(name='HESS', geom=GeomConfig(wcs=WcsConfig(skydir=SkyPositionConfig(frame=<FrameEnum.icrs: 'icrs'>, lon=<Angle 0. deg>, lat=<Angle 0. deg>, radius=<Angle 0. deg>), binsize=<Angle 0.02 deg>, proj=<ProjectionEnum.tan: 'TAN'>, map_frame_shape=MapFrameShapeConfig(width=<Angle 6. deg>, height=<Angle 6. deg>), binsize_irf=<Angle 0.2 deg>), selection=SelectionConfig(offset_max=<Angle 2.5 deg>), axes=[MapAxesConfig(name='energy', axis=EnergyAxisConfig(min=<Quantity 0.1 TeV>, max=<Quantity 100. TeV>, nbins=5, per_decade=True), axis_custom=EnergyEdgesCustomConfig(edges=[], unit='TeV')), MapAxesConfig(name='energy_true', axis=EnergyAxisConfig(min=<Quantity 0.1 TeV>, max=<Quantity 100. TeV>, nbins=10, per_decade=True), axis_custom=EnergyEdgesCustomConfig(edges=[], unit='TeV'))], from_events_file=True), observation=ObservationsConfig(obs_ids=[23523, 23526], obs_file=PosixPath('.'), obs_time=TimeIntervalsConfig(format=<TimeFormatEnum.iso: 'iso'>, intervals=[TimeRangeConfig(start=<Time object: scale='utc' format='mjd' value=0.0>, stop=<Time object: scale='utc' format='mjd' value=0.0>)]), obs_cone=SkyPositionConfig(frame=<FrameEnum.icrs: 'icrs'>, lon=<Angle 0. deg>, lat=<Angle 0. deg>, radius=<Angle 0. deg>), required_irfs=[<RequiredHDUEnum.aeff: 'aeff'>, <RequiredHDUEnum.edisp: 'edisp'>]), background=BackgroundConfig(method=<BackgroundMethodEnum.reflected: 'reflected'>, region_finder_method=<BackgroundRegionFinderMethodEnum.wobble: 'wobble'>, parameters={'n_off_regions': 1}, exclusion=ExclusionRegionsConfig(target_source=True, regions=[RegionsConfig(type='CircleSkyRegion', name='4FGL J0521.7+2112', position=SkyPositionConfig(frame=<FrameEnum.icrs: 'icrs'>, lon=<Angle 0. deg>, lat=<Angle 0. deg>, radius=<Angle 0. deg>), parameters={'region_radius': '0.5 deg'})], exclusion_file=PosixPath('.'))), safe_mask=SafeMaskConfig(methods=[<SafeMaskMethodsEnum.aeff_max: 'aeff-max'>], parameters={'aeff_percent': 10}), on_region=SkyPositionConfig(frame=<FrameEnum.icrs: 'icrs'>, lon=<Angle 83.633 deg>, lat=<Angle 22.02 deg>, radius=<Angle 0.2 deg>), containment_correction=True, map_selection=[<MapSelectionEnum.counts: 'counts'>, <MapSelectionEnum.exposure: 'exposure'>, <MapSelectionEnum.edisp: 'edisp'>]), dl4_dataset_info=DL4BaseConfig(dl4_dataset=InputDL4Config(type=<DatasetTypeEnum.MapDataset: 'MapDataset'>, input_dir=PosixPath('.'), glob_pattern='pha*fits', dl4_format=<DL4FormatEnum.gadf: 'gadf'>), spectral_energy_range=MapAxesConfig(name='energy', axis=EnergyAxisConfig(min=<Quantity 100. GeV>, max=<Quantity 100. TeV>, nbins=5, per_decade=True), axis_custom=EnergyEdgesCustomConfig(edges=[], unit='TeV')))), Dataset1DBaseConfig(name='MAGIC', input_dl3=[InputDL3Config(type='gadf-dl3', input_dir=PosixPath('/data/magic/users-ifae/cpriyada/lst/software/gammapy-datasets/dev/magic/rad_max/data'), glob_pattern={'dl3': '2013*fits'})], input_dl4=False, dataset_info=Dataset1DInfoConfig(name='MAGIC', geom=GeomConfig(wcs=WcsConfig(skydir=SkyPositionConfig(frame=<FrameEnum.icrs: 'icrs'>, lon=<Angle 0. deg>, lat=<Angle 0. deg>, radius=<Angle 0. deg>), binsize=<Angle 0.02 deg>, proj=<ProjectionEnum.tan: 'TAN'>, map_frame_shape=MapFrameShapeConfig(width=<Angle 6. deg>, height=<Angle 6. deg>), binsize_irf=<Angle 0.2 deg>), selection=SelectionConfig(offset_max=<Angle 2.5 deg>), axes=[MapAxesConfig(name='energy', axis=EnergyAxisConfig(min=<Quantity 0.05 TeV>, max=<Quantity 100. TeV>, nbins=5, per_decade=True), axis_custom=EnergyEdgesCustomConfig(edges=[], unit='TeV')), MapAxesConfig(name='energy_true', axis=EnergyAxisConfig(min=<Quantity 0.01 TeV>, max=<Quantity 100. TeV>, nbins=10, per_decade=True), axis_custom=EnergyEdgesCustomConfig(edges=[], unit='TeV'))], from_events_file=True), observation=ObservationsConfig(obs_ids=[], obs_file=PosixPath('.'), obs_time=TimeIntervalsConfig(format=<TimeFormatEnum.iso: 'iso'>, intervals=[TimeRangeConfig(start=<Time object: scale='utc' format='mjd' value=0.0>, stop=<Time object: scale='utc' format='mjd' value=0.0>)]), obs_cone=SkyPositionConfig(frame=<FrameEnum.icrs: 'icrs'>, lon=<Angle 0. deg>, lat=<Angle 0. deg>, radius=<Angle 0. deg>), required_irfs=[<RequiredHDUEnum.aeff: 'aeff'>, <RequiredHDUEnum.edisp: 'edisp'>, <RequiredHDUEnum.rad_max: 'rad_max'>]), background=BackgroundConfig(method=<BackgroundMethodEnum.reflected: 'reflected'>, region_finder_method=<BackgroundRegionFinderMethodEnum.wobble: 'wobble'>, parameters={'n_off_regions': 3}, exclusion=ExclusionRegionsConfig(target_source=True, regions=[RegionsConfig(type='CircleSkyRegion', name='4FGL J0521.7+2112', position=SkyPositionConfig(frame=<FrameEnum.icrs: 'icrs'>, lon=<Angle 0. deg>, lat=<Angle 0. deg>, radius=<Angle 0. deg>), parameters={'region_radius': '0.5 deg'})], exclusion_file=PosixPath('.'))), safe_mask=SafeMaskConfig(methods=[<SafeMaskMethodsEnum.aeff_default: 'aeff-default'>], parameters={}), on_region=SkyPositionConfig(frame=<FrameEnum.icrs: 'icrs'>, lon=<Angle 83.633 deg>, lat=<Angle 22.02 deg>, radius=<Angle 0. deg>), containment_correction=False, map_selection=[<MapSelectionEnum.counts: 'counts'>, <MapSelectionEnum.exposure: 'exposure'>, <MapSelectionEnum.edisp: 'edisp'>]), dl4_dataset_info=DL4BaseConfig(dl4_dataset=InputDL4Config(type=<DatasetTypeEnum.MapDataset: 'MapDataset'>, input_dir=PosixPath('.'), glob_pattern='pha*fits', dl4_format=<DL4FormatEnum.gadf: 'gadf'>), spectral_energy_range=MapAxesConfig(name='energy', axis=EnergyAxisConfig(min=<Quantity 100. GeV>, max=<Quantity 100. TeV>, nbins=5, per_decade=True), axis_custom=EnergyEdgesCustomConfig(edges=[0.0631, 0.1, 0.1585, 0.2512, 0.3981, 0.631, 1.0, 1.585, 2.512], unit='TeV'))))])\n"
     ]
    }
   ],
   "source": [
    "for cc in config_main.dataset1d:\n",
    "    print(cc)"
   ]
  },
  {
   "cell_type": "markdown",
   "id": "1eaf41d3",
   "metadata": {},
   "source": [
    "# DL4 step information"
   ]
  },
  {
   "cell_type": "code",
   "execution_count": 13,
   "id": "e4fe0222",
   "metadata": {
    "tags": []
   },
   "outputs": [
    {
     "name": "stdout",
     "output_type": "stream",
     "text": [
      "('fit_range', EnergyRangeConfig(min=<Quantity 1. GeV>, max=<Quantity 40. TeV>))\n",
      "('backend', <BackendEnum.minuit: 'minuit'>)\n",
      "('optimize_opts', {})\n",
      "('covariance_opts', {})\n",
      "('confidence_opts', {})\n",
      "('store_trace', True)\n"
     ]
    }
   ],
   "source": [
    "for cc in config_main.fit_params:\n",
    "    print(cc)"
   ]
  },
  {
   "cell_type": "code",
   "execution_count": 14,
   "id": "324b9eb4",
   "metadata": {
    "tags": []
   },
   "outputs": [
    {
     "name": "stdout",
     "output_type": "stream",
     "text": [
      "('parameters', {'selection_optional': 'all'})\n",
      "('reoptimize', False)\n"
     ]
    }
   ],
   "source": [
    "for cc in config_main.flux_points_params:\n",
    "    print(cc)"
   ]
  },
  {
   "cell_type": "code",
   "execution_count": null,
   "id": "148d4f5d",
   "metadata": {},
   "outputs": [],
   "source": []
  },
  {
   "cell_type": "code",
   "execution_count": 15,
   "id": "e7ed7257",
   "metadata": {
    "tags": []
   },
   "outputs": [
    {
     "name": "stderr",
     "output_type": "stream",
     "text": [
      "Setting logging config: {'level': 'INFO', 'filename': '', 'filemode': 'w', 'format': '', 'datefmt': ''}\n"
     ]
    },
    {
     "name": "stdout",
     "output_type": "stream",
     "text": [
      "CPU times: user 1.32 ms, sys: 89 µs, total: 1.41 ms\n",
      "Wall time: 1.17 ms\n"
     ]
    }
   ],
   "source": [
    "%%time\n",
    "analysis = AsgardpyAnalysis(config_main)"
   ]
  },
  {
   "cell_type": "code",
   "execution_count": 16,
   "id": "794b4546",
   "metadata": {
    "tags": []
   },
   "outputs": [
    {
     "data": {
      "text/plain": [
       "<asgardpy.analysis.analysis.AsgardpyAnalysis at 0x2b0a7cebca90>"
      ]
     },
     "execution_count": 16,
     "metadata": {},
     "output_type": "execute_result"
    }
   ],
   "source": [
    "analysis"
   ]
  },
  {
   "cell_type": "markdown",
   "id": "496de916",
   "metadata": {},
   "source": [
    "# Prepare the dataset"
   ]
  },
  {
   "cell_type": "code",
   "execution_count": 17,
   "id": "2be936b1",
   "metadata": {
    "tags": []
   },
   "outputs": [
    {
     "name": "stdout",
     "output_type": "stream",
     "text": [
      "1 number of 3D dataset information provided\n",
      "Instrument selected is Fermi-LAT\n"
     ]
    }
   ],
   "source": [
    "instruments_list_3d = config_main.dataset3d.instruments\n",
    "print(len(instruments_list_3d), \"number of 3D dataset information provided\")\n",
    "\n",
    "config_3d_dataset = instruments_list_3d[0]\n",
    "print(f\"Instrument selected is {config_3d_dataset.name}\")"
   ]
  },
  {
   "cell_type": "code",
   "execution_count": 18,
   "id": "8218ab54",
   "metadata": {
    "tags": []
   },
   "outputs": [
    {
     "name": "stdout",
     "output_type": "stream",
     "text": [
      "2 number of 1D dataset information provided\n",
      "Instrument selected is HESS\n"
     ]
    }
   ],
   "source": [
    "instruments_list_1d = config_main.dataset1d.instruments\n",
    "print(len(instruments_list_1d), \"number of 1D dataset information provided\")\n",
    "\n",
    "config_1d_dataset = instruments_list_1d[0]\n",
    "print(f\"Instrument selected is {config_1d_dataset.name}\")"
   ]
  },
  {
   "cell_type": "code",
   "execution_count": 19,
   "id": "3aa92fa6",
   "metadata": {
    "tags": []
   },
   "outputs": [
    {
     "name": "stdout",
     "output_type": "stream",
     "text": [
      "The list of different keys or modes of observations for the selected instrument are ['00', '01']\n"
     ]
    }
   ],
   "source": [
    "key_names = config_3d_dataset.dataset_info.key\n",
    "print(f\"The list of different keys or modes of observations for the selected instrument are {key_names}\")"
   ]
  },
  {
   "cell_type": "markdown",
   "id": "8ee7eb03",
   "metadata": {},
   "source": [
    "# Run each Dataset nD Generation step"
   ]
  },
  {
   "cell_type": "code",
   "execution_count": 20,
   "id": "c3b492b5",
   "metadata": {
    "scrolled": true,
    "tags": []
   },
   "outputs": [
    {
     "name": "stderr",
     "output_type": "stream",
     "text": [
      "Perform DL3 to DL4 process!\n",
      "1 number of 3D Datasets given\n",
      "The different keys used: 00 01\n",
      "Selecting the file with name containing 00\n",
      "Selecting the file with name containing 00\n",
      "Selecting the file with name containing 00\n",
      "Selecting the file with name containing 00\n",
      "WARNING: FITSFixedWarning: RADECSYS= 'FK5 ' \n",
      "the RADECSYS keyword is deprecated, use RADESYSa. [astropy.wcs.wcs]\n",
      "FITSFixedWarning: RADECSYS= 'FK5 ' \n",
      "the RADECSYS keyword is deprecated, use RADESYSa.\n",
      "WARNING: FITSFixedWarning: 'datfix' made the change 'Set DATEREF to '2001-01-01T00:01:04.184' from MJDREF.\n",
      "Set MJD-OBS to 58484.000000 from DATE-OBS.\n",
      "Set MJD-END to 59729.988334 from DATE-END'. [astropy.wcs.wcs]\n",
      "FITSFixedWarning: 'datfix' made the change 'Set DATEREF to '2001-01-01T00:01:04.184' from MJDREF.\n",
      "Set MJD-OBS to 58484.000000 from DATE-OBS.\n",
      "Set MJD-END to 59729.988334 from DATE-END'.\n",
      "Using the exclusion mask to create a safe mask\n",
      "Selecting the file with name containing 01\n",
      "Selecting the file with name containing 01\n",
      "Selecting the file with name containing 01\n",
      "Selecting the file with name containing 01\n",
      "WARNING: FITSFixedWarning: RADECSYS= 'FK5 ' \n",
      "the RADECSYS keyword is deprecated, use RADESYSa. [astropy.wcs.wcs]\n",
      "FITSFixedWarning: RADECSYS= 'FK5 ' \n",
      "the RADECSYS keyword is deprecated, use RADESYSa.\n",
      "WARNING: FITSFixedWarning: 'datfix' made the change 'Set DATEREF to '2001-01-01T00:01:04.184' from MJDREF.\n",
      "Set MJD-OBS to 58484.000000 from DATE-OBS.\n",
      "Set MJD-END to 59729.988334 from DATE-END'. [astropy.wcs.wcs]\n",
      "FITSFixedWarning: 'datfix' made the change 'Set DATEREF to '2001-01-01T00:01:04.184' from MJDREF.\n",
      "Set MJD-OBS to 58484.000000 from DATE-OBS.\n",
      "Set MJD-END to 59729.988334 from DATE-END'.\n",
      "Using the exclusion mask to create a safe mask\n",
      "Analysis Step datasets-3d completed\n",
      "Models have been associated with the Datasets\n"
     ]
    },
    {
     "name": "stdout",
     "output_type": "stream",
     "text": [
      "CPU times: user 12.2 s, sys: 452 ms, total: 12.6 s\n",
      "Wall time: 12.8 s\n"
     ]
    }
   ],
   "source": [
    "%%time\n",
    "analysis.run([\"datasets-3d\"])"
   ]
  },
  {
   "cell_type": "markdown",
   "id": "408989c0",
   "metadata": {},
   "source": [
    "## Display some results"
   ]
  },
  {
   "cell_type": "code",
   "execution_count": 21,
   "id": "0ad40037",
   "metadata": {
    "tags": []
   },
   "outputs": [
    {
     "name": "stdout",
     "output_type": "stream",
     "text": [
      "Datasets\n",
      "--------\n",
      "\n",
      "Dataset 0: \n",
      "\n",
      "  Type       : MapDataset\n",
      "  Name       : Fermi-LAT_00\n",
      "  Instrument : \n",
      "  Models     : ['4FGL J0534.5+2201i', '4FGL J0534.5+2201s', '4FGL J0534.5+2200', '4FGL J0526.3+2246', '4FGL J0544.4+2238', '4FGL J0528.3+1817', '4FGL J0536.2+1733', '4FGL J0540.3+2756e', 'fermi-diffuse-iso-00', 'diffuse-iem']\n",
      "\n",
      "Dataset 1: \n",
      "\n",
      "  Type       : MapDataset\n",
      "  Name       : Fermi-LAT_01\n",
      "  Instrument : \n",
      "  Models     : ['4FGL J0534.5+2201i', '4FGL J0534.5+2201s', '4FGL J0534.5+2200', '4FGL J0526.3+2246', '4FGL J0544.4+2238', '4FGL J0528.3+1817', '4FGL J0536.2+1733', '4FGL J0540.3+2756e', 'diffuse-iem', 'fermi-diffuse-iso-01']\n",
      "\n",
      "\n"
     ]
    }
   ],
   "source": [
    "print(analysis.datasets)"
   ]
  },
  {
   "cell_type": "code",
   "execution_count": 22,
   "id": "a5aca26f",
   "metadata": {
    "tags": []
   },
   "outputs": [
    {
     "name": "stdout",
     "output_type": "stream",
     "text": [
      "Models\n",
      "\n",
      "Component 0: SkyModel\n",
      "\n",
      "  Name                      : 4FGL J0534.5+2201i\n",
      "  Datasets names            : ['Fermi-LAT_00', 'Fermi-LAT_01']\n",
      "  Spectral model type       : CompoundSpectralModel\n",
      "  Spatial  model type       : GaussianSpatialModel\n",
      "  Temporal model type       : \n",
      "  Parameters:\n",
      "    amplitude                     :   1.00e-06   +/- 1.5e-07 1 / (TeV s cm2)\n",
      "    reference             (frozen):      0.010       TeV         \n",
      "    alpha                         :      1.700   +/-    0.10             \n",
      "    beta                          :      0.100   +/-    0.00             \n",
      "    alpha_norm            (frozen):      1.000                   \n",
      "    redshift              (frozen):      0.000                   \n",
      "    lon_0                 (frozen):    184.553       deg         \n",
      "    lat_0                 (frozen):     -5.781       deg         \n",
      "    sigma                 (frozen):      0.020       deg         \n",
      "    e                     (frozen):      0.000                   \n",
      "    phi                   (frozen):      0.000       deg         \n",
      "\n",
      "Component 1: SkyModel\n",
      "\n",
      "  Name                      : 4FGL J0534.5+2201s\n",
      "  Datasets names            : ['Fermi-LAT_00', 'Fermi-LAT_01']\n",
      "  Spectral model type       : PowerLawSpectralModel\n",
      "  Spatial  model type       : PointSpatialModel\n",
      "  Temporal model type       : \n",
      "  Parameters:\n",
      "    index                 (frozen):      3.802                   \n",
      "    amplitude             (frozen):   3.80e-02       1 / (TeV s cm2)\n",
      "    reference             (frozen):      0.000       TeV         \n",
      "    lon_0                 (frozen):      3.221       rad         \n",
      "    lat_0                 (frozen):     -0.101       rad         \n",
      "\n",
      "Component 2: SkyModel\n",
      "\n",
      "  Name                      : 4FGL J0534.5+2200\n",
      "  Datasets names            : ['Fermi-LAT_00', 'Fermi-LAT_01']\n",
      "  Spectral model type       : ExpCutoffPowerLawSpectralModel\n",
      "  Spatial  model type       : PointSpatialModel\n",
      "  Temporal model type       : \n",
      "  Parameters:\n",
      "    index                 (frozen):      1.883                   \n",
      "    amplitude                     :   7.23e-04   +/- 1.0e-05 1 / (TeV s cm2)\n",
      "    reference             (frozen):      0.001       TeV         \n",
      "    lambda_               (frozen):    295.318       1 / TeV     \n",
      "    alpha                 (frozen):      0.667                   \n",
      "    lon_0                 (frozen):      3.221       rad         \n",
      "    lat_0                 (frozen):     -0.101       rad         \n",
      "\n",
      "Component 3: SkyModel\n",
      "\n",
      "  Name                      : 4FGL J0526.3+2246\n",
      "  Datasets names            : ['Fermi-LAT_00', 'Fermi-LAT_01']\n",
      "  Spectral model type       : PowerLawSpectralModel\n",
      "  Spatial  model type       : PointSpatialModel\n",
      "  Temporal model type       : \n",
      "  Parameters:\n",
      "    index                 (frozen):      2.026                   \n",
      "    amplitude             (frozen):   1.32e-08       1 / (TeV s cm2)\n",
      "    reference             (frozen):      0.005       TeV         \n",
      "    lon_0                 (frozen):      3.192       rad         \n",
      "    lat_0                 (frozen):     -0.121       rad         \n",
      "\n",
      "Component 4: SkyModel\n",
      "\n",
      "  Name                      : 4FGL J0544.4+2238\n",
      "  Datasets names            : ['Fermi-LAT_00', 'Fermi-LAT_01']\n",
      "  Spectral model type       : PowerLawSpectralModel\n",
      "  Spatial  model type       : PointSpatialModel\n",
      "  Temporal model type       : \n",
      "  Parameters:\n",
      "    index                 (frozen):      2.292                   \n",
      "    amplitude             (frozen):   3.25e-08       1 / (TeV s cm2)\n",
      "    reference             (frozen):      0.003       TeV         \n",
      "    lon_0                 (frozen):      3.233       rad         \n",
      "    lat_0                 (frozen):     -0.061       rad         \n",
      "\n",
      "Component 5: SkyModel\n",
      "\n",
      "  Name                      : 4FGL J0528.3+1817\n",
      "  Datasets names            : ['Fermi-LAT_00', 'Fermi-LAT_01']\n",
      "  Spectral model type       : PowerLawSpectralModel\n",
      "  Spatial  model type       : PointSpatialModel\n",
      "  Temporal model type       : \n",
      "  Parameters:\n",
      "    index                 (frozen):      1.683                   \n",
      "    amplitude                     :   1.84e-09   +/- 4.8e-10 1 / (TeV s cm2)\n",
      "    reference             (frozen):      0.010       TeV         \n",
      "    lon_0                 (frozen):      3.263       rad         \n",
      "    lat_0                 (frozen):     -0.157       rad         \n",
      "\n",
      "Component 6: SkyModel\n",
      "\n",
      "  Name                      : 4FGL J0536.2+1733\n",
      "  Datasets names            : ['Fermi-LAT_00', 'Fermi-LAT_01']\n",
      "  Spectral model type       : LogParabolaSpectralModel\n",
      "  Spatial  model type       : PointSpatialModel\n",
      "  Temporal model type       : \n",
      "  Parameters:\n",
      "    amplitude                     :   8.60e-08   +/- 1.2e-08 1 / (TeV s cm2)\n",
      "    reference             (frozen):      0.003       TeV         \n",
      "    alpha                 (frozen):      1.970                   \n",
      "    beta                  (frozen):      0.239                   \n",
      "    lon_0                 (frozen):      3.291       rad         \n",
      "    lat_0                 (frozen):     -0.136       rad         \n",
      "\n",
      "Component 7: SkyModel\n",
      "\n",
      "  Name                      : 4FGL J0540.3+2756e\n",
      "  Datasets names            : ['Fermi-LAT_00', 'Fermi-LAT_01']\n",
      "  Spectral model type       : LogParabolaSpectralModel\n",
      "  Spatial  model type       : TemplateSpatialModel\n",
      "  Temporal model type       : \n",
      "  Parameters:\n",
      "    amplitude             (frozen):   6.24e-06       1 / (TeV s cm2)\n",
      "    reference             (frozen):      0.001       TeV         \n",
      "    alpha                 (frozen):      1.995                   \n",
      "    beta                  (frozen):      0.125                   \n",
      "\n",
      "Component 8: SkyModel\n",
      "\n",
      "  Name                      : fermi-diffuse-iso-00\n",
      "  Datasets names            : ['Fermi-LAT_00']\n",
      "  Spectral model type       : CompoundSpectralModel\n",
      "  Spatial  model type       : ConstantSpatialModel\n",
      "  Temporal model type       : \n",
      "  Parameters:\n",
      "    norm                  (frozen):      1.000                   \n",
      "    norm@CcVZLtgn                 :      1.000   +/-    0.00             \n",
      "    tilt@4fi5GtV0         (frozen):      0.000                   \n",
      "    reference@pgx4AKwK    (frozen):      1.000       TeV         \n",
      "    value                 (frozen):      1.000       1 / sr      \n",
      "\n",
      "Component 9: SkyModel\n",
      "\n",
      "  Name                      : diffuse-iem\n",
      "  Datasets names            : ['Fermi-LAT_00', 'Fermi-LAT_01']\n",
      "  Spectral model type       : PowerLawNormSpectralModel\n",
      "  Spatial  model type       : TemplateSpatialModel\n",
      "  Temporal model type       : \n",
      "  Parameters:\n",
      "    norm                          :      1.000   +/-    0.00             \n",
      "    tilt                  (frozen):      0.000                   \n",
      "    reference             (frozen):      1.000       TeV         \n",
      "\n",
      "Component 10: SkyModel\n",
      "\n",
      "  Name                      : fermi-diffuse-iso-01\n",
      "  Datasets names            : ['Fermi-LAT_01']\n",
      "  Spectral model type       : CompoundSpectralModel\n",
      "  Spatial  model type       : ConstantSpatialModel\n",
      "  Temporal model type       : \n",
      "  Parameters:\n",
      "    norm                  (frozen):      1.000                   \n",
      "    norm@CcVZLtgn                 :      1.000   +/-    0.00             \n",
      "    tilt@4fi5GtV0         (frozen):      0.000                   \n",
      "    reference@pgx4AKwK    (frozen):      1.000       TeV         \n",
      "    value                 (frozen):      1.000       1 / sr      \n",
      "\n",
      "\n"
     ]
    }
   ],
   "source": [
    "print(analysis.final_model)"
   ]
  },
  {
   "cell_type": "code",
   "execution_count": 23,
   "id": "a962a9bf",
   "metadata": {
    "scrolled": true,
    "tags": []
   },
   "outputs": [
    {
     "name": "stdout",
     "output_type": "stream",
     "text": [
      "SkyModel\n",
      "\n",
      "  Name                      : 4FGL J0534.5+2201i\n",
      "  Datasets names            : ['Fermi-LAT_00', 'Fermi-LAT_01']\n",
      "  Spectral model type       : CompoundSpectralModel\n",
      "  Spatial  model type       : GaussianSpatialModel\n",
      "  Temporal model type       : \n",
      "  Parameters:\n",
      "    amplitude                     :   1.00e-06   +/- 1.5e-07 1 / (TeV s cm2)\n",
      "    reference             (frozen):      0.010       TeV         \n",
      "    alpha                         :      1.700   +/-    0.10             \n",
      "    beta                          :      0.100   +/-    0.00             \n",
      "    alpha_norm            (frozen):      1.000                   \n",
      "    redshift              (frozen):      0.000                   \n",
      "    lon_0                 (frozen):    184.553       deg         \n",
      "    lat_0                 (frozen):     -5.781       deg         \n",
      "    sigma                 (frozen):      0.020       deg         \n",
      "    e                     (frozen):      0.000                   \n",
      "    phi                   (frozen):      0.000       deg         \n",
      "\n",
      "\n",
      "SkyModel\n",
      "\n",
      "  Name                      : 4FGL J0534.5+2201s\n",
      "  Datasets names            : ['Fermi-LAT_00', 'Fermi-LAT_01']\n",
      "  Spectral model type       : PowerLawSpectralModel\n",
      "  Spatial  model type       : PointSpatialModel\n",
      "  Temporal model type       : \n",
      "  Parameters:\n",
      "    index                 (frozen):      3.802                   \n",
      "    amplitude             (frozen):   3.80e-02       1 / (TeV s cm2)\n",
      "    reference             (frozen):      0.000       TeV         \n",
      "    lon_0                 (frozen):      3.221       rad         \n",
      "    lat_0                 (frozen):     -0.101       rad         \n",
      "\n",
      "\n",
      "SkyModel\n",
      "\n",
      "  Name                      : 4FGL J0534.5+2200\n",
      "  Datasets names            : ['Fermi-LAT_00', 'Fermi-LAT_01']\n",
      "  Spectral model type       : ExpCutoffPowerLawSpectralModel\n",
      "  Spatial  model type       : PointSpatialModel\n",
      "  Temporal model type       : \n",
      "  Parameters:\n",
      "    index                 (frozen):      1.883                   \n",
      "    amplitude                     :   7.23e-04   +/- 1.0e-05 1 / (TeV s cm2)\n",
      "    reference             (frozen):      0.001       TeV         \n",
      "    lambda_               (frozen):    295.318       1 / TeV     \n",
      "    alpha                 (frozen):      0.667                   \n",
      "    lon_0                 (frozen):      3.221       rad         \n",
      "    lat_0                 (frozen):     -0.101       rad         \n",
      "\n",
      "\n",
      "SkyModel\n",
      "\n",
      "  Name                      : 4FGL J0526.3+2246\n",
      "  Datasets names            : ['Fermi-LAT_00', 'Fermi-LAT_01']\n",
      "  Spectral model type       : PowerLawSpectralModel\n",
      "  Spatial  model type       : PointSpatialModel\n",
      "  Temporal model type       : \n",
      "  Parameters:\n",
      "    index                 (frozen):      2.026                   \n",
      "    amplitude             (frozen):   1.32e-08       1 / (TeV s cm2)\n",
      "    reference             (frozen):      0.005       TeV         \n",
      "    lon_0                 (frozen):      3.192       rad         \n",
      "    lat_0                 (frozen):     -0.121       rad         \n",
      "\n",
      "\n",
      "SkyModel\n",
      "\n",
      "  Name                      : 4FGL J0544.4+2238\n",
      "  Datasets names            : ['Fermi-LAT_00', 'Fermi-LAT_01']\n",
      "  Spectral model type       : PowerLawSpectralModel\n",
      "  Spatial  model type       : PointSpatialModel\n",
      "  Temporal model type       : \n",
      "  Parameters:\n",
      "    index                 (frozen):      2.292                   \n",
      "    amplitude             (frozen):   3.25e-08       1 / (TeV s cm2)\n",
      "    reference             (frozen):      0.003       TeV         \n",
      "    lon_0                 (frozen):      3.233       rad         \n",
      "    lat_0                 (frozen):     -0.061       rad         \n",
      "\n",
      "\n",
      "SkyModel\n",
      "\n",
      "  Name                      : 4FGL J0528.3+1817\n",
      "  Datasets names            : ['Fermi-LAT_00', 'Fermi-LAT_01']\n",
      "  Spectral model type       : PowerLawSpectralModel\n",
      "  Spatial  model type       : PointSpatialModel\n",
      "  Temporal model type       : \n",
      "  Parameters:\n",
      "    index                 (frozen):      1.683                   \n",
      "    amplitude                     :   1.84e-09   +/- 4.8e-10 1 / (TeV s cm2)\n",
      "    reference             (frozen):      0.010       TeV         \n",
      "    lon_0                 (frozen):      3.263       rad         \n",
      "    lat_0                 (frozen):     -0.157       rad         \n",
      "\n",
      "\n",
      "SkyModel\n",
      "\n",
      "  Name                      : 4FGL J0536.2+1733\n",
      "  Datasets names            : ['Fermi-LAT_00', 'Fermi-LAT_01']\n",
      "  Spectral model type       : LogParabolaSpectralModel\n",
      "  Spatial  model type       : PointSpatialModel\n",
      "  Temporal model type       : \n",
      "  Parameters:\n",
      "    amplitude                     :   8.60e-08   +/- 1.2e-08 1 / (TeV s cm2)\n",
      "    reference             (frozen):      0.003       TeV         \n",
      "    alpha                 (frozen):      1.970                   \n",
      "    beta                  (frozen):      0.239                   \n",
      "    lon_0                 (frozen):      3.291       rad         \n",
      "    lat_0                 (frozen):     -0.136       rad         \n",
      "\n",
      "\n",
      "SkyModel\n",
      "\n",
      "  Name                      : 4FGL J0540.3+2756e\n",
      "  Datasets names            : ['Fermi-LAT_00', 'Fermi-LAT_01']\n",
      "  Spectral model type       : LogParabolaSpectralModel\n",
      "  Spatial  model type       : TemplateSpatialModel\n",
      "  Temporal model type       : \n",
      "  Parameters:\n",
      "    amplitude             (frozen):   6.24e-06       1 / (TeV s cm2)\n",
      "    reference             (frozen):      0.001       TeV         \n",
      "    alpha                 (frozen):      1.995                   \n",
      "    beta                  (frozen):      0.125                   \n",
      "\n",
      "\n",
      "SkyModel\n",
      "\n",
      "  Name                      : fermi-diffuse-iso-00\n",
      "  Datasets names            : ['Fermi-LAT_00']\n",
      "  Spectral model type       : CompoundSpectralModel\n",
      "  Spatial  model type       : ConstantSpatialModel\n",
      "  Temporal model type       : \n",
      "  Parameters:\n",
      "    norm                  (frozen):      1.000                   \n",
      "    norm@CcVZLtgn                 :      1.000   +/-    0.00             \n",
      "    tilt@4fi5GtV0         (frozen):      0.000                   \n",
      "    reference@pgx4AKwK    (frozen):      1.000       TeV         \n",
      "    value                 (frozen):      1.000       1 / sr      \n",
      "\n",
      "\n",
      "SkyModel\n",
      "\n",
      "  Name                      : diffuse-iem\n",
      "  Datasets names            : ['Fermi-LAT_00', 'Fermi-LAT_01']\n",
      "  Spectral model type       : PowerLawNormSpectralModel\n",
      "  Spatial  model type       : TemplateSpatialModel\n",
      "  Temporal model type       : \n",
      "  Parameters:\n",
      "    norm                          :      1.000   +/-    0.00             \n",
      "    tilt                  (frozen):      0.000                   \n",
      "    reference             (frozen):      1.000       TeV         \n",
      "\n",
      "\n",
      "SkyModel\n",
      "\n",
      "  Name                      : fermi-diffuse-iso-01\n",
      "  Datasets names            : ['Fermi-LAT_01']\n",
      "  Spectral model type       : CompoundSpectralModel\n",
      "  Spatial  model type       : ConstantSpatialModel\n",
      "  Temporal model type       : \n",
      "  Parameters:\n",
      "    norm                  (frozen):      1.000                   \n",
      "    norm@CcVZLtgn                 :      1.000   +/-    0.00             \n",
      "    tilt@4fi5GtV0         (frozen):      0.000                   \n",
      "    reference@pgx4AKwK    (frozen):      1.000       TeV         \n",
      "    value                 (frozen):      1.000       1 / sr      \n",
      "\n",
      "\n"
     ]
    }
   ],
   "source": [
    "for m in analysis.final_model:\n",
    "    print(m)"
   ]
  },
  {
   "cell_type": "code",
   "execution_count": 24,
   "id": "e4990b8f",
   "metadata": {
    "tags": []
   },
   "outputs": [
    {
     "name": "stdout",
     "output_type": "stream",
     "text": [
      "{'name': ['Fermi-LAT'], 'spectral_energy_ranges': [<Quantity [  1.        ,   2.87298483,   8.25404185,  23.71373706,\n",
      "            68.12920691, 195.73417815, 562.34132519] GeV>], 'en_bins': 48, 'free_params': 8, 'DoF': 40}\n"
     ]
    }
   ],
   "source": [
    "print(analysis.instrument_spectral_info)"
   ]
  },
  {
   "cell_type": "code",
   "execution_count": 25,
   "id": "487a12e8",
   "metadata": {
    "tags": []
   },
   "outputs": [
    {
     "name": "stdout",
     "output_type": "stream",
     "text": [
      "['Fermi-LAT_00', 'Fermi-LAT_01']\n"
     ]
    }
   ],
   "source": [
    "print(analysis.dataset_name_list)"
   ]
  },
  {
   "cell_type": "code",
   "execution_count": null,
   "id": "37105781",
   "metadata": {},
   "outputs": [],
   "source": []
  },
  {
   "cell_type": "code",
   "execution_count": 26,
   "id": "a02f5ae0",
   "metadata": {
    "scrolled": true,
    "tags": []
   },
   "outputs": [
    {
     "name": "stderr",
     "output_type": "stream",
     "text": [
      "Perform DL3 to DL4 process!\n",
      "2 number of 1D Datasets given\n",
      "Observation ID list selected: 23523 23526\n",
      "Observations selected: 2 out of 2.\n",
      "Using 2 processes to compute Data reduction\n",
      "Computing dataset for observation 23523\n",
      "Running SpectrumDatasetMaker\n",
      "Computing dataset for observation 23526\n",
      "Running SpectrumDatasetMaker\n",
      "Running SafeMaskMaker\n",
      "Running SafeMaskMaker\n",
      "Running ReflectedRegionsBackgroundMaker\n",
      "Running ReflectedRegionsBackgroundMaker\n",
      "Observation ID list selected: 5029747 5029748\n",
      "Observations selected: 2 out of 2.\n",
      "Using 2 processes to compute Data reduction\n",
      "Computing dataset for observation 5029748\n",
      "Running SpectrumDatasetMaker\n",
      "Computing dataset for observation 5029747\n",
      "Running SpectrumDatasetMaker\n",
      "'THETA' axis is stored as a scalar -- converting to 1D array.\n",
      "'THETA' axis is stored as a scalar -- converting to 1D array.\n",
      "'THETA' axis is stored as a scalar -- converting to 1D array.\n",
      "'THETA' axis is stored as a scalar -- converting to 1D array.\n",
      "'THETA' axis is stored as a scalar -- converting to 1D array.\n",
      "'THETA' axis is stored as a scalar -- converting to 1D array.\n",
      "'THETA' axis is stored as a scalar -- converting to 1D array.\n",
      "'THETA' axis is stored as a scalar -- converting to 1D array.\n",
      "'THETA' axis is stored as a scalar -- converting to 1D array.\n",
      "'THETA' axis is stored as a scalar -- converting to 1D array.\n",
      "'THETA' axis is stored as a scalar -- converting to 1D array.\n",
      "'THETA' axis is stored as a scalar -- converting to 1D array.\n",
      "'THETA' axis is stored as a scalar -- converting to 1D array.\n",
      "'THETA' axis is stored as a scalar -- converting to 1D array.\n",
      "'THETA' axis is stored as a scalar -- converting to 1D array.\n",
      "'THETA' axis is stored as a scalar -- converting to 1D array.\n",
      "Running SafeMaskMaker\n",
      "Running SafeMaskMaker\n",
      "'THETA' axis is stored as a scalar -- converting to 1D array.\n",
      "No default upper safe energy threshold defined for obs 5029747\n",
      "'THETA' axis is stored as a scalar -- converting to 1D array.\n",
      "No default upper safe energy threshold defined for obs 5029748\n",
      "'THETA' axis is stored as a scalar -- converting to 1D array.\n",
      "Running ReflectedRegionsBackgroundMaker\n",
      "'THETA' axis is stored as a scalar -- converting to 1D array.\n",
      "Running ReflectedRegionsBackgroundMaker\n",
      "'THETA' axis is stored as a scalar -- converting to 1D array.\n",
      "'THETA' axis is stored as a scalar -- converting to 1D array.\n",
      "'THETA' axis is stored as a scalar -- converting to 1D array.\n",
      "'THETA' axis is stored as a scalar -- converting to 1D array.\n",
      "'THETA' axis is stored as a scalar -- converting to 1D array.\n",
      "'THETA' axis is stored as a scalar -- converting to 1D array.\n",
      "'THETA' axis is stored as a scalar -- converting to 1D array.\n",
      "'THETA' axis is stored as a scalar -- converting to 1D array.\n",
      "'THETA' axis is stored as a scalar -- converting to 1D array.\n",
      "'THETA' axis is stored as a scalar -- converting to 1D array.\n",
      "'THETA' axis is stored as a scalar -- converting to 1D array.\n",
      "'THETA' axis is stored as a scalar -- converting to 1D array.\n",
      "Analysis Step datasets-1d completed\n",
      "Models have been associated with the Datasets\n"
     ]
    },
    {
     "name": "stdout",
     "output_type": "stream",
     "text": [
      "CPU times: user 402 ms, sys: 110 ms, total: 512 ms\n",
      "Wall time: 1.97 s\n"
     ]
    }
   ],
   "source": [
    "%%time\n",
    "analysis.run([\"datasets-1d\"])"
   ]
  },
  {
   "cell_type": "markdown",
   "id": "a0565133",
   "metadata": {},
   "source": [
    "## Display the results"
   ]
  },
  {
   "cell_type": "code",
   "execution_count": 27,
   "id": "dfea2d18",
   "metadata": {
    "scrolled": true,
    "tags": []
   },
   "outputs": [
    {
     "name": "stdout",
     "output_type": "stream",
     "text": [
      "Datasets\n",
      "--------\n",
      "\n",
      "Dataset 0: \n",
      "\n",
      "  Type       : MapDataset\n",
      "  Name       : Fermi-LAT_00\n",
      "  Instrument : \n",
      "  Models     : ['4FGL J0534.5+2201i', '4FGL J0534.5+2201s', '4FGL J0534.5+2200', '4FGL J0526.3+2246', '4FGL J0544.4+2238', '4FGL J0528.3+1817', '4FGL J0536.2+1733', '4FGL J0540.3+2756e', 'fermi-diffuse-iso-00', 'diffuse-iem']\n",
      "\n",
      "Dataset 1: \n",
      "\n",
      "  Type       : MapDataset\n",
      "  Name       : Fermi-LAT_01\n",
      "  Instrument : \n",
      "  Models     : ['4FGL J0534.5+2201i', '4FGL J0534.5+2201s', '4FGL J0534.5+2200', '4FGL J0526.3+2246', '4FGL J0544.4+2238', '4FGL J0528.3+1817', '4FGL J0536.2+1733', '4FGL J0540.3+2756e', 'diffuse-iem', 'fermi-diffuse-iso-01']\n",
      "\n",
      "Dataset 2: \n",
      "\n",
      "  Type       : SpectrumDatasetOnOff\n",
      "  Name       : HESS\n",
      "  Instrument : \n",
      "  Models     : ['4FGL J0534.5+2201i']\n",
      "\n",
      "Dataset 3: \n",
      "\n",
      "  Type       : SpectrumDatasetOnOff\n",
      "  Name       : MAGIC\n",
      "  Instrument : \n",
      "  Models     : ['4FGL J0534.5+2201i']\n",
      "\n",
      "\n"
     ]
    }
   ],
   "source": [
    "print(analysis.datasets)"
   ]
  },
  {
   "cell_type": "code",
   "execution_count": 28,
   "id": "8a868a98",
   "metadata": {
    "scrolled": true,
    "tags": []
   },
   "outputs": [
    {
     "name": "stderr",
     "output_type": "stream",
     "text": [
      "/nfs/pic.es/user/c/cpriyada/anaconda3/envs/asgardpy/lib/python3.11/site-packages/gammapy/utils/interpolation.py:185: RuntimeWarning: overflow encountered in exp\n",
      "  output = np.exp(values)\n"
     ]
    },
    {
     "name": "stdout",
     "output_type": "stream",
     "text": [
      "MapDataset\n",
      "----------\n",
      "\n",
      "  Name                            : Fermi-LAT_00 \n",
      "\n",
      "  Total counts                    : 23266 \n",
      "  Total background counts         : nan\n",
      "  Total excess counts             : nan\n",
      "\n",
      "  Predicted counts                : 24256.50\n",
      "  Predicted background counts     : nan\n",
      "  Predicted excess counts         : 24256.50\n",
      "\n",
      "  Exposure min                    : 5.80e+10 cm2 s\n",
      "  Exposure max                    : 7.19e+10 cm2 s\n",
      "\n",
      "  Number of total bins            : 1182816 \n",
      "  Number of fit bins              : 186744 \n",
      "\n",
      "  Fit statistic type              : cash\n",
      "  Fit statistic value (-2 log(L)) : 21471.36\n",
      "\n",
      "  Number of models                : 10 \n",
      "  Number of parameters            : 56\n",
      "  Number of free parameters       : 8\n",
      "\n",
      "  Component 0: SkyModel\n",
      "  \n",
      "    Name                      : 4FGL J0534.5+2201i\n",
      "    Datasets names            : ['Fermi-LAT_00', 'Fermi-LAT_01', 'HESS', 'MAGIC']\n",
      "    Spectral model type       : CompoundSpectralModel\n",
      "    Spatial  model type       : GaussianSpatialModel\n",
      "    Temporal model type       : \n",
      "    Parameters:\n",
      "      amplitude                     :   1.00e-06   +/- 1.5e-07 1 / (TeV s cm2)\n",
      "      reference             (frozen):      0.010       TeV         \n",
      "      alpha                         :      1.700   +/-    0.10             \n",
      "      beta                          :      0.100   +/-    0.00             \n",
      "      alpha_norm            (frozen):      1.000                   \n",
      "      redshift              (frozen):      0.000                   \n",
      "      lon_0                 (frozen):    184.553       deg         \n",
      "      lat_0                 (frozen):     -5.781       deg         \n",
      "      sigma                 (frozen):      0.020       deg         \n",
      "      e                     (frozen):      0.000                   \n",
      "      phi                   (frozen):      0.000       deg         \n",
      "  \n",
      "  Component 1: SkyModel\n",
      "  \n",
      "    Name                      : 4FGL J0534.5+2201s\n",
      "    Datasets names            : ['Fermi-LAT_00', 'Fermi-LAT_01']\n",
      "    Spectral model type       : PowerLawSpectralModel\n",
      "    Spatial  model type       : PointSpatialModel\n",
      "    Temporal model type       : \n",
      "    Parameters:\n",
      "      index                 (frozen):      3.802                   \n",
      "      amplitude             (frozen):   3.80e-02       1 / (TeV s cm2)\n",
      "      reference             (frozen):      0.000       TeV         \n",
      "      lon_0                 (frozen):      3.221       rad         \n",
      "      lat_0                 (frozen):     -0.101       rad         \n",
      "  \n",
      "  Component 2: SkyModel\n",
      "  \n",
      "    Name                      : 4FGL J0534.5+2200\n",
      "    Datasets names            : ['Fermi-LAT_00', 'Fermi-LAT_01']\n",
      "    Spectral model type       : ExpCutoffPowerLawSpectralModel\n",
      "    Spatial  model type       : PointSpatialModel\n",
      "    Temporal model type       : \n",
      "    Parameters:\n",
      "      index                 (frozen):      1.883                   \n",
      "      amplitude                     :   7.23e-04   +/- 1.0e-05 1 / (TeV s cm2)\n",
      "      reference             (frozen):      0.001       TeV         \n",
      "      lambda_               (frozen):    295.318       1 / TeV     \n",
      "      alpha                 (frozen):      0.667                   \n",
      "      lon_0                 (frozen):      3.221       rad         \n",
      "      lat_0                 (frozen):     -0.101       rad         \n",
      "  \n",
      "  Component 3: SkyModel\n",
      "  \n",
      "    Name                      : 4FGL J0526.3+2246\n",
      "    Datasets names            : ['Fermi-LAT_00', 'Fermi-LAT_01']\n",
      "    Spectral model type       : PowerLawSpectralModel\n",
      "    Spatial  model type       : PointSpatialModel\n",
      "    Temporal model type       : \n",
      "    Parameters:\n",
      "      index                 (frozen):      2.026                   \n",
      "      amplitude             (frozen):   1.32e-08       1 / (TeV s cm2)\n",
      "      reference             (frozen):      0.005       TeV         \n",
      "      lon_0                 (frozen):      3.192       rad         \n",
      "      lat_0                 (frozen):     -0.121       rad         \n",
      "  \n",
      "  Component 4: SkyModel\n",
      "  \n",
      "    Name                      : 4FGL J0544.4+2238\n",
      "    Datasets names            : ['Fermi-LAT_00', 'Fermi-LAT_01']\n",
      "    Spectral model type       : PowerLawSpectralModel\n",
      "    Spatial  model type       : PointSpatialModel\n",
      "    Temporal model type       : \n",
      "    Parameters:\n",
      "      index                 (frozen):      2.292                   \n",
      "      amplitude             (frozen):   3.25e-08       1 / (TeV s cm2)\n",
      "      reference             (frozen):      0.003       TeV         \n",
      "      lon_0                 (frozen):      3.233       rad         \n",
      "      lat_0                 (frozen):     -0.061       rad         \n",
      "  \n",
      "  Component 5: SkyModel\n",
      "  \n",
      "    Name                      : 4FGL J0528.3+1817\n",
      "    Datasets names            : ['Fermi-LAT_00', 'Fermi-LAT_01']\n",
      "    Spectral model type       : PowerLawSpectralModel\n",
      "    Spatial  model type       : PointSpatialModel\n",
      "    Temporal model type       : \n",
      "    Parameters:\n",
      "      index                 (frozen):      1.683                   \n",
      "      amplitude                     :   1.84e-09   +/- 4.8e-10 1 / (TeV s cm2)\n",
      "      reference             (frozen):      0.010       TeV         \n",
      "      lon_0                 (frozen):      3.263       rad         \n",
      "      lat_0                 (frozen):     -0.157       rad         \n",
      "  \n",
      "  Component 6: SkyModel\n",
      "  \n",
      "    Name                      : 4FGL J0536.2+1733\n",
      "    Datasets names            : ['Fermi-LAT_00', 'Fermi-LAT_01']\n",
      "    Spectral model type       : LogParabolaSpectralModel\n",
      "    Spatial  model type       : PointSpatialModel\n",
      "    Temporal model type       : \n",
      "    Parameters:\n",
      "      amplitude                     :   8.60e-08   +/- 1.2e-08 1 / (TeV s cm2)\n",
      "      reference             (frozen):      0.003       TeV         \n",
      "      alpha                 (frozen):      1.970                   \n",
      "      beta                  (frozen):      0.239                   \n",
      "      lon_0                 (frozen):      3.291       rad         \n",
      "      lat_0                 (frozen):     -0.136       rad         \n",
      "  \n",
      "  Component 7: SkyModel\n",
      "  \n",
      "    Name                      : 4FGL J0540.3+2756e\n",
      "    Datasets names            : ['Fermi-LAT_00', 'Fermi-LAT_01']\n",
      "    Spectral model type       : LogParabolaSpectralModel\n",
      "    Spatial  model type       : TemplateSpatialModel\n",
      "    Temporal model type       : \n",
      "    Parameters:\n",
      "      amplitude             (frozen):   6.24e-06       1 / (TeV s cm2)\n",
      "      reference             (frozen):      0.001       TeV         \n",
      "      alpha                 (frozen):      1.995                   \n",
      "      beta                  (frozen):      0.125                   \n",
      "  \n",
      "  Component 8: SkyModel\n",
      "  \n",
      "    Name                      : fermi-diffuse-iso-00\n",
      "    Datasets names            : ['Fermi-LAT_00']\n",
      "    Spectral model type       : CompoundSpectralModel\n",
      "    Spatial  model type       : ConstantSpatialModel\n",
      "    Temporal model type       : \n",
      "    Parameters:\n",
      "      norm                  (frozen):      1.000                   \n",
      "      norm@CcVZLtgn                 :      1.000   +/-    0.00             \n",
      "      tilt@4fi5GtV0         (frozen):      0.000                   \n",
      "      reference@pgx4AKwK    (frozen):      1.000       TeV         \n",
      "      value                 (frozen):      1.000       1 / sr      \n",
      "  \n",
      "  Component 9: SkyModel\n",
      "  \n",
      "    Name                      : diffuse-iem\n",
      "    Datasets names            : ['Fermi-LAT_00', 'Fermi-LAT_01']\n",
      "    Spectral model type       : PowerLawNormSpectralModel\n",
      "    Spatial  model type       : TemplateSpatialModel\n",
      "    Temporal model type       : \n",
      "    Parameters:\n",
      "      norm                          :      1.000   +/-    0.00             \n",
      "      tilt                  (frozen):      0.000                   \n",
      "      reference             (frozen):      1.000       TeV         \n",
      "  \n",
      "  \n"
     ]
    },
    {
     "name": "stderr",
     "output_type": "stream",
     "text": [
      "/nfs/pic.es/user/c/cpriyada/anaconda3/envs/asgardpy/lib/python3.11/site-packages/gammapy/utils/interpolation.py:185: RuntimeWarning: overflow encountered in exp\n",
      "  output = np.exp(values)\n"
     ]
    },
    {
     "name": "stdout",
     "output_type": "stream",
     "text": [
      "MapDataset\n",
      "----------\n",
      "\n",
      "  Name                            : Fermi-LAT_01 \n",
      "\n",
      "  Total counts                    : 22981 \n",
      "  Total background counts         : nan\n",
      "  Total excess counts             : nan\n",
      "\n",
      "  Predicted counts                : 23818.05\n",
      "  Predicted background counts     : nan\n",
      "  Predicted excess counts         : 23818.05\n",
      "\n",
      "  Exposure min                    : 4.52e+10 cm2 s\n",
      "  Exposure max                    : 6.50e+10 cm2 s\n",
      "\n",
      "  Number of total bins            : 1182816 \n",
      "  Number of fit bins              : 186744 \n",
      "\n",
      "  Fit statistic type              : cash\n",
      "  Fit statistic value (-2 log(L)) : 45978.51\n",
      "\n",
      "  Number of models                : 10 \n",
      "  Number of parameters            : 56\n",
      "  Number of free parameters       : 8\n",
      "\n",
      "  Component 0: SkyModel\n",
      "  \n",
      "    Name                      : 4FGL J0534.5+2201i\n",
      "    Datasets names            : ['Fermi-LAT_00', 'Fermi-LAT_01', 'HESS', 'MAGIC']\n",
      "    Spectral model type       : CompoundSpectralModel\n",
      "    Spatial  model type       : GaussianSpatialModel\n",
      "    Temporal model type       : \n",
      "    Parameters:\n",
      "      amplitude                     :   1.00e-06   +/- 1.5e-07 1 / (TeV s cm2)\n",
      "      reference             (frozen):      0.010       TeV         \n",
      "      alpha                         :      1.700   +/-    0.10             \n",
      "      beta                          :      0.100   +/-    0.00             \n",
      "      alpha_norm            (frozen):      1.000                   \n",
      "      redshift              (frozen):      0.000                   \n",
      "      lon_0                 (frozen):    184.553       deg         \n",
      "      lat_0                 (frozen):     -5.781       deg         \n",
      "      sigma                 (frozen):      0.020       deg         \n",
      "      e                     (frozen):      0.000                   \n",
      "      phi                   (frozen):      0.000       deg         \n",
      "  \n",
      "  Component 1: SkyModel\n",
      "  \n",
      "    Name                      : 4FGL J0534.5+2201s\n",
      "    Datasets names            : ['Fermi-LAT_00', 'Fermi-LAT_01']\n",
      "    Spectral model type       : PowerLawSpectralModel\n",
      "    Spatial  model type       : PointSpatialModel\n",
      "    Temporal model type       : \n",
      "    Parameters:\n",
      "      index                 (frozen):      3.802                   \n",
      "      amplitude             (frozen):   3.80e-02       1 / (TeV s cm2)\n",
      "      reference             (frozen):      0.000       TeV         \n",
      "      lon_0                 (frozen):      3.221       rad         \n",
      "      lat_0                 (frozen):     -0.101       rad         \n",
      "  \n",
      "  Component 2: SkyModel\n",
      "  \n",
      "    Name                      : 4FGL J0534.5+2200\n",
      "    Datasets names            : ['Fermi-LAT_00', 'Fermi-LAT_01']\n",
      "    Spectral model type       : ExpCutoffPowerLawSpectralModel\n",
      "    Spatial  model type       : PointSpatialModel\n",
      "    Temporal model type       : \n",
      "    Parameters:\n",
      "      index                 (frozen):      1.883                   \n",
      "      amplitude                     :   7.23e-04   +/- 1.0e-05 1 / (TeV s cm2)\n",
      "      reference             (frozen):      0.001       TeV         \n",
      "      lambda_               (frozen):    295.318       1 / TeV     \n",
      "      alpha                 (frozen):      0.667                   \n",
      "      lon_0                 (frozen):      3.221       rad         \n",
      "      lat_0                 (frozen):     -0.101       rad         \n",
      "  \n",
      "  Component 3: SkyModel\n",
      "  \n",
      "    Name                      : 4FGL J0526.3+2246\n",
      "    Datasets names            : ['Fermi-LAT_00', 'Fermi-LAT_01']\n",
      "    Spectral model type       : PowerLawSpectralModel\n",
      "    Spatial  model type       : PointSpatialModel\n",
      "    Temporal model type       : \n",
      "    Parameters:\n",
      "      index                 (frozen):      2.026                   \n",
      "      amplitude             (frozen):   1.32e-08       1 / (TeV s cm2)\n",
      "      reference             (frozen):      0.005       TeV         \n",
      "      lon_0                 (frozen):      3.192       rad         \n",
      "      lat_0                 (frozen):     -0.121       rad         \n",
      "  \n",
      "  Component 4: SkyModel\n",
      "  \n",
      "    Name                      : 4FGL J0544.4+2238\n",
      "    Datasets names            : ['Fermi-LAT_00', 'Fermi-LAT_01']\n",
      "    Spectral model type       : PowerLawSpectralModel\n",
      "    Spatial  model type       : PointSpatialModel\n",
      "    Temporal model type       : \n",
      "    Parameters:\n",
      "      index                 (frozen):      2.292                   \n",
      "      amplitude             (frozen):   3.25e-08       1 / (TeV s cm2)\n",
      "      reference             (frozen):      0.003       TeV         \n",
      "      lon_0                 (frozen):      3.233       rad         \n",
      "      lat_0                 (frozen):     -0.061       rad         \n",
      "  \n",
      "  Component 5: SkyModel\n",
      "  \n",
      "    Name                      : 4FGL J0528.3+1817\n",
      "    Datasets names            : ['Fermi-LAT_00', 'Fermi-LAT_01']\n",
      "    Spectral model type       : PowerLawSpectralModel\n",
      "    Spatial  model type       : PointSpatialModel\n",
      "    Temporal model type       : \n",
      "    Parameters:\n",
      "      index                 (frozen):      1.683                   \n",
      "      amplitude                     :   1.84e-09   +/- 4.8e-10 1 / (TeV s cm2)\n",
      "      reference             (frozen):      0.010       TeV         \n",
      "      lon_0                 (frozen):      3.263       rad         \n",
      "      lat_0                 (frozen):     -0.157       rad         \n",
      "  \n",
      "  Component 6: SkyModel\n",
      "  \n",
      "    Name                      : 4FGL J0536.2+1733\n",
      "    Datasets names            : ['Fermi-LAT_00', 'Fermi-LAT_01']\n",
      "    Spectral model type       : LogParabolaSpectralModel\n",
      "    Spatial  model type       : PointSpatialModel\n",
      "    Temporal model type       : \n",
      "    Parameters:\n",
      "      amplitude                     :   8.60e-08   +/- 1.2e-08 1 / (TeV s cm2)\n",
      "      reference             (frozen):      0.003       TeV         \n",
      "      alpha                 (frozen):      1.970                   \n",
      "      beta                  (frozen):      0.239                   \n",
      "      lon_0                 (frozen):      3.291       rad         \n",
      "      lat_0                 (frozen):     -0.136       rad         \n",
      "  \n",
      "  Component 7: SkyModel\n",
      "  \n",
      "    Name                      : 4FGL J0540.3+2756e\n",
      "    Datasets names            : ['Fermi-LAT_00', 'Fermi-LAT_01']\n",
      "    Spectral model type       : LogParabolaSpectralModel\n",
      "    Spatial  model type       : TemplateSpatialModel\n",
      "    Temporal model type       : \n",
      "    Parameters:\n",
      "      amplitude             (frozen):   6.24e-06       1 / (TeV s cm2)\n",
      "      reference             (frozen):      0.001       TeV         \n",
      "      alpha                 (frozen):      1.995                   \n",
      "      beta                  (frozen):      0.125                   \n",
      "  \n",
      "  Component 8: SkyModel\n",
      "  \n",
      "    Name                      : diffuse-iem\n",
      "    Datasets names            : ['Fermi-LAT_00', 'Fermi-LAT_01']\n",
      "    Spectral model type       : PowerLawNormSpectralModel\n",
      "    Spatial  model type       : TemplateSpatialModel\n",
      "    Temporal model type       : \n",
      "    Parameters:\n",
      "      norm                          :      1.000   +/-    0.00             \n",
      "      tilt                  (frozen):      0.000                   \n",
      "      reference             (frozen):      1.000       TeV         \n",
      "  \n",
      "  Component 9: SkyModel\n",
      "  \n",
      "    Name                      : fermi-diffuse-iso-01\n",
      "    Datasets names            : ['Fermi-LAT_01']\n",
      "    Spectral model type       : CompoundSpectralModel\n",
      "    Spatial  model type       : ConstantSpatialModel\n",
      "    Temporal model type       : \n",
      "    Parameters:\n",
      "      norm                  (frozen):      1.000                   \n",
      "      norm@CcVZLtgn                 :      1.000   +/-    0.00             \n",
      "      tilt@4fi5GtV0         (frozen):      0.000                   \n",
      "      reference@pgx4AKwK    (frozen):      1.000       TeV         \n",
      "      value                 (frozen):      1.000       1 / sr      \n",
      "  \n",
      "  \n",
      "SpectrumDatasetOnOff\n",
      "--------------------\n",
      "\n",
      "  Name                            : HESS \n",
      "\n",
      "  Total counts                    : 496 \n",
      "  Total background counts         : 62.00\n",
      "  Total excess counts             : 434.00\n",
      "\n",
      "  Predicted counts                : 505.30\n",
      "  Predicted background counts     : 62.01\n",
      "  Predicted excess counts         : 443.28\n",
      "\n",
      "  Exposure min                    : 1.54e+07 m2 s\n",
      "  Exposure max                    : 1.81e+09 m2 s\n",
      "\n",
      "  Number of total bins            : 15 \n",
      "  Number of fit bins              : 11 \n",
      "\n",
      "  Fit statistic type              : wstat\n",
      "  Fit statistic value (-2 log(L)) : 4.54\n",
      "\n",
      "  Number of models                : 1 \n",
      "  Number of parameters            : 11\n",
      "  Number of free parameters       : 3\n",
      "\n",
      "  Component 0: SkyModel\n",
      "  \n",
      "    Name                      : 4FGL J0534.5+2201i\n",
      "    Datasets names            : ['Fermi-LAT_00', 'Fermi-LAT_01', 'HESS', 'MAGIC']\n",
      "    Spectral model type       : CompoundSpectralModel\n",
      "    Spatial  model type       : GaussianSpatialModel\n",
      "    Temporal model type       : \n",
      "    Parameters:\n",
      "      amplitude                     :   1.00e-06   +/- 1.5e-07 1 / (TeV s cm2)\n",
      "      reference             (frozen):      0.010       TeV         \n",
      "      alpha                         :      1.700   +/-    0.10             \n",
      "      beta                          :      0.100   +/-    0.00             \n",
      "      alpha_norm            (frozen):      1.000                   \n",
      "      redshift              (frozen):      0.000                   \n",
      "      lon_0                 (frozen):    184.553       deg         \n",
      "      lat_0                 (frozen):     -5.781       deg         \n",
      "      sigma                 (frozen):      0.020       deg         \n",
      "      e                     (frozen):      0.000                   \n",
      "      phi                   (frozen):      0.000       deg         \n",
      "  \n",
      "    Total counts_off                : 62 \n",
      "  Acceptance                      : 15 \n",
      "  Acceptance off                  : 15 \n",
      "\n",
      "SpectrumDatasetOnOff\n",
      "--------------------\n",
      "\n",
      "  Name                            : MAGIC \n",
      "\n",
      "  Total counts                    : 637 \n",
      "  Total background counts         : 74.67\n",
      "  Total excess counts             : 562.33\n",
      "\n",
      "  Predicted counts                : 841.05\n",
      "  Predicted background counts     : 68.22\n",
      "  Predicted excess counts         : 772.83\n",
      "\n",
      "  Exposure min                    : 8.00e+03 m2 s\n",
      "  Exposure max                    : 3.00e+08 m2 s\n",
      "\n",
      "  Number of total bins            : 17 \n",
      "  Number of fit bins              : 15 \n",
      "\n",
      "  Fit statistic type              : wstat\n",
      "  Fit statistic value (-2 log(L)) : 77.59\n",
      "\n",
      "  Number of models                : 1 \n",
      "  Number of parameters            : 11\n",
      "  Number of free parameters       : 3\n",
      "\n",
      "  Component 0: SkyModel\n",
      "  \n",
      "    Name                      : 4FGL J0534.5+2201i\n",
      "    Datasets names            : ['Fermi-LAT_00', 'Fermi-LAT_01', 'HESS', 'MAGIC']\n",
      "    Spectral model type       : CompoundSpectralModel\n",
      "    Spatial  model type       : GaussianSpatialModel\n",
      "    Temporal model type       : \n",
      "    Parameters:\n",
      "      amplitude                     :   1.00e-06   +/- 1.5e-07 1 / (TeV s cm2)\n",
      "      reference             (frozen):      0.010       TeV         \n",
      "      alpha                         :      1.700   +/-    0.10             \n",
      "      beta                          :      0.100   +/-    0.00             \n",
      "      alpha_norm            (frozen):      1.000                   \n",
      "      redshift              (frozen):      0.000                   \n",
      "      lon_0                 (frozen):    184.553       deg         \n",
      "      lat_0                 (frozen):     -5.781       deg         \n",
      "      sigma                 (frozen):      0.020       deg         \n",
      "      e                     (frozen):      0.000                   \n",
      "      phi                   (frozen):      0.000       deg         \n",
      "  \n",
      "    Total counts_off                : 224 \n",
      "  Acceptance                      : 17 \n",
      "  Acceptance off                  : 51 \n",
      "\n"
     ]
    }
   ],
   "source": [
    "for d in analysis.datasets:\n",
    "    print(d)"
   ]
  },
  {
   "cell_type": "code",
   "execution_count": 29,
   "id": "cf6652a5",
   "metadata": {
    "scrolled": true,
    "tags": []
   },
   "outputs": [
    {
     "name": "stdout",
     "output_type": "stream",
     "text": [
      "SkyModel\n",
      "\n",
      "  Name                      : 4FGL J0534.5+2201i\n",
      "  Datasets names            : ['Fermi-LAT_00', 'Fermi-LAT_01', 'HESS', 'MAGIC']\n",
      "  Spectral model type       : CompoundSpectralModel\n",
      "  Spatial  model type       : GaussianSpatialModel\n",
      "  Temporal model type       : \n",
      "  Parameters:\n",
      "    amplitude                     :   1.00e-06   +/- 1.5e-07 1 / (TeV s cm2)\n",
      "    reference             (frozen):      0.010       TeV         \n",
      "    alpha                         :      1.700   +/-    0.10             \n",
      "    beta                          :      0.100   +/-    0.00             \n",
      "    alpha_norm            (frozen):      1.000                   \n",
      "    redshift              (frozen):      0.000                   \n",
      "    lon_0                 (frozen):    184.553       deg         \n",
      "    lat_0                 (frozen):     -5.781       deg         \n",
      "    sigma                 (frozen):      0.020       deg         \n",
      "    e                     (frozen):      0.000                   \n",
      "    phi                   (frozen):      0.000       deg         \n",
      "\n",
      "\n",
      "SkyModel\n",
      "\n",
      "  Name                      : 4FGL J0534.5+2201s\n",
      "  Datasets names            : ['Fermi-LAT_00', 'Fermi-LAT_01']\n",
      "  Spectral model type       : PowerLawSpectralModel\n",
      "  Spatial  model type       : PointSpatialModel\n",
      "  Temporal model type       : \n",
      "  Parameters:\n",
      "    index                 (frozen):      3.802                   \n",
      "    amplitude             (frozen):   3.80e-02       1 / (TeV s cm2)\n",
      "    reference             (frozen):      0.000       TeV         \n",
      "    lon_0                 (frozen):      3.221       rad         \n",
      "    lat_0                 (frozen):     -0.101       rad         \n",
      "\n",
      "\n",
      "SkyModel\n",
      "\n",
      "  Name                      : 4FGL J0534.5+2200\n",
      "  Datasets names            : ['Fermi-LAT_00', 'Fermi-LAT_01']\n",
      "  Spectral model type       : ExpCutoffPowerLawSpectralModel\n",
      "  Spatial  model type       : PointSpatialModel\n",
      "  Temporal model type       : \n",
      "  Parameters:\n",
      "    index                 (frozen):      1.883                   \n",
      "    amplitude                     :   7.23e-04   +/- 1.0e-05 1 / (TeV s cm2)\n",
      "    reference             (frozen):      0.001       TeV         \n",
      "    lambda_               (frozen):    295.318       1 / TeV     \n",
      "    alpha                 (frozen):      0.667                   \n",
      "    lon_0                 (frozen):      3.221       rad         \n",
      "    lat_0                 (frozen):     -0.101       rad         \n",
      "\n",
      "\n",
      "SkyModel\n",
      "\n",
      "  Name                      : 4FGL J0526.3+2246\n",
      "  Datasets names            : ['Fermi-LAT_00', 'Fermi-LAT_01']\n",
      "  Spectral model type       : PowerLawSpectralModel\n",
      "  Spatial  model type       : PointSpatialModel\n",
      "  Temporal model type       : \n",
      "  Parameters:\n",
      "    index                 (frozen):      2.026                   \n",
      "    amplitude             (frozen):   1.32e-08       1 / (TeV s cm2)\n",
      "    reference             (frozen):      0.005       TeV         \n",
      "    lon_0                 (frozen):      3.192       rad         \n",
      "    lat_0                 (frozen):     -0.121       rad         \n",
      "\n",
      "\n",
      "SkyModel\n",
      "\n",
      "  Name                      : 4FGL J0544.4+2238\n",
      "  Datasets names            : ['Fermi-LAT_00', 'Fermi-LAT_01']\n",
      "  Spectral model type       : PowerLawSpectralModel\n",
      "  Spatial  model type       : PointSpatialModel\n",
      "  Temporal model type       : \n",
      "  Parameters:\n",
      "    index                 (frozen):      2.292                   \n",
      "    amplitude             (frozen):   3.25e-08       1 / (TeV s cm2)\n",
      "    reference             (frozen):      0.003       TeV         \n",
      "    lon_0                 (frozen):      3.233       rad         \n",
      "    lat_0                 (frozen):     -0.061       rad         \n",
      "\n",
      "\n",
      "SkyModel\n",
      "\n",
      "  Name                      : 4FGL J0528.3+1817\n",
      "  Datasets names            : ['Fermi-LAT_00', 'Fermi-LAT_01']\n",
      "  Spectral model type       : PowerLawSpectralModel\n",
      "  Spatial  model type       : PointSpatialModel\n",
      "  Temporal model type       : \n",
      "  Parameters:\n",
      "    index                 (frozen):      1.683                   \n",
      "    amplitude                     :   1.84e-09   +/- 4.8e-10 1 / (TeV s cm2)\n",
      "    reference             (frozen):      0.010       TeV         \n",
      "    lon_0                 (frozen):      3.263       rad         \n",
      "    lat_0                 (frozen):     -0.157       rad         \n",
      "\n",
      "\n",
      "SkyModel\n",
      "\n",
      "  Name                      : 4FGL J0536.2+1733\n",
      "  Datasets names            : ['Fermi-LAT_00', 'Fermi-LAT_01']\n",
      "  Spectral model type       : LogParabolaSpectralModel\n",
      "  Spatial  model type       : PointSpatialModel\n",
      "  Temporal model type       : \n",
      "  Parameters:\n",
      "    amplitude                     :   8.60e-08   +/- 1.2e-08 1 / (TeV s cm2)\n",
      "    reference             (frozen):      0.003       TeV         \n",
      "    alpha                 (frozen):      1.970                   \n",
      "    beta                  (frozen):      0.239                   \n",
      "    lon_0                 (frozen):      3.291       rad         \n",
      "    lat_0                 (frozen):     -0.136       rad         \n",
      "\n",
      "\n",
      "SkyModel\n",
      "\n",
      "  Name                      : 4FGL J0540.3+2756e\n",
      "  Datasets names            : ['Fermi-LAT_00', 'Fermi-LAT_01']\n",
      "  Spectral model type       : LogParabolaSpectralModel\n",
      "  Spatial  model type       : TemplateSpatialModel\n",
      "  Temporal model type       : \n",
      "  Parameters:\n",
      "    amplitude             (frozen):   6.24e-06       1 / (TeV s cm2)\n",
      "    reference             (frozen):      0.001       TeV         \n",
      "    alpha                 (frozen):      1.995                   \n",
      "    beta                  (frozen):      0.125                   \n",
      "\n",
      "\n",
      "SkyModel\n",
      "\n",
      "  Name                      : fermi-diffuse-iso-00\n",
      "  Datasets names            : ['Fermi-LAT_00']\n",
      "  Spectral model type       : CompoundSpectralModel\n",
      "  Spatial  model type       : ConstantSpatialModel\n",
      "  Temporal model type       : \n",
      "  Parameters:\n",
      "    norm                  (frozen):      1.000                   \n",
      "    norm@CcVZLtgn                 :      1.000   +/-    0.00             \n",
      "    tilt@4fi5GtV0         (frozen):      0.000                   \n",
      "    reference@pgx4AKwK    (frozen):      1.000       TeV         \n",
      "    value                 (frozen):      1.000       1 / sr      \n",
      "\n",
      "\n",
      "SkyModel\n",
      "\n",
      "  Name                      : diffuse-iem\n",
      "  Datasets names            : ['Fermi-LAT_00', 'Fermi-LAT_01']\n",
      "  Spectral model type       : PowerLawNormSpectralModel\n",
      "  Spatial  model type       : TemplateSpatialModel\n",
      "  Temporal model type       : \n",
      "  Parameters:\n",
      "    norm                          :      1.000   +/-    0.00             \n",
      "    tilt                  (frozen):      0.000                   \n",
      "    reference             (frozen):      1.000       TeV         \n",
      "\n",
      "\n",
      "SkyModel\n",
      "\n",
      "  Name                      : fermi-diffuse-iso-01\n",
      "  Datasets names            : ['Fermi-LAT_01']\n",
      "  Spectral model type       : CompoundSpectralModel\n",
      "  Spatial  model type       : ConstantSpatialModel\n",
      "  Temporal model type       : \n",
      "  Parameters:\n",
      "    norm                  (frozen):      1.000                   \n",
      "    norm@CcVZLtgn                 :      1.000   +/-    0.00             \n",
      "    tilt@4fi5GtV0         (frozen):      0.000                   \n",
      "    reference@pgx4AKwK    (frozen):      1.000       TeV         \n",
      "    value                 (frozen):      1.000       1 / sr      \n",
      "\n",
      "\n"
     ]
    }
   ],
   "source": [
    "for m in analysis.final_model:\n",
    "    print(m)"
   ]
  },
  {
   "cell_type": "code",
   "execution_count": 30,
   "id": "395d79c0",
   "metadata": {
    "tags": []
   },
   "outputs": [
    {
     "name": "stdout",
     "output_type": "stream",
     "text": [
      "{'name': ['Fermi-LAT', 'HESS', 'MAGIC'], 'spectral_energy_ranges': [<Quantity [  1.        ,   2.87298483,   8.25404185,  23.71373706,\n",
      "            68.12920691, 195.73417815, 562.34132519] GeV>, <Quantity [1.00000000e-01, 1.58489319e-01, 2.51188643e-01, 3.98107171e-01,\n",
      "           6.30957344e-01, 1.00000000e+00, 1.58489319e+00, 2.51188643e+00,\n",
      "           3.98107171e+00, 6.30957344e+00, 1.00000000e+01, 1.58489319e+01,\n",
      "           2.51188643e+01, 3.98107171e+01, 6.30957344e+01, 1.00000000e+02] TeV>, <Quantity [0.0631, 0.1   , 0.1585, 0.2512, 0.3981, 0.631 , 1.    , 1.585 ,\n",
      "           2.512 ] TeV>], 'en_bins': 80, 'free_params': 17, 'DoF': 63}\n"
     ]
    }
   ],
   "source": [
    "print(analysis.instrument_spectral_info)"
   ]
  },
  {
   "cell_type": "code",
   "execution_count": 31,
   "id": "afa41867",
   "metadata": {
    "tags": []
   },
   "outputs": [
    {
     "name": "stdout",
     "output_type": "stream",
     "text": [
      "The spectral energy range to be used for dataset Fermi-LAT is [  1.           2.87298483   8.25404185  23.71373706  68.12920691\n",
      " 195.73417815 562.34132519] GeV\n",
      "The spectral energy range to be used for dataset HESS is [1.00000000e-01 1.58489319e-01 2.51188643e-01 3.98107171e-01\n",
      " 6.30957344e-01 1.00000000e+00 1.58489319e+00 2.51188643e+00\n",
      " 3.98107171e+00 6.30957344e+00 1.00000000e+01 1.58489319e+01\n",
      " 2.51188643e+01 3.98107171e+01 6.30957344e+01 1.00000000e+02] TeV\n",
      "The spectral energy range to be used for dataset MAGIC is [0.0631 0.1    0.1585 0.2512 0.3981 0.631  1.     1.585  2.512 ] TeV\n"
     ]
    }
   ],
   "source": [
    "for i, en_range in enumerate(analysis.instrument_spectral_info[\"spectral_energy_ranges\"]):\n",
    "    print(f\"The spectral energy range to be used for dataset {analysis.instrument_spectral_info['name'][i]} is {en_range}\")"
   ]
  },
  {
   "cell_type": "code",
   "execution_count": null,
   "id": "e3f286d7",
   "metadata": {},
   "outputs": [],
   "source": []
  },
  {
   "cell_type": "code",
   "execution_count": 32,
   "id": "87e90534",
   "metadata": {
    "tags": []
   },
   "outputs": [
    {
     "name": "stdout",
     "output_type": "stream",
     "text": [
      "['Fermi-LAT_00', 'Fermi-LAT_01', 'HESS', 'MAGIC']\n"
     ]
    }
   ],
   "source": [
    "print(analysis.dataset_name_list)"
   ]
  },
  {
   "cell_type": "code",
   "execution_count": null,
   "id": "f641436b",
   "metadata": {},
   "outputs": [],
   "source": []
  },
  {
   "cell_type": "markdown",
   "id": "ae01b742",
   "metadata": {},
   "source": [
    "# Preparing the Datasets for DL4 steps"
   ]
  },
  {
   "cell_type": "code",
   "execution_count": 33,
   "id": "7379b3fb",
   "metadata": {
    "tags": []
   },
   "outputs": [],
   "source": [
    "analysis.final_model = Models(analysis.final_model)"
   ]
  },
  {
   "cell_type": "code",
   "execution_count": 34,
   "id": "12411eaf",
   "metadata": {
    "tags": []
   },
   "outputs": [],
   "source": [
    "# Only updating the target source model with names of all datasets\n",
    "if len(analysis.final_model) > 1:\n",
    "    analysis.final_model = apply_selection_mask_to_models(\n",
    "        list_sources=analysis.final_model,\n",
    "        target_source=analysis.config.target.source_name,\n",
    "        roi_radius=analysis.config.target.roi_selection.roi_radius,\n",
    "        free_sources=analysis.config.target.roi_selection.free_sources,\n",
    "    )"
   ]
  },
  {
   "cell_type": "code",
   "execution_count": 35,
   "id": "98063d01",
   "metadata": {
    "scrolled": true,
    "tags": []
   },
   "outputs": [
    {
     "name": "stdout",
     "output_type": "stream",
     "text": [
      "SkyModel\n",
      "\n",
      "  Name                      : 4FGL J0534.5+2201i\n",
      "  Datasets names            : ['Fermi-LAT_00', 'Fermi-LAT_01', 'HESS', 'MAGIC']\n",
      "  Spectral model type       : CompoundSpectralModel\n",
      "  Spatial  model type       : GaussianSpatialModel\n",
      "  Temporal model type       : \n",
      "  Parameters:\n",
      "    amplitude                     :   1.00e-06   +/- 1.5e-07 1 / (TeV s cm2)\n",
      "    reference             (frozen):      0.010       TeV         \n",
      "    alpha                         :      1.700   +/-    0.10             \n",
      "    beta                          :      0.100   +/-    0.00             \n",
      "    alpha_norm            (frozen):      1.000                   \n",
      "    redshift              (frozen):      0.000                   \n",
      "    lon_0                 (frozen):    184.553       deg         \n",
      "    lat_0                 (frozen):     -5.781       deg         \n",
      "    sigma                 (frozen):      0.020       deg         \n",
      "    e                     (frozen):      0.000                   \n",
      "    phi                   (frozen):      0.000       deg         \n",
      "\n",
      "\n",
      "SkyModel\n",
      "\n",
      "  Name                      : 4FGL J0534.5+2201s\n",
      "  Datasets names            : ['Fermi-LAT_00', 'Fermi-LAT_01']\n",
      "  Spectral model type       : PowerLawSpectralModel\n",
      "  Spatial  model type       : PointSpatialModel\n",
      "  Temporal model type       : \n",
      "  Parameters:\n",
      "    index                 (frozen):      3.802                   \n",
      "    amplitude             (frozen):   3.80e-02       1 / (TeV s cm2)\n",
      "    reference             (frozen):      0.000       TeV         \n",
      "    lon_0                 (frozen):      3.221       rad         \n",
      "    lat_0                 (frozen):     -0.101       rad         \n",
      "\n",
      "\n",
      "SkyModel\n",
      "\n",
      "  Name                      : 4FGL J0534.5+2200\n",
      "  Datasets names            : ['Fermi-LAT_00', 'Fermi-LAT_01']\n",
      "  Spectral model type       : ExpCutoffPowerLawSpectralModel\n",
      "  Spatial  model type       : PointSpatialModel\n",
      "  Temporal model type       : \n",
      "  Parameters:\n",
      "    index                 (frozen):      1.883                   \n",
      "    amplitude                     :   7.23e-04   +/- 1.0e-05 1 / (TeV s cm2)\n",
      "    reference             (frozen):      0.001       TeV         \n",
      "    lambda_               (frozen):    295.318       1 / TeV     \n",
      "    alpha                 (frozen):      0.667                   \n",
      "    lon_0                 (frozen):      3.221       rad         \n",
      "    lat_0                 (frozen):     -0.101       rad         \n",
      "\n",
      "\n",
      "SkyModel\n",
      "\n",
      "  Name                      : 4FGL J0526.3+2246\n",
      "  Datasets names            : ['Fermi-LAT_00', 'Fermi-LAT_01']\n",
      "  Spectral model type       : PowerLawSpectralModel\n",
      "  Spatial  model type       : PointSpatialModel\n",
      "  Temporal model type       : \n",
      "  Parameters:\n",
      "    index                 (frozen):      2.026                   \n",
      "    amplitude             (frozen):   1.32e-08       1 / (TeV s cm2)\n",
      "    reference             (frozen):      0.005       TeV         \n",
      "    lon_0                 (frozen):      3.192       rad         \n",
      "    lat_0                 (frozen):     -0.121       rad         \n",
      "\n",
      "\n",
      "SkyModel\n",
      "\n",
      "  Name                      : 4FGL J0544.4+2238\n",
      "  Datasets names            : ['Fermi-LAT_00', 'Fermi-LAT_01']\n",
      "  Spectral model type       : PowerLawSpectralModel\n",
      "  Spatial  model type       : PointSpatialModel\n",
      "  Temporal model type       : \n",
      "  Parameters:\n",
      "    index                 (frozen):      2.292                   \n",
      "    amplitude             (frozen):   3.25e-08       1 / (TeV s cm2)\n",
      "    reference             (frozen):      0.003       TeV         \n",
      "    lon_0                 (frozen):      3.233       rad         \n",
      "    lat_0                 (frozen):     -0.061       rad         \n",
      "\n",
      "\n",
      "SkyModel\n",
      "\n",
      "  Name                      : 4FGL J0528.3+1817\n",
      "  Datasets names            : ['Fermi-LAT_00', 'Fermi-LAT_01']\n",
      "  Spectral model type       : PowerLawSpectralModel\n",
      "  Spatial  model type       : PointSpatialModel\n",
      "  Temporal model type       : \n",
      "  Parameters:\n",
      "    index                 (frozen):      1.683                   \n",
      "    amplitude                     :   1.84e-09   +/- 4.8e-10 1 / (TeV s cm2)\n",
      "    reference             (frozen):      0.010       TeV         \n",
      "    lon_0                 (frozen):      3.263       rad         \n",
      "    lat_0                 (frozen):     -0.157       rad         \n",
      "\n",
      "\n",
      "SkyModel\n",
      "\n",
      "  Name                      : 4FGL J0536.2+1733\n",
      "  Datasets names            : ['Fermi-LAT_00', 'Fermi-LAT_01']\n",
      "  Spectral model type       : LogParabolaSpectralModel\n",
      "  Spatial  model type       : PointSpatialModel\n",
      "  Temporal model type       : \n",
      "  Parameters:\n",
      "    amplitude                     :   8.60e-08   +/- 1.2e-08 1 / (TeV s cm2)\n",
      "    reference             (frozen):      0.003       TeV         \n",
      "    alpha                 (frozen):      1.970                   \n",
      "    beta                  (frozen):      0.239                   \n",
      "    lon_0                 (frozen):      3.291       rad         \n",
      "    lat_0                 (frozen):     -0.136       rad         \n",
      "\n",
      "\n",
      "SkyModel\n",
      "\n",
      "  Name                      : 4FGL J0540.3+2756e\n",
      "  Datasets names            : ['Fermi-LAT_00', 'Fermi-LAT_01']\n",
      "  Spectral model type       : LogParabolaSpectralModel\n",
      "  Spatial  model type       : TemplateSpatialModel\n",
      "  Temporal model type       : \n",
      "  Parameters:\n",
      "    amplitude             (frozen):   6.24e-06       1 / (TeV s cm2)\n",
      "    reference             (frozen):      0.001       TeV         \n",
      "    alpha                 (frozen):      1.995                   \n",
      "    beta                  (frozen):      0.125                   \n",
      "\n",
      "\n",
      "SkyModel\n",
      "\n",
      "  Name                      : fermi-diffuse-iso-00\n",
      "  Datasets names            : ['Fermi-LAT_00']\n",
      "  Spectral model type       : CompoundSpectralModel\n",
      "  Spatial  model type       : ConstantSpatialModel\n",
      "  Temporal model type       : \n",
      "  Parameters:\n",
      "    norm                  (frozen):      1.000                   \n",
      "    norm@CcVZLtgn                 :      1.000   +/-    0.00             \n",
      "    tilt@4fi5GtV0         (frozen):      0.000                   \n",
      "    reference@pgx4AKwK    (frozen):      1.000       TeV         \n",
      "    value                 (frozen):      1.000       1 / sr      \n",
      "\n",
      "\n",
      "SkyModel\n",
      "\n",
      "  Name                      : diffuse-iem\n",
      "  Datasets names            : ['Fermi-LAT_00', 'Fermi-LAT_01']\n",
      "  Spectral model type       : PowerLawNormSpectralModel\n",
      "  Spatial  model type       : TemplateSpatialModel\n",
      "  Temporal model type       : \n",
      "  Parameters:\n",
      "    norm                          :      1.000   +/-    0.00             \n",
      "    tilt                  (frozen):      0.000                   \n",
      "    reference             (frozen):      1.000       TeV         \n",
      "\n",
      "\n",
      "SkyModel\n",
      "\n",
      "  Name                      : fermi-diffuse-iso-01\n",
      "  Datasets names            : ['Fermi-LAT_01']\n",
      "  Spectral model type       : CompoundSpectralModel\n",
      "  Spatial  model type       : ConstantSpatialModel\n",
      "  Temporal model type       : \n",
      "  Parameters:\n",
      "    norm                  (frozen):      1.000                   \n",
      "    norm@CcVZLtgn                 :      1.000   +/-    0.00             \n",
      "    tilt@4fi5GtV0         (frozen):      0.000                   \n",
      "    reference@pgx4AKwK    (frozen):      1.000       TeV         \n",
      "    value                 (frozen):      1.000       1 / sr      \n",
      "\n",
      "\n"
     ]
    }
   ],
   "source": [
    "for model_ in analysis.final_model:\n",
    "    print(model_)"
   ]
  },
  {
   "cell_type": "code",
   "execution_count": null,
   "id": "42589d75",
   "metadata": {},
   "outputs": [],
   "source": []
  },
  {
   "cell_type": "markdown",
   "id": "7fa7e4c1",
   "metadata": {},
   "source": [
    "## Assigning the models to all the datasets"
   ]
  },
  {
   "cell_type": "code",
   "execution_count": 36,
   "id": "2d67b804",
   "metadata": {
    "tags": []
   },
   "outputs": [],
   "source": [
    "analysis.datasets, analysis.final_model = set_models(\n",
    "    analysis.config.target,\n",
    "    analysis.datasets,\n",
    "    analysis.dataset_name_list,\n",
    "    models=analysis.final_model,\n",
    ")"
   ]
  },
  {
   "cell_type": "code",
   "execution_count": 37,
   "id": "d25dedaf",
   "metadata": {
    "scrolled": true,
    "tags": []
   },
   "outputs": [
    {
     "name": "stderr",
     "output_type": "stream",
     "text": [
      "/nfs/pic.es/user/c/cpriyada/anaconda3/envs/asgardpy/lib/python3.11/site-packages/gammapy/utils/interpolation.py:185: RuntimeWarning: overflow encountered in exp\n",
      "  output = np.exp(values)\n"
     ]
    },
    {
     "name": "stdout",
     "output_type": "stream",
     "text": [
      "MapDataset\n",
      "----------\n",
      "\n",
      "  Name                            : Fermi-LAT_00 \n",
      "\n",
      "  Total counts                    : 23266 \n",
      "  Total background counts         : nan\n",
      "  Total excess counts             : nan\n",
      "\n",
      "  Predicted counts                : 24256.50\n",
      "  Predicted background counts     : nan\n",
      "  Predicted excess counts         : 24256.50\n",
      "\n",
      "  Exposure min                    : 5.80e+10 cm2 s\n",
      "  Exposure max                    : 7.19e+10 cm2 s\n",
      "\n",
      "  Number of total bins            : 1182816 \n",
      "  Number of fit bins              : 186744 \n",
      "\n",
      "  Fit statistic type              : cash\n",
      "  Fit statistic value (-2 log(L)) : 21471.36\n",
      "\n",
      "  Number of models                : 10 \n",
      "  Number of parameters            : 56\n",
      "  Number of free parameters       : 8\n",
      "\n",
      "  Component 0: SkyModel\n",
      "  \n",
      "    Name                      : 4FGL J0534.5+2201i\n",
      "    Datasets names            : ['Fermi-LAT_00', 'Fermi-LAT_01', 'HESS', 'MAGIC']\n",
      "    Spectral model type       : CompoundSpectralModel\n",
      "    Spatial  model type       : GaussianSpatialModel\n",
      "    Temporal model type       : \n",
      "    Parameters:\n",
      "      amplitude                     :   1.00e-06   +/- 1.5e-07 1 / (TeV s cm2)\n",
      "      reference             (frozen):      0.010       TeV         \n",
      "      alpha                         :      1.700   +/-    0.10             \n",
      "      beta                          :      0.100   +/-    0.00             \n",
      "      alpha_norm            (frozen):      1.000                   \n",
      "      redshift              (frozen):      0.000                   \n",
      "      lon_0                 (frozen):    184.553       deg         \n",
      "      lat_0                 (frozen):     -5.781       deg         \n",
      "      sigma                 (frozen):      0.020       deg         \n",
      "      e                     (frozen):      0.000                   \n",
      "      phi                   (frozen):      0.000       deg         \n",
      "  \n",
      "  Component 1: SkyModel\n",
      "  \n",
      "    Name                      : 4FGL J0534.5+2201s\n",
      "    Datasets names            : ['Fermi-LAT_00', 'Fermi-LAT_01']\n",
      "    Spectral model type       : PowerLawSpectralModel\n",
      "    Spatial  model type       : PointSpatialModel\n",
      "    Temporal model type       : \n",
      "    Parameters:\n",
      "      index                 (frozen):      3.802                   \n",
      "      amplitude             (frozen):   3.80e-02       1 / (TeV s cm2)\n",
      "      reference             (frozen):      0.000       TeV         \n",
      "      lon_0                 (frozen):      3.221       rad         \n",
      "      lat_0                 (frozen):     -0.101       rad         \n",
      "  \n",
      "  Component 2: SkyModel\n",
      "  \n",
      "    Name                      : 4FGL J0534.5+2200\n",
      "    Datasets names            : ['Fermi-LAT_00', 'Fermi-LAT_01']\n",
      "    Spectral model type       : ExpCutoffPowerLawSpectralModel\n",
      "    Spatial  model type       : PointSpatialModel\n",
      "    Temporal model type       : \n",
      "    Parameters:\n",
      "      index                 (frozen):      1.883                   \n",
      "      amplitude                     :   7.23e-04   +/- 1.0e-05 1 / (TeV s cm2)\n",
      "      reference             (frozen):      0.001       TeV         \n",
      "      lambda_               (frozen):    295.318       1 / TeV     \n",
      "      alpha                 (frozen):      0.667                   \n",
      "      lon_0                 (frozen):      3.221       rad         \n",
      "      lat_0                 (frozen):     -0.101       rad         \n",
      "  \n",
      "  Component 3: SkyModel\n",
      "  \n",
      "    Name                      : 4FGL J0526.3+2246\n",
      "    Datasets names            : ['Fermi-LAT_00', 'Fermi-LAT_01']\n",
      "    Spectral model type       : PowerLawSpectralModel\n",
      "    Spatial  model type       : PointSpatialModel\n",
      "    Temporal model type       : \n",
      "    Parameters:\n",
      "      index                 (frozen):      2.026                   \n",
      "      amplitude             (frozen):   1.32e-08       1 / (TeV s cm2)\n",
      "      reference             (frozen):      0.005       TeV         \n",
      "      lon_0                 (frozen):      3.192       rad         \n",
      "      lat_0                 (frozen):     -0.121       rad         \n",
      "  \n",
      "  Component 4: SkyModel\n",
      "  \n",
      "    Name                      : 4FGL J0544.4+2238\n",
      "    Datasets names            : ['Fermi-LAT_00', 'Fermi-LAT_01']\n",
      "    Spectral model type       : PowerLawSpectralModel\n",
      "    Spatial  model type       : PointSpatialModel\n",
      "    Temporal model type       : \n",
      "    Parameters:\n",
      "      index                 (frozen):      2.292                   \n",
      "      amplitude             (frozen):   3.25e-08       1 / (TeV s cm2)\n",
      "      reference             (frozen):      0.003       TeV         \n",
      "      lon_0                 (frozen):      3.233       rad         \n",
      "      lat_0                 (frozen):     -0.061       rad         \n",
      "  \n",
      "  Component 5: SkyModel\n",
      "  \n",
      "    Name                      : 4FGL J0528.3+1817\n",
      "    Datasets names            : ['Fermi-LAT_00', 'Fermi-LAT_01']\n",
      "    Spectral model type       : PowerLawSpectralModel\n",
      "    Spatial  model type       : PointSpatialModel\n",
      "    Temporal model type       : \n",
      "    Parameters:\n",
      "      index                 (frozen):      1.683                   \n",
      "      amplitude                     :   1.84e-09   +/- 4.8e-10 1 / (TeV s cm2)\n",
      "      reference             (frozen):      0.010       TeV         \n",
      "      lon_0                 (frozen):      3.263       rad         \n",
      "      lat_0                 (frozen):     -0.157       rad         \n",
      "  \n",
      "  Component 6: SkyModel\n",
      "  \n",
      "    Name                      : 4FGL J0536.2+1733\n",
      "    Datasets names            : ['Fermi-LAT_00', 'Fermi-LAT_01']\n",
      "    Spectral model type       : LogParabolaSpectralModel\n",
      "    Spatial  model type       : PointSpatialModel\n",
      "    Temporal model type       : \n",
      "    Parameters:\n",
      "      amplitude                     :   8.60e-08   +/- 1.2e-08 1 / (TeV s cm2)\n",
      "      reference             (frozen):      0.003       TeV         \n",
      "      alpha                 (frozen):      1.970                   \n",
      "      beta                  (frozen):      0.239                   \n",
      "      lon_0                 (frozen):      3.291       rad         \n",
      "      lat_0                 (frozen):     -0.136       rad         \n",
      "  \n",
      "  Component 7: SkyModel\n",
      "  \n",
      "    Name                      : 4FGL J0540.3+2756e\n",
      "    Datasets names            : ['Fermi-LAT_00', 'Fermi-LAT_01']\n",
      "    Spectral model type       : LogParabolaSpectralModel\n",
      "    Spatial  model type       : TemplateSpatialModel\n",
      "    Temporal model type       : \n",
      "    Parameters:\n",
      "      amplitude             (frozen):   6.24e-06       1 / (TeV s cm2)\n",
      "      reference             (frozen):      0.001       TeV         \n",
      "      alpha                 (frozen):      1.995                   \n",
      "      beta                  (frozen):      0.125                   \n",
      "  \n",
      "  Component 8: SkyModel\n",
      "  \n",
      "    Name                      : fermi-diffuse-iso-00\n",
      "    Datasets names            : ['Fermi-LAT_00']\n",
      "    Spectral model type       : CompoundSpectralModel\n",
      "    Spatial  model type       : ConstantSpatialModel\n",
      "    Temporal model type       : \n",
      "    Parameters:\n",
      "      norm                  (frozen):      1.000                   \n",
      "      norm@CcVZLtgn                 :      1.000   +/-    0.00             \n",
      "      tilt@4fi5GtV0         (frozen):      0.000                   \n",
      "      reference@pgx4AKwK    (frozen):      1.000       TeV         \n",
      "      value                 (frozen):      1.000       1 / sr      \n",
      "  \n",
      "  Component 9: SkyModel\n",
      "  \n",
      "    Name                      : diffuse-iem\n",
      "    Datasets names            : ['Fermi-LAT_00', 'Fermi-LAT_01']\n",
      "    Spectral model type       : PowerLawNormSpectralModel\n",
      "    Spatial  model type       : TemplateSpatialModel\n",
      "    Temporal model type       : \n",
      "    Parameters:\n",
      "      norm                          :      1.000   +/-    0.00             \n",
      "      tilt                  (frozen):      0.000                   \n",
      "      reference             (frozen):      1.000       TeV         \n",
      "  \n",
      "  \n"
     ]
    },
    {
     "name": "stderr",
     "output_type": "stream",
     "text": [
      "/nfs/pic.es/user/c/cpriyada/anaconda3/envs/asgardpy/lib/python3.11/site-packages/gammapy/utils/interpolation.py:185: RuntimeWarning: overflow encountered in exp\n",
      "  output = np.exp(values)\n"
     ]
    },
    {
     "name": "stdout",
     "output_type": "stream",
     "text": [
      "MapDataset\n",
      "----------\n",
      "\n",
      "  Name                            : Fermi-LAT_01 \n",
      "\n",
      "  Total counts                    : 22981 \n",
      "  Total background counts         : nan\n",
      "  Total excess counts             : nan\n",
      "\n",
      "  Predicted counts                : 23818.05\n",
      "  Predicted background counts     : nan\n",
      "  Predicted excess counts         : 23818.05\n",
      "\n",
      "  Exposure min                    : 4.52e+10 cm2 s\n",
      "  Exposure max                    : 6.50e+10 cm2 s\n",
      "\n",
      "  Number of total bins            : 1182816 \n",
      "  Number of fit bins              : 186744 \n",
      "\n",
      "  Fit statistic type              : cash\n",
      "  Fit statistic value (-2 log(L)) : 45978.51\n",
      "\n",
      "  Number of models                : 10 \n",
      "  Number of parameters            : 56\n",
      "  Number of free parameters       : 8\n",
      "\n",
      "  Component 0: SkyModel\n",
      "  \n",
      "    Name                      : 4FGL J0534.5+2201i\n",
      "    Datasets names            : ['Fermi-LAT_00', 'Fermi-LAT_01', 'HESS', 'MAGIC']\n",
      "    Spectral model type       : CompoundSpectralModel\n",
      "    Spatial  model type       : GaussianSpatialModel\n",
      "    Temporal model type       : \n",
      "    Parameters:\n",
      "      amplitude                     :   1.00e-06   +/- 1.5e-07 1 / (TeV s cm2)\n",
      "      reference             (frozen):      0.010       TeV         \n",
      "      alpha                         :      1.700   +/-    0.10             \n",
      "      beta                          :      0.100   +/-    0.00             \n",
      "      alpha_norm            (frozen):      1.000                   \n",
      "      redshift              (frozen):      0.000                   \n",
      "      lon_0                 (frozen):    184.553       deg         \n",
      "      lat_0                 (frozen):     -5.781       deg         \n",
      "      sigma                 (frozen):      0.020       deg         \n",
      "      e                     (frozen):      0.000                   \n",
      "      phi                   (frozen):      0.000       deg         \n",
      "  \n",
      "  Component 1: SkyModel\n",
      "  \n",
      "    Name                      : 4FGL J0534.5+2201s\n",
      "    Datasets names            : ['Fermi-LAT_00', 'Fermi-LAT_01']\n",
      "    Spectral model type       : PowerLawSpectralModel\n",
      "    Spatial  model type       : PointSpatialModel\n",
      "    Temporal model type       : \n",
      "    Parameters:\n",
      "      index                 (frozen):      3.802                   \n",
      "      amplitude             (frozen):   3.80e-02       1 / (TeV s cm2)\n",
      "      reference             (frozen):      0.000       TeV         \n",
      "      lon_0                 (frozen):      3.221       rad         \n",
      "      lat_0                 (frozen):     -0.101       rad         \n",
      "  \n",
      "  Component 2: SkyModel\n",
      "  \n",
      "    Name                      : 4FGL J0534.5+2200\n",
      "    Datasets names            : ['Fermi-LAT_00', 'Fermi-LAT_01']\n",
      "    Spectral model type       : ExpCutoffPowerLawSpectralModel\n",
      "    Spatial  model type       : PointSpatialModel\n",
      "    Temporal model type       : \n",
      "    Parameters:\n",
      "      index                 (frozen):      1.883                   \n",
      "      amplitude                     :   7.23e-04   +/- 1.0e-05 1 / (TeV s cm2)\n",
      "      reference             (frozen):      0.001       TeV         \n",
      "      lambda_               (frozen):    295.318       1 / TeV     \n",
      "      alpha                 (frozen):      0.667                   \n",
      "      lon_0                 (frozen):      3.221       rad         \n",
      "      lat_0                 (frozen):     -0.101       rad         \n",
      "  \n",
      "  Component 3: SkyModel\n",
      "  \n",
      "    Name                      : 4FGL J0526.3+2246\n",
      "    Datasets names            : ['Fermi-LAT_00', 'Fermi-LAT_01']\n",
      "    Spectral model type       : PowerLawSpectralModel\n",
      "    Spatial  model type       : PointSpatialModel\n",
      "    Temporal model type       : \n",
      "    Parameters:\n",
      "      index                 (frozen):      2.026                   \n",
      "      amplitude             (frozen):   1.32e-08       1 / (TeV s cm2)\n",
      "      reference             (frozen):      0.005       TeV         \n",
      "      lon_0                 (frozen):      3.192       rad         \n",
      "      lat_0                 (frozen):     -0.121       rad         \n",
      "  \n",
      "  Component 4: SkyModel\n",
      "  \n",
      "    Name                      : 4FGL J0544.4+2238\n",
      "    Datasets names            : ['Fermi-LAT_00', 'Fermi-LAT_01']\n",
      "    Spectral model type       : PowerLawSpectralModel\n",
      "    Spatial  model type       : PointSpatialModel\n",
      "    Temporal model type       : \n",
      "    Parameters:\n",
      "      index                 (frozen):      2.292                   \n",
      "      amplitude             (frozen):   3.25e-08       1 / (TeV s cm2)\n",
      "      reference             (frozen):      0.003       TeV         \n",
      "      lon_0                 (frozen):      3.233       rad         \n",
      "      lat_0                 (frozen):     -0.061       rad         \n",
      "  \n",
      "  Component 5: SkyModel\n",
      "  \n",
      "    Name                      : 4FGL J0528.3+1817\n",
      "    Datasets names            : ['Fermi-LAT_00', 'Fermi-LAT_01']\n",
      "    Spectral model type       : PowerLawSpectralModel\n",
      "    Spatial  model type       : PointSpatialModel\n",
      "    Temporal model type       : \n",
      "    Parameters:\n",
      "      index                 (frozen):      1.683                   \n",
      "      amplitude                     :   1.84e-09   +/- 4.8e-10 1 / (TeV s cm2)\n",
      "      reference             (frozen):      0.010       TeV         \n",
      "      lon_0                 (frozen):      3.263       rad         \n",
      "      lat_0                 (frozen):     -0.157       rad         \n",
      "  \n",
      "  Component 6: SkyModel\n",
      "  \n",
      "    Name                      : 4FGL J0536.2+1733\n",
      "    Datasets names            : ['Fermi-LAT_00', 'Fermi-LAT_01']\n",
      "    Spectral model type       : LogParabolaSpectralModel\n",
      "    Spatial  model type       : PointSpatialModel\n",
      "    Temporal model type       : \n",
      "    Parameters:\n",
      "      amplitude                     :   8.60e-08   +/- 1.2e-08 1 / (TeV s cm2)\n",
      "      reference             (frozen):      0.003       TeV         \n",
      "      alpha                 (frozen):      1.970                   \n",
      "      beta                  (frozen):      0.239                   \n",
      "      lon_0                 (frozen):      3.291       rad         \n",
      "      lat_0                 (frozen):     -0.136       rad         \n",
      "  \n",
      "  Component 7: SkyModel\n",
      "  \n",
      "    Name                      : 4FGL J0540.3+2756e\n",
      "    Datasets names            : ['Fermi-LAT_00', 'Fermi-LAT_01']\n",
      "    Spectral model type       : LogParabolaSpectralModel\n",
      "    Spatial  model type       : TemplateSpatialModel\n",
      "    Temporal model type       : \n",
      "    Parameters:\n",
      "      amplitude             (frozen):   6.24e-06       1 / (TeV s cm2)\n",
      "      reference             (frozen):      0.001       TeV         \n",
      "      alpha                 (frozen):      1.995                   \n",
      "      beta                  (frozen):      0.125                   \n",
      "  \n",
      "  Component 8: SkyModel\n",
      "  \n",
      "    Name                      : diffuse-iem\n",
      "    Datasets names            : ['Fermi-LAT_00', 'Fermi-LAT_01']\n",
      "    Spectral model type       : PowerLawNormSpectralModel\n",
      "    Spatial  model type       : TemplateSpatialModel\n",
      "    Temporal model type       : \n",
      "    Parameters:\n",
      "      norm                          :      1.000   +/-    0.00             \n",
      "      tilt                  (frozen):      0.000                   \n",
      "      reference             (frozen):      1.000       TeV         \n",
      "  \n",
      "  Component 9: SkyModel\n",
      "  \n",
      "    Name                      : fermi-diffuse-iso-01\n",
      "    Datasets names            : ['Fermi-LAT_01']\n",
      "    Spectral model type       : CompoundSpectralModel\n",
      "    Spatial  model type       : ConstantSpatialModel\n",
      "    Temporal model type       : \n",
      "    Parameters:\n",
      "      norm                  (frozen):      1.000                   \n",
      "      norm@CcVZLtgn                 :      1.000   +/-    0.00             \n",
      "      tilt@4fi5GtV0         (frozen):      0.000                   \n",
      "      reference@pgx4AKwK    (frozen):      1.000       TeV         \n",
      "      value                 (frozen):      1.000       1 / sr      \n",
      "  \n",
      "  \n",
      "SpectrumDatasetOnOff\n",
      "--------------------\n",
      "\n",
      "  Name                            : HESS \n",
      "\n",
      "  Total counts                    : 496 \n",
      "  Total background counts         : 62.00\n",
      "  Total excess counts             : 434.00\n",
      "\n",
      "  Predicted counts                : 505.30\n",
      "  Predicted background counts     : 62.01\n",
      "  Predicted excess counts         : 443.28\n",
      "\n",
      "  Exposure min                    : 1.54e+07 m2 s\n",
      "  Exposure max                    : 1.81e+09 m2 s\n",
      "\n",
      "  Number of total bins            : 15 \n",
      "  Number of fit bins              : 11 \n",
      "\n",
      "  Fit statistic type              : wstat\n",
      "  Fit statistic value (-2 log(L)) : 4.54\n",
      "\n",
      "  Number of models                : 1 \n",
      "  Number of parameters            : 11\n",
      "  Number of free parameters       : 3\n",
      "\n",
      "  Component 0: SkyModel\n",
      "  \n",
      "    Name                      : 4FGL J0534.5+2201i\n",
      "    Datasets names            : ['Fermi-LAT_00', 'Fermi-LAT_01', 'HESS', 'MAGIC']\n",
      "    Spectral model type       : CompoundSpectralModel\n",
      "    Spatial  model type       : GaussianSpatialModel\n",
      "    Temporal model type       : \n",
      "    Parameters:\n",
      "      amplitude                     :   1.00e-06   +/- 1.5e-07 1 / (TeV s cm2)\n",
      "      reference             (frozen):      0.010       TeV         \n",
      "      alpha                         :      1.700   +/-    0.10             \n",
      "      beta                          :      0.100   +/-    0.00             \n",
      "      alpha_norm            (frozen):      1.000                   \n",
      "      redshift              (frozen):      0.000                   \n",
      "      lon_0                 (frozen):    184.553       deg         \n",
      "      lat_0                 (frozen):     -5.781       deg         \n",
      "      sigma                 (frozen):      0.020       deg         \n",
      "      e                     (frozen):      0.000                   \n",
      "      phi                   (frozen):      0.000       deg         \n",
      "  \n",
      "    Total counts_off                : 62 \n",
      "  Acceptance                      : 15 \n",
      "  Acceptance off                  : 15 \n",
      "\n",
      "SpectrumDatasetOnOff\n",
      "--------------------\n",
      "\n",
      "  Name                            : MAGIC \n",
      "\n",
      "  Total counts                    : 637 \n",
      "  Total background counts         : 74.67\n",
      "  Total excess counts             : 562.33\n",
      "\n",
      "  Predicted counts                : 841.05\n",
      "  Predicted background counts     : 68.22\n",
      "  Predicted excess counts         : 772.83\n",
      "\n",
      "  Exposure min                    : 8.00e+03 m2 s\n",
      "  Exposure max                    : 3.00e+08 m2 s\n",
      "\n",
      "  Number of total bins            : 17 \n",
      "  Number of fit bins              : 15 \n",
      "\n",
      "  Fit statistic type              : wstat\n",
      "  Fit statistic value (-2 log(L)) : 77.59\n",
      "\n",
      "  Number of models                : 1 \n",
      "  Number of parameters            : 11\n",
      "  Number of free parameters       : 3\n",
      "\n",
      "  Component 0: SkyModel\n",
      "  \n",
      "    Name                      : 4FGL J0534.5+2201i\n",
      "    Datasets names            : ['Fermi-LAT_00', 'Fermi-LAT_01', 'HESS', 'MAGIC']\n",
      "    Spectral model type       : CompoundSpectralModel\n",
      "    Spatial  model type       : GaussianSpatialModel\n",
      "    Temporal model type       : \n",
      "    Parameters:\n",
      "      amplitude                     :   1.00e-06   +/- 1.5e-07 1 / (TeV s cm2)\n",
      "      reference             (frozen):      0.010       TeV         \n",
      "      alpha                         :      1.700   +/-    0.10             \n",
      "      beta                          :      0.100   +/-    0.00             \n",
      "      alpha_norm            (frozen):      1.000                   \n",
      "      redshift              (frozen):      0.000                   \n",
      "      lon_0                 (frozen):    184.553       deg         \n",
      "      lat_0                 (frozen):     -5.781       deg         \n",
      "      sigma                 (frozen):      0.020       deg         \n",
      "      e                     (frozen):      0.000                   \n",
      "      phi                   (frozen):      0.000       deg         \n",
      "  \n",
      "    Total counts_off                : 224 \n",
      "  Acceptance                      : 17 \n",
      "  Acceptance off                  : 51 \n",
      "\n",
      "CPU times: user 42.9 s, sys: 30 s, total: 1min 12s\n",
      "Wall time: 1min 12s\n"
     ]
    }
   ],
   "source": [
    "%%time\n",
    "for d in analysis.datasets:\n",
    "    print(d)      "
   ]
  },
  {
   "cell_type": "code",
   "execution_count": 38,
   "id": "3eb5ca23",
   "metadata": {
    "tags": []
   },
   "outputs": [
    {
     "data": {
      "text/plain": [
       "9"
      ]
     },
     "execution_count": 38,
     "metadata": {},
     "output_type": "execute_result"
    }
   ],
   "source": [
    "len(list(analysis.final_model.parameters.free_parameters))"
   ]
  },
  {
   "cell_type": "markdown",
   "id": "4068c597",
   "metadata": {},
   "source": [
    "# Run the Fit step"
   ]
  },
  {
   "cell_type": "code",
   "execution_count": 39,
   "id": "43568856",
   "metadata": {
    "tags": []
   },
   "outputs": [
    {
     "name": "stderr",
     "output_type": "stream",
     "text": [
      "Perform DL4 to DL5 processes!\n",
      "OptimizeResult\n",
      "\n",
      "\tbackend    : BackendEnum.minuit\n",
      "\tmethod     : migrad\n",
      "\tsuccess    : True\n",
      "\tmessage    : Optimization terminated successfully..\n",
      "\tnfev       : 240\n",
      "\ttotal stat : 66726.67\n",
      "\n",
      "CovarianceResult\n",
      "\n",
      "\tbackend    : BackendEnum.minuit\n",
      "\tmethod     : hesse\n",
      "\tsuccess    : True\n",
      "\tmessage    : Hesse terminated successfully.\n",
      "\n",
      "Analysis Step fit completed\n",
      "The Chi2/dof value of the goodness of Fit is 78.42/63\n",
      "and the p-value is 9.118e-02 and in Significance 1.69 sigmas\n",
      "with TS (H0) as -4441.662 and TS (H1) as -4520.080\n"
     ]
    },
    {
     "name": "stdout",
     "output_type": "stream",
     "text": [
      "CPU times: user 1min 12s, sys: 9.39 s, total: 1min 21s\n",
      "Wall time: 1min 21s\n"
     ]
    }
   ],
   "source": [
    "%%time\n",
    "analysis.run([\"fit\"])"
   ]
  },
  {
   "cell_type": "code",
   "execution_count": null,
   "id": "35c9fd26",
   "metadata": {},
   "outputs": [],
   "source": []
  },
  {
   "cell_type": "code",
   "execution_count": 40,
   "id": "81e1e6ec",
   "metadata": {
    "tags": []
   },
   "outputs": [
    {
     "name": "stdout",
     "output_type": "stream",
     "text": [
      "OptimizeResult\n",
      "\n",
      "\tbackend    : BackendEnum.minuit\n",
      "\tmethod     : migrad\n",
      "\tsuccess    : True\n",
      "\tmessage    : Optimization terminated successfully..\n",
      "\tnfev       : 240\n",
      "\ttotal stat : 66726.67\n",
      "\n",
      "CovarianceResult\n",
      "\n",
      "\tbackend    : BackendEnum.minuit\n",
      "\tmethod     : hesse\n",
      "\tsuccess    : True\n",
      "\tmessage    : Hesse terminated successfully.\n",
      "\n"
     ]
    }
   ],
   "source": [
    "print(analysis.fit_result)"
   ]
  },
  {
   "cell_type": "code",
   "execution_count": 41,
   "id": "3d28d06f",
   "metadata": {
    "scrolled": true,
    "tags": []
   },
   "outputs": [
    {
     "name": "stdout",
     "output_type": "stream",
     "text": [
      "SkyModel\n",
      "\n",
      "  Name                      : 4FGL J0534.5+2201i\n",
      "  Datasets names            : ['Fermi-LAT_00', 'Fermi-LAT_01', 'HESS', 'MAGIC']\n",
      "  Spectral model type       : CompoundSpectralModel\n",
      "  Spatial  model type       : GaussianSpatialModel\n",
      "  Temporal model type       : \n",
      "  Parameters:\n",
      "    amplitude                     :   5.31e-07   +/- 3.0e-08 1 / (TeV s cm2)\n",
      "    reference             (frozen):      0.010       TeV         \n",
      "    alpha                         :      1.637   +/-    0.05             \n",
      "    beta                          :      0.090   +/-    0.01             \n",
      "    alpha_norm            (frozen):      1.000                   \n",
      "    redshift              (frozen):      0.000                   \n",
      "    lon_0                 (frozen):    184.553       deg         \n",
      "    lat_0                 (frozen):     -5.781       deg         \n",
      "    sigma                 (frozen):      0.020       deg         \n",
      "    e                     (frozen):      0.000                   \n",
      "    phi                   (frozen):      0.000       deg         \n",
      "\n",
      "\n",
      "SkyModel\n",
      "\n",
      "  Name                      : 4FGL J0534.5+2201s\n",
      "  Datasets names            : ['Fermi-LAT_00', 'Fermi-LAT_01']\n",
      "  Spectral model type       : PowerLawSpectralModel\n",
      "  Spatial  model type       : PointSpatialModel\n",
      "  Temporal model type       : \n",
      "  Parameters:\n",
      "    index                 (frozen):      3.802                   \n",
      "    amplitude             (frozen):   3.80e-02       1 / (TeV s cm2)\n",
      "    reference             (frozen):      0.000       TeV         \n",
      "    lon_0                 (frozen):      3.221       rad         \n",
      "    lat_0                 (frozen):     -0.101       rad         \n",
      "\n",
      "\n",
      "SkyModel\n",
      "\n",
      "  Name                      : 4FGL J0534.5+2200\n",
      "  Datasets names            : ['Fermi-LAT_00', 'Fermi-LAT_01']\n",
      "  Spectral model type       : ExpCutoffPowerLawSpectralModel\n",
      "  Spatial  model type       : PointSpatialModel\n",
      "  Temporal model type       : \n",
      "  Parameters:\n",
      "    index                 (frozen):      1.883                   \n",
      "    amplitude                     :   7.22e-04   +/- 1.5e-05 1 / (TeV s cm2)\n",
      "    reference             (frozen):      0.001       TeV         \n",
      "    lambda_               (frozen):    295.318       1 / TeV     \n",
      "    alpha                 (frozen):      0.667                   \n",
      "    lon_0                 (frozen):      3.221       rad         \n",
      "    lat_0                 (frozen):     -0.101       rad         \n",
      "\n",
      "\n",
      "SkyModel\n",
      "\n",
      "  Name                      : 4FGL J0526.3+2246\n",
      "  Datasets names            : ['Fermi-LAT_00', 'Fermi-LAT_01']\n",
      "  Spectral model type       : PowerLawSpectralModel\n",
      "  Spatial  model type       : PointSpatialModel\n",
      "  Temporal model type       : \n",
      "  Parameters:\n",
      "    index                 (frozen):      2.026                   \n",
      "    amplitude             (frozen):   1.32e-08       1 / (TeV s cm2)\n",
      "    reference             (frozen):      0.005       TeV         \n",
      "    lon_0                 (frozen):      3.192       rad         \n",
      "    lat_0                 (frozen):     -0.121       rad         \n",
      "\n",
      "\n",
      "SkyModel\n",
      "\n",
      "  Name                      : 4FGL J0544.4+2238\n",
      "  Datasets names            : ['Fermi-LAT_00', 'Fermi-LAT_01']\n",
      "  Spectral model type       : PowerLawSpectralModel\n",
      "  Spatial  model type       : PointSpatialModel\n",
      "  Temporal model type       : \n",
      "  Parameters:\n",
      "    index                 (frozen):      2.292                   \n",
      "    amplitude             (frozen):   3.25e-08       1 / (TeV s cm2)\n",
      "    reference             (frozen):      0.003       TeV         \n",
      "    lon_0                 (frozen):      3.233       rad         \n",
      "    lat_0                 (frozen):     -0.061       rad         \n",
      "\n",
      "\n",
      "SkyModel\n",
      "\n",
      "  Name                      : 4FGL J0528.3+1817\n",
      "  Datasets names            : ['Fermi-LAT_00', 'Fermi-LAT_01']\n",
      "  Spectral model type       : PowerLawSpectralModel\n",
      "  Spatial  model type       : PointSpatialModel\n",
      "  Temporal model type       : \n",
      "  Parameters:\n",
      "    index                 (frozen):      1.683                   \n",
      "    amplitude                     :   2.29e-09   +/- 9.6e-10 1 / (TeV s cm2)\n",
      "    reference             (frozen):      0.010       TeV         \n",
      "    lon_0                 (frozen):      3.263       rad         \n",
      "    lat_0                 (frozen):     -0.157       rad         \n",
      "\n",
      "\n",
      "SkyModel\n",
      "\n",
      "  Name                      : 4FGL J0536.2+1733\n",
      "  Datasets names            : ['Fermi-LAT_00', 'Fermi-LAT_01']\n",
      "  Spectral model type       : LogParabolaSpectralModel\n",
      "  Spatial  model type       : PointSpatialModel\n",
      "  Temporal model type       : \n",
      "  Parameters:\n",
      "    amplitude                     :   7.45e-08   +/- 1.8e-08 1 / (TeV s cm2)\n",
      "    reference             (frozen):      0.003       TeV         \n",
      "    alpha                 (frozen):      1.970                   \n",
      "    beta                  (frozen):      0.239                   \n",
      "    lon_0                 (frozen):      3.291       rad         \n",
      "    lat_0                 (frozen):     -0.136       rad         \n",
      "\n",
      "\n",
      "SkyModel\n",
      "\n",
      "  Name                      : 4FGL J0540.3+2756e\n",
      "  Datasets names            : ['Fermi-LAT_00', 'Fermi-LAT_01']\n",
      "  Spectral model type       : LogParabolaSpectralModel\n",
      "  Spatial  model type       : TemplateSpatialModel\n",
      "  Temporal model type       : \n",
      "  Parameters:\n",
      "    amplitude             (frozen):   6.24e-06       1 / (TeV s cm2)\n",
      "    reference             (frozen):      0.001       TeV         \n",
      "    alpha                 (frozen):      1.995                   \n",
      "    beta                  (frozen):      0.125                   \n",
      "\n",
      "\n",
      "SkyModel\n",
      "\n",
      "  Name                      : fermi-diffuse-iso-00\n",
      "  Datasets names            : ['Fermi-LAT_00']\n",
      "  Spectral model type       : CompoundSpectralModel\n",
      "  Spatial  model type       : ConstantSpatialModel\n",
      "  Temporal model type       : \n",
      "  Parameters:\n",
      "    norm                  (frozen):      1.000                   \n",
      "    norm@CcVZLtgn                 :      3.492   +/-    0.27             \n",
      "    tilt@4fi5GtV0         (frozen):      0.000                   \n",
      "    reference@pgx4AKwK    (frozen):      1.000       TeV         \n",
      "    value                 (frozen):      1.000       1 / sr      \n",
      "\n",
      "\n",
      "SkyModel\n",
      "\n",
      "  Name                      : diffuse-iem\n",
      "  Datasets names            : ['Fermi-LAT_00', 'Fermi-LAT_01']\n",
      "  Spectral model type       : PowerLawNormSpectralModel\n",
      "  Spatial  model type       : TemplateSpatialModel\n",
      "  Temporal model type       : \n",
      "  Parameters:\n",
      "    norm                          :      0.915   +/-    0.02             \n",
      "    tilt                  (frozen):      0.000                   \n",
      "    reference             (frozen):      1.000       TeV         \n",
      "\n",
      "\n"
     ]
    }
   ],
   "source": [
    "for m in analysis.datasets[0].models:\n",
    "    print(m)"
   ]
  },
  {
   "cell_type": "markdown",
   "id": "a034c627",
   "metadata": {},
   "source": [
    "# Run the Flux Points Estimator step"
   ]
  },
  {
   "cell_type": "code",
   "execution_count": 42,
   "id": "81715275",
   "metadata": {
    "scrolled": true,
    "tags": []
   },
   "outputs": [
    {
     "name": "stderr",
     "output_type": "stream",
     "text": [
      "Perform DL4 to DL5 processes!\n",
      "Using 10 processes to compute Energy bins\n",
      "/nfs/pic.es/user/c/cpriyada/anaconda3/envs/asgardpy/lib/python3.11/site-packages/gammapy/utils/interpolation.py:185: RuntimeWarning: overflow encountered in exp\n",
      "  output = np.exp(values)\n",
      "/nfs/pic.es/user/c/cpriyada/anaconda3/envs/asgardpy/lib/python3.11/site-packages/gammapy/utils/interpolation.py:185: RuntimeWarning: overflow encountered in exp\n",
      "  output = np.exp(values)\n",
      "/nfs/pic.es/user/c/cpriyada/anaconda3/envs/asgardpy/lib/python3.11/site-packages/gammapy/utils/interpolation.py:185: RuntimeWarning: overflow encountered in exp\n",
      "  output = np.exp(values)\n",
      "/nfs/pic.es/user/c/cpriyada/anaconda3/envs/asgardpy/lib/python3.11/site-packages/gammapy/utils/interpolation.py:185: RuntimeWarning: overflow encountered in exp\n",
      "  output = np.exp(values)\n",
      "/nfs/pic.es/user/c/cpriyada/anaconda3/envs/asgardpy/lib/python3.11/site-packages/gammapy/utils/interpolation.py:185: RuntimeWarning: overflow encountered in exp\n",
      "  output = np.exp(values)\n",
      "/nfs/pic.es/user/c/cpriyada/anaconda3/envs/asgardpy/lib/python3.11/site-packages/gammapy/utils/interpolation.py:185: RuntimeWarning: overflow encountered in exp\n",
      "  output = np.exp(values)\n",
      "/nfs/pic.es/user/c/cpriyada/anaconda3/envs/asgardpy/lib/python3.11/site-packages/gammapy/utils/interpolation.py:185: RuntimeWarning: overflow encountered in exp\n",
      "  output = np.exp(values)\n",
      "/nfs/pic.es/user/c/cpriyada/anaconda3/envs/asgardpy/lib/python3.11/site-packages/gammapy/utils/interpolation.py:185: RuntimeWarning: overflow encountered in exp\n",
      "  output = np.exp(values)\n",
      "/nfs/pic.es/user/c/cpriyada/anaconda3/envs/asgardpy/lib/python3.11/site-packages/gammapy/utils/interpolation.py:185: RuntimeWarning: overflow encountered in exp\n",
      "  output = np.exp(values)\n",
      "/nfs/pic.es/user/c/cpriyada/anaconda3/envs/asgardpy/lib/python3.11/site-packages/gammapy/utils/interpolation.py:185: RuntimeWarning: overflow encountered in exp\n",
      "  output = np.exp(values)\n",
      "/nfs/pic.es/user/c/cpriyada/anaconda3/envs/asgardpy/lib/python3.11/site-packages/gammapy/utils/interpolation.py:185: RuntimeWarning: overflow encountered in exp\n",
      "  output = np.exp(values)\n",
      "/nfs/pic.es/user/c/cpriyada/anaconda3/envs/asgardpy/lib/python3.11/site-packages/gammapy/utils/interpolation.py:185: RuntimeWarning: overflow encountered in exp\n",
      "  output = np.exp(values)\n",
      "Using 10 processes to compute Energy bins\n",
      "Using 10 processes to compute Energy bins\n",
      "Analysis Step flux-points completed\n",
      "The Chi2/dof value of the goodness of Fit is 78.42/63\n",
      "and the p-value is 9.118e-02 and in Significance 1.69 sigmas\n",
      "with TS (H0) as -4441.662 and TS (H1) as -4520.080\n"
     ]
    },
    {
     "name": "stdout",
     "output_type": "stream",
     "text": [
      "CPU times: user 8.47 s, sys: 7.41 s, total: 15.9 s\n",
      "Wall time: 1min 35s\n"
     ]
    }
   ],
   "source": [
    "%%time\n",
    "analysis.run([\"flux-points\"])"
   ]
  },
  {
   "cell_type": "code",
   "execution_count": null,
   "id": "29404c38",
   "metadata": {},
   "outputs": [],
   "source": []
  },
  {
   "cell_type": "code",
   "execution_count": 43,
   "id": "4ccc15be",
   "metadata": {
    "tags": []
   },
   "outputs": [
    {
     "name": "stdout",
     "output_type": "stream",
     "text": [
      "FluxPoints\n",
      "----------\n",
      "\n",
      "  geom                   : RegionGeom\n",
      "  axes                   : ['lon', 'lat', 'energy']\n",
      "  shape                  : (1, 1, 6)\n",
      "  quantities             : ['norm', 'norm_err', 'norm_errn', 'norm_errp', 'norm_ul', 'ts', 'npred', 'npred_excess', 'stat', 'counts', 'success', 'stat_scan']\n",
      "  ref. model             : compound\n",
      "  n_sigma                : 1\n",
      "  n_sigma_ul             : 2\n",
      "  sqrt_ts_threshold_ul   : 2\n",
      "  sed type init          : likelihood\n",
      "\n",
      "FluxPoints\n",
      "----------\n",
      "\n",
      "  geom                   : RegionGeom\n",
      "  axes                   : ['lon', 'lat', 'energy']\n",
      "  shape                  : (1, 1, 15)\n",
      "  quantities             : ['norm', 'norm_err', 'norm_errn', 'norm_errp', 'norm_ul', 'ts', 'npred', 'npred_excess', 'stat', 'counts', 'success', 'stat_scan']\n",
      "  ref. model             : compound\n",
      "  n_sigma                : 1\n",
      "  n_sigma_ul             : 2\n",
      "  sqrt_ts_threshold_ul   : 2\n",
      "  sed type init          : likelihood\n",
      "\n",
      "FluxPoints\n",
      "----------\n",
      "\n",
      "  geom                   : RegionGeom\n",
      "  axes                   : ['lon', 'lat', 'energy']\n",
      "  shape                  : (1, 1, 8)\n",
      "  quantities             : ['norm', 'norm_err', 'norm_errn', 'norm_errp', 'norm_ul', 'ts', 'npred', 'npred_excess', 'stat', 'counts', 'success', 'stat_scan']\n",
      "  ref. model             : compound\n",
      "  n_sigma                : 1\n",
      "  n_sigma_ul             : 2\n",
      "  sqrt_ts_threshold_ul   : 2\n",
      "  sed type init          : likelihood\n",
      "\n"
     ]
    }
   ],
   "source": [
    "for fp in analysis.flux_points:\n",
    "    print(fp)"
   ]
  },
  {
   "cell_type": "code",
   "execution_count": null,
   "id": "9b599324",
   "metadata": {},
   "outputs": [],
   "source": []
  },
  {
   "cell_type": "code",
   "execution_count": 44,
   "id": "c583f0d2",
   "metadata": {
    "scrolled": true,
    "tags": []
   },
   "outputs": [
    {
     "data": {
      "text/html": [
       "<div><i>Table length=6</i>\n",
       "<table id=\"table47324081827728\" class=\"table-striped table-bordered table-condensed\">\n",
       "<thead><tr><th>e_ref</th><th>e_min</th><th>e_max</th><th>e2dnde</th><th>e2dnde_err</th><th>e2dnde_errp</th><th>e2dnde_errn</th><th>e2dnde_ul</th><th>ts</th><th>sqrt_ts</th><th>npred</th><th>npred_excess</th><th>stat</th><th>is_ul</th><th>counts</th><th>success</th><th>norm_scan</th><th>stat_scan</th></tr></thead>\n",
       "<thead><tr><th>TeV</th><th>TeV</th><th>TeV</th><th>TeV / (s cm2)</th><th>TeV / (s cm2)</th><th>TeV / (s cm2)</th><th>TeV / (s cm2)</th><th>TeV / (s cm2)</th><th></th><th></th><th></th><th></th><th></th><th></th><th></th><th></th><th></th><th></th></tr></thead>\n",
       "<thead><tr><th>float64</th><th>float64</th><th>float64</th><th>float64</th><th>float64</th><th>float64</th><th>float64</th><th>float64</th><th>float64</th><th>float64</th><th>float64[2]</th><th>float32[2]</th><th>float64</th><th>bool</th><th>float64[2]</th><th>bool</th><th>float64[11]</th><th>float64[11]</th></tr></thead>\n",
       "<tr><td>0.002</td><td>0.001</td><td>0.003</td><td>1.904e-11</td><td>1.713e-12</td><td>1.718e-12</td><td>1.708e-12</td><td>2.248e-11</td><td>132.409</td><td>11.507</td><td>18406.1896503111 .. 18167.889204201045</td><td>739.8858 .. 729.18054</td><td>41070.631</td><td>False</td><td>18690.0 .. 18376.0</td><td>True</td><td>0.200 .. 5.000</td><td>41148.291 .. 43182.078</td></tr>\n",
       "<tr><td>0.005</td><td>0.003</td><td>0.007</td><td>4.434e-11</td><td>2.781e-12</td><td>2.798e-12</td><td>2.764e-12</td><td>4.996e-11</td><td>317.561</td><td>17.820</td><td>3467.917154889711 .. 3416.865889642386</td><td>481.40283 .. 473.42636</td><td>15444.329</td><td>False</td><td>3315.0 .. 3379.0</td><td>True</td><td>0.200 .. 5.000</td><td>15650.453 .. 17279.751</td></tr>\n",
       "<tr><td>0.013</td><td>0.007</td><td>0.024</td><td>5.970e-11</td><td>3.137e-12</td><td>3.171e-12</td><td>3.104e-12</td><td>6.611e-11</td><td>680.651</td><td>26.089</td><td>1103.6602333447029 .. 1031.4178373738032</td><td>330.35645 .. 307.93954</td><td>6880.904</td><td>False</td><td>973.0 .. 967.0</td><td>True</td><td>0.200 .. 5.000</td><td>7245.768 .. 9189.239</td></tr>\n",
       "<tr><td>0.042</td><td>0.024</td><td>0.075</td><td>7.018e-11</td><td>4.653e-12</td><td>4.750e-12</td><td>4.560e-12</td><td>7.992e-11</td><td>1064.400</td><td>32.625</td><td>226.81441683686418 .. 207.84945578570608</td><td>130.53085 .. 119.58369</td><td>2243.690</td><td>False</td><td>215.0 .. 193.0</td><td>True</td><td>0.200 .. 5.000</td><td>2553.129 .. 3510.022</td></tr>\n",
       "<tr><td>0.115</td><td>0.075</td><td>0.178</td><td>6.850e-11</td><td>8.447e-12</td><td>8.794e-12</td><td>8.106e-12</td><td>8.679e-11</td><td>703.220</td><td>26.518</td><td>48.742262563645454 .. 42.18797404139225</td><td>35.683304 .. 30.900799</td><td>715.637</td><td>False</td><td>52.0 .. 45.0</td><td>True</td><td>0.200 .. 5.000</td><td>810.906 .. 1085.323</td></tr>\n",
       "<tr><td>0.316</td><td>0.178</td><td>0.562</td><td>5.596e-11</td><td>1.078e-11</td><td>1.148e-11</td><td>1.010e-11</td><td>8.036e-11</td><td>365.428</td><td>19.116</td><td>18.881619027485424 .. 15.37276315477381</td><td>14.933166 .. 12.159815</td><td>263.386</td><td>False</td><td>15.0 .. 19.0</td><td>True</td><td>0.200 .. 5.000</td><td>301.514 .. 422.281</td></tr>\n",
       "</table></div>"
      ],
      "text/plain": [
       "<Table length=6>\n",
       " e_ref   e_min   e_max  ... success   norm_scan          stat_scan       \n",
       "  TeV     TeV     TeV   ...                                              \n",
       "float64 float64 float64 ...   bool   float64[11]        float64[11]      \n",
       "------- ------- ------- ... ------- -------------- ----------------------\n",
       "  0.002   0.001   0.003 ...    True 0.200 .. 5.000 41148.291 .. 43182.078\n",
       "  0.005   0.003   0.007 ...    True 0.200 .. 5.000 15650.453 .. 17279.751\n",
       "  0.013   0.007   0.024 ...    True 0.200 .. 5.000   7245.768 .. 9189.239\n",
       "  0.042   0.024   0.075 ...    True 0.200 .. 5.000   2553.129 .. 3510.022\n",
       "  0.115   0.075   0.178 ...    True 0.200 .. 5.000    810.906 .. 1085.323\n",
       "  0.316   0.178   0.562 ...    True 0.200 .. 5.000     301.514 .. 422.281"
      ]
     },
     "execution_count": 44,
     "metadata": {},
     "output_type": "execute_result"
    }
   ],
   "source": [
    "fermi_fpt = analysis.flux_points[0].to_table(sed_type=\"e2dnde\", formatted=True)\n",
    "fermi_fpt"
   ]
  },
  {
   "cell_type": "code",
   "execution_count": 45,
   "id": "728035db",
   "metadata": {
    "tags": []
   },
   "outputs": [
    {
     "data": {
      "text/plain": [
       "<matplotlib.legend.Legend at 0x2b0a7db9d150>"
      ]
     },
     "execution_count": 45,
     "metadata": {},
     "output_type": "execute_result"
    },
    {
     "data": {
      "image/png": "[encoded data removed]",
      "text/plain": [
       "<Figure size 640x480 with 1 Axes>"
      ]
     },
     "metadata": {},
     "output_type": "display_data"
    }
   ],
   "source": [
    "analysis.flux_points[0].plot(sed_type=\"e2dnde\", color=\"red\", label=\"Fermi-LAT\")\n",
    "analysis.datasets[0].models[config_main.target.source_name].spectral_model.plot(\n",
    "    sed_type=\"e2dnde\", energy_bounds=[70 * u.MeV,10 * u.TeV]\n",
    ")\n",
    "analysis.datasets[0].models[config_main.target.source_name].spectral_model.plot_error(\n",
    "    sed_type=\"e2dnde\", energy_bounds=[70 * u.MeV,10 * u.TeV]\n",
    ")\n",
    "\n",
    "plt.grid(which=\"both\")\n",
    "plt.legend()"
   ]
  },
  {
   "cell_type": "code",
   "execution_count": null,
   "id": "78b08352",
   "metadata": {},
   "outputs": [],
   "source": []
  },
  {
   "cell_type": "code",
   "execution_count": 46,
   "id": "b41dab1e",
   "metadata": {
    "scrolled": true,
    "tags": []
   },
   "outputs": [
    {
     "data": {
      "text/html": [
       "<div><i>Table length=15</i>\n",
       "<table id=\"table47324060489680\" class=\"table-striped table-bordered table-condensed\">\n",
       "<thead><tr><th>e_ref</th><th>e_min</th><th>e_max</th><th>e2dnde</th><th>e2dnde_err</th><th>e2dnde_errp</th><th>e2dnde_errn</th><th>e2dnde_ul</th><th>ts</th><th>sqrt_ts</th><th>npred</th><th>npred_excess</th><th>stat</th><th>is_ul</th><th>counts</th><th>success</th><th>norm_scan</th><th>stat_scan</th></tr></thead>\n",
       "<thead><tr><th>TeV</th><th>TeV</th><th>TeV</th><th>TeV / (s cm2)</th><th>TeV / (s cm2)</th><th>TeV / (s cm2)</th><th>TeV / (s cm2)</th><th>TeV / (s cm2)</th><th></th><th></th><th></th><th></th><th></th><th></th><th></th><th></th><th></th><th></th></tr></thead>\n",
       "<thead><tr><th>float64</th><th>float64</th><th>float64</th><th>float64</th><th>float64</th><th>float64</th><th>float64</th><th>float64</th><th>float64</th><th>float64</th><th>float64[1]</th><th>float32[1]</th><th>float64</th><th>bool</th><th>float64[1]</th><th>bool</th><th>float64[11]</th><th>float64[11]</th></tr></thead>\n",
       "<tr><td>0.126</td><td>0.100</td><td>0.158</td><td>nan</td><td>nan</td><td>nan</td><td>nan</td><td>nan</td><td>nan</td><td>nan</td><td>nan</td><td>0.0</td><td>0.000</td><td>False</td><td>0.0</td><td>False</td><td>0.200 .. 5.000</td><td>nan .. nan</td></tr>\n",
       "<tr><td>0.200</td><td>0.158</td><td>0.251</td><td>nan</td><td>nan</td><td>nan</td><td>nan</td><td>nan</td><td>nan</td><td>nan</td><td>nan</td><td>0.0</td><td>0.000</td><td>False</td><td>0.0</td><td>False</td><td>0.200 .. 5.000</td><td>nan .. nan</td></tr>\n",
       "<tr><td>0.316</td><td>0.251</td><td>0.398</td><td>nan</td><td>nan</td><td>nan</td><td>nan</td><td>nan</td><td>nan</td><td>nan</td><td>nan</td><td>0.0</td><td>0.000</td><td>False</td><td>0.0</td><td>False</td><td>0.200 .. 5.000</td><td>nan .. nan</td></tr>\n",
       "<tr><td>0.501</td><td>0.398</td><td>0.631</td><td>nan</td><td>nan</td><td>nan</td><td>nan</td><td>nan</td><td>nan</td><td>nan</td><td>nan</td><td>0.0</td><td>0.000</td><td>False</td><td>0.0</td><td>False</td><td>0.200 .. 5.000</td><td>nan .. nan</td></tr>\n",
       "<tr><td>0.794</td><td>0.631</td><td>1.000</td><td>5.558e-11</td><td>4.623e-12</td><td>4.701e-12</td><td>4.551e-12</td><td>6.517e-11</td><td>163.720</td><td>12.795</td><td>217.9272507989022</td><td>188.91757</td><td>0.000</td><td>False</td><td>218.0</td><td>True</td><td>0.200 .. 5.000</td><td>117.350 .. 612.590</td></tr>\n",
       "<tr><td>1.259</td><td>1.000</td><td>1.585</td><td>3.664e-11</td><td>3.912e-12</td><td>4.022e-12</td><td>3.808e-12</td><td>4.491e-11</td><td>105.412</td><td>10.267</td><td>106.99867788947674</td><td>99.99859</td><td>0.000</td><td>False</td><td>107.0</td><td>True</td><td>0.200 .. 5.000</td><td>70.619 .. 481.661</td></tr>\n",
       "<tr><td>1.995</td><td>1.585</td><td>2.512</td><td>3.037e-11</td><td>4.152e-12</td><td>4.270e-12</td><td>4.043e-12</td><td>3.916e-11</td><td>60.827</td><td>7.799</td><td>79.02028293629816</td><td>69.02285</td><td>0.000</td><td>False</td><td>79.0</td><td>True</td><td>0.200 .. 5.000</td><td>41.252 .. 288.215</td></tr>\n",
       "<tr><td>3.162</td><td>2.512</td><td>3.981</td><td>2.149e-11</td><td>3.948e-12</td><td>4.089e-12</td><td>3.825e-12</td><td>2.997e-11</td><td>33.206</td><td>5.762</td><td>47.00093676770746</td><td>40.001076</td><td>0.000</td><td>False</td><td>47.0</td><td>True</td><td>0.200 .. 5.000</td><td>21.854 .. 181.516</td></tr>\n",
       "<tr><td>5.012</td><td>3.981</td><td>6.310</td><td>1.273e-11</td><td>3.875e-12</td><td>4.036e-12</td><td>3.758e-12</td><td>2.119e-11</td><td>11.565</td><td>3.401</td><td>24.000236968467036</td><td>18.000296</td><td>0.000</td><td>False</td><td>24.0</td><td>True</td><td>0.200 .. 5.000</td><td>6.726 .. 106.798</td></tr>\n",
       "<tr><td>7.943</td><td>6.310</td><td>10.000</td><td>1.289e-11</td><td>4.088e-12</td><td>4.366e-12</td><td>3.872e-12</td><td>2.225e-11</td><td>11.252</td><td>3.354</td><td>14.995676177607624</td><td>12.995099</td><td>0.000</td><td>False</td><td>15.0</td><td>True</td><td>0.200 .. 5.000</td><td>8.043 .. 42.679</td></tr>\n",
       "<tr><td>12.589</td><td>10.000</td><td>15.849</td><td>4.349e-12</td><td>3.241e-12</td><td>3.614e-12</td><td>3.095e-12</td><td>1.252e-11</td><td>1.927</td><td>1.388</td><td>4.000306321852083</td><td>3.000383</td><td>0.000</td><td>True</td><td>4.0</td><td>True</td><td>0.200 .. 5.000</td><td>0.880 .. 28.429</td></tr>\n",
       "<tr><td>19.953</td><td>15.849</td><td>25.119</td><td>4.422e-12</td><td>3.127e-12</td><td>3.905e-12</td><td>2.464e-12</td><td>1.392e-11</td><td>2.773</td><td>1.665</td><td>1.9989080693014152</td><td>1.998908</td><td>0.000</td><td>True</td><td>2.0</td><td>True</td><td>0.200 .. 5.000</td><td>1.934 .. 10.332</td></tr>\n",
       "<tr><td>31.623</td><td>25.119</td><td>39.811</td><td>5.536e-19</td><td>3.066e-16</td><td>1.637e-12</td><td>nan</td><td>6.547e-12</td><td>-0.000</td><td>0.000</td><td>1.6909984914841924e-07</td><td>1.6909985e-07</td><td>0.000</td><td>True</td><td>0.0</td><td>True</td><td>0.200 .. 5.000</td><td>0.350 .. 8.747</td></tr>\n",
       "<tr><td>50.119</td><td>39.811</td><td>63.096</td><td>nan</td><td>nan</td><td>nan</td><td>nan</td><td>nan</td><td>nan</td><td>nan</td><td>nan</td><td>0.0</td><td>0.000</td><td>False</td><td>0.0</td><td>False</td><td>0.200 .. 5.000</td><td>nan .. nan</td></tr>\n",
       "<tr><td>79.433</td><td>63.096</td><td>100.000</td><td>nan</td><td>nan</td><td>nan</td><td>nan</td><td>nan</td><td>nan</td><td>nan</td><td>nan</td><td>0.0</td><td>0.000</td><td>False</td><td>0.0</td><td>False</td><td>0.200 .. 5.000</td><td>nan .. nan</td></tr>\n",
       "</table></div>"
      ],
      "text/plain": [
       "<Table length=15>\n",
       " e_ref   e_min   e_max  ... success   norm_scan        stat_scan     \n",
       "  TeV     TeV     TeV   ...                                          \n",
       "float64 float64 float64 ...   bool   float64[11]      float64[11]    \n",
       "------- ------- ------- ... ------- -------------- ------------------\n",
       "  0.126   0.100   0.158 ...   False 0.200 .. 5.000         nan .. nan\n",
       "  0.200   0.158   0.251 ...   False 0.200 .. 5.000         nan .. nan\n",
       "  0.316   0.251   0.398 ...   False 0.200 .. 5.000         nan .. nan\n",
       "  0.501   0.398   0.631 ...   False 0.200 .. 5.000         nan .. nan\n",
       "  0.794   0.631   1.000 ...    True 0.200 .. 5.000 117.350 .. 612.590\n",
       "  1.259   1.000   1.585 ...    True 0.200 .. 5.000  70.619 .. 481.661\n",
       "  1.995   1.585   2.512 ...    True 0.200 .. 5.000  41.252 .. 288.215\n",
       "  3.162   2.512   3.981 ...    True 0.200 .. 5.000  21.854 .. 181.516\n",
       "  5.012   3.981   6.310 ...    True 0.200 .. 5.000   6.726 .. 106.798\n",
       "  7.943   6.310  10.000 ...    True 0.200 .. 5.000    8.043 .. 42.679\n",
       " 12.589  10.000  15.849 ...    True 0.200 .. 5.000    0.880 .. 28.429\n",
       " 19.953  15.849  25.119 ...    True 0.200 .. 5.000    1.934 .. 10.332\n",
       " 31.623  25.119  39.811 ...    True 0.200 .. 5.000     0.350 .. 8.747\n",
       " 50.119  39.811  63.096 ...   False 0.200 .. 5.000         nan .. nan\n",
       " 79.433  63.096 100.000 ...   False 0.200 .. 5.000         nan .. nan"
      ]
     },
     "execution_count": 46,
     "metadata": {},
     "output_type": "execute_result"
    }
   ],
   "source": [
    "hess_fpt = analysis.flux_points[1].to_table(sed_type=\"e2dnde\", formatted=True)\n",
    "hess_fpt"
   ]
  },
  {
   "cell_type": "code",
   "execution_count": 47,
   "id": "d0026990",
   "metadata": {
    "tags": []
   },
   "outputs": [
    {
     "data": {
      "text/plain": [
       "<matplotlib.legend.Legend at 0x2b0a7db9d690>"
      ]
     },
     "execution_count": 47,
     "metadata": {},
     "output_type": "execute_result"
    },
    {
     "data": {
      "image/png": "[encoded data removed]",
      "text/plain": [
       "<Figure size 640x480 with 1 Axes>"
      ]
     },
     "metadata": {},
     "output_type": "display_data"
    }
   ],
   "source": [
    "analysis.flux_points[1].plot(sed_type=\"e2dnde\", color=\"red\", label=\"HESS\")\n",
    "analysis.datasets[1].models[0].spectral_model.plot(\n",
    "    sed_type=\"e2dnde\", energy_bounds=[10 * u.GeV, 40 * u.TeV]\n",
    ")\n",
    "analysis.datasets[1].models[0].spectral_model.plot_error(\n",
    "    sed_type=\"e2dnde\", energy_bounds=[10 * u.GeV, 40 * u.TeV]\n",
    ")\n",
    "\n",
    "plt.grid(which=\"both\")\n",
    "plt.legend()"
   ]
  },
  {
   "cell_type": "code",
   "execution_count": 48,
   "id": "3be276f3",
   "metadata": {
    "tags": []
   },
   "outputs": [
    {
     "data": {
      "text/html": [
       "<div><i>Table length=8</i>\n",
       "<table id=\"table47324055782480\" class=\"table-striped table-bordered table-condensed\">\n",
       "<thead><tr><th>e_ref</th><th>e_min</th><th>e_max</th><th>e2dnde</th><th>e2dnde_err</th><th>e2dnde_errp</th><th>e2dnde_errn</th><th>e2dnde_ul</th><th>ts</th><th>sqrt_ts</th><th>npred</th><th>npred_excess</th><th>stat</th><th>is_ul</th><th>counts</th><th>success</th><th>norm_scan</th><th>stat_scan</th></tr></thead>\n",
       "<thead><tr><th>TeV</th><th>TeV</th><th>TeV</th><th>TeV / (s cm2)</th><th>TeV / (s cm2)</th><th>TeV / (s cm2)</th><th>TeV / (s cm2)</th><th>TeV / (s cm2)</th><th></th><th></th><th></th><th></th><th></th><th></th><th></th><th></th><th></th><th></th></tr></thead>\n",
       "<thead><tr><th>float64</th><th>float64</th><th>float64</th><th>float64</th><th>float64</th><th>float64</th><th>float64</th><th>float64</th><th>float64</th><th>float64</th><th>float64[1]</th><th>float32[1]</th><th>float64</th><th>bool</th><th>float64[1]</th><th>bool</th><th>float64[11]</th><th>float64[11]</th></tr></thead>\n",
       "<tr><td>0.098</td><td>0.078</td><td>0.122</td><td>nan</td><td>nan</td><td>nan</td><td>nan</td><td>nan</td><td>nan</td><td>nan</td><td>nan</td><td>0.0</td><td>0.000</td><td>False</td><td>0.0</td><td>False</td><td>0.200 .. 5.000</td><td>nan .. nan</td></tr>\n",
       "<tr><td>0.153</td><td>0.122</td><td>0.191</td><td>6.379e-11</td><td>6.205e-12</td><td>6.332e-12</td><td>6.081e-12</td><td>7.671e-11</td><td>166.102</td><td>12.888</td><td>202.00329075974435</td><td>152.00356</td><td>0.000</td><td>False</td><td>202.0</td><td>True</td><td>0.200 .. 5.000</td><td>89.538 .. 817.629</td></tr>\n",
       "<tr><td>0.239</td><td>0.191</td><td>0.299</td><td>6.527e-11</td><td>6.027e-12</td><td>6.186e-12</td><td>5.872e-12</td><td>7.797e-11</td><td>233.958</td><td>15.296</td><td>146.98039411993855</td><td>133.31313</td><td>0.000</td><td>False</td><td>147.0</td><td>True</td><td>0.200 .. 5.000</td><td>129.716 .. 655.401</td></tr>\n",
       "<tr><td>0.374</td><td>0.299</td><td>0.468</td><td>7.190e-11</td><td>6.767e-12</td><td>6.960e-12</td><td>6.578e-12</td><td>8.622e-11</td><td>244.148</td><td>15.625</td><td>129.98972323995142</td><td>122.32285</td><td>0.000</td><td>False</td><td>130.0</td><td>True</td><td>0.200 .. 5.000</td><td>152.457 .. 424.661</td></tr>\n",
       "<tr><td>0.585</td><td>0.468</td><td>0.731</td><td>4.386e-11</td><td>5.876e-12</td><td>6.132e-12</td><td>5.624e-12</td><td>5.664e-11</td><td>138.613</td><td>11.773</td><td>58.01611061865924</td><td>57.016205</td><td>0.000</td><td>False</td><td>58.0</td><td>True</td><td>0.200 .. 5.000</td><td>67.082 .. 361.501</td></tr>\n",
       "<tr><td>0.914</td><td>0.731</td><td>1.143</td><td>5.571e-11</td><td>7.767e-12</td><td>8.113e-12</td><td>7.436e-12</td><td>7.266e-11</td><td>119.293</td><td>10.922</td><td>55.976964206947144</td><td>53.97669</td><td>0.000</td><td>False</td><td>56.0</td><td>True</td><td>0.200 .. 5.000</td><td>77.355 .. 164.683</td></tr>\n",
       "<tr><td>1.430</td><td>1.143</td><td>1.788</td><td>2.858e-11</td><td>6.354e-12</td><td>6.818e-12</td><td>5.904e-12</td><td>4.317e-11</td><td>50.664</td><td>7.118</td><td>21.008982415342484</td><td>20.675697</td><td>0.000</td><td>False</td><td>21.0</td><td>True</td><td>0.200 .. 5.000</td><td>23.910 .. 136.553</td></tr>\n",
       "<tr><td>2.236</td><td>1.788</td><td>2.796</td><td>2.943e-11</td><td>7.603e-12</td><td>8.282e-12</td><td>6.972e-12</td><td>4.744e-11</td><td>41.589</td><td>6.449</td><td>14.974778931827528</td><td>14.974779</td><td>0.000</td><td>False</td><td>15.0</td><td>True</td><td>0.200 .. 5.000</td><td>25.007 .. 62.362</td></tr>\n",
       "</table></div>"
      ],
      "text/plain": [
       "<Table length=8>\n",
       " e_ref   e_min   e_max  ... success   norm_scan        stat_scan     \n",
       "  TeV     TeV     TeV   ...                                          \n",
       "float64 float64 float64 ...   bool   float64[11]      float64[11]    \n",
       "------- ------- ------- ... ------- -------------- ------------------\n",
       "  0.098   0.078   0.122 ...   False 0.200 .. 5.000         nan .. nan\n",
       "  0.153   0.122   0.191 ...    True 0.200 .. 5.000  89.538 .. 817.629\n",
       "  0.239   0.191   0.299 ...    True 0.200 .. 5.000 129.716 .. 655.401\n",
       "  0.374   0.299   0.468 ...    True 0.200 .. 5.000 152.457 .. 424.661\n",
       "  0.585   0.468   0.731 ...    True 0.200 .. 5.000  67.082 .. 361.501\n",
       "  0.914   0.731   1.143 ...    True 0.200 .. 5.000  77.355 .. 164.683\n",
       "  1.430   1.143   1.788 ...    True 0.200 .. 5.000  23.910 .. 136.553\n",
       "  2.236   1.788   2.796 ...    True 0.200 .. 5.000   25.007 .. 62.362"
      ]
     },
     "execution_count": 48,
     "metadata": {},
     "output_type": "execute_result"
    }
   ],
   "source": [
    "magic_fpt = analysis.flux_points[2].to_table(sed_type=\"e2dnde\", formatted=True)\n",
    "magic_fpt"
   ]
  },
  {
   "cell_type": "code",
   "execution_count": 49,
   "id": "27c00ea4-3398-4090-bbb0-e55b4245f81a",
   "metadata": {
    "tags": []
   },
   "outputs": [
    {
     "data": {
      "text/plain": [
       "<matplotlib.legend.Legend at 0x2b0a7f1dad50>"
      ]
     },
     "execution_count": 49,
     "metadata": {},
     "output_type": "execute_result"
    },
    {
     "data": {
      "image/png": "[encoded data removed]",
      "text/plain": [
       "<Figure size 640x480 with 1 Axes>"
      ]
     },
     "metadata": {},
     "output_type": "display_data"
    }
   ],
   "source": [
    "analysis.flux_points[2].plot(sed_type=\"e2dnde\", color=\"red\", label=\"MAGIC\")\n",
    "analysis.datasets[2].models[0].spectral_model.plot(\n",
    "    sed_type=\"e2dnde\", energy_bounds=[10 * u.GeV, 40 * u.TeV]\n",
    ")\n",
    "analysis.datasets[2].models[0].spectral_model.plot_error(\n",
    "    sed_type=\"e2dnde\", energy_bounds=[10 * u.GeV, 40 * u.TeV]\n",
    ")\n",
    "\n",
    "plt.grid(which=\"both\")\n",
    "plt.legend()"
   ]
  },
  {
   "cell_type": "code",
   "execution_count": null,
   "id": "8a427669-d7fd-4615-9db5-c0292f7a3525",
   "metadata": {},
   "outputs": [],
   "source": []
  },
  {
   "cell_type": "markdown",
   "id": "a89a6cc6",
   "metadata": {},
   "source": [
    "# Final SED plot with all instruments"
   ]
  },
  {
   "cell_type": "code",
   "execution_count": 50,
   "id": "4dff7b70",
   "metadata": {
    "tags": []
   },
   "outputs": [
    {
     "data": {
      "text/plain": [
       "(0.0007, 50.0)"
      ]
     },
     "execution_count": 50,
     "metadata": {},
     "output_type": "execute_result"
    },
    {
     "data": {
      "image/png": "[encoded data removed]",
      "text/plain": [
       "<Figure size 640x480 with 1 Axes>"
      ]
     },
     "metadata": {},
     "output_type": "display_data"
    }
   ],
   "source": [
    "analysis.flux_points[0].plot(sed_type=\"e2dnde\", color=\"red\", label=\"Fermi-LAT\")\n",
    "analysis.flux_points[1].plot(sed_type=\"e2dnde\", color=\"green\", label=\"HESS\")\n",
    "analysis.flux_points[2].plot(sed_type=\"e2dnde\", color=\"orange\", label=\"MAGIC\")\n",
    "\n",
    "analysis.datasets[1].models[0].spectral_model.plot(\n",
    "    sed_type=\"e2dnde\", energy_bounds=[70 * u.MeV, 40 * u.TeV]\n",
    ")\n",
    "analysis.datasets[1].models[0].spectral_model.plot_error(\n",
    "    sed_type=\"e2dnde\", energy_bounds=[70 * u.MeV, 40 * u.TeV]\n",
    ")\n",
    "\n",
    "plt.grid(which=\"both\")\n",
    "plt.legend()\n",
    "plt.xlim(7e-4, 5e1)"
   ]
  },
  {
   "cell_type": "code",
   "execution_count": null,
   "id": "99ecfff8",
   "metadata": {},
   "outputs": [],
   "source": []
  }
 ],
 "metadata": {
  "kernelspec": {
   "display_name": "asgardpy",
   "language": "python",
   "name": "asgardpy"
  },
  "language_info": {
   "codemirror_mode": {
    "name": "ipython",
    "version": 3
   },
   "file_extension": ".py",
   "mimetype": "text/x-python",
   "name": "python",
   "nbconvert_exporter": "python",
   "pygments_lexer": "ipython3",
   "version": "3.11.4"
  }
 },
 "nbformat": 4,
 "nbformat_minor": 5
}
