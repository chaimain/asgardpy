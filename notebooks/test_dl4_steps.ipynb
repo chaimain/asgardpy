{
 "cells": [
  {
   "cell_type": "code",
   "execution_count": 1,
   "id": "b1ec7671",
   "metadata": {},
   "outputs": [],
   "source": [
    "import os\n",
    "\n",
    "import matplotlib.pyplot as plt\n",
    "import numpy as np\n",
    "\n",
    "import astropy.units as u\n",
    "import logging\n",
    "\n",
    "from asgardpy.analysis import AsgardpyAnalysis\n",
    "from asgardpy.config import AsgardpyConfig\n",
    "from asgardpy.data.target import apply_selection_mask_to_models, set_models\n",
    "\n",
    "from gammapy.maps import Map\n",
    "from gammapy.modeling.models import Models\n",
    "from gammapy.modeling import Fit\n",
    "from gammapy.estimators import FluxPointsEstimator\n",
    "from gammapy.datasets import Datasets"
   ]
  },
  {
   "cell_type": "code",
   "execution_count": 2,
   "id": "26d02b94",
   "metadata": {},
   "outputs": [
    {
     "data": {
      "text/plain": [
       "'/fefs/aswg/workspace/chaitanya.priyadarshi/software/gammapy-tutorials/dataset/'"
      ]
     },
     "execution_count": 2,
     "metadata": {},
     "output_type": "execute_result"
    }
   ],
   "source": [
    "os.environ['GAMMAPY_DATA']"
   ]
  },
  {
   "cell_type": "code",
   "execution_count": 3,
   "id": "d6ebb09f",
   "metadata": {},
   "outputs": [],
   "source": [
    "log = logging.getLogger(\"test DL4 steps\")"
   ]
  },
  {
   "cell_type": "code",
   "execution_count": 4,
   "id": "1544544f",
   "metadata": {},
   "outputs": [],
   "source": [
    "config_file = \"../asgardpy/tests/config_test_base.yaml\""
   ]
  },
  {
   "cell_type": "code",
   "execution_count": 5,
   "id": "b88cfc7a",
   "metadata": {},
   "outputs": [],
   "source": [
    "config = AsgardpyConfig()"
   ]
  },
  {
   "cell_type": "code",
   "execution_count": 6,
   "id": "512ebdbc",
   "metadata": {},
   "outputs": [
    {
     "name": "stdout",
     "output_type": "stream",
     "text": [
      "CPU times: user 42.1 ms, sys: 5.43 ms, total: 47.5 ms\n",
      "Wall time: 44.5 ms\n"
     ]
    }
   ],
   "source": [
    "%%time\n",
    "config_main = config.read(config_file)"
   ]
  },
  {
   "cell_type": "code",
   "execution_count": null,
   "id": "96f76e58-f163-4046-8ef8-5bef887c74d2",
   "metadata": {},
   "outputs": [],
   "source": []
  },
  {
   "cell_type": "markdown",
   "id": "0ce80129-e973-4d6e-b86b-0b2c9a46acf0",
   "metadata": {},
   "source": [
    "# Update path of test data"
   ]
  },
  {
   "cell_type": "code",
   "execution_count": 7,
   "id": "6d7a2aa4-0edb-4dc3-9e48-0184c60a6f32",
   "metadata": {},
   "outputs": [],
   "source": [
    "config_main.dataset3d.instruments[0].input_dl3[0].input_dir = f\"{os.environ['GAMMAPY_DATA']}fermipy-crab/\"\n",
    "config_main.dataset3d.instruments[0].input_dl3[1].input_dir = f\"{os.environ['GAMMAPY_DATA']}fermipy-crab/\"\n",
    "config_main.dataset1d.instruments[0].input_dl3[0].input_dir = f\"{os.environ['GAMMAPY_DATA']}hess-dl3-dr1/\""
   ]
  },
  {
   "cell_type": "code",
   "execution_count": null,
   "id": "b57284e6-5860-422a-a6e6-a18493acc31f",
   "metadata": {},
   "outputs": [],
   "source": []
  },
  {
   "cell_type": "code",
   "execution_count": 8,
   "id": "a1048270",
   "metadata": {},
   "outputs": [
    {
     "name": "stdout",
     "output_type": "stream",
     "text": [
      "('log', LogConfig(level='info', filename='', filemode='w', format='', datefmt=''))\n",
      "('outdir', PosixPath('.'))\n",
      "('n_jobs', 10)\n",
      "('parallel_backend', <ParallelBackendEnum.multi: 'multiprocessing'>)\n",
      "('steps', [<AnalysisStepEnum.datasets_3d: 'datasets-3d'>, <AnalysisStepEnum.datasets_1d: 'datasets-1d'>, <AnalysisStepEnum.fit: 'fit'>, <AnalysisStepEnum.flux_points: 'flux-points'>])\n",
      "('overwrite', True)\n",
      "('stacked_dataset', True)\n"
     ]
    }
   ],
   "source": [
    "for g in config_main.general:\n",
    "    print(g)"
   ]
  },
  {
   "cell_type": "markdown",
   "id": "00c5f313",
   "metadata": {},
   "source": [
    "# Steps mentioned in the main config file"
   ]
  },
  {
   "cell_type": "code",
   "execution_count": 9,
   "id": "75d2e424",
   "metadata": {},
   "outputs": [
    {
     "data": {
      "text/plain": [
       "[<AnalysisStepEnum.datasets_3d: 'datasets-3d'>,\n",
       " <AnalysisStepEnum.datasets_1d: 'datasets-1d'>,\n",
       " <AnalysisStepEnum.fit: 'fit'>,\n",
       " <AnalysisStepEnum.flux_points: 'flux-points'>]"
      ]
     },
     "execution_count": 9,
     "metadata": {},
     "output_type": "execute_result"
    }
   ],
   "source": [
    "config_main.general.steps"
   ]
  },
  {
   "cell_type": "code",
   "execution_count": 10,
   "id": "612bb495",
   "metadata": {},
   "outputs": [
    {
     "name": "stdout",
     "output_type": "stream",
     "text": [
      "('source_name', '4FGL J0534.5+2201i')\n",
      "('sky_position', SkyPositionConfig(frame=<FrameEnum.icrs: 'icrs'>, lon=<Angle 83.633 deg>, lat=<Angle 22.02 deg>, radius=<Angle 0. deg>))\n",
      "('use_uniform_position', True)\n",
      "('models_file', PosixPath('.'))\n",
      "('add_fov_bkg_model', False)\n",
      "('use_catalog', CatalogConfig(name='', selection_radius=<Angle 0. deg>, exclusion_radius=<Angle 0. deg>))\n",
      "('components', [SkyModelComponent(name='4FGL J0534.5+2201i', type='SkyModel', spectral=SpectralModelConfig(type='LogParabolaSpectralModel', parameters=[ModelParams(name='amplitude', value=1e-06, unit='cm-2 s-1 TeV-1', error=1.5e-07, min=1e-13, max=0.01, frozen=False), ModelParams(name='reference', value=0.01, unit='TeV', error=0.0, min=0.0001, max=100.0, frozen=True), ModelParams(name='alpha', value=1.7, unit='', error=0.1, min=0.5, max=5.0, frozen=False), ModelParams(name='beta', value=0.1, unit='', error=0.001, min=1e-06, max=1.0, frozen=False)], ebl_abs=EBLAbsorptionModel(filename=PosixPath('.'), reference='dominguez', type='EBLAbsorptionNormSpectralModel', redshift=0.0, alpha_norm=1.0)), spatial=SpatialModelConfig(type='', frame=<FrameEnum.icrs: 'icrs'>, parameters=[ModelParams(name='', value=1.0, unit=' ', error=0.1, min=0.1, max=10.0, frozen=True)]))])\n",
      "('covariance', 'None')\n",
      "('from_3d', False)\n",
      "('roi_selection', RoISelectionConfig(roi_radius=<Angle 0. deg>, free_sources=['4FGL J0521.7+2112', '4FGL J0528.3+1817', '4FGL J0536.2+1733', '4FGL J0534.5+2200']))\n"
     ]
    }
   ],
   "source": [
    "for c in config_main.target:\n",
    "    print(c)"
   ]
  },
  {
   "cell_type": "markdown",
   "id": "4b167659",
   "metadata": {},
   "source": [
    "# Datasets informations"
   ]
  },
  {
   "cell_type": "code",
   "execution_count": 11,
   "id": "65118f53",
   "metadata": {},
   "outputs": [
    {
     "name": "stdout",
     "output_type": "stream",
     "text": [
      "('type', <ReductionTypeEnum.cube: '3d'>)\n",
      "('instruments', [Dataset3DBaseConfig(name='Fermi-LAT', input_dl3=[InputDL3Config(type='lat', input_dir=PosixPath('/fefs/aswg/workspace/chaitanya.priyadarshi/software/gammapy-tutorials/dataset/fermipy-crab'), glob_pattern={'events': '*ft*.fits*', 'edisp': 'drm*.fits*', 'xml_model': 'srcmdl*.xml', 'exposure': 'bexpmap*.fits*', 'psf': 'psf*.fits*'}), InputDL3Config(type='lat-aux', input_dir=PosixPath('/fefs/aswg/workspace/chaitanya.priyadarshi/software/gammapy-tutorials/dataset/fermipy-crab'), glob_pattern={'gal_diffuse': 'gll_iem_v07_cutout.fits*', 'iso_diffuse': 'iso_P8R3_SOURCE_V3_*.txt'})], input_dl4=False, dataset_info=Dataset3DInfoConfig(name='Fermi-LAT', key=['00', '01'], observation=ObservationsConfig(obs_ids=[], obs_file=PosixPath('.'), obs_time=TimeIntervalsConfig(format=<TimeFormatEnum.iso: 'iso'>, intervals=[TimeRangeConfig(start=<Time object: scale='utc' format='mjd' value=0.0>, stop=<Time object: scale='utc' format='mjd' value=0.0>)]), obs_cone=SkyPositionConfig(frame=<FrameEnum.icrs: 'icrs'>, lon=<Angle 0. deg>, lat=<Angle 0. deg>, radius=<Angle 0. deg>), required_irfs=[<RequiredHDUEnum.aeff: 'aeff'>]), map_selection=[<MapSelectionEnum.counts: 'counts'>, <MapSelectionEnum.exposure: 'exposure'>, <MapSelectionEnum.background: 'background'>, <MapSelectionEnum.psf: 'psf'>, <MapSelectionEnum.edisp: 'edisp'>], geom=GeomConfig(wcs=WcsConfig(skydir=SkyPositionConfig(frame=<FrameEnum.icrs: 'icrs'>, lon=<Angle 0. deg>, lat=<Angle 0. deg>, radius=<Angle 0. deg>), binsize=<Angle 0.1 deg>, proj=<ProjectionEnum.tan: 'TAN'>, map_frame_shape=MapFrameShapeConfig(width=<Angle 6. deg>, height=<Angle 6. deg>), binsize_irf=<Angle 0.2 deg>), selection=SelectionConfig(offset_max=<Angle 2.5 deg>), axes=[MapAxesConfig(name='energy', axis=EnergyAxisConfig(min=<Quantity 1. GeV>, max=<Quantity 1. TeV>, nbins=8, per_decade=True), axis_custom=EnergyEdgesCustomConfig(edges=[], unit='TeV'))], from_events_file=True), background=BackgroundConfig(method=<BackgroundMethodEnum.reflected: 'reflected'>, region_finder_method=<BackgroundRegionFinderMethodEnum.wobble: 'wobble'>, parameters={}, exclusion=ExclusionRegionsConfig(target_source=True, regions=[RegionsConfig(type='CircleAnnulusSkyRegion', name='4FGL J0534.5+2201i', position=SkyPositionConfig(frame=<FrameEnum.icrs: 'icrs'>, lon=<Angle 83.633 deg>, lat=<Angle 22.02 deg>, radius=<Angle 0. deg>), parameters={'rad_0': '6 deg', 'rad_1': '30 deg'}), RegionsConfig(type='CircleSkyRegion', name='4FGL J0521.7+2112', position=SkyPositionConfig(frame=<FrameEnum.icrs: 'icrs'>, lon=<Angle 0. deg>, lat=<Angle 0. deg>, radius=<Angle 0. deg>), parameters={'region_radius': '0.5 deg'})])), safe_mask=SafeMaskConfig(methods=[], parameters={'min': '1 GeV', 'max': '1 TeV'}), on_region=SkyPositionConfig(frame=<FrameEnum.icrs: 'icrs'>, lon=<Angle 83.633 deg>, lat=<Angle 22.02 deg>, radius=<Angle 0. deg>), containment_correction=True), dl4_dataset_info=DL4BaseConfig(dl4_dataset=InputDL4Config(type=<DatasetTypeEnum.MapDataset: 'MapDataset'>, input_dir=PosixPath('.'), glob_pattern='pha*fits', dl4_format=<DL4FormatEnum.gadf: 'gadf'>), spectral_energy_range=MapAxesConfig(name='energy', axis=EnergyAxisConfig(min=<Quantity 1. GeV>, max=<Quantity 562.34132519 GeV>, nbins=4, per_decade=True), axis_custom=EnergyEdgesCustomConfig(edges=[], unit='TeV'))))])\n"
     ]
    }
   ],
   "source": [
    "for cc in config_main.dataset3d:\n",
    "    print(cc)"
   ]
  },
  {
   "cell_type": "code",
   "execution_count": 12,
   "id": "25b7a155",
   "metadata": {},
   "outputs": [
    {
     "name": "stdout",
     "output_type": "stream",
     "text": [
      "('type', <ReductionTypeEnum.spectrum: '1d'>)\n",
      "('instruments', [Dataset1DBaseConfig(name='HESS', input_dl3=[InputDL3Config(type='gadf-dl3', input_dir=PosixPath('/fefs/aswg/workspace/chaitanya.priyadarshi/software/gammapy-tutorials/dataset/hess-dl3-dr1'), glob_pattern={'dl3': 'data/hess_*fits.gz'})], input_dl4=False, dataset_info=Dataset1DInfoConfig(name='HESS', geom=GeomConfig(wcs=WcsConfig(skydir=SkyPositionConfig(frame=<FrameEnum.icrs: 'icrs'>, lon=<Angle 0. deg>, lat=<Angle 0. deg>, radius=<Angle 0. deg>), binsize=<Angle 0.02 deg>, proj=<ProjectionEnum.tan: 'TAN'>, map_frame_shape=MapFrameShapeConfig(width=<Angle 6. deg>, height=<Angle 6. deg>), binsize_irf=<Angle 0.2 deg>), selection=SelectionConfig(offset_max=<Angle 2.5 deg>), axes=[MapAxesConfig(name='energy', axis=EnergyAxisConfig(min=<Quantity 0.1 TeV>, max=<Quantity 100. TeV>, nbins=5, per_decade=True), axis_custom=EnergyEdgesCustomConfig(edges=[], unit='TeV')), MapAxesConfig(name='energy_true', axis=EnergyAxisConfig(min=<Quantity 0.1 TeV>, max=<Quantity 100. TeV>, nbins=5, per_decade=True), axis_custom=EnergyEdgesCustomConfig(edges=[], unit='TeV'))], from_events_file=True), observation=ObservationsConfig(obs_ids=[23523, 23526], obs_file=PosixPath('.'), obs_time=TimeIntervalsConfig(format=<TimeFormatEnum.iso: 'iso'>, intervals=[TimeRangeConfig(start=<Time object: scale='utc' format='mjd' value=0.0>, stop=<Time object: scale='utc' format='mjd' value=0.0>)]), obs_cone=SkyPositionConfig(frame=<FrameEnum.icrs: 'icrs'>, lon=<Angle 0. deg>, lat=<Angle 0. deg>, radius=<Angle 0. deg>), required_irfs=[<RequiredHDUEnum.aeff: 'aeff'>, <RequiredHDUEnum.edisp: 'edisp'>]), background=BackgroundConfig(method=<BackgroundMethodEnum.reflected: 'reflected'>, region_finder_method=<BackgroundRegionFinderMethodEnum.wobble: 'wobble'>, parameters={'n_off_regions': 1}, exclusion=ExclusionRegionsConfig(target_source=True, regions=[RegionsConfig(type='CircleSkyRegion', name='4FGL J0521.7+2112', position=SkyPositionConfig(frame=<FrameEnum.icrs: 'icrs'>, lon=<Angle 0. deg>, lat=<Angle 0. deg>, radius=<Angle 0. deg>), parameters={'region_radius': '0.5 deg'})])), safe_mask=SafeMaskConfig(methods=[<SafeMaskMethodsEnum.aeff_max: 'aeff-max'>], parameters={'aeff_percent': 10}), on_region=SkyPositionConfig(frame=<FrameEnum.icrs: 'icrs'>, lon=<Angle 83.633 deg>, lat=<Angle 22.02 deg>, radius=<Angle 0.2 deg>), containment_correction=True, map_selection=[<MapSelectionEnum.counts: 'counts'>, <MapSelectionEnum.exposure: 'exposure'>, <MapSelectionEnum.edisp: 'edisp'>]), dl4_dataset_info=DL4BaseConfig(dl4_dataset=InputDL4Config(type=<DatasetTypeEnum.MapDataset: 'MapDataset'>, input_dir=PosixPath('.'), glob_pattern='pha*fits', dl4_format=<DL4FormatEnum.gadf: 'gadf'>), spectral_energy_range=MapAxesConfig(name='energy', axis=EnergyAxisConfig(min=<Quantity 100. GeV>, max=<Quantity 100. TeV>, nbins=5, per_decade=True), axis_custom=EnergyEdgesCustomConfig(edges=[], unit='TeV'))))])\n"
     ]
    }
   ],
   "source": [
    "for cc in config_main.dataset1d:\n",
    "    print(cc)"
   ]
  },
  {
   "cell_type": "markdown",
   "id": "1eaf41d3",
   "metadata": {},
   "source": [
    "# DL4 step information"
   ]
  },
  {
   "cell_type": "code",
   "execution_count": 13,
   "id": "e4fe0222",
   "metadata": {},
   "outputs": [
    {
     "name": "stdout",
     "output_type": "stream",
     "text": [
      "('fit_range', EnergyRangeConfig(min=<Quantity 1. GeV>, max=<Quantity 40. TeV>))\n",
      "('backend', <BackendEnum.minuit: 'minuit'>)\n",
      "('optimize_opts', {})\n",
      "('covariance_opts', {})\n",
      "('confidence_opts', {})\n",
      "('store_trace', True)\n"
     ]
    }
   ],
   "source": [
    "for cc in config_main.fit_params:\n",
    "    print(cc)"
   ]
  },
  {
   "cell_type": "code",
   "execution_count": 14,
   "id": "324b9eb4",
   "metadata": {},
   "outputs": [
    {
     "name": "stdout",
     "output_type": "stream",
     "text": [
      "('parameters', {'selection_optional': 'all'})\n",
      "('reoptimize', False)\n"
     ]
    }
   ],
   "source": [
    "for cc in config_main.flux_points_params:\n",
    "    print(cc)"
   ]
  },
  {
   "cell_type": "code",
   "execution_count": null,
   "id": "148d4f5d",
   "metadata": {},
   "outputs": [],
   "source": []
  },
  {
   "cell_type": "code",
   "execution_count": 15,
   "id": "e7ed7257",
   "metadata": {},
   "outputs": [
    {
     "name": "stderr",
     "output_type": "stream",
     "text": [
      "Setting logging config: {'level': 'INFO', 'filename': '', 'filemode': 'w', 'format': '', 'datefmt': ''}\n"
     ]
    },
    {
     "name": "stdout",
     "output_type": "stream",
     "text": [
      "CPU times: user 489 µs, sys: 1.15 ms, total: 1.63 ms\n",
      "Wall time: 1.19 ms\n"
     ]
    }
   ],
   "source": [
    "%%time\n",
    "analysis = AsgardpyAnalysis(config_main)"
   ]
  },
  {
   "cell_type": "code",
   "execution_count": 16,
   "id": "794b4546",
   "metadata": {},
   "outputs": [
    {
     "data": {
      "text/plain": [
       "<asgardpy.analysis.analysis.AsgardpyAnalysis at 0x7f0b176e6bd0>"
      ]
     },
     "execution_count": 16,
     "metadata": {},
     "output_type": "execute_result"
    }
   ],
   "source": [
    "analysis"
   ]
  },
  {
   "cell_type": "markdown",
   "id": "496de916",
   "metadata": {},
   "source": [
    "# Prepare the dataset"
   ]
  },
  {
   "cell_type": "code",
   "execution_count": 17,
   "id": "2be936b1",
   "metadata": {},
   "outputs": [
    {
     "name": "stdout",
     "output_type": "stream",
     "text": [
      "1 number of 3D dataset information provided\n",
      "Instrument selected is Fermi-LAT\n"
     ]
    }
   ],
   "source": [
    "instruments_list_3d = config_main.dataset3d.instruments\n",
    "print(len(instruments_list_3d), \"number of 3D dataset information provided\")\n",
    "\n",
    "config_3d_dataset = instruments_list_3d[0]\n",
    "print(f\"Instrument selected is {config_3d_dataset.name}\")"
   ]
  },
  {
   "cell_type": "code",
   "execution_count": 18,
   "id": "8218ab54",
   "metadata": {},
   "outputs": [
    {
     "name": "stdout",
     "output_type": "stream",
     "text": [
      "1 number of 1D dataset information provided\n",
      "Instrument selected is HESS\n"
     ]
    }
   ],
   "source": [
    "instruments_list_1d = config_main.dataset1d.instruments\n",
    "print(len(instruments_list_1d), \"number of 1D dataset information provided\")\n",
    "\n",
    "config_1d_dataset = instruments_list_1d[0]\n",
    "print(f\"Instrument selected is {config_1d_dataset.name}\")"
   ]
  },
  {
   "cell_type": "code",
   "execution_count": 19,
   "id": "3aa92fa6",
   "metadata": {},
   "outputs": [
    {
     "name": "stdout",
     "output_type": "stream",
     "text": [
      "The list of different keys or modes of observations for the selected instrument are ['00', '01']\n"
     ]
    }
   ],
   "source": [
    "key_names = config_3d_dataset.dataset_info.key\n",
    "print(f\"The list of different keys or modes of observations for the selected instrument are {key_names}\")"
   ]
  },
  {
   "cell_type": "markdown",
   "id": "8ee7eb03",
   "metadata": {},
   "source": [
    "# Run each Dataset nD Generation step"
   ]
  },
  {
   "cell_type": "code",
   "execution_count": 20,
   "id": "c3b492b5",
   "metadata": {
    "scrolled": true
   },
   "outputs": [
    {
     "name": "stderr",
     "output_type": "stream",
     "text": [
      "Perform DL3 to DL4 process!\n",
      "1 number of 3D Datasets given\n",
      "The different keys used: 00 01\n",
      "Selecting the file with name containing 00\n",
      "Selecting the file with name containing 00\n",
      "Selecting the file with name containing 00\n",
      "Selecting the file with name containing 00\n",
      "WARNING: FITSFixedWarning: RADECSYS= 'FK5 ' \n",
      "the RADECSYS keyword is deprecated, use RADESYSa. [astropy.wcs.wcs]\n",
      "FITSFixedWarning: RADECSYS= 'FK5 ' \n",
      "the RADECSYS keyword is deprecated, use RADESYSa.\n",
      "WARNING: FITSFixedWarning: 'datfix' made the change 'Set DATEREF to '2001-01-01T00:01:04.184' from MJDREF.\n",
      "Set MJD-OBS to 58484.000000 from DATE-OBS.\n",
      "Set MJD-END to 59729.988334 from DATE-END'. [astropy.wcs.wcs]\n",
      "FITSFixedWarning: 'datfix' made the change 'Set DATEREF to '2001-01-01T00:01:04.184' from MJDREF.\n",
      "Set MJD-OBS to 58484.000000 from DATE-OBS.\n",
      "Set MJD-END to 59729.988334 from DATE-END'.\n",
      "Using the exclusion mask to create a safe mask\n",
      "Selecting the file with name containing 01\n",
      "Selecting the file with name containing 01\n",
      "Selecting the file with name containing 01\n",
      "Selecting the file with name containing 01\n",
      "WARNING: FITSFixedWarning: RADECSYS= 'FK5 ' \n",
      "the RADECSYS keyword is deprecated, use RADESYSa. [astropy.wcs.wcs]\n",
      "FITSFixedWarning: RADECSYS= 'FK5 ' \n",
      "the RADECSYS keyword is deprecated, use RADESYSa.\n",
      "WARNING: FITSFixedWarning: 'datfix' made the change 'Set DATEREF to '2001-01-01T00:01:04.184' from MJDREF.\n",
      "Set MJD-OBS to 58484.000000 from DATE-OBS.\n",
      "Set MJD-END to 59729.988334 from DATE-END'. [astropy.wcs.wcs]\n",
      "FITSFixedWarning: 'datfix' made the change 'Set DATEREF to '2001-01-01T00:01:04.184' from MJDREF.\n",
      "Set MJD-OBS to 58484.000000 from DATE-OBS.\n",
      "Set MJD-END to 59729.988334 from DATE-END'.\n",
      "Using the exclusion mask to create a safe mask\n",
      "Analysis Step datasets-3d completed\n",
      "Models have been associated with the Datasets\n"
     ]
    },
    {
     "name": "stdout",
     "output_type": "stream",
     "text": [
      "CPU times: user 11 s, sys: 413 ms, total: 11.5 s\n",
      "Wall time: 11.5 s\n"
     ]
    }
   ],
   "source": [
    "%%time\n",
    "analysis.run([\"datasets-3d\"])"
   ]
  },
  {
   "cell_type": "markdown",
   "id": "408989c0",
   "metadata": {},
   "source": [
    "## Display some results"
   ]
  },
  {
   "cell_type": "code",
   "execution_count": 21,
   "id": "0ad40037",
   "metadata": {},
   "outputs": [
    {
     "name": "stdout",
     "output_type": "stream",
     "text": [
      "Datasets\n",
      "--------\n",
      "\n",
      "Dataset 0: \n",
      "\n",
      "  Type       : MapDataset\n",
      "  Name       : Fermi-LAT_00\n",
      "  Instrument : \n",
      "  Models     : ['4FGL J0534.5+2201i', '4FGL J0534.5+2201s', '4FGL J0534.5+2200', '4FGL J0526.3+2246', '4FGL J0544.4+2238', '4FGL J0528.3+1817', '4FGL J0536.2+1733', '4FGL J0550.9+2552c', '4FGL J0539.0+1644', '4FGL J0534.2+2751', '4FGL J0540.3+2756e', 'fermi-diffuse-iso-00', 'diffuse-iem']\n",
      "\n",
      "Dataset 1: \n",
      "\n",
      "  Type       : MapDataset\n",
      "  Name       : Fermi-LAT_01\n",
      "  Instrument : \n",
      "  Models     : ['4FGL J0534.5+2201i', '4FGL J0534.5+2201s', '4FGL J0534.5+2200', '4FGL J0526.3+2246', '4FGL J0544.4+2238', '4FGL J0528.3+1817', '4FGL J0536.2+1733', '4FGL J0550.9+2552c', '4FGL J0539.0+1644', '4FGL J0534.2+2751', '4FGL J0540.3+2756e', 'diffuse-iem', 'fermi-diffuse-iso-01']\n",
      "\n",
      "\n"
     ]
    }
   ],
   "source": [
    "print(analysis.datasets)"
   ]
  },
  {
   "cell_type": "code",
   "execution_count": null,
   "id": "a5aca26f",
   "metadata": {},
   "outputs": [],
   "source": [
    "print(analysis.final_model)"
   ]
  },
  {
   "cell_type": "code",
   "execution_count": null,
   "id": "a962a9bf",
   "metadata": {
    "scrolled": true
   },
   "outputs": [],
   "source": [
    "for m in analysis.final_model:\n",
    "    print(m)"
   ]
  },
  {
   "cell_type": "code",
   "execution_count": 24,
   "id": "e4990b8f",
   "metadata": {},
   "outputs": [
    {
     "name": "stdout",
     "output_type": "stream",
     "text": [
      "{'name': ['Fermi-LAT'], 'spectral_energy_ranges': [<Quantity [  1.        ,   1.77827941,   3.16227766,   5.62341325,\n",
      "            10.        ,  17.7827941 ,  31.6227766 ,  56.23413252,\n",
      "           100.        , 177.827941  , 316.22776602, 562.34132519] GeV>], 'en_bins': 48, 'free_params': 8, 'DoF': 40}\n"
     ]
    }
   ],
   "source": [
    "print(analysis.instrument_spectral_info)"
   ]
  },
  {
   "cell_type": "code",
   "execution_count": 25,
   "id": "487a12e8",
   "metadata": {},
   "outputs": [
    {
     "name": "stdout",
     "output_type": "stream",
     "text": [
      "['Fermi-LAT_00', 'Fermi-LAT_01']\n"
     ]
    }
   ],
   "source": [
    "print(analysis.dataset_name_list)"
   ]
  },
  {
   "cell_type": "code",
   "execution_count": null,
   "id": "37105781",
   "metadata": {},
   "outputs": [],
   "source": []
  },
  {
   "cell_type": "code",
   "execution_count": 26,
   "id": "a02f5ae0",
   "metadata": {
    "scrolled": true
   },
   "outputs": [
    {
     "name": "stderr",
     "output_type": "stream",
     "text": [
      "Perform DL3 to DL4 process!\n",
      "1 number of 1D Datasets given\n",
      "Observation ID list selected: 23523 23526\n",
      "Observations selected: 2 out of 2.\n",
      "Using 2 processes to compute Data reduction\n",
      "Computing dataset for observation 23523\n",
      "Running SpectrumDatasetMaker\n",
      "Computing dataset for observation 23526\n",
      "Running SpectrumDatasetMaker\n",
      "Running SafeMaskMaker\n",
      "Running SafeMaskMaker\n",
      "Running ReflectedRegionsBackgroundMaker\n",
      "Running ReflectedRegionsBackgroundMaker\n",
      "Analysis Step datasets-1d completed\n",
      "Models have been associated with the Datasets\n"
     ]
    },
    {
     "name": "stdout",
     "output_type": "stream",
     "text": [
      "CPU times: user 253 ms, sys: 58.1 ms, total: 311 ms\n",
      "Wall time: 1.12 s\n"
     ]
    }
   ],
   "source": [
    "%%time\n",
    "analysis.run([\"datasets-1d\"])"
   ]
  },
  {
   "cell_type": "markdown",
   "id": "a0565133",
   "metadata": {},
   "source": [
    "## Display the results"
   ]
  },
  {
   "cell_type": "code",
   "execution_count": 27,
   "id": "dfea2d18",
   "metadata": {
    "scrolled": true
   },
   "outputs": [
    {
     "name": "stdout",
     "output_type": "stream",
     "text": [
      "Datasets\n",
      "--------\n",
      "\n",
      "Dataset 0: \n",
      "\n",
      "  Type       : MapDataset\n",
      "  Name       : Fermi-LAT_00\n",
      "  Instrument : \n",
      "  Models     : ['4FGL J0534.5+2201i', '4FGL J0534.5+2201s', '4FGL J0534.5+2200', '4FGL J0526.3+2246', '4FGL J0544.4+2238', '4FGL J0528.3+1817', '4FGL J0536.2+1733', '4FGL J0550.9+2552c', '4FGL J0539.0+1644', '4FGL J0534.2+2751', '4FGL J0540.3+2756e', 'fermi-diffuse-iso-00', 'diffuse-iem']\n",
      "\n",
      "Dataset 1: \n",
      "\n",
      "  Type       : MapDataset\n",
      "  Name       : Fermi-LAT_01\n",
      "  Instrument : \n",
      "  Models     : ['4FGL J0534.5+2201i', '4FGL J0534.5+2201s', '4FGL J0534.5+2200', '4FGL J0526.3+2246', '4FGL J0544.4+2238', '4FGL J0528.3+1817', '4FGL J0536.2+1733', '4FGL J0550.9+2552c', '4FGL J0539.0+1644', '4FGL J0534.2+2751', '4FGL J0540.3+2756e', 'diffuse-iem', 'fermi-diffuse-iso-01']\n",
      "\n",
      "Dataset 2: \n",
      "\n",
      "  Type       : SpectrumDatasetOnOff\n",
      "  Name       : HESS\n",
      "  Instrument : \n",
      "  Models     : ['4FGL J0534.5+2201i']\n",
      "\n",
      "\n"
     ]
    }
   ],
   "source": [
    "print(analysis.datasets)"
   ]
  },
  {
   "cell_type": "code",
   "execution_count": 28,
   "id": "8a868a98",
   "metadata": {
    "scrolled": true
   },
   "outputs": [
    {
     "name": "stderr",
     "output_type": "stream",
     "text": [
      "/home/chaitanya.priyadarsh/anaconda3/envs/asgardpy/lib/python3.11/site-packages/gammapy/utils/interpolation.py:185: RuntimeWarning: overflow encountered in exp\n",
      "  output = np.exp(values)\n"
     ]
    },
    {
     "name": "stdout",
     "output_type": "stream",
     "text": [
      "MapDataset\n",
      "----------\n",
      "\n",
      "  Name                            : Fermi-LAT_00 \n",
      "\n",
      "  Total counts                    : 29220 \n",
      "  Total background counts         : nan\n",
      "  Total excess counts             : nan\n",
      "\n",
      "  Predicted counts                : 29091.28\n",
      "  Predicted background counts     : nan\n",
      "  Predicted excess counts         : 29091.28\n",
      "\n",
      "  Exposure min                    : 5.77e+10 cm2 s\n",
      "  Exposure max                    : 7.23e+10 cm2 s\n",
      "\n",
      "  Number of total bins            : 1182816 \n",
      "  Number of fit bins              : 269424 \n",
      "\n",
      "  Fit statistic type              : cash\n",
      "  Fit statistic value (-2 log(L)) : 50348.00\n",
      "\n",
      "  Number of models                : 13 \n",
      "  Number of parameters            : 71\n",
      "  Number of free parameters       : 8\n",
      "\n",
      "  Component 0: SkyModel\n",
      "  \n",
      "    Name                      : 4FGL J0534.5+2201i\n",
      "    Datasets names            : ['Fermi-LAT_00', 'Fermi-LAT_01', 'HESS']\n",
      "    Spectral model type       : CompoundSpectralModel\n",
      "    Spatial  model type       : GaussianSpatialModel\n",
      "    Temporal model type       : \n",
      "    Parameters:\n",
      "      amplitude                     :   1.00e-06   +/- 1.5e-07 1 / (TeV s cm2)\n",
      "      reference             (frozen):      0.010       TeV         \n",
      "      alpha                         :      1.700   +/-    0.10             \n",
      "      beta                          :      0.100   +/-    0.00             \n",
      "      alpha_norm            (frozen):      1.000                   \n",
      "      redshift              (frozen):      0.000                   \n",
      "      lon_0                 (frozen):    184.553       deg         \n",
      "      lat_0                 (frozen):     -5.781       deg         \n",
      "      sigma                 (frozen):      0.020       deg         \n",
      "      e                     (frozen):      0.000                   \n",
      "      phi                   (frozen):      0.000       deg         \n",
      "  \n",
      "  Component 1: SkyModel\n",
      "  \n",
      "    Name                      : 4FGL J0534.5+2201s\n",
      "    Datasets names            : ['Fermi-LAT_00', 'Fermi-LAT_01']\n",
      "    Spectral model type       : PowerLawSpectralModel\n",
      "    Spatial  model type       : PointSpatialModel\n",
      "    Temporal model type       : \n",
      "    Parameters:\n",
      "      index                 (frozen):      3.802                   \n",
      "      amplitude             (frozen):   3.80e-02       1 / (TeV s cm2)\n",
      "      reference             (frozen):      0.000       TeV         \n",
      "      lon_0                 (frozen):      3.221       rad         \n",
      "      lat_0                 (frozen):     -0.101       rad         \n",
      "  \n",
      "  Component 2: SkyModel\n",
      "  \n",
      "    Name                      : 4FGL J0534.5+2200\n",
      "    Datasets names            : ['Fermi-LAT_00', 'Fermi-LAT_01']\n",
      "    Spectral model type       : ExpCutoffPowerLawSpectralModel\n",
      "    Spatial  model type       : PointSpatialModel\n",
      "    Temporal model type       : \n",
      "    Parameters:\n",
      "      index                 (frozen):      1.883                   \n",
      "      amplitude                     :   7.23e-04   +/- 1.0e-05 1 / (TeV s cm2)\n",
      "      reference             (frozen):      0.001       TeV         \n",
      "      lambda_               (frozen):    295.318       1 / TeV     \n",
      "      alpha                 (frozen):      0.667                   \n",
      "      lon_0                 (frozen):      3.221       rad         \n",
      "      lat_0                 (frozen):     -0.101       rad         \n",
      "  \n",
      "  Component 3: SkyModel\n",
      "  \n",
      "    Name                      : 4FGL J0526.3+2246\n",
      "    Datasets names            : ['Fermi-LAT_00', 'Fermi-LAT_01']\n",
      "    Spectral model type       : PowerLawSpectralModel\n",
      "    Spatial  model type       : PointSpatialModel\n",
      "    Temporal model type       : \n",
      "    Parameters:\n",
      "      index                 (frozen):      2.026                   \n",
      "      amplitude             (frozen):   1.32e-08       1 / (TeV s cm2)\n",
      "      reference             (frozen):      0.005       TeV         \n",
      "      lon_0                 (frozen):      3.192       rad         \n",
      "      lat_0                 (frozen):     -0.121       rad         \n",
      "  \n",
      "  Component 4: SkyModel\n",
      "  \n",
      "    Name                      : 4FGL J0544.4+2238\n",
      "    Datasets names            : ['Fermi-LAT_00', 'Fermi-LAT_01']\n",
      "    Spectral model type       : PowerLawSpectralModel\n",
      "    Spatial  model type       : PointSpatialModel\n",
      "    Temporal model type       : \n",
      "    Parameters:\n",
      "      index                 (frozen):      2.292                   \n",
      "      amplitude             (frozen):   3.25e-08       1 / (TeV s cm2)\n",
      "      reference             (frozen):      0.003       TeV         \n",
      "      lon_0                 (frozen):      3.233       rad         \n",
      "      lat_0                 (frozen):     -0.061       rad         \n",
      "  \n",
      "  Component 5: SkyModel\n",
      "  \n",
      "    Name                      : 4FGL J0528.3+1817\n",
      "    Datasets names            : ['Fermi-LAT_00', 'Fermi-LAT_01']\n",
      "    Spectral model type       : PowerLawSpectralModel\n",
      "    Spatial  model type       : PointSpatialModel\n",
      "    Temporal model type       : \n",
      "    Parameters:\n",
      "      index                 (frozen):      1.683                   \n",
      "      amplitude                     :   1.84e-09   +/- 4.8e-10 1 / (TeV s cm2)\n",
      "      reference             (frozen):      0.010       TeV         \n",
      "      lon_0                 (frozen):      3.263       rad         \n",
      "      lat_0                 (frozen):     -0.157       rad         \n",
      "  \n",
      "  Component 6: SkyModel\n",
      "  \n",
      "    Name                      : 4FGL J0536.2+1733\n",
      "    Datasets names            : ['Fermi-LAT_00', 'Fermi-LAT_01']\n",
      "    Spectral model type       : LogParabolaSpectralModel\n",
      "    Spatial  model type       : PointSpatialModel\n",
      "    Temporal model type       : \n",
      "    Parameters:\n",
      "      amplitude                     :   8.60e-08   +/- 1.2e-08 1 / (TeV s cm2)\n",
      "      reference             (frozen):      0.003       TeV         \n",
      "      alpha                 (frozen):      1.970                   \n",
      "      beta                  (frozen):      0.239                   \n",
      "      lon_0                 (frozen):      3.291       rad         \n",
      "      lat_0                 (frozen):     -0.136       rad         \n",
      "  \n",
      "  Component 7: SkyModel\n",
      "  \n",
      "    Name                      : 4FGL J0550.9+2552c\n",
      "    Datasets names            : ['Fermi-LAT_00', 'Fermi-LAT_01']\n",
      "    Spectral model type       : PowerLawSpectralModel\n",
      "    Spatial  model type       : PointSpatialModel\n",
      "    Temporal model type       : \n",
      "    Parameters:\n",
      "      index                 (frozen):      2.445                   \n",
      "      amplitude             (frozen):   2.10e-07       1 / (TeV s cm2)\n",
      "      reference             (frozen):      0.002       TeV         \n",
      "      lon_0                 (frozen):      3.198       rad         \n",
      "      lat_0                 (frozen):     -0.010       rad         \n",
      "  \n",
      "  Component 8: SkyModel\n",
      "  \n",
      "    Name                      : 4FGL J0539.0+1644\n",
      "    Datasets names            : ['Fermi-LAT_00', 'Fermi-LAT_01']\n",
      "    Spectral model type       : PowerLawSpectralModel\n",
      "    Spatial  model type       : PointSpatialModel\n",
      "    Temporal model type       : \n",
      "    Parameters:\n",
      "      index                 (frozen):      1.974                   \n",
      "      amplitude             (frozen):   1.61e-08       1 / (TeV s cm2)\n",
      "      reference             (frozen):      0.005       TeV         \n",
      "      lon_0                 (frozen):      3.310       rad         \n",
      "      lat_0                 (frozen):     -0.134       rad         \n",
      "  \n",
      "  Component 9: SkyModel\n",
      "  \n",
      "    Name                      : 4FGL J0534.2+2751\n",
      "    Datasets names            : ['Fermi-LAT_00', 'Fermi-LAT_01']\n",
      "    Spectral model type       : PowerLawSpectralModel\n",
      "    Spatial  model type       : PointSpatialModel\n",
      "    Temporal model type       : \n",
      "    Parameters:\n",
      "      index                 (frozen):      1.892                   \n",
      "      amplitude             (frozen):   5.47e-09       1 / (TeV s cm2)\n",
      "      reference             (frozen):      0.008       TeV         \n",
      "      lon_0                 (frozen):      3.134       rad         \n",
      "      lat_0                 (frozen):     -0.047       rad         \n",
      "  \n",
      "  Component 10: SkyModel\n",
      "  \n",
      "    Name                      : 4FGL J0540.3+2756e\n",
      "    Datasets names            : ['Fermi-LAT_00', 'Fermi-LAT_01']\n",
      "    Spectral model type       : LogParabolaSpectralModel\n",
      "    Spatial  model type       : TemplateSpatialModel\n",
      "    Temporal model type       : \n",
      "    Parameters:\n",
      "      amplitude             (frozen):   6.24e-06       1 / (TeV s cm2)\n",
      "      reference             (frozen):      0.001       TeV         \n",
      "      alpha                 (frozen):      1.995                   \n",
      "      beta                  (frozen):      0.125                   \n",
      "  \n",
      "  Component 11: SkyModel\n",
      "  \n",
      "    Name                      : fermi-diffuse-iso-00\n",
      "    Datasets names            : ['Fermi-LAT_00']\n",
      "    Spectral model type       : CompoundSpectralModel\n",
      "    Spatial  model type       : ConstantSpatialModel\n",
      "    Temporal model type       : \n",
      "    Parameters:\n",
      "      norm                  (frozen):      1.000                   \n",
      "      norm@5OnwrEZU                 :      1.000   +/-    0.00             \n",
      "      tilt@123cEKP1         (frozen):      0.000                   \n",
      "      reference@luXFvdRm    (frozen):      1.000       TeV         \n",
      "      value                 (frozen):      1.000       1 / sr      \n",
      "  \n",
      "  Component 12: SkyModel\n",
      "  \n",
      "    Name                      : diffuse-iem\n",
      "    Datasets names            : ['Fermi-LAT_00', 'Fermi-LAT_01']\n",
      "    Spectral model type       : PowerLawNormSpectralModel\n",
      "    Spatial  model type       : TemplateSpatialModel\n",
      "    Temporal model type       : \n",
      "    Parameters:\n",
      "      norm                          :      1.000   +/-    0.00             \n",
      "      tilt                  (frozen):      0.000                   \n",
      "      reference             (frozen):      1.000       TeV         \n",
      "  \n",
      "  \n"
     ]
    },
    {
     "name": "stderr",
     "output_type": "stream",
     "text": [
      "/home/chaitanya.priyadarsh/anaconda3/envs/asgardpy/lib/python3.11/site-packages/gammapy/utils/interpolation.py:185: RuntimeWarning: overflow encountered in exp\n",
      "  output = np.exp(values)\n"
     ]
    },
    {
     "name": "stdout",
     "output_type": "stream",
     "text": [
      "MapDataset\n",
      "----------\n",
      "\n",
      "  Name                            : Fermi-LAT_01 \n",
      "\n",
      "  Total counts                    : 28810 \n",
      "  Total background counts         : nan\n",
      "  Total excess counts             : nan\n",
      "\n",
      "  Predicted counts                : 28570.86\n",
      "  Predicted background counts     : nan\n",
      "  Predicted excess counts         : 28570.86\n",
      "\n",
      "  Exposure min                    : 4.50e+10 cm2 s\n",
      "  Exposure max                    : 6.52e+10 cm2 s\n",
      "\n",
      "  Number of total bins            : 1182816 \n",
      "  Number of fit bins              : 269424 \n",
      "\n",
      "  Fit statistic type              : cash\n",
      "  Fit statistic value (-2 log(L)) : 73763.87\n",
      "\n",
      "  Number of models                : 13 \n",
      "  Number of parameters            : 71\n",
      "  Number of free parameters       : 8\n",
      "\n",
      "  Component 0: SkyModel\n",
      "  \n",
      "    Name                      : 4FGL J0534.5+2201i\n",
      "    Datasets names            : ['Fermi-LAT_00', 'Fermi-LAT_01', 'HESS']\n",
      "    Spectral model type       : CompoundSpectralModel\n",
      "    Spatial  model type       : GaussianSpatialModel\n",
      "    Temporal model type       : \n",
      "    Parameters:\n",
      "      amplitude                     :   1.00e-06   +/- 1.5e-07 1 / (TeV s cm2)\n",
      "      reference             (frozen):      0.010       TeV         \n",
      "      alpha                         :      1.700   +/-    0.10             \n",
      "      beta                          :      0.100   +/-    0.00             \n",
      "      alpha_norm            (frozen):      1.000                   \n",
      "      redshift              (frozen):      0.000                   \n",
      "      lon_0                 (frozen):    184.553       deg         \n",
      "      lat_0                 (frozen):     -5.781       deg         \n",
      "      sigma                 (frozen):      0.020       deg         \n",
      "      e                     (frozen):      0.000                   \n",
      "      phi                   (frozen):      0.000       deg         \n",
      "  \n",
      "  Component 1: SkyModel\n",
      "  \n",
      "    Name                      : 4FGL J0534.5+2201s\n",
      "    Datasets names            : ['Fermi-LAT_00', 'Fermi-LAT_01']\n",
      "    Spectral model type       : PowerLawSpectralModel\n",
      "    Spatial  model type       : PointSpatialModel\n",
      "    Temporal model type       : \n",
      "    Parameters:\n",
      "      index                 (frozen):      3.802                   \n",
      "      amplitude             (frozen):   3.80e-02       1 / (TeV s cm2)\n",
      "      reference             (frozen):      0.000       TeV         \n",
      "      lon_0                 (frozen):      3.221       rad         \n",
      "      lat_0                 (frozen):     -0.101       rad         \n",
      "  \n",
      "  Component 2: SkyModel\n",
      "  \n",
      "    Name                      : 4FGL J0534.5+2200\n",
      "    Datasets names            : ['Fermi-LAT_00', 'Fermi-LAT_01']\n",
      "    Spectral model type       : ExpCutoffPowerLawSpectralModel\n",
      "    Spatial  model type       : PointSpatialModel\n",
      "    Temporal model type       : \n",
      "    Parameters:\n",
      "      index                 (frozen):      1.883                   \n",
      "      amplitude                     :   7.23e-04   +/- 1.0e-05 1 / (TeV s cm2)\n",
      "      reference             (frozen):      0.001       TeV         \n",
      "      lambda_               (frozen):    295.318       1 / TeV     \n",
      "      alpha                 (frozen):      0.667                   \n",
      "      lon_0                 (frozen):      3.221       rad         \n",
      "      lat_0                 (frozen):     -0.101       rad         \n",
      "  \n",
      "  Component 3: SkyModel\n",
      "  \n",
      "    Name                      : 4FGL J0526.3+2246\n",
      "    Datasets names            : ['Fermi-LAT_00', 'Fermi-LAT_01']\n",
      "    Spectral model type       : PowerLawSpectralModel\n",
      "    Spatial  model type       : PointSpatialModel\n",
      "    Temporal model type       : \n",
      "    Parameters:\n",
      "      index                 (frozen):      2.026                   \n",
      "      amplitude             (frozen):   1.32e-08       1 / (TeV s cm2)\n",
      "      reference             (frozen):      0.005       TeV         \n",
      "      lon_0                 (frozen):      3.192       rad         \n",
      "      lat_0                 (frozen):     -0.121       rad         \n",
      "  \n",
      "  Component 4: SkyModel\n",
      "  \n",
      "    Name                      : 4FGL J0544.4+2238\n",
      "    Datasets names            : ['Fermi-LAT_00', 'Fermi-LAT_01']\n",
      "    Spectral model type       : PowerLawSpectralModel\n",
      "    Spatial  model type       : PointSpatialModel\n",
      "    Temporal model type       : \n",
      "    Parameters:\n",
      "      index                 (frozen):      2.292                   \n",
      "      amplitude             (frozen):   3.25e-08       1 / (TeV s cm2)\n",
      "      reference             (frozen):      0.003       TeV         \n",
      "      lon_0                 (frozen):      3.233       rad         \n",
      "      lat_0                 (frozen):     -0.061       rad         \n",
      "  \n",
      "  Component 5: SkyModel\n",
      "  \n",
      "    Name                      : 4FGL J0528.3+1817\n",
      "    Datasets names            : ['Fermi-LAT_00', 'Fermi-LAT_01']\n",
      "    Spectral model type       : PowerLawSpectralModel\n",
      "    Spatial  model type       : PointSpatialModel\n",
      "    Temporal model type       : \n",
      "    Parameters:\n",
      "      index                 (frozen):      1.683                   \n",
      "      amplitude                     :   1.84e-09   +/- 4.8e-10 1 / (TeV s cm2)\n",
      "      reference             (frozen):      0.010       TeV         \n",
      "      lon_0                 (frozen):      3.263       rad         \n",
      "      lat_0                 (frozen):     -0.157       rad         \n",
      "  \n",
      "  Component 6: SkyModel\n",
      "  \n",
      "    Name                      : 4FGL J0536.2+1733\n",
      "    Datasets names            : ['Fermi-LAT_00', 'Fermi-LAT_01']\n",
      "    Spectral model type       : LogParabolaSpectralModel\n",
      "    Spatial  model type       : PointSpatialModel\n",
      "    Temporal model type       : \n",
      "    Parameters:\n",
      "      amplitude                     :   8.60e-08   +/- 1.2e-08 1 / (TeV s cm2)\n",
      "      reference             (frozen):      0.003       TeV         \n",
      "      alpha                 (frozen):      1.970                   \n",
      "      beta                  (frozen):      0.239                   \n",
      "      lon_0                 (frozen):      3.291       rad         \n",
      "      lat_0                 (frozen):     -0.136       rad         \n",
      "  \n",
      "  Component 7: SkyModel\n",
      "  \n",
      "    Name                      : 4FGL J0550.9+2552c\n",
      "    Datasets names            : ['Fermi-LAT_00', 'Fermi-LAT_01']\n",
      "    Spectral model type       : PowerLawSpectralModel\n",
      "    Spatial  model type       : PointSpatialModel\n",
      "    Temporal model type       : \n",
      "    Parameters:\n",
      "      index                 (frozen):      2.445                   \n",
      "      amplitude             (frozen):   2.10e-07       1 / (TeV s cm2)\n",
      "      reference             (frozen):      0.002       TeV         \n",
      "      lon_0                 (frozen):      3.198       rad         \n",
      "      lat_0                 (frozen):     -0.010       rad         \n",
      "  \n",
      "  Component 8: SkyModel\n",
      "  \n",
      "    Name                      : 4FGL J0539.0+1644\n",
      "    Datasets names            : ['Fermi-LAT_00', 'Fermi-LAT_01']\n",
      "    Spectral model type       : PowerLawSpectralModel\n",
      "    Spatial  model type       : PointSpatialModel\n",
      "    Temporal model type       : \n",
      "    Parameters:\n",
      "      index                 (frozen):      1.974                   \n",
      "      amplitude             (frozen):   1.61e-08       1 / (TeV s cm2)\n",
      "      reference             (frozen):      0.005       TeV         \n",
      "      lon_0                 (frozen):      3.310       rad         \n",
      "      lat_0                 (frozen):     -0.134       rad         \n",
      "  \n",
      "  Component 9: SkyModel\n",
      "  \n",
      "    Name                      : 4FGL J0534.2+2751\n",
      "    Datasets names            : ['Fermi-LAT_00', 'Fermi-LAT_01']\n",
      "    Spectral model type       : PowerLawSpectralModel\n",
      "    Spatial  model type       : PointSpatialModel\n",
      "    Temporal model type       : \n",
      "    Parameters:\n",
      "      index                 (frozen):      1.892                   \n",
      "      amplitude             (frozen):   5.47e-09       1 / (TeV s cm2)\n",
      "      reference             (frozen):      0.008       TeV         \n",
      "      lon_0                 (frozen):      3.134       rad         \n",
      "      lat_0                 (frozen):     -0.047       rad         \n",
      "  \n",
      "  Component 10: SkyModel\n",
      "  \n",
      "    Name                      : 4FGL J0540.3+2756e\n",
      "    Datasets names            : ['Fermi-LAT_00', 'Fermi-LAT_01']\n",
      "    Spectral model type       : LogParabolaSpectralModel\n",
      "    Spatial  model type       : TemplateSpatialModel\n",
      "    Temporal model type       : \n",
      "    Parameters:\n",
      "      amplitude             (frozen):   6.24e-06       1 / (TeV s cm2)\n",
      "      reference             (frozen):      0.001       TeV         \n",
      "      alpha                 (frozen):      1.995                   \n",
      "      beta                  (frozen):      0.125                   \n",
      "  \n",
      "  Component 11: SkyModel\n",
      "  \n",
      "    Name                      : diffuse-iem\n",
      "    Datasets names            : ['Fermi-LAT_00', 'Fermi-LAT_01']\n",
      "    Spectral model type       : PowerLawNormSpectralModel\n",
      "    Spatial  model type       : TemplateSpatialModel\n",
      "    Temporal model type       : \n",
      "    Parameters:\n",
      "      norm                          :      1.000   +/-    0.00             \n",
      "      tilt                  (frozen):      0.000                   \n",
      "      reference             (frozen):      1.000       TeV         \n",
      "  \n",
      "  Component 12: SkyModel\n",
      "  \n",
      "    Name                      : fermi-diffuse-iso-01\n",
      "    Datasets names            : ['Fermi-LAT_01']\n",
      "    Spectral model type       : CompoundSpectralModel\n",
      "    Spatial  model type       : ConstantSpatialModel\n",
      "    Temporal model type       : \n",
      "    Parameters:\n",
      "      norm                  (frozen):      1.000                   \n",
      "      norm@5OnwrEZU                 :      1.000   +/-    0.00             \n",
      "      tilt@123cEKP1         (frozen):      0.000                   \n",
      "      reference@luXFvdRm    (frozen):      1.000       TeV         \n",
      "      value                 (frozen):      1.000       1 / sr      \n",
      "  \n",
      "  \n",
      "SpectrumDatasetOnOff\n",
      "--------------------\n",
      "\n",
      "  Name                            : HESS \n",
      "\n",
      "  Total counts                    : 496 \n",
      "  Total background counts         : 62.00\n",
      "  Total excess counts             : 434.00\n",
      "\n",
      "  Predicted counts                : 509.57\n",
      "  Predicted background counts     : 61.49\n",
      "  Predicted excess counts         : 448.08\n",
      "\n",
      "  Exposure min                    : 1.55e+08 m2 s\n",
      "  Exposure max                    : 1.82e+09 m2 s\n",
      "\n",
      "  Number of total bins            : 15 \n",
      "  Number of fit bins              : 11 \n",
      "\n",
      "  Fit statistic type              : wstat\n",
      "  Fit statistic value (-2 log(L)) : 4.79\n",
      "\n",
      "  Number of models                : 1 \n",
      "  Number of parameters            : 11\n",
      "  Number of free parameters       : 3\n",
      "\n",
      "  Component 0: SkyModel\n",
      "  \n",
      "    Name                      : 4FGL J0534.5+2201i\n",
      "    Datasets names            : ['Fermi-LAT_00', 'Fermi-LAT_01', 'HESS']\n",
      "    Spectral model type       : CompoundSpectralModel\n",
      "    Spatial  model type       : GaussianSpatialModel\n",
      "    Temporal model type       : \n",
      "    Parameters:\n",
      "      amplitude                     :   1.00e-06   +/- 1.5e-07 1 / (TeV s cm2)\n",
      "      reference             (frozen):      0.010       TeV         \n",
      "      alpha                         :      1.700   +/-    0.10             \n",
      "      beta                          :      0.100   +/-    0.00             \n",
      "      alpha_norm            (frozen):      1.000                   \n",
      "      redshift              (frozen):      0.000                   \n",
      "      lon_0                 (frozen):    184.553       deg         \n",
      "      lat_0                 (frozen):     -5.781       deg         \n",
      "      sigma                 (frozen):      0.020       deg         \n",
      "      e                     (frozen):      0.000                   \n",
      "      phi                   (frozen):      0.000       deg         \n",
      "  \n",
      "    Total counts_off                : 62 \n",
      "  Acceptance                      : 15 \n",
      "  Acceptance off                  : 15 \n",
      "\n"
     ]
    }
   ],
   "source": [
    "for d in analysis.datasets:\n",
    "    print(d)"
   ]
  },
  {
   "cell_type": "code",
   "execution_count": null,
   "id": "cf6652a5",
   "metadata": {
    "scrolled": true
   },
   "outputs": [],
   "source": [
    "for m in analysis.final_model:\n",
    "    print(m)"
   ]
  },
  {
   "cell_type": "code",
   "execution_count": 30,
   "id": "395d79c0",
   "metadata": {},
   "outputs": [
    {
     "name": "stdout",
     "output_type": "stream",
     "text": [
      "{'name': ['Fermi-LAT', 'HESS'], 'spectral_energy_ranges': [<Quantity [  1.        ,   1.77827941,   3.16227766,   5.62341325,\n",
      "            10.        ,  17.7827941 ,  31.6227766 ,  56.23413252,\n",
      "           100.        , 177.827941  , 316.22776602, 562.34132519] GeV>, <Quantity [1.00000000e-01, 1.58489319e-01, 2.51188643e-01, 3.98107171e-01,\n",
      "           6.30957344e-01, 1.00000000e+00, 1.58489319e+00, 2.51188643e+00,\n",
      "           3.98107171e+00, 6.30957344e+00, 1.00000000e+01, 1.58489319e+01,\n",
      "           2.51188643e+01, 3.98107171e+01, 6.30957344e+01, 1.00000000e+02] TeV>], 'en_bins': 63, 'free_params': 17, 'DoF': 46}\n"
     ]
    }
   ],
   "source": [
    "print(analysis.instrument_spectral_info)"
   ]
  },
  {
   "cell_type": "code",
   "execution_count": 31,
   "id": "afa41867",
   "metadata": {},
   "outputs": [
    {
     "name": "stdout",
     "output_type": "stream",
     "text": [
      "The spectral energy range to be used for dataset Fermi-LAT is [  1.           1.77827941   3.16227766   5.62341325  10.\n",
      "  17.7827941   31.6227766   56.23413252 100.         177.827941\n",
      " 316.22776602 562.34132519] GeV\n",
      "The spectral energy range to be used for dataset HESS is [1.00000000e-01 1.58489319e-01 2.51188643e-01 3.98107171e-01\n",
      " 6.30957344e-01 1.00000000e+00 1.58489319e+00 2.51188643e+00\n",
      " 3.98107171e+00 6.30957344e+00 1.00000000e+01 1.58489319e+01\n",
      " 2.51188643e+01 3.98107171e+01 6.30957344e+01 1.00000000e+02] TeV\n"
     ]
    }
   ],
   "source": [
    "for i, en_range in enumerate(analysis.instrument_spectral_info[\"spectral_energy_ranges\"]):\n",
    "    print(f\"The spectral energy range to be used for dataset {analysis.instrument_spectral_info['name'][i]} is {en_range}\")"
   ]
  },
  {
   "cell_type": "code",
   "execution_count": null,
   "id": "e3f286d7",
   "metadata": {},
   "outputs": [],
   "source": []
  },
  {
   "cell_type": "code",
   "execution_count": 32,
   "id": "87e90534",
   "metadata": {},
   "outputs": [
    {
     "name": "stdout",
     "output_type": "stream",
     "text": [
      "['Fermi-LAT_00', 'Fermi-LAT_01', 'HESS']\n"
     ]
    }
   ],
   "source": [
    "print(analysis.dataset_name_list)"
   ]
  },
  {
   "cell_type": "code",
   "execution_count": null,
   "id": "f641436b",
   "metadata": {},
   "outputs": [],
   "source": []
  },
  {
   "cell_type": "markdown",
   "id": "ae01b742",
   "metadata": {},
   "source": [
    "# Preparing the Datasets for DL4 steps"
   ]
  },
  {
   "cell_type": "code",
   "execution_count": 33,
   "id": "7379b3fb",
   "metadata": {},
   "outputs": [],
   "source": [
    "analysis.final_model = Models(analysis.final_model)"
   ]
  },
  {
   "cell_type": "code",
   "execution_count": 34,
   "id": "12411eaf",
   "metadata": {},
   "outputs": [],
   "source": [
    "# Only updating the target source model with names of all datasets\n",
    "if len(analysis.final_model) > 1:\n",
    "    analysis.final_model = apply_selection_mask_to_models(\n",
    "        list_sources=analysis.final_model,\n",
    "        target_source=analysis.config.target.source_name,\n",
    "        roi_radius=analysis.config.target.roi_selection.roi_radius,\n",
    "        free_sources=analysis.config.target.roi_selection.free_sources,\n",
    "    )"
   ]
  },
  {
   "cell_type": "code",
   "execution_count": null,
   "id": "98063d01",
   "metadata": {
    "scrolled": true
   },
   "outputs": [],
   "source": [
    "for model_ in analysis.final_model:\n",
    "    print(model_)"
   ]
  },
  {
   "cell_type": "code",
   "execution_count": null,
   "id": "42589d75",
   "metadata": {},
   "outputs": [],
   "source": []
  },
  {
   "cell_type": "markdown",
   "id": "7fa7e4c1",
   "metadata": {},
   "source": [
    "## Assigning the models to all the datasets"
   ]
  },
  {
   "cell_type": "code",
   "execution_count": 36,
   "id": "2d67b804",
   "metadata": {},
   "outputs": [],
   "source": [
    "analysis.datasets, analysis.final_model = set_models(\n",
    "    analysis.config.target,\n",
    "    analysis.datasets,\n",
    "    analysis.dataset_name_list,\n",
    "    models=analysis.final_model,\n",
    ")"
   ]
  },
  {
   "cell_type": "code",
   "execution_count": 37,
   "id": "d25dedaf",
   "metadata": {
    "scrolled": true
   },
   "outputs": [
    {
     "name": "stderr",
     "output_type": "stream",
     "text": [
      "/home/chaitanya.priyadarsh/anaconda3/envs/asgardpy/lib/python3.11/site-packages/gammapy/utils/interpolation.py:185: RuntimeWarning: overflow encountered in exp\n",
      "  output = np.exp(values)\n"
     ]
    },
    {
     "name": "stdout",
     "output_type": "stream",
     "text": [
      "MapDataset\n",
      "----------\n",
      "\n",
      "  Name                            : Fermi-LAT_00 \n",
      "\n",
      "  Total counts                    : 29220 \n",
      "  Total background counts         : nan\n",
      "  Total excess counts             : nan\n",
      "\n",
      "  Predicted counts                : 29091.28\n",
      "  Predicted background counts     : nan\n",
      "  Predicted excess counts         : 29091.28\n",
      "\n",
      "  Exposure min                    : 5.77e+10 cm2 s\n",
      "  Exposure max                    : 7.23e+10 cm2 s\n",
      "\n",
      "  Number of total bins            : 1182816 \n",
      "  Number of fit bins              : 269424 \n",
      "\n",
      "  Fit statistic type              : cash\n",
      "  Fit statistic value (-2 log(L)) : 50348.00\n",
      "\n",
      "  Number of models                : 13 \n",
      "  Number of parameters            : 71\n",
      "  Number of free parameters       : 8\n",
      "\n",
      "  Component 0: SkyModel\n",
      "  \n",
      "    Name                      : 4FGL J0534.5+2201i\n",
      "    Datasets names            : ['Fermi-LAT_00', 'Fermi-LAT_01', 'HESS']\n",
      "    Spectral model type       : CompoundSpectralModel\n",
      "    Spatial  model type       : GaussianSpatialModel\n",
      "    Temporal model type       : \n",
      "    Parameters:\n",
      "      amplitude                     :   1.00e-06   +/- 1.5e-07 1 / (TeV s cm2)\n",
      "      reference             (frozen):      0.010       TeV         \n",
      "      alpha                         :      1.700   +/-    0.10             \n",
      "      beta                          :      0.100   +/-    0.00             \n",
      "      alpha_norm            (frozen):      1.000                   \n",
      "      redshift              (frozen):      0.000                   \n",
      "      lon_0                 (frozen):    184.553       deg         \n",
      "      lat_0                 (frozen):     -5.781       deg         \n",
      "      sigma                 (frozen):      0.020       deg         \n",
      "      e                     (frozen):      0.000                   \n",
      "      phi                   (frozen):      0.000       deg         \n",
      "  \n",
      "  Component 1: SkyModel\n",
      "  \n",
      "    Name                      : 4FGL J0534.5+2201s\n",
      "    Datasets names            : ['Fermi-LAT_00', 'Fermi-LAT_01']\n",
      "    Spectral model type       : PowerLawSpectralModel\n",
      "    Spatial  model type       : PointSpatialModel\n",
      "    Temporal model type       : \n",
      "    Parameters:\n",
      "      index                 (frozen):      3.802                   \n",
      "      amplitude             (frozen):   3.80e-02       1 / (TeV s cm2)\n",
      "      reference             (frozen):      0.000       TeV         \n",
      "      lon_0                 (frozen):      3.221       rad         \n",
      "      lat_0                 (frozen):     -0.101       rad         \n",
      "  \n",
      "  Component 2: SkyModel\n",
      "  \n",
      "    Name                      : 4FGL J0534.5+2200\n",
      "    Datasets names            : ['Fermi-LAT_00', 'Fermi-LAT_01']\n",
      "    Spectral model type       : ExpCutoffPowerLawSpectralModel\n",
      "    Spatial  model type       : PointSpatialModel\n",
      "    Temporal model type       : \n",
      "    Parameters:\n",
      "      index                 (frozen):      1.883                   \n",
      "      amplitude                     :   7.23e-04   +/- 1.0e-05 1 / (TeV s cm2)\n",
      "      reference             (frozen):      0.001       TeV         \n",
      "      lambda_               (frozen):    295.318       1 / TeV     \n",
      "      alpha                 (frozen):      0.667                   \n",
      "      lon_0                 (frozen):      3.221       rad         \n",
      "      lat_0                 (frozen):     -0.101       rad         \n",
      "  \n",
      "  Component 3: SkyModel\n",
      "  \n",
      "    Name                      : 4FGL J0526.3+2246\n",
      "    Datasets names            : ['Fermi-LAT_00', 'Fermi-LAT_01']\n",
      "    Spectral model type       : PowerLawSpectralModel\n",
      "    Spatial  model type       : PointSpatialModel\n",
      "    Temporal model type       : \n",
      "    Parameters:\n",
      "      index                 (frozen):      2.026                   \n",
      "      amplitude             (frozen):   1.32e-08       1 / (TeV s cm2)\n",
      "      reference             (frozen):      0.005       TeV         \n",
      "      lon_0                 (frozen):      3.192       rad         \n",
      "      lat_0                 (frozen):     -0.121       rad         \n",
      "  \n",
      "  Component 4: SkyModel\n",
      "  \n",
      "    Name                      : 4FGL J0544.4+2238\n",
      "    Datasets names            : ['Fermi-LAT_00', 'Fermi-LAT_01']\n",
      "    Spectral model type       : PowerLawSpectralModel\n",
      "    Spatial  model type       : PointSpatialModel\n",
      "    Temporal model type       : \n",
      "    Parameters:\n",
      "      index                 (frozen):      2.292                   \n",
      "      amplitude             (frozen):   3.25e-08       1 / (TeV s cm2)\n",
      "      reference             (frozen):      0.003       TeV         \n",
      "      lon_0                 (frozen):      3.233       rad         \n",
      "      lat_0                 (frozen):     -0.061       rad         \n",
      "  \n",
      "  Component 5: SkyModel\n",
      "  \n",
      "    Name                      : 4FGL J0528.3+1817\n",
      "    Datasets names            : ['Fermi-LAT_00', 'Fermi-LAT_01']\n",
      "    Spectral model type       : PowerLawSpectralModel\n",
      "    Spatial  model type       : PointSpatialModel\n",
      "    Temporal model type       : \n",
      "    Parameters:\n",
      "      index                 (frozen):      1.683                   \n",
      "      amplitude                     :   1.84e-09   +/- 4.8e-10 1 / (TeV s cm2)\n",
      "      reference             (frozen):      0.010       TeV         \n",
      "      lon_0                 (frozen):      3.263       rad         \n",
      "      lat_0                 (frozen):     -0.157       rad         \n",
      "  \n",
      "  Component 6: SkyModel\n",
      "  \n",
      "    Name                      : 4FGL J0536.2+1733\n",
      "    Datasets names            : ['Fermi-LAT_00', 'Fermi-LAT_01']\n",
      "    Spectral model type       : LogParabolaSpectralModel\n",
      "    Spatial  model type       : PointSpatialModel\n",
      "    Temporal model type       : \n",
      "    Parameters:\n",
      "      amplitude                     :   8.60e-08   +/- 1.2e-08 1 / (TeV s cm2)\n",
      "      reference             (frozen):      0.003       TeV         \n",
      "      alpha                 (frozen):      1.970                   \n",
      "      beta                  (frozen):      0.239                   \n",
      "      lon_0                 (frozen):      3.291       rad         \n",
      "      lat_0                 (frozen):     -0.136       rad         \n",
      "  \n",
      "  Component 7: SkyModel\n",
      "  \n",
      "    Name                      : 4FGL J0550.9+2552c\n",
      "    Datasets names            : ['Fermi-LAT_00', 'Fermi-LAT_01']\n",
      "    Spectral model type       : PowerLawSpectralModel\n",
      "    Spatial  model type       : PointSpatialModel\n",
      "    Temporal model type       : \n",
      "    Parameters:\n",
      "      index                 (frozen):      2.445                   \n",
      "      amplitude             (frozen):   2.10e-07       1 / (TeV s cm2)\n",
      "      reference             (frozen):      0.002       TeV         \n",
      "      lon_0                 (frozen):      3.198       rad         \n",
      "      lat_0                 (frozen):     -0.010       rad         \n",
      "  \n",
      "  Component 8: SkyModel\n",
      "  \n",
      "    Name                      : 4FGL J0539.0+1644\n",
      "    Datasets names            : ['Fermi-LAT_00', 'Fermi-LAT_01']\n",
      "    Spectral model type       : PowerLawSpectralModel\n",
      "    Spatial  model type       : PointSpatialModel\n",
      "    Temporal model type       : \n",
      "    Parameters:\n",
      "      index                 (frozen):      1.974                   \n",
      "      amplitude             (frozen):   1.61e-08       1 / (TeV s cm2)\n",
      "      reference             (frozen):      0.005       TeV         \n",
      "      lon_0                 (frozen):      3.310       rad         \n",
      "      lat_0                 (frozen):     -0.134       rad         \n",
      "  \n",
      "  Component 9: SkyModel\n",
      "  \n",
      "    Name                      : 4FGL J0534.2+2751\n",
      "    Datasets names            : ['Fermi-LAT_00', 'Fermi-LAT_01']\n",
      "    Spectral model type       : PowerLawSpectralModel\n",
      "    Spatial  model type       : PointSpatialModel\n",
      "    Temporal model type       : \n",
      "    Parameters:\n",
      "      index                 (frozen):      1.892                   \n",
      "      amplitude             (frozen):   5.47e-09       1 / (TeV s cm2)\n",
      "      reference             (frozen):      0.008       TeV         \n",
      "      lon_0                 (frozen):      3.134       rad         \n",
      "      lat_0                 (frozen):     -0.047       rad         \n",
      "  \n",
      "  Component 10: SkyModel\n",
      "  \n",
      "    Name                      : 4FGL J0540.3+2756e\n",
      "    Datasets names            : ['Fermi-LAT_00', 'Fermi-LAT_01']\n",
      "    Spectral model type       : LogParabolaSpectralModel\n",
      "    Spatial  model type       : TemplateSpatialModel\n",
      "    Temporal model type       : \n",
      "    Parameters:\n",
      "      amplitude             (frozen):   6.24e-06       1 / (TeV s cm2)\n",
      "      reference             (frozen):      0.001       TeV         \n",
      "      alpha                 (frozen):      1.995                   \n",
      "      beta                  (frozen):      0.125                   \n",
      "  \n",
      "  Component 11: SkyModel\n",
      "  \n",
      "    Name                      : fermi-diffuse-iso-00\n",
      "    Datasets names            : ['Fermi-LAT_00']\n",
      "    Spectral model type       : CompoundSpectralModel\n",
      "    Spatial  model type       : ConstantSpatialModel\n",
      "    Temporal model type       : \n",
      "    Parameters:\n",
      "      norm                  (frozen):      1.000                   \n",
      "      norm@5OnwrEZU                 :      1.000   +/-    0.00             \n",
      "      tilt@123cEKP1         (frozen):      0.000                   \n",
      "      reference@luXFvdRm    (frozen):      1.000       TeV         \n",
      "      value                 (frozen):      1.000       1 / sr      \n",
      "  \n",
      "  Component 12: SkyModel\n",
      "  \n",
      "    Name                      : diffuse-iem\n",
      "    Datasets names            : ['Fermi-LAT_00', 'Fermi-LAT_01']\n",
      "    Spectral model type       : PowerLawNormSpectralModel\n",
      "    Spatial  model type       : TemplateSpatialModel\n",
      "    Temporal model type       : \n",
      "    Parameters:\n",
      "      norm                          :      1.000   +/-    0.00             \n",
      "      tilt                  (frozen):      0.000                   \n",
      "      reference             (frozen):      1.000       TeV         \n",
      "  \n",
      "  \n"
     ]
    },
    {
     "name": "stderr",
     "output_type": "stream",
     "text": [
      "/home/chaitanya.priyadarsh/anaconda3/envs/asgardpy/lib/python3.11/site-packages/gammapy/utils/interpolation.py:185: RuntimeWarning: overflow encountered in exp\n",
      "  output = np.exp(values)\n"
     ]
    },
    {
     "name": "stdout",
     "output_type": "stream",
     "text": [
      "MapDataset\n",
      "----------\n",
      "\n",
      "  Name                            : Fermi-LAT_01 \n",
      "\n",
      "  Total counts                    : 28810 \n",
      "  Total background counts         : nan\n",
      "  Total excess counts             : nan\n",
      "\n",
      "  Predicted counts                : 28570.86\n",
      "  Predicted background counts     : nan\n",
      "  Predicted excess counts         : 28570.86\n",
      "\n",
      "  Exposure min                    : 4.50e+10 cm2 s\n",
      "  Exposure max                    : 6.52e+10 cm2 s\n",
      "\n",
      "  Number of total bins            : 1182816 \n",
      "  Number of fit bins              : 269424 \n",
      "\n",
      "  Fit statistic type              : cash\n",
      "  Fit statistic value (-2 log(L)) : 73763.87\n",
      "\n",
      "  Number of models                : 13 \n",
      "  Number of parameters            : 71\n",
      "  Number of free parameters       : 8\n",
      "\n",
      "  Component 0: SkyModel\n",
      "  \n",
      "    Name                      : 4FGL J0534.5+2201i\n",
      "    Datasets names            : ['Fermi-LAT_00', 'Fermi-LAT_01', 'HESS']\n",
      "    Spectral model type       : CompoundSpectralModel\n",
      "    Spatial  model type       : GaussianSpatialModel\n",
      "    Temporal model type       : \n",
      "    Parameters:\n",
      "      amplitude                     :   1.00e-06   +/- 1.5e-07 1 / (TeV s cm2)\n",
      "      reference             (frozen):      0.010       TeV         \n",
      "      alpha                         :      1.700   +/-    0.10             \n",
      "      beta                          :      0.100   +/-    0.00             \n",
      "      alpha_norm            (frozen):      1.000                   \n",
      "      redshift              (frozen):      0.000                   \n",
      "      lon_0                 (frozen):    184.553       deg         \n",
      "      lat_0                 (frozen):     -5.781       deg         \n",
      "      sigma                 (frozen):      0.020       deg         \n",
      "      e                     (frozen):      0.000                   \n",
      "      phi                   (frozen):      0.000       deg         \n",
      "  \n",
      "  Component 1: SkyModel\n",
      "  \n",
      "    Name                      : 4FGL J0534.5+2201s\n",
      "    Datasets names            : ['Fermi-LAT_00', 'Fermi-LAT_01']\n",
      "    Spectral model type       : PowerLawSpectralModel\n",
      "    Spatial  model type       : PointSpatialModel\n",
      "    Temporal model type       : \n",
      "    Parameters:\n",
      "      index                 (frozen):      3.802                   \n",
      "      amplitude             (frozen):   3.80e-02       1 / (TeV s cm2)\n",
      "      reference             (frozen):      0.000       TeV         \n",
      "      lon_0                 (frozen):      3.221       rad         \n",
      "      lat_0                 (frozen):     -0.101       rad         \n",
      "  \n",
      "  Component 2: SkyModel\n",
      "  \n",
      "    Name                      : 4FGL J0534.5+2200\n",
      "    Datasets names            : ['Fermi-LAT_00', 'Fermi-LAT_01']\n",
      "    Spectral model type       : ExpCutoffPowerLawSpectralModel\n",
      "    Spatial  model type       : PointSpatialModel\n",
      "    Temporal model type       : \n",
      "    Parameters:\n",
      "      index                 (frozen):      1.883                   \n",
      "      amplitude                     :   7.23e-04   +/- 1.0e-05 1 / (TeV s cm2)\n",
      "      reference             (frozen):      0.001       TeV         \n",
      "      lambda_               (frozen):    295.318       1 / TeV     \n",
      "      alpha                 (frozen):      0.667                   \n",
      "      lon_0                 (frozen):      3.221       rad         \n",
      "      lat_0                 (frozen):     -0.101       rad         \n",
      "  \n",
      "  Component 3: SkyModel\n",
      "  \n",
      "    Name                      : 4FGL J0526.3+2246\n",
      "    Datasets names            : ['Fermi-LAT_00', 'Fermi-LAT_01']\n",
      "    Spectral model type       : PowerLawSpectralModel\n",
      "    Spatial  model type       : PointSpatialModel\n",
      "    Temporal model type       : \n",
      "    Parameters:\n",
      "      index                 (frozen):      2.026                   \n",
      "      amplitude             (frozen):   1.32e-08       1 / (TeV s cm2)\n",
      "      reference             (frozen):      0.005       TeV         \n",
      "      lon_0                 (frozen):      3.192       rad         \n",
      "      lat_0                 (frozen):     -0.121       rad         \n",
      "  \n",
      "  Component 4: SkyModel\n",
      "  \n",
      "    Name                      : 4FGL J0544.4+2238\n",
      "    Datasets names            : ['Fermi-LAT_00', 'Fermi-LAT_01']\n",
      "    Spectral model type       : PowerLawSpectralModel\n",
      "    Spatial  model type       : PointSpatialModel\n",
      "    Temporal model type       : \n",
      "    Parameters:\n",
      "      index                 (frozen):      2.292                   \n",
      "      amplitude             (frozen):   3.25e-08       1 / (TeV s cm2)\n",
      "      reference             (frozen):      0.003       TeV         \n",
      "      lon_0                 (frozen):      3.233       rad         \n",
      "      lat_0                 (frozen):     -0.061       rad         \n",
      "  \n",
      "  Component 5: SkyModel\n",
      "  \n",
      "    Name                      : 4FGL J0528.3+1817\n",
      "    Datasets names            : ['Fermi-LAT_00', 'Fermi-LAT_01']\n",
      "    Spectral model type       : PowerLawSpectralModel\n",
      "    Spatial  model type       : PointSpatialModel\n",
      "    Temporal model type       : \n",
      "    Parameters:\n",
      "      index                 (frozen):      1.683                   \n",
      "      amplitude                     :   1.84e-09   +/- 4.8e-10 1 / (TeV s cm2)\n",
      "      reference             (frozen):      0.010       TeV         \n",
      "      lon_0                 (frozen):      3.263       rad         \n",
      "      lat_0                 (frozen):     -0.157       rad         \n",
      "  \n",
      "  Component 6: SkyModel\n",
      "  \n",
      "    Name                      : 4FGL J0536.2+1733\n",
      "    Datasets names            : ['Fermi-LAT_00', 'Fermi-LAT_01']\n",
      "    Spectral model type       : LogParabolaSpectralModel\n",
      "    Spatial  model type       : PointSpatialModel\n",
      "    Temporal model type       : \n",
      "    Parameters:\n",
      "      amplitude                     :   8.60e-08   +/- 1.2e-08 1 / (TeV s cm2)\n",
      "      reference             (frozen):      0.003       TeV         \n",
      "      alpha                 (frozen):      1.970                   \n",
      "      beta                  (frozen):      0.239                   \n",
      "      lon_0                 (frozen):      3.291       rad         \n",
      "      lat_0                 (frozen):     -0.136       rad         \n",
      "  \n",
      "  Component 7: SkyModel\n",
      "  \n",
      "    Name                      : 4FGL J0550.9+2552c\n",
      "    Datasets names            : ['Fermi-LAT_00', 'Fermi-LAT_01']\n",
      "    Spectral model type       : PowerLawSpectralModel\n",
      "    Spatial  model type       : PointSpatialModel\n",
      "    Temporal model type       : \n",
      "    Parameters:\n",
      "      index                 (frozen):      2.445                   \n",
      "      amplitude             (frozen):   2.10e-07       1 / (TeV s cm2)\n",
      "      reference             (frozen):      0.002       TeV         \n",
      "      lon_0                 (frozen):      3.198       rad         \n",
      "      lat_0                 (frozen):     -0.010       rad         \n",
      "  \n",
      "  Component 8: SkyModel\n",
      "  \n",
      "    Name                      : 4FGL J0539.0+1644\n",
      "    Datasets names            : ['Fermi-LAT_00', 'Fermi-LAT_01']\n",
      "    Spectral model type       : PowerLawSpectralModel\n",
      "    Spatial  model type       : PointSpatialModel\n",
      "    Temporal model type       : \n",
      "    Parameters:\n",
      "      index                 (frozen):      1.974                   \n",
      "      amplitude             (frozen):   1.61e-08       1 / (TeV s cm2)\n",
      "      reference             (frozen):      0.005       TeV         \n",
      "      lon_0                 (frozen):      3.310       rad         \n",
      "      lat_0                 (frozen):     -0.134       rad         \n",
      "  \n",
      "  Component 9: SkyModel\n",
      "  \n",
      "    Name                      : 4FGL J0534.2+2751\n",
      "    Datasets names            : ['Fermi-LAT_00', 'Fermi-LAT_01']\n",
      "    Spectral model type       : PowerLawSpectralModel\n",
      "    Spatial  model type       : PointSpatialModel\n",
      "    Temporal model type       : \n",
      "    Parameters:\n",
      "      index                 (frozen):      1.892                   \n",
      "      amplitude             (frozen):   5.47e-09       1 / (TeV s cm2)\n",
      "      reference             (frozen):      0.008       TeV         \n",
      "      lon_0                 (frozen):      3.134       rad         \n",
      "      lat_0                 (frozen):     -0.047       rad         \n",
      "  \n",
      "  Component 10: SkyModel\n",
      "  \n",
      "    Name                      : 4FGL J0540.3+2756e\n",
      "    Datasets names            : ['Fermi-LAT_00', 'Fermi-LAT_01']\n",
      "    Spectral model type       : LogParabolaSpectralModel\n",
      "    Spatial  model type       : TemplateSpatialModel\n",
      "    Temporal model type       : \n",
      "    Parameters:\n",
      "      amplitude             (frozen):   6.24e-06       1 / (TeV s cm2)\n",
      "      reference             (frozen):      0.001       TeV         \n",
      "      alpha                 (frozen):      1.995                   \n",
      "      beta                  (frozen):      0.125                   \n",
      "  \n",
      "  Component 11: SkyModel\n",
      "  \n",
      "    Name                      : diffuse-iem\n",
      "    Datasets names            : ['Fermi-LAT_00', 'Fermi-LAT_01']\n",
      "    Spectral model type       : PowerLawNormSpectralModel\n",
      "    Spatial  model type       : TemplateSpatialModel\n",
      "    Temporal model type       : \n",
      "    Parameters:\n",
      "      norm                          :      1.000   +/-    0.00             \n",
      "      tilt                  (frozen):      0.000                   \n",
      "      reference             (frozen):      1.000       TeV         \n",
      "  \n",
      "  Component 12: SkyModel\n",
      "  \n",
      "    Name                      : fermi-diffuse-iso-01\n",
      "    Datasets names            : ['Fermi-LAT_01']\n",
      "    Spectral model type       : CompoundSpectralModel\n",
      "    Spatial  model type       : ConstantSpatialModel\n",
      "    Temporal model type       : \n",
      "    Parameters:\n",
      "      norm                  (frozen):      1.000                   \n",
      "      norm@5OnwrEZU                 :      1.000   +/-    0.00             \n",
      "      tilt@123cEKP1         (frozen):      0.000                   \n",
      "      reference@luXFvdRm    (frozen):      1.000       TeV         \n",
      "      value                 (frozen):      1.000       1 / sr      \n",
      "  \n",
      "  \n",
      "SpectrumDatasetOnOff\n",
      "--------------------\n",
      "\n",
      "  Name                            : HESS \n",
      "\n",
      "  Total counts                    : 496 \n",
      "  Total background counts         : 62.00\n",
      "  Total excess counts             : 434.00\n",
      "\n",
      "  Predicted counts                : 509.57\n",
      "  Predicted background counts     : 61.49\n",
      "  Predicted excess counts         : 448.08\n",
      "\n",
      "  Exposure min                    : 1.55e+08 m2 s\n",
      "  Exposure max                    : 1.82e+09 m2 s\n",
      "\n",
      "  Number of total bins            : 15 \n",
      "  Number of fit bins              : 11 \n",
      "\n",
      "  Fit statistic type              : wstat\n",
      "  Fit statistic value (-2 log(L)) : 4.79\n",
      "\n",
      "  Number of models                : 1 \n",
      "  Number of parameters            : 11\n",
      "  Number of free parameters       : 3\n",
      "\n",
      "  Component 0: SkyModel\n",
      "  \n",
      "    Name                      : 4FGL J0534.5+2201i\n",
      "    Datasets names            : ['Fermi-LAT_00', 'Fermi-LAT_01', 'HESS']\n",
      "    Spectral model type       : CompoundSpectralModel\n",
      "    Spatial  model type       : GaussianSpatialModel\n",
      "    Temporal model type       : \n",
      "    Parameters:\n",
      "      amplitude                     :   1.00e-06   +/- 1.5e-07 1 / (TeV s cm2)\n",
      "      reference             (frozen):      0.010       TeV         \n",
      "      alpha                         :      1.700   +/-    0.10             \n",
      "      beta                          :      0.100   +/-    0.00             \n",
      "      alpha_norm            (frozen):      1.000                   \n",
      "      redshift              (frozen):      0.000                   \n",
      "      lon_0                 (frozen):    184.553       deg         \n",
      "      lat_0                 (frozen):     -5.781       deg         \n",
      "      sigma                 (frozen):      0.020       deg         \n",
      "      e                     (frozen):      0.000                   \n",
      "      phi                   (frozen):      0.000       deg         \n",
      "  \n",
      "    Total counts_off                : 62 \n",
      "  Acceptance                      : 15 \n",
      "  Acceptance off                  : 15 \n",
      "\n",
      "CPU times: user 47.5 s, sys: 37.8 s, total: 1min 25s\n",
      "Wall time: 1min 25s\n"
     ]
    }
   ],
   "source": [
    "%%time\n",
    "for d in analysis.datasets:\n",
    "    print(d)      "
   ]
  },
  {
   "cell_type": "code",
   "execution_count": 38,
   "id": "3eb5ca23",
   "metadata": {},
   "outputs": [
    {
     "data": {
      "text/plain": [
       "9"
      ]
     },
     "execution_count": 38,
     "metadata": {},
     "output_type": "execute_result"
    }
   ],
   "source": [
    "len(list(analysis.final_model.parameters.free_parameters))"
   ]
  },
  {
   "cell_type": "markdown",
   "id": "4068c597",
   "metadata": {},
   "source": [
    "# Run the Fit step"
   ]
  },
  {
   "cell_type": "code",
   "execution_count": 39,
   "id": "43568856",
   "metadata": {},
   "outputs": [
    {
     "name": "stderr",
     "output_type": "stream",
     "text": [
      "Perform DL4 to DL5 processes!\n",
      "OptimizeResult\n",
      "\n",
      "\tbackend    : BackendEnum.minuit\n",
      "\tmethod     : migrad\n",
      "\tsuccess    : True\n",
      "\tmessage    : Optimization terminated successfully..\n",
      "\tnfev       : 261\n",
      "\ttotal stat : 120169.36\n",
      "\n",
      "CovarianceResult\n",
      "\n",
      "\tbackend    : BackendEnum.minuit\n",
      "\tmethod     : hesse\n",
      "\tsuccess    : True\n",
      "\tmessage    : Hesse terminated successfully.\n",
      "\n",
      "Analysis Step fit completed\n",
      "The Chi2/dof value of the goodness of Fit is 67.25/46\n",
      "and the p-value is 2.213e-02 and in Significance 2.29 sigmas\n",
      "with TS (H0) as -4452.830 and TS (H1) as -4520.080\n"
     ]
    },
    {
     "name": "stdout",
     "output_type": "stream",
     "text": [
      "CPU times: user 1min 19s, sys: 11.1 s, total: 1min 30s\n",
      "Wall time: 1min 30s\n"
     ]
    }
   ],
   "source": [
    "%%time\n",
    "analysis.run([\"fit\"])"
   ]
  },
  {
   "cell_type": "code",
   "execution_count": null,
   "id": "35c9fd26",
   "metadata": {},
   "outputs": [],
   "source": []
  },
  {
   "cell_type": "code",
   "execution_count": 40,
   "id": "81e1e6ec",
   "metadata": {},
   "outputs": [
    {
     "name": "stdout",
     "output_type": "stream",
     "text": [
      "OptimizeResult\n",
      "\n",
      "\tbackend    : BackendEnum.minuit\n",
      "\tmethod     : migrad\n",
      "\tsuccess    : True\n",
      "\tmessage    : Optimization terminated successfully..\n",
      "\tnfev       : 261\n",
      "\ttotal stat : 120169.36\n",
      "\n",
      "CovarianceResult\n",
      "\n",
      "\tbackend    : BackendEnum.minuit\n",
      "\tmethod     : hesse\n",
      "\tsuccess    : True\n",
      "\tmessage    : Hesse terminated successfully.\n",
      "\n"
     ]
    }
   ],
   "source": [
    "print(analysis.fit_result)"
   ]
  },
  {
   "cell_type": "code",
   "execution_count": null,
   "id": "3d28d06f",
   "metadata": {
    "scrolled": true
   },
   "outputs": [],
   "source": [
    "for m in analysis.datasets[0].models:\n",
    "    print(m)"
   ]
  },
  {
   "cell_type": "markdown",
   "id": "a034c627",
   "metadata": {},
   "source": [
    "# Run the Flux Points Estimator step"
   ]
  },
  {
   "cell_type": "code",
   "execution_count": 42,
   "id": "81715275",
   "metadata": {
    "scrolled": true
   },
   "outputs": [
    {
     "name": "stderr",
     "output_type": "stream",
     "text": [
      "Perform DL4 to DL5 processes!\n",
      "Using 10 processes to compute Energy bins\n",
      "/home/chaitanya.priyadarsh/anaconda3/envs/asgardpy/lib/python3.11/site-packages/gammapy/utils/interpolation.py:185: RuntimeWarning: overflow encountered in exp\n",
      "  output = np.exp(values)\n",
      "/home/chaitanya.priyadarsh/anaconda3/envs/asgardpy/lib/python3.11/site-packages/gammapy/utils/interpolation.py:185: RuntimeWarning: overflow encountered in exp\n",
      "  output = np.exp(values)\n",
      "/home/chaitanya.priyadarsh/anaconda3/envs/asgardpy/lib/python3.11/site-packages/gammapy/utils/interpolation.py:185: RuntimeWarning: overflow encountered in exp\n",
      "  output = np.exp(values)\n",
      "/home/chaitanya.priyadarsh/anaconda3/envs/asgardpy/lib/python3.11/site-packages/gammapy/utils/interpolation.py:185: RuntimeWarning: overflow encountered in exp\n",
      "  output = np.exp(values)\n",
      "/home/chaitanya.priyadarsh/anaconda3/envs/asgardpy/lib/python3.11/site-packages/gammapy/utils/interpolation.py:185: RuntimeWarning: overflow encountered in exp\n",
      "  output = np.exp(values)\n",
      "/home/chaitanya.priyadarsh/anaconda3/envs/asgardpy/lib/python3.11/site-packages/gammapy/utils/interpolation.py:185: RuntimeWarning: overflow encountered in exp\n",
      "  output = np.exp(values)\n",
      "/home/chaitanya.priyadarsh/anaconda3/envs/asgardpy/lib/python3.11/site-packages/gammapy/utils/interpolation.py:185: RuntimeWarning: overflow encountered in exp\n",
      "  output = np.exp(values)\n",
      "/home/chaitanya.priyadarsh/anaconda3/envs/asgardpy/lib/python3.11/site-packages/gammapy/utils/interpolation.py:185: RuntimeWarning: overflow encountered in exp\n",
      "  output = np.exp(values)\n",
      "/home/chaitanya.priyadarsh/anaconda3/envs/asgardpy/lib/python3.11/site-packages/gammapy/utils/interpolation.py:185: RuntimeWarning: overflow encountered in exp\n",
      "  output = np.exp(values)\n",
      "/home/chaitanya.priyadarsh/anaconda3/envs/asgardpy/lib/python3.11/site-packages/gammapy/utils/interpolation.py:185: RuntimeWarning: overflow encountered in exp\n",
      "  output = np.exp(values)\n",
      "/home/chaitanya.priyadarsh/anaconda3/envs/asgardpy/lib/python3.11/site-packages/gammapy/utils/interpolation.py:185: RuntimeWarning: overflow encountered in exp\n",
      "  output = np.exp(values)\n",
      "/home/chaitanya.priyadarsh/anaconda3/envs/asgardpy/lib/python3.11/site-packages/gammapy/utils/interpolation.py:185: RuntimeWarning: overflow encountered in exp\n",
      "  output = np.exp(values)\n",
      "/home/chaitanya.priyadarsh/anaconda3/envs/asgardpy/lib/python3.11/site-packages/gammapy/utils/interpolation.py:185: RuntimeWarning: overflow encountered in exp\n",
      "  output = np.exp(values)\n",
      "/home/chaitanya.priyadarsh/anaconda3/envs/asgardpy/lib/python3.11/site-packages/gammapy/utils/interpolation.py:185: RuntimeWarning: overflow encountered in exp\n",
      "  output = np.exp(values)\n",
      "/home/chaitanya.priyadarsh/anaconda3/envs/asgardpy/lib/python3.11/site-packages/gammapy/utils/interpolation.py:185: RuntimeWarning: overflow encountered in exp\n",
      "  output = np.exp(values)\n",
      "/home/chaitanya.priyadarsh/anaconda3/envs/asgardpy/lib/python3.11/site-packages/gammapy/utils/interpolation.py:185: RuntimeWarning: overflow encountered in exp\n",
      "  output = np.exp(values)\n",
      "/home/chaitanya.priyadarsh/anaconda3/envs/asgardpy/lib/python3.11/site-packages/gammapy/utils/interpolation.py:185: RuntimeWarning: overflow encountered in exp\n",
      "  output = np.exp(values)\n",
      "/home/chaitanya.priyadarsh/anaconda3/envs/asgardpy/lib/python3.11/site-packages/gammapy/utils/interpolation.py:185: RuntimeWarning: overflow encountered in exp\n",
      "  output = np.exp(values)\n",
      "/home/chaitanya.priyadarsh/anaconda3/envs/asgardpy/lib/python3.11/site-packages/gammapy/utils/interpolation.py:185: RuntimeWarning: overflow encountered in exp\n",
      "  output = np.exp(values)\n",
      "/home/chaitanya.priyadarsh/anaconda3/envs/asgardpy/lib/python3.11/site-packages/gammapy/utils/interpolation.py:185: RuntimeWarning: overflow encountered in exp\n",
      "  output = np.exp(values)\n",
      "/home/chaitanya.priyadarsh/anaconda3/envs/asgardpy/lib/python3.11/site-packages/gammapy/utils/interpolation.py:185: RuntimeWarning: overflow encountered in exp\n",
      "  output = np.exp(values)\n",
      "/home/chaitanya.priyadarsh/anaconda3/envs/asgardpy/lib/python3.11/site-packages/gammapy/utils/interpolation.py:185: RuntimeWarning: overflow encountered in exp\n",
      "  output = np.exp(values)\n",
      "Using 10 processes to compute Energy bins\n",
      "Analysis Step flux-points completed\n",
      "The Chi2/dof value of the goodness of Fit is 67.25/46\n",
      "and the p-value is 2.213e-02 and in Significance 2.29 sigmas\n",
      "with TS (H0) as -4452.830 and TS (H1) as -4520.080\n"
     ]
    },
    {
     "name": "stdout",
     "output_type": "stream",
     "text": [
      "CPU times: user 9.53 s, sys: 11.9 s, total: 21.5 s\n",
      "Wall time: 2min 5s\n"
     ]
    }
   ],
   "source": [
    "%%time\n",
    "analysis.run([\"flux-points\"])"
   ]
  },
  {
   "cell_type": "code",
   "execution_count": null,
   "id": "29404c38",
   "metadata": {},
   "outputs": [],
   "source": []
  },
  {
   "cell_type": "code",
   "execution_count": 43,
   "id": "4ccc15be",
   "metadata": {},
   "outputs": [
    {
     "name": "stdout",
     "output_type": "stream",
     "text": [
      "FluxPoints\n",
      "----------\n",
      "\n",
      "  geom                   : RegionGeom\n",
      "  axes                   : ['lon', 'lat', 'energy']\n",
      "  shape                  : (1, 1, 11)\n",
      "  quantities             : ['norm', 'norm_err', 'norm_errn', 'norm_errp', 'norm_ul', 'ts', 'npred', 'npred_excess', 'stat', 'counts', 'success', 'stat_scan']\n",
      "  ref. model             : compound\n",
      "  n_sigma                : 1\n",
      "  n_sigma_ul             : 2\n",
      "  sqrt_ts_threshold_ul   : 2\n",
      "  sed type init          : likelihood\n",
      "\n",
      "FluxPoints\n",
      "----------\n",
      "\n",
      "  geom                   : RegionGeom\n",
      "  axes                   : ['lon', 'lat', 'energy']\n",
      "  shape                  : (1, 1, 15)\n",
      "  quantities             : ['norm', 'norm_err', 'norm_errn', 'norm_errp', 'norm_ul', 'ts', 'npred', 'npred_excess', 'stat', 'counts', 'success', 'stat_scan']\n",
      "  ref. model             : compound\n",
      "  n_sigma                : 1\n",
      "  n_sigma_ul             : 2\n",
      "  sqrt_ts_threshold_ul   : 2\n",
      "  sed type init          : likelihood\n",
      "\n"
     ]
    }
   ],
   "source": [
    "for fp in analysis.flux_points:\n",
    "    print(fp)"
   ]
  },
  {
   "cell_type": "code",
   "execution_count": null,
   "id": "9b599324",
   "metadata": {},
   "outputs": [],
   "source": []
  },
  {
   "cell_type": "code",
   "execution_count": 44,
   "id": "c583f0d2",
   "metadata": {
    "scrolled": true
   },
   "outputs": [
    {
     "data": {
      "text/html": [
       "<div><i>Table length=11</i>\n",
       "<table id=\"table139685574710416\" class=\"table-striped table-bordered table-condensed\">\n",
       "<thead><tr><th>e_ref</th><th>e_min</th><th>e_max</th><th>e2dnde</th><th>e2dnde_err</th><th>e2dnde_errp</th><th>e2dnde_errn</th><th>e2dnde_ul</th><th>ts</th><th>sqrt_ts</th><th>npred</th><th>npred_excess</th><th>stat</th><th>is_ul</th><th>counts</th><th>success</th><th>norm_scan</th><th>stat_scan</th></tr></thead>\n",
       "<thead><tr><th>TeV</th><th>TeV</th><th>TeV</th><th>TeV / (s cm2)</th><th>TeV / (s cm2)</th><th>TeV / (s cm2)</th><th>TeV / (s cm2)</th><th>TeV / (s cm2)</th><th></th><th></th><th></th><th></th><th></th><th></th><th></th><th></th><th></th><th></th></tr></thead>\n",
       "<thead><tr><th>float64</th><th>float64</th><th>float64</th><th>float64</th><th>float64</th><th>float64</th><th>float64</th><th>float64</th><th>float64</th><th>float64</th><th>float64[2]</th><th>float32[2]</th><th>float64</th><th>bool</th><th>float64[2]</th><th>bool</th><th>float64[11]</th><th>float64[11]</th></tr></thead>\n",
       "<tr><td>0.001</td><td>0.001</td><td>0.002</td><td>1.728e-11</td><td>2.235e-12</td><td>2.243e-12</td><td>2.228e-12</td><td>2.178e-11</td><td>62.979</td><td>7.936</td><td>15345.396984523384 .. 15232.64119690531</td><td>437.87695 .. 434.8675</td><td>44052.361</td><td>False</td><td>16088.0 .. 15605.0</td><td>True</td><td>0.200 .. 5.000</td><td>44093.151 .. 44770.953</td></tr>\n",
       "<tr><td>0.002</td><td>0.002</td><td>0.003</td><td>1.891e-11</td><td>2.620e-12</td><td>2.632e-12</td><td>2.608e-12</td><td>2.419e-11</td><td>55.823</td><td>7.471</td><td>7573.6624179725095 .. 7423.148651483705</td><td>285.64978 .. 280.4052</td><td>34610.865</td><td>False</td><td>7559.0 .. 7636.0</td><td>True</td><td>0.200 .. 5.000</td><td>34640.704 .. 35798.004</td></tr>\n",
       "<tr><td>0.004</td><td>0.003</td><td>0.006</td><td>3.970e-11</td><td>3.246e-12</td><td>3.268e-12</td><td>3.225e-12</td><td>4.628e-11</td><td>179.112</td><td>13.383</td><td>3451.8741146737348 .. 3410.073203866996</td><td>331.09457 .. 326.9443</td><td>20004.770</td><td>False</td><td>3235.0 .. 3342.0</td><td>True</td><td>0.200 .. 5.000</td><td>20122.210 .. 21147.666</td></tr>\n",
       "<tr><td>0.007</td><td>0.006</td><td>0.010</td><td>5.105e-11</td><td>3.806e-12</td><td>3.843e-12</td><td>3.769e-12</td><td>5.882e-11</td><td>248.658</td><td>15.769</td><td>1559.6068050448844 .. 1503.359152552588</td><td>242.86526 .. 233.99243</td><td>9831.720</td><td>False</td><td>1308.0 .. 1266.0</td><td>True</td><td>0.200 .. 5.000</td><td>9986.988 .. 11047.243</td></tr>\n",
       "<tr><td>0.013</td><td>0.010</td><td>0.018</td><td>5.494e-11</td><td>4.287e-12</td><td>4.351e-12</td><td>4.221e-12</td><td>6.375e-11</td><td>286.132</td><td>16.915</td><td>683.4009377327534 .. 631.2315262210027</td><td>150.75214 .. 139.37494</td><td>5556.121</td><td>False</td><td>539.0 .. 529.0</td><td>True</td><td>0.200 .. 5.000</td><td>5708.319 .. 6756.871</td></tr>\n",
       "<tr><td>0.024</td><td>0.018</td><td>0.032</td><td>7.363e-11</td><td>5.467e-12</td><td>5.582e-12</td><td>5.357e-12</td><td>8.506e-11</td><td>517.511</td><td>22.749</td><td>317.95112641625144 .. 293.0405028983058</td><td>114.69937 .. 105.942566</td><td>2924.363</td><td>False</td><td>271.0 .. 231.0</td><td>True</td><td>0.200 .. 5.000</td><td>3166.355 .. 3769.174</td></tr>\n",
       "<tr><td>0.042</td><td>0.032</td><td>0.056</td><td>6.355e-11</td><td>6.250e-12</td><td>6.443e-12</td><td>6.059e-12</td><td>7.682e-11</td><td>479.305</td><td>21.893</td><td>137.83302520407972 .. 126.04194372782932</td><td>58.122574 .. 53.2257</td><td>1468.595</td><td>False</td><td>108.0 .. 99.0</td><td>True</td><td>0.200 .. 5.000</td><td>1598.049 .. 2141.342</td></tr>\n",
       "<tr><td>0.075</td><td>0.056</td><td>0.100</td><td>7.205e-11</td><td>8.621e-12</td><td>8.963e-12</td><td>8.284e-12</td><td>9.067e-11</td><td>588.639</td><td>24.262</td><td>68.77998673875518 .. 60.82847658177178</td><td>37.699257 .. 33.39348</td><td>833.737</td><td>False</td><td>61.0 .. 55.0</td><td>True</td><td>0.200 .. 5.000</td><td>936.937 .. 1212.946</td></tr>\n",
       "<tr><td>0.133</td><td>0.100</td><td>0.178</td><td>6.301e-11</td><td>1.078e-11</td><td>1.140e-11</td><td>1.018e-11</td><td>8.705e-11</td><td>384.357</td><td>19.605</td><td>30.406505397783945 .. 26.029133853128954</td><td>18.657898 .. 15.993537</td><td>441.925</td><td>False</td><td>28.0 .. 24.0</td><td>True</td><td>0.200 .. 5.000</td><td>486.878 .. 661.945</td></tr>\n",
       "<tr><td>0.237</td><td>0.178</td><td>0.316</td><td>6.187e-11</td><td>1.421e-11</td><td>1.532e-11</td><td>1.315e-11</td><td>9.479e-11</td><td>247.510</td><td>15.732</td><td>15.225529912026273 .. 12.614716317637082</td><td>10.37569 .. 8.601431</td><td>211.914</td><td>False</td><td>12.0 .. 14.0</td><td>True</td><td>0.200 .. 5.000</td><td>239.218 .. 320.547</td></tr>\n",
       "<tr><td>0.422</td><td>0.316</td><td>0.562</td><td>4.760e-11</td><td>1.686e-11</td><td>1.890e-11</td><td>1.494e-11</td><td>8.969e-11</td><td>99.494</td><td>9.975</td><td>7.085671397271719 .. 5.553700001328535</td><td>4.5204926 .. 3.5445971</td><td>114.348</td><td>False</td><td>4.0 .. 7.0</td><td>True</td><td>0.200 .. 5.000</td><td>124.460 .. 168.988</td></tr>\n",
       "</table></div>"
      ],
      "text/plain": [
       "<Table length=11>\n",
       " e_ref   e_min   e_max      e2dnde      e2dnde_err   e2dnde_errp  ...    stat   is_ul       counts       success   norm_scan          stat_scan       \n",
       "  TeV     TeV     TeV   TeV / (s cm2) TeV / (s cm2) TeV / (s cm2) ...                                                                                 \n",
       "float64 float64 float64    float64       float64       float64    ...  float64   bool     float64[2]       bool   float64[11]        float64[11]      \n",
       "------- ------- ------- ------------- ------------- ------------- ... --------- ----- ------------------ ------- -------------- ----------------------\n",
       "  0.001   0.001   0.002     1.728e-11     2.235e-12     2.243e-12 ... 44052.361 False 16088.0 .. 15605.0    True 0.200 .. 5.000 44093.151 .. 44770.953\n",
       "  0.002   0.002   0.003     1.891e-11     2.620e-12     2.632e-12 ... 34610.865 False   7559.0 .. 7636.0    True 0.200 .. 5.000 34640.704 .. 35798.004\n",
       "  0.004   0.003   0.006     3.970e-11     3.246e-12     3.268e-12 ... 20004.770 False   3235.0 .. 3342.0    True 0.200 .. 5.000 20122.210 .. 21147.666\n",
       "  0.007   0.006   0.010     5.105e-11     3.806e-12     3.843e-12 ...  9831.720 False   1308.0 .. 1266.0    True 0.200 .. 5.000  9986.988 .. 11047.243\n",
       "  0.013   0.010   0.018     5.494e-11     4.287e-12     4.351e-12 ...  5556.121 False     539.0 .. 529.0    True 0.200 .. 5.000   5708.319 .. 6756.871\n",
       "  0.024   0.018   0.032     7.363e-11     5.467e-12     5.582e-12 ...  2924.363 False     271.0 .. 231.0    True 0.200 .. 5.000   3166.355 .. 3769.174\n",
       "  0.042   0.032   0.056     6.355e-11     6.250e-12     6.443e-12 ...  1468.595 False      108.0 .. 99.0    True 0.200 .. 5.000   1598.049 .. 2141.342\n",
       "  0.075   0.056   0.100     7.205e-11     8.621e-12     8.963e-12 ...   833.737 False       61.0 .. 55.0    True 0.200 .. 5.000    936.937 .. 1212.946\n",
       "  0.133   0.100   0.178     6.301e-11     1.078e-11     1.140e-11 ...   441.925 False       28.0 .. 24.0    True 0.200 .. 5.000     486.878 .. 661.945\n",
       "  0.237   0.178   0.316     6.187e-11     1.421e-11     1.532e-11 ...   211.914 False       12.0 .. 14.0    True 0.200 .. 5.000     239.218 .. 320.547\n",
       "  0.422   0.316   0.562     4.760e-11     1.686e-11     1.890e-11 ...   114.348 False         4.0 .. 7.0    True 0.200 .. 5.000     124.460 .. 168.988"
      ]
     },
     "execution_count": 44,
     "metadata": {},
     "output_type": "execute_result"
    }
   ],
   "source": [
    "fermi_fpt = analysis.flux_points[0].to_table(sed_type=\"e2dnde\", formatted=True)\n",
    "fermi_fpt"
   ]
  },
  {
   "cell_type": "code",
   "execution_count": 45,
   "id": "728035db",
   "metadata": {},
   "outputs": [
    {
     "data": {
      "text/plain": [
       "<matplotlib.legend.Legend at 0x7f0bc56e84d0>"
      ]
     },
     "execution_count": 45,
     "metadata": {},
     "output_type": "execute_result"
    },
    {
     "data": {
      "image/png": "[encoded data removed]",
      "text/plain": [
       "<Figure size 640x480 with 1 Axes>"
      ]
     },
     "metadata": {},
     "output_type": "display_data"
    }
   ],
   "source": [
    "analysis.flux_points[0].plot(sed_type=\"e2dnde\", color=\"red\", label=\"Fermi-LAT\")\n",
    "analysis.datasets[0].models[config_main.target.source_name].spectral_model.plot(\n",
    "    sed_type=\"e2dnde\", energy_bounds=[70 * u.MeV,10 * u.TeV]\n",
    ")\n",
    "analysis.datasets[0].models[config_main.target.source_name].spectral_model.plot_error(\n",
    "    sed_type=\"e2dnde\", energy_bounds=[70 * u.MeV,10 * u.TeV]\n",
    ")\n",
    "\n",
    "plt.grid(which=\"both\")\n",
    "plt.legend()"
   ]
  },
  {
   "cell_type": "code",
   "execution_count": null,
   "id": "78b08352",
   "metadata": {},
   "outputs": [],
   "source": []
  },
  {
   "cell_type": "code",
   "execution_count": 46,
   "id": "b41dab1e",
   "metadata": {
    "scrolled": true
   },
   "outputs": [
    {
     "data": {
      "text/html": [
       "<div><i>Table length=15</i>\n",
       "<table id=\"table139685606972112\" class=\"table-striped table-bordered table-condensed\">\n",
       "<thead><tr><th>e_ref</th><th>e_min</th><th>e_max</th><th>e2dnde</th><th>e2dnde_err</th><th>e2dnde_errp</th><th>e2dnde_errn</th><th>e2dnde_ul</th><th>ts</th><th>sqrt_ts</th><th>npred</th><th>npred_excess</th><th>stat</th><th>is_ul</th><th>counts</th><th>success</th><th>norm_scan</th><th>stat_scan</th></tr></thead>\n",
       "<thead><tr><th>TeV</th><th>TeV</th><th>TeV</th><th>TeV / (s cm2)</th><th>TeV / (s cm2)</th><th>TeV / (s cm2)</th><th>TeV / (s cm2)</th><th>TeV / (s cm2)</th><th></th><th></th><th></th><th></th><th></th><th></th><th></th><th></th><th></th><th></th></tr></thead>\n",
       "<thead><tr><th>float64</th><th>float64</th><th>float64</th><th>float64</th><th>float64</th><th>float64</th><th>float64</th><th>float64</th><th>float64</th><th>float64</th><th>float64[1]</th><th>float32[1]</th><th>float64</th><th>bool</th><th>float64[1]</th><th>bool</th><th>float64[11]</th><th>float64[11]</th></tr></thead>\n",
       "<tr><td>0.126</td><td>0.100</td><td>0.158</td><td>nan</td><td>nan</td><td>nan</td><td>nan</td><td>nan</td><td>nan</td><td>nan</td><td>nan</td><td>0.0</td><td>0.000</td><td>False</td><td>0.0</td><td>False</td><td>0.200 .. 5.000</td><td>nan .. nan</td></tr>\n",
       "<tr><td>0.200</td><td>0.158</td><td>0.251</td><td>nan</td><td>nan</td><td>nan</td><td>nan</td><td>nan</td><td>nan</td><td>nan</td><td>nan</td><td>0.0</td><td>0.000</td><td>False</td><td>0.0</td><td>False</td><td>0.200 .. 5.000</td><td>nan .. nan</td></tr>\n",
       "<tr><td>0.316</td><td>0.251</td><td>0.398</td><td>nan</td><td>nan</td><td>nan</td><td>nan</td><td>nan</td><td>nan</td><td>nan</td><td>nan</td><td>0.0</td><td>0.000</td><td>False</td><td>0.0</td><td>False</td><td>0.200 .. 5.000</td><td>nan .. nan</td></tr>\n",
       "<tr><td>0.501</td><td>0.398</td><td>0.631</td><td>nan</td><td>nan</td><td>nan</td><td>nan</td><td>nan</td><td>nan</td><td>nan</td><td>nan</td><td>0.0</td><td>0.000</td><td>False</td><td>0.0</td><td>False</td><td>0.200 .. 5.000</td><td>nan .. nan</td></tr>\n",
       "<tr><td>0.794</td><td>0.631</td><td>1.000</td><td>5.559e-11</td><td>4.624e-12</td><td>4.701e-12</td><td>4.552e-12</td><td>6.517e-11</td><td>163.720</td><td>12.795</td><td>217.9459005380534</td><td>188.9387</td><td>0.000</td><td>False</td><td>218.0</td><td>True</td><td>0.200 .. 5.000</td><td>116.758 .. 628.070</td></tr>\n",
       "<tr><td>1.259</td><td>1.000</td><td>1.585</td><td>3.641e-11</td><td>3.887e-12</td><td>3.997e-12</td><td>3.784e-12</td><td>4.463e-11</td><td>105.412</td><td>10.267</td><td>106.994982275757</td><td>99.99465</td><td>0.000</td><td>False</td><td>107.0</td><td>True</td><td>0.200 .. 5.000</td><td>70.067 .. 495.082</td></tr>\n",
       "<tr><td>1.995</td><td>1.585</td><td>2.512</td><td>2.958e-11</td><td>4.045e-12</td><td>4.160e-12</td><td>3.940e-12</td><td>3.815e-11</td><td>60.827</td><td>7.799</td><td>79.00124909632217</td><td>69.0014</td><td>0.000</td><td>False</td><td>79.0</td><td>True</td><td>0.200 .. 5.000</td><td>40.661 .. 304.480</td></tr>\n",
       "<tr><td>3.162</td><td>2.512</td><td>3.981</td><td>2.107e-11</td><td>3.870e-12</td><td>4.008e-12</td><td>3.750e-12</td><td>2.938e-11</td><td>33.206</td><td>5.762</td><td>47.00618495906516</td><td>40.007107</td><td>0.000</td><td>False</td><td>47.0</td><td>True</td><td>0.200 .. 5.000</td><td>21.643 .. 187.735</td></tr>\n",
       "<tr><td>5.012</td><td>3.981</td><td>6.310</td><td>1.240e-11</td><td>3.772e-12</td><td>3.929e-12</td><td>3.659e-12</td><td>2.063e-11</td><td>11.565</td><td>3.401</td><td>24.000312166131845</td><td>18.000391</td><td>0.000</td><td>False</td><td>24.0</td><td>True</td><td>0.200 .. 5.000</td><td>6.642 .. 110.214</td></tr>\n",
       "<tr><td>7.943</td><td>6.310</td><td>10.000</td><td>1.275e-11</td><td>4.046e-12</td><td>4.320e-12</td><td>3.832e-12</td><td>2.202e-11</td><td>11.252</td><td>3.354</td><td>14.995133614027967</td><td>12.994484</td><td>0.000</td><td>False</td><td>15.0</td><td>True</td><td>0.200 .. 5.000</td><td>8.060 .. 42.250</td></tr>\n",
       "<tr><td>12.589</td><td>10.000</td><td>15.849</td><td>4.247e-12</td><td>3.165e-12</td><td>3.529e-12</td><td>3.023e-12</td><td>1.223e-11</td><td>1.927</td><td>1.388</td><td>4.000305509716521</td><td>3.000382</td><td>0.000</td><td>True</td><td>4.0</td><td>True</td><td>0.200 .. 5.000</td><td>0.882 .. 28.355</td></tr>\n",
       "<tr><td>19.953</td><td>15.849</td><td>25.119</td><td>4.257e-12</td><td>3.011e-12</td><td>3.760e-12</td><td>2.372e-12</td><td>1.340e-11</td><td>2.773</td><td>1.665</td><td>1.9988396816730687</td><td>1.9988397</td><td>0.000</td><td>True</td><td>2.0</td><td>True</td><td>0.200 .. 5.000</td><td>1.933 .. 10.357</td></tr>\n",
       "<tr><td>31.623</td><td>25.119</td><td>39.811</td><td>5.364e-19</td><td>2.900e-16</td><td>1.595e-12</td><td>nan</td><td>6.380e-12</td><td>-0.000</td><td>0.000</td><td>1.6813463556848073e-07</td><td>1.6813463e-07</td><td>0.000</td><td>True</td><td>0.0</td><td>True</td><td>0.200 .. 5.000</td><td>0.342 .. 8.549</td></tr>\n",
       "<tr><td>50.119</td><td>39.811</td><td>63.096</td><td>nan</td><td>nan</td><td>nan</td><td>nan</td><td>nan</td><td>nan</td><td>nan</td><td>nan</td><td>0.0</td><td>0.000</td><td>False</td><td>0.0</td><td>False</td><td>0.200 .. 5.000</td><td>nan .. nan</td></tr>\n",
       "<tr><td>79.433</td><td>63.096</td><td>100.000</td><td>nan</td><td>nan</td><td>nan</td><td>nan</td><td>nan</td><td>nan</td><td>nan</td><td>nan</td><td>0.0</td><td>0.000</td><td>False</td><td>0.0</td><td>False</td><td>0.200 .. 5.000</td><td>nan .. nan</td></tr>\n",
       "</table></div>"
      ],
      "text/plain": [
       "<Table length=15>\n",
       " e_ref   e_min   e_max      e2dnde      e2dnde_err   e2dnde_errp   e2dnde_errn  ...   stat  is_ul   counts   success   norm_scan        stat_scan     \n",
       "  TeV     TeV     TeV   TeV / (s cm2) TeV / (s cm2) TeV / (s cm2) TeV / (s cm2) ...                                                                   \n",
       "float64 float64 float64    float64       float64       float64       float64    ... float64  bool float64[1]   bool   float64[11]      float64[11]    \n",
       "------- ------- ------- ------------- ------------- ------------- ------------- ... ------- ----- ---------- ------- -------------- ------------------\n",
       "  0.126   0.100   0.158           nan           nan           nan           nan ...   0.000 False        0.0   False 0.200 .. 5.000         nan .. nan\n",
       "  0.200   0.158   0.251           nan           nan           nan           nan ...   0.000 False        0.0   False 0.200 .. 5.000         nan .. nan\n",
       "  0.316   0.251   0.398           nan           nan           nan           nan ...   0.000 False        0.0   False 0.200 .. 5.000         nan .. nan\n",
       "  0.501   0.398   0.631           nan           nan           nan           nan ...   0.000 False        0.0   False 0.200 .. 5.000         nan .. nan\n",
       "  0.794   0.631   1.000     5.559e-11     4.624e-12     4.701e-12     4.552e-12 ...   0.000 False      218.0    True 0.200 .. 5.000 116.758 .. 628.070\n",
       "  1.259   1.000   1.585     3.641e-11     3.887e-12     3.997e-12     3.784e-12 ...   0.000 False      107.0    True 0.200 .. 5.000  70.067 .. 495.082\n",
       "  1.995   1.585   2.512     2.958e-11     4.045e-12     4.160e-12     3.940e-12 ...   0.000 False       79.0    True 0.200 .. 5.000  40.661 .. 304.480\n",
       "  3.162   2.512   3.981     2.107e-11     3.870e-12     4.008e-12     3.750e-12 ...   0.000 False       47.0    True 0.200 .. 5.000  21.643 .. 187.735\n",
       "  5.012   3.981   6.310     1.240e-11     3.772e-12     3.929e-12     3.659e-12 ...   0.000 False       24.0    True 0.200 .. 5.000   6.642 .. 110.214\n",
       "  7.943   6.310  10.000     1.275e-11     4.046e-12     4.320e-12     3.832e-12 ...   0.000 False       15.0    True 0.200 .. 5.000    8.060 .. 42.250\n",
       " 12.589  10.000  15.849     4.247e-12     3.165e-12     3.529e-12     3.023e-12 ...   0.000  True        4.0    True 0.200 .. 5.000    0.882 .. 28.355\n",
       " 19.953  15.849  25.119     4.257e-12     3.011e-12     3.760e-12     2.372e-12 ...   0.000  True        2.0    True 0.200 .. 5.000    1.933 .. 10.357\n",
       " 31.623  25.119  39.811     5.364e-19     2.900e-16     1.595e-12           nan ...   0.000  True        0.0    True 0.200 .. 5.000     0.342 .. 8.549\n",
       " 50.119  39.811  63.096           nan           nan           nan           nan ...   0.000 False        0.0   False 0.200 .. 5.000         nan .. nan\n",
       " 79.433  63.096 100.000           nan           nan           nan           nan ...   0.000 False        0.0   False 0.200 .. 5.000         nan .. nan"
      ]
     },
     "execution_count": 46,
     "metadata": {},
     "output_type": "execute_result"
    }
   ],
   "source": [
    "hess_fpt = analysis.flux_points[1].to_table(sed_type=\"e2dnde\", formatted=True)\n",
    "hess_fpt"
   ]
  },
  {
   "cell_type": "code",
   "execution_count": 47,
   "id": "d0026990",
   "metadata": {},
   "outputs": [
    {
     "data": {
      "text/plain": [
       "<matplotlib.legend.Legend at 0x7f0bc4b84950>"
      ]
     },
     "execution_count": 47,
     "metadata": {},
     "output_type": "execute_result"
    },
    {
     "data": {
      "image/png": "[encoded data removed]",
      "text/plain": [
       "<Figure size 640x480 with 1 Axes>"
      ]
     },
     "metadata": {},
     "output_type": "display_data"
    }
   ],
   "source": [
    "analysis.flux_points[1].plot(sed_type=\"e2dnde\", color=\"red\", label=\"HESS\")\n",
    "analysis.datasets[1].models[0].spectral_model.plot(\n",
    "    sed_type=\"e2dnde\", energy_bounds=[10 * u.GeV, 40 * u.TeV]\n",
    ")\n",
    "analysis.datasets[1].models[0].spectral_model.plot_error(\n",
    "    sed_type=\"e2dnde\", energy_bounds=[10 * u.GeV, 40 * u.TeV]\n",
    ")\n",
    "\n",
    "plt.grid(which=\"both\")\n",
    "plt.legend()"
   ]
  },
  {
   "cell_type": "code",
   "execution_count": null,
   "id": "3be276f3",
   "metadata": {},
   "outputs": [],
   "source": []
  },
  {
   "cell_type": "markdown",
   "id": "a89a6cc6",
   "metadata": {},
   "source": [
    "# Final SED plot with all instruments"
   ]
  },
  {
   "cell_type": "code",
   "execution_count": 48,
   "id": "4dff7b70",
   "metadata": {},
   "outputs": [
    {
     "data": {
      "text/plain": [
       "(0.0007, 50.0)"
      ]
     },
     "execution_count": 48,
     "metadata": {},
     "output_type": "execute_result"
    },
    {
     "data": {
      "image/png": "[encoded data removed]",
      "text/plain": [
       "<Figure size 640x480 with 1 Axes>"
      ]
     },
     "metadata": {},
     "output_type": "display_data"
    }
   ],
   "source": [
    "analysis.flux_points[0].plot(sed_type=\"e2dnde\", color=\"red\", label=\"Fermi-LAT\")\n",
    "analysis.flux_points[1].plot(sed_type=\"e2dnde\", color=\"green\", label=\"HESS\")\n",
    "\n",
    "analysis.datasets[1].models[0].spectral_model.plot(\n",
    "    sed_type=\"e2dnde\", energy_bounds=[70 * u.MeV, 40 * u.TeV]\n",
    ")\n",
    "analysis.datasets[1].models[0].spectral_model.plot_error(\n",
    "    sed_type=\"e2dnde\", energy_bounds=[70 * u.MeV, 40 * u.TeV]\n",
    ")\n",
    "\n",
    "plt.grid(which=\"both\")\n",
    "plt.legend()\n",
    "plt.xlim(7e-4, 5e1)"
   ]
  },
  {
   "cell_type": "code",
   "execution_count": null,
   "id": "99ecfff8",
   "metadata": {},
   "outputs": [],
   "source": []
  }
 ],
 "metadata": {
  "kernelspec": {
   "display_name": "asgardpy",
   "language": "python",
   "name": "asgardpy"
  },
  "language_info": {
   "codemirror_mode": {
    "name": "ipython",
    "version": 3
   },
   "file_extension": ".py",
   "mimetype": "text/x-python",
   "name": "python",
   "nbconvert_exporter": "python",
   "pygments_lexer": "ipython3",
   "version": "3.11.4"
  }
 },
 "nbformat": 4,
 "nbformat_minor": 5
}
