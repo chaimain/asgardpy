{
 "cells": [
  {
   "cell_type": "code",
   "execution_count": null,
   "id": "b1ec7671",
   "metadata": {},
   "outputs": [],
   "source": [
    "from asgardpy.analysis import AsgardpyAnalysis\n",
    "from asgardpy.config import AsgardpyConfig\n",
    "from asgardpy.data.target import apply_selection_mask_to_models, set_models\n",
    "\n",
    "from gammapy.maps import Map\n",
    "from gammapy.modeling.models import Models\n",
    "from gammapy.modeling import Fit\n",
    "from gammapy.estimators import FluxPointsEstimator\n",
    "from gammapy.datasets import Datasets\n",
    "\n",
    "import matplotlib.pyplot as plt\n",
    "import numpy as np\n",
    "\n",
    "import astropy.units as u\n",
    "import logging"
   ]
  },
  {
   "cell_type": "code",
   "execution_count": null,
   "id": "26d02b94",
   "metadata": {},
   "outputs": [],
   "source": []
  },
  {
   "cell_type": "code",
   "execution_count": null,
   "id": "d6ebb09f",
   "metadata": {},
   "outputs": [],
   "source": [
    "log = logging.getLogger(\"test DL4 steps\")"
   ]
  },
  {
   "cell_type": "code",
   "execution_count": null,
   "id": "1544544f",
   "metadata": {},
   "outputs": [],
   "source": [
    "config_file = \"/path/to/Config.yaml\""
   ]
  },
  {
   "cell_type": "code",
   "execution_count": null,
   "id": "b88cfc7a",
   "metadata": {},
   "outputs": [],
   "source": [
    "config = AsgardpyConfig()"
   ]
  },
  {
   "cell_type": "code",
   "execution_count": null,
   "id": "512ebdbc",
   "metadata": {},
   "outputs": [],
   "source": [
    "%%time\n",
    "config_main = config.read(config_file)"
   ]
  },
  {
   "cell_type": "code",
   "execution_count": null,
   "id": "a1048270",
   "metadata": {},
   "outputs": [],
   "source": [
    "for g in config_main.general:\n",
    "    print(g)"
   ]
  },
  {
   "cell_type": "markdown",
   "id": "00c5f313",
   "metadata": {},
   "source": [
    "# Steps mentioned in the main config file"
   ]
  },
  {
   "cell_type": "code",
   "execution_count": null,
   "id": "75d2e424",
   "metadata": {},
   "outputs": [],
   "source": [
    "config_main.general.steps"
   ]
  },
  {
   "cell_type": "code",
   "execution_count": null,
   "id": "612bb495",
   "metadata": {},
   "outputs": [],
   "source": [
    "for c in config_main.target:\n",
    "    print(c)"
   ]
  },
  {
   "cell_type": "markdown",
   "id": "4b167659",
   "metadata": {},
   "source": [
    "# Datasets informations"
   ]
  },
  {
   "cell_type": "code",
   "execution_count": null,
   "id": "65118f53",
   "metadata": {},
   "outputs": [],
   "source": [
    "for cc in config_main.dataset3d:\n",
    "    print(cc)"
   ]
  },
  {
   "cell_type": "code",
   "execution_count": null,
   "id": "25b7a155",
   "metadata": {},
   "outputs": [],
   "source": [
    "for cc in config_main.dataset1d:\n",
    "    print(cc)"
   ]
  },
  {
   "cell_type": "markdown",
   "id": "1eaf41d3",
   "metadata": {},
   "source": [
    "# DL4 step information"
   ]
  },
  {
   "cell_type": "code",
   "execution_count": null,
   "id": "e4fe0222",
   "metadata": {},
   "outputs": [],
   "source": [
    "for cc in config_main.fit_params:\n",
    "    print(cc)"
   ]
  },
  {
   "cell_type": "code",
   "execution_count": null,
   "id": "324b9eb4",
   "metadata": {},
   "outputs": [],
   "source": [
    "for cc in config_main.flux_points_params:\n",
    "    print(cc)"
   ]
  },
  {
   "cell_type": "code",
   "execution_count": null,
   "id": "148d4f5d",
   "metadata": {},
   "outputs": [],
   "source": []
  },
  {
   "cell_type": "code",
   "execution_count": null,
   "id": "e7ed7257",
   "metadata": {},
   "outputs": [],
   "source": [
    "%%time\n",
    "analysis = AsgardpyAnalysis(config_main)"
   ]
  },
  {
   "cell_type": "code",
   "execution_count": null,
   "id": "794b4546",
   "metadata": {},
   "outputs": [],
   "source": [
    "analysis"
   ]
  },
  {
   "cell_type": "code",
   "execution_count": null,
   "id": "0d093fa6",
   "metadata": {},
   "outputs": [],
   "source": []
  },
  {
   "cell_type": "markdown",
   "id": "496de916",
   "metadata": {},
   "source": [
    "# Prepare the dataset"
   ]
  },
  {
   "cell_type": "code",
   "execution_count": null,
   "id": "2be936b1",
   "metadata": {},
   "outputs": [],
   "source": [
    "instruments_list_3d = config_main.dataset3d.instruments\n",
    "print(len(instruments_list_3d), \"number of 3D dataset information provided\")\n",
    "\n",
    "config_3d_dataset = instruments_list_3d[0]\n",
    "print(f\"Instrument selected is {config_3d_dataset.name}\")"
   ]
  },
  {
   "cell_type": "code",
   "execution_count": null,
   "id": "8218ab54",
   "metadata": {},
   "outputs": [],
   "source": [
    "instruments_list_1d = config_main.dataset1d.instruments\n",
    "print(len(instruments_list_1d), \"number of 1D dataset information provided\")\n",
    "\n",
    "config_1d_dataset = instruments_list_1d[0]\n",
    "print(f\"Instrument selected is {config_1d_dataset.name}\")"
   ]
  },
  {
   "cell_type": "code",
   "execution_count": null,
   "id": "3aa92fa6",
   "metadata": {},
   "outputs": [],
   "source": [
    "key_names = config_3d_dataset.dataset_info.key\n",
    "print(f\"The list of different keys or modes of observations for the selected instrument are {key_names}\")"
   ]
  },
  {
   "cell_type": "markdown",
   "id": "8ee7eb03",
   "metadata": {},
   "source": [
    "# Run each Dataset nD Generation step"
   ]
  },
  {
   "cell_type": "code",
   "execution_count": null,
   "id": "c3b492b5",
   "metadata": {
    "scrolled": true
   },
   "outputs": [],
   "source": [
    "%%time\n",
    "analysis.run([\"datasets-3d\"])"
   ]
  },
  {
   "cell_type": "markdown",
   "id": "408989c0",
   "metadata": {},
   "source": [
    "## Display some results"
   ]
  },
  {
   "cell_type": "code",
   "execution_count": null,
   "id": "0ad40037",
   "metadata": {},
   "outputs": [],
   "source": [
    "print(analysis.datasets)"
   ]
  },
  {
   "cell_type": "code",
   "execution_count": null,
   "id": "a5aca26f",
   "metadata": {},
   "outputs": [],
   "source": [
    "print(analysis.final_model)"
   ]
  },
  {
   "cell_type": "code",
   "execution_count": null,
   "id": "a962a9bf",
   "metadata": {},
   "outputs": [],
   "source": [
    "for m in analysis.final_model:\n",
    "    print(m)"
   ]
  },
  {
   "cell_type": "code",
   "execution_count": null,
   "id": "e4990b8f",
   "metadata": {},
   "outputs": [],
   "source": [
    "print(analysis.instrument_spectral_info)"
   ]
  },
  {
   "cell_type": "code",
   "execution_count": null,
   "id": "487a12e8",
   "metadata": {},
   "outputs": [],
   "source": [
    "print(analysis.dataset_name_list)"
   ]
  },
  {
   "cell_type": "code",
   "execution_count": null,
   "id": "37105781",
   "metadata": {},
   "outputs": [],
   "source": []
  },
  {
   "cell_type": "code",
   "execution_count": null,
   "id": "a02f5ae0",
   "metadata": {
    "scrolled": true
   },
   "outputs": [],
   "source": [
    "%%time\n",
    "analysis.run([\"datasets-1d\"])"
   ]
  },
  {
   "cell_type": "markdown",
   "id": "a0565133",
   "metadata": {},
   "source": [
    "## Display the results"
   ]
  },
  {
   "cell_type": "code",
   "execution_count": null,
   "id": "dfea2d18",
   "metadata": {},
   "outputs": [],
   "source": [
    "print(analysis.datasets)"
   ]
  },
  {
   "cell_type": "code",
   "execution_count": null,
   "id": "8a868a98",
   "metadata": {
    "scrolled": true
   },
   "outputs": [],
   "source": [
    "for d in analysis.datasets:\n",
    "    print(d)"
   ]
  },
  {
   "cell_type": "code",
   "execution_count": null,
   "id": "cf6652a5",
   "metadata": {},
   "outputs": [],
   "source": [
    "for m in analysis.final_model:\n",
    "    print(m)"
   ]
  },
  {
   "cell_type": "code",
   "execution_count": null,
   "id": "395d79c0",
   "metadata": {},
   "outputs": [],
   "source": [
    "print(analysis.instrument_spectral_info)"
   ]
  },
  {
   "cell_type": "code",
   "execution_count": null,
   "id": "afa41867",
   "metadata": {},
   "outputs": [],
   "source": [
    "for i, en_range in enumerate(analysis.instrument_spectral_info[\"spectral_energy_ranges\"]):\n",
    "    print(f\"The spectral energy range to be used for dataset {analysis.instrument_spectral_info['name'][i]} is {en_range}\")"
   ]
  },
  {
   "cell_type": "code",
   "execution_count": null,
   "id": "e3f286d7",
   "metadata": {},
   "outputs": [],
   "source": []
  },
  {
   "cell_type": "code",
   "execution_count": null,
   "id": "87e90534",
   "metadata": {},
   "outputs": [],
   "source": [
    "print(analysis.dataset_name_list)"
   ]
  },
  {
   "cell_type": "code",
   "execution_count": null,
   "id": "f641436b",
   "metadata": {},
   "outputs": [],
   "source": []
  },
  {
   "cell_type": "markdown",
   "id": "ae01b742",
   "metadata": {},
   "source": [
    "# Preparing the Datasets for DL4 steps"
   ]
  },
  {
   "cell_type": "code",
   "execution_count": null,
   "id": "7379b3fb",
   "metadata": {},
   "outputs": [],
   "source": [
    "analysis.final_model = Models(analysis.final_model)"
   ]
  },
  {
   "cell_type": "code",
   "execution_count": null,
   "id": "12411eaf",
   "metadata": {},
   "outputs": [],
   "source": [
    "# Only updating the target source model with names of all datasets\n",
    "if len(analysis.final_model) > 1:\n",
    "    analysis.final_model = apply_selection_mask_to_models(\n",
    "        list_sources=analysis.final_model,\n",
    "        target_source=analysis.config.target.source_name,\n",
    "        roi_radius=analysis.config.target.roi_selection.roi_radius,\n",
    "        free_sources=analysis.config.target.roi_selection.free_sources,\n",
    "    )"
   ]
  },
  {
   "cell_type": "code",
   "execution_count": null,
   "id": "98063d01",
   "metadata": {},
   "outputs": [],
   "source": [
    "for model_ in analysis.final_model:\n",
    "    print(model_)"
   ]
  },
  {
   "cell_type": "code",
   "execution_count": null,
   "id": "42589d75",
   "metadata": {},
   "outputs": [],
   "source": []
  },
  {
   "cell_type": "markdown",
   "id": "7fa7e4c1",
   "metadata": {},
   "source": [
    "## Assigning the models to all the datasets"
   ]
  },
  {
   "cell_type": "code",
   "execution_count": null,
   "id": "2d67b804",
   "metadata": {},
   "outputs": [],
   "source": [
    "analysis.datasets = set_models(\n",
    "    analysis.config.target,\n",
    "    analysis.datasets,\n",
    "    analysis.dataset_name_list,\n",
    "    models=analysis.final_model,\n",
    "    target_source_name=analysis.config.target.source_name,\n",
    ")"
   ]
  },
  {
   "cell_type": "code",
   "execution_count": null,
   "id": "aa164c3e",
   "metadata": {
    "scrolled": true
   },
   "outputs": [],
   "source": [
    "print(analysis.datasets)"
   ]
  },
  {
   "cell_type": "code",
   "execution_count": null,
   "id": "d25dedaf",
   "metadata": {},
   "outputs": [],
   "source": [
    "%%time\n",
    "for d in analysis.datasets:\n",
    "    print(d)      "
   ]
  },
  {
   "cell_type": "code",
   "execution_count": null,
   "id": "3eb5ca23",
   "metadata": {},
   "outputs": [],
   "source": []
  },
  {
   "cell_type": "markdown",
   "id": "4068c597",
   "metadata": {},
   "source": [
    "# Run the Fit step"
   ]
  },
  {
   "cell_type": "code",
   "execution_count": null,
   "id": "43568856",
   "metadata": {},
   "outputs": [],
   "source": [
    "%%time\n",
    "analysis.run([\"fit\"])"
   ]
  },
  {
   "cell_type": "code",
   "execution_count": null,
   "id": "35c9fd26",
   "metadata": {},
   "outputs": [],
   "source": []
  },
  {
   "cell_type": "code",
   "execution_count": null,
   "id": "81e1e6ec",
   "metadata": {},
   "outputs": [],
   "source": [
    "print(analysis.fit_result)"
   ]
  },
  {
   "cell_type": "code",
   "execution_count": null,
   "id": "3d28d06f",
   "metadata": {},
   "outputs": [],
   "source": [
    "for m in analysis.datasets[0].models:\n",
    "    print(m)"
   ]
  },
  {
   "cell_type": "markdown",
   "id": "a034c627",
   "metadata": {},
   "source": [
    "# Run the Flux Points Estimator step"
   ]
  },
  {
   "cell_type": "code",
   "execution_count": null,
   "id": "81715275",
   "metadata": {
    "scrolled": true
   },
   "outputs": [],
   "source": [
    "%%time\n",
    "analysis.run([\"flux-points\"])"
   ]
  },
  {
   "cell_type": "code",
   "execution_count": null,
   "id": "29404c38",
   "metadata": {},
   "outputs": [],
   "source": []
  },
  {
   "cell_type": "code",
   "execution_count": null,
   "id": "4ccc15be",
   "metadata": {},
   "outputs": [],
   "source": [
    "for fp in analysis.flux_points:\n",
    "    print(fp)"
   ]
  },
  {
   "cell_type": "code",
   "execution_count": null,
   "id": "9b599324",
   "metadata": {},
   "outputs": [],
   "source": []
  },
  {
   "cell_type": "code",
   "execution_count": null,
   "id": "c583f0d2",
   "metadata": {
    "scrolled": true
   },
   "outputs": [],
   "source": [
    "fermi_fpt = analysis.flux_points[0].to_table(sed_type=\"e2dnde\", formatted=True)\n",
    "fermi_fpt"
   ]
  },
  {
   "cell_type": "code",
   "execution_count": null,
   "id": "728035db",
   "metadata": {},
   "outputs": [],
   "source": [
    "analysis.flux_points[0].plot(sed_type=\"e2dnde\", color=\"red\", label=\"Fermi-LAT\")\n",
    "analysis.datasets[0].models[config_main.target.source_name].spectral_model.plot(\n",
    "    sed_type=\"e2dnde\", energy_bounds=[70 * u.MeV,10 * u.TeV]\n",
    ")\n",
    "analysis.datasets[0].models[config_main.target.source_name].spectral_model.plot_error(\n",
    "    sed_type=\"e2dnde\", energy_bounds=[70 * u.MeV,10 * u.TeV]\n",
    ")\n",
    "\n",
    "plt.grid(which=\"both\")\n",
    "plt.legend()"
   ]
  },
  {
   "cell_type": "code",
   "execution_count": null,
   "id": "78b08352",
   "metadata": {},
   "outputs": [],
   "source": []
  },
  {
   "cell_type": "code",
   "execution_count": null,
   "id": "b41dab1e",
   "metadata": {
    "scrolled": true
   },
   "outputs": [],
   "source": [
    "lst_fpt = analysis.flux_points[1].to_table(sed_type=\"e2dnde\", formatted=True)\n",
    "lst_fpt"
   ]
  },
  {
   "cell_type": "code",
   "execution_count": null,
   "id": "d0026990",
   "metadata": {},
   "outputs": [],
   "source": [
    "analysis.flux_points[1].plot(sed_type=\"e2dnde\", color=\"red\", label=\"LST-1\")\n",
    "analysis.datasets[1].models[0].spectral_model.plot(\n",
    "    sed_type=\"e2dnde\", energy_bounds=[10 * u.GeV, 10 * u.TeV]\n",
    ")\n",
    "analysis.datasets[1].models[0].spectral_model.plot_error(\n",
    "    sed_type=\"e2dnde\", energy_bounds=[10 * u.GeV, 10 * u.TeV]\n",
    ")\n",
    "\n",
    "plt.grid(which=\"both\")\n",
    "plt.legend()"
   ]
  },
  {
   "cell_type": "code",
   "execution_count": null,
   "id": "3be276f3",
   "metadata": {},
   "outputs": [],
   "source": []
  },
  {
   "cell_type": "markdown",
   "id": "a89a6cc6",
   "metadata": {},
   "source": [
    "# Final SED plot with all instruments"
   ]
  },
  {
   "cell_type": "code",
   "execution_count": null,
   "id": "4dff7b70",
   "metadata": {},
   "outputs": [],
   "source": [
    "analysis.flux_points[0].plot(sed_type=\"e2dnde\", color=\"red\", label=\"Fermi-LAT\")\n",
    "analysis.flux_points[1].plot(sed_type=\"e2dnde\", color=\"green\", label=\"LST-1\")\n",
    "\n",
    "analysis.datasets[1].models[0].spectral_model.plot(\n",
    "    sed_type=\"e2dnde\", energy_bounds=[70 * u.MeV, 10 * u.TeV]\n",
    ")\n",
    "analysis.datasets[1].models[0].spectral_model.plot_error(\n",
    "    sed_type=\"e2dnde\", energy_bounds=[70 * u.MeV, 10 * u.TeV]\n",
    ")\n",
    "\n",
    "plt.grid(which=\"both\")\n",
    "plt.legend()"
   ]
  },
  {
   "cell_type": "code",
   "execution_count": null,
   "id": "99ecfff8",
   "metadata": {},
   "outputs": [],
   "source": []
  }
 ],
 "metadata": {
  "kernelspec": {
   "display_name": "gammapy-dev",
   "language": "python",
   "name": "gammapy-dev"
  },
  "language_info": {
   "codemirror_mode": {
    "name": "ipython",
    "version": 3
   },
   "file_extension": ".py",
   "mimetype": "text/x-python",
   "name": "python",
   "nbconvert_exporter": "python",
   "pygments_lexer": "ipython3",
   "version": "3.8.13"
  }
 },
 "nbformat": 4,
 "nbformat_minor": 5
}
