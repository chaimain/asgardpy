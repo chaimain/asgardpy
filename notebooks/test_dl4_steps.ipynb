{
 "cells": [
  {
   "cell_type": "code",
   "execution_count": 1,
   "id": "b1ec7671",
   "metadata": {},
   "outputs": [],
   "source": [
    "from asgardpy.analysis import AsgardpyAnalysis\n",
    "from asgardpy.config import AsgardpyConfig\n",
    "\n",
    "from gammapy.maps import Map\n",
    "from gammapy.modeling.models import Models\n",
    "from gammapy.modeling import Fit\n",
    "from gammapy.estimators import FluxPointsEstimator\n",
    "from gammapy.datasets import Datasets\n",
    "\n",
    "import matplotlib.pyplot as plt\n",
    "import numpy as np\n",
    "\n",
    "import astropy.units as u\n",
    "import logging"
   ]
  },
  {
   "cell_type": "code",
   "execution_count": 2,
   "id": "aa1e88bb",
   "metadata": {},
   "outputs": [],
   "source": [
    "from asgardpy.data.dataset_3d import Dataset3DGeneration"
   ]
  },
  {
   "cell_type": "code",
   "execution_count": null,
   "id": "26d02b94",
   "metadata": {},
   "outputs": [],
   "source": []
  },
  {
   "cell_type": "code",
   "execution_count": 3,
   "id": "d6ebb09f",
   "metadata": {},
   "outputs": [],
   "source": [
    "log = logging.getLogger(\"test DL4 steps\")"
   ]
  },
  {
   "cell_type": "code",
   "execution_count": 4,
   "id": "1544544f",
   "metadata": {},
   "outputs": [],
   "source": [
    "base_dir = \"/fefs/aswg/workspace/chaitanya.priyadarshi/\"\n",
    "config_file = base_dir + \"analyze_pg1553_full.yaml\"\n",
    "output_dir = base_dir + \"real_data/AGN/PG1553/v09x/tailcut84/DL3/interp_irf_en_dep/no_tuning/geff_80/teff_80/20220511_dec931/joint_fit/\""
   ]
  },
  {
   "cell_type": "code",
   "execution_count": 5,
   "id": "b88cfc7a",
   "metadata": {},
   "outputs": [],
   "source": [
    "config = AsgardpyConfig()"
   ]
  },
  {
   "cell_type": "code",
   "execution_count": 6,
   "id": "512ebdbc",
   "metadata": {},
   "outputs": [
    {
     "name": "stdout",
     "output_type": "stream",
     "text": [
      "CPU times: user 48.2 ms, sys: 5.91 ms, total: 54.1 ms\n",
      "Wall time: 51.5 ms\n"
     ]
    }
   ],
   "source": [
    "%%time\n",
    "config_main = config.read(config_file)"
   ]
  },
  {
   "cell_type": "code",
   "execution_count": 7,
   "id": "a1048270",
   "metadata": {},
   "outputs": [
    {
     "name": "stdout",
     "output_type": "stream",
     "text": [
      "('log', LogConfig(level='info', filename=None, filemode=None, format=None, datefmt=None))\n",
      "('outdir', '/fefs/aswg/workspace/chaitanya.priyadarshi/real_data/AGN/PG1553/v09x/tailcut84/DL3/interp_irf_en_dep/no_tuning/geff_80/teff_80/20220511_dec931/joint_fit/')\n",
      "('n_jobs', 1)\n",
      "('steps', [<AnalysisStepEnum.datasets_3d: 'datasets-3d'>, <AnalysisStepEnum.datasets_1d: 'datasets-1d'>, <AnalysisStepEnum.fit: 'fit'>, <AnalysisStepEnum.flux_points: 'flux-points'>])\n",
      "('overwrite', True)\n",
      "('stacked_dataset', True)\n"
     ]
    }
   ],
   "source": [
    "for g in config_main.general:\n",
    "    print(g)"
   ]
  },
  {
   "cell_type": "markdown",
   "id": "00c5f313",
   "metadata": {},
   "source": [
    "# Steps mentioned in the main config file"
   ]
  },
  {
   "cell_type": "code",
   "execution_count": 8,
   "id": "75d2e424",
   "metadata": {},
   "outputs": [
    {
     "data": {
      "text/plain": [
       "[<AnalysisStepEnum.datasets_3d: 'datasets-3d'>,\n",
       " <AnalysisStepEnum.datasets_1d: 'datasets-1d'>,\n",
       " <AnalysisStepEnum.fit: 'fit'>,\n",
       " <AnalysisStepEnum.flux_points: 'flux-points'>]"
      ]
     },
     "execution_count": 8,
     "metadata": {},
     "output_type": "execute_result"
    }
   ],
   "source": [
    "config_main.general.steps"
   ]
  },
  {
   "cell_type": "code",
   "execution_count": 9,
   "id": "612bb495",
   "metadata": {},
   "outputs": [
    {
     "name": "stdout",
     "output_type": "stream",
     "text": [
      "('source_name', 'PG1553+113')\n",
      "('sky_position', SkyCoordConfig(frame=<FrameEnum.icrs: 'icrs'>, lon=<Angle 238.92934976 deg>, lat=<Angle 11.19010155 deg>))\n",
      "('use_uniform_position', True)\n",
      "('models_file', None)\n",
      "('extended', False)\n",
      "('components', SkyModelComponent(name='PG1553+113', type='SkyModel', spectral=SpectralModelConfig(model_name='LogParabola', type='LogParabolaSpectralModel', parameters=[ModelParams(name='amplitude', value=1e-05, unit='cm-2 s-1 TeV-1', error=1.5e-06, min=1e-13, max=0.01, frozen=False), ModelParams(name='reference', value=0.0015, unit='TeV', error=0.0, min=0.0001, max=100.0, frozen=True), ModelParams(name='alpha', value=1.5, unit='', error=0.1, min=0.5, max=5.0, frozen=False), ModelParams(name='beta', value=0.1, unit='', error=0.01, min=1e-06, max=1.0, frozen=False)], ebl_abs=EBLAbsorptionModel(model_name='dominguez', type='EBLAbsorptionNormSpectralModel', redshift=0.433, alpha_norm=1.0)), spatial=SpatialModelConfig(model_name=None, type=None, parameters=[ModelParams(name=None, value=None, unit=None, error=None, min=None, max=None, frozen=True)])))\n",
      "('covariance', 'None')\n",
      "('from_fermi', False)\n"
     ]
    }
   ],
   "source": [
    "for c in config_main.target:\n",
    "    print(c)"
   ]
  },
  {
   "cell_type": "markdown",
   "id": "4b167659",
   "metadata": {},
   "source": [
    "# Datasets informations"
   ]
  },
  {
   "cell_type": "code",
   "execution_count": 10,
   "id": "65118f53",
   "metadata": {},
   "outputs": [
    {
     "name": "stdout",
     "output_type": "stream",
     "text": [
      "('type', <ReductionTypeEnum.cube: '3d'>)\n",
      "('instruments', [Dataset3DBaseConfig(name='Fermi-LAT', io=[InputConfig(type='lat', input_dir=PosixPath('/fefs/aswg/workspace/lst1-agn-paper/LAT/PG1553+113/Analysis1/EBL/LogParabola'), glob_pattern={'events': '*MkTime.fits*', 'edisp': '*eDRM.fits*', 'xml_model': '*out.xml', 'exposure': '*BinnedMap.fits*', 'psf': '*psf.fits*'}), InputConfig(type='lat-aux', input_dir=PosixPath('/fefs/aswg/workspace/lst1-agn-paper/LAT/diffuse_models'), glob_pattern={'diffuse': 'gll_iem_v07.fits*', 'iso': 'iso_P8R3_SOURCE_V3_*.txt'})], dataset_info=Dataset3DInfoConfig(name='Fermi-LAT', key=['FRONT', 'BACK'], map_selection=[<MapSelectionEnum.counts: 'counts'>, <MapSelectionEnum.exposure: 'exposure'>, <MapSelectionEnum.background: 'background'>, <MapSelectionEnum.psf: 'psf'>, <MapSelectionEnum.edisp: 'edisp'>], obs_time=TimeIntervalsConfig(format=<TimeFormatEnum.iso: 'iso'>, intervals=[TimeRangeConfig(start=<Time object: scale='utc' format='iso' value=2021-04-01 00:00:00.000>, stop=<Time object: scale='utc' format='iso' value=2022-05-25 00:00:00.000>)]), background=BackgroundConfig(method=None, region_finder_method=None, parameters={}, exclusion={'target_source': True, 'regions': [{'type': 'CircleAnnulusSkyRegion', 'name': 'None', 'position': {'frame': 'icrs', 'lon': '238.92934976 deg', 'lat': '11.19010155 deg'}, 'parameters': {'rad_0': '8 deg', 'rad_1': '30 deg'}}]}), safe_mask=SafeMaskConfig(methods=[], parameters={'min': '0.1 GeV', 'max': '1 TeV'}), on_region=SpatialCircleConfig(frame=<FrameEnum.icrs: 'icrs'>, lon=<Angle 238.92934976 deg>, lat=<Angle 11.19010155 deg>, radius=None), containment_correction=True, spectral_energy_range=EnergyAxisConfig(min=<Quantity 100. MeV>, max=<Quantity 1. TeV>, nbins=2)))])\n"
     ]
    }
   ],
   "source": [
    "for cc in config_main.dataset3d:\n",
    "    print(cc)"
   ]
  },
  {
   "cell_type": "code",
   "execution_count": 11,
   "id": "25b7a155",
   "metadata": {},
   "outputs": [
    {
     "name": "stdout",
     "output_type": "stream",
     "text": [
      "('type', <ReductionTypeEnum.spectrum: '1d'>)\n",
      "('instruments', [Dataset1DBaseConfig(name='LST-1', io=[InputConfig(type='lst-1', input_dir=PosixPath('/fefs/aswg/workspace/chaitanya.priyadarshi/real_data/AGN/PG1553/v09x/tailcut84/DL3/interp_irf_en_dep/no_tuning/geff_80/teff_80/20220511_dec931'), glob_pattern={'dl3': '202*/dl3*fits'})], dataset_info=Dataset1DInfoConfig(name='LST-1', geom=GeomConfig(wcs=WcsConfig(skydir=SkyCoordConfig(frame=None, lon=None, lat=None), binsize=<Angle 0.02 deg>, final_frame=FinalFrameConfig(width=<Angle 5. deg>, height=<Angle 5. deg>), binsize_irf=<Angle 0.2 deg>), selection=SelectionConfig(offset_max=<Angle 2.5 deg>), axes=EnergyAxesConfig(energy=EnergyAxisConfig(min=<Quantity 10. GeV>, max=<Quantity 10. TeV>, nbins=5), energy_true=EnergyAxisConfig(min=<Quantity 10. GeV>, max=<Quantity 10. TeV>, nbins=5))), observation=ObservationsConfig(obs_ids=[], obs_file=None, obs_time=TimeIntervalsConfig(format=<TimeFormatEnum.iso: 'iso'>, intervals=[TimeRangeConfig(start=<Time object: scale='utc' format='iso' value=2021-04-01 00:00:00.000>, stop=<Time object: scale='utc' format='iso' value=2022-05-25 00:00:00.000>)]), required_irfs=[<RequiredHDUEnum.aeff: 'aeff'>, <RequiredHDUEnum.edisp: 'edisp'>, <RequiredHDUEnum.rad_max: 'rad_max'>]), background=BackgroundConfig(method=<BackgroundMethodEnum.reflected: 'reflected'>, region_finder_method=<BackgroundRegionFinderMethodEnum.wobble: 'wobble'>, parameters={'n_off_regions': 1}, exclusion={'name': 'None', 'position': {'frame': 'galactic', 'lon': '183.604 deg', 'lat': '-8.708 deg'}, 'region_radius': '0.5 deg'}), safe_mask=SafeMaskConfig(methods=[<SafeMaskMethodsEnum.custom_mask: 'custom-mask'>], parameters={'min': '10 GeV', 'max': '1 TeV', 'aeff_percent': 10, 'bias_percent': 10, 'fixed_offset': '0.1 deg', 'offset_max': '3 deg', 'position': {'frame': 'icrs', 'lon': '238.92934976 deg', 'lat': '11.19010155 deg'}}), on_region=SpatialPointConfig(frame=<FrameEnum.icrs: 'icrs'>, lon=<Angle 238.92934976 deg>, lat=<Angle 11.19010155 deg>), containment_correction=False, map_selection=[<MapSelectionEnum.counts: 'counts'>, <MapSelectionEnum.exposure: 'exposure'>, <MapSelectionEnum.edisp: 'edisp'>], spectral_energy_range=EnergyAxisConfig(min=<Quantity 10. GeV>, max=<Quantity 10. TeV>, nbins=5)))])\n"
     ]
    }
   ],
   "source": [
    "for cc in config_main.dataset1d:\n",
    "    print(cc)"
   ]
  },
  {
   "cell_type": "markdown",
   "id": "1eaf41d3",
   "metadata": {},
   "source": [
    "# DL4 step information"
   ]
  },
  {
   "cell_type": "code",
   "execution_count": 12,
   "id": "e4fe0222",
   "metadata": {},
   "outputs": [
    {
     "name": "stdout",
     "output_type": "stream",
     "text": [
      "('fit_range', EnergyRangeConfig(min=<Quantity 100. MeV>, max=<Quantity 1. TeV>))\n",
      "('backend', <BackendEnum.minuit: 'minuit'>)\n",
      "('optimize_opts', {})\n",
      "('covariance_opts', {})\n",
      "('confidence_opts', {})\n",
      "('store_trace', True)\n"
     ]
    }
   ],
   "source": [
    "for cc in config_main.fit_params:\n",
    "    print(cc)"
   ]
  },
  {
   "cell_type": "code",
   "execution_count": 13,
   "id": "324b9eb4",
   "metadata": {},
   "outputs": [
    {
     "name": "stdout",
     "output_type": "stream",
     "text": [
      "('parameters', {'selection_optional': 'all'})\n"
     ]
    }
   ],
   "source": [
    "for cc in config_main.flux_points_params:\n",
    "    print(cc)"
   ]
  },
  {
   "cell_type": "code",
   "execution_count": null,
   "id": "148d4f5d",
   "metadata": {},
   "outputs": [],
   "source": []
  },
  {
   "cell_type": "code",
   "execution_count": 14,
   "id": "e7ed7257",
   "metadata": {},
   "outputs": [
    {
     "name": "stderr",
     "output_type": "stream",
     "text": [
      "Setting logging config: {'level': 'INFO', 'filename': None, 'filemode': None, 'format': None, 'datefmt': None}\n"
     ]
    },
    {
     "name": "stdout",
     "output_type": "stream",
     "text": [
      "CPU times: user 1.46 ms, sys: 529 µs, total: 1.98 ms\n",
      "Wall time: 1.75 ms\n"
     ]
    }
   ],
   "source": [
    "%%time\n",
    "analysis = AsgardpyAnalysis(config_main)"
   ]
  },
  {
   "cell_type": "code",
   "execution_count": 15,
   "id": "794b4546",
   "metadata": {},
   "outputs": [
    {
     "data": {
      "text/plain": [
       "<asgardpy.analysis.analysis.AsgardpyAnalysis at 0x7f48620acbb0>"
      ]
     },
     "execution_count": 15,
     "metadata": {},
     "output_type": "execute_result"
    }
   ],
   "source": [
    "analysis"
   ]
  },
  {
   "cell_type": "code",
   "execution_count": null,
   "id": "0d093fa6",
   "metadata": {},
   "outputs": [],
   "source": []
  },
  {
   "cell_type": "markdown",
   "id": "496de916",
   "metadata": {},
   "source": [
    "# Prepare the dataset"
   ]
  },
  {
   "cell_type": "code",
   "execution_count": 16,
   "id": "2be936b1",
   "metadata": {},
   "outputs": [
    {
     "name": "stdout",
     "output_type": "stream",
     "text": [
      "1 number of 3D dataset information provided\n",
      "Instrument selected is Fermi-LAT\n"
     ]
    }
   ],
   "source": [
    "instruments_list_3d = config_main.dataset3d.instruments\n",
    "print(len(instruments_list_3d), \"number of 3D dataset information provided\")\n",
    "\n",
    "config_3d_dataset = instruments_list_3d[0]\n",
    "print(f\"Instrument selected is {config_3d_dataset.name}\")"
   ]
  },
  {
   "cell_type": "code",
   "execution_count": 17,
   "id": "8218ab54",
   "metadata": {},
   "outputs": [
    {
     "name": "stdout",
     "output_type": "stream",
     "text": [
      "1 number of 1D dataset information provided\n",
      "Instrument selected is LST-1\n"
     ]
    }
   ],
   "source": [
    "instruments_list_1d = config_main.dataset1d.instruments\n",
    "print(len(instruments_list_1d), \"number of 1D dataset information provided\")\n",
    "\n",
    "config_1d_dataset = instruments_list_1d[0]\n",
    "print(f\"Instrument selected is {config_1d_dataset.name}\")"
   ]
  },
  {
   "cell_type": "code",
   "execution_count": 18,
   "id": "3aa92fa6",
   "metadata": {},
   "outputs": [
    {
     "name": "stdout",
     "output_type": "stream",
     "text": [
      "The list of different keys or modes of observations for the selected instrument are ['FRONT', 'BACK']\n"
     ]
    }
   ],
   "source": [
    "key_names = config_3d_dataset.dataset_info.key\n",
    "print(f\"The list of different keys or modes of observations for the selected instrument are {key_names}\")"
   ]
  },
  {
   "cell_type": "markdown",
   "id": "8ee7eb03",
   "metadata": {},
   "source": [
    "# Run each Dataset nD Generation step"
   ]
  },
  {
   "cell_type": "code",
   "execution_count": 19,
   "id": "c3b492b5",
   "metadata": {
    "scrolled": true
   },
   "outputs": [
    {
     "name": "stderr",
     "output_type": "stream",
     "text": [
      "1 number of 3D Datasets given\n",
      "The different keys used: ['FRONT', 'BACK']\n",
      "The list of DL3 event files for LAT selected: [PosixPath('/fefs/aswg/workspace/lst1-agn-paper/LAT/PG1553+113/Analysis1/EBL/LogParabola/PG_1553+113_LAT_Analysis_BACK_MkTime.fits.gz'), PosixPath('/fefs/aswg/workspace/lst1-agn-paper/LAT/PG1553+113/Analysis1/EBL/LogParabola/PG_1553+113_LAT_Analysis_FRONT_MkTime.fits.gz')]\n",
      "The list of Detector Response Matrix files for LAT selected: [PosixPath('/fefs/aswg/workspace/lst1-agn-paper/LAT/PG1553+113/Analysis1/EBL/LogParabola/PG_1553+113_LAT_Analysis_BACK_LogParabola_eDRM.fits.gz'), PosixPath('/fefs/aswg/workspace/lst1-agn-paper/LAT/PG1553+113/Analysis1/EBL/LogParabola/PG_1553+113_LAT_Analysis_FRONT_LogParabola_eDRM.fits.gz')]\n",
      "The list of XML files for LAT selected: [PosixPath('/fefs/aswg/workspace/lst1-agn-paper/LAT/PG1553+113/Analysis1/EBL/LogParabola/PG_1553+113_LogParabola_LAT_Analysis_out.xml')]\n",
      "The list of Exposure Map files for LAT selected: [PosixPath('/fefs/aswg/workspace/lst1-agn-paper/LAT/PG1553+113/Analysis1/EBL/LogParabola/PG_1553+113_LAT_Analysis_BACK_BinnedMap.fits.gz'), PosixPath('/fefs/aswg/workspace/lst1-agn-paper/LAT/PG1553+113/Analysis1/EBL/LogParabola/PG_1553+113_LAT_Analysis_FRONT_BinnedMap.fits.gz')]\n",
      "The list of PSF files for LAT selected: [PosixPath('/fefs/aswg/workspace/lst1-agn-paper/LAT/PG1553+113/Analysis1/EBL/LogParabola/PG_1553+113_LAT_Analysis_BACK_LogParabola_psf.fits.gz'), PosixPath('/fefs/aswg/workspace/lst1-agn-paper/LAT/PG1553+113/Analysis1/EBL/LogParabola/PG_1553+113_LAT_Analysis_FRONT_LogParabola_psf.fits.gz')]\n",
      "WARNING: FITSFixedWarning: RADECSYS= 'FK5 ' \n",
      "the RADECSYS keyword is deprecated, use RADESYSa. [astropy.wcs.wcs]\n",
      "FITSFixedWarning: RADECSYS= 'FK5 ' \n",
      "the RADECSYS keyword is deprecated, use RADESYSa.\n",
      "WARNING: FITSFixedWarning: 'datfix' made the change 'Set DATEREF to '2001-01-01T00:01:04.184' from MJDREF.\n",
      "Set MJD-OBS to 59311.500100 from DATE-OBS.\n",
      "Set MJD-END to 59723.499648 from DATE-END'. [astropy.wcs.wcs]\n",
      "FITSFixedWarning: 'datfix' made the change 'Set DATEREF to '2001-01-01T00:01:04.184' from MJDREF.\n",
      "Set MJD-OBS to 59311.500100 from DATE-OBS.\n",
      "Set MJD-END to 59723.499648 from DATE-END'.\n",
      "The list of Diffuse Galactic sources for LAT-Aux selected: [PosixPath('/fefs/aswg/workspace/lst1-agn-paper/LAT/diffuse_models/gll_iem_v07.fits')]\n",
      "The list of Isotropic Diffuse model files for LAT-Aux selected: [PosixPath('/fefs/aswg/workspace/lst1-agn-paper/LAT/diffuse_models/iso_P8R3_SOURCE_V3_BACK_v1.txt'), PosixPath('/fefs/aswg/workspace/lst1-agn-paper/LAT/diffuse_models/iso_P8R3_SOURCE_V3_FRONT_v1.txt'), PosixPath('/fefs/aswg/workspace/lst1-agn-paper/LAT/diffuse_models/iso_P8R3_SOURCE_V3_PSF0_v1.txt'), PosixPath('/fefs/aswg/workspace/lst1-agn-paper/LAT/diffuse_models/iso_P8R3_SOURCE_V3_PSF1_v1.txt'), PosixPath('/fefs/aswg/workspace/lst1-agn-paper/LAT/diffuse_models/iso_P8R3_SOURCE_V3_PSF2_v1.txt'), PosixPath('/fefs/aswg/workspace/lst1-agn-paper/LAT/diffuse_models/iso_P8R3_SOURCE_V3_PSF3_v1.txt'), PosixPath('/fefs/aswg/workspace/lst1-agn-paper/LAT/diffuse_models/iso_P8R3_SOURCE_V3_v1.txt')]\n",
      "Using the background region from config for exclusion mask\n"
     ]
    },
    {
     "name": "stdout",
     "output_type": "stream",
     "text": [
      "Other method of creating safe mask\n"
     ]
    },
    {
     "name": "stderr",
     "output_type": "stream",
     "text": [
      "The list of DL3 event files for LAT selected: [PosixPath('/fefs/aswg/workspace/lst1-agn-paper/LAT/PG1553+113/Analysis1/EBL/LogParabola/PG_1553+113_LAT_Analysis_BACK_MkTime.fits.gz'), PosixPath('/fefs/aswg/workspace/lst1-agn-paper/LAT/PG1553+113/Analysis1/EBL/LogParabola/PG_1553+113_LAT_Analysis_FRONT_MkTime.fits.gz')]\n",
      "The list of Detector Response Matrix files for LAT selected: [PosixPath('/fefs/aswg/workspace/lst1-agn-paper/LAT/PG1553+113/Analysis1/EBL/LogParabola/PG_1553+113_LAT_Analysis_BACK_LogParabola_eDRM.fits.gz'), PosixPath('/fefs/aswg/workspace/lst1-agn-paper/LAT/PG1553+113/Analysis1/EBL/LogParabola/PG_1553+113_LAT_Analysis_FRONT_LogParabola_eDRM.fits.gz')]\n",
      "The list of XML files for LAT selected: [PosixPath('/fefs/aswg/workspace/lst1-agn-paper/LAT/PG1553+113/Analysis1/EBL/LogParabola/PG_1553+113_LogParabola_LAT_Analysis_out.xml')]\n",
      "The list of Exposure Map files for LAT selected: [PosixPath('/fefs/aswg/workspace/lst1-agn-paper/LAT/PG1553+113/Analysis1/EBL/LogParabola/PG_1553+113_LAT_Analysis_BACK_BinnedMap.fits.gz'), PosixPath('/fefs/aswg/workspace/lst1-agn-paper/LAT/PG1553+113/Analysis1/EBL/LogParabola/PG_1553+113_LAT_Analysis_FRONT_BinnedMap.fits.gz')]\n",
      "The list of PSF files for LAT selected: [PosixPath('/fefs/aswg/workspace/lst1-agn-paper/LAT/PG1553+113/Analysis1/EBL/LogParabola/PG_1553+113_LAT_Analysis_BACK_LogParabola_psf.fits.gz'), PosixPath('/fefs/aswg/workspace/lst1-agn-paper/LAT/PG1553+113/Analysis1/EBL/LogParabola/PG_1553+113_LAT_Analysis_FRONT_LogParabola_psf.fits.gz')]\n",
      "WARNING: FITSFixedWarning: RADECSYS= 'FK5 ' \n",
      "the RADECSYS keyword is deprecated, use RADESYSa. [astropy.wcs.wcs]\n",
      "FITSFixedWarning: RADECSYS= 'FK5 ' \n",
      "the RADECSYS keyword is deprecated, use RADESYSa.\n",
      "WARNING: FITSFixedWarning: 'datfix' made the change 'Set DATEREF to '2001-01-01T00:01:04.184' from MJDREF.\n",
      "Set MJD-OBS to 59311.500100 from DATE-OBS.\n",
      "Set MJD-END to 59723.499648 from DATE-END'. [astropy.wcs.wcs]\n",
      "FITSFixedWarning: 'datfix' made the change 'Set DATEREF to '2001-01-01T00:01:04.184' from MJDREF.\n",
      "Set MJD-OBS to 59311.500100 from DATE-OBS.\n",
      "Set MJD-END to 59723.499648 from DATE-END'.\n",
      "The list of Diffuse Galactic sources for LAT-Aux selected: [PosixPath('/fefs/aswg/workspace/lst1-agn-paper/LAT/diffuse_models/gll_iem_v07.fits')]\n",
      "The list of Isotropic Diffuse model files for LAT-Aux selected: [PosixPath('/fefs/aswg/workspace/lst1-agn-paper/LAT/diffuse_models/iso_P8R3_SOURCE_V3_BACK_v1.txt'), PosixPath('/fefs/aswg/workspace/lst1-agn-paper/LAT/diffuse_models/iso_P8R3_SOURCE_V3_FRONT_v1.txt'), PosixPath('/fefs/aswg/workspace/lst1-agn-paper/LAT/diffuse_models/iso_P8R3_SOURCE_V3_PSF0_v1.txt'), PosixPath('/fefs/aswg/workspace/lst1-agn-paper/LAT/diffuse_models/iso_P8R3_SOURCE_V3_PSF1_v1.txt'), PosixPath('/fefs/aswg/workspace/lst1-agn-paper/LAT/diffuse_models/iso_P8R3_SOURCE_V3_PSF2_v1.txt'), PosixPath('/fefs/aswg/workspace/lst1-agn-paper/LAT/diffuse_models/iso_P8R3_SOURCE_V3_PSF3_v1.txt'), PosixPath('/fefs/aswg/workspace/lst1-agn-paper/LAT/diffuse_models/iso_P8R3_SOURCE_V3_v1.txt')]\n"
     ]
    },
    {
     "name": "stdout",
     "output_type": "stream",
     "text": [
      "Using the exclusion mask to create a safe mask\n"
     ]
    },
    {
     "name": "stderr",
     "output_type": "stream",
     "text": [
      "Using the background region from config for exclusion mask\n"
     ]
    },
    {
     "name": "stdout",
     "output_type": "stream",
     "text": [
      "Other method of creating safe mask\n"
     ]
    },
    {
     "name": "stderr",
     "output_type": "stream",
     "text": [
      "Analysis Step datasets-3d completed\n"
     ]
    },
    {
     "name": "stdout",
     "output_type": "stream",
     "text": [
      "Using the exclusion mask to create a safe mask\n",
      "Dataset names in the target model are: ['Fermi-LAT_FRONT', 'Fermi-LAT_BACK']\n",
      "Included for the target source is dataset of name: Fermi-LAT_FRONT\n",
      "Included for the target source is dataset of name: Fermi-LAT_BACK\n",
      "CPU times: user 4.71 s, sys: 2.97 s, total: 7.69 s\n",
      "Wall time: 8 s\n"
     ]
    }
   ],
   "source": [
    "%%time\n",
    "analysis.run([\"datasets-3d\"])"
   ]
  },
  {
   "cell_type": "markdown",
   "id": "408989c0",
   "metadata": {},
   "source": [
    "## Display some results"
   ]
  },
  {
   "cell_type": "code",
   "execution_count": 20,
   "id": "0ad40037",
   "metadata": {},
   "outputs": [
    {
     "name": "stdout",
     "output_type": "stream",
     "text": [
      "Datasets\n",
      "--------\n",
      "\n",
      "Dataset 0: \n",
      "\n",
      "  Type       : MapDataset\n",
      "  Name       : Fermi-LAT_FRONT\n",
      "  Instrument : \n",
      "  Models     : \n",
      "\n",
      "Dataset 1: \n",
      "\n",
      "  Type       : MapDataset\n",
      "  Name       : Fermi-LAT_BACK\n",
      "  Instrument : \n",
      "  Models     : \n",
      "\n",
      "\n"
     ]
    }
   ],
   "source": [
    "print(analysis.datasets)"
   ]
  },
  {
   "cell_type": "code",
   "execution_count": 21,
   "id": "a5aca26f",
   "metadata": {},
   "outputs": [
    {
     "name": "stdout",
     "output_type": "stream",
     "text": [
      "[SkyModel(spatial_model=<gammapy.modeling.models.spatial.PointSpatialModel object at 0x7f4845785070>, spectral_model=<gammapy.modeling.models.spectral.CompoundSpectralModel object at 0x7f4845792460>)temporal_model=None), SkyModel(spatial_model=<gammapy.modeling.models.spatial.PointSpatialModel object at 0x7f48621184f0>, spectral_model=<gammapy.modeling.models.spectral.PowerLawSpectralModel object at 0x7f4862088220>)temporal_model=None), SkyModel(spatial_model=<gammapy.modeling.models.spatial.PointSpatialModel object at 0x7f48613554c0>, spectral_model=<gammapy.modeling.models.spectral.LogParabolaSpectralModel object at 0x7f48620d1ca0>)temporal_model=None), SkyModel(spatial_model=<gammapy.modeling.models.spatial.PointSpatialModel object at 0x7f4845773d30>, spectral_model=<gammapy.modeling.models.spectral.LogParabolaSpectralModel object at 0x7f48457731c0>)temporal_model=None), SkyModel(spatial_model=<gammapy.modeling.models.spatial.PointSpatialModel object at 0x7f4845773100>, spectral_model=<gammapy.modeling.models.spectral.LogParabolaSpectralModel object at 0x7f4845777ca0>)temporal_model=None), SkyModel(spatial_model=<gammapy.modeling.models.spatial.PointSpatialModel object at 0x7f4845777400>, spectral_model=<gammapy.modeling.models.spectral.PowerLawSpectralModel object at 0x7f4845777dc0>)temporal_model=None), SkyModel(spatial_model=<gammapy.modeling.models.spatial.PointSpatialModel object at 0x7f484577fdf0>, spectral_model=<gammapy.modeling.models.spectral.LogParabolaSpectralModel object at 0x7f484577ff10>)temporal_model=None), SkyModel(spatial_model=<gammapy.modeling.models.spatial.PointSpatialModel object at 0x7f4845785850>, spectral_model=<gammapy.modeling.models.spectral.LogParabolaSpectralModel object at 0x7f4845782fd0>)temporal_model=None), SkyModel(spatial_model=<gammapy.modeling.models.spatial.PointSpatialModel object at 0x7f48457826d0>, spectral_model=<gammapy.modeling.models.spectral.LogParabolaSpectralModel object at 0x7f48457828e0>)temporal_model=None), SkyModel(spatial_model=<gammapy.modeling.models.spatial.TemplateSpatialModel object at 0x7f4862088250>, spectral_model=<gammapy.modeling.models.spectral.PowerLawNormSpectralModel object at 0x7f48613b9f70>)temporal_model=None), SkyModel(spatial_model=<gammapy.modeling.models.spatial.ConstantSpatialModel object at 0x7f48620c9f10>, spectral_model=<gammapy.modeling.models.spectral.CompoundSpectralModel object at 0x7f486133dd30>)temporal_model=None), SkyModel(spatial_model=<gammapy.modeling.models.spatial.ConstantSpatialModel object at 0x7f4845782c70>, spectral_model=<gammapy.modeling.models.spectral.CompoundSpectralModel object at 0x7f4829ba6d60>)temporal_model=None)]\n"
     ]
    }
   ],
   "source": [
    "print(analysis.final_model)"
   ]
  },
  {
   "cell_type": "code",
   "execution_count": 22,
   "id": "a962a9bf",
   "metadata": {},
   "outputs": [
    {
     "name": "stdout",
     "output_type": "stream",
     "text": [
      "SkyModel\n",
      "\n",
      "  Name                      : PG1553+113\n",
      "  Datasets names            : ['Fermi-LAT_FRONT', 'Fermi-LAT_BACK']\n",
      "  Spectral model type       : CompoundSpectralModel\n",
      "  Spatial  model type       : PointSpatialModel\n",
      "  Temporal model type       : \n",
      "  Parameters:\n",
      "    amplitude                     :   1.00e-05   +/- 1.5e-06 1 / (cm2 s TeV)\n",
      "    reference             (frozen):      0.002       TeV         \n",
      "    alpha                         :      1.500   +/-    0.10             \n",
      "    beta                          :      0.100   +/-    0.01             \n",
      "    alpha_norm            (frozen):      1.000                   \n",
      "    redshift              (frozen):      0.433                   \n",
      "    lon_0                 (frozen):      0.382       rad         \n",
      "    lat_0                 (frozen):      0.767       rad         \n",
      "\n",
      "\n",
      "SkyModel\n",
      "\n",
      "  Name                      : 4FGL J1541.7+1413\n",
      "  Datasets names            : ['Fermi-LAT_FRONT', 'Fermi-LAT_BACK']\n",
      "  Spectral model type       : PowerLawSpectralModel\n",
      "  Spatial  model type       : PointSpatialModel\n",
      "  Temporal model type       : \n",
      "  Parameters:\n",
      "    index                 (frozen):      1.918                   \n",
      "    amplitude             (frozen):   9.20e-09       1 / (cm2 s TeV)\n",
      "    reference             (frozen):      0.005       TeV         \n",
      "    lon_0                 (frozen):      0.414       rad         \n",
      "    lat_0                 (frozen):      0.844       rad         \n",
      "\n",
      "\n",
      "SkyModel\n",
      "\n",
      "  Name                      : 4FGL J1546.0+0819\n",
      "  Datasets names            : ['Fermi-LAT_FRONT', 'Fermi-LAT_BACK']\n",
      "  Spectral model type       : LogParabolaSpectralModel\n",
      "  Spatial  model type       : PointSpatialModel\n",
      "  Temporal model type       : \n",
      "  Parameters:\n",
      "    amplitude                     :   6.73e-07   +/- 0.0e+00 1 / (cm2 s TeV)\n",
      "    reference             (frozen):      0.002       TeV         \n",
      "    alpha                         :      1.509   +/-    0.00             \n",
      "    beta                          :      1.000   +/-    0.00             \n",
      "    lon_0                 (frozen):      0.293       rad         \n",
      "    lat_0                 (frozen):      0.780       rad         \n",
      "\n",
      "\n",
      "SkyModel\n",
      "\n",
      "  Name                      : 4FGL J1548.3+1456\n",
      "  Datasets names            : ['Fermi-LAT_FRONT', 'Fermi-LAT_BACK']\n",
      "  Spectral model type       : LogParabolaSpectralModel\n",
      "  Spatial  model type       : PointSpatialModel\n",
      "  Temporal model type       : \n",
      "  Parameters:\n",
      "    amplitude                     :   1.34e-06   +/- 0.0e+00 1 / (cm2 s TeV)\n",
      "    reference             (frozen):      0.001       TeV         \n",
      "    alpha                         :      0.500   +/-    0.00             \n",
      "    beta                          :      0.425   +/-    0.00             \n",
      "    lon_0                 (frozen):      0.448       rad         \n",
      "    lat_0                 (frozen):      0.824       rad         \n",
      "\n",
      "\n",
      "SkyModel\n",
      "\n",
      "  Name                      : 4FGL J1550.7+0528\n",
      "  Datasets names            : ['Fermi-LAT_FRONT', 'Fermi-LAT_BACK']\n",
      "  Spectral model type       : LogParabolaSpectralModel\n",
      "  Spatial  model type       : PointSpatialModel\n",
      "  Temporal model type       : \n",
      "  Parameters:\n",
      "    amplitude                     :   8.82e-06   +/- 0.0e+00 1 / (cm2 s TeV)\n",
      "    reference             (frozen):      0.001       TeV         \n",
      "    alpha                 (frozen):      2.287                   \n",
      "    beta                  (frozen):      0.139                   \n",
      "    lon_0                 (frozen):      0.249       rad         \n",
      "    lat_0                 (frozen):      0.737       rad         \n",
      "\n",
      "\n",
      "SkyModel\n",
      "\n",
      "  Name                      : 4FGL J1603.8+1104\n",
      "  Datasets names            : ['Fermi-LAT_FRONT', 'Fermi-LAT_BACK']\n",
      "  Spectral model type       : PowerLawSpectralModel\n",
      "  Spatial  model type       : PointSpatialModel\n",
      "  Temporal model type       : \n",
      "  Parameters:\n",
      "    index                 (frozen):      2.117                   \n",
      "    amplitude             (frozen):   1.64e-08       1 / (cm2 s TeV)\n",
      "    reference             (frozen):      0.003       TeV         \n",
      "    lon_0                 (frozen):      0.401       rad         \n",
      "    lat_0                 (frozen):      0.735       rad         \n",
      "\n",
      "\n",
      "SkyModel\n",
      "\n",
      "  Name                      : 4FGL J1607.0+1550\n",
      "  Datasets names            : ['Fermi-LAT_FRONT', 'Fermi-LAT_BACK']\n",
      "  Spectral model type       : LogParabolaSpectralModel\n",
      "  Spatial  model type       : PointSpatialModel\n",
      "  Temporal model type       : \n",
      "  Parameters:\n",
      "    amplitude                     :   5.38e-06   +/- 0.0e+00 1 / (cm2 s TeV)\n",
      "    reference             (frozen):      0.001       TeV         \n",
      "    alpha                 (frozen):      2.146                   \n",
      "    beta                  (frozen):      0.108                   \n",
      "    lon_0                 (frozen):      0.512       rad         \n",
      "    lat_0                 (frozen):      0.758       rad         \n",
      "\n",
      "\n",
      "SkyModel\n",
      "\n",
      "  Name                      : 4FGL J1608.7+1029\n",
      "  Datasets names            : ['Fermi-LAT_FRONT', 'Fermi-LAT_BACK']\n",
      "  Spectral model type       : LogParabolaSpectralModel\n",
      "  Spatial  model type       : PointSpatialModel\n",
      "  Temporal model type       : \n",
      "  Parameters:\n",
      "    amplitude                     :   1.93e-05   +/- 0.0e+00 1 / (cm2 s TeV)\n",
      "    reference             (frozen):      0.001       TeV         \n",
      "    alpha                         :      2.592   +/-    0.00             \n",
      "    beta                          :      0.000   +/-    0.00             \n",
      "    lon_0                 (frozen):      0.402       rad         \n",
      "    lat_0                 (frozen):      0.712       rad         \n",
      "\n",
      "\n",
      "SkyModel\n",
      "\n",
      "  Name                      : 4FGL J1612.1+1407\n",
      "  Datasets names            : ['Fermi-LAT_FRONT', 'Fermi-LAT_BACK']\n",
      "  Spectral model type       : LogParabolaSpectralModel\n",
      "  Spatial  model type       : PointSpatialModel\n",
      "  Temporal model type       : \n",
      "  Parameters:\n",
      "    amplitude                     :   8.91e-07   +/- 0.0e+00 1 / (cm2 s TeV)\n",
      "    reference             (frozen):      0.002       TeV         \n",
      "    alpha                         :      2.070   +/-    0.00             \n",
      "    beta                          :      1.000   +/-    0.00             \n",
      "    lon_0                 (frozen):      0.486       rad         \n",
      "    lat_0                 (frozen):      0.726       rad         \n",
      "\n",
      "\n",
      "SkyModel\n",
      "\n",
      "  Name                      : diffuse-iem\n",
      "  Datasets names            : ['Fermi-LAT_FRONT', 'Fermi-LAT_BACK']\n",
      "  Spectral model type       : PowerLawNormSpectralModel\n",
      "  Spatial  model type       : TemplateSpatialModel\n",
      "  Temporal model type       : \n",
      "  Parameters:\n",
      "    norm                          :      1.000   +/-    0.00             \n",
      "    tilt                  (frozen):      0.000                   \n",
      "    reference             (frozen):      1.000       TeV         \n",
      "\n",
      "\n",
      "SkyModel\n",
      "\n",
      "  Name                      : fermi-diffuse-iso-FRONT\n",
      "  Datasets names            : ['Fermi-LAT_FRONT']\n",
      "  Spectral model type       : CompoundSpectralModel\n",
      "  Spatial  model type       : ConstantSpatialModel\n",
      "  Temporal model type       : \n",
      "  Parameters:\n",
      "    norm                  (frozen):      1.000                   \n",
      "    norm                          :      1.000   +/-    0.00             \n",
      "    tilt                  (frozen):      0.000                   \n",
      "    reference             (frozen):      1.000       TeV         \n",
      "    value                 (frozen):      1.000       1 / sr      \n",
      "\n",
      "\n",
      "SkyModel\n",
      "\n",
      "  Name                      : fermi-diffuse-iso-BACK\n",
      "  Datasets names            : ['Fermi-LAT_BACK']\n",
      "  Spectral model type       : CompoundSpectralModel\n",
      "  Spatial  model type       : ConstantSpatialModel\n",
      "  Temporal model type       : \n",
      "  Parameters:\n",
      "    norm                  (frozen):      1.000                   \n",
      "    norm                          :      1.000   +/-    0.00             \n",
      "    tilt                  (frozen):      0.000                   \n",
      "    reference             (frozen):      1.000       TeV         \n",
      "    value                 (frozen):      1.000       1 / sr      \n",
      "\n",
      "\n"
     ]
    }
   ],
   "source": [
    "for m in analysis.final_model:\n",
    "    print(m)"
   ]
  },
  {
   "cell_type": "code",
   "execution_count": 23,
   "id": "8152d6f8",
   "metadata": {},
   "outputs": [
    {
     "name": "stdout",
     "output_type": "stream",
     "text": [
      "The spectral energy range to be used for dataset 1 is [1.00000000e-04 3.16227766e-04 1.00000000e-03 3.16227766e-03\n",
      " 1.00000000e-02 3.16227766e-02 1.00000000e-01 3.16227766e-01\n",
      " 1.00000000e+00] TeV\n",
      "The spectral energy range to be used for dataset 2 is [1.00000000e-04 3.16227766e-04 1.00000000e-03 3.16227766e-03\n",
      " 1.00000000e-02 3.16227766e-02 1.00000000e-01 3.16227766e-01\n",
      " 1.00000000e+00] TeV\n"
     ]
    }
   ],
   "source": [
    "for i, en_range in enumerate(analysis.spectral_energy_ranges):\n",
    "    print(f\"The spectral energy range to be used for dataset {i+1} is {en_range}\")"
   ]
  },
  {
   "cell_type": "code",
   "execution_count": 24,
   "id": "487a12e8",
   "metadata": {},
   "outputs": [
    {
     "name": "stdout",
     "output_type": "stream",
     "text": [
      "['Fermi-LAT_FRONT', 'Fermi-LAT_BACK']\n"
     ]
    }
   ],
   "source": [
    "print(analysis.dataset_name_list)"
   ]
  },
  {
   "cell_type": "code",
   "execution_count": null,
   "id": "37105781",
   "metadata": {},
   "outputs": [],
   "source": []
  },
  {
   "cell_type": "code",
   "execution_count": 25,
   "id": "a02f5ae0",
   "metadata": {},
   "outputs": [
    {
     "name": "stderr",
     "output_type": "stream",
     "text": [
      "1 number of 1D Datasets given\n",
      "The list of DL3 files for LST-1 selected: [PosixPath('/fefs/aswg/workspace/chaitanya.priyadarshi/real_data/AGN/PG1553/v09x/tailcut84/DL3/interp_irf_en_dep/no_tuning/geff_80/teff_80/20220511_dec931/20210407/dl3_LST-1.Run04333.fits'), PosixPath('/fefs/aswg/workspace/chaitanya.priyadarshi/real_data/AGN/PG1553/v09x/tailcut84/DL3/interp_irf_en_dep/no_tuning/geff_80/teff_80/20220511_dec931/20210407/dl3_LST-1.Run04334.fits'), PosixPath('/fefs/aswg/workspace/chaitanya.priyadarshi/real_data/AGN/PG1553/v09x/tailcut84/DL3/interp_irf_en_dep/no_tuning/geff_80/teff_80/20220511_dec931/20210407/dl3_LST-1.Run04335.fits'), PosixPath('/fefs/aswg/workspace/chaitanya.priyadarshi/real_data/AGN/PG1553/v09x/tailcut84/DL3/interp_irf_en_dep/no_tuning/geff_80/teff_80/20220511_dec931/20210407/dl3_LST-1.Run04336.fits'), PosixPath('/fefs/aswg/workspace/chaitanya.priyadarshi/real_data/AGN/PG1553/v09x/tailcut84/DL3/interp_irf_en_dep/no_tuning/geff_80/teff_80/20220511_dec931/20210408/dl3_LST-1.Run04343.fits'), PosixPath('/fefs/aswg/workspace/chaitanya.priyadarshi/real_data/AGN/PG1553/v09x/tailcut84/DL3/interp_irf_en_dep/no_tuning/geff_80/teff_80/20220511_dec931/20210408/dl3_LST-1.Run04344.fits'), PosixPath('/fefs/aswg/workspace/chaitanya.priyadarshi/real_data/AGN/PG1553/v09x/tailcut84/DL3/interp_irf_en_dep/no_tuning/geff_80/teff_80/20220511_dec931/20210410/dl3_LST-1.Run04363.fits'), PosixPath('/fefs/aswg/workspace/chaitanya.priyadarshi/real_data/AGN/PG1553/v09x/tailcut84/DL3/interp_irf_en_dep/no_tuning/geff_80/teff_80/20220511_dec931/20210410/dl3_LST-1.Run04364.fits'), PosixPath('/fefs/aswg/workspace/chaitanya.priyadarshi/real_data/AGN/PG1553/v09x/tailcut84/DL3/interp_irf_en_dep/no_tuning/geff_80/teff_80/20220511_dec931/20210410/dl3_LST-1.Run04365.fits'), PosixPath('/fefs/aswg/workspace/chaitanya.priyadarshi/real_data/AGN/PG1553/v09x/tailcut84/DL3/interp_irf_en_dep/no_tuning/geff_80/teff_80/20220511_dec931/20210410/dl3_LST-1.Run04366.fits'), PosixPath('/fefs/aswg/workspace/chaitanya.priyadarshi/real_data/AGN/PG1553/v09x/tailcut84/DL3/interp_irf_en_dep/no_tuning/geff_80/teff_80/20220511_dec931/20210410/dl3_LST-1.Run04367.fits'), PosixPath('/fefs/aswg/workspace/chaitanya.priyadarshi/real_data/AGN/PG1553/v09x/tailcut84/DL3/interp_irf_en_dep/no_tuning/geff_80/teff_80/20220511_dec931/20210410/dl3_LST-1.Run04368.fits'), PosixPath('/fefs/aswg/workspace/chaitanya.priyadarshi/real_data/AGN/PG1553/v09x/tailcut84/DL3/interp_irf_en_dep/no_tuning/geff_80/teff_80/20220511_dec931/20210420/dl3_LST-1.Run04514.fits'), PosixPath('/fefs/aswg/workspace/chaitanya.priyadarshi/real_data/AGN/PG1553/v09x/tailcut84/DL3/interp_irf_en_dep/no_tuning/geff_80/teff_80/20220511_dec931/20210420/dl3_LST-1.Run04515.fits'), PosixPath('/fefs/aswg/workspace/chaitanya.priyadarshi/real_data/AGN/PG1553/v09x/tailcut84/DL3/interp_irf_en_dep/no_tuning/geff_80/teff_80/20220511_dec931/20210508/dl3_LST-1.Run04652.fits'), PosixPath('/fefs/aswg/workspace/chaitanya.priyadarshi/real_data/AGN/PG1553/v09x/tailcut84/DL3/interp_irf_en_dep/no_tuning/geff_80/teff_80/20220511_dec931/20210508/dl3_LST-1.Run04653.fits'), PosixPath('/fefs/aswg/workspace/chaitanya.priyadarshi/real_data/AGN/PG1553/v09x/tailcut84/DL3/interp_irf_en_dep/no_tuning/geff_80/teff_80/20220511_dec931/20210508/dl3_LST-1.Run04654.fits'), PosixPath('/fefs/aswg/workspace/chaitanya.priyadarshi/real_data/AGN/PG1553/v09x/tailcut84/DL3/interp_irf_en_dep/no_tuning/geff_80/teff_80/20220511_dec931/20210604/dl3_LST-1.Run04902.fits'), PosixPath('/fefs/aswg/workspace/chaitanya.priyadarshi/real_data/AGN/PG1553/v09x/tailcut84/DL3/interp_irf_en_dep/no_tuning/geff_80/teff_80/20220511_dec931/20210604/dl3_LST-1.Run04903.fits'), PosixPath('/fefs/aswg/workspace/chaitanya.priyadarshi/real_data/AGN/PG1553/v09x/tailcut84/DL3/interp_irf_en_dep/no_tuning/geff_80/teff_80/20220511_dec931/20210604/dl3_LST-1.Run04904.fits'), PosixPath('/fefs/aswg/workspace/chaitanya.priyadarshi/real_data/AGN/PG1553/v09x/tailcut84/DL3/interp_irf_en_dep/no_tuning/geff_80/teff_80/20220511_dec931/20210604/dl3_LST-1.Run04905.fits'), PosixPath('/fefs/aswg/workspace/chaitanya.priyadarshi/real_data/AGN/PG1553/v09x/tailcut84/DL3/interp_irf_en_dep/no_tuning/geff_80/teff_80/20220511_dec931/20210605/dl3_LST-1.Run04930.fits'), PosixPath('/fefs/aswg/workspace/chaitanya.priyadarshi/real_data/AGN/PG1553/v09x/tailcut84/DL3/interp_irf_en_dep/no_tuning/geff_80/teff_80/20220511_dec931/20210606/dl3_LST-1.Run04940.fits'), PosixPath('/fefs/aswg/workspace/chaitanya.priyadarshi/real_data/AGN/PG1553/v09x/tailcut84/DL3/interp_irf_en_dep/no_tuning/geff_80/teff_80/20220511_dec931/20210606/dl3_LST-1.Run04941.fits'), PosixPath('/fefs/aswg/workspace/chaitanya.priyadarshi/real_data/AGN/PG1553/v09x/tailcut84/DL3/interp_irf_en_dep/no_tuning/geff_80/teff_80/20220511_dec931/20210606/dl3_LST-1.Run04942.fits'), PosixPath('/fefs/aswg/workspace/chaitanya.priyadarshi/real_data/AGN/PG1553/v09x/tailcut84/DL3/interp_irf_en_dep/no_tuning/geff_80/teff_80/20220511_dec931/20210606/dl3_LST-1.Run04943.fits'), PosixPath('/fefs/aswg/workspace/chaitanya.priyadarshi/real_data/AGN/PG1553/v09x/tailcut84/DL3/interp_irf_en_dep/no_tuning/geff_80/teff_80/20220511_dec931/20220228/dl3_LST-1.Run07153.fits'), PosixPath('/fefs/aswg/workspace/chaitanya.priyadarshi/real_data/AGN/PG1553/v09x/tailcut84/DL3/interp_irf_en_dep/no_tuning/geff_80/teff_80/20220511_dec931/20220228/dl3_LST-1.Run07154.fits'), PosixPath('/fefs/aswg/workspace/chaitanya.priyadarshi/real_data/AGN/PG1553/v09x/tailcut84/DL3/interp_irf_en_dep/no_tuning/geff_80/teff_80/20220511_dec931/20220501/dl3_LST-1.Run08059.fits'), PosixPath('/fefs/aswg/workspace/chaitanya.priyadarshi/real_data/AGN/PG1553/v09x/tailcut84/DL3/interp_irf_en_dep/no_tuning/geff_80/teff_80/20220511_dec931/20220501/dl3_LST-1.Run08060.fits'), PosixPath('/fefs/aswg/workspace/chaitanya.priyadarshi/real_data/AGN/PG1553/v09x/tailcut84/DL3/interp_irf_en_dep/no_tuning/geff_80/teff_80/20220511_dec931/20220501/dl3_LST-1.Run08061.fits'), PosixPath('/fefs/aswg/workspace/chaitanya.priyadarshi/real_data/AGN/PG1553/v09x/tailcut84/DL3/interp_irf_en_dep/no_tuning/geff_80/teff_80/20220511_dec931/20220501/dl3_LST-1.Run08062.fits'), PosixPath('/fefs/aswg/workspace/chaitanya.priyadarshi/real_data/AGN/PG1553/v09x/tailcut84/DL3/interp_irf_en_dep/no_tuning/geff_80/teff_80/20220511_dec931/20220501/dl3_LST-1.Run08063.fits'), PosixPath('/fefs/aswg/workspace/chaitanya.priyadarshi/real_data/AGN/PG1553/v09x/tailcut84/DL3/interp_irf_en_dep/no_tuning/geff_80/teff_80/20220511_dec931/20220501/dl3_LST-1.Run08064.fits'), PosixPath('/fefs/aswg/workspace/chaitanya.priyadarshi/real_data/AGN/PG1553/v09x/tailcut84/DL3/interp_irf_en_dep/no_tuning/geff_80/teff_80/20220511_dec931/20220520/dl3_LST-1.Run08377.fits'), PosixPath('/fefs/aswg/workspace/chaitanya.priyadarshi/real_data/AGN/PG1553/v09x/tailcut84/DL3/interp_irf_en_dep/no_tuning/geff_80/teff_80/20220511_dec931/20220520/dl3_LST-1.Run08378.fits'), PosixPath('/fefs/aswg/workspace/chaitanya.priyadarshi/real_data/AGN/PG1553/v09x/tailcut84/DL3/interp_irf_en_dep/no_tuning/geff_80/teff_80/20220511_dec931/20220520/dl3_LST-1.Run08379.fits'), PosixPath('/fefs/aswg/workspace/chaitanya.priyadarshi/real_data/AGN/PG1553/v09x/tailcut84/DL3/interp_irf_en_dep/no_tuning/geff_80/teff_80/20220511_dec931/20220523/dl3_LST-1.Run08424.fits'), PosixPath('/fefs/aswg/workspace/chaitanya.priyadarshi/real_data/AGN/PG1553/v09x/tailcut84/DL3/interp_irf_en_dep/no_tuning/geff_80/teff_80/20220511_dec931/20220523/dl3_LST-1.Run08425.fits'), PosixPath('/fefs/aswg/workspace/chaitanya.priyadarshi/real_data/AGN/PG1553/v09x/tailcut84/DL3/interp_irf_en_dep/no_tuning/geff_80/teff_80/20220511_dec931/20220617/dl3_LST-1.Run08786.fits'), PosixPath('/fefs/aswg/workspace/chaitanya.priyadarshi/real_data/AGN/PG1553/v09x/tailcut84/DL3/interp_irf_en_dep/no_tuning/geff_80/teff_80/20220511_dec931/20220617/dl3_LST-1.Run08787.fits'), PosixPath('/fefs/aswg/workspace/chaitanya.priyadarshi/real_data/AGN/PG1553/v09x/tailcut84/DL3/interp_irf_en_dep/no_tuning/geff_80/teff_80/20220511_dec931/20230120/dl3_LST-1.Run11747.fits'), PosixPath('/fefs/aswg/workspace/chaitanya.priyadarshi/real_data/AGN/PG1553/v09x/tailcut84/DL3/interp_irf_en_dep/no_tuning/geff_80/teff_80/20220511_dec931/20230120/dl3_LST-1.Run11748.fits'), PosixPath('/fefs/aswg/workspace/chaitanya.priyadarshi/real_data/AGN/PG1553/v09x/tailcut84/DL3/interp_irf_en_dep/no_tuning/geff_80/teff_80/20220511_dec931/20230120/dl3_LST-1.Run11749.fits'), PosixPath('/fefs/aswg/workspace/chaitanya.priyadarshi/real_data/AGN/PG1553/v09x/tailcut84/DL3/interp_irf_en_dep/no_tuning/geff_80/teff_80/20220511_dec931/20230120/dl3_LST-1.Run11750.fits'), PosixPath('/fefs/aswg/workspace/chaitanya.priyadarshi/real_data/AGN/PG1553/v09x/tailcut84/DL3/interp_irf_en_dep/no_tuning/geff_80/teff_80/20220511_dec931/20230120/dl3_LST-1.Run11751.fits'), PosixPath('/fefs/aswg/workspace/chaitanya.priyadarshi/real_data/AGN/PG1553/v09x/tailcut84/DL3/interp_irf_en_dep/no_tuning/geff_80/teff_80/20220511_dec931/20230121/dl3_LST-1.Run11776.fits'), PosixPath('/fefs/aswg/workspace/chaitanya.priyadarshi/real_data/AGN/PG1553/v09x/tailcut84/DL3/interp_irf_en_dep/no_tuning/geff_80/teff_80/20220511_dec931/20230121/dl3_LST-1.Run11777.fits')]\n"
     ]
    },
    {
     "name": "stderr",
     "output_type": "stream",
     "text": [
      "Observation ID list selected: [4333 4334 4335 4336 4343 4344 4363 4364 4365 4366 4367 4368 4514 4515\n",
      " 4652 4653 4654 4902 4903 4904 4905 4930 4940 4941 4942 4943 7153 7154\n",
      " 8059 8060 8061 8062 8063 8064 8377 8378 8379 8424 8425]\n",
      "Observations selected: 39 out of 39.\n",
      "Analysis Step datasets-1d completed\n"
     ]
    },
    {
     "name": "stdout",
     "output_type": "stream",
     "text": [
      "SpectrumDatasetOnOff\n",
      "--------------------\n",
      "\n",
      "  Name                            : LST-1 \n",
      "\n",
      "  Total counts                    : 1653090 \n",
      "  Total background counts         : 1634543.00\n",
      "  Total excess counts             : 18547.00\n",
      "\n",
      "  Predicted counts                : 1643816.50\n",
      "  Predicted background counts     : 1643816.50\n",
      "  Predicted excess counts         : nan\n",
      "\n",
      "  Exposure min                    : 5.34e+07 m2 s\n",
      "  Exposure max                    : 1.14e+10 m2 s\n",
      "\n",
      "  Number of total bins            : 15 \n",
      "  Number of fit bins              : 10 \n",
      "\n",
      "  Fit statistic type              : wstat\n",
      "  Fit statistic value (-2 log(L)) : 183.81\n",
      "\n",
      "  Number of models                : 0 \n",
      "  Number of parameters            : 0\n",
      "  Number of free parameters       : 0\n",
      "\n",
      "  Total counts_off                : 1634543 \n",
      "  Acceptance                      : 15 \n",
      "  Acceptance off                  : 15 \n",
      "\n",
      "Before enlisting from a 1D dataset ['Fermi-LAT_FRONT', 'Fermi-LAT_BACK']\n",
      "After enlisting from a 1D dataset ['Fermi-LAT_FRONT', 'Fermi-LAT_BACK', 'LST-1']\n",
      "CPU times: user 1min 21s, sys: 22.8 s, total: 1min 44s\n",
      "Wall time: 1min 45s\n"
     ]
    }
   ],
   "source": [
    "%%time\n",
    "analysis.run([\"datasets-1d\"])"
   ]
  },
  {
   "cell_type": "markdown",
   "id": "a0565133",
   "metadata": {},
   "source": [
    "## Display the results"
   ]
  },
  {
   "cell_type": "code",
   "execution_count": 26,
   "id": "dfea2d18",
   "metadata": {},
   "outputs": [
    {
     "name": "stdout",
     "output_type": "stream",
     "text": [
      "Datasets\n",
      "--------\n",
      "\n",
      "Dataset 0: \n",
      "\n",
      "  Type       : MapDataset\n",
      "  Name       : Fermi-LAT_FRONT\n",
      "  Instrument : \n",
      "  Models     : \n",
      "\n",
      "Dataset 1: \n",
      "\n",
      "  Type       : MapDataset\n",
      "  Name       : Fermi-LAT_BACK\n",
      "  Instrument : \n",
      "  Models     : \n",
      "\n",
      "Dataset 2: \n",
      "\n",
      "  Type       : SpectrumDatasetOnOff\n",
      "  Name       : LST-1\n",
      "  Instrument : \n",
      "  Models     : \n",
      "\n",
      "\n"
     ]
    }
   ],
   "source": [
    "print(analysis.datasets)"
   ]
  },
  {
   "cell_type": "code",
   "execution_count": 27,
   "id": "8a868a98",
   "metadata": {
    "scrolled": true
   },
   "outputs": [
    {
     "name": "stdout",
     "output_type": "stream",
     "text": [
      "MapDataset\n",
      "----------\n",
      "\n",
      "  Name                            : Fermi-LAT_FRONT \n",
      "\n",
      "  Total counts                    : 507 \n",
      "  Total background counts         : nan\n",
      "  Total excess counts             : nan\n",
      "\n",
      "  Predicted counts                : nan\n",
      "  Predicted background counts     : nan\n",
      "  Predicted excess counts         : nan\n",
      "\n",
      "  Exposure min                    : 2.13e+08 cm2 s\n",
      "  Exposure max                    : 7.65e+08 cm2 s\n",
      "\n",
      "  Number of total bins            : 815121 \n",
      "  Number of fit bins              : 745093 \n",
      "\n",
      "  Fit statistic type              : cash\n",
      "  Fit statistic value (-2 log(L)) : nan\n",
      "\n",
      "  Number of models                : 0 \n",
      "  Number of parameters            : 0\n",
      "  Number of free parameters       : 0\n",
      "\n",
      "\n",
      "MapDataset\n",
      "----------\n",
      "\n",
      "  Name                            : Fermi-LAT_BACK \n",
      "\n",
      "  Total counts                    : 458 \n",
      "  Total background counts         : nan\n",
      "  Total excess counts             : nan\n",
      "\n",
      "  Predicted counts                : nan\n",
      "  Predicted background counts     : nan\n",
      "  Predicted excess counts         : nan\n",
      "\n",
      "  Exposure min                    : 1.92e+08 cm2 s\n",
      "  Exposure max                    : 6.90e+08 cm2 s\n",
      "\n",
      "  Number of total bins            : 815121 \n",
      "  Number of fit bins              : 745093 \n",
      "\n",
      "  Fit statistic type              : cash\n",
      "  Fit statistic value (-2 log(L)) : nan\n",
      "\n",
      "  Number of models                : 0 \n",
      "  Number of parameters            : 0\n",
      "  Number of free parameters       : 0\n",
      "\n",
      "\n",
      "SpectrumDatasetOnOff\n",
      "--------------------\n",
      "\n",
      "  Name                            : LST-1 \n",
      "\n",
      "  Total counts                    : 1653090 \n",
      "  Total background counts         : 1634543.00\n",
      "  Total excess counts             : 18547.00\n",
      "\n",
      "  Predicted counts                : 1643816.50\n",
      "  Predicted background counts     : 1643816.50\n",
      "  Predicted excess counts         : nan\n",
      "\n",
      "  Exposure min                    : 5.34e+07 m2 s\n",
      "  Exposure max                    : 1.14e+10 m2 s\n",
      "\n",
      "  Number of total bins            : 15 \n",
      "  Number of fit bins              : 10 \n",
      "\n",
      "  Fit statistic type              : wstat\n",
      "  Fit statistic value (-2 log(L)) : 183.81\n",
      "\n",
      "  Number of models                : 0 \n",
      "  Number of parameters            : 0\n",
      "  Number of free parameters       : 0\n",
      "\n",
      "  Total counts_off                : 1634543 \n",
      "  Acceptance                      : 15 \n",
      "  Acceptance off                  : 15 \n",
      "\n"
     ]
    }
   ],
   "source": [
    "for d in analysis.datasets:\n",
    "    print(d)"
   ]
  },
  {
   "cell_type": "code",
   "execution_count": 28,
   "id": "cf6652a5",
   "metadata": {},
   "outputs": [
    {
     "name": "stdout",
     "output_type": "stream",
     "text": [
      "SkyModel\n",
      "\n",
      "  Name                      : PG1553+113\n",
      "  Datasets names            : ['Fermi-LAT_FRONT', 'Fermi-LAT_BACK']\n",
      "  Spectral model type       : CompoundSpectralModel\n",
      "  Spatial  model type       : PointSpatialModel\n",
      "  Temporal model type       : \n",
      "  Parameters:\n",
      "    amplitude                     :   1.00e-05   +/- 1.5e-06 1 / (cm2 s TeV)\n",
      "    reference             (frozen):      0.002       TeV         \n",
      "    alpha                         :      1.500   +/-    0.10             \n",
      "    beta                          :      0.100   +/-    0.01             \n",
      "    alpha_norm            (frozen):      1.000                   \n",
      "    redshift              (frozen):      0.433                   \n",
      "    lon_0                 (frozen):      0.382       rad         \n",
      "    lat_0                 (frozen):      0.767       rad         \n",
      "\n",
      "\n",
      "SkyModel\n",
      "\n",
      "  Name                      : 4FGL J1541.7+1413\n",
      "  Datasets names            : ['Fermi-LAT_FRONT', 'Fermi-LAT_BACK']\n",
      "  Spectral model type       : PowerLawSpectralModel\n",
      "  Spatial  model type       : PointSpatialModel\n",
      "  Temporal model type       : \n",
      "  Parameters:\n",
      "    index                 (frozen):      1.918                   \n",
      "    amplitude             (frozen):   9.20e-09       1 / (cm2 s TeV)\n",
      "    reference             (frozen):      0.005       TeV         \n",
      "    lon_0                 (frozen):      0.414       rad         \n",
      "    lat_0                 (frozen):      0.844       rad         \n",
      "\n",
      "\n",
      "SkyModel\n",
      "\n",
      "  Name                      : 4FGL J1546.0+0819\n",
      "  Datasets names            : ['Fermi-LAT_FRONT', 'Fermi-LAT_BACK']\n",
      "  Spectral model type       : LogParabolaSpectralModel\n",
      "  Spatial  model type       : PointSpatialModel\n",
      "  Temporal model type       : \n",
      "  Parameters:\n",
      "    amplitude                     :   6.73e-07   +/- 0.0e+00 1 / (cm2 s TeV)\n",
      "    reference             (frozen):      0.002       TeV         \n",
      "    alpha                         :      1.509   +/-    0.00             \n",
      "    beta                          :      1.000   +/-    0.00             \n",
      "    lon_0                 (frozen):      0.293       rad         \n",
      "    lat_0                 (frozen):      0.780       rad         \n",
      "\n",
      "\n",
      "SkyModel\n",
      "\n",
      "  Name                      : 4FGL J1548.3+1456\n",
      "  Datasets names            : ['Fermi-LAT_FRONT', 'Fermi-LAT_BACK']\n",
      "  Spectral model type       : LogParabolaSpectralModel\n",
      "  Spatial  model type       : PointSpatialModel\n",
      "  Temporal model type       : \n",
      "  Parameters:\n",
      "    amplitude                     :   1.34e-06   +/- 0.0e+00 1 / (cm2 s TeV)\n",
      "    reference             (frozen):      0.001       TeV         \n",
      "    alpha                         :      0.500   +/-    0.00             \n",
      "    beta                          :      0.425   +/-    0.00             \n",
      "    lon_0                 (frozen):      0.448       rad         \n",
      "    lat_0                 (frozen):      0.824       rad         \n",
      "\n",
      "\n",
      "SkyModel\n",
      "\n",
      "  Name                      : 4FGL J1550.7+0528\n",
      "  Datasets names            : ['Fermi-LAT_FRONT', 'Fermi-LAT_BACK']\n",
      "  Spectral model type       : LogParabolaSpectralModel\n",
      "  Spatial  model type       : PointSpatialModel\n",
      "  Temporal model type       : \n",
      "  Parameters:\n",
      "    amplitude                     :   8.82e-06   +/- 0.0e+00 1 / (cm2 s TeV)\n",
      "    reference             (frozen):      0.001       TeV         \n",
      "    alpha                 (frozen):      2.287                   \n",
      "    beta                  (frozen):      0.139                   \n",
      "    lon_0                 (frozen):      0.249       rad         \n",
      "    lat_0                 (frozen):      0.737       rad         \n",
      "\n",
      "\n",
      "SkyModel\n",
      "\n",
      "  Name                      : 4FGL J1603.8+1104\n",
      "  Datasets names            : ['Fermi-LAT_FRONT', 'Fermi-LAT_BACK']\n",
      "  Spectral model type       : PowerLawSpectralModel\n",
      "  Spatial  model type       : PointSpatialModel\n",
      "  Temporal model type       : \n",
      "  Parameters:\n",
      "    index                 (frozen):      2.117                   \n",
      "    amplitude             (frozen):   1.64e-08       1 / (cm2 s TeV)\n",
      "    reference             (frozen):      0.003       TeV         \n",
      "    lon_0                 (frozen):      0.401       rad         \n",
      "    lat_0                 (frozen):      0.735       rad         \n",
      "\n",
      "\n",
      "SkyModel\n",
      "\n",
      "  Name                      : 4FGL J1607.0+1550\n",
      "  Datasets names            : ['Fermi-LAT_FRONT', 'Fermi-LAT_BACK']\n",
      "  Spectral model type       : LogParabolaSpectralModel\n",
      "  Spatial  model type       : PointSpatialModel\n",
      "  Temporal model type       : \n",
      "  Parameters:\n",
      "    amplitude                     :   5.38e-06   +/- 0.0e+00 1 / (cm2 s TeV)\n",
      "    reference             (frozen):      0.001       TeV         \n",
      "    alpha                 (frozen):      2.146                   \n",
      "    beta                  (frozen):      0.108                   \n",
      "    lon_0                 (frozen):      0.512       rad         \n",
      "    lat_0                 (frozen):      0.758       rad         \n",
      "\n",
      "\n",
      "SkyModel\n",
      "\n",
      "  Name                      : 4FGL J1608.7+1029\n",
      "  Datasets names            : ['Fermi-LAT_FRONT', 'Fermi-LAT_BACK']\n",
      "  Spectral model type       : LogParabolaSpectralModel\n",
      "  Spatial  model type       : PointSpatialModel\n",
      "  Temporal model type       : \n",
      "  Parameters:\n",
      "    amplitude                     :   1.93e-05   +/- 0.0e+00 1 / (cm2 s TeV)\n",
      "    reference             (frozen):      0.001       TeV         \n",
      "    alpha                         :      2.592   +/-    0.00             \n",
      "    beta                          :      0.000   +/-    0.00             \n",
      "    lon_0                 (frozen):      0.402       rad         \n",
      "    lat_0                 (frozen):      0.712       rad         \n",
      "\n",
      "\n",
      "SkyModel\n",
      "\n",
      "  Name                      : 4FGL J1612.1+1407\n",
      "  Datasets names            : ['Fermi-LAT_FRONT', 'Fermi-LAT_BACK']\n",
      "  Spectral model type       : LogParabolaSpectralModel\n",
      "  Spatial  model type       : PointSpatialModel\n",
      "  Temporal model type       : \n",
      "  Parameters:\n",
      "    amplitude                     :   8.91e-07   +/- 0.0e+00 1 / (cm2 s TeV)\n",
      "    reference             (frozen):      0.002       TeV         \n",
      "    alpha                         :      2.070   +/-    0.00             \n",
      "    beta                          :      1.000   +/-    0.00             \n",
      "    lon_0                 (frozen):      0.486       rad         \n",
      "    lat_0                 (frozen):      0.726       rad         \n",
      "\n",
      "\n",
      "SkyModel\n",
      "\n",
      "  Name                      : diffuse-iem\n",
      "  Datasets names            : ['Fermi-LAT_FRONT', 'Fermi-LAT_BACK']\n",
      "  Spectral model type       : PowerLawNormSpectralModel\n",
      "  Spatial  model type       : TemplateSpatialModel\n",
      "  Temporal model type       : \n",
      "  Parameters:\n",
      "    norm                          :      1.000   +/-    0.00             \n",
      "    tilt                  (frozen):      0.000                   \n",
      "    reference             (frozen):      1.000       TeV         \n",
      "\n",
      "\n",
      "SkyModel\n",
      "\n",
      "  Name                      : fermi-diffuse-iso-FRONT\n",
      "  Datasets names            : ['Fermi-LAT_FRONT']\n",
      "  Spectral model type       : CompoundSpectralModel\n",
      "  Spatial  model type       : ConstantSpatialModel\n",
      "  Temporal model type       : \n",
      "  Parameters:\n",
      "    norm                  (frozen):      1.000                   \n",
      "    norm                          :      1.000   +/-    0.00             \n",
      "    tilt                  (frozen):      0.000                   \n",
      "    reference             (frozen):      1.000       TeV         \n",
      "    value                 (frozen):      1.000       1 / sr      \n",
      "\n",
      "\n",
      "SkyModel\n",
      "\n",
      "  Name                      : fermi-diffuse-iso-BACK\n",
      "  Datasets names            : ['Fermi-LAT_BACK']\n",
      "  Spectral model type       : CompoundSpectralModel\n",
      "  Spatial  model type       : ConstantSpatialModel\n",
      "  Temporal model type       : \n",
      "  Parameters:\n",
      "    norm                  (frozen):      1.000                   \n",
      "    norm                          :      1.000   +/-    0.00             \n",
      "    tilt                  (frozen):      0.000                   \n",
      "    reference             (frozen):      1.000       TeV         \n",
      "    value                 (frozen):      1.000       1 / sr      \n",
      "\n",
      "\n"
     ]
    }
   ],
   "source": [
    "for m in analysis.final_model:\n",
    "    print(m)"
   ]
  },
  {
   "cell_type": "code",
   "execution_count": 29,
   "id": "afa41867",
   "metadata": {},
   "outputs": [
    {
     "name": "stdout",
     "output_type": "stream",
     "text": [
      "The spectral energy range to be used for dataset 1 is [1.00000000e-04 3.16227766e-04 1.00000000e-03 3.16227766e-03\n",
      " 1.00000000e-02 3.16227766e-02 1.00000000e-01 3.16227766e-01\n",
      " 1.00000000e+00] TeV\n",
      "The spectral energy range to be used for dataset 2 is [1.00000000e-04 3.16227766e-04 1.00000000e-03 3.16227766e-03\n",
      " 1.00000000e-02 3.16227766e-02 1.00000000e-01 3.16227766e-01\n",
      " 1.00000000e+00] TeV\n",
      "The spectral energy range to be used for dataset 3 is [ 0.01        0.01584893  0.02511886  0.03981072  0.06309573  0.1\n",
      "  0.15848932  0.25118864  0.39810717  0.63095734  1.          1.58489319\n",
      "  2.51188643  3.98107171  6.30957344 10.        ] TeV\n"
     ]
    }
   ],
   "source": [
    "for i, en_range in enumerate(analysis.spectral_energy_ranges):\n",
    "    print(f\"The spectral energy range to be used for dataset {i+1} is {en_range}\")"
   ]
  },
  {
   "cell_type": "code",
   "execution_count": null,
   "id": "e3f286d7",
   "metadata": {},
   "outputs": [],
   "source": []
  },
  {
   "cell_type": "code",
   "execution_count": 30,
   "id": "87e90534",
   "metadata": {},
   "outputs": [
    {
     "name": "stdout",
     "output_type": "stream",
     "text": [
      "['Fermi-LAT_FRONT', 'Fermi-LAT_BACK', 'LST-1']\n"
     ]
    }
   ],
   "source": [
    "print(analysis.dataset_name_list)"
   ]
  },
  {
   "cell_type": "code",
   "execution_count": null,
   "id": "f641436b",
   "metadata": {},
   "outputs": [],
   "source": []
  },
  {
   "cell_type": "markdown",
   "id": "ae01b742",
   "metadata": {},
   "source": [
    "# Preparing the Datasets for DL4 steps"
   ]
  },
  {
   "cell_type": "code",
   "execution_count": 31,
   "id": "7379b3fb",
   "metadata": {},
   "outputs": [],
   "source": [
    "analysis.final_model = Models(analysis.final_model)"
   ]
  },
  {
   "cell_type": "code",
   "execution_count": 32,
   "id": "12411eaf",
   "metadata": {},
   "outputs": [],
   "source": [
    "# Only updating the target source model with names of all datasets\n",
    "analysis.final_model[config_main.target.source_name].datasets_names = analysis.dataset_name_list"
   ]
  },
  {
   "cell_type": "code",
   "execution_count": 33,
   "id": "98063d01",
   "metadata": {},
   "outputs": [
    {
     "name": "stdout",
     "output_type": "stream",
     "text": [
      "SkyModel\n",
      "\n",
      "  Name                      : PG1553+113\n",
      "  Datasets names            : ['Fermi-LAT_FRONT', 'Fermi-LAT_BACK', 'LST-1']\n",
      "  Spectral model type       : CompoundSpectralModel\n",
      "  Spatial  model type       : PointSpatialModel\n",
      "  Temporal model type       : \n",
      "  Parameters:\n",
      "    amplitude                     :   1.00e-05   +/- 1.5e-06 1 / (cm2 s TeV)\n",
      "    reference             (frozen):      0.002       TeV         \n",
      "    alpha                         :      1.500   +/-    0.10             \n",
      "    beta                          :      0.100   +/-    0.01             \n",
      "    alpha_norm            (frozen):      1.000                   \n",
      "    redshift              (frozen):      0.433                   \n",
      "    lon_0                 (frozen):      0.382       rad         \n",
      "    lat_0                 (frozen):      0.767       rad         \n",
      "\n",
      "\n"
     ]
    }
   ],
   "source": [
    "print(analysis.final_model[config_main.target.source_name])"
   ]
  },
  {
   "cell_type": "code",
   "execution_count": null,
   "id": "42589d75",
   "metadata": {},
   "outputs": [],
   "source": []
  },
  {
   "cell_type": "markdown",
   "id": "7fa7e4c1",
   "metadata": {},
   "source": [
    "## Assigning the models to all the datasets"
   ]
  },
  {
   "cell_type": "code",
   "execution_count": 34,
   "id": "2d67b804",
   "metadata": {},
   "outputs": [],
   "source": [
    "analysis.datasets.models = analysis.final_model"
   ]
  },
  {
   "cell_type": "code",
   "execution_count": 35,
   "id": "aa164c3e",
   "metadata": {
    "scrolled": true
   },
   "outputs": [
    {
     "name": "stdout",
     "output_type": "stream",
     "text": [
      "Datasets\n",
      "--------\n",
      "\n",
      "Dataset 0: \n",
      "\n",
      "  Type       : MapDataset\n",
      "  Name       : Fermi-LAT_FRONT\n",
      "  Instrument : \n",
      "  Models     : ['PG1553+113', '4FGL J1541.7+1413', '4FGL J1546.0+0819', '4FGL J1548.3+1456', '4FGL J1550.7+0528', '4FGL J1603.8+1104', '4FGL J1607.0+1550', '4FGL J1608.7+1029', '4FGL J1612.1+1407', 'diffuse-iem', 'fermi-diffuse-iso-FRONT']\n",
      "\n",
      "Dataset 1: \n",
      "\n",
      "  Type       : MapDataset\n",
      "  Name       : Fermi-LAT_BACK\n",
      "  Instrument : \n",
      "  Models     : ['PG1553+113', '4FGL J1541.7+1413', '4FGL J1546.0+0819', '4FGL J1548.3+1456', '4FGL J1550.7+0528', '4FGL J1603.8+1104', '4FGL J1607.0+1550', '4FGL J1608.7+1029', '4FGL J1612.1+1407', 'diffuse-iem', 'fermi-diffuse-iso-BACK']\n",
      "\n",
      "Dataset 2: \n",
      "\n",
      "  Type       : SpectrumDatasetOnOff\n",
      "  Name       : LST-1\n",
      "  Instrument : \n",
      "  Models     : ['PG1553+113']\n",
      "\n",
      "\n"
     ]
    }
   ],
   "source": [
    "print(analysis.datasets)"
   ]
  },
  {
   "cell_type": "code",
   "execution_count": 36,
   "id": "d25dedaf",
   "metadata": {},
   "outputs": [
    {
     "name": "stdout",
     "output_type": "stream",
     "text": [
      "MapDataset\n",
      "----------\n",
      "\n",
      "  Name                            : Fermi-LAT_FRONT \n",
      "\n",
      "  Total counts                    : 507 \n",
      "  Total background counts         : nan\n",
      "  Total excess counts             : nan\n",
      "\n",
      "  Predicted counts                : 395.83\n",
      "  Predicted background counts     : nan\n",
      "  Predicted excess counts         : 395.83\n",
      "\n",
      "  Exposure min                    : 2.13e+08 cm2 s\n",
      "  Exposure max                    : 7.65e+08 cm2 s\n",
      "\n",
      "  Number of total bins            : 815121 \n",
      "  Number of fit bins              : 745093 \n",
      "\n",
      "  Fit statistic type              : cash\n",
      "  Fit statistic value (-2 log(L)) : 7167.67\n",
      "\n",
      "  Number of models                : 11 \n",
      "  Number of parameters            : 62\n",
      "  Number of free parameters       : 19\n",
      "\n",
      "  Component 0: SkyModel\n",
      "  \n",
      "    Name                      : PG1553+113\n",
      "    Datasets names            : ['Fermi-LAT_FRONT', 'Fermi-LAT_BACK', 'LST-1']\n",
      "    Spectral model type       : CompoundSpectralModel\n",
      "    Spatial  model type       : PointSpatialModel\n",
      "    Temporal model type       : \n",
      "    Parameters:\n",
      "      amplitude                     :   1.00e-05   +/- 1.5e-06 1 / (cm2 s TeV)\n",
      "      reference             (frozen):      0.002       TeV         \n",
      "      alpha                         :      1.500   +/-    0.10             \n",
      "      beta                          :      0.100   +/-    0.01             \n",
      "      alpha_norm            (frozen):      1.000                   \n",
      "      redshift              (frozen):      0.433                   \n",
      "      lon_0                 (frozen):      0.382       rad         \n",
      "      lat_0                 (frozen):      0.767       rad         \n",
      "  \n",
      "  Component 1: SkyModel\n",
      "  \n",
      "    Name                      : 4FGL J1541.7+1413\n",
      "    Datasets names            : ['Fermi-LAT_FRONT', 'Fermi-LAT_BACK']\n",
      "    Spectral model type       : PowerLawSpectralModel\n",
      "    Spatial  model type       : PointSpatialModel\n",
      "    Temporal model type       : \n",
      "    Parameters:\n",
      "      index                 (frozen):      1.918                   \n",
      "      amplitude             (frozen):   9.20e-09       1 / (cm2 s TeV)\n",
      "      reference             (frozen):      0.005       TeV         \n",
      "      lon_0                 (frozen):      0.414       rad         \n",
      "      lat_0                 (frozen):      0.844       rad         \n",
      "  \n",
      "  Component 2: SkyModel\n",
      "  \n",
      "    Name                      : 4FGL J1546.0+0819\n",
      "    Datasets names            : ['Fermi-LAT_FRONT', 'Fermi-LAT_BACK']\n",
      "    Spectral model type       : LogParabolaSpectralModel\n",
      "    Spatial  model type       : PointSpatialModel\n",
      "    Temporal model type       : \n",
      "    Parameters:\n",
      "      amplitude                     :   6.73e-07   +/- 0.0e+00 1 / (cm2 s TeV)\n",
      "      reference             (frozen):      0.002       TeV         \n",
      "      alpha                         :      1.509   +/-    0.00             \n",
      "      beta                          :      1.000   +/-    0.00             \n",
      "      lon_0                 (frozen):      0.293       rad         \n",
      "      lat_0                 (frozen):      0.780       rad         \n",
      "  \n",
      "  Component 3: SkyModel\n",
      "  \n",
      "    Name                      : 4FGL J1548.3+1456\n",
      "    Datasets names            : ['Fermi-LAT_FRONT', 'Fermi-LAT_BACK']\n",
      "    Spectral model type       : LogParabolaSpectralModel\n",
      "    Spatial  model type       : PointSpatialModel\n",
      "    Temporal model type       : \n",
      "    Parameters:\n",
      "      amplitude                     :   1.34e-06   +/- 0.0e+00 1 / (cm2 s TeV)\n",
      "      reference             (frozen):      0.001       TeV         \n",
      "      alpha                         :      0.500   +/-    0.00             \n",
      "      beta                          :      0.425   +/-    0.00             \n",
      "      lon_0                 (frozen):      0.448       rad         \n",
      "      lat_0                 (frozen):      0.824       rad         \n",
      "  \n",
      "  Component 4: SkyModel\n",
      "  \n",
      "    Name                      : 4FGL J1550.7+0528\n",
      "    Datasets names            : ['Fermi-LAT_FRONT', 'Fermi-LAT_BACK']\n",
      "    Spectral model type       : LogParabolaSpectralModel\n",
      "    Spatial  model type       : PointSpatialModel\n",
      "    Temporal model type       : \n",
      "    Parameters:\n",
      "      amplitude                     :   8.82e-06   +/- 0.0e+00 1 / (cm2 s TeV)\n",
      "      reference             (frozen):      0.001       TeV         \n",
      "      alpha                 (frozen):      2.287                   \n",
      "      beta                  (frozen):      0.139                   \n",
      "      lon_0                 (frozen):      0.249       rad         \n",
      "      lat_0                 (frozen):      0.737       rad         \n",
      "  \n",
      "  Component 5: SkyModel\n",
      "  \n",
      "    Name                      : 4FGL J1603.8+1104\n",
      "    Datasets names            : ['Fermi-LAT_FRONT', 'Fermi-LAT_BACK']\n",
      "    Spectral model type       : PowerLawSpectralModel\n",
      "    Spatial  model type       : PointSpatialModel\n",
      "    Temporal model type       : \n",
      "    Parameters:\n",
      "      index                 (frozen):      2.117                   \n",
      "      amplitude             (frozen):   1.64e-08       1 / (cm2 s TeV)\n",
      "      reference             (frozen):      0.003       TeV         \n",
      "      lon_0                 (frozen):      0.401       rad         \n",
      "      lat_0                 (frozen):      0.735       rad         \n",
      "  \n",
      "  Component 6: SkyModel\n",
      "  \n",
      "    Name                      : 4FGL J1607.0+1550\n",
      "    Datasets names            : ['Fermi-LAT_FRONT', 'Fermi-LAT_BACK']\n",
      "    Spectral model type       : LogParabolaSpectralModel\n",
      "    Spatial  model type       : PointSpatialModel\n",
      "    Temporal model type       : \n",
      "    Parameters:\n",
      "      amplitude                     :   5.38e-06   +/- 0.0e+00 1 / (cm2 s TeV)\n",
      "      reference             (frozen):      0.001       TeV         \n",
      "      alpha                 (frozen):      2.146                   \n",
      "      beta                  (frozen):      0.108                   \n",
      "      lon_0                 (frozen):      0.512       rad         \n",
      "      lat_0                 (frozen):      0.758       rad         \n",
      "  \n",
      "  Component 7: SkyModel\n",
      "  \n",
      "    Name                      : 4FGL J1608.7+1029\n",
      "    Datasets names            : ['Fermi-LAT_FRONT', 'Fermi-LAT_BACK']\n",
      "    Spectral model type       : LogParabolaSpectralModel\n",
      "    Spatial  model type       : PointSpatialModel\n",
      "    Temporal model type       : \n",
      "    Parameters:\n",
      "      amplitude                     :   1.93e-05   +/- 0.0e+00 1 / (cm2 s TeV)\n",
      "      reference             (frozen):      0.001       TeV         \n",
      "      alpha                         :      2.592   +/-    0.00             \n",
      "      beta                          :      0.000   +/-    0.00             \n",
      "      lon_0                 (frozen):      0.402       rad         \n",
      "      lat_0                 (frozen):      0.712       rad         \n",
      "  \n",
      "  Component 8: SkyModel\n",
      "  \n",
      "    Name                      : 4FGL J1612.1+1407\n",
      "    Datasets names            : ['Fermi-LAT_FRONT', 'Fermi-LAT_BACK']\n",
      "    Spectral model type       : LogParabolaSpectralModel\n",
      "    Spatial  model type       : PointSpatialModel\n",
      "    Temporal model type       : \n",
      "    Parameters:\n",
      "      amplitude                     :   8.91e-07   +/- 0.0e+00 1 / (cm2 s TeV)\n",
      "      reference             (frozen):      0.002       TeV         \n",
      "      alpha                         :      2.070   +/-    0.00             \n",
      "      beta                          :      1.000   +/-    0.00             \n",
      "      lon_0                 (frozen):      0.486       rad         \n",
      "      lat_0                 (frozen):      0.726       rad         \n",
      "  \n",
      "  Component 9: SkyModel\n",
      "  \n",
      "    Name                      : diffuse-iem\n",
      "    Datasets names            : ['Fermi-LAT_FRONT', 'Fermi-LAT_BACK']\n",
      "    Spectral model type       : PowerLawNormSpectralModel\n",
      "    Spatial  model type       : TemplateSpatialModel\n",
      "    Temporal model type       : \n",
      "    Parameters:\n",
      "      norm                          :      1.000   +/-    0.00             \n",
      "      tilt                  (frozen):      0.000                   \n",
      "      reference             (frozen):      1.000       TeV         \n",
      "  \n",
      "  Component 10: SkyModel\n",
      "  \n",
      "    Name                      : fermi-diffuse-iso-FRONT\n",
      "    Datasets names            : ['Fermi-LAT_FRONT']\n",
      "    Spectral model type       : CompoundSpectralModel\n",
      "    Spatial  model type       : ConstantSpatialModel\n",
      "    Temporal model type       : \n",
      "    Parameters:\n",
      "      norm                  (frozen):      1.000                   \n",
      "      norm                          :      1.000   +/-    0.00             \n",
      "      tilt                  (frozen):      0.000                   \n",
      "      reference             (frozen):      1.000       TeV         \n",
      "      value                 (frozen):      1.000       1 / sr      \n",
      "  \n",
      "  \n"
     ]
    },
    {
     "name": "stdout",
     "output_type": "stream",
     "text": [
      "MapDataset\n",
      "----------\n",
      "\n",
      "  Name                            : Fermi-LAT_BACK \n",
      "\n",
      "  Total counts                    : 458 \n",
      "  Total background counts         : nan\n",
      "  Total excess counts             : nan\n",
      "\n",
      "  Predicted counts                : 372.87\n",
      "  Predicted background counts     : nan\n",
      "  Predicted excess counts         : 372.87\n",
      "\n",
      "  Exposure min                    : 1.92e+08 cm2 s\n",
      "  Exposure max                    : 6.90e+08 cm2 s\n",
      "\n",
      "  Number of total bins            : 815121 \n",
      "  Number of fit bins              : 745093 \n",
      "\n",
      "  Fit statistic type              : cash\n",
      "  Fit statistic value (-2 log(L)) : 6563.82\n",
      "\n",
      "  Number of models                : 11 \n",
      "  Number of parameters            : 62\n",
      "  Number of free parameters       : 19\n",
      "\n",
      "  Component 0: SkyModel\n",
      "  \n",
      "    Name                      : PG1553+113\n",
      "    Datasets names            : ['Fermi-LAT_FRONT', 'Fermi-LAT_BACK', 'LST-1']\n",
      "    Spectral model type       : CompoundSpectralModel\n",
      "    Spatial  model type       : PointSpatialModel\n",
      "    Temporal model type       : \n",
      "    Parameters:\n",
      "      amplitude                     :   1.00e-05   +/- 1.5e-06 1 / (cm2 s TeV)\n",
      "      reference             (frozen):      0.002       TeV         \n",
      "      alpha                         :      1.500   +/-    0.10             \n",
      "      beta                          :      0.100   +/-    0.01             \n",
      "      alpha_norm            (frozen):      1.000                   \n",
      "      redshift              (frozen):      0.433                   \n",
      "      lon_0                 (frozen):      0.382       rad         \n",
      "      lat_0                 (frozen):      0.767       rad         \n",
      "  \n",
      "  Component 1: SkyModel\n",
      "  \n",
      "    Name                      : 4FGL J1541.7+1413\n",
      "    Datasets names            : ['Fermi-LAT_FRONT', 'Fermi-LAT_BACK']\n",
      "    Spectral model type       : PowerLawSpectralModel\n",
      "    Spatial  model type       : PointSpatialModel\n",
      "    Temporal model type       : \n",
      "    Parameters:\n",
      "      index                 (frozen):      1.918                   \n",
      "      amplitude             (frozen):   9.20e-09       1 / (cm2 s TeV)\n",
      "      reference             (frozen):      0.005       TeV         \n",
      "      lon_0                 (frozen):      0.414       rad         \n",
      "      lat_0                 (frozen):      0.844       rad         \n",
      "  \n",
      "  Component 2: SkyModel\n",
      "  \n",
      "    Name                      : 4FGL J1546.0+0819\n",
      "    Datasets names            : ['Fermi-LAT_FRONT', 'Fermi-LAT_BACK']\n",
      "    Spectral model type       : LogParabolaSpectralModel\n",
      "    Spatial  model type       : PointSpatialModel\n",
      "    Temporal model type       : \n",
      "    Parameters:\n",
      "      amplitude                     :   6.73e-07   +/- 0.0e+00 1 / (cm2 s TeV)\n",
      "      reference             (frozen):      0.002       TeV         \n",
      "      alpha                         :      1.509   +/-    0.00             \n",
      "      beta                          :      1.000   +/-    0.00             \n",
      "      lon_0                 (frozen):      0.293       rad         \n",
      "      lat_0                 (frozen):      0.780       rad         \n",
      "  \n",
      "  Component 3: SkyModel\n",
      "  \n",
      "    Name                      : 4FGL J1548.3+1456\n",
      "    Datasets names            : ['Fermi-LAT_FRONT', 'Fermi-LAT_BACK']\n",
      "    Spectral model type       : LogParabolaSpectralModel\n",
      "    Spatial  model type       : PointSpatialModel\n",
      "    Temporal model type       : \n",
      "    Parameters:\n",
      "      amplitude                     :   1.34e-06   +/- 0.0e+00 1 / (cm2 s TeV)\n",
      "      reference             (frozen):      0.001       TeV         \n",
      "      alpha                         :      0.500   +/-    0.00             \n",
      "      beta                          :      0.425   +/-    0.00             \n",
      "      lon_0                 (frozen):      0.448       rad         \n",
      "      lat_0                 (frozen):      0.824       rad         \n",
      "  \n",
      "  Component 4: SkyModel\n",
      "  \n",
      "    Name                      : 4FGL J1550.7+0528\n",
      "    Datasets names            : ['Fermi-LAT_FRONT', 'Fermi-LAT_BACK']\n",
      "    Spectral model type       : LogParabolaSpectralModel\n",
      "    Spatial  model type       : PointSpatialModel\n",
      "    Temporal model type       : \n",
      "    Parameters:\n",
      "      amplitude                     :   8.82e-06   +/- 0.0e+00 1 / (cm2 s TeV)\n",
      "      reference             (frozen):      0.001       TeV         \n",
      "      alpha                 (frozen):      2.287                   \n",
      "      beta                  (frozen):      0.139                   \n",
      "      lon_0                 (frozen):      0.249       rad         \n",
      "      lat_0                 (frozen):      0.737       rad         \n",
      "  \n",
      "  Component 5: SkyModel\n",
      "  \n",
      "    Name                      : 4FGL J1603.8+1104\n",
      "    Datasets names            : ['Fermi-LAT_FRONT', 'Fermi-LAT_BACK']\n",
      "    Spectral model type       : PowerLawSpectralModel\n",
      "    Spatial  model type       : PointSpatialModel\n",
      "    Temporal model type       : \n",
      "    Parameters:\n",
      "      index                 (frozen):      2.117                   \n",
      "      amplitude             (frozen):   1.64e-08       1 / (cm2 s TeV)\n",
      "      reference             (frozen):      0.003       TeV         \n",
      "      lon_0                 (frozen):      0.401       rad         \n",
      "      lat_0                 (frozen):      0.735       rad         \n",
      "  \n",
      "  Component 6: SkyModel\n",
      "  \n",
      "    Name                      : 4FGL J1607.0+1550\n",
      "    Datasets names            : ['Fermi-LAT_FRONT', 'Fermi-LAT_BACK']\n",
      "    Spectral model type       : LogParabolaSpectralModel\n",
      "    Spatial  model type       : PointSpatialModel\n",
      "    Temporal model type       : \n",
      "    Parameters:\n",
      "      amplitude                     :   5.38e-06   +/- 0.0e+00 1 / (cm2 s TeV)\n",
      "      reference             (frozen):      0.001       TeV         \n",
      "      alpha                 (frozen):      2.146                   \n",
      "      beta                  (frozen):      0.108                   \n",
      "      lon_0                 (frozen):      0.512       rad         \n",
      "      lat_0                 (frozen):      0.758       rad         \n",
      "  \n",
      "  Component 7: SkyModel\n",
      "  \n",
      "    Name                      : 4FGL J1608.7+1029\n",
      "    Datasets names            : ['Fermi-LAT_FRONT', 'Fermi-LAT_BACK']\n",
      "    Spectral model type       : LogParabolaSpectralModel\n",
      "    Spatial  model type       : PointSpatialModel\n",
      "    Temporal model type       : \n",
      "    Parameters:\n",
      "      amplitude                     :   1.93e-05   +/- 0.0e+00 1 / (cm2 s TeV)\n",
      "      reference             (frozen):      0.001       TeV         \n",
      "      alpha                         :      2.592   +/-    0.00             \n",
      "      beta                          :      0.000   +/-    0.00             \n",
      "      lon_0                 (frozen):      0.402       rad         \n",
      "      lat_0                 (frozen):      0.712       rad         \n",
      "  \n",
      "  Component 8: SkyModel\n",
      "  \n",
      "    Name                      : 4FGL J1612.1+1407\n",
      "    Datasets names            : ['Fermi-LAT_FRONT', 'Fermi-LAT_BACK']\n",
      "    Spectral model type       : LogParabolaSpectralModel\n",
      "    Spatial  model type       : PointSpatialModel\n",
      "    Temporal model type       : \n",
      "    Parameters:\n",
      "      amplitude                     :   8.91e-07   +/- 0.0e+00 1 / (cm2 s TeV)\n",
      "      reference             (frozen):      0.002       TeV         \n",
      "      alpha                         :      2.070   +/-    0.00             \n",
      "      beta                          :      1.000   +/-    0.00             \n",
      "      lon_0                 (frozen):      0.486       rad         \n",
      "      lat_0                 (frozen):      0.726       rad         \n",
      "  \n",
      "  Component 9: SkyModel\n",
      "  \n",
      "    Name                      : diffuse-iem\n",
      "    Datasets names            : ['Fermi-LAT_FRONT', 'Fermi-LAT_BACK']\n",
      "    Spectral model type       : PowerLawNormSpectralModel\n",
      "    Spatial  model type       : TemplateSpatialModel\n",
      "    Temporal model type       : \n",
      "    Parameters:\n",
      "      norm                          :      1.000   +/-    0.00             \n",
      "      tilt                  (frozen):      0.000                   \n",
      "      reference             (frozen):      1.000       TeV         \n",
      "  \n",
      "  Component 10: SkyModel\n",
      "  \n",
      "    Name                      : fermi-diffuse-iso-BACK\n",
      "    Datasets names            : ['Fermi-LAT_BACK']\n",
      "    Spectral model type       : CompoundSpectralModel\n",
      "    Spatial  model type       : ConstantSpatialModel\n",
      "    Temporal model type       : \n",
      "    Parameters:\n",
      "      norm                  (frozen):      1.000                   \n",
      "      norm                          :      1.000   +/-    0.00             \n",
      "      tilt                  (frozen):      0.000                   \n",
      "      reference             (frozen):      1.000       TeV         \n",
      "      value                 (frozen):      1.000       1 / sr      \n",
      "  \n",
      "  \n",
      "SpectrumDatasetOnOff\n",
      "--------------------\n",
      "\n",
      "  Name                            : LST-1 \n",
      "\n",
      "  Total counts                    : 1653090 \n",
      "  Total background counts         : 1634543.00\n",
      "  Total excess counts             : 18547.00\n",
      "\n",
      "  Predicted counts                : 1652296.13\n",
      "  Predicted background counts     : 1635334.25\n",
      "  Predicted excess counts         : 16961.87\n",
      "\n",
      "  Exposure min                    : 5.34e+07 m2 s\n",
      "  Exposure max                    : 1.14e+10 m2 s\n",
      "\n",
      "  Number of total bins            : 15 \n",
      "  Number of fit bins              : 10 \n",
      "\n",
      "  Fit statistic type              : wstat\n",
      "  Fit statistic value (-2 log(L)) : 7.25\n",
      "\n",
      "  Number of models                : 1 \n",
      "  Number of parameters            : 8\n",
      "  Number of free parameters       : 3\n",
      "\n",
      "  Component 0: SkyModel\n",
      "  \n",
      "    Name                      : PG1553+113\n",
      "    Datasets names            : ['Fermi-LAT_FRONT', 'Fermi-LAT_BACK', 'LST-1']\n",
      "    Spectral model type       : CompoundSpectralModel\n",
      "    Spatial  model type       : PointSpatialModel\n",
      "    Temporal model type       : \n",
      "    Parameters:\n",
      "      amplitude                     :   1.00e-05   +/- 1.5e-06 1 / (cm2 s TeV)\n",
      "      reference             (frozen):      0.002       TeV         \n",
      "      alpha                         :      1.500   +/-    0.10             \n",
      "      beta                          :      0.100   +/-    0.01             \n",
      "      alpha_norm            (frozen):      1.000                   \n",
      "      redshift              (frozen):      0.433                   \n",
      "      lon_0                 (frozen):      0.382       rad         \n",
      "      lat_0                 (frozen):      0.767       rad         \n",
      "  \n",
      "    Total counts_off                : 1634543 \n",
      "  Acceptance                      : 15 \n",
      "  Acceptance off                  : 15 \n",
      "\n",
      "CPU times: user 34.7 s, sys: 27.4 s, total: 1min 2s\n",
      "Wall time: 1min 2s\n"
     ]
    }
   ],
   "source": [
    "%%time\n",
    "for d in analysis.datasets:\n",
    "    print(d)      "
   ]
  },
  {
   "cell_type": "code",
   "execution_count": null,
   "id": "3eb5ca23",
   "metadata": {},
   "outputs": [],
   "source": []
  },
  {
   "cell_type": "markdown",
   "id": "4068c597",
   "metadata": {},
   "source": [
    "# Run the Fit step"
   ]
  },
  {
   "cell_type": "code",
   "execution_count": 37,
   "id": "c84d1b90",
   "metadata": {},
   "outputs": [],
   "source": [
    "fit_check = Fit()"
   ]
  },
  {
   "cell_type": "code",
   "execution_count": 38,
   "id": "9a279e48",
   "metadata": {},
   "outputs": [
    {
     "name": "stdout",
     "output_type": "stream",
     "text": [
      "CPU times: user 6min 48s, sys: 15.1 s, total: 7min 3s\n",
      "Wall time: 7min 3s\n"
     ]
    }
   ],
   "source": [
    "%%time\n",
    "fit_result_full = fit_check.run(datasets=analysis.datasets)"
   ]
  },
  {
   "cell_type": "code",
   "execution_count": 39,
   "id": "81e1e6ec",
   "metadata": {},
   "outputs": [
    {
     "name": "stdout",
     "output_type": "stream",
     "text": [
      "OptimizeResult\n",
      "\n",
      "\tbackend    : minuit\n",
      "\tmethod     : migrad\n",
      "\tsuccess    : True\n",
      "\tmessage    : Optimization terminated successfully.\n",
      "\tnfev       : 1618\n",
      "\ttotal stat : 13589.51\n",
      "\n",
      "CovarianceResult\n",
      "\n",
      "\tbackend    : minuit\n",
      "\tmethod     : hesse\n",
      "\tsuccess    : True\n",
      "\tmessage    : Hesse terminated successfully.\n",
      "\n"
     ]
    }
   ],
   "source": [
    "print(fit_result_full)"
   ]
  },
  {
   "cell_type": "code",
   "execution_count": 40,
   "id": "680b4b72",
   "metadata": {},
   "outputs": [
    {
     "name": "stdout",
     "output_type": "stream",
     "text": [
      "['Fermi-LAT', 'LST-1']\n"
     ]
    }
   ],
   "source": [
    "instruments_names = []\n",
    "for ins in config_main.dataset3d.instruments:\n",
    "    instruments_names.append(ins.name)\n",
    "for ins in config_main.dataset1d.instruments:\n",
    "    instruments_names.append(ins.name)\n",
    "print(instruments_names)"
   ]
  },
  {
   "cell_type": "code",
   "execution_count": 41,
   "id": "0594b6a8",
   "metadata": {},
   "outputs": [
    {
     "name": "stdout",
     "output_type": "stream",
     "text": [
      "['Fermi-LAT_FRONT', 'Fermi-LAT_BACK', 'LST-1']\n"
     ]
    }
   ],
   "source": [
    "names = analysis.datasets.names\n",
    "print(names)"
   ]
  },
  {
   "cell_type": "code",
   "execution_count": 42,
   "id": "fe182094",
   "metadata": {},
   "outputs": [
    {
     "name": "stdout",
     "output_type": "stream",
     "text": [
      "Fermi-LAT\n",
      "['Fermi-LAT_FRONT', 'Fermi-LAT_BACK']\n",
      "LST-1\n",
      "['LST-1']\n"
     ]
    }
   ],
   "source": [
    "for n in instruments_names:\n",
    "    print(n)\n",
    "    dataset_list = [nn for nn in names if n in nn]\n",
    "    print(dataset_list)"
   ]
  },
  {
   "cell_type": "code",
   "execution_count": 43,
   "id": "83c181cd",
   "metadata": {},
   "outputs": [
    {
     "name": "stdout",
     "output_type": "stream",
     "text": [
      "Datasets\n",
      "--------\n",
      "\n",
      "Dataset 0: \n",
      "\n",
      "  Type       : MapDataset\n",
      "  Name       : Fermi-LAT_FRONT\n",
      "  Instrument : \n",
      "  Models     : ['PG1553+113', '4FGL J1541.7+1413', '4FGL J1546.0+0819', '4FGL J1548.3+1456', '4FGL J1550.7+0528', '4FGL J1603.8+1104', '4FGL J1607.0+1550', '4FGL J1608.7+1029', '4FGL J1612.1+1407', 'diffuse-iem', 'fermi-diffuse-iso-FRONT']\n",
      "\n",
      "Dataset 1: \n",
      "\n",
      "  Type       : MapDataset\n",
      "  Name       : Fermi-LAT_BACK\n",
      "  Instrument : \n",
      "  Models     : ['PG1553+113', '4FGL J1541.7+1413', '4FGL J1546.0+0819', '4FGL J1548.3+1456', '4FGL J1550.7+0528', '4FGL J1603.8+1104', '4FGL J1607.0+1550', '4FGL J1608.7+1029', '4FGL J1612.1+1407', 'diffuse-iem', 'fermi-diffuse-iso-BACK']\n",
      "\n",
      "\n"
     ]
    }
   ],
   "source": [
    "fermi_dataset = Datasets(analysis.datasets[:2])\n",
    "print(fermi_dataset)"
   ]
  },
  {
   "cell_type": "code",
   "execution_count": null,
   "id": "8a2d46f3",
   "metadata": {},
   "outputs": [],
   "source": []
  },
  {
   "cell_type": "markdown",
   "id": "a034c627",
   "metadata": {},
   "source": [
    "# Run the Flux Points Estimator step"
   ]
  },
  {
   "cell_type": "code",
   "execution_count": 44,
   "id": "415beecd",
   "metadata": {},
   "outputs": [],
   "source": [
    "fpe_fermi = FluxPointsEstimator(\n",
    "    energy_edges=analysis.spectral_energy_ranges[0],\n",
    "    source=config_main.target.source_name,\n",
    "    **config_main.flux_points_params.parameters\n",
    ")"
   ]
  },
  {
   "cell_type": "code",
   "execution_count": 45,
   "id": "a4392a64",
   "metadata": {},
   "outputs": [
    {
     "name": "stdout",
     "output_type": "stream",
     "text": [
      "CPU times: user 5min 52s, sys: 3min 20s, total: 9min 12s\n",
      "Wall time: 9min 12s\n"
     ]
    }
   ],
   "source": [
    "%%time\n",
    "fermi_fp = fpe_fermi.run(datasets=fermi_dataset)"
   ]
  },
  {
   "cell_type": "code",
   "execution_count": 46,
   "id": "1a26ce56",
   "metadata": {},
   "outputs": [
    {
     "name": "stdout",
     "output_type": "stream",
     "text": [
      "FluxPoints\n",
      "----------\n",
      "\n",
      "  geom                   : RegionGeom\n",
      "  axes                   : ['lon', 'lat', 'energy']\n",
      "  shape                  : (1, 1, 8)\n",
      "  quantities             : ['norm', 'norm_err', 'norm_errn', 'norm_errp', 'norm_ul', 'ts', 'npred', 'npred_excess', 'stat', 'counts', 'success', 'stat_scan']\n",
      "  ref. model             : compound\n",
      "  n_sigma                : 1\n",
      "  n_sigma_ul             : 2\n",
      "  sqrt_ts_threshold_ul   : 2\n",
      "  sed type init          : likelihood\n",
      "\n"
     ]
    }
   ],
   "source": [
    "print(fermi_fp)"
   ]
  },
  {
   "cell_type": "code",
   "execution_count": 47,
   "id": "c583f0d2",
   "metadata": {
    "scrolled": true
   },
   "outputs": [
    {
     "data": {
      "text/html": [
       "<div><i>Table length=8</i>\n",
       "<table id=\"table139948210999504\" class=\"table-striped table-bordered table-condensed\">\n",
       "<thead><tr><th>e_ref</th><th>e_min</th><th>e_max</th><th>e2dnde</th><th>e2dnde_err</th><th>e2dnde_errp</th><th>e2dnde_errn</th><th>e2dnde_ul</th><th>ts</th><th>sqrt_ts</th><th>npred</th><th>npred_excess</th><th>stat</th><th>is_ul</th><th>counts</th><th>success</th><th>norm_scan</th><th>stat_scan</th></tr></thead>\n",
       "<thead><tr><th>MeV</th><th>MeV</th><th>MeV</th><th>MeV2 / (cm2 s TeV)</th><th>MeV2 / (cm2 s TeV)</th><th>MeV2 / (cm2 s TeV)</th><th>MeV2 / (cm2 s TeV)</th><th>MeV2 / (cm2 s TeV)</th><th></th><th></th><th></th><th></th><th></th><th></th><th></th><th></th><th></th><th></th></tr></thead>\n",
       "<thead><tr><th>float64</th><th>float64</th><th>float64</th><th>float64</th><th>float64</th><th>float64</th><th>float64</th><th>float64</th><th>float64</th><th>float64</th><th>float64[2]</th><th>float32[2]</th><th>float64</th><th>bool</th><th>float64[2]</th><th>bool</th><th>float64[11]</th><th>float64[11]</th></tr></thead>\n",
       "<tr><td>212.793</td><td>150.356</td><td>301.159</td><td>3.096e-08</td><td>1.990e-05</td><td>1.276e+00</td><td>nan</td><td>4.550e+00</td><td>-0.000</td><td>0.000</td><td>214.71308875590267 .. 192.3209576764188</td><td>3.1178555e-08 .. 2.8786625e-08</td><td>5457.789</td><td>True</td><td>225.0 .. 192.0</td><td>True</td><td>0.200 .. 5.000</td><td>5458.177 .. 5471.420</td></tr>\n",
       "<tr><td>537.267</td><td>301.159</td><td>958.485</td><td>1.022e+01</td><td>3.553e+00</td><td>3.813e+00</td><td>3.290e+00</td><td>1.836e+01</td><td>18.277</td><td>4.275</td><td>196.6649605275738 .. 193.2473238052555</td><td>9.817992 .. 9.80448</td><td>5271.123</td><td>False</td><td>186.0 .. 183.0</td><td>True</td><td>0.200 .. 5.000</td><td>5281.695 .. 5301.572</td></tr>\n",
       "<tr><td>1709.938</td><td>958.485</td><td>3050.531</td><td>2.348e+01</td><td>6.142e+00</td><td>6.631e+00</td><td>5.668e+00</td><td>3.775e+01</td><td>73.126</td><td>8.551</td><td>59.70558795424165 .. 63.97069322069821</td><td>8.766532 .. 9.121659</td><td>2105.077</td><td>False</td><td>73.0 .. 63.0</td><td>True</td><td>0.200 .. 5.000</td><td>2128.229 .. 2164.693</td></tr>\n",
       "<tr><td>5442.150</td><td>3050.531</td><td>9708.801</td><td>2.968e+01</td><td>1.139e+01</td><td>1.286e+01</td><td>1.001e+01</td><td>5.849e+01</td><td>59.867</td><td>7.737</td><td>16.056854940940912 .. 16.33893995674057</td><td>3.5554254 .. 3.6271918</td><td>602.211</td><td>False</td><td>19.0 .. 17.0</td><td>True</td><td>0.200 .. 5.000</td><td>610.442 .. 651.077</td></tr>\n",
       "<tr><td>17320.508</td><td>9708.801</td><td>30899.800</td><td>1.276e+01</td><td>1.277e+01</td><td>1.734e+01</td><td>8.917e+00</td><td>5.752e+01</td><td>11.772</td><td>3.431</td><td>3.690291723141092 .. 3.2605566644856063</td><td>0.5117364 .. 0.4910113</td><td>77.184</td><td>False</td><td>3.0 .. 1.0</td><td>True</td><td>0.200 .. 5.000</td><td>77.261 .. 106.640</td></tr>\n",
       "<tr><td>55125.267</td><td>30899.800</td><td>98343.520</td><td>3.627e+01</td><td>3.691e+01</td><td>5.016e+01</td><td>2.580e+01</td><td>1.658e+02</td><td>6.180</td><td>2.486</td><td>1.2463419714739365 .. 0.945482840405175</td><td>0.50703174 .. 0.47475967</td><td>63.606</td><td>False</td><td>1.0 .. 2.0</td><td>True</td><td>0.200 .. 5.000</td><td>65.014 .. 68.886</td></tr>\n",
       "<tr><td>175444.922</td><td>98343.520</td><td>312993.888</td><td>1.696e-05</td><td>5.806e-02</td><td>5.020e+01</td><td>nan</td><td>2.008e+02</td><td>-0.000</td><td>0.000</td><td>0.1700174810333476 .. 0.05973927826470722</td><td>8.978955e-08 .. 7.910755e-08</td><td>0.460</td><td>True</td><td>0.0 .. 0.0</td><td>True</td><td>0.200 .. 5.000</td><td>0.514 .. 1.828</td></tr>\n",
       "<tr><td>558381.346</td><td>312993.888</td><td>996152.768</td><td>3.428e-07</td><td>8.815e-03</td><td>5.723e+01</td><td>nan</td><td>2.289e+02</td><td>-0.000</td><td>0.000</td><td>0.05192125142578285 .. 0.014480622985487962</td><td>1.6469521e-09 .. 1.3481619e-09</td><td>0.133</td><td>True</td><td>0.0 .. 0.0</td><td>True</td><td>0.200 .. 5.000</td><td>0.134 .. 0.157</td></tr>\n",
       "</table></div>"
      ],
      "text/plain": [
       "<Table length=8>\n",
       "  e_ref      e_min      e_max          e2dnde           e2dnde_err        e2dnde_errp        e2dnde_errn     ...   stat   is_ul     counts     success   norm_scan         stat_scan      \n",
       "   MeV        MeV        MeV     MeV2 / (cm2 s TeV) MeV2 / (cm2 s TeV) MeV2 / (cm2 s TeV) MeV2 / (cm2 s TeV) ...                                                                          \n",
       " float64    float64    float64        float64            float64            float64            float64       ... float64   bool   float64[2]     bool   float64[11]       float64[11]     \n",
       "---------- ---------- ---------- ------------------ ------------------ ------------------ ------------------ ... -------- ----- -------------- ------- -------------- --------------------\n",
       "   212.793    150.356    301.159          3.096e-08          1.990e-05          1.276e+00                nan ... 5457.789  True 225.0 .. 192.0    True 0.200 .. 5.000 5458.177 .. 5471.420\n",
       "   537.267    301.159    958.485          1.022e+01          3.553e+00          3.813e+00          3.290e+00 ... 5271.123 False 186.0 .. 183.0    True 0.200 .. 5.000 5281.695 .. 5301.572\n",
       "  1709.938    958.485   3050.531          2.348e+01          6.142e+00          6.631e+00          5.668e+00 ... 2105.077 False   73.0 .. 63.0    True 0.200 .. 5.000 2128.229 .. 2164.693\n",
       "  5442.150   3050.531   9708.801          2.968e+01          1.139e+01          1.286e+01          1.001e+01 ...  602.211 False   19.0 .. 17.0    True 0.200 .. 5.000   610.442 .. 651.077\n",
       " 17320.508   9708.801  30899.800          1.276e+01          1.277e+01          1.734e+01          8.917e+00 ...   77.184 False     3.0 .. 1.0    True 0.200 .. 5.000    77.261 .. 106.640\n",
       " 55125.267  30899.800  98343.520          3.627e+01          3.691e+01          5.016e+01          2.580e+01 ...   63.606 False     1.0 .. 2.0    True 0.200 .. 5.000     65.014 .. 68.886\n",
       "175444.922  98343.520 312993.888          1.696e-05          5.806e-02          5.020e+01                nan ...    0.460  True     0.0 .. 0.0    True 0.200 .. 5.000       0.514 .. 1.828\n",
       "558381.346 312993.888 996152.768          3.428e-07          8.815e-03          5.723e+01                nan ...    0.133  True     0.0 .. 0.0    True 0.200 .. 5.000       0.134 .. 0.157"
      ]
     },
     "execution_count": 47,
     "metadata": {},
     "output_type": "execute_result"
    }
   ],
   "source": [
    "fermi_fpt = fermi_fp.to_table(sed_type=\"e2dnde\", formatted=True)\n",
    "fermi_fpt"
   ]
  },
  {
   "cell_type": "code",
   "execution_count": 48,
   "id": "728035db",
   "metadata": {},
   "outputs": [
    {
     "data": {
      "text/plain": [
       "(1e-15, 1e-08)"
      ]
     },
     "execution_count": 48,
     "metadata": {},
     "output_type": "execute_result"
    },
    {
     "data": {
      "image/png": "[encoded data removed]",
      "text/plain": [
       "<Figure size 640x480 with 1 Axes>"
      ]
     },
     "metadata": {},
     "output_type": "display_data"
    }
   ],
   "source": [
    "fermi_fp.plot(sed_type=\"e2dnde\", color=\"red\", label=\"Fermi-LAT\")\n",
    "analysis.datasets[0].models[config_main.target.source_name].spectral_model.plot(\n",
    "    sed_type=\"e2dnde\", energy_bounds=[70 * u.MeV,10 * u.TeV]\n",
    ")\n",
    "analysis.datasets[0].models[config_main.target.source_name].spectral_model.plot_error(\n",
    "    sed_type=\"e2dnde\", energy_bounds=[70 * u.MeV,10 * u.TeV]\n",
    ")\n",
    "\n",
    "plt.grid(which=\"both\")\n",
    "plt.legend()\n",
    "plt.xlim(70, 2e6)\n",
    "plt.ylim(1e-15, 1e-8)"
   ]
  },
  {
   "cell_type": "code",
   "execution_count": null,
   "id": "78b08352",
   "metadata": {},
   "outputs": [],
   "source": []
  },
  {
   "cell_type": "code",
   "execution_count": 49,
   "id": "72e9ae82",
   "metadata": {},
   "outputs": [],
   "source": [
    "fpe_lst = FluxPointsEstimator(\n",
    "    energy_edges=analysis.spectral_energy_ranges[-1],\n",
    "    source=config_main.target.source_name,\n",
    "    **config_main.flux_points_params.parameters\n",
    ")"
   ]
  },
  {
   "cell_type": "code",
   "execution_count": 50,
   "id": "58f00b85",
   "metadata": {},
   "outputs": [
    {
     "name": "stdout",
     "output_type": "stream",
     "text": [
      "CPU times: user 11.1 s, sys: 121 ms, total: 11.3 s\n",
      "Wall time: 11.3 s\n"
     ]
    }
   ],
   "source": [
    "%%time\n",
    "lst_fp = fpe_lst.run(datasets=[analysis.datasets[-1]])"
   ]
  },
  {
   "cell_type": "code",
   "execution_count": 51,
   "id": "9938c6ee",
   "metadata": {},
   "outputs": [
    {
     "name": "stdout",
     "output_type": "stream",
     "text": [
      "FluxPoints\n",
      "----------\n",
      "\n",
      "  geom                   : RegionGeom\n",
      "  axes                   : ['lon', 'lat', 'energy']\n",
      "  shape                  : (1, 1, 15)\n",
      "  quantities             : ['norm', 'norm_err', 'norm_errn', 'norm_errp', 'norm_ul', 'ts', 'npred', 'npred_excess', 'stat', 'counts', 'success', 'stat_scan']\n",
      "  ref. model             : compound\n",
      "  n_sigma                : 1\n",
      "  n_sigma_ul             : 2\n",
      "  sqrt_ts_threshold_ul   : 2\n",
      "  sed type init          : likelihood\n",
      "\n"
     ]
    }
   ],
   "source": [
    "print(lst_fp)"
   ]
  },
  {
   "cell_type": "code",
   "execution_count": 52,
   "id": "b41dab1e",
   "metadata": {
    "scrolled": true
   },
   "outputs": [
    {
     "data": {
      "text/html": [
       "<div><i>Table length=15</i>\n",
       "<table id=\"table139948042867088\" class=\"table-striped table-bordered table-condensed\">\n",
       "<thead><tr><th>e_ref</th><th>e_min</th><th>e_max</th><th>e2dnde</th><th>e2dnde_err</th><th>e2dnde_errp</th><th>e2dnde_errn</th><th>e2dnde_ul</th><th>ts</th><th>sqrt_ts</th><th>npred</th><th>npred_excess</th><th>stat</th><th>is_ul</th><th>counts</th><th>success</th><th>norm_scan</th><th>stat_scan</th></tr></thead>\n",
       "<thead><tr><th>TeV</th><th>TeV</th><th>TeV</th><th>TeV / (cm2 s)</th><th>TeV / (cm2 s)</th><th>TeV / (cm2 s)</th><th>TeV / (cm2 s)</th><th>TeV / (cm2 s)</th><th></th><th></th><th></th><th></th><th></th><th></th><th></th><th></th><th></th><th></th></tr></thead>\n",
       "<thead><tr><th>float64</th><th>float64</th><th>float64</th><th>float64</th><th>float64</th><th>float64</th><th>float64</th><th>float64</th><th>float64</th><th>float64</th><th>float64[1]</th><th>float32[1]</th><th>float64</th><th>bool</th><th>float64[1]</th><th>bool</th><th>float64[11]</th><th>float64[11]</th></tr></thead>\n",
       "<tr><td>0.013</td><td>0.010</td><td>0.016</td><td>1.498e-11</td><td>1.498e-11</td><td>2.033e-11</td><td>1.208e-11</td><td>6.747e-11</td><td>1.386</td><td>1.177</td><td>0.9999548368256475</td><td>0.9999548</td><td>0.000</td><td>True</td><td>1.0</td><td>True</td><td>0.200 .. 5.000</td><td>0.195 .. 23.544</td></tr>\n",
       "<tr><td>0.020</td><td>0.016</td><td>0.025</td><td>2.488e-11</td><td>3.697e-11</td><td>3.707e-11</td><td>nan</td><td>9.872e-11</td><td>0.439</td><td>0.663</td><td>39037.16305069008</td><td>187.32053</td><td>0.000</td><td>True</td><td>39036.0</td><td>True</td><td>0.200 .. 5.000</td><td>0.164 .. 33.301</td></tr>\n",
       "<tr><td>0.032</td><td>0.025</td><td>0.040</td><td>3.961e-11</td><td>1.893e-11</td><td>1.883e-11</td><td>1.883e-11</td><td>7.728e-11</td><td>4.423</td><td>2.103</td><td>494893.01243605657</td><td>2090.025</td><td>0.000</td><td>False</td><td>494893.0</td><td>True</td><td>0.200 .. 5.000</td><td>2.611 .. 101.531</td></tr>\n",
       "<tr><td>0.050</td><td>0.040</td><td>0.063</td><td>3.982e-11</td><td>9.024e-12</td><td>9.005e-12</td><td>9.005e-12</td><td>5.782e-11</td><td>19.544</td><td>4.421</td><td>569182.6705481377</td><td>4708.3354</td><td>0.000</td><td>False</td><td>569182.0</td><td>True</td><td>0.200 .. 5.000</td><td>12.385 .. 328.265</td></tr>\n",
       "<tr><td>0.079</td><td>0.063</td><td>0.100</td><td>3.916e-11</td><td>6.084e-12</td><td>6.065e-12</td><td>6.065e-12</td><td>5.129e-11</td><td>41.696</td><td>6.457</td><td>363382.018158847</td><td>5484.036</td><td>0.000</td><td>False</td><td>363382.0</td><td>True</td><td>0.200 .. 5.000</td><td>29.028 .. 411.072</td></tr>\n",
       "<tr><td>0.126</td><td>0.100</td><td>0.158</td><td>2.385e-11</td><td>3.431e-12</td><td>3.430e-12</td><td>3.430e-12</td><td>3.071e-11</td><td>48.342</td><td>6.953</td><td>139167.0097672276</td><td>3644.0193</td><td>0.000</td><td>False</td><td>139167.0</td><td>True</td><td>0.200 .. 5.000</td><td>32.123 .. 632.839</td></tr>\n",
       "<tr><td>0.200</td><td>0.158</td><td>0.251</td><td>1.049e-11</td><td>1.567e-12</td><td>1.567e-12</td><td>1.566e-12</td><td>1.362e-11</td><td>44.802</td><td>6.693</td><td>36053.35579329948</td><td>1775.6941</td><td>0.000</td><td>False</td><td>36053.0</td><td>True</td><td>0.200 .. 5.000</td><td>28.341 .. 753.795</td></tr>\n",
       "<tr><td>0.316</td><td>0.251</td><td>0.398</td><td>3.032e-12</td><td>6.376e-13</td><td>6.377e-13</td><td>6.375e-13</td><td>4.307e-12</td><td>22.617</td><td>4.756</td><td>8369.00002787598</td><td>604.00006</td><td>0.000</td><td>False</td><td>8369.0</td><td>True</td><td>0.200 .. 5.000</td><td>14.473 .. 356.890</td></tr>\n",
       "<tr><td>0.501</td><td>0.398</td><td>0.631</td><td>1.550e-13</td><td>2.649e-13</td><td>2.652e-13</td><td>nan</td><td>6.850e-13</td><td>0.340</td><td>0.583</td><td>2258.059322864724</td><td>39.11762</td><td>0.000</td><td>True</td><td>2258.0</td><td>True</td><td>0.200 .. 5.000</td><td>0.055 .. 65.330</td></tr>\n",
       "<tr><td>0.794</td><td>0.631</td><td>1.000</td><td>6.955e-14</td><td>1.470e-13</td><td>1.474e-13</td><td>nan</td><td>3.639e-13</td><td>0.219</td><td>0.468</td><td>749.0798264631745</td><td>18.157719</td><td>0.000</td><td>True</td><td>749.0</td><td>True</td><td>0.200 .. 5.000</td><td>0.158 .. 1.662</td></tr>\n",
       "<tr><td>1.259</td><td>1.000</td><td>1.585</td><td>nan</td><td>nan</td><td>nan</td><td>nan</td><td>nan</td><td>nan</td><td>nan</td><td>nan</td><td>0.0</td><td>0.000</td><td>False</td><td>0.0</td><td>False</td><td>0.200 .. 5.000</td><td>nan .. nan</td></tr>\n",
       "<tr><td>1.995</td><td>1.585</td><td>2.512</td><td>nan</td><td>nan</td><td>nan</td><td>nan</td><td>nan</td><td>nan</td><td>nan</td><td>nan</td><td>0.0</td><td>0.000</td><td>False</td><td>0.0</td><td>False</td><td>0.200 .. 5.000</td><td>nan .. nan</td></tr>\n",
       "<tr><td>3.162</td><td>2.512</td><td>3.981</td><td>nan</td><td>nan</td><td>nan</td><td>nan</td><td>nan</td><td>nan</td><td>nan</td><td>nan</td><td>0.0</td><td>0.000</td><td>False</td><td>0.0</td><td>False</td><td>0.200 .. 5.000</td><td>nan .. nan</td></tr>\n",
       "<tr><td>5.012</td><td>3.981</td><td>6.310</td><td>nan</td><td>nan</td><td>nan</td><td>nan</td><td>nan</td><td>nan</td><td>nan</td><td>nan</td><td>0.0</td><td>0.000</td><td>False</td><td>0.0</td><td>False</td><td>0.200 .. 5.000</td><td>nan .. nan</td></tr>\n",
       "<tr><td>7.943</td><td>6.310</td><td>10.000</td><td>nan</td><td>nan</td><td>nan</td><td>nan</td><td>nan</td><td>nan</td><td>nan</td><td>nan</td><td>0.0</td><td>0.000</td><td>False</td><td>0.0</td><td>False</td><td>0.200 .. 5.000</td><td>nan .. nan</td></tr>\n",
       "</table></div>"
      ],
      "text/plain": [
       "<Table length=15>\n",
       " e_ref   e_min   e_max      e2dnde      e2dnde_err   e2dnde_errp   e2dnde_errn    e2dnde_ul   ...       npred        npred_excess   stat  is_ul   counts   success   norm_scan        stat_scan    \n",
       "  TeV     TeV     TeV   TeV / (cm2 s) TeV / (cm2 s) TeV / (cm2 s) TeV / (cm2 s) TeV / (cm2 s) ...                                                                                                  \n",
       "float64 float64 float64    float64       float64       float64       float64       float64    ...     float64[1]      float32[1]  float64  bool float64[1]   bool   float64[11]      float64[11]   \n",
       "------- ------- ------- ------------- ------------- ------------- ------------- ------------- ... ------------------ ------------ ------- ----- ---------- ------- -------------- -----------------\n",
       "  0.013   0.010   0.016     1.498e-11     1.498e-11     2.033e-11     1.208e-11     6.747e-11 ... 0.9999548368256475    0.9999548   0.000  True        1.0    True 0.200 .. 5.000   0.195 .. 23.544\n",
       "  0.020   0.016   0.025     2.488e-11     3.697e-11     3.707e-11           nan     9.872e-11 ...  39037.16305069008    187.32053   0.000  True    39036.0    True 0.200 .. 5.000   0.164 .. 33.301\n",
       "  0.032   0.025   0.040     3.961e-11     1.893e-11     1.883e-11     1.883e-11     7.728e-11 ... 494893.01243605657     2090.025   0.000 False   494893.0    True 0.200 .. 5.000  2.611 .. 101.531\n",
       "  0.050   0.040   0.063     3.982e-11     9.024e-12     9.005e-12     9.005e-12     5.782e-11 ...  569182.6705481377    4708.3354   0.000 False   569182.0    True 0.200 .. 5.000 12.385 .. 328.265\n",
       "  0.079   0.063   0.100     3.916e-11     6.084e-12     6.065e-12     6.065e-12     5.129e-11 ...   363382.018158847     5484.036   0.000 False   363382.0    True 0.200 .. 5.000 29.028 .. 411.072\n",
       "  0.126   0.100   0.158     2.385e-11     3.431e-12     3.430e-12     3.430e-12     3.071e-11 ...  139167.0097672276    3644.0193   0.000 False   139167.0    True 0.200 .. 5.000 32.123 .. 632.839\n",
       "  0.200   0.158   0.251     1.049e-11     1.567e-12     1.567e-12     1.566e-12     1.362e-11 ...  36053.35579329948    1775.6941   0.000 False    36053.0    True 0.200 .. 5.000 28.341 .. 753.795\n",
       "  0.316   0.251   0.398     3.032e-12     6.376e-13     6.377e-13     6.375e-13     4.307e-12 ...   8369.00002787598    604.00006   0.000 False     8369.0    True 0.200 .. 5.000 14.473 .. 356.890\n",
       "  0.501   0.398   0.631     1.550e-13     2.649e-13     2.652e-13           nan     6.850e-13 ...  2258.059322864724     39.11762   0.000  True     2258.0    True 0.200 .. 5.000   0.055 .. 65.330\n",
       "  0.794   0.631   1.000     6.955e-14     1.470e-13     1.474e-13           nan     3.639e-13 ...  749.0798264631745    18.157719   0.000  True      749.0    True 0.200 .. 5.000    0.158 .. 1.662\n",
       "  1.259   1.000   1.585           nan           nan           nan           nan           nan ...                nan          0.0   0.000 False        0.0   False 0.200 .. 5.000        nan .. nan\n",
       "  1.995   1.585   2.512           nan           nan           nan           nan           nan ...                nan          0.0   0.000 False        0.0   False 0.200 .. 5.000        nan .. nan\n",
       "  3.162   2.512   3.981           nan           nan           nan           nan           nan ...                nan          0.0   0.000 False        0.0   False 0.200 .. 5.000        nan .. nan\n",
       "  5.012   3.981   6.310           nan           nan           nan           nan           nan ...                nan          0.0   0.000 False        0.0   False 0.200 .. 5.000        nan .. nan\n",
       "  7.943   6.310  10.000           nan           nan           nan           nan           nan ...                nan          0.0   0.000 False        0.0   False 0.200 .. 5.000        nan .. nan"
      ]
     },
     "execution_count": 52,
     "metadata": {},
     "output_type": "execute_result"
    }
   ],
   "source": [
    "lst_fpt = lst_fp.to_table(sed_type=\"e2dnde\", formatted=True)\n",
    "lst_fpt"
   ]
  },
  {
   "cell_type": "code",
   "execution_count": 53,
   "id": "d0026990",
   "metadata": {},
   "outputs": [
    {
     "data": {
      "text/plain": [
       "(1e-15, 1e-08)"
      ]
     },
     "execution_count": 53,
     "metadata": {},
     "output_type": "execute_result"
    },
    {
     "data": {
      "image/png": "[encoded data removed]",
      "text/plain": [
       "<Figure size 640x480 with 1 Axes>"
      ]
     },
     "metadata": {},
     "output_type": "display_data"
    }
   ],
   "source": [
    "lst_fp.plot(sed_type=\"e2dnde\", color=\"red\", label=\"LST-1\")\n",
    "analysis.datasets[-1].models[0].spectral_model.plot(\n",
    "    sed_type=\"e2dnde\", energy_bounds=[10 * u.GeV, 10 * u.TeV]\n",
    ")\n",
    "analysis.datasets[-1].models[0].spectral_model.plot_error(\n",
    "    sed_type=\"e2dnde\", energy_bounds=[10 * u.GeV, 10 * u.TeV]\n",
    ")\n",
    "\n",
    "plt.grid(which=\"both\")\n",
    "plt.legend()\n",
    "plt.xlim(0.007, 10)\n",
    "plt.ylim(1e-15, 1e-8)"
   ]
  },
  {
   "cell_type": "code",
   "execution_count": null,
   "id": "3be276f3",
   "metadata": {},
   "outputs": [],
   "source": []
  },
  {
   "cell_type": "markdown",
   "id": "a89a6cc6",
   "metadata": {},
   "source": [
    "# Final SED plot with all instruments"
   ]
  },
  {
   "cell_type": "code",
   "execution_count": 54,
   "id": "4dff7b70",
   "metadata": {},
   "outputs": [
    {
     "data": {
      "text/plain": [
       "(1e-15, 1e-08)"
      ]
     },
     "execution_count": 54,
     "metadata": {},
     "output_type": "execute_result"
    },
    {
     "data": {
      "image/png": "[encoded data removed]",
      "text/plain": [
       "<Figure size 640x480 with 1 Axes>"
      ]
     },
     "metadata": {},
     "output_type": "display_data"
    }
   ],
   "source": [
    "fermi_fp.plot(sed_type=\"e2dnde\", color=\"red\", label=\"Fermi-LAT\")\n",
    "lst_fp.plot(sed_type=\"e2dnde\", color=\"green\", label=\"LST-1\")\n",
    "\n",
    "analysis.datasets[-1].models[0].spectral_model.plot(\n",
    "    sed_type=\"e2dnde\", energy_bounds=[70 * u.MeV, 10 * u.TeV]\n",
    ")\n",
    "analysis.datasets[-1].models[0].spectral_model.plot_error(\n",
    "    sed_type=\"e2dnde\", energy_bounds=[70 * u.MeV, 10 * u.TeV]\n",
    ")\n",
    "\n",
    "plt.grid(which=\"both\")\n",
    "plt.legend()\n",
    "plt.xlim(70, 1e7)\n",
    "plt.ylim(1e-15, 1e-8)"
   ]
  },
  {
   "cell_type": "code",
   "execution_count": null,
   "id": "99ecfff8",
   "metadata": {},
   "outputs": [],
   "source": []
  }
 ],
 "metadata": {
  "kernelspec": {
   "display_name": "gammapy-dev",
   "language": "python",
   "name": "gammapy-dev"
  },
  "language_info": {
   "codemirror_mode": {
    "name": "ipython",
    "version": 3
   },
   "file_extension": ".py",
   "mimetype": "text/x-python",
   "name": "python",
   "nbconvert_exporter": "python",
   "pygments_lexer": "ipython3",
   "version": "3.8.13"
  }
 },
 "nbformat": 4,
 "nbformat_minor": 5
}
