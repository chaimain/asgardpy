{
 "cells": [
  {
   "cell_type": "code",
   "execution_count": 1,
   "id": "4a75596a",
   "metadata": {},
   "outputs": [],
   "source": [
    "import os\n",
    "import numpy as np\n",
    "import logging\n",
    "\n",
    "from asgardpy.analysis import AsgardpyAnalysis\n",
    "from asgardpy.config import AsgardpyConfig\n",
    "from asgardpy.stats import (\n",
    "    check_model_preference_aic,\n",
    "    fetch_all_analysis_fit_info,\n",
    "    get_model_config_files,\n",
    "    tabulate_best_fit_stats,\n",
    "    copy_target_config,\n",
    ")"
   ]
  },
  {
   "cell_type": "code",
   "execution_count": null,
   "id": "dfd46a80",
   "metadata": {},
   "outputs": [],
   "source": [
    "# os.environ['GAMMAPY_DATA']"
   ]
  },
  {
   "cell_type": "code",
   "execution_count": 2,
   "id": "fd1b0088-8110-4da4-9bcb-e377258c0239",
   "metadata": {},
   "outputs": [],
   "source": [
    "log = logging.getLogger(\"Check Preferred Spectral Model\")"
   ]
  },
  {
   "cell_type": "code",
   "execution_count": 3,
   "id": "a710e423-394b-4bd9-83d9-3c4d74e1f89c",
   "metadata": {},
   "outputs": [],
   "source": [
    "config_file = \"../src/asgardpy/tests/config_test_gadf.yaml\""
   ]
  },
  {
   "cell_type": "code",
   "execution_count": null,
   "id": "a425afc5",
   "metadata": {},
   "outputs": [],
   "source": []
  },
  {
   "cell_type": "markdown",
   "id": "11ff3b02",
   "metadata": {},
   "source": [
    "# Initiate the main \"base\" config"
   ]
  },
  {
   "cell_type": "code",
   "execution_count": 4,
   "id": "d201bc75-7072-405e-a757-92b9b58ab597",
   "metadata": {},
   "outputs": [],
   "source": [
    "main_config = AsgardpyConfig.read(config_file)\n",
    "target_source_name = main_config.target.source_name"
   ]
  },
  {
   "cell_type": "code",
   "execution_count": 5,
   "id": "2d58e268-507d-4150-a274-115bc8b68c05",
   "metadata": {},
   "outputs": [],
   "source": [
    "spec_model_temp_files = get_model_config_files([\"lp\", \"bpl\", \"ecpl\", \"ecpl2\", \"pl\", \"eclp\", \"sbpl\", \"secpl\"])"
   ]
  },
  {
   "cell_type": "code",
   "execution_count": 6,
   "id": "ef5f3cfe-0a64-4491-bbde-089816a0a47c",
   "metadata": {},
   "outputs": [],
   "source": [
    "main_config.dataset3d.instruments[0].input_dl3[0].input_dir = f\"{os.environ['GAMMAPY_DATA']}hess-dl3-dr1/\"\n",
    "main_config.dataset3d.instruments[0].dataset_info.background.exclusion.exclusion_file = (\n",
    "    f\"{os.environ['GAMMAPY_DATA']}joint-crab/exclusion/exclusion_mask_crab.fits.gz\"\n",
    ")\n",
    "main_config.dataset1d.instruments[0].input_dl3[0].input_dir = f\"{os.environ['GAMMAPY_DATA']}magic/rad_max/data/\""
   ]
  },
  {
   "cell_type": "code",
   "execution_count": null,
   "id": "48621e55-cc03-472f-9f66-70925de988ed",
   "metadata": {},
   "outputs": [],
   "source": []
  },
  {
   "cell_type": "code",
   "execution_count": 7,
   "id": "7b113f70-0f49-4986-aa52-02c3a9a2727b",
   "metadata": {},
   "outputs": [],
   "source": [
    "def fetch_all_analysis_objects(main_config, spec_model_temp_files):\n",
    "    \"\"\"For a list of spectral models, initiate AsgardpyAnalysis objects.\"\"\"\n",
    "    main_analysis_list = {}\n",
    "    spec_models_list = []\n",
    "\n",
    "    for temp in spec_model_temp_files:\n",
    "        temp_model = AsgardpyAnalysis(main_config)\n",
    "        temp_model.config.target.models_file = temp\n",
    "\n",
    "        temp_model_2 = AsgardpyAnalysis(temp_model.config)\n",
    "\n",
    "        copy_target_config(temp_model, temp_model_2)\n",
    "\n",
    "        spec_tag = temp.name.split(\".\")[0].split(\"_\")[-1]\n",
    "        spec_models_list.append(spec_tag)\n",
    "        main_analysis_list[spec_tag] = {}\n",
    "\n",
    "        main_analysis_list[spec_tag][\"Analysis\"] = temp_model_2\n",
    "\n",
    "    spec_models_list = np.array(spec_models_list)\n",
    "\n",
    "    return main_analysis_list, spec_models_list"
   ]
  },
  {
   "cell_type": "code",
   "execution_count": 8,
   "id": "0ec8f7f5",
   "metadata": {},
   "outputs": [
    {
     "name": "stderr",
     "output_type": "stream",
     "text": [
      "Setting logging config: {'level': 'INFO', 'filename': '', 'filemode': 'w', 'format': '', 'datefmt': ''}\n",
      "Setting logging config: {'level': 'INFO', 'filename': '', 'filemode': 'w', 'format': '', 'datefmt': ''}\n",
      "Setting logging config: {'level': 'INFO', 'filename': '', 'filemode': 'w', 'format': '', 'datefmt': ''}\n",
      "Setting logging config: {'level': 'INFO', 'filename': '', 'filemode': 'w', 'format': '', 'datefmt': ''}\n",
      "Setting logging config: {'level': 'INFO', 'filename': '', 'filemode': 'w', 'format': '', 'datefmt': ''}\n",
      "Setting logging config: {'level': 'INFO', 'filename': '', 'filemode': 'w', 'format': '', 'datefmt': ''}\n",
      "Setting logging config: {'level': 'INFO', 'filename': '', 'filemode': 'w', 'format': '', 'datefmt': ''}\n",
      "Setting logging config: {'level': 'INFO', 'filename': '', 'filemode': 'w', 'format': '', 'datefmt': ''}\n",
      "Setting logging config: {'level': 'INFO', 'filename': '', 'filemode': 'w', 'format': '', 'datefmt': ''}\n",
      "Setting logging config: {'level': 'INFO', 'filename': '', 'filemode': 'w', 'format': '', 'datefmt': ''}\n",
      "Setting logging config: {'level': 'INFO', 'filename': '', 'filemode': 'w', 'format': '', 'datefmt': ''}\n",
      "Setting logging config: {'level': 'INFO', 'filename': '', 'filemode': 'w', 'format': '', 'datefmt': ''}\n",
      "Setting logging config: {'level': 'INFO', 'filename': '', 'filemode': 'w', 'format': '', 'datefmt': ''}\n",
      "Setting logging config: {'level': 'INFO', 'filename': '', 'filemode': 'w', 'format': '', 'datefmt': ''}\n",
      "Setting logging config: {'level': 'INFO', 'filename': '', 'filemode': 'w', 'format': '', 'datefmt': ''}\n",
      "Setting logging config: {'level': 'INFO', 'filename': '', 'filemode': 'w', 'format': '', 'datefmt': ''}\n"
     ]
    },
    {
     "name": "stdout",
     "output_type": "stream",
     "text": [
      "CPU times: user 152 ms, sys: 0 ns, total: 152 ms\n",
      "Wall time: 149 ms\n"
     ]
    }
   ],
   "source": [
    "%%time\n",
    "main_analysis_list, spec_models_list = fetch_all_analysis_objects(\n",
    "    main_config, spec_model_temp_files\n",
    ")"
   ]
  },
  {
   "cell_type": "markdown",
   "id": "485c8db8",
   "metadata": {},
   "source": [
    "# Run Analysis steps"
   ]
  },
  {
   "cell_type": "code",
   "execution_count": 9,
   "id": "99daec89",
   "metadata": {
    "scrolled": true
   },
   "outputs": [
    {
     "name": "stderr",
     "output_type": "stream",
     "text": [
      "Spectral model being tested: lp\n",
      "Perform DL3 to DL4 process!\n",
      "1 number of 3D Datasets given\n",
      "No distinct keys used for the 3D dataset\n",
      "Observation ID list selected: 23523 23526 23559\n",
      "Observations selected: 3 out of 3.\n",
      "Using 3 processes to compute Data reduction\n",
      "Computing dataset for observation 23523\n",
      "Running MapDatasetMaker\n",
      "Computing dataset for observation 23526\n",
      "Running MapDatasetMaker\n",
      "Computing dataset for observation 23559\n",
      "Running MapDatasetMaker\n",
      "Running SafeMaskMaker\n",
      "Running FoVBackgroundMaker\n",
      "Running SafeMaskMaker\n",
      "Running FoVBackgroundMaker\n",
      "Running SafeMaskMaker\n",
      "Running FoVBackgroundMaker\n",
      "Analysis Step datasets-3d completed\n",
      "1 number of 1D Datasets given\n",
      "Observation ID list selected: 5029747 5029748\n",
      "Observations selected: 2 out of 2.\n",
      "Using 2 processes to compute Data reduction\n",
      "Computing dataset for observation 5029747\n",
      "Computing dataset for observation 5029748\n",
      "Running SpectrumDatasetMaker\n",
      "Running SpectrumDatasetMaker\n",
      "'THETA' axis is stored as a scalar -- converting to 1D array.\n",
      "'THETA' axis is stored as a scalar -- converting to 1D array.\n",
      "'THETA' axis is stored as a scalar -- converting to 1D array.\n",
      "'THETA' axis is stored as a scalar -- converting to 1D array.\n",
      "'THETA' axis is stored as a scalar -- converting to 1D array.\n",
      "'THETA' axis is stored as a scalar -- converting to 1D array.\n",
      "'THETA' axis is stored as a scalar -- converting to 1D array.\n",
      "'THETA' axis is stored as a scalar -- converting to 1D array.\n",
      "'THETA' axis is stored as a scalar -- converting to 1D array.\n",
      "'THETA' axis is stored as a scalar -- converting to 1D array.\n",
      "'THETA' axis is stored as a scalar -- converting to 1D array.\n",
      "'THETA' axis is stored as a scalar -- converting to 1D array.\n",
      "'THETA' axis is stored as a scalar -- converting to 1D array.\n",
      "'THETA' axis is stored as a scalar -- converting to 1D array.\n",
      "Running SafeMaskMaker\n",
      "'THETA' axis is stored as a scalar -- converting to 1D array.\n",
      "No default upper safe energy threshold defined for obs 5029747\n",
      "Running SafeMaskMaker\n",
      "'THETA' axis is stored as a scalar -- converting to 1D array.\n",
      "'THETA' axis is stored as a scalar -- converting to 1D array.\n",
      "Running ReflectedRegionsBackgroundMaker\n",
      "No default upper safe energy threshold defined for obs 5029748\n",
      "'THETA' axis is stored as a scalar -- converting to 1D array.\n",
      "Running ReflectedRegionsBackgroundMaker\n",
      "Analysis Step datasets-1d completed\n",
      "Models have been associated with the Datasets\n",
      "Perform DL4 to DL5 processes!\n",
      "OptimizeResult\n",
      "\n",
      "\tbackend    : minuit\n",
      "\tmethod     : migrad\n",
      "\tsuccess    : True\n",
      "\tmessage    : Optimization terminated successfully.\n",
      "\tnfev       : 79\n",
      "\ttotal stat : 9172.35\n",
      "\n",
      "CovarianceResult\n",
      "\n",
      "\tbackend    : minuit\n",
      "\tmethod     : hesse\n",
      "\tsuccess    : True\n",
      "\tmessage    : Hesse terminated successfully.\n",
      "\n",
      "Analysis Step fit completed\n",
      "Using 10 processes to compute Energy bins\n"
     ]
    },
    {
     "ename": "ValueError",
     "evalue": "'Crab Nebula' is not in list",
     "output_type": "error",
     "traceback": [
      "\u001b[0;31m---------------------------------------------------------------------------\u001b[0m",
      "\u001b[0;31mRemoteTraceback\u001b[0m                           Traceback (most recent call last)",
      "\u001b[0;31mRemoteTraceback\u001b[0m: \n\"\"\"\nTraceback (most recent call last):\n  File \"/home/chaitanya/mambaforge/envs/asgardpy/lib/python3.11/multiprocessing/pool.py\", line 125, in worker\n    result = (True, func(*args, **kwds))\n                    ^^^^^^^^^^^^^^^^^^^\n  File \"/home/chaitanya/mambaforge/envs/asgardpy/lib/python3.11/multiprocessing/pool.py\", line 51, in starmapstar\n    return list(itertools.starmap(args[0], args[1]))\n           ^^^^^^^^^^^^^^^^^^^^^^^^^^^^^^^^^^^^^^^^^\n  File \"/home/chaitanya/mambaforge/envs/asgardpy/lib/python3.11/site-packages/gammapy/estimators/points/sed.py\", line 208, in estimate_flux_point\n    return super().run(datasets=datasets_sliced)\n           ^^^^^^^^^^^^^^^^^^^^^^^^^^^^^^^^^^^^^\n  File \"/home/chaitanya/mambaforge/envs/asgardpy/lib/python3.11/site-packages/gammapy/estimators/flux.py\", line 209, in run\n    model = self.get_scale_model(models)\n            ^^^^^^^^^^^^^^^^^^^^^^^^^^^^\n  File \"/home/chaitanya/mambaforge/envs/asgardpy/lib/python3.11/site-packages/gammapy/estimators/flux.py\", line 154, in get_scale_model\n    ref_model = models[self.source].spectral_model\n                ~~~~~~^^^^^^^^^^^^^\n  File \"/home/chaitanya/mambaforge/envs/asgardpy/lib/python3.11/site-packages/gammapy/modeling/models/core.py\", line 668, in __getitem__\n    return self._models[self.index(key)]\n                        ^^^^^^^^^^^^^^^\n  File \"/home/chaitanya/mambaforge/envs/asgardpy/lib/python3.11/site-packages/gammapy/modeling/models/core.py\", line 674, in index\n    return self.names.index(key)\n           ^^^^^^^^^^^^^^^^^^^^^\nValueError: 'Crab Nebula' is not in list\n\"\"\"",
      "\nThe above exception was the direct cause of the following exception:\n",
      "\u001b[0;31mValueError\u001b[0m                                Traceback (most recent call last)",
      "File \u001b[0;32m<timed exec>:6\u001b[0m\n",
      "File \u001b[0;32m~/software/asgardpy/src/asgardpy/analysis/analysis.py:243\u001b[0m, in \u001b[0;36mAsgardpyAnalysis.run\u001b[0;34m(self, steps, **kwargs)\u001b[0m\n\u001b[1;32m    240\u001b[0m \u001b[38;5;28;01mfor\u001b[39;00m step \u001b[38;5;129;01min\u001b[39;00m dl4_dl5_steps:\n\u001b[1;32m    241\u001b[0m     analysis_step \u001b[38;5;241m=\u001b[39m AnalysisStep\u001b[38;5;241m.\u001b[39mcreate(step, \u001b[38;5;28mself\u001b[39m\u001b[38;5;241m.\u001b[39mconfig, \u001b[38;5;241m*\u001b[39m\u001b[38;5;241m*\u001b[39mkwargs)\n\u001b[0;32m--> 243\u001b[0m     \u001b[43manalysis_step\u001b[49m\u001b[38;5;241;43m.\u001b[39;49m\u001b[43mrun\u001b[49m\u001b[43m(\u001b[49m\u001b[43mdatasets\u001b[49m\u001b[38;5;241;43m=\u001b[39;49m\u001b[38;5;28;43mself\u001b[39;49m\u001b[38;5;241;43m.\u001b[39;49m\u001b[43mdatasets\u001b[49m\u001b[43m,\u001b[49m\u001b[43m \u001b[49m\u001b[43minstrument_spectral_info\u001b[49m\u001b[38;5;241;43m=\u001b[39;49m\u001b[38;5;28;43mself\u001b[39;49m\u001b[38;5;241;43m.\u001b[39;49m\u001b[43minstrument_spectral_info\u001b[49m\u001b[43m)\u001b[49m\n\u001b[1;32m    245\u001b[0m     \u001b[38;5;66;03m# Update the final data product objects\u001b[39;00m\n\u001b[1;32m    246\u001b[0m     \u001b[38;5;28;01mfor\u001b[39;00m data_product \u001b[38;5;129;01min\u001b[39;00m \u001b[38;5;28mself\u001b[39m\u001b[38;5;241m.\u001b[39mfinal_data_products:\n",
      "File \u001b[0;32m~/software/asgardpy/src/asgardpy/analysis/step_base.py:39\u001b[0m, in \u001b[0;36mAnalysisStepBase.run\u001b[0;34m(self, datasets, instrument_spectral_info)\u001b[0m\n\u001b[1;32m     36\u001b[0m \u001b[38;5;28mself\u001b[39m\u001b[38;5;241m.\u001b[39mdatasets \u001b[38;5;241m=\u001b[39m datasets\n\u001b[1;32m     37\u001b[0m \u001b[38;5;28mself\u001b[39m\u001b[38;5;241m.\u001b[39minstrument_spectral_info \u001b[38;5;241m=\u001b[39m instrument_spectral_info\n\u001b[0;32m---> 39\u001b[0m final_product \u001b[38;5;241m=\u001b[39m \u001b[38;5;28;43mself\u001b[39;49m\u001b[38;5;241;43m.\u001b[39;49m\u001b[43m_run\u001b[49m\u001b[43m(\u001b[49m\u001b[43m)\u001b[49m\n\u001b[1;32m     40\u001b[0m \u001b[38;5;28mself\u001b[39m\u001b[38;5;241m.\u001b[39mlog\u001b[38;5;241m.\u001b[39minfo(\u001b[38;5;124m\"\u001b[39m\u001b[38;5;124mAnalysis Step \u001b[39m\u001b[38;5;132;01m%s\u001b[39;00m\u001b[38;5;124m completed\u001b[39m\u001b[38;5;124m\"\u001b[39m, \u001b[38;5;28mself\u001b[39m\u001b[38;5;241m.\u001b[39mtag)\n\u001b[1;32m     42\u001b[0m \u001b[38;5;28;01mreturn\u001b[39;00m final_product\n",
      "File \u001b[0;32m~/software/asgardpy/src/asgardpy/data/dl4.py:117\u001b[0m, in \u001b[0;36mFluxPointsAnalysisStep._run\u001b[0;34m(self)\u001b[0m\n\u001b[1;32m    115\u001b[0m \u001b[38;5;28;01mfor\u001b[39;00m dataset, energy_edge \u001b[38;5;129;01min\u001b[39;00m \u001b[38;5;28mzip\u001b[39m(datasets, energy_edges, strict\u001b[38;5;241m=\u001b[39m\u001b[38;5;28;01mTrue\u001b[39;00m):\n\u001b[1;32m    116\u001b[0m     \u001b[38;5;28mself\u001b[39m\u001b[38;5;241m.\u001b[39m_set_fpe(energy_edge)\n\u001b[0;32m--> 117\u001b[0m     flux_points \u001b[38;5;241m=\u001b[39m \u001b[38;5;28;43mself\u001b[39;49m\u001b[38;5;241;43m.\u001b[39;49m\u001b[43mfpe\u001b[49m\u001b[38;5;241;43m.\u001b[39;49m\u001b[43mrun\u001b[49m\u001b[43m(\u001b[49m\u001b[43mdatasets\u001b[49m\u001b[38;5;241;43m=\u001b[39;49m\u001b[43mdataset\u001b[49m\u001b[43m)\u001b[49m\n\u001b[1;32m    118\u001b[0m     flux_points\u001b[38;5;241m.\u001b[39mname \u001b[38;5;241m=\u001b[39m dataset\u001b[38;5;241m.\u001b[39mnames\n\u001b[1;32m    120\u001b[0m     \u001b[38;5;66;03m# flux_points._meta.creation = CreatorMetaData()\u001b[39;00m\n\u001b[1;32m    121\u001b[0m     \u001b[38;5;66;03m# flux_points._meta.creation.creator += f\", Asgardpy {__public_version__}\"\u001b[39;00m\n\u001b[1;32m    122\u001b[0m     \u001b[38;5;66;03m# flux_points._meta.optional = {\u001b[39;00m\n\u001b[1;32m    123\u001b[0m     \u001b[38;5;66;03m# \"telescope\": \"Fermi\",\u001b[39;00m\n\u001b[1;32m    124\u001b[0m     \u001b[38;5;66;03m# \"instrument\": flux_points.name,\u001b[39;00m\n\u001b[1;32m    125\u001b[0m     \u001b[38;5;66;03m# }\u001b[39;00m\n",
      "File \u001b[0;32m~/mambaforge/envs/asgardpy/lib/python3.11/site-packages/gammapy/estimators/points/sed.py:155\u001b[0m, in \u001b[0;36mFluxPointsEstimator.run\u001b[0;34m(self, datasets)\u001b[0m\n\u001b[1;32m    147\u001b[0m rows \u001b[38;5;241m=\u001b[39m []\n\u001b[1;32m    149\u001b[0m meta \u001b[38;5;241m=\u001b[39m {\n\u001b[1;32m    150\u001b[0m     \u001b[38;5;124m\"\u001b[39m\u001b[38;5;124mn_sigma\u001b[39m\u001b[38;5;124m\"\u001b[39m: \u001b[38;5;28mself\u001b[39m\u001b[38;5;241m.\u001b[39mn_sigma,\n\u001b[1;32m    151\u001b[0m     \u001b[38;5;124m\"\u001b[39m\u001b[38;5;124mn_sigma_ul\u001b[39m\u001b[38;5;124m\"\u001b[39m: \u001b[38;5;28mself\u001b[39m\u001b[38;5;241m.\u001b[39mn_sigma_ul,\n\u001b[1;32m    152\u001b[0m     \u001b[38;5;124m\"\u001b[39m\u001b[38;5;124msed_type_init\u001b[39m\u001b[38;5;124m\"\u001b[39m: \u001b[38;5;124m\"\u001b[39m\u001b[38;5;124mlikelihood\u001b[39m\u001b[38;5;124m\"\u001b[39m,\n\u001b[1;32m    153\u001b[0m }\n\u001b[0;32m--> 155\u001b[0m rows \u001b[38;5;241m=\u001b[39m \u001b[43mparallel\u001b[49m\u001b[38;5;241;43m.\u001b[39;49m\u001b[43mrun_multiprocessing\u001b[49m\u001b[43m(\u001b[49m\n\u001b[1;32m    156\u001b[0m \u001b[43m    \u001b[49m\u001b[38;5;28;43mself\u001b[39;49m\u001b[38;5;241;43m.\u001b[39;49m\u001b[43mestimate_flux_point\u001b[49m\u001b[43m,\u001b[49m\n\u001b[1;32m    157\u001b[0m \u001b[43m    \u001b[49m\u001b[38;5;28;43mzip\u001b[39;49m\u001b[43m(\u001b[49m\n\u001b[1;32m    158\u001b[0m \u001b[43m        \u001b[49m\u001b[43mrepeat\u001b[49m\u001b[43m(\u001b[49m\u001b[43mdatasets\u001b[49m\u001b[43m)\u001b[49m\u001b[43m,\u001b[49m\n\u001b[1;32m    159\u001b[0m \u001b[43m        \u001b[49m\u001b[38;5;28;43mself\u001b[39;49m\u001b[38;5;241;43m.\u001b[39;49m\u001b[43menergy_edges\u001b[49m\u001b[43m[\u001b[49m\u001b[43m:\u001b[49m\u001b[38;5;241;43m-\u001b[39;49m\u001b[38;5;241;43m1\u001b[39;49m\u001b[43m]\u001b[49m\u001b[43m,\u001b[49m\n\u001b[1;32m    160\u001b[0m \u001b[43m        \u001b[49m\u001b[38;5;28;43mself\u001b[39;49m\u001b[38;5;241;43m.\u001b[39;49m\u001b[43menergy_edges\u001b[49m\u001b[43m[\u001b[49m\u001b[38;5;241;43m1\u001b[39;49m\u001b[43m:\u001b[49m\u001b[43m]\u001b[49m\u001b[43m,\u001b[49m\n\u001b[1;32m    161\u001b[0m \u001b[43m    \u001b[49m\u001b[43m)\u001b[49m\u001b[43m,\u001b[49m\n\u001b[1;32m    162\u001b[0m \u001b[43m    \u001b[49m\u001b[43mbackend\u001b[49m\u001b[38;5;241;43m=\u001b[39;49m\u001b[38;5;28;43mself\u001b[39;49m\u001b[38;5;241;43m.\u001b[39;49m\u001b[43mparallel_backend\u001b[49m\u001b[43m,\u001b[49m\n\u001b[1;32m    163\u001b[0m \u001b[43m    \u001b[49m\u001b[43mpool_kwargs\u001b[49m\u001b[38;5;241;43m=\u001b[39;49m\u001b[38;5;28;43mdict\u001b[39;49m\u001b[43m(\u001b[49m\u001b[43mprocesses\u001b[49m\u001b[38;5;241;43m=\u001b[39;49m\u001b[38;5;28;43mself\u001b[39;49m\u001b[38;5;241;43m.\u001b[39;49m\u001b[43mn_jobs\u001b[49m\u001b[43m)\u001b[49m\u001b[43m,\u001b[49m\n\u001b[1;32m    164\u001b[0m \u001b[43m    \u001b[49m\u001b[43mtask_name\u001b[49m\u001b[38;5;241;43m=\u001b[39;49m\u001b[38;5;124;43m\"\u001b[39;49m\u001b[38;5;124;43mEnergy bins\u001b[39;49m\u001b[38;5;124;43m\"\u001b[39;49m\u001b[43m,\u001b[49m\n\u001b[1;32m    165\u001b[0m \u001b[43m\u001b[49m\u001b[43m)\u001b[49m\n\u001b[1;32m    167\u001b[0m table \u001b[38;5;241m=\u001b[39m Table(rows, meta\u001b[38;5;241m=\u001b[39mmeta)\n\u001b[1;32m    168\u001b[0m model \u001b[38;5;241m=\u001b[39m _get_reference_model(datasets\u001b[38;5;241m.\u001b[39mmodels[\u001b[38;5;28mself\u001b[39m\u001b[38;5;241m.\u001b[39msource], \u001b[38;5;28mself\u001b[39m\u001b[38;5;241m.\u001b[39menergy_edges)\n",
      "File \u001b[0;32m~/mambaforge/envs/asgardpy/lib/python3.11/site-packages/gammapy/utils/parallel.py:283\u001b[0m, in \u001b[0;36mrun_multiprocessing\u001b[0;34m(func, inputs, backend, pool_kwargs, method, method_kwargs, task_name)\u001b[0m\n\u001b[1;32m    281\u001b[0m \u001b[38;5;28;01mwith\u001b[39;00m multiprocessing\u001b[38;5;241m.\u001b[39mPool(\u001b[38;5;241m*\u001b[39m\u001b[38;5;241m*\u001b[39mpool_kwargs) \u001b[38;5;28;01mas\u001b[39;00m pool:\n\u001b[1;32m    282\u001b[0m     pool_func \u001b[38;5;241m=\u001b[39m POOL_METHODS[PoolMethodEnum(method)]\n\u001b[0;32m--> 283\u001b[0m     results \u001b[38;5;241m=\u001b[39m \u001b[43mpool_func\u001b[49m\u001b[43m(\u001b[49m\n\u001b[1;32m    284\u001b[0m \u001b[43m        \u001b[49m\u001b[43mpool\u001b[49m\u001b[38;5;241;43m=\u001b[39;49m\u001b[43mpool\u001b[49m\u001b[43m,\u001b[49m\n\u001b[1;32m    285\u001b[0m \u001b[43m        \u001b[49m\u001b[43mfunc\u001b[49m\u001b[38;5;241;43m=\u001b[39;49m\u001b[43mfunc\u001b[49m\u001b[43m,\u001b[49m\n\u001b[1;32m    286\u001b[0m \u001b[43m        \u001b[49m\u001b[43minputs\u001b[49m\u001b[38;5;241;43m=\u001b[39;49m\u001b[43minputs\u001b[49m\u001b[43m,\u001b[49m\n\u001b[1;32m    287\u001b[0m \u001b[43m        \u001b[49m\u001b[43mmethod_kwargs\u001b[49m\u001b[38;5;241;43m=\u001b[39;49m\u001b[43mmethod_kwargs\u001b[49m\u001b[43m,\u001b[49m\n\u001b[1;32m    288\u001b[0m \u001b[43m        \u001b[49m\u001b[43mtask_name\u001b[49m\u001b[38;5;241;43m=\u001b[39;49m\u001b[43mtask_name\u001b[49m\u001b[43m,\u001b[49m\n\u001b[1;32m    289\u001b[0m \u001b[43m    \u001b[49m\u001b[43m)\u001b[49m\n\u001b[1;32m    291\u001b[0m \u001b[38;5;28;01mreturn\u001b[39;00m results\n",
      "File \u001b[0;32m~/mambaforge/envs/asgardpy/lib/python3.11/site-packages/gammapy/utils/parallel.py:313\u001b[0m, in \u001b[0;36mrun_pool_star_map\u001b[0;34m(pool, func, inputs, method_kwargs, task_name)\u001b[0m\n\u001b[1;32m    311\u001b[0m \u001b[38;5;28;01mdef\u001b[39;00m \u001b[38;5;21mrun_pool_star_map\u001b[39m(pool, func, inputs, method_kwargs\u001b[38;5;241m=\u001b[39m\u001b[38;5;28;01mNone\u001b[39;00m, task_name\u001b[38;5;241m=\u001b[39m\u001b[38;5;124m\"\u001b[39m\u001b[38;5;124m\"\u001b[39m):\n\u001b[1;32m    312\u001b[0m \u001b[38;5;250m    \u001b[39m\u001b[38;5;124;03m\"\"\"Run function in parallel.\"\"\"\u001b[39;00m\n\u001b[0;32m--> 313\u001b[0m     \u001b[38;5;28;01mreturn\u001b[39;00m \u001b[43mpool\u001b[49m\u001b[38;5;241;43m.\u001b[39;49m\u001b[43mstarmap\u001b[49m\u001b[43m(\u001b[49m\u001b[43mfunc\u001b[49m\u001b[43m,\u001b[49m\u001b[43m \u001b[49m\u001b[43mprogress_bar\u001b[49m\u001b[43m(\u001b[49m\u001b[43minputs\u001b[49m\u001b[43m,\u001b[49m\u001b[43m \u001b[49m\u001b[43mdesc\u001b[49m\u001b[38;5;241;43m=\u001b[39;49m\u001b[43mtask_name\u001b[49m\u001b[43m)\u001b[49m\u001b[43m,\u001b[49m\u001b[43m \u001b[49m\u001b[38;5;241;43m*\u001b[39;49m\u001b[38;5;241;43m*\u001b[39;49m\u001b[43mmethod_kwargs\u001b[49m\u001b[43m)\u001b[49m\n",
      "File \u001b[0;32m~/mambaforge/envs/asgardpy/lib/python3.11/multiprocessing/pool.py:375\u001b[0m, in \u001b[0;36mPool.starmap\u001b[0;34m(self, func, iterable, chunksize)\u001b[0m\n\u001b[1;32m    369\u001b[0m \u001b[38;5;28;01mdef\u001b[39;00m \u001b[38;5;21mstarmap\u001b[39m(\u001b[38;5;28mself\u001b[39m, func, iterable, chunksize\u001b[38;5;241m=\u001b[39m\u001b[38;5;28;01mNone\u001b[39;00m):\n\u001b[1;32m    370\u001b[0m \u001b[38;5;250m    \u001b[39m\u001b[38;5;124;03m'''\u001b[39;00m\n\u001b[1;32m    371\u001b[0m \u001b[38;5;124;03m    Like `map()` method but the elements of the `iterable` are expected to\u001b[39;00m\n\u001b[1;32m    372\u001b[0m \u001b[38;5;124;03m    be iterables as well and will be unpacked as arguments. Hence\u001b[39;00m\n\u001b[1;32m    373\u001b[0m \u001b[38;5;124;03m    `func` and (a, b) becomes func(a, b).\u001b[39;00m\n\u001b[1;32m    374\u001b[0m \u001b[38;5;124;03m    '''\u001b[39;00m\n\u001b[0;32m--> 375\u001b[0m     \u001b[38;5;28;01mreturn\u001b[39;00m \u001b[38;5;28;43mself\u001b[39;49m\u001b[38;5;241;43m.\u001b[39;49m\u001b[43m_map_async\u001b[49m\u001b[43m(\u001b[49m\u001b[43mfunc\u001b[49m\u001b[43m,\u001b[49m\u001b[43m \u001b[49m\u001b[43miterable\u001b[49m\u001b[43m,\u001b[49m\u001b[43m \u001b[49m\u001b[43mstarmapstar\u001b[49m\u001b[43m,\u001b[49m\u001b[43m \u001b[49m\u001b[43mchunksize\u001b[49m\u001b[43m)\u001b[49m\u001b[38;5;241;43m.\u001b[39;49m\u001b[43mget\u001b[49m\u001b[43m(\u001b[49m\u001b[43m)\u001b[49m\n",
      "File \u001b[0;32m~/mambaforge/envs/asgardpy/lib/python3.11/multiprocessing/pool.py:774\u001b[0m, in \u001b[0;36mApplyResult.get\u001b[0;34m(self, timeout)\u001b[0m\n\u001b[1;32m    772\u001b[0m     \u001b[38;5;28;01mreturn\u001b[39;00m \u001b[38;5;28mself\u001b[39m\u001b[38;5;241m.\u001b[39m_value\n\u001b[1;32m    773\u001b[0m \u001b[38;5;28;01melse\u001b[39;00m:\n\u001b[0;32m--> 774\u001b[0m     \u001b[38;5;28;01mraise\u001b[39;00m \u001b[38;5;28mself\u001b[39m\u001b[38;5;241m.\u001b[39m_value\n",
      "\u001b[0;31mValueError\u001b[0m: 'Crab Nebula' is not in list"
     ]
    }
   ],
   "source": [
    "%%time\n",
    "PL_idx = 0\n",
    "\n",
    "for i, tag in enumerate(spec_models_list):\n",
    "    log.info(\"Spectral model being tested: %s\", tag)\n",
    "\n",
    "    main_analysis_list[tag][\"Analysis\"].run()\n",
    "\n",
    "    if tag == \"pl\":\n",
    "        PL_idx = i\n"
   ]
  },
  {
   "cell_type": "code",
   "execution_count": null,
   "id": "42d3ac79-bda9-473d-a5e3-d67c6de869e8",
   "metadata": {},
   "outputs": [],
   "source": []
  },
  {
   "cell_type": "markdown",
   "id": "81a39bb3-121a-409c-867c-2cfa1929f93a",
   "metadata": {},
   "source": [
    "# Get all the Fit results"
   ]
  },
  {
   "cell_type": "code",
   "execution_count": null,
   "id": "5d483648",
   "metadata": {},
   "outputs": [],
   "source": [
    "%%time\n",
    "fit_success_list, stat_list, dof_list, pref_over_pl_chi2_list = fetch_all_analysis_fit_info(\n",
    "    main_analysis_list, spec_models_list\n",
    ")"
   ]
  },
  {
   "cell_type": "code",
   "execution_count": 10,
   "id": "83c35a19",
   "metadata": {},
   "outputs": [
    {
     "ename": "NameError",
     "evalue": "name 'pref_over_pl_chi2_list' is not defined",
     "output_type": "error",
     "traceback": [
      "\u001b[0;31m---------------------------------------------------------------------------\u001b[0m",
      "\u001b[0;31mNameError\u001b[0m                                 Traceback (most recent call last)",
      "Cell \u001b[0;32mIn[10], line 2\u001b[0m\n\u001b[1;32m      1\u001b[0m \u001b[38;5;66;03m# If any spectral model has at least 5 sigmas preference over PL\u001b[39;00m\n\u001b[0;32m----> 2\u001b[0m best_sp_idx_lrt \u001b[38;5;241m=\u001b[39m np\u001b[38;5;241m.\u001b[39mnonzero(\u001b[43mpref_over_pl_chi2_list\u001b[49m \u001b[38;5;241m==\u001b[39m np\u001b[38;5;241m.\u001b[39mnanmax(pref_over_pl_chi2_list))[\u001b[38;5;241m0\u001b[39m]\n\u001b[1;32m      3\u001b[0m \u001b[38;5;28;01mfor\u001b[39;00m idx \u001b[38;5;129;01min\u001b[39;00m best_sp_idx_lrt:\n\u001b[1;32m      4\u001b[0m     \u001b[38;5;28;01mif\u001b[39;00m pref_over_pl_chi2_list[idx] \u001b[38;5;241m>\u001b[39m \u001b[38;5;241m5\u001b[39m:\n",
      "\u001b[0;31mNameError\u001b[0m: name 'pref_over_pl_chi2_list' is not defined"
     ]
    }
   ],
   "source": [
    "# If any spectral model has at least 5 sigmas preference over PL\n",
    "best_sp_idx_lrt = np.nonzero(pref_over_pl_chi2_list == np.nanmax(pref_over_pl_chi2_list))[0]\n",
    "for idx in best_sp_idx_lrt:\n",
    "    if pref_over_pl_chi2_list[idx] > 5:\n",
    "        sp_idx_lrt = idx\n",
    "        log.info(\"Best preferred spectral model over PL is %s\", spec_models_list[idx])\n",
    "    else:\n",
    "        sp_idx_lrt = PL_idx\n",
    "        log.info(\"No other model preferred over PL\")\n"
   ]
  },
  {
   "cell_type": "code",
   "execution_count": null,
   "id": "96708493",
   "metadata": {
    "scrolled": true
   },
   "outputs": [],
   "source": [
    "list_rel_p = check_model_preference_aic(stat_list, dof_list)"
   ]
  },
  {
   "cell_type": "code",
   "execution_count": null,
   "id": "b5e21241",
   "metadata": {},
   "outputs": [],
   "source": [
    "best_sp_idx_aic = np.nonzero(list_rel_p == np.nanmax(list_rel_p))[0]\n",
    "\n",
    "for idx in best_sp_idx_aic:\n",
    "    if list_rel_p[idx] > 0.95:\n",
    "        sp_idx_aic = idx\n",
    "        log.info(\"Best preferred spectral model is %s\", spec_models_list[fit_success_list][idx])\n",
    "    else:\n",
    "        sp_idx_aic = PL_idx\n",
    "        log.info(\"No other model preferred, hence PL is selected\")"
   ]
  },
  {
   "cell_type": "markdown",
   "id": "2352da74-2a3c-47a0-b687-092ca0d311ec",
   "metadata": {},
   "source": [
    "# Write the results into a Table"
   ]
  },
  {
   "cell_type": "code",
   "execution_count": null,
   "id": "c2b740c9-906d-480b-a78f-34b1036a427a",
   "metadata": {},
   "outputs": [],
   "source": [
    "stats_table = tabulate_best_fit_stats(spec_models_list, fit_success_list, main_analysis_list, list_rel_p)\n",
    "\n",
    "stats_table.meta[\"Target source name\"] = target_source_name"
   ]
  },
  {
   "cell_type": "code",
   "execution_count": null,
   "id": "9e52968a-6143-4775-8a52-19ab70578989",
   "metadata": {},
   "outputs": [],
   "source": [
    "stats_table"
   ]
  },
  {
   "cell_type": "code",
   "execution_count": null,
   "id": "69437e61-ce6b-40fa-b845-f29cc21d4096",
   "metadata": {},
   "outputs": [],
   "source": []
  }
 ],
 "metadata": {
  "kernelspec": {
   "display_name": "asgardpy",
   "language": "python",
   "name": "asgardpy"
  },
  "language_info": {
   "codemirror_mode": {
    "name": "ipython",
    "version": 3
   },
   "file_extension": ".py",
   "mimetype": "text/x-python",
   "name": "python",
   "nbconvert_exporter": "python",
   "pygments_lexer": "ipython3",
   "version": "3.11.4"
  }
 },
 "nbformat": 4,
 "nbformat_minor": 5
}
