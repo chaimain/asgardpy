{
 "cells": [
  {
   "cell_type": "code",
   "execution_count": null,
   "id": "4a75596a",
   "metadata": {},
   "outputs": [],
   "source": [
    "import os\n",
    "import numpy as np\n",
    "import logging\n",
    "\n",
    "from asgardpy.analysis import AsgardpyAnalysis\n",
    "from asgardpy.config import AsgardpyConfig\n",
    "from asgardpy.stats.stats import check_model_preference_aic, check_model_preference_lrt"
   ]
  },
  {
   "cell_type": "code",
   "execution_count": null,
   "id": "dfd46a80",
   "metadata": {},
   "outputs": [],
   "source": [
    "# os.environ['GAMMAPY_DATA']"
   ]
  },
  {
   "cell_type": "code",
   "execution_count": null,
   "id": "fd1b0088-8110-4da4-9bcb-e377258c0239",
   "metadata": {},
   "outputs": [],
   "source": [
    "log = logging.getLogger(\"Check Preferred Spectral Model\")"
   ]
  },
  {
   "cell_type": "code",
   "execution_count": null,
   "id": "a710e423-394b-4bd9-83d9-3c4d74e1f89c",
   "metadata": {},
   "outputs": [],
   "source": [
    "config_file = \"../src/asgardpy/tests/config_test_gadf.yaml\""
   ]
  },
  {
   "cell_type": "code",
   "execution_count": null,
   "id": "a425afc5",
   "metadata": {},
   "outputs": [],
   "source": []
  },
  {
   "cell_type": "markdown",
   "id": "11ff3b02",
   "metadata": {},
   "source": [
    "# Get config objects for different spectral models"
   ]
  },
  {
   "cell_type": "code",
   "execution_count": null,
   "id": "b3eae191",
   "metadata": {},
   "outputs": [],
   "source": [
    "config_pl = config.read(config_file)\n",
    "config_bpl = config.read(config_file)\n",
    "config_sbpl = config.read(config_file)\n",
    "config_ecpl = config.read(config_file)\n",
    "config_ecpl2 = config.read(config_file)\n",
    "config_secpl = config.read(config_file)\n",
    "config_lp = config.read(config_file)\n",
    "config_eclp = config.read(config_file)\n",
    "\n",
    "all_configs = [config_pl, config_bpl, config_sbpl, config_ecpl, config_ecpl2, config_secpl, config_lp, config_eclp]\n",
    "\n",
    "for config in all_configs:\n",
    "    config.dataset3d.instruments[0].input_dl3[0].input_dir = f\"{os.environ['GAMMAPY_DATA']}hess-dl3-dr1/\"\n",
    "    config.dataset3d.instruments[0].dataset_info.background.exclusion.exclusion_file = (\n",
    "        f\"{os.environ['GAMMAPY_DATA']}joint-crab/exclusion/exclusion_mask_crab.fits.gz\"\n",
    "    )\n",
    "    config.dataset1d.instruments[0].input_dl3[0].input_dir = f\"{os.environ['GAMMAPY_DATA']}magic/rad_max/data/\""
   ]
  },
  {
   "cell_type": "code",
   "execution_count": null,
   "id": "7a7d5f7c",
   "metadata": {},
   "outputs": [],
   "source": [
    "config_pl.target.models_file = \"../src/asgardpy/config/model_templates/model_template_pl.yaml\"\n",
    "config_bpl.target.models_file = \"../src/asgardpy/config/model_templates/model_template_bpl.yaml\"\n",
    "config_sbpl.target.models_file = \"../src/asgardpy/config/model_templates/model_template_sbpl.yaml\"\n",
    "config_ecpl.target.models_file = \"../src/asgardpy/config/model_templates/model_template_ecpl.yaml\"\n",
    "config_ecpl2.target.models_file = \"../src/asgardpy/config/model_templates/model_template_ecpl2.yaml\"\n",
    "config_secpl.target.models_file = \"../src/asgardpy/config/model_templates/model_template_secpl.yaml\"\n",
    "config_lp.target.models_file = \"../src/asgardpy/config/model_templates/model_template_lp.yaml\"\n",
    "config_eclp.target.models_file = \"../src/asgardpy/config/model_templates/model_template_eclp.yaml\""
   ]
  },
  {
   "cell_type": "code",
   "execution_count": null,
   "id": "3a7f00c5",
   "metadata": {},
   "outputs": [],
   "source": []
  },
  {
   "cell_type": "code",
   "execution_count": null,
   "id": "4eaacae6",
   "metadata": {},
   "outputs": [],
   "source": [
    "print(config_pl.target.models_file)\n",
    "print(config_bpl.target.models_file)\n",
    "print(config_sbpl.target.models_file)\n",
    "print(config_ecpl.target.models_file)\n",
    "print(config_ecpl2.target.models_file)\n",
    "print(config_secpl.target.models_file)\n",
    "print(config_lp.target.models_file)\n",
    "print(config_eclp.target.models_file)"
   ]
  },
  {
   "cell_type": "code",
   "execution_count": null,
   "id": "9459fe31",
   "metadata": {},
   "outputs": [],
   "source": [
    "analysis_pl = AsgardpyAnalysis(config_pl)\n",
    "analysis_bpl = AsgardpyAnalysis(config_bpl)\n",
    "analysis_sbpl = AsgardpyAnalysis(config_sbpl)\n",
    "analysis_ecpl = AsgardpyAnalysis(config_ecpl)\n",
    "analysis_ecpl2 = AsgardpyAnalysis(config_ecpl2)\n",
    "analysis_secpl = AsgardpyAnalysis(config_secpl)\n",
    "analysis_lp = AsgardpyAnalysis(config_lp)\n",
    "analysis_eclp = AsgardpyAnalysis(config_eclp)\n",
    "\n",
    "all_analyses = [analysis_pl, analysis_bpl, analysis_sbpl, analysis_ecpl, analysis_ecpl2, analysis_secpl, analysis_lp, analysis_eclp]"
   ]
  },
  {
   "cell_type": "markdown",
   "id": "4d8e6c3f",
   "metadata": {},
   "source": [
    "# Check the spectral type, redshift (common) and each spectral parameter"
   ]
  },
  {
   "cell_type": "code",
   "execution_count": null,
   "id": "a96b9a29",
   "metadata": {
    "scrolled": true
   },
   "outputs": [],
   "source": [
    "for a in all_analyses:\n",
    "    s = a.config.target.components[0].spectral\n",
    "    print(s.type, s.ebl_abs.redshift)\n",
    "    for p in s.parameters:\n",
    "        print(p)"
   ]
  },
  {
   "cell_type": "code",
   "execution_count": null,
   "id": "0ec8f7f5",
   "metadata": {},
   "outputs": [],
   "source": []
  },
  {
   "cell_type": "markdown",
   "id": "485c8db8",
   "metadata": {},
   "source": [
    "# Run Analysis steps"
   ]
  },
  {
   "cell_type": "code",
   "execution_count": null,
   "id": "99daec89",
   "metadata": {},
   "outputs": [],
   "source": [
    "%%time\n",
    "for a in all_analyses:\n",
    "    a.run()"
   ]
  },
  {
   "cell_type": "code",
   "execution_count": null,
   "id": "08410bb1",
   "metadata": {},
   "outputs": [],
   "source": []
  },
  {
   "cell_type": "code",
   "execution_count": null,
   "id": "5d483648",
   "metadata": {},
   "outputs": [],
   "source": [
    "for a in all_analyses:\n",
    "    s = a.config.target.components[0].spectral\n",
    "    print(s.type)\n",
    "    print(a.fit_result)"
   ]
  },
  {
   "cell_type": "code",
   "execution_count": null,
   "id": "83c35a19",
   "metadata": {},
   "outputs": [],
   "source": []
  },
  {
   "cell_type": "code",
   "execution_count": null,
   "id": "1ddad471",
   "metadata": {},
   "outputs": [],
   "source": [
    "%%time\n",
    "p_pl_bpl, g_pl_bpl, ndof_pl_bpl = check_model_preference_lrt(\n",
    "    analysis_pl.instrument_spectral_info[\"best_fit_stat\"], \n",
    "    analysis_bpl.instrument_spectral_info[\"best_fit_stat\"], \n",
    "    analysis_pl.instrument_spectral_info[\"DoF\"], \n",
    "    analysis_bpl.instrument_spectral_info[\"DoF\"]\n",
    ")\n",
    "p_pl_sbpl, g_pl_sbpl, ndof_pl_sbpl = check_model_preference_lrt(\n",
    "    analysis_pl.instrument_spectral_info[\"best_fit_stat\"], \n",
    "    analysis_sbpl.instrument_spectral_info[\"best_fit_stat\"], \n",
    "    analysis_pl.instrument_spectral_info[\"DoF\"], \n",
    "    analysis_sbpl.instrument_spectral_info[\"DoF\"]\n",
    ")\n",
    "\n",
    "p_pl_ecpl, g_pl_ecpl, ndof_pl_ecpl = check_model_preference_lrt(\n",
    "    analysis_pl.instrument_spectral_info[\"best_fit_stat\"], \n",
    "    analysis_ecpl.instrument_spectral_info[\"best_fit_stat\"], \n",
    "    analysis_pl.instrument_spectral_info[\"DoF\"], \n",
    "    analysis_ecpl.instrument_spectral_info[\"DoF\"]\n",
    ")\n",
    "\n",
    "p_pl_ecpl2, g_pl_ecpl2, ndof_pl_ecpl2 = check_model_preference_lrt(\n",
    "    analysis_pl.instrument_spectral_info[\"best_fit_stat\"], \n",
    "    analysis_ecpl2.instrument_spectral_info[\"best_fit_stat\"], \n",
    "    analysis_pl.instrument_spectral_info[\"DoF\"], \n",
    "    analysis_ecpl2.instrument_spectral_info[\"DoF\"], \n",
    ")\n",
    "\n",
    "p_pl_secpl, g_pl_secpl, ndof_pl_secpl = check_model_preference_lrt(\n",
    "    analysis_pl.instrument_spectral_info[\"best_fit_stat\"], \n",
    "    analysis_secpl.instrument_spectral_info[\"best_fit_stat\"], \n",
    "    analysis_pl.instrument_spectral_info[\"DoF\"], \n",
    "    analysis_secpl.instrument_spectral_info[\"DoF\"], \n",
    ")\n",
    "\n",
    "p_pl_lp, g_pl_lp, ndof_pl_lp = check_model_preference_lrt(\n",
    "    analysis_pl.instrument_spectral_info[\"best_fit_stat\"], \n",
    "    analysis_lp.instrument_spectral_info[\"best_fit_stat\"], \n",
    "    analysis_pl.instrument_spectral_info[\"DoF\"], \n",
    "    analysis_lp.instrument_spectral_info[\"DoF\"]\n",
    ")\n",
    "\n",
    "p_pl_eclp, g_pl_eclp, ndof_pl_eclp = check_model_preference_lrt(\n",
    "    analysis_pl.instrument_spectral_info[\"best_fit_stat\"], \n",
    "    analysis_eclp.instrument_spectral_info[\"best_fit_stat\"], \n",
    "    analysis_pl.instrument_spectral_info[\"DoF\"], \n",
    "    analysis_eclp.instrument_spectral_info[\"DoF\"]\n",
    ")"
   ]
  },
  {
   "cell_type": "code",
   "execution_count": null,
   "id": "55a7d7ef",
   "metadata": {},
   "outputs": [],
   "source": [
    "print(f\"Chi2 of goodness of fit for PL: {analysis_pl.instrument_spectral_info['best_fit_stat']:.3f}/{analysis_pl.instrument_spectral_info['DoF']}\")\n",
    "print(f\"Chi2 of goodness of fit for BPL: {analysis_bpl.instrument_spectral_info['best_fit_stat']:.3f}/{analysis_bpl.instrument_spectral_info['DoF']}\")\n",
    "print(f\"Chi2 of goodness of fit for SBPL: {analysis_sbpl.instrument_spectral_info['best_fit_stat']:.3f}/{analysis_sbpl.instrument_spectral_info['DoF']}\")\n",
    "print(f\"Chi2 of goodness of fit for ECPL: {analysis_ecpl.instrument_spectral_info['best_fit_stat']:.3f}/{analysis_ecpl.instrument_spectral_info['DoF']}\")\n",
    "print(f\"Chi2 of goodness of fit for ECPL2: {analysis_ecpl2.instrument_spectral_info['best_fit_stat']:.3f}/{analysis_ecpl2.instrument_spectral_info['DoF']}\")\n",
    "print(f\"Chi2 of goodness of fit for SECPL: {analysis_secpl.instrument_spectral_info['best_fit_stat']:.3f}/{analysis_secpl.instrument_spectral_info['DoF']}\")\n",
    "print(f\"Chi2 of goodness of fit for LP: {analysis_lp.instrument_spectral_info['best_fit_stat']:.3f}/{analysis_lp.instrument_spectral_info['DoF']}\")\n",
    "print(f\"Chi2 of goodness of fit for ECLP: {analysis_eclp.instrument_spectral_info['best_fit_stat']:.3f}/{analysis_eclp.instrument_spectral_info['DoF']}\")\n",
    "\n",
    "print(f\"p-value of goodness of fit for PL: {analysis_pl.instrument_spectral_info['fit_pval']:.3e}\")\n",
    "print(f\"p-value of goodness of fit for BPL: {analysis_bpl.instrument_spectral_info['fit_pval']:.3e}\")\n",
    "print(f\"p-value of goodness of fit for SBPL: {analysis_sbpl.instrument_spectral_info['fit_pval']:.3e}\")\n",
    "print(f\"p-value of goodness of fit for ECPL: {analysis_ecpl.instrument_spectral_info['fit_pval']:.3e}\")\n",
    "print(f\"p-value of goodness of fit for ECPL2: {analysis_ecpl2.instrument_spectral_info['fit_pval']:.3e}\")\n",
    "print(f\"p-value of goodness of fit for SECPL: {analysis_secpl.instrument_spectral_info['fit_pval']:.3e}\")\n",
    "print(f\"p-value of goodness of fit for LP: {analysis_lp.instrument_spectral_info['fit_pval']:.3e}\")\n",
    "print(f\"p-value of goodness of fit for ECLP: {analysis_eclp.instrument_spectral_info['fit_pval']:.3e}\")"
   ]
  },
  {
   "cell_type": "code",
   "execution_count": null,
   "id": "cc0c2510",
   "metadata": {},
   "outputs": [],
   "source": [
    "print(f\"Preference of BPL over PL is {g_pl_bpl:.3f} sigmas\")\n",
    "print(f\"Preference of SBPL over PL is {g_pl_sbpl:.3f} sigmas\")\n",
    "print(f\"Preference of ECPL over PL is {g_pl_ecpl:.3f} sigmas\")\n",
    "print(f\"Preference of ECPL2 over PL is {g_pl_ecpl2:.3f} sigmas\")\n",
    "print(f\"Preference of SECPL over PL is {g_pl_secpl:.3f} sigmas\")\n",
    "print(f\"Preference of LP over PL is {g_pl_lp:.3f} sigmas\")\n",
    "print(f\"Preference of ECLP over PL is {g_pl_eclp:.3f} sigmas\")\n",
    "\n",
    "print(f\"p-vaue of BPL over PL is {p_pl_bpl:.3e}\")\n",
    "print(f\"p-vaue of SBPL over PL is {p_pl_sbpl:.3e}\")\n",
    "print(f\"p-vaue of ECPL over PL is {p_pl_ecpl:.3e}\")\n",
    "print(f\"p-vaue of ECPL2 over PL is {p_pl_ecpl2:.3e}\")\n",
    "print(f\"p-vaue of SECPL over PL is {p_pl_secpl:.3e}\")\n",
    "print(f\"p-vaue of LP over PL is {p_pl_lp:.3e}\")\n",
    "print(f\"p-vaue of LP over ECPL is {p_pl_eclp:.3e}\")"
   ]
  },
  {
   "cell_type": "code",
   "execution_count": null,
   "id": "dd88f5fa",
   "metadata": {},
   "outputs": [],
   "source": []
  },
  {
   "cell_type": "code",
   "execution_count": null,
   "id": "826fc82a",
   "metadata": {},
   "outputs": [],
   "source": [
    "list_stat = np.array([\n",
    "    analysis_pl.instrument_spectral_info[\"best_fit_stat\"],\n",
    "    analysis_bpl.instrument_spectral_info[\"best_fit_stat\"],\n",
    "    analysis_sbpl.instrument_spectral_info[\"best_fit_stat\"],\n",
    "    analysis_ecpl.instrument_spectral_info[\"best_fit_stat\"],\n",
    "    analysis_ecpl2.instrument_spectral_info[\"best_fit_stat\"],\n",
    "    analysis_secpl.instrument_spectral_info[\"best_fit_stat\"],\n",
    "    analysis_lp.instrument_spectral_info[\"best_fit_stat\"],\n",
    "    analysis_eclp.instrument_spectral_info[\"best_fit_stat\"],\n",
    "])\n",
    "\n",
    "list_dof = np.array([\n",
    "    analysis_pl.instrument_spectral_info['DoF'],\n",
    "    analysis_bpl.instrument_spectral_info['DoF'],\n",
    "    analysis_sbpl.instrument_spectral_info['DoF'],\n",
    "    analysis_ecpl.instrument_spectral_info['DoF'],\n",
    "    analysis_ecpl2.instrument_spectral_info['DoF'],\n",
    "    analysis_secpl.instrument_spectral_info['DoF'],\n",
    "    analysis_lp.instrument_spectral_info['DoF'],\n",
    "    analysis_eclp.instrument_spectral_info['DoF'],\n",
    "])"
   ]
  },
  {
   "cell_type": "code",
   "execution_count": null,
   "id": "106ad3da",
   "metadata": {},
   "outputs": [],
   "source": [
    "list_rel_p = check_model_preference_aic(list_stat, list_dof)\n",
    "print(f\"Relative likelihood for PL: {list_rel_p[0]}\")\n",
    "print(f\"Relative likelihood for BPL: {list_rel_p[1]}\")\n",
    "print(f\"Relative likelihood for SBPL: {list_rel_p[2]}\")\n",
    "print(f\"Relative likelihood for ECPL: {list_rel_p[3]}\")\n",
    "print(f\"Relative likelihood for ECPL2: {list_rel_p[4]}\")\n",
    "print(f\"Relative likelihood for SECPL: {list_rel_p[5]}\")\n",
    "print(f\"Relative likelihood for LP: {list_rel_p[6]}\")\n",
    "print(f\"Relative likelihood for ECLP: {list_rel_p[7]}\")\n",
    "\n",
    "# Significantly preferred model is when relative likelihood value is > 0.95"
   ]
  },
  {
   "cell_type": "code",
   "execution_count": null,
   "id": "96708493",
   "metadata": {
    "scrolled": true
   },
   "outputs": [],
   "source": []
  },
  {
   "cell_type": "code",
   "execution_count": null,
   "id": "b5e21241",
   "metadata": {},
   "outputs": [],
   "source": []
  }
 ],
 "metadata": {
  "kernelspec": {
   "display_name": "asgardpy",
   "language": "python",
   "name": "asgardpy"
  },
  "language_info": {
   "codemirror_mode": {
    "name": "ipython",
    "version": 3
   },
   "file_extension": ".py",
   "mimetype": "text/x-python",
   "name": "python",
   "nbconvert_exporter": "python",
   "pygments_lexer": "ipython3",
   "version": "3.11.4"
  }
 },
 "nbformat": 4,
 "nbformat_minor": 5
}
