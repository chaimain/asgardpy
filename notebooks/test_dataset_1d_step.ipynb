{
 "cells": [
  {
   "cell_type": "code",
   "execution_count": 1,
   "id": "f64f4918",
   "metadata": {},
   "outputs": [],
   "source": [
    "from asgardpy.analysis import AsgardpyAnalysis\n",
    "from asgardpy.config import AsgardpyConfig\n",
    "from gammapy.modeling.models import Models\n",
    "from gammapy.maps import Map\n",
    "from gammapy.data import DataStore\n",
    "import matplotlib.pyplot as plt\n",
    "import numpy as np\n",
    "\n",
    "import astropy.units as u\n",
    "import logging"
   ]
  },
  {
   "cell_type": "code",
   "execution_count": 2,
   "id": "bfdf8e6f",
   "metadata": {},
   "outputs": [],
   "source": [
    "from asgardpy.data.dataset_1d import Dataset1DGeneration\n",
    "from asgardpy.io.io import DL3Files"
   ]
  },
  {
   "cell_type": "code",
   "execution_count": null,
   "id": "da9332b2",
   "metadata": {},
   "outputs": [],
   "source": []
  },
  {
   "cell_type": "code",
   "execution_count": 3,
   "id": "f0eeb377",
   "metadata": {},
   "outputs": [],
   "source": [
    "log = logging.getLogger(\"test 1d dataset\")"
   ]
  },
  {
   "cell_type": "code",
   "execution_count": 4,
   "id": "a210c361",
   "metadata": {},
   "outputs": [],
   "source": [
    "base_dir = \"/fefs/aswg/workspace/chaitanya.priyadarshi/\"\n",
    "config_file = base_dir + \"analyze_pg1553_full.yaml\"\n",
    "output_dir = base_dir + \"real_data/AGN/PG1553/v09x/tailcut84/DL3/interp_irf_en_dep/no_tuning/geff_80/teff_80/20220511_dec931/joint_fit/\""
   ]
  },
  {
   "cell_type": "code",
   "execution_count": 5,
   "id": "47637409",
   "metadata": {},
   "outputs": [],
   "source": [
    "config = AsgardpyConfig()"
   ]
  },
  {
   "cell_type": "code",
   "execution_count": 6,
   "id": "6b86c162",
   "metadata": {},
   "outputs": [
    {
     "name": "stdout",
     "output_type": "stream",
     "text": [
      "CPU times: user 33.8 ms, sys: 4.53 ms, total: 38.3 ms\n",
      "Wall time: 36.5 ms\n"
     ]
    }
   ],
   "source": [
    "%%time\n",
    "config_main = config.read(config_file)"
   ]
  },
  {
   "cell_type": "code",
   "execution_count": 7,
   "id": "ebbaf8bb",
   "metadata": {},
   "outputs": [
    {
     "name": "stdout",
     "output_type": "stream",
     "text": [
      "('log', LogConfig(level='info', filename=None, filemode=None, format=None, datefmt=None))\n",
      "('outdir', '/fefs/aswg/workspace/chaitanya.priyadarshi/real_data/AGN/PG1553/v09x/tailcut84/DL3/interp_irf_en_dep/no_tuning/geff_80/teff_80/20220511_dec931/joint_fit/')\n",
      "('n_jobs', 1)\n",
      "('steps', [<AnalysisStepEnum.datasets_3d: 'datasets-3d'>, <AnalysisStepEnum.datasets_1d: 'datasets-1d'>, <AnalysisStepEnum.fit: 'fit'>, <AnalysisStepEnum.flux_points: 'flux-points'>])\n",
      "('overwrite', True)\n",
      "('stacked_dataset', True)\n"
     ]
    }
   ],
   "source": [
    "for g in config_main.general:\n",
    "    print(g)"
   ]
  },
  {
   "cell_type": "markdown",
   "id": "bcf370f2",
   "metadata": {},
   "source": [
    "# Steps mentioned in the main config file"
   ]
  },
  {
   "cell_type": "code",
   "execution_count": 8,
   "id": "95986b77",
   "metadata": {},
   "outputs": [
    {
     "data": {
      "text/plain": [
       "[<AnalysisStepEnum.datasets_3d: 'datasets-3d'>,\n",
       " <AnalysisStepEnum.datasets_1d: 'datasets-1d'>,\n",
       " <AnalysisStepEnum.fit: 'fit'>,\n",
       " <AnalysisStepEnum.flux_points: 'flux-points'>]"
      ]
     },
     "execution_count": 8,
     "metadata": {},
     "output_type": "execute_result"
    }
   ],
   "source": [
    "config_main.general.steps"
   ]
  },
  {
   "cell_type": "markdown",
   "id": "7c32501c",
   "metadata": {},
   "source": [
    "# Target source information"
   ]
  },
  {
   "cell_type": "code",
   "execution_count": 9,
   "id": "1cfcad52",
   "metadata": {},
   "outputs": [
    {
     "name": "stdout",
     "output_type": "stream",
     "text": [
      "('source_name', 'PG1553+113')\n",
      "('sky_position', SkyCoordConfig(frame=<FrameEnum.icrs: 'icrs'>, lon=<Angle 238.92934976 deg>, lat=<Angle 11.19010155 deg>))\n",
      "('use_uniform_position', True)\n",
      "('models_file', None)\n",
      "('extended', False)\n",
      "('components', SkyModelComponent(name='PG1553+113', type='SkyModel', spectral=SpectralModelConfig(model_name='LogParabola', type='LogParabolaSpectralModel', parameters=[ModelParams(name='amplitude', value=1e-05, unit='cm-2 s-1 TeV-1', error=1.5e-06, min=1e-13, max=0.01, frozen=False), ModelParams(name='reference', value=0.0015, unit='TeV', error=0.0, min=0.0001, max=100.0, frozen=True), ModelParams(name='alpha', value=1.5, unit='', error=0.1, min=0.5, max=5.0, frozen=False), ModelParams(name='beta', value=0.1, unit='', error=0.01, min=1e-06, max=1.0, frozen=False)], ebl_abs=EBLAbsorptionModel(model_name='dominguez', type='EBLAbsorptionNormSpectralModel', redshift=0.433, alpha_norm=1.0)), spatial=SpatialModelConfig(model_name=None, type=None, parameters=[ModelParams(name=None, value=None, unit=None, error=None, min=None, max=None, frozen=True)])))\n",
      "('covariance', 'None')\n",
      "('from_fermi', False)\n"
     ]
    }
   ],
   "source": [
    "for c in config_main.target:\n",
    "    print(c)"
   ]
  },
  {
   "cell_type": "markdown",
   "id": "ed73dc08",
   "metadata": {},
   "source": [
    "# 1D Datasets informations"
   ]
  },
  {
   "cell_type": "code",
   "execution_count": 10,
   "id": "511b096d",
   "metadata": {},
   "outputs": [
    {
     "name": "stdout",
     "output_type": "stream",
     "text": [
      "('type', <ReductionTypeEnum.spectrum: '1d'>)\n",
      "('instruments', [Dataset1DBaseConfig(name='LST-1', io=[InputConfig(type='lst-1', input_dir=PosixPath('/fefs/aswg/workspace/chaitanya.priyadarshi/real_data/AGN/PG1553/v09x/tailcut84/DL3/interp_irf_en_dep/no_tuning/geff_80/teff_80/20220511_dec931'), glob_pattern={'dl3': '202*/dl3*fits'})], dataset_info=Dataset1DInfoConfig(name='LST-1', geom=GeomConfig(wcs=WcsConfig(skydir=SkyCoordConfig(frame=None, lon=None, lat=None), binsize=<Angle 0.02 deg>, final_frame=FinalFrameConfig(width=<Angle 5. deg>, height=<Angle 5. deg>), binsize_irf=<Angle 0.2 deg>), selection=SelectionConfig(offset_max=<Angle 2.5 deg>), axes=EnergyAxesConfig(energy=EnergyAxisConfig(min=<Quantity 10. GeV>, max=<Quantity 10. TeV>, nbins=5), energy_true=EnergyAxisConfig(min=<Quantity 10. GeV>, max=<Quantity 10. TeV>, nbins=5))), observation=ObservationsConfig(obs_ids=[], obs_file=None, obs_time=TimeIntervalsConfig(format=<TimeFormatEnum.iso: 'iso'>, intervals=[TimeRangeConfig(start=<Time object: scale='utc' format='iso' value=2021-04-01 00:00:00.000>, stop=<Time object: scale='utc' format='iso' value=2022-05-25 00:00:00.000>)]), required_irfs=[<RequiredHDUEnum.aeff: 'aeff'>, <RequiredHDUEnum.edisp: 'edisp'>, <RequiredHDUEnum.rad_max: 'rad_max'>]), background=BackgroundConfig(method=<BackgroundMethodEnum.reflected: 'reflected'>, region_finder_method=<BackgroundRegionFinderMethodEnum.wobble: 'wobble'>, parameters={'n_off_regions': 1}, exclusion={'name': 'None', 'position': {'frame': 'galactic', 'lon': '183.604 deg', 'lat': '-8.708 deg'}, 'region_radius': '0.5 deg'}), safe_mask=SafeMaskConfig(methods=[<SafeMaskMethodsEnum.custom_mask: 'custom-mask'>], parameters={'min': '10 GeV', 'max': '1 TeV', 'aeff_percent': 10, 'bias_percent': 10, 'fixed_offset': '0.1 deg', 'offset_max': '3 deg', 'position': {'frame': 'icrs', 'lon': '238.92934976 deg', 'lat': '11.19010155 deg'}}), on_region=SpatialPointConfig(frame=<FrameEnum.icrs: 'icrs'>, lon=<Angle 238.92934976 deg>, lat=<Angle 11.19010155 deg>), containment_correction=False, map_selection=[<MapSelectionEnum.counts: 'counts'>, <MapSelectionEnum.exposure: 'exposure'>, <MapSelectionEnum.edisp: 'edisp'>], spectral_energy_range=EnergyAxisConfig(min=<Quantity 10. GeV>, max=<Quantity 10. TeV>, nbins=5)))])\n"
     ]
    }
   ],
   "source": [
    "for cc in config_main.dataset1d:\n",
    "    print(cc)"
   ]
  },
  {
   "cell_type": "code",
   "execution_count": null,
   "id": "13dcacb0",
   "metadata": {},
   "outputs": [],
   "source": []
  },
  {
   "cell_type": "code",
   "execution_count": 11,
   "id": "b7ffc23d",
   "metadata": {},
   "outputs": [
    {
     "name": "stderr",
     "output_type": "stream",
     "text": [
      "Setting logging config: {'level': 'INFO', 'filename': None, 'filemode': None, 'format': None, 'datefmt': None}\n"
     ]
    },
    {
     "name": "stdout",
     "output_type": "stream",
     "text": [
      "CPU times: user 1.92 ms, sys: 0 ns, total: 1.92 ms\n",
      "Wall time: 1.63 ms\n"
     ]
    }
   ],
   "source": [
    "%%time\n",
    "analysis = AsgardpyAnalysis(config_main)"
   ]
  },
  {
   "cell_type": "code",
   "execution_count": 12,
   "id": "06882af8",
   "metadata": {},
   "outputs": [
    {
     "data": {
      "text/plain": [
       "<asgardpy.analysis.analysis.AsgardpyAnalysis at 0x7fb6b2875af0>"
      ]
     },
     "execution_count": 12,
     "metadata": {},
     "output_type": "execute_result"
    }
   ],
   "source": [
    "analysis"
   ]
  },
  {
   "cell_type": "code",
   "execution_count": null,
   "id": "59b16d40",
   "metadata": {},
   "outputs": [],
   "source": []
  },
  {
   "cell_type": "markdown",
   "id": "b07061ff",
   "metadata": {},
   "source": [
    "# Prepare for a single 1D Dataset, based on instrument"
   ]
  },
  {
   "cell_type": "code",
   "execution_count": 13,
   "id": "d106b41c",
   "metadata": {},
   "outputs": [
    {
     "name": "stdout",
     "output_type": "stream",
     "text": [
      "1 number of 1D dataset information provided\n",
      "Instrument selected is LST-1\n"
     ]
    }
   ],
   "source": [
    "instruments_list = config_main.dataset1d.instruments\n",
    "print(len(instruments_list), \"number of 1D dataset information provided\")\n",
    "\n",
    "config_1d_dataset = instruments_list[0]\n",
    "print(f\"Instrument selected is {config_1d_dataset.name}\")"
   ]
  },
  {
   "cell_type": "markdown",
   "id": "9de4cddd",
   "metadata": {},
   "source": [
    "# Run each Dataset1DGeneration step"
   ]
  },
  {
   "cell_type": "code",
   "execution_count": 14,
   "id": "6e9f4954",
   "metadata": {},
   "outputs": [
    {
     "name": "stdout",
     "output_type": "stream",
     "text": [
      "CPU times: user 12 µs, sys: 15 µs, total: 27 µs\n",
      "Wall time: 33.9 µs\n"
     ]
    }
   ],
   "source": [
    "%%time\n",
    "generate_1d_dataset = Dataset1DGeneration(\n",
    "    log, config_1d_dataset, config_main.target\n",
    ")"
   ]
  },
  {
   "cell_type": "code",
   "execution_count": null,
   "id": "a4842498",
   "metadata": {},
   "outputs": [],
   "source": []
  },
  {
   "cell_type": "markdown",
   "id": "25600366",
   "metadata": {},
   "source": [
    "# Initialized variables"
   ]
  },
  {
   "cell_type": "code",
   "execution_count": 15,
   "id": "08864d18",
   "metadata": {},
   "outputs": [
    {
     "name": "stdout",
     "output_type": "stream",
     "text": [
      "[InputConfig(type='lst-1', input_dir=PosixPath('/fefs/aswg/workspace/chaitanya.priyadarshi/real_data/AGN/PG1553/v09x/tailcut84/DL3/interp_irf_en_dep/no_tuning/geff_80/teff_80/20220511_dec931'), glob_pattern={'dl3': '202*/dl3*fits'})]\n"
     ]
    }
   ],
   "source": [
    "print(generate_1d_dataset.config_1d_dataset_io)"
   ]
  },
  {
   "cell_type": "code",
   "execution_count": 16,
   "id": "12e0c556",
   "metadata": {},
   "outputs": [
    {
     "name": "stdout",
     "output_type": "stream",
     "text": [
      "name='LST-1' geom=GeomConfig(wcs=WcsConfig(skydir=SkyCoordConfig(frame=None, lon=None, lat=None), binsize=<Angle 0.02 deg>, final_frame=FinalFrameConfig(width=<Angle 5. deg>, height=<Angle 5. deg>), binsize_irf=<Angle 0.2 deg>), selection=SelectionConfig(offset_max=<Angle 2.5 deg>), axes=EnergyAxesConfig(energy=EnergyAxisConfig(min=<Quantity 10. GeV>, max=<Quantity 10. TeV>, nbins=5), energy_true=EnergyAxisConfig(min=<Quantity 10. GeV>, max=<Quantity 10. TeV>, nbins=5))) observation=ObservationsConfig(obs_ids=[], obs_file=None, obs_time=TimeIntervalsConfig(format=<TimeFormatEnum.iso: 'iso'>, intervals=[TimeRangeConfig(start=<Time object: scale='utc' format='iso' value=2021-04-01 00:00:00.000>, stop=<Time object: scale='utc' format='iso' value=2022-05-25 00:00:00.000>)]), required_irfs=[<RequiredHDUEnum.aeff: 'aeff'>, <RequiredHDUEnum.edisp: 'edisp'>, <RequiredHDUEnum.rad_max: 'rad_max'>]) background=BackgroundConfig(method=<BackgroundMethodEnum.reflected: 'reflected'>, region_finder_method=<BackgroundRegionFinderMethodEnum.wobble: 'wobble'>, parameters={'n_off_regions': 1}, exclusion={'name': 'None', 'position': {'frame': 'galactic', 'lon': '183.604 deg', 'lat': '-8.708 deg'}, 'region_radius': '0.5 deg'}) safe_mask=SafeMaskConfig(methods=[<SafeMaskMethodsEnum.custom_mask: 'custom-mask'>], parameters={'min': '10 GeV', 'max': '1 TeV', 'aeff_percent': 10, 'bias_percent': 10, 'fixed_offset': '0.1 deg', 'offset_max': '3 deg', 'position': {'frame': 'icrs', 'lon': '238.92934976 deg', 'lat': '11.19010155 deg'}}) on_region=SpatialPointConfig(frame=<FrameEnum.icrs: 'icrs'>, lon=<Angle 238.92934976 deg>, lat=<Angle 11.19010155 deg>) containment_correction=False map_selection=[<MapSelectionEnum.counts: 'counts'>, <MapSelectionEnum.exposure: 'exposure'>, <MapSelectionEnum.edisp: 'edisp'>] spectral_energy_range=EnergyAxisConfig(min=<Quantity 10. GeV>, max=<Quantity 10. TeV>, nbins=5)\n"
     ]
    }
   ],
   "source": [
    "print(generate_1d_dataset.config_1d_dataset_info)"
   ]
  },
  {
   "cell_type": "code",
   "execution_count": 17,
   "id": "69605232",
   "metadata": {},
   "outputs": [
    {
     "name": "stdout",
     "output_type": "stream",
     "text": [
      "source_name='PG1553+113' sky_position=SkyCoordConfig(frame=<FrameEnum.icrs: 'icrs'>, lon=<Angle 238.92934976 deg>, lat=<Angle 11.19010155 deg>) use_uniform_position=True models_file=None extended=False components=SkyModelComponent(name='PG1553+113', type='SkyModel', spectral=SpectralModelConfig(model_name='LogParabola', type='LogParabolaSpectralModel', parameters=[ModelParams(name='amplitude', value=1e-05, unit='cm-2 s-1 TeV-1', error=1.5e-06, min=1e-13, max=0.01, frozen=False), ModelParams(name='reference', value=0.0015, unit='TeV', error=0.0, min=0.0001, max=100.0, frozen=True), ModelParams(name='alpha', value=1.5, unit='', error=0.1, min=0.5, max=5.0, frozen=False), ModelParams(name='beta', value=0.1, unit='', error=0.01, min=1e-06, max=1.0, frozen=False)], ebl_abs=EBLAbsorptionModel(model_name='dominguez', type='EBLAbsorptionNormSpectralModel', redshift=0.433, alpha_norm=1.0)), spatial=SpatialModelConfig(model_name=None, type=None, parameters=[ModelParams(name=None, value=None, unit=None, error=None, min=None, max=None, frozen=True)])) covariance='None' from_fermi=False\n"
     ]
    }
   ],
   "source": [
    "print(generate_1d_dataset.config_target)"
   ]
  },
  {
   "cell_type": "code",
   "execution_count": 18,
   "id": "244916fd",
   "metadata": {},
   "outputs": [
    {
     "name": "stdout",
     "output_type": "stream",
     "text": [
      "type='lst-1' input_dir=PosixPath('/fefs/aswg/workspace/chaitanya.priyadarshi/real_data/AGN/PG1553/v09x/tailcut84/DL3/interp_irf_en_dep/no_tuning/geff_80/teff_80/20220511_dec931') glob_pattern={'dl3': '202*/dl3*fits'}\n"
     ]
    }
   ],
   "source": [
    "print(generate_1d_dataset.dl3_dir_dict)"
   ]
  },
  {
   "cell_type": "code",
   "execution_count": 19,
   "id": "bc5deb31",
   "metadata": {},
   "outputs": [
    {
     "name": "stdout",
     "output_type": "stream",
     "text": [
      "model_name='LogParabola' type='LogParabolaSpectralModel' parameters=[ModelParams(name='amplitude', value=1e-05, unit='cm-2 s-1 TeV-1', error=1.5e-06, min=1e-13, max=0.01, frozen=False), ModelParams(name='reference', value=0.0015, unit='TeV', error=0.0, min=0.0001, max=100.0, frozen=True), ModelParams(name='alpha', value=1.5, unit='', error=0.1, min=0.5, max=5.0, frozen=False), ModelParams(name='beta', value=0.1, unit='', error=0.01, min=1e-06, max=1.0, frozen=False)] ebl_abs=EBLAbsorptionModel(model_name='dominguez', type='EBLAbsorptionNormSpectralModel', redshift=0.433, alpha_norm=1.0)\n"
     ]
    }
   ],
   "source": [
    "print(generate_1d_dataset.model)"
   ]
  },
  {
   "cell_type": "code",
   "execution_count": null,
   "id": "a906e73d",
   "metadata": {},
   "outputs": [],
   "source": []
  },
  {
   "cell_type": "markdown",
   "id": "651c1128",
   "metadata": {},
   "source": [
    "### First check for the given file list if they are readable or not."
   ]
  },
  {
   "cell_type": "code",
   "execution_count": 20,
   "id": "5025f9d9",
   "metadata": {},
   "outputs": [
    {
     "name": "stdout",
     "output_type": "stream",
     "text": [
      "CPU times: user 0 ns, sys: 869 µs, total: 869 µs\n",
      "Wall time: 1.14 ms\n"
     ]
    }
   ],
   "source": [
    "%%time\n",
    "file_list = {}\n",
    "dl3_info = DL3Files(\n",
    "    generate_1d_dataset.dl3_dir_dict, \n",
    "    generate_1d_dataset.model, \n",
    "    file_list, \n",
    "    log=generate_1d_dataset.log\n",
    ")"
   ]
  },
  {
   "cell_type": "code",
   "execution_count": 21,
   "id": "747ea551",
   "metadata": {},
   "outputs": [
    {
     "data": {
      "text/plain": [
       "<asgardpy.io.io.DL3Files at 0x7fb6b2855ee0>"
      ]
     },
     "execution_count": 21,
     "metadata": {},
     "output_type": "execute_result"
    }
   ],
   "source": [
    "dl3_info"
   ]
  },
  {
   "cell_type": "code",
   "execution_count": 22,
   "id": "5031b3b8",
   "metadata": {
    "scrolled": true
   },
   "outputs": [
    {
     "name": "stderr",
     "output_type": "stream",
     "text": [
      "The list of DL3 files for LST-1 selected: [PosixPath('/fefs/aswg/workspace/chaitanya.priyadarshi/real_data/AGN/PG1553/v09x/tailcut84/DL3/interp_irf_en_dep/no_tuning/geff_80/teff_80/20220511_dec931/20210407/dl3_LST-1.Run04333.fits'), PosixPath('/fefs/aswg/workspace/chaitanya.priyadarshi/real_data/AGN/PG1553/v09x/tailcut84/DL3/interp_irf_en_dep/no_tuning/geff_80/teff_80/20220511_dec931/20210407/dl3_LST-1.Run04334.fits'), PosixPath('/fefs/aswg/workspace/chaitanya.priyadarshi/real_data/AGN/PG1553/v09x/tailcut84/DL3/interp_irf_en_dep/no_tuning/geff_80/teff_80/20220511_dec931/20210407/dl3_LST-1.Run04335.fits'), PosixPath('/fefs/aswg/workspace/chaitanya.priyadarshi/real_data/AGN/PG1553/v09x/tailcut84/DL3/interp_irf_en_dep/no_tuning/geff_80/teff_80/20220511_dec931/20210407/dl3_LST-1.Run04336.fits'), PosixPath('/fefs/aswg/workspace/chaitanya.priyadarshi/real_data/AGN/PG1553/v09x/tailcut84/DL3/interp_irf_en_dep/no_tuning/geff_80/teff_80/20220511_dec931/20210408/dl3_LST-1.Run04343.fits'), PosixPath('/fefs/aswg/workspace/chaitanya.priyadarshi/real_data/AGN/PG1553/v09x/tailcut84/DL3/interp_irf_en_dep/no_tuning/geff_80/teff_80/20220511_dec931/20210408/dl3_LST-1.Run04344.fits'), PosixPath('/fefs/aswg/workspace/chaitanya.priyadarshi/real_data/AGN/PG1553/v09x/tailcut84/DL3/interp_irf_en_dep/no_tuning/geff_80/teff_80/20220511_dec931/20210410/dl3_LST-1.Run04363.fits'), PosixPath('/fefs/aswg/workspace/chaitanya.priyadarshi/real_data/AGN/PG1553/v09x/tailcut84/DL3/interp_irf_en_dep/no_tuning/geff_80/teff_80/20220511_dec931/20210410/dl3_LST-1.Run04364.fits'), PosixPath('/fefs/aswg/workspace/chaitanya.priyadarshi/real_data/AGN/PG1553/v09x/tailcut84/DL3/interp_irf_en_dep/no_tuning/geff_80/teff_80/20220511_dec931/20210410/dl3_LST-1.Run04365.fits'), PosixPath('/fefs/aswg/workspace/chaitanya.priyadarshi/real_data/AGN/PG1553/v09x/tailcut84/DL3/interp_irf_en_dep/no_tuning/geff_80/teff_80/20220511_dec931/20210410/dl3_LST-1.Run04366.fits'), PosixPath('/fefs/aswg/workspace/chaitanya.priyadarshi/real_data/AGN/PG1553/v09x/tailcut84/DL3/interp_irf_en_dep/no_tuning/geff_80/teff_80/20220511_dec931/20210410/dl3_LST-1.Run04367.fits'), PosixPath('/fefs/aswg/workspace/chaitanya.priyadarshi/real_data/AGN/PG1553/v09x/tailcut84/DL3/interp_irf_en_dep/no_tuning/geff_80/teff_80/20220511_dec931/20210410/dl3_LST-1.Run04368.fits'), PosixPath('/fefs/aswg/workspace/chaitanya.priyadarshi/real_data/AGN/PG1553/v09x/tailcut84/DL3/interp_irf_en_dep/no_tuning/geff_80/teff_80/20220511_dec931/20210420/dl3_LST-1.Run04514.fits'), PosixPath('/fefs/aswg/workspace/chaitanya.priyadarshi/real_data/AGN/PG1553/v09x/tailcut84/DL3/interp_irf_en_dep/no_tuning/geff_80/teff_80/20220511_dec931/20210420/dl3_LST-1.Run04515.fits'), PosixPath('/fefs/aswg/workspace/chaitanya.priyadarshi/real_data/AGN/PG1553/v09x/tailcut84/DL3/interp_irf_en_dep/no_tuning/geff_80/teff_80/20220511_dec931/20210508/dl3_LST-1.Run04652.fits'), PosixPath('/fefs/aswg/workspace/chaitanya.priyadarshi/real_data/AGN/PG1553/v09x/tailcut84/DL3/interp_irf_en_dep/no_tuning/geff_80/teff_80/20220511_dec931/20210508/dl3_LST-1.Run04653.fits'), PosixPath('/fefs/aswg/workspace/chaitanya.priyadarshi/real_data/AGN/PG1553/v09x/tailcut84/DL3/interp_irf_en_dep/no_tuning/geff_80/teff_80/20220511_dec931/20210508/dl3_LST-1.Run04654.fits'), PosixPath('/fefs/aswg/workspace/chaitanya.priyadarshi/real_data/AGN/PG1553/v09x/tailcut84/DL3/interp_irf_en_dep/no_tuning/geff_80/teff_80/20220511_dec931/20210604/dl3_LST-1.Run04902.fits'), PosixPath('/fefs/aswg/workspace/chaitanya.priyadarshi/real_data/AGN/PG1553/v09x/tailcut84/DL3/interp_irf_en_dep/no_tuning/geff_80/teff_80/20220511_dec931/20210604/dl3_LST-1.Run04903.fits'), PosixPath('/fefs/aswg/workspace/chaitanya.priyadarshi/real_data/AGN/PG1553/v09x/tailcut84/DL3/interp_irf_en_dep/no_tuning/geff_80/teff_80/20220511_dec931/20210604/dl3_LST-1.Run04904.fits'), PosixPath('/fefs/aswg/workspace/chaitanya.priyadarshi/real_data/AGN/PG1553/v09x/tailcut84/DL3/interp_irf_en_dep/no_tuning/geff_80/teff_80/20220511_dec931/20210604/dl3_LST-1.Run04905.fits'), PosixPath('/fefs/aswg/workspace/chaitanya.priyadarshi/real_data/AGN/PG1553/v09x/tailcut84/DL3/interp_irf_en_dep/no_tuning/geff_80/teff_80/20220511_dec931/20210605/dl3_LST-1.Run04930.fits'), PosixPath('/fefs/aswg/workspace/chaitanya.priyadarshi/real_data/AGN/PG1553/v09x/tailcut84/DL3/interp_irf_en_dep/no_tuning/geff_80/teff_80/20220511_dec931/20210606/dl3_LST-1.Run04940.fits'), PosixPath('/fefs/aswg/workspace/chaitanya.priyadarshi/real_data/AGN/PG1553/v09x/tailcut84/DL3/interp_irf_en_dep/no_tuning/geff_80/teff_80/20220511_dec931/20210606/dl3_LST-1.Run04941.fits'), PosixPath('/fefs/aswg/workspace/chaitanya.priyadarshi/real_data/AGN/PG1553/v09x/tailcut84/DL3/interp_irf_en_dep/no_tuning/geff_80/teff_80/20220511_dec931/20210606/dl3_LST-1.Run04942.fits'), PosixPath('/fefs/aswg/workspace/chaitanya.priyadarshi/real_data/AGN/PG1553/v09x/tailcut84/DL3/interp_irf_en_dep/no_tuning/geff_80/teff_80/20220511_dec931/20210606/dl3_LST-1.Run04943.fits'), PosixPath('/fefs/aswg/workspace/chaitanya.priyadarshi/real_data/AGN/PG1553/v09x/tailcut84/DL3/interp_irf_en_dep/no_tuning/geff_80/teff_80/20220511_dec931/20220228/dl3_LST-1.Run07153.fits'), PosixPath('/fefs/aswg/workspace/chaitanya.priyadarshi/real_data/AGN/PG1553/v09x/tailcut84/DL3/interp_irf_en_dep/no_tuning/geff_80/teff_80/20220511_dec931/20220228/dl3_LST-1.Run07154.fits'), PosixPath('/fefs/aswg/workspace/chaitanya.priyadarshi/real_data/AGN/PG1553/v09x/tailcut84/DL3/interp_irf_en_dep/no_tuning/geff_80/teff_80/20220511_dec931/20220501/dl3_LST-1.Run08059.fits'), PosixPath('/fefs/aswg/workspace/chaitanya.priyadarshi/real_data/AGN/PG1553/v09x/tailcut84/DL3/interp_irf_en_dep/no_tuning/geff_80/teff_80/20220511_dec931/20220501/dl3_LST-1.Run08060.fits'), PosixPath('/fefs/aswg/workspace/chaitanya.priyadarshi/real_data/AGN/PG1553/v09x/tailcut84/DL3/interp_irf_en_dep/no_tuning/geff_80/teff_80/20220511_dec931/20220501/dl3_LST-1.Run08061.fits'), PosixPath('/fefs/aswg/workspace/chaitanya.priyadarshi/real_data/AGN/PG1553/v09x/tailcut84/DL3/interp_irf_en_dep/no_tuning/geff_80/teff_80/20220511_dec931/20220501/dl3_LST-1.Run08062.fits'), PosixPath('/fefs/aswg/workspace/chaitanya.priyadarshi/real_data/AGN/PG1553/v09x/tailcut84/DL3/interp_irf_en_dep/no_tuning/geff_80/teff_80/20220511_dec931/20220501/dl3_LST-1.Run08063.fits'), PosixPath('/fefs/aswg/workspace/chaitanya.priyadarshi/real_data/AGN/PG1553/v09x/tailcut84/DL3/interp_irf_en_dep/no_tuning/geff_80/teff_80/20220511_dec931/20220501/dl3_LST-1.Run08064.fits'), PosixPath('/fefs/aswg/workspace/chaitanya.priyadarshi/real_data/AGN/PG1553/v09x/tailcut84/DL3/interp_irf_en_dep/no_tuning/geff_80/teff_80/20220511_dec931/20220520/dl3_LST-1.Run08377.fits'), PosixPath('/fefs/aswg/workspace/chaitanya.priyadarshi/real_data/AGN/PG1553/v09x/tailcut84/DL3/interp_irf_en_dep/no_tuning/geff_80/teff_80/20220511_dec931/20220520/dl3_LST-1.Run08378.fits'), PosixPath('/fefs/aswg/workspace/chaitanya.priyadarshi/real_data/AGN/PG1553/v09x/tailcut84/DL3/interp_irf_en_dep/no_tuning/geff_80/teff_80/20220511_dec931/20220520/dl3_LST-1.Run08379.fits'), PosixPath('/fefs/aswg/workspace/chaitanya.priyadarshi/real_data/AGN/PG1553/v09x/tailcut84/DL3/interp_irf_en_dep/no_tuning/geff_80/teff_80/20220511_dec931/20220523/dl3_LST-1.Run08424.fits'), PosixPath('/fefs/aswg/workspace/chaitanya.priyadarshi/real_data/AGN/PG1553/v09x/tailcut84/DL3/interp_irf_en_dep/no_tuning/geff_80/teff_80/20220511_dec931/20220523/dl3_LST-1.Run08425.fits'), PosixPath('/fefs/aswg/workspace/chaitanya.priyadarshi/real_data/AGN/PG1553/v09x/tailcut84/DL3/interp_irf_en_dep/no_tuning/geff_80/teff_80/20220511_dec931/20220617/dl3_LST-1.Run08786.fits'), PosixPath('/fefs/aswg/workspace/chaitanya.priyadarshi/real_data/AGN/PG1553/v09x/tailcut84/DL3/interp_irf_en_dep/no_tuning/geff_80/teff_80/20220511_dec931/20220617/dl3_LST-1.Run08787.fits'), PosixPath('/fefs/aswg/workspace/chaitanya.priyadarshi/real_data/AGN/PG1553/v09x/tailcut84/DL3/interp_irf_en_dep/no_tuning/geff_80/teff_80/20220511_dec931/20230120/dl3_LST-1.Run11747.fits'), PosixPath('/fefs/aswg/workspace/chaitanya.priyadarshi/real_data/AGN/PG1553/v09x/tailcut84/DL3/interp_irf_en_dep/no_tuning/geff_80/teff_80/20220511_dec931/20230120/dl3_LST-1.Run11748.fits'), PosixPath('/fefs/aswg/workspace/chaitanya.priyadarshi/real_data/AGN/PG1553/v09x/tailcut84/DL3/interp_irf_en_dep/no_tuning/geff_80/teff_80/20220511_dec931/20230120/dl3_LST-1.Run11749.fits'), PosixPath('/fefs/aswg/workspace/chaitanya.priyadarshi/real_data/AGN/PG1553/v09x/tailcut84/DL3/interp_irf_en_dep/no_tuning/geff_80/teff_80/20220511_dec931/20230120/dl3_LST-1.Run11750.fits'), PosixPath('/fefs/aswg/workspace/chaitanya.priyadarshi/real_data/AGN/PG1553/v09x/tailcut84/DL3/interp_irf_en_dep/no_tuning/geff_80/teff_80/20220511_dec931/20230120/dl3_LST-1.Run11751.fits'), PosixPath('/fefs/aswg/workspace/chaitanya.priyadarshi/real_data/AGN/PG1553/v09x/tailcut84/DL3/interp_irf_en_dep/no_tuning/geff_80/teff_80/20220511_dec931/20230121/dl3_LST-1.Run11776.fits'), PosixPath('/fefs/aswg/workspace/chaitanya.priyadarshi/real_data/AGN/PG1553/v09x/tailcut84/DL3/interp_irf_en_dep/no_tuning/geff_80/teff_80/20220511_dec931/20230121/dl3_LST-1.Run11777.fits')]\n"
     ]
    },
    {
     "name": "stdout",
     "output_type": "stream",
     "text": [
      "CPU times: user 3.85 ms, sys: 7.84 ms, total: 11.7 ms\n",
      "Wall time: 14.4 ms\n"
     ]
    }
   ],
   "source": [
    "%%time\n",
    "dl3_info.list_dl3_files()"
   ]
  },
  {
   "cell_type": "code",
   "execution_count": 23,
   "id": "28a64bb3",
   "metadata": {
    "scrolled": true
   },
   "outputs": [
    {
     "name": "stdout",
     "output_type": "stream",
     "text": [
      "Reading from 48 DL3 files\n",
      "/fefs/aswg/workspace/chaitanya.priyadarshi/real_data/AGN/PG1553/v09x/tailcut84/DL3/interp_irf_en_dep/no_tuning/geff_80/teff_80/20220511_dec931/20210407/dl3_LST-1.Run04333.fits\n",
      "/fefs/aswg/workspace/chaitanya.priyadarshi/real_data/AGN/PG1553/v09x/tailcut84/DL3/interp_irf_en_dep/no_tuning/geff_80/teff_80/20220511_dec931/20210407/dl3_LST-1.Run04334.fits\n",
      "/fefs/aswg/workspace/chaitanya.priyadarshi/real_data/AGN/PG1553/v09x/tailcut84/DL3/interp_irf_en_dep/no_tuning/geff_80/teff_80/20220511_dec931/20210407/dl3_LST-1.Run04335.fits\n",
      "/fefs/aswg/workspace/chaitanya.priyadarshi/real_data/AGN/PG1553/v09x/tailcut84/DL3/interp_irf_en_dep/no_tuning/geff_80/teff_80/20220511_dec931/20210407/dl3_LST-1.Run04336.fits\n",
      "/fefs/aswg/workspace/chaitanya.priyadarshi/real_data/AGN/PG1553/v09x/tailcut84/DL3/interp_irf_en_dep/no_tuning/geff_80/teff_80/20220511_dec931/20210408/dl3_LST-1.Run04343.fits\n",
      "/fefs/aswg/workspace/chaitanya.priyadarshi/real_data/AGN/PG1553/v09x/tailcut84/DL3/interp_irf_en_dep/no_tuning/geff_80/teff_80/20220511_dec931/20210408/dl3_LST-1.Run04344.fits\n",
      "/fefs/aswg/workspace/chaitanya.priyadarshi/real_data/AGN/PG1553/v09x/tailcut84/DL3/interp_irf_en_dep/no_tuning/geff_80/teff_80/20220511_dec931/20210410/dl3_LST-1.Run04363.fits\n",
      "/fefs/aswg/workspace/chaitanya.priyadarshi/real_data/AGN/PG1553/v09x/tailcut84/DL3/interp_irf_en_dep/no_tuning/geff_80/teff_80/20220511_dec931/20210410/dl3_LST-1.Run04364.fits\n",
      "/fefs/aswg/workspace/chaitanya.priyadarshi/real_data/AGN/PG1553/v09x/tailcut84/DL3/interp_irf_en_dep/no_tuning/geff_80/teff_80/20220511_dec931/20210410/dl3_LST-1.Run04365.fits\n",
      "/fefs/aswg/workspace/chaitanya.priyadarshi/real_data/AGN/PG1553/v09x/tailcut84/DL3/interp_irf_en_dep/no_tuning/geff_80/teff_80/20220511_dec931/20210410/dl3_LST-1.Run04366.fits\n",
      "/fefs/aswg/workspace/chaitanya.priyadarshi/real_data/AGN/PG1553/v09x/tailcut84/DL3/interp_irf_en_dep/no_tuning/geff_80/teff_80/20220511_dec931/20210410/dl3_LST-1.Run04367.fits\n",
      "/fefs/aswg/workspace/chaitanya.priyadarshi/real_data/AGN/PG1553/v09x/tailcut84/DL3/interp_irf_en_dep/no_tuning/geff_80/teff_80/20220511_dec931/20210410/dl3_LST-1.Run04368.fits\n",
      "/fefs/aswg/workspace/chaitanya.priyadarshi/real_data/AGN/PG1553/v09x/tailcut84/DL3/interp_irf_en_dep/no_tuning/geff_80/teff_80/20220511_dec931/20210420/dl3_LST-1.Run04514.fits\n",
      "/fefs/aswg/workspace/chaitanya.priyadarshi/real_data/AGN/PG1553/v09x/tailcut84/DL3/interp_irf_en_dep/no_tuning/geff_80/teff_80/20220511_dec931/20210420/dl3_LST-1.Run04515.fits\n",
      "/fefs/aswg/workspace/chaitanya.priyadarshi/real_data/AGN/PG1553/v09x/tailcut84/DL3/interp_irf_en_dep/no_tuning/geff_80/teff_80/20220511_dec931/20210508/dl3_LST-1.Run04652.fits\n",
      "/fefs/aswg/workspace/chaitanya.priyadarshi/real_data/AGN/PG1553/v09x/tailcut84/DL3/interp_irf_en_dep/no_tuning/geff_80/teff_80/20220511_dec931/20210508/dl3_LST-1.Run04653.fits\n",
      "/fefs/aswg/workspace/chaitanya.priyadarshi/real_data/AGN/PG1553/v09x/tailcut84/DL3/interp_irf_en_dep/no_tuning/geff_80/teff_80/20220511_dec931/20210508/dl3_LST-1.Run04654.fits\n",
      "/fefs/aswg/workspace/chaitanya.priyadarshi/real_data/AGN/PG1553/v09x/tailcut84/DL3/interp_irf_en_dep/no_tuning/geff_80/teff_80/20220511_dec931/20210604/dl3_LST-1.Run04902.fits\n",
      "/fefs/aswg/workspace/chaitanya.priyadarshi/real_data/AGN/PG1553/v09x/tailcut84/DL3/interp_irf_en_dep/no_tuning/geff_80/teff_80/20220511_dec931/20210604/dl3_LST-1.Run04903.fits\n",
      "/fefs/aswg/workspace/chaitanya.priyadarshi/real_data/AGN/PG1553/v09x/tailcut84/DL3/interp_irf_en_dep/no_tuning/geff_80/teff_80/20220511_dec931/20210604/dl3_LST-1.Run04904.fits\n",
      "/fefs/aswg/workspace/chaitanya.priyadarshi/real_data/AGN/PG1553/v09x/tailcut84/DL3/interp_irf_en_dep/no_tuning/geff_80/teff_80/20220511_dec931/20210604/dl3_LST-1.Run04905.fits\n",
      "/fefs/aswg/workspace/chaitanya.priyadarshi/real_data/AGN/PG1553/v09x/tailcut84/DL3/interp_irf_en_dep/no_tuning/geff_80/teff_80/20220511_dec931/20210605/dl3_LST-1.Run04930.fits\n",
      "/fefs/aswg/workspace/chaitanya.priyadarshi/real_data/AGN/PG1553/v09x/tailcut84/DL3/interp_irf_en_dep/no_tuning/geff_80/teff_80/20220511_dec931/20210606/dl3_LST-1.Run04940.fits\n",
      "/fefs/aswg/workspace/chaitanya.priyadarshi/real_data/AGN/PG1553/v09x/tailcut84/DL3/interp_irf_en_dep/no_tuning/geff_80/teff_80/20220511_dec931/20210606/dl3_LST-1.Run04941.fits\n",
      "/fefs/aswg/workspace/chaitanya.priyadarshi/real_data/AGN/PG1553/v09x/tailcut84/DL3/interp_irf_en_dep/no_tuning/geff_80/teff_80/20220511_dec931/20210606/dl3_LST-1.Run04942.fits\n",
      "/fefs/aswg/workspace/chaitanya.priyadarshi/real_data/AGN/PG1553/v09x/tailcut84/DL3/interp_irf_en_dep/no_tuning/geff_80/teff_80/20220511_dec931/20210606/dl3_LST-1.Run04943.fits\n",
      "/fefs/aswg/workspace/chaitanya.priyadarshi/real_data/AGN/PG1553/v09x/tailcut84/DL3/interp_irf_en_dep/no_tuning/geff_80/teff_80/20220511_dec931/20220228/dl3_LST-1.Run07153.fits\n",
      "/fefs/aswg/workspace/chaitanya.priyadarshi/real_data/AGN/PG1553/v09x/tailcut84/DL3/interp_irf_en_dep/no_tuning/geff_80/teff_80/20220511_dec931/20220228/dl3_LST-1.Run07154.fits\n",
      "/fefs/aswg/workspace/chaitanya.priyadarshi/real_data/AGN/PG1553/v09x/tailcut84/DL3/interp_irf_en_dep/no_tuning/geff_80/teff_80/20220511_dec931/20220501/dl3_LST-1.Run08059.fits\n",
      "/fefs/aswg/workspace/chaitanya.priyadarshi/real_data/AGN/PG1553/v09x/tailcut84/DL3/interp_irf_en_dep/no_tuning/geff_80/teff_80/20220511_dec931/20220501/dl3_LST-1.Run08060.fits\n",
      "/fefs/aswg/workspace/chaitanya.priyadarshi/real_data/AGN/PG1553/v09x/tailcut84/DL3/interp_irf_en_dep/no_tuning/geff_80/teff_80/20220511_dec931/20220501/dl3_LST-1.Run08061.fits\n",
      "/fefs/aswg/workspace/chaitanya.priyadarshi/real_data/AGN/PG1553/v09x/tailcut84/DL3/interp_irf_en_dep/no_tuning/geff_80/teff_80/20220511_dec931/20220501/dl3_LST-1.Run08062.fits\n",
      "/fefs/aswg/workspace/chaitanya.priyadarshi/real_data/AGN/PG1553/v09x/tailcut84/DL3/interp_irf_en_dep/no_tuning/geff_80/teff_80/20220511_dec931/20220501/dl3_LST-1.Run08063.fits\n",
      "/fefs/aswg/workspace/chaitanya.priyadarshi/real_data/AGN/PG1553/v09x/tailcut84/DL3/interp_irf_en_dep/no_tuning/geff_80/teff_80/20220511_dec931/20220501/dl3_LST-1.Run08064.fits\n",
      "/fefs/aswg/workspace/chaitanya.priyadarshi/real_data/AGN/PG1553/v09x/tailcut84/DL3/interp_irf_en_dep/no_tuning/geff_80/teff_80/20220511_dec931/20220520/dl3_LST-1.Run08377.fits\n",
      "/fefs/aswg/workspace/chaitanya.priyadarshi/real_data/AGN/PG1553/v09x/tailcut84/DL3/interp_irf_en_dep/no_tuning/geff_80/teff_80/20220511_dec931/20220520/dl3_LST-1.Run08378.fits\n",
      "/fefs/aswg/workspace/chaitanya.priyadarshi/real_data/AGN/PG1553/v09x/tailcut84/DL3/interp_irf_en_dep/no_tuning/geff_80/teff_80/20220511_dec931/20220520/dl3_LST-1.Run08379.fits\n",
      "/fefs/aswg/workspace/chaitanya.priyadarshi/real_data/AGN/PG1553/v09x/tailcut84/DL3/interp_irf_en_dep/no_tuning/geff_80/teff_80/20220511_dec931/20220523/dl3_LST-1.Run08424.fits\n",
      "/fefs/aswg/workspace/chaitanya.priyadarshi/real_data/AGN/PG1553/v09x/tailcut84/DL3/interp_irf_en_dep/no_tuning/geff_80/teff_80/20220511_dec931/20220523/dl3_LST-1.Run08425.fits\n",
      "/fefs/aswg/workspace/chaitanya.priyadarshi/real_data/AGN/PG1553/v09x/tailcut84/DL3/interp_irf_en_dep/no_tuning/geff_80/teff_80/20220511_dec931/20220617/dl3_LST-1.Run08786.fits\n",
      "/fefs/aswg/workspace/chaitanya.priyadarshi/real_data/AGN/PG1553/v09x/tailcut84/DL3/interp_irf_en_dep/no_tuning/geff_80/teff_80/20220511_dec931/20220617/dl3_LST-1.Run08787.fits\n",
      "/fefs/aswg/workspace/chaitanya.priyadarshi/real_data/AGN/PG1553/v09x/tailcut84/DL3/interp_irf_en_dep/no_tuning/geff_80/teff_80/20220511_dec931/20230120/dl3_LST-1.Run11747.fits\n",
      "/fefs/aswg/workspace/chaitanya.priyadarshi/real_data/AGN/PG1553/v09x/tailcut84/DL3/interp_irf_en_dep/no_tuning/geff_80/teff_80/20220511_dec931/20230120/dl3_LST-1.Run11748.fits\n",
      "/fefs/aswg/workspace/chaitanya.priyadarshi/real_data/AGN/PG1553/v09x/tailcut84/DL3/interp_irf_en_dep/no_tuning/geff_80/teff_80/20220511_dec931/20230120/dl3_LST-1.Run11749.fits\n",
      "/fefs/aswg/workspace/chaitanya.priyadarshi/real_data/AGN/PG1553/v09x/tailcut84/DL3/interp_irf_en_dep/no_tuning/geff_80/teff_80/20220511_dec931/20230120/dl3_LST-1.Run11750.fits\n",
      "/fefs/aswg/workspace/chaitanya.priyadarshi/real_data/AGN/PG1553/v09x/tailcut84/DL3/interp_irf_en_dep/no_tuning/geff_80/teff_80/20220511_dec931/20230120/dl3_LST-1.Run11751.fits\n",
      "/fefs/aswg/workspace/chaitanya.priyadarshi/real_data/AGN/PG1553/v09x/tailcut84/DL3/interp_irf_en_dep/no_tuning/geff_80/teff_80/20220511_dec931/20230121/dl3_LST-1.Run11776.fits\n",
      "/fefs/aswg/workspace/chaitanya.priyadarshi/real_data/AGN/PG1553/v09x/tailcut84/DL3/interp_irf_en_dep/no_tuning/geff_80/teff_80/20220511_dec931/20230121/dl3_LST-1.Run11777.fits\n"
     ]
    }
   ],
   "source": [
    "print(f\"Reading from {len(dl3_info.event_files)} DL3 files\")\n",
    "for e in dl3_info.event_files:\n",
    "    print(e)"
   ]
  },
  {
   "cell_type": "code",
   "execution_count": null,
   "id": "5ef243f9",
   "metadata": {},
   "outputs": [],
   "source": []
  },
  {
   "cell_type": "markdown",
   "id": "14d8aa51",
   "metadata": {},
   "source": [
    "## Get Observations object"
   ]
  },
  {
   "cell_type": "code",
   "execution_count": 24,
   "id": "94ee8c05",
   "metadata": {},
   "outputs": [],
   "source": [
    "generate_1d_dataset.datastore = DataStore.from_dir(generate_1d_dataset.dl3_dir_dict.input_dir)"
   ]
  },
  {
   "cell_type": "code",
   "execution_count": 25,
   "id": "773d7d3b",
   "metadata": {
    "scrolled": true
   },
   "outputs": [
    {
     "data": {
      "text/html": [
       "<div><i>ObservationTable length=48</i>\n",
       "<table id=\"table140422656269904\" class=\"table-striped table-bordered table-condensed\">\n",
       "<thead><tr><th>OBS_ID</th><th>DATE-OBS</th><th>TIME-OBS</th><th>DATE-END</th><th>TIME-END</th><th>RA_PNT</th><th>DEC_PNT</th><th>ZEN_PNT</th><th>ALT_PNT</th><th>AZ_PNT</th><th>RA_OBJ</th><th>DEC_OBJ</th><th>TSTART</th><th>TSTOP</th><th>ONTIME</th><th>TELAPSE</th><th>LIVETIME</th><th>DEADC</th><th>OBJECT</th><th>OBS_MODE</th><th>N_TELS</th><th>TELLIST</th><th>INSTRUME</th></tr></thead>\n",
       "<thead><tr><th></th><th></th><th></th><th></th><th></th><th>deg</th><th>deg</th><th>deg</th><th>deg</th><th>deg</th><th>deg</th><th>deg</th><th>s</th><th>s</th><th>s</th><th>s</th><th>s</th><th></th><th></th><th></th><th></th><th></th><th></th></tr></thead>\n",
       "<thead><tr><th>int64</th><th>bytes10</th><th>bytes12</th><th>bytes10</th><th>bytes12</th><th>float64</th><th>float64</th><th>float64</th><th>float64</th><th>float64</th><th>float64</th><th>float64</th><th>float64</th><th>float64</th><th>float64</th><th>float64</th><th>float64</th><th>float64</th><th>bytes10</th><th>bytes8</th><th>int64</th><th>bytes5</th><th>bytes5</th></tr></thead>\n",
       "<tr><td>4333</td><td>2021-04-08</td><td>04:15:56.525</td><td>2021-04-08</td><td>04:36:00.803</td><td>239.3390457568525</td><td>11.19145759350709</td><td>18.418030013080468</td><td>71.58196998691953</td><td>197.5038774385736</td><td>238.9293333</td><td>11.1900833</td><td>79503356.52505589</td><td>79504560.80338001</td><td>1203.278080463409</td><td>1204.278324127197</td><td>1142.331268666289</td><td>0.9493493542459875</td><td>PG1553+113</td><td>POINTING</td><td>1</td><td>LST-1</td><td>LST-1</td></tr>\n",
       "<tr><td>4334</td><td>2021-04-08</td><td>04:38:01.409</td><td>2021-04-08</td><td>04:57:57.949</td><td>238.5271449707135</td><td>11.2017436897964</td><td>20.955156078579833</td><td>69.04484392142017</td><td>214.9667070046245</td><td>238.9293333</td><td>11.1900833</td><td>79504681.4087193</td><td>79505877.94902134</td><td>1195.54092001915</td><td>1196.540302038193</td><td>1131.648298143022</td><td>0.9465575616808634</td><td>PG1553+113</td><td>POINTING</td><td>1</td><td>LST-1</td><td>LST-1</td></tr>\n",
       "<tr><td>4335</td><td>2021-04-08</td><td>04:59:53.735</td><td>2021-04-08</td><td>05:14:56.649</td><td>238.9361752501491</td><td>11.60196052079401</td><td>23.08116899766945</td><td>66.91883100233055</td><td>224.9986295156076</td><td>238.9293333</td><td>11.1900833</td><td>79505993.73531294</td><td>79506896.64908886</td><td>901.914167881012</td><td>902.9137759208679</td><td>859.43904522265</td><td>0.9529055821817785</td><td>PG1553+113</td><td>POINTING</td><td>1</td><td>LST-1</td><td>LST-1</td></tr>\n",
       "<tr><td>4336</td><td>2021-04-08</td><td>05:16:43.888</td><td>2021-04-08</td><td>05:31:37.265</td><td>238.9372860518702</td><td>10.80237888073806</td><td>26.429155833657013</td><td>63.57084416634299</td><td>231.1282786995372</td><td>238.9293333</td><td>11.1900833</td><td>79507003.88764405</td><td>79507897.26521301</td><td>893.3783495426178</td><td>893.3775689601898</td><td>853.3394945370101</td><td>0.9551826445916152</td><td>PG1553+113</td><td>POINTING</td><td>1</td><td>LST-1</td><td>LST-1</td></tr>\n",
       "<tr><td>4343</td><td>2021-04-09</td><td>03:53:53.446</td><td>2021-04-09</td><td>04:13:59.324</td><td>239.3406195781059</td><td>11.1910325796737</td><td>17.7058687625849</td><td>72.2941312374151</td><td>183.6156285791121</td><td>238.9293333</td><td>11.1900833</td><td>79588433.44560719</td><td>79589639.32376719</td><td>1204.878087759018</td><td>1205.878159999847</td><td>1133.721819017736</td><td>0.9409431796758568</td><td>PG1553+113</td><td>POINTING</td><td>1</td><td>LST-1</td><td>LST-1</td></tr>\n",
       "<tr><td>4344</td><td>2021-04-09</td><td>04:15:48.587</td><td>2021-04-09</td><td>04:23:21.507</td><td>238.5253660780827</td><td>11.19826778001338</td><td>18.461701769131565</td><td>71.53829823086843</td><td>198.4311978475647</td><td>238.9293333</td><td>11.1900833</td><td>79589748.58720851</td><td>79590201.50700831</td><td>451.9201560020447</td><td>452.9197998046875</td><td>425.5842756291986</td><td>0.9417244837985785</td><td>PG1553+113</td><td>POINTING</td><td>1</td><td>LST-1</td><td>LST-1</td></tr>\n",
       "<tr><td>4363</td><td>2021-04-11</td><td>00:27:22.622</td><td>2021-04-11</td><td>00:45:18.513</td><td>239.3243307385261</td><td>11.20540081328436</td><td>48.839632582918</td><td>41.160367417082</td><td>100.7912936991124</td><td>238.9293333</td><td>11.1900833</td><td>79748842.62201905</td><td>79749918.51283765</td><td>1074.89334487915</td><td>1075.890818595886</td><td>1026.469781731324</td><td>0.9549503554203596</td><td>PG1553+113</td><td>POINTING</td><td>1</td><td>LST-1</td><td>LST-1</td></tr>\n",
       "<tr><td>4364</td><td>2021-04-11</td><td>00:48:58.405</td><td>2021-04-11</td><td>01:09:21.444</td><td>238.5115798539176</td><td>11.20412863500009</td><td>43.24485643254562</td><td>46.75514356745438</td><td>105.2055094333536</td><td>238.9293333</td><td>11.1900833</td><td>79750138.40492463</td><td>79751361.44417524</td><td>1221.0406935215</td><td>1223.039250612259</td><td>1164.032109293811</td><td>0.9533114788637593</td><td>PG1553+113</td><td>POINTING</td><td>1</td><td>LST-1</td><td>LST-1</td></tr>\n",
       "<tr><td>4365</td><td>2021-04-11</td><td>01:11:27.073</td><td>2021-04-11</td><td>01:17:21.549</td><td>238.9211755791897</td><td>11.60360592358109</td><td>40.16719248111695</td><td>49.83280751888305</td><td>107.2476584774347</td><td>238.9293333</td><td>11.1900833</td><td>79751487.07303739</td><td>79751841.54871607</td><td>354.4765515327454</td><td>354.4756786823273</td><td>338.1790708089882</td><td>0.9540238115799554</td><td>PG1553+113</td><td>POINTING</td><td>1</td><td>LST-1</td><td>LST-1</td></tr>\n",
       "<tr><td>4366</td><td>2021-04-11</td><td>02:01:17.087</td><td>2021-04-11</td><td>02:22:17.332</td><td>238.9248985112865</td><td>11.60253496708439</td><td>28.649311766908568</td><td>61.35068823309143</td><td>122.007288963312</td><td>238.9293333</td><td>11.1900833</td><td>79754477.08697605</td><td>79755737.33218098</td><td>1259.245038032532</td><td>1260.245204925537</td><td>1191.724587808819</td><td>0.9463802133942033</td><td>PG1553+113</td><td>POINTING</td><td>1</td><td>LST-1</td><td>LST-1</td></tr>\n",
       "<tr><td>4367</td><td>2021-04-11</td><td>02:24:19.147</td><td>2021-04-11</td><td>02:45:13.711</td><td>238.9263615995598</td><td>10.80245995876435</td><td>25.206210394168238</td><td>64.79378960583176</td><td>131.9790677042899</td><td>238.9293333</td><td>11.1900833</td><td>79755859.14691758</td><td>79757113.71121264</td><td>1254.568018198013</td><td>1254.564295053482</td><td>1185.019113477892</td><td>0.9445634643070074</td><td>PG1553+113</td><td>POINTING</td><td>1</td><td>LST-1</td><td>LST-1</td></tr>\n",
       "<tr><td>4368</td><td>2021-04-11</td><td>02:48:17.492</td><td>2021-04-11</td><td>03:07:09.436</td><td>239.335184077717</td><td>11.2023169510102</td><td>21.690106515693998</td><td>68.309893484306</td><td>141.7903176184516</td><td>238.9293333</td><td>11.1900833</td><td>79757297.49201155</td><td>79758429.43621278</td><td>1130.945442914963</td><td>1131.944201231003</td><td>1067.031589133727</td><td>0.9434863510157478</td><td>PG1553+113</td><td>POINTING</td><td>1</td><td>LST-1</td><td>LST-1</td></tr>\n",
       "<tr><td>4514</td><td>2021-04-21</td><td>03:48:39.173</td><td>2021-04-21</td><td>03:59:05.188</td><td>239.3419242014703</td><td>11.20153136124852</td><td>20.146184237192685</td><td>69.85381576280732</td><td>211.0168476034175</td><td>238.9293333</td><td>11.1900833</td><td>80624919.17317152</td><td>80625545.1876347</td><td>602.5574765205383</td><td>626.014463186264</td><td>568.3585220966189</td><td>0.943243664286765</td><td>PG1553+113</td><td>POINTING</td><td>1</td><td>LST-1</td><td>LST-1</td></tr>\n",
       "<tr><td>4515</td><td>2021-04-21</td><td>04:00:59.863</td><td>2021-04-21</td><td>04:10:27.758</td><td>238.527860437388</td><td>11.2020565468955</td><td>22.06263794978041</td><td>67.93736205021959</td><td>219.8155109917933</td><td>238.9293333</td><td>11.1900833</td><td>80625659.86303592</td><td>80626227.75765777</td><td>502.951388835907</td><td>567.8946218490601</td><td>478.2801628363441</td><td>0.9509470963850701</td><td>PG1553+113</td><td>POINTING</td><td>1</td><td>LST-1</td><td>LST-1</td></tr>\n",
       "<tr><td>4652</td><td>2021-05-08</td><td>23:04:01.653</td><td>2021-05-08</td><td>23:23:07.419</td><td>238.9236672820445</td><td>11.60048957596318</td><td>42.43201462856442</td><td>47.56798537143558</td><td>105.2252706894645</td><td>238.9293333</td><td>11.1900833</td><td>82163041.65332294</td><td>82164187.41858149</td><td>1143.765189170837</td><td>1145.765258550644</td><td>1087.245465434865</td><td>0.9505845043448594</td><td>PG1553+113</td><td>POINTING</td><td>1</td><td>LST-1</td><td>LST-1</td></tr>\n",
       "<tr><td>4653</td><td>2021-05-08</td><td>23:25:54.453</td><td>2021-05-08</td><td>23:44:37.613</td><td>238.925480097305</td><td>10.79995795738869</td><td>38.35653026539597</td><td>51.64346973460403</td><td>110.584385747197</td><td>238.9293333</td><td>11.1900833</td><td>82164354.45259714</td><td>82165477.61310792</td><td>1113.897408485413</td><td>1123.160510778427</td><td>1059.036147046046</td><td>0.9507483714196246</td><td>PG1553+113</td><td>POINTING</td><td>1</td><td>LST-1</td><td>LST-1</td></tr>\n",
       "<tr><td>4654</td><td>2021-05-08</td><td>23:49:41.473</td><td>2021-05-09</td><td>00:04:44.329</td><td>239.3345912876736</td><td>11.19951536637237</td><td>33.97114645063543</td><td>56.02885354936457</td><td>114.8803385967661</td><td>238.9293333</td><td>11.1900833</td><td>82165781.47327256</td><td>82166684.32912803</td><td>902.7075934410095</td><td>902.8558554649353</td><td>856.6662435406755</td><td>0.9489963857234986</td><td>PG1553+113</td><td>POINTING</td><td>1</td><td>LST-1</td><td>LST-1</td></tr>\n",
       "<tr><td>4902</td><td>2021-06-04</td><td>22:54:15.450</td><td>2021-06-04</td><td>23:09:01.527</td><td>239.3390552328452</td><td>11.19844054130782</td><td>24.666951035076607</td><td>65.33304896492339</td><td>131.923700705874</td><td>238.9293333</td><td>11.1900833</td><td>84495255.45013762</td><td>84496141.52735066</td><td>885.078320980072</td><td>886.0772130489349</td><td>837.1254192074258</td><td>0.9458207249731904</td><td>PG1553+113</td><td>POINTING</td><td>1</td><td>LST-1</td><td>LST-1</td></tr>\n",
       "<tr><td>4903</td><td>2021-06-04</td><td>23:11:51.295</td><td>2021-06-04</td><td>23:26:56.204</td><td>238.5251412649967</td><td>11.19828671405442</td><td>21.532529344116455</td><td>68.46747065588355</td><td>142.3891495242972</td><td>238.9293333</td><td>11.1900833</td><td>84496311.29545712</td><td>84497216.20417142</td><td>903.9086558818817</td><td>904.9087142944336</td><td>854.0411436548086</td><td>0.9448312482654336</td><td>PG1553+113</td><td>POINTING</td><td>1</td><td>LST-1</td><td>LST-1</td></tr>\n",
       "<tr><td>4904</td><td>2021-06-04</td><td>23:29:26.020</td><td>2021-06-04</td><td>23:42:32.362</td><td>238.9341225027272</td><td>11.59837422149961</td><td>19.37164940949029</td><td>70.62835059050971</td><td>150.9890236050561</td><td>238.9293333</td><td>11.1900833</td><td>84497366.0200789</td><td>84498152.36216831</td><td>786.3430254459381</td><td>786.3420894145966</td><td>741.330305082697</td><td>0.9427568899238163</td><td>PG1553+113</td><td>POINTING</td><td>1</td><td>LST-1</td><td>LST-1</td></tr>\n",
       "<tr><td>...</td><td>...</td><td>...</td><td>...</td><td>...</td><td>...</td><td>...</td><td>...</td><td>...</td><td>...</td><td>...</td><td>...</td><td>...</td><td>...</td><td>...</td><td>...</td><td>...</td><td>...</td><td>...</td><td>...</td><td>...</td><td>...</td><td>...</td></tr>\n",
       "<tr><td>7154</td><td>2022-03-01</td><td>04:51:31.910</td><td>2022-03-01</td><td>05:10:11.430</td><td>238.4763122295913</td><td>11.24357750707593</td><td>27.348263201420593</td><td>62.65173679857941</td><td>125.5266935242892</td><td>238.9293333</td><td>11.1900833</td><td>107758291.909596</td><td>107759411.429862</td><td>1118.520931243896</td><td>1119.520266056061</td><td>1058.291952866413</td><td>0.9461530162779311</td><td>PG1553+113</td><td>POINTING</td><td>1</td><td>LST-1</td><td>LST-1</td></tr>\n",
       "<tr><td>8059</td><td>2022-05-02</td><td>01:55:12.800</td><td>2022-05-02</td><td>02:15:12.047</td><td>239.3415088589335</td><td>11.19805917671499</td><td>18.61000912208155</td><td>71.38999087791845</td><td>160.5538729544593</td><td>238.9293333</td><td>11.1900833</td><td>113104512.7999656</td><td>113105712.0466747</td><td>1195.246498823166</td><td>1199.246709108353</td><td>1128.551204537419</td><td>0.944199548501991</td><td>PG1553+113</td><td>POINTING</td><td>1</td><td>LST-1</td><td>LST-1</td></tr>\n",
       "<tr><td>8060</td><td>2022-05-02</td><td>02:16:37.406</td><td>2022-05-02</td><td>02:35:12.988</td><td>238.5272406942574</td><td>11.20260952605706</td><td>17.676579000655053</td><td>72.32342099934495</td><td>179.2960586693166</td><td>238.9293333</td><td>11.1900833</td><td>113105797.406075</td><td>113106912.9878879</td><td>1115.582428693771</td><td>1115.581812858582</td><td>1053.659964439082</td><td>0.9444931520414913</td><td>PG1553+113</td><td>POINTING</td><td>1</td><td>LST-1</td><td>LST-1</td></tr>\n",
       "<tr><td>8061</td><td>2022-05-02</td><td>02:36:45.801</td><td>2022-05-02</td><td>02:56:05.529</td><td>238.9361292496728</td><td>11.59001555711941</td><td>17.782075612908557</td><td>72.21792438709144</td><td>194.5796385375366</td><td>238.9293333</td><td>11.1900833</td><td>113107005.8013961</td><td>113108165.5287626</td><td>1159.727407932281</td><td>1159.727366447449</td><td>1095.221259731264</td><td>0.9443781808036874</td><td>PG1553+113</td><td>POINTING</td><td>1</td><td>LST-1</td><td>LST-1</td></tr>\n",
       "<tr><td>8062</td><td>2022-05-02</td><td>02:57:29.997</td><td>2022-05-02</td><td>03:17:34.875</td><td>238.9396764035267</td><td>10.80295908778822</td><td>20.261428329090364</td><td>69.73857167090964</td><td>208.8127408019243</td><td>238.9293333</td><td>11.1900833</td><td>113108249.9974852</td><td>113109454.874753</td><td>1203.878210067749</td><td>1204.877267852426</td><td>1138.603694280404</td><td>0.9457798012776791</td><td>PG1553+113</td><td>POINTING</td><td>1</td><td>LST-1</td><td>LST-1</td></tr>\n",
       "<tr><td>8063</td><td>2022-05-02</td><td>03:18:58.896</td><td>2022-05-02</td><td>03:36:13.465</td><td>239.3463149819725</td><td>11.19850687110339</td><td>22.206743377364788</td><td>67.79325662263521</td><td>220.2309187116219</td><td>238.9293333</td><td>11.1900833</td><td>113109538.8964436</td><td>113110573.464833</td><td>1032.568443059921</td><td>1034.568389415741</td><td>977.5396597556647</td><td>0.9467068903043523</td><td>PG1553+113</td><td>POINTING</td><td>1</td><td>LST-1</td><td>LST-1</td></tr>\n",
       "<tr><td>8064</td><td>2022-05-02</td><td>03:37:37.397</td><td>2022-05-02</td><td>03:56:15.277</td><td>238.5318924877121</td><td>11.19836911137863</td><td>25.733365455133324</td><td>64.26663454486668</td><td>230.731412094102</td><td>238.9293333</td><td>11.1900833</td><td>113110657.3972156</td><td>113111775.2766654</td><td>1115.880378007889</td><td>1117.87944984436</td><td>1060.292645410189</td><td>0.9501848641725048</td><td>PG1553+113</td><td>POINTING</td><td>1</td><td>LST-1</td><td>LST-1</td></tr>\n",
       "<tr><td>8377</td><td>2022-05-21</td><td>00:07:59.612</td><td>2022-05-21</td><td>00:20:31.200</td><td>239.3397140846518</td><td>11.19790082480139</td><td>22.70934506702379</td><td>67.29065493297621</td><td>137.8846167570436</td><td>238.9293333</td><td>11.1900833</td><td>114739679.6115565</td><td>114740431.1996512</td><td>751.5890679359436</td><td>751.5880946964025</td><td>711.2073257579411</td><td>0.9462715147136173</td><td>PG1553+113</td><td>POINTING</td><td>1</td><td>LST-1</td><td>LST-1</td></tr>\n",
       "<tr><td>8378</td><td>2022-05-21</td><td>00:21:43.800</td><td>2022-05-21</td><td>00:33:32.069</td><td>238.5261032181563</td><td>11.19857061127268</td><td>20.48420359016113</td><td>69.51579640983887</td><td>147.2283973042405</td><td>238.9293333</td><td>11.1900833</td><td>114740503.799603</td><td>114741212.0688062</td><td>708.2699897289276</td><td>708.2692031860352</td><td>669.5167530099402</td><td>0.945284655172501</td><td>PG1553+113</td><td>POINTING</td><td>1</td><td>LST-1</td><td>LST-1</td></tr>\n",
       "<tr><td>8379</td><td>2022-05-21</td><td>00:34:43.059</td><td>2022-05-21</td><td>00:35:36.232</td><td>239.3405766929116</td><td>11.19994296532452</td><td>19.983446251057757</td><td>70.01655374894224</td><td>149.8643868207814</td><td>238.9293333</td><td>11.1900833</td><td>114741283.0585709</td><td>114741336.2318113</td><td>52.17348432540894</td><td>53.17324042320251</td><td>49.38844874361887</td><td>0.946619712718061</td><td>PG1553+113</td><td>POINTING</td><td>1</td><td>LST-1</td><td>LST-1</td></tr>\n",
       "<tr><td>8424</td><td>2022-05-23</td><td>22:18:17.208</td><td>2022-05-23</td><td>22:34:27.205</td><td>238.9273113704392</td><td>10.80019762652493</td><td>40.50365870064167</td><td>49.49634129935833</td><td>108.405047586189</td><td>238.9293333</td><td>11.1900833</td><td>114992297.2084639</td><td>114993267.2054832</td><td>947.8854961395264</td><td>969.9970192909241</td><td>902.7218471073135</td><td>0.9523532650133884</td><td>PG1553+113</td><td>POINTING</td><td>1</td><td>LST-1</td><td>LST-1</td></tr>\n",
       "<tr><td>8425</td><td>2022-05-23</td><td>22:35:33.348</td><td>2022-05-23</td><td>22:44:16.260</td><td>239.3355954453784</td><td>11.19960258316478</td><td>37.92494239848793</td><td>52.07505760151207</td><td>110.2495947078694</td><td>238.9293333</td><td>11.1900833</td><td>114993333.348357</td><td>114993856.2595098</td><td>522.9128408432007</td><td>522.9111528396606</td><td>497.0802915471111</td><td>0.9505987474806806</td><td>PG1553+113</td><td>POINTING</td><td>1</td><td>LST-1</td><td>LST-1</td></tr>\n",
       "<tr><td>8786</td><td>2022-06-17</td><td>23:55:55.205</td><td>2022-06-18</td><td>00:16:02.144</td><td>238.9389573556626</td><td>10.7979978722845</td><td>20.583881111989612</td><td>69.41611888801039</td><td>210.5935547454639</td><td>238.9293333</td><td>11.1900833</td><td>117158155.2045274</td><td>117159362.143985</td><td>1202.575515031815</td><td>1206.939457669854</td><td>1082.078602240869</td><td>0.8998009594534627</td><td>PG1553+113</td><td>POINTING</td><td>1</td><td>LST-1</td><td>LST-1</td></tr>\n",
       "<tr><td>8787</td><td>2022-06-18</td><td>00:39:35.412</td><td>2022-06-18</td><td>00:59:42.395</td><td>239.3481659815165</td><td>11.19792749547539</td><td>26.508675400266227</td><td>63.49132459973377</td><td>232.5272427805631</td><td>238.9293333</td><td>11.1900833</td><td>117160775.4120493</td><td>117161982.3947079</td><td>1206.990885019302</td><td>1206.982658624649</td><td>1190.652298469553</td><td>0.9864633720498328</td><td>PG1553+113</td><td>POINTING</td><td>1</td><td>LST-1</td><td>LST-1</td></tr>\n",
       "<tr><td>11747</td><td>2023-01-21</td><td>05:27:13.039</td><td>2023-01-21</td><td>05:41:05.811</td><td>238.9223078445959</td><td>10.80303705138192</td><td>52.59351219927166</td><td>37.40648780072834</td><td>98.76466323168917</td><td>238.9293333</td><td>11.1900833</td><td>135926833.0393608</td><td>135927665.8111997</td><td>831.7795753479004</td><td>832.7718389034271</td><td>795.5649600045826</td><td>0.9564612832333967</td><td>PG1553+113</td><td>POINTING</td><td>1</td><td>LST-1</td><td>LST-1</td></tr>\n",
       "<tr><td>11748</td><td>2023-01-21</td><td>05:41:42.614</td><td>2023-01-21</td><td>05:59:10.222</td><td>239.3308786175915</td><td>11.20237077587286</td><td>49.34343560439305</td><td>40.65656439560695</td><td>100.441746618512</td><td>238.9293333</td><td>11.1900833</td><td>135927702.6143305</td><td>135928750.221735</td><td>1046.376299619675</td><td>1047.607404470444</td><td>999.8755146608987</td><td>0.955560169916236</td><td>PG1553+113</td><td>POINTING</td><td>1</td><td>LST-1</td><td>LST-1</td></tr>\n",
       "<tr><td>11749</td><td>2023-01-21</td><td>05:59:47.840</td><td>2023-01-21</td><td>06:14:33.560</td><td>238.5182604516923</td><td>11.20078428194004</td><td>45.07574684166905</td><td>44.92425315833095</td><td>103.6847556095784</td><td>238.9293333</td><td>11.1900833</td><td>135928787.8400278</td><td>135929673.5598619</td><td>885.7206931114197</td><td>885.7198340892792</td><td>843.2921786740685</td><td>0.952097185075009</td><td>PG1553+113</td><td>POINTING</td><td>1</td><td>LST-1</td><td>LST-1</td></tr>\n",
       "<tr><td>11750</td><td>2023-01-21</td><td>06:15:11.061</td><td>2023-01-21</td><td>06:29:58.665</td><td>238.9273839155929</td><td>11.60121002960756</td><td>41.89848734387977</td><td>48.10151265612023</td><td>105.695123597717</td><td>238.9293333</td><td>11.1900833</td><td>135929711.0609958</td><td>135930598.665062</td><td>887.6057620048523</td><td>887.6040661334991</td><td>846.4776778846572</td><td>0.9536640185533515</td><td>PG1553+113</td><td>POINTING</td><td>1</td><td>LST-1</td><td>LST-1</td></tr>\n",
       "<tr><td>11751</td><td>2023-01-21</td><td>06:30:41.833</td><td>2023-01-21</td><td>06:47:02.321</td><td>238.9289213804074</td><td>10.80069156137622</td><td>38.94470939172506</td><td>51.05529060827494</td><td>109.9728031091692</td><td>238.9293333</td><td>11.1900833</td><td>135930641.8330328</td><td>135931622.320801</td><td>980.489666223526</td><td>980.4877681732178</td><td>932.5675482130035</td><td>0.9511243007842191</td><td>PG1553+113</td><td>POINTING</td><td>1</td><td>LST-1</td><td>LST-1</td></tr>\n",
       "<tr><td>11776</td><td>2023-01-22</td><td>04:37:11.203</td><td>2023-01-22</td><td>04:57:42.857</td><td>239.3205601845216</td><td>11.20659184713222</td><td>62.23007120106827</td><td>27.76992879893173</td><td>92.29786304094546</td><td>238.9293333</td><td>11.1900833</td><td>136010231.2031395</td><td>136011462.8573987</td><td>1231.661247968674</td><td>1231.654259204865</td><td>1178.265863878516</td><td>0.9566476706332843</td><td>PG1553+113</td><td>POINTING</td><td>1</td><td>LST-1</td><td>LST-1</td></tr>\n",
       "<tr><td>11777</td><td>2023-01-22</td><td>04:58:22.755</td><td>2023-01-22</td><td>05:01:24.832</td><td>238.5109074026248</td><td>11.20431396701492</td><td>58.83233300886381</td><td>31.16766699113619</td><td>94.27532786101385</td><td>238.9293333</td><td>11.1900833</td><td>136011502.7549422</td><td>136011684.831646</td><td>182.0770492553711</td><td>182.07670378685</td><td>175.5446201813121</td><td>0.964122721118481</td><td>PG1553+113</td><td>POINTING</td><td>1</td><td>LST-1</td><td>LST-1</td></tr>\n",
       "</table></div>"
      ],
      "text/plain": [
       "<ObservationTable length=48>\n",
       "OBS_ID  DATE-OBS    TIME-OBS    DATE-END    TIME-END         RA_PNT           DEC_PNT           ZEN_PNT       ...      LIVETIME           DEADC          OBJECT   OBS_MODE N_TELS TELLIST INSTRUME\n",
       "                                                              deg               deg               deg         ...         s                                                                       \n",
       "int64   bytes10     bytes12     bytes10     bytes12         float64           float64           float64       ...      float64           float64        bytes10    bytes8  int64   bytes5  bytes5 \n",
       "------ ---------- ------------ ---------- ------------ ----------------- ----------------- ------------------ ... ----------------- ------------------ ---------- -------- ------ ------- --------\n",
       "  4333 2021-04-08 04:15:56.525 2021-04-08 04:36:00.803 239.3390457568525 11.19145759350709 18.418030013080468 ... 1142.331268666289 0.9493493542459875 PG1553+113 POINTING      1   LST-1    LST-1\n",
       "  4334 2021-04-08 04:38:01.409 2021-04-08 04:57:57.949 238.5271449707135  11.2017436897964 20.955156078579833 ... 1131.648298143022 0.9465575616808634 PG1553+113 POINTING      1   LST-1    LST-1\n",
       "  4335 2021-04-08 04:59:53.735 2021-04-08 05:14:56.649 238.9361752501491 11.60196052079401  23.08116899766945 ...   859.43904522265 0.9529055821817785 PG1553+113 POINTING      1   LST-1    LST-1\n",
       "  4336 2021-04-08 05:16:43.888 2021-04-08 05:31:37.265 238.9372860518702 10.80237888073806 26.429155833657013 ... 853.3394945370101 0.9551826445916152 PG1553+113 POINTING      1   LST-1    LST-1\n",
       "  4343 2021-04-09 03:53:53.446 2021-04-09 04:13:59.324 239.3406195781059  11.1910325796737   17.7058687625849 ... 1133.721819017736 0.9409431796758568 PG1553+113 POINTING      1   LST-1    LST-1\n",
       "  4344 2021-04-09 04:15:48.587 2021-04-09 04:23:21.507 238.5253660780827 11.19826778001338 18.461701769131565 ... 425.5842756291986 0.9417244837985785 PG1553+113 POINTING      1   LST-1    LST-1\n",
       "  4363 2021-04-11 00:27:22.622 2021-04-11 00:45:18.513 239.3243307385261 11.20540081328436    48.839632582918 ... 1026.469781731324 0.9549503554203596 PG1553+113 POINTING      1   LST-1    LST-1\n",
       "  4364 2021-04-11 00:48:58.405 2021-04-11 01:09:21.444 238.5115798539176 11.20412863500009  43.24485643254562 ... 1164.032109293811 0.9533114788637593 PG1553+113 POINTING      1   LST-1    LST-1\n",
       "  4365 2021-04-11 01:11:27.073 2021-04-11 01:17:21.549 238.9211755791897 11.60360592358109  40.16719248111695 ... 338.1790708089882 0.9540238115799554 PG1553+113 POINTING      1   LST-1    LST-1\n",
       "  4366 2021-04-11 02:01:17.087 2021-04-11 02:22:17.332 238.9248985112865 11.60253496708439 28.649311766908568 ... 1191.724587808819 0.9463802133942033 PG1553+113 POINTING      1   LST-1    LST-1\n",
       "  4367 2021-04-11 02:24:19.147 2021-04-11 02:45:13.711 238.9263615995598 10.80245995876435 25.206210394168238 ... 1185.019113477892 0.9445634643070074 PG1553+113 POINTING      1   LST-1    LST-1\n",
       "  4368 2021-04-11 02:48:17.492 2021-04-11 03:07:09.436  239.335184077717  11.2023169510102 21.690106515693998 ... 1067.031589133727 0.9434863510157478 PG1553+113 POINTING      1   LST-1    LST-1\n",
       "  4514 2021-04-21 03:48:39.173 2021-04-21 03:59:05.188 239.3419242014703 11.20153136124852 20.146184237192685 ... 568.3585220966189  0.943243664286765 PG1553+113 POINTING      1   LST-1    LST-1\n",
       "  4515 2021-04-21 04:00:59.863 2021-04-21 04:10:27.758  238.527860437388  11.2020565468955  22.06263794978041 ... 478.2801628363441 0.9509470963850701 PG1553+113 POINTING      1   LST-1    LST-1\n",
       "  4652 2021-05-08 23:04:01.653 2021-05-08 23:23:07.419 238.9236672820445 11.60048957596318  42.43201462856442 ... 1087.245465434865 0.9505845043448594 PG1553+113 POINTING      1   LST-1    LST-1\n",
       "  4653 2021-05-08 23:25:54.453 2021-05-08 23:44:37.613  238.925480097305 10.79995795738869  38.35653026539597 ... 1059.036147046046 0.9507483714196246 PG1553+113 POINTING      1   LST-1    LST-1\n",
       "  4654 2021-05-08 23:49:41.473 2021-05-09 00:04:44.329 239.3345912876736 11.19951536637237  33.97114645063543 ... 856.6662435406755 0.9489963857234986 PG1553+113 POINTING      1   LST-1    LST-1\n",
       "  4902 2021-06-04 22:54:15.450 2021-06-04 23:09:01.527 239.3390552328452 11.19844054130782 24.666951035076607 ... 837.1254192074258 0.9458207249731904 PG1553+113 POINTING      1   LST-1    LST-1\n",
       "  4903 2021-06-04 23:11:51.295 2021-06-04 23:26:56.204 238.5251412649967 11.19828671405442 21.532529344116455 ... 854.0411436548086 0.9448312482654336 PG1553+113 POINTING      1   LST-1    LST-1\n",
       "  4904 2021-06-04 23:29:26.020 2021-06-04 23:42:32.362 238.9341225027272 11.59837422149961  19.37164940949029 ...  741.330305082697 0.9427568899238163 PG1553+113 POINTING      1   LST-1    LST-1\n",
       "   ...        ...          ...        ...          ...               ...               ...                ... ...               ...                ...        ...      ...    ...     ...      ...\n",
       "  7154 2022-03-01 04:51:31.910 2022-03-01 05:10:11.430 238.4763122295913 11.24357750707593 27.348263201420593 ... 1058.291952866413 0.9461530162779311 PG1553+113 POINTING      1   LST-1    LST-1\n",
       "  8059 2022-05-02 01:55:12.800 2022-05-02 02:15:12.047 239.3415088589335 11.19805917671499  18.61000912208155 ... 1128.551204537419  0.944199548501991 PG1553+113 POINTING      1   LST-1    LST-1\n",
       "  8060 2022-05-02 02:16:37.406 2022-05-02 02:35:12.988 238.5272406942574 11.20260952605706 17.676579000655053 ... 1053.659964439082 0.9444931520414913 PG1553+113 POINTING      1   LST-1    LST-1\n",
       "  8061 2022-05-02 02:36:45.801 2022-05-02 02:56:05.529 238.9361292496728 11.59001555711941 17.782075612908557 ... 1095.221259731264 0.9443781808036874 PG1553+113 POINTING      1   LST-1    LST-1\n",
       "  8062 2022-05-02 02:57:29.997 2022-05-02 03:17:34.875 238.9396764035267 10.80295908778822 20.261428329090364 ... 1138.603694280404 0.9457798012776791 PG1553+113 POINTING      1   LST-1    LST-1\n",
       "  8063 2022-05-02 03:18:58.896 2022-05-02 03:36:13.465 239.3463149819725 11.19850687110339 22.206743377364788 ... 977.5396597556647 0.9467068903043523 PG1553+113 POINTING      1   LST-1    LST-1\n",
       "  8064 2022-05-02 03:37:37.397 2022-05-02 03:56:15.277 238.5318924877121 11.19836911137863 25.733365455133324 ... 1060.292645410189 0.9501848641725048 PG1553+113 POINTING      1   LST-1    LST-1\n",
       "  8377 2022-05-21 00:07:59.612 2022-05-21 00:20:31.200 239.3397140846518 11.19790082480139  22.70934506702379 ... 711.2073257579411 0.9462715147136173 PG1553+113 POINTING      1   LST-1    LST-1\n",
       "  8378 2022-05-21 00:21:43.800 2022-05-21 00:33:32.069 238.5261032181563 11.19857061127268  20.48420359016113 ... 669.5167530099402  0.945284655172501 PG1553+113 POINTING      1   LST-1    LST-1\n",
       "  8379 2022-05-21 00:34:43.059 2022-05-21 00:35:36.232 239.3405766929116 11.19994296532452 19.983446251057757 ... 49.38844874361887  0.946619712718061 PG1553+113 POINTING      1   LST-1    LST-1\n",
       "  8424 2022-05-23 22:18:17.208 2022-05-23 22:34:27.205 238.9273113704392 10.80019762652493  40.50365870064167 ... 902.7218471073135 0.9523532650133884 PG1553+113 POINTING      1   LST-1    LST-1\n",
       "  8425 2022-05-23 22:35:33.348 2022-05-23 22:44:16.260 239.3355954453784 11.19960258316478  37.92494239848793 ... 497.0802915471111 0.9505987474806806 PG1553+113 POINTING      1   LST-1    LST-1\n",
       "  8786 2022-06-17 23:55:55.205 2022-06-18 00:16:02.144 238.9389573556626  10.7979978722845 20.583881111989612 ... 1082.078602240869 0.8998009594534627 PG1553+113 POINTING      1   LST-1    LST-1\n",
       "  8787 2022-06-18 00:39:35.412 2022-06-18 00:59:42.395 239.3481659815165 11.19792749547539 26.508675400266227 ... 1190.652298469553 0.9864633720498328 PG1553+113 POINTING      1   LST-1    LST-1\n",
       " 11747 2023-01-21 05:27:13.039 2023-01-21 05:41:05.811 238.9223078445959 10.80303705138192  52.59351219927166 ... 795.5649600045826 0.9564612832333967 PG1553+113 POINTING      1   LST-1    LST-1\n",
       " 11748 2023-01-21 05:41:42.614 2023-01-21 05:59:10.222 239.3308786175915 11.20237077587286  49.34343560439305 ... 999.8755146608987  0.955560169916236 PG1553+113 POINTING      1   LST-1    LST-1\n",
       " 11749 2023-01-21 05:59:47.840 2023-01-21 06:14:33.560 238.5182604516923 11.20078428194004  45.07574684166905 ... 843.2921786740685  0.952097185075009 PG1553+113 POINTING      1   LST-1    LST-1\n",
       " 11750 2023-01-21 06:15:11.061 2023-01-21 06:29:58.665 238.9273839155929 11.60121002960756  41.89848734387977 ... 846.4776778846572 0.9536640185533515 PG1553+113 POINTING      1   LST-1    LST-1\n",
       " 11751 2023-01-21 06:30:41.833 2023-01-21 06:47:02.321 238.9289213804074 10.80069156137622  38.94470939172506 ... 932.5675482130035 0.9511243007842191 PG1553+113 POINTING      1   LST-1    LST-1\n",
       " 11776 2023-01-22 04:37:11.203 2023-01-22 04:57:42.857 239.3205601845216 11.20659184713222  62.23007120106827 ... 1178.265863878516 0.9566476706332843 PG1553+113 POINTING      1   LST-1    LST-1\n",
       " 11777 2023-01-22 04:58:22.755 2023-01-22 05:01:24.832 238.5109074026248 11.20431396701492  58.83233300886381 ... 175.5446201813121  0.964122721118481 PG1553+113 POINTING      1   LST-1    LST-1"
      ]
     },
     "execution_count": 25,
     "metadata": {},
     "output_type": "execute_result"
    }
   ],
   "source": [
    "generate_1d_dataset.datastore.obs_table"
   ]
  },
  {
   "cell_type": "code",
   "execution_count": 26,
   "id": "c152255f",
   "metadata": {},
   "outputs": [
    {
     "name": "stderr",
     "output_type": "stream",
     "text": [
      "Observation ID list selected: [4333 4334 4335 4336 4343 4344 4363 4364 4365 4366 4367 4368 4514 4515\n",
      " 4652 4653 4654 4902 4903 4904 4905 4930 4940 4941 4942 4943 7153 7154\n",
      " 8059 8060 8061 8062 8063 8064 8377 8378 8379 8424 8425]\n",
      "Observations selected: 39 out of 39.\n"
     ]
    }
   ],
   "source": [
    "generate_1d_dataset.get_filtered_observations()"
   ]
  },
  {
   "cell_type": "code",
   "execution_count": 27,
   "id": "717a4784",
   "metadata": {},
   "outputs": [
    {
     "name": "stdout",
     "output_type": "stream",
     "text": [
      "Observations\n",
      "Number of observations: 39\n",
      "Observation\n",
      "\n",
      "\tobs id            : 4333 \n",
      " \ttstart            : 59312.18\n",
      "\ttstop             : 59312.19\n",
      "\tduration          : 1204.28 s\n",
      "\tpointing (icrs)   : 239.3 deg, 11.2 deg\n",
      "\n",
      "\tdeadtime fraction : 5.1%\n",
      "Observation\n",
      "\n",
      "\tobs id            : 4334 \n",
      " \ttstart            : 59312.19\n",
      "\ttstop             : 59312.21\n",
      "\tduration          : 1196.54 s\n",
      "\tpointing (icrs)   : 238.5 deg, 11.2 deg\n",
      "\n",
      "\tdeadtime fraction : 5.3%\n",
      "Observation\n",
      "\n",
      "\tobs id            : 4335 \n",
      " \ttstart            : 59312.21\n",
      "\ttstop             : 59312.22\n",
      "\tduration          : 902.91 s\n",
      "\tpointing (icrs)   : 238.9 deg, 11.6 deg\n",
      "\n",
      "\tdeadtime fraction : 4.7%\n",
      "Observation\n",
      "\n",
      "\tobs id            : 4336 \n",
      " \ttstart            : 59312.22\n",
      "\ttstop             : 59312.23\n",
      "\tduration          : 893.38 s\n",
      "\tpointing (icrs)   : 238.9 deg, 10.8 deg\n",
      "\n",
      "\tdeadtime fraction : 4.5%\n",
      "Observation\n",
      "\n",
      "\tobs id            : 4343 \n",
      " \ttstart            : 59313.16\n",
      "\ttstop             : 59313.18\n",
      "\tduration          : 1205.88 s\n",
      "\tpointing (icrs)   : 239.3 deg, 11.2 deg\n",
      "\n",
      "\tdeadtime fraction : 5.9%\n",
      "Observation\n",
      "\n",
      "\tobs id            : 4344 \n",
      " \ttstart            : 59313.18\n",
      "\ttstop             : 59313.18\n",
      "\tduration          : 452.92 s\n",
      "\tpointing (icrs)   : 238.5 deg, 11.2 deg\n",
      "\n",
      "\tdeadtime fraction : 5.8%\n",
      "Observation\n",
      "\n",
      "\tobs id            : 4363 \n",
      " \ttstart            : 59315.02\n",
      "\ttstop             : 59315.03\n",
      "\tduration          : 1075.89 s\n",
      "\tpointing (icrs)   : 239.3 deg, 11.2 deg\n",
      "\n",
      "\tdeadtime fraction : 4.5%\n",
      "Observation\n",
      "\n",
      "\tobs id            : 4364 \n",
      " \ttstart            : 59315.03\n",
      "\ttstop             : 59315.05\n",
      "\tduration          : 1223.04 s\n",
      "\tpointing (icrs)   : 238.5 deg, 11.2 deg\n",
      "\n",
      "\tdeadtime fraction : 4.7%\n",
      "Observation\n",
      "\n",
      "\tobs id            : 4365 \n",
      " \ttstart            : 59315.05\n",
      "\ttstop             : 59315.05\n",
      "\tduration          : 354.48 s\n",
      "\tpointing (icrs)   : 238.9 deg, 11.6 deg\n",
      "\n",
      "\tdeadtime fraction : 4.6%\n",
      "Observation\n",
      "\n",
      "\tobs id            : 4366 \n",
      " \ttstart            : 59315.08\n",
      "\ttstop             : 59315.10\n",
      "\tduration          : 1260.25 s\n",
      "\tpointing (icrs)   : 238.9 deg, 11.6 deg\n",
      "\n",
      "\tdeadtime fraction : 5.4%\n",
      "Observation\n",
      "\n",
      "\tobs id            : 4367 \n",
      " \ttstart            : 59315.10\n",
      "\ttstop             : 59315.11\n",
      "\tduration          : 1254.56 s\n",
      "\tpointing (icrs)   : 238.9 deg, 10.8 deg\n",
      "\n",
      "\tdeadtime fraction : 5.5%\n",
      "Observation\n",
      "\n",
      "\tobs id            : 4368 \n",
      " \ttstart            : 59315.12\n",
      "\ttstop             : 59315.13\n",
      "\tduration          : 1131.94 s\n",
      "\tpointing (icrs)   : 239.3 deg, 11.2 deg\n",
      "\n",
      "\tdeadtime fraction : 5.7%\n",
      "Observation\n",
      "\n",
      "\tobs id            : 4514 \n",
      " \ttstart            : 59325.16\n",
      "\ttstop             : 59325.17\n",
      "\tduration          : 626.01 s\n",
      "\tpointing (icrs)   : 239.3 deg, 11.2 deg\n",
      "\n",
      "\tdeadtime fraction : 5.7%\n",
      "Observation\n",
      "\n",
      "\tobs id            : 4515 \n",
      " \ttstart            : 59325.17\n",
      "\ttstop             : 59325.17\n",
      "\tduration          : 567.89 s\n",
      "\tpointing (icrs)   : 238.5 deg, 11.2 deg\n",
      "\n",
      "\tdeadtime fraction : 4.9%\n",
      "Observation\n",
      "\n",
      "\tobs id            : 4652 \n",
      " \ttstart            : 59342.96\n",
      "\ttstop             : 59342.97\n",
      "\tduration          : 1145.77 s\n",
      "\tpointing (icrs)   : 238.9 deg, 11.6 deg\n",
      "\n",
      "\tdeadtime fraction : 4.9%\n",
      "Observation\n",
      "\n",
      "\tobs id            : 4653 \n",
      " \ttstart            : 59342.98\n",
      "\ttstop             : 59342.99\n",
      "\tduration          : 1123.16 s\n",
      "\tpointing (icrs)   : 238.9 deg, 10.8 deg\n",
      "\n",
      "\tdeadtime fraction : 4.9%\n",
      "Observation\n",
      "\n",
      "\tobs id            : 4654 \n",
      " \ttstart            : 59342.99\n",
      "\ttstop             : 59343.00\n",
      "\tduration          : 902.86 s\n",
      "\tpointing (icrs)   : 239.3 deg, 11.2 deg\n",
      "\n",
      "\tdeadtime fraction : 5.1%\n",
      "Observation\n",
      "\n",
      "\tobs id            : 4902 \n",
      " \ttstart            : 59369.95\n",
      "\ttstop             : 59369.96\n",
      "\tduration          : 886.08 s\n",
      "\tpointing (icrs)   : 239.3 deg, 11.2 deg\n",
      "\n",
      "\tdeadtime fraction : 5.4%\n",
      "Observation\n",
      "\n",
      "\tobs id            : 4903 \n",
      " \ttstart            : 59369.97\n",
      "\ttstop             : 59369.98\n",
      "\tduration          : 904.91 s\n",
      "\tpointing (icrs)   : 238.5 deg, 11.2 deg\n",
      "\n",
      "\tdeadtime fraction : 5.5%\n",
      "Observation\n",
      "\n",
      "\tobs id            : 4904 \n",
      " \ttstart            : 59369.98\n",
      "\ttstop             : 59369.99\n",
      "\tduration          : 786.34 s\n",
      "\tpointing (icrs)   : 238.9 deg, 11.6 deg\n",
      "\n",
      "\tdeadtime fraction : 5.7%\n",
      "Observation\n",
      "\n",
      "\tobs id            : 4905 \n",
      " \ttstart            : 59369.99\n",
      "\ttstop             : 59370.00\n",
      "\tduration          : 786.55 s\n",
      "\tpointing (icrs)   : 238.9 deg, 10.8 deg\n",
      "\n",
      "\tdeadtime fraction : 5.6%\n",
      "Observation\n",
      "\n",
      "\tobs id            : 4930 \n",
      " \ttstart            : 59371.09\n",
      "\ttstop             : 59371.10\n",
      "\tduration          : 1086.27 s\n",
      "\tpointing (icrs)   : 238.9 deg, 11.6 deg\n",
      "\n",
      "\tdeadtime fraction : 4.2%\n",
      "Observation\n",
      "\n",
      "\tobs id            : 4940 \n",
      " \ttstart            : 59371.94\n",
      "\ttstop             : 59371.95\n",
      "\tduration          : 1203.49 s\n",
      "\tpointing (icrs)   : 239.3 deg, 11.2 deg\n",
      "\n",
      "\tdeadtime fraction : 4.2%\n",
      "Observation\n",
      "\n",
      "\tobs id            : 4941 \n",
      " \ttstart            : 59371.95\n",
      "\ttstop             : 59371.97\n",
      "\tduration          : 1205.22 s\n",
      "\tpointing (icrs)   : 238.5 deg, 11.2 deg\n",
      "\n",
      "\tdeadtime fraction : 4.2%\n",
      "Observation\n",
      "\n",
      "\tobs id            : 4942 \n",
      " \ttstart            : 59371.97\n",
      "\ttstop             : 59371.99\n",
      "\tduration          : 1205.99 s\n",
      "\tpointing (icrs)   : 238.9 deg, 11.6 deg\n",
      "\n",
      "\tdeadtime fraction : 4.2%\n",
      "Observation\n",
      "\n",
      "\tobs id            : 4943 \n",
      " \ttstart            : 59371.99\n",
      "\ttstop             : 59372.00\n",
      "\tduration          : 1205.74 s\n",
      "\tpointing (icrs)   : 238.9 deg, 10.8 deg\n",
      "\n",
      "\tdeadtime fraction : 4.2%\n",
      "Observation\n",
      "\n",
      "\tobs id            : 7153 \n",
      " \ttstart            : 59639.19\n",
      "\ttstop             : 59639.20\n",
      "\tduration          : 885.00 s\n",
      "\tpointing (icrs)   : 239.3 deg, 11.2 deg\n",
      "\n",
      "\tdeadtime fraction : 5.2%\n",
      "Observation\n",
      "\n",
      "\tobs id            : 7154 \n",
      " \ttstart            : 59639.20\n",
      "\ttstop             : 59639.22\n",
      "\tduration          : 1119.52 s\n",
      "\tpointing (icrs)   : 238.5 deg, 11.2 deg\n",
      "\n",
      "\tdeadtime fraction : 5.4%\n",
      "Observation\n",
      "\n",
      "\tobs id            : 8059 \n",
      " \ttstart            : 59701.08\n",
      "\ttstop             : 59701.09\n",
      "\tduration          : 1199.25 s\n",
      "\tpointing (icrs)   : 239.3 deg, 11.2 deg\n",
      "\n",
      "\tdeadtime fraction : 5.6%\n",
      "Observation\n",
      "\n",
      "\tobs id            : 8060 \n",
      " \ttstart            : 59701.09\n",
      "\ttstop             : 59701.11\n",
      "\tduration          : 1115.58 s\n",
      "\tpointing (icrs)   : 238.5 deg, 11.2 deg\n",
      "\n",
      "\tdeadtime fraction : 5.6%\n",
      "Observation\n",
      "\n",
      "\tobs id            : 8061 \n",
      " \ttstart            : 59701.11\n",
      "\ttstop             : 59701.12\n",
      "\tduration          : 1159.73 s\n",
      "\tpointing (icrs)   : 238.9 deg, 11.6 deg\n",
      "\n",
      "\tdeadtime fraction : 5.6%\n",
      "Observation\n",
      "\n",
      "\tobs id            : 8062 \n",
      " \ttstart            : 59701.12\n",
      "\ttstop             : 59701.14\n",
      "\tduration          : 1204.88 s\n",
      "\tpointing (icrs)   : 238.9 deg, 10.8 deg\n",
      "\n",
      "\tdeadtime fraction : 5.4%\n",
      "Observation\n",
      "\n",
      "\tobs id            : 8063 \n",
      " \ttstart            : 59701.14\n",
      "\ttstop             : 59701.15\n",
      "\tduration          : 1034.57 s\n",
      "\tpointing (icrs)   : 239.3 deg, 11.2 deg\n",
      "\n",
      "\tdeadtime fraction : 5.3%\n",
      "Observation\n",
      "\n",
      "\tobs id            : 8064 \n",
      " \ttstart            : 59701.15\n",
      "\ttstop             : 59701.16\n",
      "\tduration          : 1117.88 s\n",
      "\tpointing (icrs)   : 238.5 deg, 11.2 deg\n",
      "\n",
      "\tdeadtime fraction : 5.0%\n",
      "Observation\n",
      "\n",
      "\tobs id            : 8377 \n",
      " \ttstart            : 59720.01\n",
      "\ttstop             : 59720.01\n",
      "\tduration          : 751.59 s\n",
      "\tpointing (icrs)   : 239.3 deg, 11.2 deg\n",
      "\n",
      "\tdeadtime fraction : 5.4%\n",
      "Observation\n",
      "\n",
      "\tobs id            : 8378 \n",
      " \ttstart            : 59720.02\n",
      "\ttstop             : 59720.02\n",
      "\tduration          : 708.27 s\n",
      "\tpointing (icrs)   : 238.5 deg, 11.2 deg\n",
      "\n",
      "\tdeadtime fraction : 5.5%\n",
      "Observation\n",
      "\n",
      "\tobs id            : 8379 \n",
      " \ttstart            : 59720.02\n",
      "\ttstop             : 59720.02\n",
      "\tduration          : 53.17 s\n",
      "\tpointing (icrs)   : 239.3 deg, 11.2 deg\n",
      "\n",
      "\tdeadtime fraction : 5.3%\n",
      "Observation\n",
      "\n",
      "\tobs id            : 8424 \n",
      " \ttstart            : 59722.93\n",
      "\ttstop             : 59722.94\n",
      "\tduration          : 970.00 s\n",
      "\tpointing (icrs)   : 238.9 deg, 10.8 deg\n",
      "\n",
      "\tdeadtime fraction : 4.8%\n",
      "Observation\n",
      "\n",
      "\tobs id            : 8425 \n",
      " \ttstart            : 59722.94\n",
      "\ttstop             : 59722.95\n",
      "\tduration          : 522.91 s\n",
      "\tpointing (icrs)   : 239.3 deg, 11.2 deg\n",
      "\n",
      "\tdeadtime fraction : 4.9%\n",
      "\n"
     ]
    }
   ],
   "source": [
    "print(generate_1d_dataset.observations)"
   ]
  },
  {
   "cell_type": "code",
   "execution_count": 28,
   "id": "a773220a",
   "metadata": {},
   "outputs": [
    {
     "name": "stdout",
     "output_type": "stream",
     "text": [
      "Using the list of required IRFs: [<RequiredHDUEnum.aeff: 'aeff'>, <RequiredHDUEnum.edisp: 'edisp'>, <RequiredHDUEnum.rad_max: 'rad_max'>]\n",
      "Selected observations from the given DataStore: ['4333', '4334', '4335', '4336', '4343', '4344', '4363', '4364', '4365', '4366', '4367', '4368', '4514', '4515', '4652', '4653', '4654', '4902', '4903', '4904', '4905', '4930', '4940', '4941', '4942', '4943', '7153', '7154', '8059', '8060', '8061', '8062', '8063', '8064', '8377', '8378', '8379', '8424', '8425']\n"
     ]
    }
   ],
   "source": [
    "print(\"Using the list of required IRFs:\", generate_1d_dataset.config_1d_dataset_info.observation.required_irfs)\n",
    "print(\"Selected observations from the given DataStore:\", generate_1d_dataset.observations.ids)"
   ]
  },
  {
   "cell_type": "code",
   "execution_count": null,
   "id": "f9f5f404",
   "metadata": {},
   "outputs": [],
   "source": []
  },
  {
   "cell_type": "markdown",
   "id": "a21e4400",
   "metadata": {},
   "source": [
    "## Create the base dataset template and get all the Dataset Reduction makers "
   ]
  },
  {
   "cell_type": "code",
   "execution_count": 29,
   "id": "35434aff",
   "metadata": {},
   "outputs": [],
   "source": [
    "generate_1d_dataset.dataset_template = generate_1d_dataset.generate_geom()"
   ]
  },
  {
   "cell_type": "code",
   "execution_count": 30,
   "id": "60cb9833",
   "metadata": {},
   "outputs": [
    {
     "name": "stdout",
     "output_type": "stream",
     "text": [
      "SpectrumDataset\n",
      "---------------\n",
      "\n",
      "  Name                            : 5bev_jUI \n",
      "\n",
      "  Total counts                    : 0 \n",
      "  Total background counts         : 0.00\n",
      "  Total excess counts             : 0.00\n",
      "\n",
      "  Predicted counts                : 0.00\n",
      "  Predicted background counts     : 0.00\n",
      "  Predicted excess counts         : nan\n",
      "\n",
      "  Exposure min                    : 0.00e+00 m2 s\n",
      "  Exposure max                    : 0.00e+00 m2 s\n",
      "\n",
      "  Number of total bins            : 15 \n",
      "  Number of fit bins              : 0 \n",
      "\n",
      "  Fit statistic type              : cash\n",
      "  Fit statistic value (-2 log(L)) : nan\n",
      "\n",
      "  Number of models                : 0 \n",
      "  Number of parameters            : 0\n",
      "  Number of free parameters       : 0\n",
      "\n",
      "\n"
     ]
    }
   ],
   "source": [
    "print(generate_1d_dataset.dataset_template)"
   ]
  },
  {
   "cell_type": "code",
   "execution_count": 31,
   "id": "8e621e25",
   "metadata": {},
   "outputs": [
    {
     "name": "stdout",
     "output_type": "stream",
     "text": [
      "CPU times: user 31.9 ms, sys: 1.72 ms, total: 33.7 ms\n",
      "Wall time: 31.4 ms\n"
     ]
    }
   ],
   "source": [
    "%%time\n",
    "(\n",
    "    generate_1d_dataset.dataset_maker, \n",
    "    generate_1d_dataset.bkg_maker, \n",
    "    generate_1d_dataset.safe_maker\n",
    ") = generate_1d_dataset.get_reduction_makers()"
   ]
  },
  {
   "cell_type": "code",
   "execution_count": 32,
   "id": "5ec184ae",
   "metadata": {},
   "outputs": [
    {
     "name": "stdout",
     "output_type": "stream",
     "text": [
      "SpectrumDatasetMaker\n",
      "--------------------\n",
      "\n",
      "  selection               : {<MapSelectionEnum.counts: 'counts'>, <MapSelectionEnum.exposure: 'exposure'>, <MapSelectionEnum.edisp: 'edisp'>}\n",
      "  containment_correction  : False\n",
      "  use_region_center       : True\n",
      "\n"
     ]
    }
   ],
   "source": [
    "print(generate_1d_dataset.dataset_maker)"
   ]
  },
  {
   "cell_type": "code",
   "execution_count": 33,
   "id": "2b3fa091",
   "metadata": {},
   "outputs": [
    {
     "name": "stdout",
     "output_type": "stream",
     "text": [
      "ReflectedRegionsBackgroundMaker\n",
      "-------------------------------\n",
      "\n",
      "  region_finder  : <gammapy.makers.background.reflected.WobbleRegionsFinder object at 0x7fb7f45ac0a0>\n",
      "  exclusion_mask : WcsNDMap\n",
      "\n",
      "  geom  : WcsGeom \n",
      "  axes  : ['lon', 'lat']\n",
      "  shape : (125, 125)\n",
      "  ndim  : 2\n",
      "  unit  : \n",
      "  dtype : bool\n",
      "\n",
      "\n",
      "<gammapy.makers.background.reflected.WobbleRegionsFinder object at 0x7fb7f45ac0a0>\n",
      "Number of Wobble OFF regions selected: 1\n"
     ]
    }
   ],
   "source": [
    "print(generate_1d_dataset.bkg_maker)\n",
    "print(generate_1d_dataset.bkg_maker.region_finder)\n",
    "print(\"Number of Wobble OFF regions selected:\", generate_1d_dataset.bkg_maker.region_finder.n_off_regions)"
   ]
  },
  {
   "cell_type": "code",
   "execution_count": 34,
   "id": "5fba97de",
   "metadata": {},
   "outputs": [
    {
     "name": "stdout",
     "output_type": "stream",
     "text": [
      "None\n"
     ]
    }
   ],
   "source": [
    "print(generate_1d_dataset.safe_maker)"
   ]
  },
  {
   "cell_type": "code",
   "execution_count": null,
   "id": "c0922396",
   "metadata": {},
   "outputs": [],
   "source": []
  },
  {
   "cell_type": "code",
   "execution_count": 35,
   "id": "6fad1930",
   "metadata": {},
   "outputs": [
    {
     "name": "stdout",
     "output_type": "stream",
     "text": [
      "CPU times: user 1min 7s, sys: 17.5 s, total: 1min 24s\n",
      "Wall time: 1min 25s\n"
     ]
    }
   ],
   "source": [
    "%%time\n",
    "generate_1d_dataset.generate_dataset()"
   ]
  },
  {
   "cell_type": "code",
   "execution_count": 36,
   "id": "f38925f7",
   "metadata": {},
   "outputs": [
    {
     "name": "stdout",
     "output_type": "stream",
     "text": [
      "Datasets\n",
      "--------\n",
      "\n",
      "Dataset 0: \n",
      "\n",
      "  Type       : SpectrumDatasetOnOff\n",
      "  Name       : 4333\n",
      "  Instrument : CTA-N\n",
      "  Models     : \n",
      "\n",
      "Dataset 1: \n",
      "\n",
      "  Type       : SpectrumDatasetOnOff\n",
      "  Name       : 4334\n",
      "  Instrument : CTA-N\n",
      "  Models     : \n",
      "\n",
      "Dataset 2: \n",
      "\n",
      "  Type       : SpectrumDatasetOnOff\n",
      "  Name       : 4335\n",
      "  Instrument : CTA-N\n",
      "  Models     : \n",
      "\n",
      "Dataset 3: \n",
      "\n",
      "  Type       : SpectrumDatasetOnOff\n",
      "  Name       : 4336\n",
      "  Instrument : CTA-N\n",
      "  Models     : \n",
      "\n",
      "Dataset 4: \n",
      "\n",
      "  Type       : SpectrumDatasetOnOff\n",
      "  Name       : 4343\n",
      "  Instrument : CTA-N\n",
      "  Models     : \n",
      "\n",
      "Dataset 5: \n",
      "\n",
      "  Type       : SpectrumDatasetOnOff\n",
      "  Name       : 4344\n",
      "  Instrument : CTA-N\n",
      "  Models     : \n",
      "\n",
      "Dataset 6: \n",
      "\n",
      "  Type       : SpectrumDatasetOnOff\n",
      "  Name       : 4363\n",
      "  Instrument : CTA-N\n",
      "  Models     : \n",
      "\n",
      "Dataset 7: \n",
      "\n",
      "  Type       : SpectrumDatasetOnOff\n",
      "  Name       : 4364\n",
      "  Instrument : CTA-N\n",
      "  Models     : \n",
      "\n",
      "Dataset 8: \n",
      "\n",
      "  Type       : SpectrumDatasetOnOff\n",
      "  Name       : 4365\n",
      "  Instrument : CTA-N\n",
      "  Models     : \n",
      "\n",
      "Dataset 9: \n",
      "\n",
      "  Type       : SpectrumDatasetOnOff\n",
      "  Name       : 4366\n",
      "  Instrument : CTA-N\n",
      "  Models     : \n",
      "\n",
      "Dataset 10: \n",
      "\n",
      "  Type       : SpectrumDatasetOnOff\n",
      "  Name       : 4367\n",
      "  Instrument : CTA-N\n",
      "  Models     : \n",
      "\n",
      "Dataset 11: \n",
      "\n",
      "  Type       : SpectrumDatasetOnOff\n",
      "  Name       : 4368\n",
      "  Instrument : CTA-N\n",
      "  Models     : \n",
      "\n",
      "Dataset 12: \n",
      "\n",
      "  Type       : SpectrumDatasetOnOff\n",
      "  Name       : 4514\n",
      "  Instrument : CTA-N\n",
      "  Models     : \n",
      "\n",
      "Dataset 13: \n",
      "\n",
      "  Type       : SpectrumDatasetOnOff\n",
      "  Name       : 4515\n",
      "  Instrument : CTA-N\n",
      "  Models     : \n",
      "\n",
      "Dataset 14: \n",
      "\n",
      "  Type       : SpectrumDatasetOnOff\n",
      "  Name       : 4652\n",
      "  Instrument : CTA-N\n",
      "  Models     : \n",
      "\n",
      "Dataset 15: \n",
      "\n",
      "  Type       : SpectrumDatasetOnOff\n",
      "  Name       : 4653\n",
      "  Instrument : CTA-N\n",
      "  Models     : \n",
      "\n",
      "Dataset 16: \n",
      "\n",
      "  Type       : SpectrumDatasetOnOff\n",
      "  Name       : 4654\n",
      "  Instrument : CTA-N\n",
      "  Models     : \n",
      "\n",
      "Dataset 17: \n",
      "\n",
      "  Type       : SpectrumDatasetOnOff\n",
      "  Name       : 4902\n",
      "  Instrument : CTA-N\n",
      "  Models     : \n",
      "\n",
      "Dataset 18: \n",
      "\n",
      "  Type       : SpectrumDatasetOnOff\n",
      "  Name       : 4903\n",
      "  Instrument : CTA-N\n",
      "  Models     : \n",
      "\n",
      "Dataset 19: \n",
      "\n",
      "  Type       : SpectrumDatasetOnOff\n",
      "  Name       : 4904\n",
      "  Instrument : CTA-N\n",
      "  Models     : \n",
      "\n",
      "Dataset 20: \n",
      "\n",
      "  Type       : SpectrumDatasetOnOff\n",
      "  Name       : 4905\n",
      "  Instrument : CTA-N\n",
      "  Models     : \n",
      "\n",
      "Dataset 21: \n",
      "\n",
      "  Type       : SpectrumDatasetOnOff\n",
      "  Name       : 4930\n",
      "  Instrument : CTA-N\n",
      "  Models     : \n",
      "\n",
      "Dataset 22: \n",
      "\n",
      "  Type       : SpectrumDatasetOnOff\n",
      "  Name       : 4940\n",
      "  Instrument : CTA-N\n",
      "  Models     : \n",
      "\n",
      "Dataset 23: \n",
      "\n",
      "  Type       : SpectrumDatasetOnOff\n",
      "  Name       : 4941\n",
      "  Instrument : CTA-N\n",
      "  Models     : \n",
      "\n",
      "Dataset 24: \n",
      "\n",
      "  Type       : SpectrumDatasetOnOff\n",
      "  Name       : 4942\n",
      "  Instrument : CTA-N\n",
      "  Models     : \n",
      "\n",
      "Dataset 25: \n",
      "\n",
      "  Type       : SpectrumDatasetOnOff\n",
      "  Name       : 4943\n",
      "  Instrument : CTA-N\n",
      "  Models     : \n",
      "\n",
      "Dataset 26: \n",
      "\n",
      "  Type       : SpectrumDatasetOnOff\n",
      "  Name       : 7153\n",
      "  Instrument : CTA-N\n",
      "  Models     : \n",
      "\n",
      "Dataset 27: \n",
      "\n",
      "  Type       : SpectrumDatasetOnOff\n",
      "  Name       : 7154\n",
      "  Instrument : CTA-N\n",
      "  Models     : \n",
      "\n",
      "Dataset 28: \n",
      "\n",
      "  Type       : SpectrumDatasetOnOff\n",
      "  Name       : 8059\n",
      "  Instrument : CTA-N\n",
      "  Models     : \n",
      "\n",
      "Dataset 29: \n",
      "\n",
      "  Type       : SpectrumDatasetOnOff\n",
      "  Name       : 8060\n",
      "  Instrument : CTA-N\n",
      "  Models     : \n",
      "\n",
      "Dataset 30: \n",
      "\n",
      "  Type       : SpectrumDatasetOnOff\n",
      "  Name       : 8061\n",
      "  Instrument : CTA-N\n",
      "  Models     : \n",
      "\n",
      "Dataset 31: \n",
      "\n",
      "  Type       : SpectrumDatasetOnOff\n",
      "  Name       : 8062\n",
      "  Instrument : CTA-N\n",
      "  Models     : \n",
      "\n",
      "Dataset 32: \n",
      "\n",
      "  Type       : SpectrumDatasetOnOff\n",
      "  Name       : 8063\n",
      "  Instrument : CTA-N\n",
      "  Models     : \n",
      "\n",
      "Dataset 33: \n",
      "\n",
      "  Type       : SpectrumDatasetOnOff\n",
      "  Name       : 8064\n",
      "  Instrument : CTA-N\n",
      "  Models     : \n",
      "\n",
      "Dataset 34: \n",
      "\n",
      "  Type       : SpectrumDatasetOnOff\n",
      "  Name       : 8377\n",
      "  Instrument : CTA-N\n",
      "  Models     : \n",
      "\n",
      "Dataset 35: \n",
      "\n",
      "  Type       : SpectrumDatasetOnOff\n",
      "  Name       : 8378\n",
      "  Instrument : CTA-N\n",
      "  Models     : \n",
      "\n",
      "Dataset 36: \n",
      "\n",
      "  Type       : SpectrumDatasetOnOff\n",
      "  Name       : 8379\n",
      "  Instrument : CTA-N\n",
      "  Models     : \n",
      "\n",
      "Dataset 37: \n",
      "\n",
      "  Type       : SpectrumDatasetOnOff\n",
      "  Name       : 8424\n",
      "  Instrument : CTA-N\n",
      "  Models     : \n",
      "\n",
      "Dataset 38: \n",
      "\n",
      "  Type       : SpectrumDatasetOnOff\n",
      "  Name       : 8425\n",
      "  Instrument : CTA-N\n",
      "  Models     : \n",
      "\n",
      "\n"
     ]
    }
   ],
   "source": [
    "print(generate_1d_dataset.datasets)"
   ]
  },
  {
   "cell_type": "code",
   "execution_count": 37,
   "id": "46aca7b4",
   "metadata": {
    "scrolled": true
   },
   "outputs": [],
   "source": [
    "info_table = generate_1d_dataset.datasets.info_table(cumulative=True)"
   ]
  },
  {
   "cell_type": "code",
   "execution_count": 38,
   "id": "a5f03e6d",
   "metadata": {},
   "outputs": [],
   "source": [
    "stacked_dataset = generate_1d_dataset.datasets.stack_reduce(name=config_1d_dataset.name)"
   ]
  },
  {
   "cell_type": "code",
   "execution_count": 39,
   "id": "d60a735c",
   "metadata": {},
   "outputs": [
    {
     "name": "stdout",
     "output_type": "stream",
     "text": [
      "SpectrumDatasetOnOff\n",
      "--------------------\n",
      "\n",
      "  Name                            : LST-1 \n",
      "\n",
      "  Total counts                    : 1653090 \n",
      "  Total background counts         : 1634543.00\n",
      "  Total excess counts             : 18547.00\n",
      "\n",
      "  Predicted counts                : 1643816.50\n",
      "  Predicted background counts     : 1643816.50\n",
      "  Predicted excess counts         : nan\n",
      "\n",
      "  Exposure min                    : 5.34e+07 m2 s\n",
      "  Exposure max                    : 1.14e+10 m2 s\n",
      "\n",
      "  Number of total bins            : 15 \n",
      "  Number of fit bins              : 10 \n",
      "\n",
      "  Fit statistic type              : wstat\n",
      "  Fit statistic value (-2 log(L)) : 183.81\n",
      "\n",
      "  Number of models                : 0 \n",
      "  Number of parameters            : 0\n",
      "  Number of free parameters       : 0\n",
      "\n",
      "  Total counts_off                : 1634543 \n",
      "  Acceptance                      : 15 \n",
      "  Acceptance off                  : 15 \n",
      "\n"
     ]
    }
   ],
   "source": [
    "print(stacked_dataset)"
   ]
  },
  {
   "cell_type": "markdown",
   "id": "75be2f9a",
   "metadata": {},
   "source": [
    "# Some Basic plots from the Dataset"
   ]
  },
  {
   "cell_type": "code",
   "execution_count": 40,
   "id": "610b3df6",
   "metadata": {
    "scrolled": true
   },
   "outputs": [
    {
     "data": {
      "text/html": [
       "<div><i>Table length=39</i>\n",
       "<table id=\"table140422586582736\" class=\"table-striped table-bordered table-condensed\">\n",
       "<thead><tr><th>name</th><th>counts</th><th>excess</th><th>sqrt_ts</th><th>background</th><th>npred</th><th>npred_background</th><th>npred_signal</th><th>exposure_min</th><th>exposure_max</th><th>livetime</th><th>ontime</th><th>counts_rate</th><th>background_rate</th><th>excess_rate</th><th>n_bins</th><th>n_fit_bins</th><th>stat_type</th><th>stat_sum</th><th>counts_off</th><th>acceptance</th><th>acceptance_off</th><th>alpha</th></tr></thead>\n",
       "<thead><tr><th></th><th></th><th></th><th></th><th></th><th></th><th></th><th></th><th>m2 s</th><th>m2 s</th><th>s</th><th>s</th><th>1 / s</th><th>1 / s</th><th>1 / s</th><th></th><th></th><th></th><th></th><th></th><th></th><th></th><th></th></tr></thead>\n",
       "<thead><tr><th>str7</th><th>int64</th><th>float64</th><th>float64</th><th>float64</th><th>float64</th><th>float64</th><th>float64</th><th>float64</th><th>float64</th><th>float64</th><th>float64</th><th>float64</th><th>float64</th><th>float64</th><th>int64</th><th>int64</th><th>str5</th><th>float64</th><th>int64</th><th>float64</th><th>float64</th><th>float64</th></tr></thead>\n",
       "<tr><td>stacked</td><td>52357</td><td>1176.0</td><td>3.654787282586355</td><td>51181.0</td><td>51769.0</td><td>51769.0</td><td>nan</td><td>2427766.0</td><td>297795808.0</td><td>1143.2808493425948</td><td>1204.2783241271973</td><td>45.79539666924897</td><td>44.76677802259166</td><td>1.0286186466573102</td><td>15</td><td>10</td><td>wstat</td><td>29.260604213403724</td><td>51181</td><td>10.0</td><td>10.0</td><td>1.0</td></tr>\n",
       "<tr><td>stacked</td><td>110892</td><td>2685.0</td><td>5.736269244887732</td><td>108207.0</td><td>109549.5</td><td>109549.5</td><td>nan</td><td>4520877.5</td><td>606002688.0</td><td>2275.8751200927504</td><td>2400.81862616539</td><td>48.724993309598084</td><td>47.54522734779497</td><td>1.1797659618031133</td><td>15</td><td>10</td><td>wstat</td><td>46.52181719098701</td><td>108207</td><td>10.0</td><td>10.0</td><td>1.0</td></tr>\n",
       "<tr><td>stacked</td><td>154526</td><td>1833.0</td><td>3.307042054568267</td><td>152693.0</td><td>153609.5</td><td>153609.5</td><td>nan</td><td>5912527.0</td><td>849842304.0</td><td>3136.266697396573</td><td>3303.732402086258</td><td>49.270682282304826</td><td>48.686229435382856</td><td>0.5844528469219726</td><td>15</td><td>10</td><td>wstat</td><td>27.833421771019687</td><td>152693</td><td>10.0</td><td>10.0</td><td>1.0</td></tr>\n",
       "<tr><td>stacked</td><td>195842</td><td>3593.0</td><td>5.76757875814541</td><td>192249.0</td><td>194045.5</td><td>194045.5</td><td>nan</td><td>7055617.0</td><td>1109788160.0</td><td>3989.605446334795</td><td>4197.109971046448</td><td>49.088062124017256</td><td>48.18747181544405</td><td>0.9005903085732069</td><td>15</td><td>10</td><td>wstat</td><td>48.01686103265342</td><td>192249</td><td>10.0</td><td>10.0</td><td>1.0</td></tr>\n",
       "<tr><td>stacked</td><td>257869</td><td>4024.0</td><td>5.625311295683934</td><td>253845.0</td><td>255857.0</td><td>255857.0</td><td>nan</td><td>9683964.0</td><td>1390595840.0</td><td>5124.268276506723</td><td>5402.988131046295</td><td>50.32308733370855</td><td>49.53780448299426</td><td>0.7852828507142898</td><td>15</td><td>10</td><td>wstat</td><td>50.968952540242526</td><td>253845</td><td>10.0</td><td>10.0</td><td>1.0</td></tr>\n",
       "<tr><td>stacked</td><td>281223</td><td>4231.0</td><td>5.66297120466343</td><td>276992.0</td><td>279107.5</td><td>279107.5</td><td>nan</td><td>10586442.0</td><td>1501767168.0</td><td>5550.793941179948</td><td>5855.907930850983</td><td>50.66356326320765</td><td>49.90132996021809</td><td>0.7622333029895547</td><td>15</td><td>10</td><td>wstat</td><td>53.85771737613834</td><td>276992</td><td>10.0</td><td>10.0</td><td>1.0</td></tr>\n",
       "<tr><td>stacked</td><td>307745</td><td>6599.0</td><td>8.456927393788746</td><td>301146.0</td><td>304445.5</td><td>304445.5</td><td>nan</td><td>10586442.0</td><td>2171700736.0</td><td>6578.216260791591</td><td>6931.798749446869</td><td>46.78243885569178</td><td>45.77927937622433</td><td>1.0031594794674488</td><td>15</td><td>10</td><td>wstat</td><td>115.273858636162</td><td>301146</td><td>10.0</td><td>10.0</td><td>1.0</td></tr>\n",
       "<tr><td>stacked</td><td>344317</td><td>5272.0</td><td>6.377524608807954</td><td>339045.0</td><td>341681.0</td><td>341681.0</td><td>nan</td><td>10586442.0</td><td>2771717888.0</td><td>7744.153617501187</td><td>8154.838000059128</td><td>44.46154053838372</td><td>43.78076891886346</td><td>0.6807716195202648</td><td>15</td><td>10</td><td>wstat</td><td>97.41623071041886</td><td>339045</td><td>10.0</td><td>10.0</td><td>1.0</td></tr>\n",
       "<tr><td>stacked</td><td>357206</td><td>5339.0</td><td>6.340397679984588</td><td>351867.0</td><td>354536.5</td><td>354536.5</td><td>nan</td><td>10706371.0</td><td>2926274816.0</td><td>8082.331855590092</td><td>8509.313678741455</td><td>44.19590860438882</td><td>43.53533191743834</td><td>0.6605766869504764</td><td>15</td><td>10</td><td>wstat</td><td>98.67860649235627</td><td>351867</td><td>10.0</td><td>10.0</td><td>1.0</td></tr>\n",
       "<tr><td>stacked</td><td>411821</td><td>5405.0</td><td>5.9752725630305825</td><td>406416.0</td><td>409118.5</td><td>409118.5</td><td>nan</td><td>12163161.0</td><td>3304691712.0</td><td>9275.002981556543</td><td>9769.558883666992</td><td>44.40117171055482</td><td>43.818422571740754</td><td>0.5827491388140692</td><td>15</td><td>10</td><td>wstat</td><td>113.5514217288528</td><td>406416</td><td>10.0</td><td>10.0</td><td>1.0</td></tr>\n",
       "<tr><td>stacked</td><td>472261</td><td>6780.0</td><td>7.001480795013881</td><td>465481.0</td><td>468871.0</td><td>468871.0</td><td>nan</td><td>14005393.0</td><td>3650810624.0</td><td>10460.018578288138</td><td>11024.123178720474</td><td>45.14915499101237</td><td>44.50097258586127</td><td>0.6481824051511005</td><td>15</td><td>10</td><td>wstat</td><td>111.9764673344871</td><td>465481</td><td>10.0</td><td>10.0</td><td>1.0</td></tr>\n",
       "<tr><td>stacked</td><td>530100</td><td>8808.0</td><td>8.590086001761478</td><td>521292.0</td><td>525696.0</td><td>525696.0</td><td>nan</td><td>16005878.0</td><td>3940082176.0</td><td>11527.992482261012</td><td>12156.067379951477</td><td>45.98372186794055</td><td>45.21966862852757</td><td>0.7640532394129794</td><td>15</td><td>10</td><td>wstat</td><td>131.26067916101056</td><td>521292</td><td>10.0</td><td>10.0</td><td>1.0</td></tr>\n",
       "<tr><td>stacked</td><td>561173</td><td>8525.0</td><td>8.077720221056913</td><td>552648.0</td><td>556910.5</td><td>556910.5</td><td>nan</td><td>17146968.0</td><td>4095761664.0</td><td>12118.476658413336</td><td>12782.081843137741</td><td>46.30722291406171</td><td>45.60375165770694</td><td>0.7034712563547713</td><td>15</td><td>10</td><td>wstat</td><td>128.33457417504724</td><td>552648</td><td>10.0</td><td>10.0</td><td>1.0</td></tr>\n",
       "<tr><td>stacked</td><td>587149</td><td>9476.0</td><td>8.780063663768948</td><td>577673.0</td><td>582411.0</td><td>582411.0</td><td>nan</td><td>18083750.0</td><td>4245778176.0</td><td>12658.514400113398</td><td>13349.976464986801</td><td>46.38372098346234</td><td>45.635133929683334</td><td>0.7485870537790053</td><td>15</td><td>10</td><td>wstat</td><td>133.35472592664428</td><td>577673</td><td>10.0</td><td>10.0</td><td>1.0</td></tr>\n",
       "<tr><td>stacked</td><td>622126</td><td>8661.0</td><td>7.791704054201323</td><td>613465.0</td><td>617795.5</td><td>617795.5</td><td>nan</td><td>18365448.0</td><td>4786077696.0</td><td>13747.661100508321</td><td>14495.741723537445</td><td>45.25322492689297</td><td>44.623226854007704</td><td>0.6299980728852677</td><td>15</td><td>10</td><td>wstat</td><td>132.43074757950308</td><td>613465</td><td>10.0</td><td>10.0</td><td>1.0</td></tr>\n",
       "<tr><td>stacked</td><td>664925</td><td>10231.0</td><td>8.906272526553593</td><td>654694.0</td><td>659809.5</td><td>659809.5</td><td>nan</td><td>18859476.0</td><td>5242900992.0</td><td>14815.504126973745</td><td>15618.902234315872</td><td>44.88034928149417</td><td>44.18978891228115</td><td>0.6905603692130192</td><td>15</td><td>10</td><td>wstat</td><td>126.45571138544983</td><td>654694</td><td>10.0</td><td>10.0</td><td>1.0</td></tr>\n",
       "<tr><td>stacked</td><td>699410</td><td>11484.0</td><td>9.750004940688887</td><td>687926.0</td><td>693668.0</td><td>693668.0</td><td>nan</td><td>19530210.0</td><td>5559170048.0</td><td>15672.311070639265</td><td>16521.758089780807</td><td>44.627113183727246</td><td>43.89435590573304</td><td>0.7327572779942003</td><td>15</td><td>10</td><td>wstat</td><td>133.27101183954255</td><td>687926</td><td>10.0</td><td>10.0</td><td>1.0</td></tr>\n",
       "<tr><td>stacked</td><td>743207</td><td>12403.0</td><td>10.215954358062273</td><td>730804.0</td><td>737005.5</td><td>737005.5</td><td>nan</td><td>20861142.0</td><td>5800816640.0</td><td>16510.381262667433</td><td>17407.835302829742</td><td>45.01452681050485</td><td>44.26330248668834</td><td>0.7512243238165027</td><td>15</td><td>10</td><td>wstat</td><td>143.7978288897466</td><td>730804</td><td>10.0</td><td>10.0</td><td>1.0</td></tr>\n",
       "<tr><td>stacked</td><td>789369</td><td>12335.0</td><td>9.85574923625344</td><td>777034.0</td><td>783201.5</td><td>783201.5</td><td>nan</td><td>22474968.0</td><td>6031680000.0</td><td>17365.36729276051</td><td>18312.744017124176</td><td>45.45651046085745</td><td>44.74618860056819</td><td>0.7103218602892648</td><td>15</td><td>10</td><td>wstat</td><td>140.98683134649582</td><td>777034</td><td>10.0</td><td>10.0</td><td>1.0</td></tr>\n",
       "<tr><td>stacked</td><td>830271</td><td>12961.0</td><td>10.097581399754551</td><td>817310.0</td><td>823790.5</td><td>823790.5</td><td>nan</td><td>24007476.0</td><td>6223883264.0</td><td>18106.696715393213</td><td>19099.086106538773</td><td>45.85436057445829</td><td>45.13854806576468</td><td>0.715812508693612</td><td>15</td><td>10</td><td>wstat</td><td>151.57340630274666</td><td>817310</td><td>10.0</td><td>10.0</td><td>1.0</td></tr>\n",
       "<tr><td>stacked</td><td>871389</td><td>14380.0</td><td>10.938040162099638</td><td>857009.0</td><td>864199.0</td><td>864199.0</td><td>nan</td><td>25727774.0</td><td>6406093824.0</td><td>18849.352907396617</td><td>19885.631714105606</td><td>46.22912013377716</td><td>45.46622922337582</td><td>0.7628909104013427</td><td>15</td><td>10</td><td>wstat</td><td>168.83567230341362</td><td>857009</td><td>10.0</td><td>10.0</td><td>1.0</td></tr>\n",
       "<tr><td>stacked</td><td>908889</td><td>13514.0</td><td>10.060878471963225</td><td>895375.0</td><td>902132.0</td><td>902132.0</td><td>nan</td><td>26478832.0</td><td>6792252928.0</td><td>19890.032782132137</td><td>20971.904118061066</td><td>45.69570145789224</td><td>45.01626567475266</td><td>0.6794357831395866</td><td>15</td><td>10</td><td>wstat</td><td>156.62325561447108</td><td>895375</td><td>10.0</td><td>10.0</td><td>1.0</td></tr>\n",
       "<tr><td>stacked</td><td>955945</td><td>15408.0</td><td>11.188562602787528</td><td>940537.0</td><td>948241.0</td><td>948241.0</td><td>nan</td><td>28041080.0</td><td>7147490304.0</td><td>21043.366095726287</td><td>22175.39422607422</td><td>45.427380565039144</td><td>44.69517831517527</td><td>0.7322022498638762</td><td>15</td><td>10</td><td>wstat</td><td>177.18126680181888</td><td>940537</td><td>10.0</td><td>10.0</td><td>1.0</td></tr>\n",
       "<tr><td>stacked</td><td>1000789</td><td>14233.0</td><td>10.096286650915594</td><td>986556.0</td><td>993672.5</td><td>993672.5</td><td>nan</td><td>30104662.0</td><td>7470492672.0</td><td>22197.854810424065</td><td>23380.6110060215</td><td>45.08494215080782</td><td>44.44375406657383</td><td>0.641188084233987</td><td>15</td><td>10</td><td>wstat</td><td>161.01705492877193</td><td>986556</td><td>10.0</td><td>10.0</td><td>1.0</td></tr>\n",
       "<tr><td>stacked</td><td>1042858</td><td>13285.0</td><td>9.228327656199049</td><td>1029573.0</td><td>1036215.5</td><td>1036215.5</td><td>nan</td><td>32521034.0</td><td>7774938112.0</td><td>23353.696515314532</td><td>24586.59655237198</td><td>44.65494356818975</td><td>44.08608287449665</td><td>0.5688606936931019</td><td>15</td><td>10</td><td>wstat</td><td>149.09106222604862</td><td>1029573</td><td>10.0</td><td>10.0</td><td>1.0</td></tr>\n",
       "<tr><td>stacked</td><td>1090052</td><td>14605.0</td><td>9.924855988533288</td><td>1075447.0</td><td>1082749.5</td><td>1082749.5</td><td>nan</td><td>35197608.0</td><td>8060898304.0</td><td>24509.179684203016</td><td>25792.33692741394</td><td>44.475254335116524</td><td>43.8793551582292</td><td>0.5958991768873199</td><td>15</td><td>10</td><td>wstat</td><td>155.83456863492722</td><td>1075447</td><td>10.0</td><td>10.0</td><td>1.0</td></tr>\n",
       "<tr><td>stacked</td><td>1126738</td><td>16272.0</td><td>10.879027050244796</td><td>1110466.0</td><td>1118602.0</td><td>1118602.0</td><td>nan</td><td>36060240.0</td><td>8346008576.0</td><td>25348.432830710408</td><td>26677.337739229202</td><td>44.450006338653104</td><td>43.80807316240222</td><td>0.6419331762508793</td><td>15</td><td>10</td><td>wstat</td><td>169.79179433591673</td><td>1110466</td><td>10.0</td><td>10.0</td><td>1.0</td></tr>\n",
       "<tr><td>stacked</td><td>1178026</td><td>14065.0</td><td>9.190704476980157</td><td>1163961.0</td><td>1170993.5</td><td>1170993.5</td><td>nan</td><td>37485456.0</td><td>8673190912.0</td><td>26407.670307223623</td><td>27796.858005285263</td><td>44.60923611568112</td><td>44.0766257098267</td><td>0.5326104058544165</td><td>15</td><td>10</td><td>wstat</td><td>153.72441783732904</td><td>1163961</td><td>10.0</td><td>10.0</td><td>1.0</td></tr>\n",
       "<tr><td>stacked</td><td>1240150</td><td>13776.0</td><td>8.77165597481506</td><td>1226374.0</td><td>1233262.0</td><td>1233262.0</td><td>nan</td><td>39924680.0</td><td>8969195520.0</td><td>27539.99850850623</td><td>28996.104714393616</td><td>45.03086663628385</td><td>44.53064874426961</td><td>0.5002178920142292</td><td>15</td><td>10</td><td>wstat</td><td>152.80747101733107</td><td>1226374</td><td>10.0</td><td>10.0</td><td>1.0</td></tr>\n",
       "<tr><td>stacked</td><td>1298057</td><td>14757.0</td><td>9.184916751864069</td><td>1283300.0</td><td>1290678.5</td><td>1290678.5</td><td>nan</td><td>42365388.0</td><td>9229956096.0</td><td>28593.65789129319</td><td>30111.686527252197</td><td>45.39667519751855</td><td>44.88058173175411</td><td>0.5160934657644319</td><td>15</td><td>10</td><td>wstat</td><td>159.47258235869378</td><td>1283300</td><td>10.0</td><td>10.0</td><td>1.0</td></tr>\n",
       "<tr><td>stacked</td><td>1357645</td><td>13291.0</td><td>8.08566868192378</td><td>1344354.0</td><td>1350999.5</td><td>1350999.5</td><td>nan</td><td>44739284.0</td><td>9512348672.0</td><td>29688.879111847084</td><td>31271.413893699646</td><td>45.72907568808294</td><td>45.28139964245223</td><td>0.4476760456307138</td><td>15</td><td>10</td><td>wstat</td><td>155.72391554729404</td><td>1344354</td><td>10.0</td><td>10.0</td><td>1.0</td></tr>\n",
       "<tr><td>stacked</td><td>1420260</td><td>14756.0</td><td>8.77812355696061</td><td>1405504.0</td><td>1412882.0</td><td>1412882.0</td><td>nan</td><td>46957692.0</td><td>9818536960.0</td><td>30828.427694800543</td><td>32476.29116165638</td><td>46.06981627673272</td><td>45.59116714982676</td><td>0.4786491269059666</td><td>15</td><td>10</td><td>wstat</td><td>161.41023699756772</td><td>1405504</td><td>10.0</td><td>10.0</td><td>1.0</td></tr>\n",
       "<tr><td>stacked</td><td>1471372</td><td>13287.0</td><td>7.763080965982464</td><td>1458085.0</td><td>1464728.5</td><td>1464728.5</td><td>nan</td><td>48643736.0</td><td>10091380736.0</td><td>31807.860717551503</td><td>33510.85955107212</td><td>46.258125092584436</td><td>45.84039816281741</td><td>0.4177269297670266</td><td>15</td><td>10</td><td>wstat</td><td>153.70558652189686</td><td>1458085</td><td>10.0</td><td>10.0</td><td>1.0</td></tr>\n",
       "<tr><td>stacked</td><td>1523564</td><td>15813.0</td><td>9.082381108426176</td><td>1507751.0</td><td>1515657.5</td><td>1515657.5</td><td>nan</td><td>50117764.0</td><td>10409922560.0</td><td>32870.0528507631</td><td>34628.73900091648</td><td>46.35112717698686</td><td>45.87005098061461</td><td>0.48107619637225163</td><td>15</td><td>10</td><td>wstat</td><td>169.53866131960388</td><td>1507751</td><td>10.0</td><td>10.0</td><td>1.0</td></tr>\n",
       "<tr><td>stacked</td><td>1560701</td><td>16480.0</td><td>9.352611180991653</td><td>1544221.0</td><td>1552461.0</td><td>1552461.0</td><td>nan</td><td>51379660.0</td><td>10609371136.0</td><td>33581.259255572186</td><td>35380.327095508575</td><td>46.47535663038099</td><td>45.984606719111206</td><td>0.49074991126979406</td><td>15</td><td>10</td><td>wstat</td><td>175.272625964824</td><td>1544221</td><td>10.0</td><td>10.0</td><td>1.0</td></tr>\n",
       "<tr><td>stacked</td><td>1596256</td><td>15937.0</td><td>8.941861252313222</td><td>1580319.0</td><td>1588287.5</td><td>1588287.5</td><td>nan</td><td>52708196.0</td><td>10789787648.0</td><td>34250.7752650752</td><td>36088.59629869461</td><td>46.604959673063775</td><td>46.13965633681344</td><td>0.46530333625033665</td><td>15</td><td>10</td><td>wstat</td><td>173.70317726624273</td><td>1580319</td><td>10.0</td><td>10.0</td><td>1.0</td></tr>\n",
       "<tr><td>stacked</td><td>1598934</td><td>15998.0</td><td>8.968615210247993</td><td>1582936.0</td><td>1590935.0</td><td>1590935.0</td><td>nan</td><td>52810352.0</td><td>10803237888.0</td><td>34301.1101026489</td><td>36141.76953911781</td><td>46.61464294348079</td><td>46.14824404408294</td><td>0.46639889939785234</td><td>15</td><td>10</td><td>wstat</td><td>174.71725414777904</td><td>1582936</td><td>10.0</td><td>10.0</td><td>1.0</td></tr>\n",
       "<tr><td>stacked</td><td>1632423</td><td>17249.0</td><td>9.571585373601902</td><td>1615174.0</td><td>1623798.5</td><td>1623798.5</td><td>nan</td><td>53125692.0</td><td>11226826752.0</td><td>35224.88993102386</td><td>37111.76655840874</td><td>46.34288434105978</td><td>45.85320218637381</td><td>0.489682154685973</td><td>15</td><td>10</td><td>wstat</td><td>176.56098784749122</td><td>1615174</td><td>10.0</td><td>10.0</td><td>1.0</td></tr>\n",
       "<tr><td>stacked</td><td>1653090</td><td>18547.0</td><td>10.228999521413977</td><td>1634543.0</td><td>1643816.5</td><td>1643816.5</td><td>nan</td><td>53366736.0</td><td>11434405888.0</td><td>35721.968617956925</td><td>37634.6777112484</td><td>46.27656492506449</td><td>45.75736061697167</td><td>0.5192043080928269</td><td>15</td><td>10</td><td>wstat</td><td>183.80772095741088</td><td>1634543</td><td>10.0</td><td>10.0</td><td>1.0</td></tr>\n",
       "</table></div>"
      ],
      "text/plain": [
       "<Table length=39>\n",
       "  name   counts  excess      sqrt_ts       background   npred   npred_background npred_signal exposure_min ... n_bins n_fit_bins stat_type      stat_sum      counts_off acceptance acceptance_off  alpha \n",
       "                                                                                                  m2 s     ...                                                                                            \n",
       "  str7   int64  float64      float64        float64    float64      float64        float64      float64    ... int64    int64       str5        float64         int64     float64      float64     float64\n",
       "------- ------- ------- ------------------ ---------- --------- ---------------- ------------ ------------ ... ------ ---------- --------- ------------------ ---------- ---------- -------------- -------\n",
       "stacked   52357  1176.0  3.654787282586355    51181.0   51769.0          51769.0          nan    2427766.0 ...     15         10     wstat 29.260604213403724      51181       10.0           10.0     1.0\n",
       "stacked  110892  2685.0  5.736269244887732   108207.0  109549.5         109549.5          nan    4520877.5 ...     15         10     wstat  46.52181719098701     108207       10.0           10.0     1.0\n",
       "stacked  154526  1833.0  3.307042054568267   152693.0  153609.5         153609.5          nan    5912527.0 ...     15         10     wstat 27.833421771019687     152693       10.0           10.0     1.0\n",
       "stacked  195842  3593.0   5.76757875814541   192249.0  194045.5         194045.5          nan    7055617.0 ...     15         10     wstat  48.01686103265342     192249       10.0           10.0     1.0\n",
       "stacked  257869  4024.0  5.625311295683934   253845.0  255857.0         255857.0          nan    9683964.0 ...     15         10     wstat 50.968952540242526     253845       10.0           10.0     1.0\n",
       "stacked  281223  4231.0   5.66297120466343   276992.0  279107.5         279107.5          nan   10586442.0 ...     15         10     wstat  53.85771737613834     276992       10.0           10.0     1.0\n",
       "stacked  307745  6599.0  8.456927393788746   301146.0  304445.5         304445.5          nan   10586442.0 ...     15         10     wstat   115.273858636162     301146       10.0           10.0     1.0\n",
       "stacked  344317  5272.0  6.377524608807954   339045.0  341681.0         341681.0          nan   10586442.0 ...     15         10     wstat  97.41623071041886     339045       10.0           10.0     1.0\n",
       "stacked  357206  5339.0  6.340397679984588   351867.0  354536.5         354536.5          nan   10706371.0 ...     15         10     wstat  98.67860649235627     351867       10.0           10.0     1.0\n",
       "stacked  411821  5405.0 5.9752725630305825   406416.0  409118.5         409118.5          nan   12163161.0 ...     15         10     wstat  113.5514217288528     406416       10.0           10.0     1.0\n",
       "stacked  472261  6780.0  7.001480795013881   465481.0  468871.0         468871.0          nan   14005393.0 ...     15         10     wstat  111.9764673344871     465481       10.0           10.0     1.0\n",
       "stacked  530100  8808.0  8.590086001761478   521292.0  525696.0         525696.0          nan   16005878.0 ...     15         10     wstat 131.26067916101056     521292       10.0           10.0     1.0\n",
       "stacked  561173  8525.0  8.077720221056913   552648.0  556910.5         556910.5          nan   17146968.0 ...     15         10     wstat 128.33457417504724     552648       10.0           10.0     1.0\n",
       "stacked  587149  9476.0  8.780063663768948   577673.0  582411.0         582411.0          nan   18083750.0 ...     15         10     wstat 133.35472592664428     577673       10.0           10.0     1.0\n",
       "stacked  622126  8661.0  7.791704054201323   613465.0  617795.5         617795.5          nan   18365448.0 ...     15         10     wstat 132.43074757950308     613465       10.0           10.0     1.0\n",
       "stacked  664925 10231.0  8.906272526553593   654694.0  659809.5         659809.5          nan   18859476.0 ...     15         10     wstat 126.45571138544983     654694       10.0           10.0     1.0\n",
       "stacked  699410 11484.0  9.750004940688887   687926.0  693668.0         693668.0          nan   19530210.0 ...     15         10     wstat 133.27101183954255     687926       10.0           10.0     1.0\n",
       "stacked  743207 12403.0 10.215954358062273   730804.0  737005.5         737005.5          nan   20861142.0 ...     15         10     wstat  143.7978288897466     730804       10.0           10.0     1.0\n",
       "stacked  789369 12335.0   9.85574923625344   777034.0  783201.5         783201.5          nan   22474968.0 ...     15         10     wstat 140.98683134649582     777034       10.0           10.0     1.0\n",
       "stacked  830271 12961.0 10.097581399754551   817310.0  823790.5         823790.5          nan   24007476.0 ...     15         10     wstat 151.57340630274666     817310       10.0           10.0     1.0\n",
       "stacked  871389 14380.0 10.938040162099638   857009.0  864199.0         864199.0          nan   25727774.0 ...     15         10     wstat 168.83567230341362     857009       10.0           10.0     1.0\n",
       "stacked  908889 13514.0 10.060878471963225   895375.0  902132.0         902132.0          nan   26478832.0 ...     15         10     wstat 156.62325561447108     895375       10.0           10.0     1.0\n",
       "stacked  955945 15408.0 11.188562602787528   940537.0  948241.0         948241.0          nan   28041080.0 ...     15         10     wstat 177.18126680181888     940537       10.0           10.0     1.0\n",
       "stacked 1000789 14233.0 10.096286650915594   986556.0  993672.5         993672.5          nan   30104662.0 ...     15         10     wstat 161.01705492877193     986556       10.0           10.0     1.0\n",
       "stacked 1042858 13285.0  9.228327656199049  1029573.0 1036215.5        1036215.5          nan   32521034.0 ...     15         10     wstat 149.09106222604862    1029573       10.0           10.0     1.0\n",
       "stacked 1090052 14605.0  9.924855988533288  1075447.0 1082749.5        1082749.5          nan   35197608.0 ...     15         10     wstat 155.83456863492722    1075447       10.0           10.0     1.0\n",
       "stacked 1126738 16272.0 10.879027050244796  1110466.0 1118602.0        1118602.0          nan   36060240.0 ...     15         10     wstat 169.79179433591673    1110466       10.0           10.0     1.0\n",
       "stacked 1178026 14065.0  9.190704476980157  1163961.0 1170993.5        1170993.5          nan   37485456.0 ...     15         10     wstat 153.72441783732904    1163961       10.0           10.0     1.0\n",
       "stacked 1240150 13776.0   8.77165597481506  1226374.0 1233262.0        1233262.0          nan   39924680.0 ...     15         10     wstat 152.80747101733107    1226374       10.0           10.0     1.0\n",
       "stacked 1298057 14757.0  9.184916751864069  1283300.0 1290678.5        1290678.5          nan   42365388.0 ...     15         10     wstat 159.47258235869378    1283300       10.0           10.0     1.0\n",
       "stacked 1357645 13291.0   8.08566868192378  1344354.0 1350999.5        1350999.5          nan   44739284.0 ...     15         10     wstat 155.72391554729404    1344354       10.0           10.0     1.0\n",
       "stacked 1420260 14756.0   8.77812355696061  1405504.0 1412882.0        1412882.0          nan   46957692.0 ...     15         10     wstat 161.41023699756772    1405504       10.0           10.0     1.0\n",
       "stacked 1471372 13287.0  7.763080965982464  1458085.0 1464728.5        1464728.5          nan   48643736.0 ...     15         10     wstat 153.70558652189686    1458085       10.0           10.0     1.0\n",
       "stacked 1523564 15813.0  9.082381108426176  1507751.0 1515657.5        1515657.5          nan   50117764.0 ...     15         10     wstat 169.53866131960388    1507751       10.0           10.0     1.0\n",
       "stacked 1560701 16480.0  9.352611180991653  1544221.0 1552461.0        1552461.0          nan   51379660.0 ...     15         10     wstat   175.272625964824    1544221       10.0           10.0     1.0\n",
       "stacked 1596256 15937.0  8.941861252313222  1580319.0 1588287.5        1588287.5          nan   52708196.0 ...     15         10     wstat 173.70317726624273    1580319       10.0           10.0     1.0\n",
       "stacked 1598934 15998.0  8.968615210247993  1582936.0 1590935.0        1590935.0          nan   52810352.0 ...     15         10     wstat 174.71725414777904    1582936       10.0           10.0     1.0\n",
       "stacked 1632423 17249.0  9.571585373601902  1615174.0 1623798.5        1623798.5          nan   53125692.0 ...     15         10     wstat 176.56098784749122    1615174       10.0           10.0     1.0\n",
       "stacked 1653090 18547.0 10.228999521413977  1634543.0 1643816.5        1643816.5          nan   53366736.0 ...     15         10     wstat 183.80772095741088    1634543       10.0           10.0     1.0"
      ]
     },
     "execution_count": 40,
     "metadata": {},
     "output_type": "execute_result"
    }
   ],
   "source": [
    "info_table"
   ]
  },
  {
   "cell_type": "code",
   "execution_count": 41,
   "id": "668f04d7",
   "metadata": {},
   "outputs": [
    {
     "data": {
      "image/png": "[encoded data removed]",
      "text/plain": [
       "<Figure size 1000x500 with 2 Axes>"
      ]
     },
     "metadata": {},
     "output_type": "display_data"
    }
   ],
   "source": [
    "# Plot temporal evolution of excess events and significance value\n",
    "plt.figure(figsize=(10,5))\n",
    "plt.subplot(121)\n",
    "plt.plot(\n",
    "    np.sqrt(info_table[\"livetime\"].to(\"h\")), info_table[\"excess\"], marker=\"o\", ls=\"none\"\n",
    ")\n",
    "plt.plot(info_table[\"livetime\"].to(\"h\")[-1:1], info_table[\"excess\"][-1:1], 'r')\n",
    "plt.xlabel(\"Sqrt Livetime h^(1/2)\")\n",
    "plt.ylabel(\"Excess\")\n",
    "plt.grid()\n",
    "plt.title('Excess vs Square root of Livetime')\n",
    "\n",
    "plt.subplot(122)\n",
    "plt.plot(\n",
    "    np.sqrt(info_table[\"livetime\"].to(\"h\")),\n",
    "    info_table[\"sqrt_ts\"],\n",
    "    marker=\"o\",\n",
    "    ls=\"none\",\n",
    ")\n",
    "plt.grid()\n",
    "plt.xlabel(\"Sqrt Livetime h^(1/2)\")\n",
    "plt.ylabel(\"sqrt_ts\")\n",
    "plt.title('Significance vs Square root of Livetime')\n",
    "plt.subplots_adjust(wspace=0.5)"
   ]
  },
  {
   "cell_type": "code",
   "execution_count": null,
   "id": "7c9c9fb8",
   "metadata": {},
   "outputs": [],
   "source": []
  }
 ],
 "metadata": {
  "kernelspec": {
   "display_name": "gammapy-dev",
   "language": "python",
   "name": "gammapy-dev"
  },
  "language_info": {
   "codemirror_mode": {
    "name": "ipython",
    "version": 3
   },
   "file_extension": ".py",
   "mimetype": "text/x-python",
   "name": "python",
   "nbconvert_exporter": "python",
   "pygments_lexer": "ipython3",
   "version": "3.8.13"
  }
 },
 "nbformat": 4,
 "nbformat_minor": 5
}
