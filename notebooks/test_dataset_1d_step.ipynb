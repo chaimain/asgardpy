{
 "cells": [
  {
   "cell_type": "code",
   "execution_count": 1,
   "id": "f64f4918",
   "metadata": {},
   "outputs": [],
   "source": [
    "from asgardpy.analysis import AsgardpyAnalysis\n",
    "from asgardpy.config import AsgardpyConfig\n",
    "from gammapy.modeling.models import Models\n",
    "from gammapy.data import DataStore\n",
    "\n",
    "import matplotlib.pyplot as plt\n",
    "import numpy as np\n",
    "\n",
    "import astropy.units as u\n",
    "import logging"
   ]
  },
  {
   "cell_type": "code",
   "execution_count": 2,
   "id": "bfdf8e6f",
   "metadata": {},
   "outputs": [],
   "source": [
    "from asgardpy.data.dataset_1d import Dataset1DGeneration\n",
    "from asgardpy.io.io import DL3Files"
   ]
  },
  {
   "cell_type": "code",
   "execution_count": null,
   "id": "da9332b2",
   "metadata": {},
   "outputs": [],
   "source": []
  },
  {
   "cell_type": "code",
   "execution_count": 3,
   "id": "f0eeb377",
   "metadata": {},
   "outputs": [],
   "source": [
    "log = logging.getLogger(\"test 1d dataset\")"
   ]
  },
  {
   "cell_type": "code",
   "execution_count": 4,
   "id": "a210c361",
   "metadata": {},
   "outputs": [],
   "source": [
    "base_dir = \"/fefs/aswg/workspace/chaitanya.priyadarshi/\"\n",
    "config_file = base_dir + \"analyze_crab_test_Nov2020.yaml\""
   ]
  },
  {
   "cell_type": "code",
   "execution_count": 5,
   "id": "47637409",
   "metadata": {},
   "outputs": [],
   "source": [
    "config = AsgardpyConfig()"
   ]
  },
  {
   "cell_type": "code",
   "execution_count": 6,
   "id": "6b86c162",
   "metadata": {},
   "outputs": [
    {
     "name": "stdout",
     "output_type": "stream",
     "text": [
      "CPU times: user 49.8 ms, sys: 2.19 ms, total: 52 ms\n",
      "Wall time: 49.5 ms\n"
     ]
    }
   ],
   "source": [
    "%%time\n",
    "config_main = config.read(config_file)"
   ]
  },
  {
   "cell_type": "code",
   "execution_count": 7,
   "id": "ebbaf8bb",
   "metadata": {},
   "outputs": [
    {
     "name": "stdout",
     "output_type": "stream",
     "text": [
      "('log', LogConfig(level='info', filename=None, filemode=None, format=None, datefmt=None))\n",
      "('outdir', '/fefs/aswg/workspace/chaitanya.priyadarshi/real_data/AGN/Crab/v09x/tailcut84/DL3/interp_irf_en_dep/nsb_tuning/geff_70/teff_70/20220518_dec2276/perf_paper/interp_w_23/joint_lat_lst/')\n",
      "('n_jobs', 1)\n",
      "('steps', [<AnalysisStepEnum.datasets_3d: 'datasets-3d'>, <AnalysisStepEnum.datasets_1d: 'datasets-1d'>, <AnalysisStepEnum.fit: 'fit'>, <AnalysisStepEnum.flux_points: 'flux-points'>])\n",
      "('overwrite', True)\n",
      "('stacked_dataset', True)\n"
     ]
    }
   ],
   "source": [
    "for g in config_main.general:\n",
    "    print(g)"
   ]
  },
  {
   "cell_type": "markdown",
   "id": "bcf370f2",
   "metadata": {},
   "source": [
    "# Steps mentioned in the main config file"
   ]
  },
  {
   "cell_type": "code",
   "execution_count": 8,
   "id": "95986b77",
   "metadata": {},
   "outputs": [
    {
     "data": {
      "text/plain": [
       "[<AnalysisStepEnum.datasets_3d: 'datasets-3d'>,\n",
       " <AnalysisStepEnum.datasets_1d: 'datasets-1d'>,\n",
       " <AnalysisStepEnum.fit: 'fit'>,\n",
       " <AnalysisStepEnum.flux_points: 'flux-points'>]"
      ]
     },
     "execution_count": 8,
     "metadata": {},
     "output_type": "execute_result"
    }
   ],
   "source": [
    "config_main.general.steps"
   ]
  },
  {
   "cell_type": "markdown",
   "id": "7c32501c",
   "metadata": {},
   "source": [
    "# Target source information"
   ]
  },
  {
   "cell_type": "code",
   "execution_count": 9,
   "id": "1cfcad52",
   "metadata": {},
   "outputs": [
    {
     "name": "stdout",
     "output_type": "stream",
     "text": [
      "('source_name', 'Crab')\n",
      "('sky_position', SkyCoordConfig(frame=<FrameEnum.icrs: 'icrs'>, lon=<Angle 83.63308333 deg>, lat=<Angle 22.0145 deg>))\n",
      "('use_uniform_position', True)\n",
      "('models_file', None)\n",
      "('extended', False)\n",
      "('components', SkyModelComponent(name='Crab', type='SkyModel', spectral=SpectralModelConfig(model_name='LogParabola', type='LogParabolaSpectralModel', parameters=[ModelParams(name='amplitude', value=1e-06, unit='cm-2 s-1 TeV-1', error=1.5e-07, min=1e-13, max=0.01, frozen=False), ModelParams(name='reference', value=0.1, unit='TeV', error=0.0, min=0.0001, max=100.0, frozen=True), ModelParams(name='alpha', value=2.0, unit='', error=0.1, min=0.5, max=5.0, frozen=False), ModelParams(name='beta', value=0.01, unit='', error=0.001, min=1e-06, max=1.0, frozen=False)], ebl_abs=EBLAbsorptionModel(model_name='dominguez', type='EBLAbsorptionNormSpectralModel', redshift=0.0, alpha_norm=1.0)), spatial=SpatialModelConfig(model_name=None, type=None, parameters=[ModelParams(name=None, value=None, unit=None, error=None, min=None, max=None, frozen=True)])))\n",
      "('covariance', 'None')\n",
      "('from_fermi', False)\n"
     ]
    }
   ],
   "source": [
    "for c in config_main.target:\n",
    "    print(c)"
   ]
  },
  {
   "cell_type": "markdown",
   "id": "ed73dc08",
   "metadata": {},
   "source": [
    "# 1D Datasets informations"
   ]
  },
  {
   "cell_type": "code",
   "execution_count": 10,
   "id": "511b096d",
   "metadata": {},
   "outputs": [
    {
     "name": "stdout",
     "output_type": "stream",
     "text": [
      "('type', <ReductionTypeEnum.spectrum: '1d'>)\n",
      "('instruments', [Dataset1DBaseConfig(name='LST-1', io=[InputConfig(type='lst-1', input_dir=PosixPath('/fefs/aswg/workspace/chaitanya.priyadarshi/real_data/AGN/Crab/v09x/tailcut84/DL3/interp_irf_en_dep/nsb_tuning/geff_70/teff_70/20221027_v0.9.9_crab_tuned/cos_zen/joint_fit/LST1/Nov2020'), glob_pattern={'dl3': '202*/dl3*fits'})], dataset_info=Dataset1DInfoConfig(name='LST-1', geom=GeomConfig(wcs=WcsConfig(skydir=SkyCoordConfig(frame=None, lon=None, lat=None), binsize=<Angle 0.02 deg>, final_frame=FinalFrameConfig(width=<Angle 5. deg>, height=<Angle 5. deg>), binsize_irf=<Angle 0.2 deg>), selection=SelectionConfig(offset_max=<Angle 2.5 deg>), axes=EnergyAxesConfig(energy=EnergyAxisConfig(min=<Quantity 10. GeV>, max=<Quantity 100. TeV>, nbins=5), energy_true=EnergyAxisConfig(min=<Quantity 10. GeV>, max=<Quantity 100. TeV>, nbins=5))), observation=ObservationsConfig(obs_ids=[], obs_file=None, obs_time=TimeIntervalsConfig(format=<TimeFormatEnum.iso: 'iso'>, intervals=[TimeRangeConfig(start=<Time object: scale='utc' format='iso' value=2020-11-16 00:00:00.000>, stop=<Time object: scale='utc' format='iso' value=2020-11-23 00:00:00.000>)]), required_irfs=[<RequiredHDUEnum.aeff: 'aeff'>, <RequiredHDUEnum.edisp: 'edisp'>, <RequiredHDUEnum.rad_max: 'rad_max'>]), background=BackgroundConfig(method=<BackgroundMethodEnum.reflected: 'reflected'>, region_finder_method=<BackgroundRegionFinderMethodEnum.wobble: 'wobble'>, parameters={'n_off_regions': 1}, exclusion=ExclusionRegionsConfig(target_source=True, regions=[RegionsConfig(type='CircleSkyRegion', name='RGB J0521+212', position=SkyCoordConfig(frame=<FrameEnum.galactic: 'galactic'>, lon=<Angle 183.604 deg>, lat=<Angle -8.708 deg>), parameters={'region_radius': '0.5 deg'})])), safe_mask=SafeMaskConfig(methods=[<SafeMaskMethodsEnum.custom_mask: 'custom-mask'>], parameters={'min': '20 GeV', 'max': '40 TeV', 'aeff_percent': 10, 'bias_percent': 10, 'fixed_offset': '0.1 deg', 'offset_max': '3 deg', 'position': {'frame': 'icrs', 'lon': '83.63308333 deg', 'lat': '22.0145 deg'}}), on_region=SpatialPointConfig(frame=<FrameEnum.icrs: 'icrs'>, lon=<Angle 83.63308333 deg>, lat=<Angle 22.0145 deg>), containment_correction=False, map_selection=[<MapSelectionEnum.counts: 'counts'>, <MapSelectionEnum.exposure: 'exposure'>, <MapSelectionEnum.edisp: 'edisp'>], spectral_energy_range=EnergyAxisConfig(min=<Quantity 10. GeV>, max=<Quantity 100. TeV>, nbins=5)))])\n"
     ]
    }
   ],
   "source": [
    "for cc in config_main.dataset1d:\n",
    "    print(cc)"
   ]
  },
  {
   "cell_type": "code",
   "execution_count": null,
   "id": "13dcacb0",
   "metadata": {},
   "outputs": [],
   "source": []
  },
  {
   "cell_type": "code",
   "execution_count": 11,
   "id": "b7ffc23d",
   "metadata": {},
   "outputs": [
    {
     "name": "stderr",
     "output_type": "stream",
     "text": [
      "Setting logging config: {'level': 'INFO', 'filename': None, 'filemode': None, 'format': None, 'datefmt': None}\n"
     ]
    },
    {
     "name": "stdout",
     "output_type": "stream",
     "text": [
      "CPU times: user 1.65 ms, sys: 0 ns, total: 1.65 ms\n",
      "Wall time: 1.44 ms\n"
     ]
    }
   ],
   "source": [
    "%%time\n",
    "analysis = AsgardpyAnalysis(config_main)"
   ]
  },
  {
   "cell_type": "code",
   "execution_count": 12,
   "id": "06882af8",
   "metadata": {},
   "outputs": [
    {
     "data": {
      "text/plain": [
       "<asgardpy.analysis.analysis.AsgardpyAnalysis at 0x7f3a392848e0>"
      ]
     },
     "execution_count": 12,
     "metadata": {},
     "output_type": "execute_result"
    }
   ],
   "source": [
    "analysis"
   ]
  },
  {
   "cell_type": "code",
   "execution_count": null,
   "id": "59b16d40",
   "metadata": {},
   "outputs": [],
   "source": []
  },
  {
   "cell_type": "markdown",
   "id": "b07061ff",
   "metadata": {},
   "source": [
    "# Prepare for a single 1D Dataset, based on instrument"
   ]
  },
  {
   "cell_type": "code",
   "execution_count": 13,
   "id": "d106b41c",
   "metadata": {},
   "outputs": [
    {
     "name": "stdout",
     "output_type": "stream",
     "text": [
      "1 number of 1D dataset information provided\n",
      "Instrument selected is LST-1\n"
     ]
    }
   ],
   "source": [
    "instruments_list = config_main.dataset1d.instruments\n",
    "print(len(instruments_list), \"number of 1D dataset information provided\")\n",
    "\n",
    "config_1d_dataset = instruments_list[0]\n",
    "print(f\"Instrument selected is {config_1d_dataset.name}\")"
   ]
  },
  {
   "cell_type": "markdown",
   "id": "9de4cddd",
   "metadata": {},
   "source": [
    "# Run each Dataset1DGeneration step"
   ]
  },
  {
   "cell_type": "code",
   "execution_count": 14,
   "id": "6e9f4954",
   "metadata": {},
   "outputs": [
    {
     "name": "stdout",
     "output_type": "stream",
     "text": [
      "CPU times: user 11 µs, sys: 14 µs, total: 25 µs\n",
      "Wall time: 31.2 µs\n"
     ]
    }
   ],
   "source": [
    "%%time\n",
    "generate_1d_dataset = Dataset1DGeneration(\n",
    "    log, config_1d_dataset, config_main.target\n",
    ")"
   ]
  },
  {
   "cell_type": "code",
   "execution_count": null,
   "id": "a4842498",
   "metadata": {},
   "outputs": [],
   "source": []
  },
  {
   "cell_type": "markdown",
   "id": "25600366",
   "metadata": {},
   "source": [
    "# Initialized variables"
   ]
  },
  {
   "cell_type": "code",
   "execution_count": 15,
   "id": "08864d18",
   "metadata": {},
   "outputs": [
    {
     "name": "stdout",
     "output_type": "stream",
     "text": [
      "[InputConfig(type='lst-1', input_dir=PosixPath('/fefs/aswg/workspace/chaitanya.priyadarshi/real_data/AGN/Crab/v09x/tailcut84/DL3/interp_irf_en_dep/nsb_tuning/geff_70/teff_70/20221027_v0.9.9_crab_tuned/cos_zen/joint_fit/LST1/Nov2020'), glob_pattern={'dl3': '202*/dl3*fits'})]\n"
     ]
    }
   ],
   "source": [
    "print(generate_1d_dataset.config_1d_dataset_io)"
   ]
  },
  {
   "cell_type": "code",
   "execution_count": 16,
   "id": "12e0c556",
   "metadata": {},
   "outputs": [
    {
     "name": "stdout",
     "output_type": "stream",
     "text": [
      "name='LST-1' geom=GeomConfig(wcs=WcsConfig(skydir=SkyCoordConfig(frame=None, lon=None, lat=None), binsize=<Angle 0.02 deg>, final_frame=FinalFrameConfig(width=<Angle 5. deg>, height=<Angle 5. deg>), binsize_irf=<Angle 0.2 deg>), selection=SelectionConfig(offset_max=<Angle 2.5 deg>), axes=EnergyAxesConfig(energy=EnergyAxisConfig(min=<Quantity 10. GeV>, max=<Quantity 100. TeV>, nbins=5), energy_true=EnergyAxisConfig(min=<Quantity 10. GeV>, max=<Quantity 100. TeV>, nbins=5))) observation=ObservationsConfig(obs_ids=[], obs_file=None, obs_time=TimeIntervalsConfig(format=<TimeFormatEnum.iso: 'iso'>, intervals=[TimeRangeConfig(start=<Time object: scale='utc' format='iso' value=2020-11-16 00:00:00.000>, stop=<Time object: scale='utc' format='iso' value=2020-11-23 00:00:00.000>)]), required_irfs=[<RequiredHDUEnum.aeff: 'aeff'>, <RequiredHDUEnum.edisp: 'edisp'>, <RequiredHDUEnum.rad_max: 'rad_max'>]) background=BackgroundConfig(method=<BackgroundMethodEnum.reflected: 'reflected'>, region_finder_method=<BackgroundRegionFinderMethodEnum.wobble: 'wobble'>, parameters={'n_off_regions': 1}, exclusion=ExclusionRegionsConfig(target_source=True, regions=[RegionsConfig(type='CircleSkyRegion', name='RGB J0521+212', position=SkyCoordConfig(frame=<FrameEnum.galactic: 'galactic'>, lon=<Angle 183.604 deg>, lat=<Angle -8.708 deg>), parameters={'region_radius': '0.5 deg'})])) safe_mask=SafeMaskConfig(methods=[<SafeMaskMethodsEnum.custom_mask: 'custom-mask'>], parameters={'min': '20 GeV', 'max': '40 TeV', 'aeff_percent': 10, 'bias_percent': 10, 'fixed_offset': '0.1 deg', 'offset_max': '3 deg', 'position': {'frame': 'icrs', 'lon': '83.63308333 deg', 'lat': '22.0145 deg'}}) on_region=SpatialPointConfig(frame=<FrameEnum.icrs: 'icrs'>, lon=<Angle 83.63308333 deg>, lat=<Angle 22.0145 deg>) containment_correction=False map_selection=[<MapSelectionEnum.counts: 'counts'>, <MapSelectionEnum.exposure: 'exposure'>, <MapSelectionEnum.edisp: 'edisp'>] spectral_energy_range=EnergyAxisConfig(min=<Quantity 10. GeV>, max=<Quantity 100. TeV>, nbins=5)\n"
     ]
    }
   ],
   "source": [
    "print(generate_1d_dataset.config_1d_dataset_info)"
   ]
  },
  {
   "cell_type": "code",
   "execution_count": 17,
   "id": "69605232",
   "metadata": {},
   "outputs": [
    {
     "name": "stdout",
     "output_type": "stream",
     "text": [
      "source_name='Crab' sky_position=SkyCoordConfig(frame=<FrameEnum.icrs: 'icrs'>, lon=<Angle 83.63308333 deg>, lat=<Angle 22.0145 deg>) use_uniform_position=True models_file=None extended=False components=SkyModelComponent(name='Crab', type='SkyModel', spectral=SpectralModelConfig(model_name='LogParabola', type='LogParabolaSpectralModel', parameters=[ModelParams(name='amplitude', value=1e-06, unit='cm-2 s-1 TeV-1', error=1.5e-07, min=1e-13, max=0.01, frozen=False), ModelParams(name='reference', value=0.1, unit='TeV', error=0.0, min=0.0001, max=100.0, frozen=True), ModelParams(name='alpha', value=2.0, unit='', error=0.1, min=0.5, max=5.0, frozen=False), ModelParams(name='beta', value=0.01, unit='', error=0.001, min=1e-06, max=1.0, frozen=False)], ebl_abs=EBLAbsorptionModel(model_name='dominguez', type='EBLAbsorptionNormSpectralModel', redshift=0.0, alpha_norm=1.0)), spatial=SpatialModelConfig(model_name=None, type=None, parameters=[ModelParams(name=None, value=None, unit=None, error=None, min=None, max=None, frozen=True)])) covariance='None' from_fermi=False\n"
     ]
    }
   ],
   "source": [
    "print(generate_1d_dataset.config_target)"
   ]
  },
  {
   "cell_type": "code",
   "execution_count": 18,
   "id": "244916fd",
   "metadata": {},
   "outputs": [
    {
     "name": "stdout",
     "output_type": "stream",
     "text": [
      "type='lst-1' input_dir=PosixPath('/fefs/aswg/workspace/chaitanya.priyadarshi/real_data/AGN/Crab/v09x/tailcut84/DL3/interp_irf_en_dep/nsb_tuning/geff_70/teff_70/20221027_v0.9.9_crab_tuned/cos_zen/joint_fit/LST1/Nov2020') glob_pattern={'dl3': '202*/dl3*fits'}\n"
     ]
    }
   ],
   "source": [
    "print(generate_1d_dataset.dl3_dir_dict)"
   ]
  },
  {
   "cell_type": "code",
   "execution_count": 19,
   "id": "bc5deb31",
   "metadata": {},
   "outputs": [
    {
     "name": "stdout",
     "output_type": "stream",
     "text": [
      "model_name='LogParabola' type='LogParabolaSpectralModel' parameters=[ModelParams(name='amplitude', value=1e-06, unit='cm-2 s-1 TeV-1', error=1.5e-07, min=1e-13, max=0.01, frozen=False), ModelParams(name='reference', value=0.1, unit='TeV', error=0.0, min=0.0001, max=100.0, frozen=True), ModelParams(name='alpha', value=2.0, unit='', error=0.1, min=0.5, max=5.0, frozen=False), ModelParams(name='beta', value=0.01, unit='', error=0.001, min=1e-06, max=1.0, frozen=False)] ebl_abs=EBLAbsorptionModel(model_name='dominguez', type='EBLAbsorptionNormSpectralModel', redshift=0.0, alpha_norm=1.0)\n"
     ]
    }
   ],
   "source": [
    "print(generate_1d_dataset.model)"
   ]
  },
  {
   "cell_type": "code",
   "execution_count": null,
   "id": "a906e73d",
   "metadata": {},
   "outputs": [],
   "source": []
  },
  {
   "cell_type": "markdown",
   "id": "651c1128",
   "metadata": {},
   "source": [
    "### First check for the given file list if they are readable or not."
   ]
  },
  {
   "cell_type": "code",
   "execution_count": 20,
   "id": "5025f9d9",
   "metadata": {},
   "outputs": [
    {
     "name": "stdout",
     "output_type": "stream",
     "text": [
      "CPU times: user 106 µs, sys: 127 µs, total: 233 µs\n",
      "Wall time: 192 µs\n"
     ]
    }
   ],
   "source": [
    "%%time\n",
    "file_list = {}\n",
    "dl3_info = DL3Files(\n",
    "    generate_1d_dataset.dl3_dir_dict, \n",
    "    generate_1d_dataset.model, \n",
    "    file_list, \n",
    "    log=generate_1d_dataset.log\n",
    ")"
   ]
  },
  {
   "cell_type": "code",
   "execution_count": 21,
   "id": "747ea551",
   "metadata": {},
   "outputs": [
    {
     "data": {
      "text/plain": [
       "<asgardpy.io.io.DL3Files at 0x7f3a39284280>"
      ]
     },
     "execution_count": 21,
     "metadata": {},
     "output_type": "execute_result"
    }
   ],
   "source": [
    "dl3_info"
   ]
  },
  {
   "cell_type": "code",
   "execution_count": 22,
   "id": "5031b3b8",
   "metadata": {
    "scrolled": true
   },
   "outputs": [
    {
     "name": "stderr",
     "output_type": "stream",
     "text": [
      "The list of DL3 files for LST-1 selected: [PosixPath('/fefs/aswg/workspace/chaitanya.priyadarshi/real_data/AGN/Crab/v09x/tailcut84/DL3/interp_irf_en_dep/nsb_tuning/geff_70/teff_70/20221027_v0.9.9_crab_tuned/cos_zen/joint_fit/LST1/Nov2020/20201117/dl3_LST-1.Run02914.fits'), PosixPath('/fefs/aswg/workspace/chaitanya.priyadarshi/real_data/AGN/Crab/v09x/tailcut84/DL3/interp_irf_en_dep/nsb_tuning/geff_70/teff_70/20221027_v0.9.9_crab_tuned/cos_zen/joint_fit/LST1/Nov2020/20201118/dl3_LST-1.Run02929.fits'), PosixPath('/fefs/aswg/workspace/chaitanya.priyadarshi/real_data/AGN/Crab/v09x/tailcut84/DL3/interp_irf_en_dep/nsb_tuning/geff_70/teff_70/20221027_v0.9.9_crab_tuned/cos_zen/joint_fit/LST1/Nov2020/20201118/dl3_LST-1.Run02930.fits'), PosixPath('/fefs/aswg/workspace/chaitanya.priyadarshi/real_data/AGN/Crab/v09x/tailcut84/DL3/interp_irf_en_dep/nsb_tuning/geff_70/teff_70/20221027_v0.9.9_crab_tuned/cos_zen/joint_fit/LST1/Nov2020/20201118/dl3_LST-1.Run02931.fits'), PosixPath('/fefs/aswg/workspace/chaitanya.priyadarshi/real_data/AGN/Crab/v09x/tailcut84/DL3/interp_irf_en_dep/nsb_tuning/geff_70/teff_70/20221027_v0.9.9_crab_tuned/cos_zen/joint_fit/LST1/Nov2020/20201118/dl3_LST-1.Run02932.fits'), PosixPath('/fefs/aswg/workspace/chaitanya.priyadarshi/real_data/AGN/Crab/v09x/tailcut84/DL3/interp_irf_en_dep/nsb_tuning/geff_70/teff_70/20221027_v0.9.9_crab_tuned/cos_zen/joint_fit/LST1/Nov2020/20201118/dl3_LST-1.Run02933.fits'), PosixPath('/fefs/aswg/workspace/chaitanya.priyadarshi/real_data/AGN/Crab/v09x/tailcut84/DL3/interp_irf_en_dep/nsb_tuning/geff_70/teff_70/20221027_v0.9.9_crab_tuned/cos_zen/joint_fit/LST1/Nov2020/20201118/dl3_LST-1.Run02934.fits'), PosixPath('/fefs/aswg/workspace/chaitanya.priyadarshi/real_data/AGN/Crab/v09x/tailcut84/DL3/interp_irf_en_dep/nsb_tuning/geff_70/teff_70/20221027_v0.9.9_crab_tuned/cos_zen/joint_fit/LST1/Nov2020/20201119/dl3_LST-1.Run02949.fits'), PosixPath('/fefs/aswg/workspace/chaitanya.priyadarshi/real_data/AGN/Crab/v09x/tailcut84/DL3/interp_irf_en_dep/nsb_tuning/geff_70/teff_70/20221027_v0.9.9_crab_tuned/cos_zen/joint_fit/LST1/Nov2020/20201119/dl3_LST-1.Run02950.fits'), PosixPath('/fefs/aswg/workspace/chaitanya.priyadarshi/real_data/AGN/Crab/v09x/tailcut84/DL3/interp_irf_en_dep/nsb_tuning/geff_70/teff_70/20221027_v0.9.9_crab_tuned/cos_zen/joint_fit/LST1/Nov2020/20201120/dl3_LST-1.Run02967.fits'), PosixPath('/fefs/aswg/workspace/chaitanya.priyadarshi/real_data/AGN/Crab/v09x/tailcut84/DL3/interp_irf_en_dep/nsb_tuning/geff_70/teff_70/20221027_v0.9.9_crab_tuned/cos_zen/joint_fit/LST1/Nov2020/20201120/dl3_LST-1.Run02968.fits'), PosixPath('/fefs/aswg/workspace/chaitanya.priyadarshi/real_data/AGN/Crab/v09x/tailcut84/DL3/interp_irf_en_dep/nsb_tuning/geff_70/teff_70/20221027_v0.9.9_crab_tuned/cos_zen/joint_fit/LST1/Nov2020/20201120/dl3_LST-1.Run02969.fits'), PosixPath('/fefs/aswg/workspace/chaitanya.priyadarshi/real_data/AGN/Crab/v09x/tailcut84/DL3/interp_irf_en_dep/nsb_tuning/geff_70/teff_70/20221027_v0.9.9_crab_tuned/cos_zen/joint_fit/LST1/Nov2020/20201120/dl3_LST-1.Run02970.fits'), PosixPath('/fefs/aswg/workspace/chaitanya.priyadarshi/real_data/AGN/Crab/v09x/tailcut84/DL3/interp_irf_en_dep/nsb_tuning/geff_70/teff_70/20221027_v0.9.9_crab_tuned/cos_zen/joint_fit/LST1/Nov2020/20201120/dl3_LST-1.Run02971.fits'), PosixPath('/fefs/aswg/workspace/chaitanya.priyadarshi/real_data/AGN/Crab/v09x/tailcut84/DL3/interp_irf_en_dep/nsb_tuning/geff_70/teff_70/20221027_v0.9.9_crab_tuned/cos_zen/joint_fit/LST1/Nov2020/20201120/dl3_LST-1.Run02972.fits'), PosixPath('/fefs/aswg/workspace/chaitanya.priyadarshi/real_data/AGN/Crab/v09x/tailcut84/DL3/interp_irf_en_dep/nsb_tuning/geff_70/teff_70/20221027_v0.9.9_crab_tuned/cos_zen/joint_fit/LST1/Nov2020/20201120/dl3_LST-1.Run02973.fits'), PosixPath('/fefs/aswg/workspace/chaitanya.priyadarshi/real_data/AGN/Crab/v09x/tailcut84/DL3/interp_irf_en_dep/nsb_tuning/geff_70/teff_70/20221027_v0.9.9_crab_tuned/cos_zen/joint_fit/LST1/Nov2020/20201120/dl3_LST-1.Run02974.fits'), PosixPath('/fefs/aswg/workspace/chaitanya.priyadarshi/real_data/AGN/Crab/v09x/tailcut84/DL3/interp_irf_en_dep/nsb_tuning/geff_70/teff_70/20221027_v0.9.9_crab_tuned/cos_zen/joint_fit/LST1/Nov2020/20201120/dl3_LST-1.Run02975.fits'), PosixPath('/fefs/aswg/workspace/chaitanya.priyadarshi/real_data/AGN/Crab/v09x/tailcut84/DL3/interp_irf_en_dep/nsb_tuning/geff_70/teff_70/20221027_v0.9.9_crab_tuned/cos_zen/joint_fit/LST1/Nov2020/20201120/dl3_LST-1.Run02976.fits'), PosixPath('/fefs/aswg/workspace/chaitanya.priyadarshi/real_data/AGN/Crab/v09x/tailcut84/DL3/interp_irf_en_dep/nsb_tuning/geff_70/teff_70/20221027_v0.9.9_crab_tuned/cos_zen/joint_fit/LST1/Nov2020/20201120/dl3_LST-1.Run02977.fits'), PosixPath('/fefs/aswg/workspace/chaitanya.priyadarshi/real_data/AGN/Crab/v09x/tailcut84/DL3/interp_irf_en_dep/nsb_tuning/geff_70/teff_70/20221027_v0.9.9_crab_tuned/cos_zen/joint_fit/LST1/Nov2020/20201121/dl3_LST-1.Run02988.fits'), PosixPath('/fefs/aswg/workspace/chaitanya.priyadarshi/real_data/AGN/Crab/v09x/tailcut84/DL3/interp_irf_en_dep/nsb_tuning/geff_70/teff_70/20221027_v0.9.9_crab_tuned/cos_zen/joint_fit/LST1/Nov2020/20201121/dl3_LST-1.Run02989.fits'), PosixPath('/fefs/aswg/workspace/chaitanya.priyadarshi/real_data/AGN/Crab/v09x/tailcut84/DL3/interp_irf_en_dep/nsb_tuning/geff_70/teff_70/20221027_v0.9.9_crab_tuned/cos_zen/joint_fit/LST1/Nov2020/20201121/dl3_LST-1.Run02990.fits'), PosixPath('/fefs/aswg/workspace/chaitanya.priyadarshi/real_data/AGN/Crab/v09x/tailcut84/DL3/interp_irf_en_dep/nsb_tuning/geff_70/teff_70/20221027_v0.9.9_crab_tuned/cos_zen/joint_fit/LST1/Nov2020/20201121/dl3_LST-1.Run02991.fits'), PosixPath('/fefs/aswg/workspace/chaitanya.priyadarshi/real_data/AGN/Crab/v09x/tailcut84/DL3/interp_irf_en_dep/nsb_tuning/geff_70/teff_70/20221027_v0.9.9_crab_tuned/cos_zen/joint_fit/LST1/Nov2020/20201121/dl3_LST-1.Run02992.fits'), PosixPath('/fefs/aswg/workspace/chaitanya.priyadarshi/real_data/AGN/Crab/v09x/tailcut84/DL3/interp_irf_en_dep/nsb_tuning/geff_70/teff_70/20221027_v0.9.9_crab_tuned/cos_zen/joint_fit/LST1/Nov2020/20201122/dl3_LST-1.Run03004.fits'), PosixPath('/fefs/aswg/workspace/chaitanya.priyadarshi/real_data/AGN/Crab/v09x/tailcut84/DL3/interp_irf_en_dep/nsb_tuning/geff_70/teff_70/20221027_v0.9.9_crab_tuned/cos_zen/joint_fit/LST1/Nov2020/20201122/dl3_LST-1.Run03005.fits'), PosixPath('/fefs/aswg/workspace/chaitanya.priyadarshi/real_data/AGN/Crab/v09x/tailcut84/DL3/interp_irf_en_dep/nsb_tuning/geff_70/teff_70/20221027_v0.9.9_crab_tuned/cos_zen/joint_fit/LST1/Nov2020/20201122/dl3_LST-1.Run03006.fits'), PosixPath('/fefs/aswg/workspace/chaitanya.priyadarshi/real_data/AGN/Crab/v09x/tailcut84/DL3/interp_irf_en_dep/nsb_tuning/geff_70/teff_70/20221027_v0.9.9_crab_tuned/cos_zen/joint_fit/LST1/Nov2020/20201122/dl3_LST-1.Run03007.fits'), PosixPath('/fefs/aswg/workspace/chaitanya.priyadarshi/real_data/AGN/Crab/v09x/tailcut84/DL3/interp_irf_en_dep/nsb_tuning/geff_70/teff_70/20221027_v0.9.9_crab_tuned/cos_zen/joint_fit/LST1/Nov2020/20201122/dl3_LST-1.Run03008.fits')]\n"
     ]
    },
    {
     "name": "stdout",
     "output_type": "stream",
     "text": [
      "CPU times: user 2.44 ms, sys: 2.37 ms, total: 4.81 ms\n",
      "Wall time: 5.51 ms\n"
     ]
    }
   ],
   "source": [
    "%%time\n",
    "dl3_info.list_dl3_files()"
   ]
  },
  {
   "cell_type": "code",
   "execution_count": 23,
   "id": "28a64bb3",
   "metadata": {
    "scrolled": true
   },
   "outputs": [
    {
     "name": "stdout",
     "output_type": "stream",
     "text": [
      "Reading from 30 DL3 files\n",
      "/fefs/aswg/workspace/chaitanya.priyadarshi/real_data/AGN/Crab/v09x/tailcut84/DL3/interp_irf_en_dep/nsb_tuning/geff_70/teff_70/20221027_v0.9.9_crab_tuned/cos_zen/joint_fit/LST1/Nov2020/20201117/dl3_LST-1.Run02914.fits\n",
      "/fefs/aswg/workspace/chaitanya.priyadarshi/real_data/AGN/Crab/v09x/tailcut84/DL3/interp_irf_en_dep/nsb_tuning/geff_70/teff_70/20221027_v0.9.9_crab_tuned/cos_zen/joint_fit/LST1/Nov2020/20201118/dl3_LST-1.Run02929.fits\n",
      "/fefs/aswg/workspace/chaitanya.priyadarshi/real_data/AGN/Crab/v09x/tailcut84/DL3/interp_irf_en_dep/nsb_tuning/geff_70/teff_70/20221027_v0.9.9_crab_tuned/cos_zen/joint_fit/LST1/Nov2020/20201118/dl3_LST-1.Run02930.fits\n",
      "/fefs/aswg/workspace/chaitanya.priyadarshi/real_data/AGN/Crab/v09x/tailcut84/DL3/interp_irf_en_dep/nsb_tuning/geff_70/teff_70/20221027_v0.9.9_crab_tuned/cos_zen/joint_fit/LST1/Nov2020/20201118/dl3_LST-1.Run02931.fits\n",
      "/fefs/aswg/workspace/chaitanya.priyadarshi/real_data/AGN/Crab/v09x/tailcut84/DL3/interp_irf_en_dep/nsb_tuning/geff_70/teff_70/20221027_v0.9.9_crab_tuned/cos_zen/joint_fit/LST1/Nov2020/20201118/dl3_LST-1.Run02932.fits\n",
      "/fefs/aswg/workspace/chaitanya.priyadarshi/real_data/AGN/Crab/v09x/tailcut84/DL3/interp_irf_en_dep/nsb_tuning/geff_70/teff_70/20221027_v0.9.9_crab_tuned/cos_zen/joint_fit/LST1/Nov2020/20201118/dl3_LST-1.Run02933.fits\n",
      "/fefs/aswg/workspace/chaitanya.priyadarshi/real_data/AGN/Crab/v09x/tailcut84/DL3/interp_irf_en_dep/nsb_tuning/geff_70/teff_70/20221027_v0.9.9_crab_tuned/cos_zen/joint_fit/LST1/Nov2020/20201118/dl3_LST-1.Run02934.fits\n",
      "/fefs/aswg/workspace/chaitanya.priyadarshi/real_data/AGN/Crab/v09x/tailcut84/DL3/interp_irf_en_dep/nsb_tuning/geff_70/teff_70/20221027_v0.9.9_crab_tuned/cos_zen/joint_fit/LST1/Nov2020/20201119/dl3_LST-1.Run02949.fits\n",
      "/fefs/aswg/workspace/chaitanya.priyadarshi/real_data/AGN/Crab/v09x/tailcut84/DL3/interp_irf_en_dep/nsb_tuning/geff_70/teff_70/20221027_v0.9.9_crab_tuned/cos_zen/joint_fit/LST1/Nov2020/20201119/dl3_LST-1.Run02950.fits\n",
      "/fefs/aswg/workspace/chaitanya.priyadarshi/real_data/AGN/Crab/v09x/tailcut84/DL3/interp_irf_en_dep/nsb_tuning/geff_70/teff_70/20221027_v0.9.9_crab_tuned/cos_zen/joint_fit/LST1/Nov2020/20201120/dl3_LST-1.Run02967.fits\n",
      "/fefs/aswg/workspace/chaitanya.priyadarshi/real_data/AGN/Crab/v09x/tailcut84/DL3/interp_irf_en_dep/nsb_tuning/geff_70/teff_70/20221027_v0.9.9_crab_tuned/cos_zen/joint_fit/LST1/Nov2020/20201120/dl3_LST-1.Run02968.fits\n",
      "/fefs/aswg/workspace/chaitanya.priyadarshi/real_data/AGN/Crab/v09x/tailcut84/DL3/interp_irf_en_dep/nsb_tuning/geff_70/teff_70/20221027_v0.9.9_crab_tuned/cos_zen/joint_fit/LST1/Nov2020/20201120/dl3_LST-1.Run02969.fits\n",
      "/fefs/aswg/workspace/chaitanya.priyadarshi/real_data/AGN/Crab/v09x/tailcut84/DL3/interp_irf_en_dep/nsb_tuning/geff_70/teff_70/20221027_v0.9.9_crab_tuned/cos_zen/joint_fit/LST1/Nov2020/20201120/dl3_LST-1.Run02970.fits\n",
      "/fefs/aswg/workspace/chaitanya.priyadarshi/real_data/AGN/Crab/v09x/tailcut84/DL3/interp_irf_en_dep/nsb_tuning/geff_70/teff_70/20221027_v0.9.9_crab_tuned/cos_zen/joint_fit/LST1/Nov2020/20201120/dl3_LST-1.Run02971.fits\n",
      "/fefs/aswg/workspace/chaitanya.priyadarshi/real_data/AGN/Crab/v09x/tailcut84/DL3/interp_irf_en_dep/nsb_tuning/geff_70/teff_70/20221027_v0.9.9_crab_tuned/cos_zen/joint_fit/LST1/Nov2020/20201120/dl3_LST-1.Run02972.fits\n",
      "/fefs/aswg/workspace/chaitanya.priyadarshi/real_data/AGN/Crab/v09x/tailcut84/DL3/interp_irf_en_dep/nsb_tuning/geff_70/teff_70/20221027_v0.9.9_crab_tuned/cos_zen/joint_fit/LST1/Nov2020/20201120/dl3_LST-1.Run02973.fits\n",
      "/fefs/aswg/workspace/chaitanya.priyadarshi/real_data/AGN/Crab/v09x/tailcut84/DL3/interp_irf_en_dep/nsb_tuning/geff_70/teff_70/20221027_v0.9.9_crab_tuned/cos_zen/joint_fit/LST1/Nov2020/20201120/dl3_LST-1.Run02974.fits\n",
      "/fefs/aswg/workspace/chaitanya.priyadarshi/real_data/AGN/Crab/v09x/tailcut84/DL3/interp_irf_en_dep/nsb_tuning/geff_70/teff_70/20221027_v0.9.9_crab_tuned/cos_zen/joint_fit/LST1/Nov2020/20201120/dl3_LST-1.Run02975.fits\n",
      "/fefs/aswg/workspace/chaitanya.priyadarshi/real_data/AGN/Crab/v09x/tailcut84/DL3/interp_irf_en_dep/nsb_tuning/geff_70/teff_70/20221027_v0.9.9_crab_tuned/cos_zen/joint_fit/LST1/Nov2020/20201120/dl3_LST-1.Run02976.fits\n",
      "/fefs/aswg/workspace/chaitanya.priyadarshi/real_data/AGN/Crab/v09x/tailcut84/DL3/interp_irf_en_dep/nsb_tuning/geff_70/teff_70/20221027_v0.9.9_crab_tuned/cos_zen/joint_fit/LST1/Nov2020/20201120/dl3_LST-1.Run02977.fits\n",
      "/fefs/aswg/workspace/chaitanya.priyadarshi/real_data/AGN/Crab/v09x/tailcut84/DL3/interp_irf_en_dep/nsb_tuning/geff_70/teff_70/20221027_v0.9.9_crab_tuned/cos_zen/joint_fit/LST1/Nov2020/20201121/dl3_LST-1.Run02988.fits\n",
      "/fefs/aswg/workspace/chaitanya.priyadarshi/real_data/AGN/Crab/v09x/tailcut84/DL3/interp_irf_en_dep/nsb_tuning/geff_70/teff_70/20221027_v0.9.9_crab_tuned/cos_zen/joint_fit/LST1/Nov2020/20201121/dl3_LST-1.Run02989.fits\n",
      "/fefs/aswg/workspace/chaitanya.priyadarshi/real_data/AGN/Crab/v09x/tailcut84/DL3/interp_irf_en_dep/nsb_tuning/geff_70/teff_70/20221027_v0.9.9_crab_tuned/cos_zen/joint_fit/LST1/Nov2020/20201121/dl3_LST-1.Run02990.fits\n",
      "/fefs/aswg/workspace/chaitanya.priyadarshi/real_data/AGN/Crab/v09x/tailcut84/DL3/interp_irf_en_dep/nsb_tuning/geff_70/teff_70/20221027_v0.9.9_crab_tuned/cos_zen/joint_fit/LST1/Nov2020/20201121/dl3_LST-1.Run02991.fits\n",
      "/fefs/aswg/workspace/chaitanya.priyadarshi/real_data/AGN/Crab/v09x/tailcut84/DL3/interp_irf_en_dep/nsb_tuning/geff_70/teff_70/20221027_v0.9.9_crab_tuned/cos_zen/joint_fit/LST1/Nov2020/20201121/dl3_LST-1.Run02992.fits\n",
      "/fefs/aswg/workspace/chaitanya.priyadarshi/real_data/AGN/Crab/v09x/tailcut84/DL3/interp_irf_en_dep/nsb_tuning/geff_70/teff_70/20221027_v0.9.9_crab_tuned/cos_zen/joint_fit/LST1/Nov2020/20201122/dl3_LST-1.Run03004.fits\n",
      "/fefs/aswg/workspace/chaitanya.priyadarshi/real_data/AGN/Crab/v09x/tailcut84/DL3/interp_irf_en_dep/nsb_tuning/geff_70/teff_70/20221027_v0.9.9_crab_tuned/cos_zen/joint_fit/LST1/Nov2020/20201122/dl3_LST-1.Run03005.fits\n",
      "/fefs/aswg/workspace/chaitanya.priyadarshi/real_data/AGN/Crab/v09x/tailcut84/DL3/interp_irf_en_dep/nsb_tuning/geff_70/teff_70/20221027_v0.9.9_crab_tuned/cos_zen/joint_fit/LST1/Nov2020/20201122/dl3_LST-1.Run03006.fits\n",
      "/fefs/aswg/workspace/chaitanya.priyadarshi/real_data/AGN/Crab/v09x/tailcut84/DL3/interp_irf_en_dep/nsb_tuning/geff_70/teff_70/20221027_v0.9.9_crab_tuned/cos_zen/joint_fit/LST1/Nov2020/20201122/dl3_LST-1.Run03007.fits\n",
      "/fefs/aswg/workspace/chaitanya.priyadarshi/real_data/AGN/Crab/v09x/tailcut84/DL3/interp_irf_en_dep/nsb_tuning/geff_70/teff_70/20221027_v0.9.9_crab_tuned/cos_zen/joint_fit/LST1/Nov2020/20201122/dl3_LST-1.Run03008.fits\n"
     ]
    }
   ],
   "source": [
    "print(f\"Reading from {len(dl3_info.event_files)} DL3 files\")\n",
    "for e in dl3_info.event_files:\n",
    "    print(e)"
   ]
  },
  {
   "cell_type": "code",
   "execution_count": null,
   "id": "5ef243f9",
   "metadata": {},
   "outputs": [],
   "source": []
  },
  {
   "cell_type": "markdown",
   "id": "14d8aa51",
   "metadata": {},
   "source": [
    "## Get Observations object"
   ]
  },
  {
   "cell_type": "code",
   "execution_count": 24,
   "id": "94ee8c05",
   "metadata": {},
   "outputs": [],
   "source": [
    "generate_1d_dataset.datastore = DataStore.from_dir(generate_1d_dataset.dl3_dir_dict.input_dir)"
   ]
  },
  {
   "cell_type": "code",
   "execution_count": 25,
   "id": "773d7d3b",
   "metadata": {
    "scrolled": true
   },
   "outputs": [
    {
     "data": {
      "text/html": [
       "<div><i>ObservationTable length=30</i>\n",
       "<table id=\"table139888043643712\" class=\"table-striped table-bordered table-condensed\">\n",
       "<thead><tr><th>OBS_ID</th><th>DATE-OBS</th><th>TIME-OBS</th><th>DATE-END</th><th>TIME-END</th><th>RA_PNT</th><th>DEC_PNT</th><th>ZEN_PNT</th><th>ALT_PNT</th><th>AZ_PNT</th><th>RA_OBJ</th><th>DEC_OBJ</th><th>TSTART</th><th>TSTOP</th><th>ONTIME</th><th>TELAPSE</th><th>LIVETIME</th><th>DEADC</th><th>OBJECT</th><th>OBS_MODE</th><th>N_TELS</th><th>TELLIST</th><th>INSTRUME</th></tr></thead>\n",
       "<thead><tr><th></th><th></th><th></th><th></th><th></th><th>deg</th><th>deg</th><th>deg</th><th>deg</th><th>deg</th><th>deg</th><th>deg</th><th>s</th><th>s</th><th>s</th><th>s</th><th>s</th><th></th><th></th><th></th><th></th><th></th><th></th></tr></thead>\n",
       "<thead><tr><th>int64</th><th>bytes10</th><th>bytes12</th><th>bytes10</th><th>bytes12</th><th>float64</th><th>float64</th><th>float64</th><th>float64</th><th>float64</th><th>float64</th><th>float64</th><th>float64</th><th>float64</th><th>float64</th><th>float64</th><th>float64</th><th>float64</th><th>bytes4</th><th>bytes8</th><th>int64</th><th>bytes5</th><th>bytes5</th></tr></thead>\n",
       "<tr><td>2914</td><td>2020-11-18</td><td>03:43:34.195</td><td>2020-11-18</td><td>04:02:52.569</td><td>83.28333273835389</td><td>21.78656763343963</td><td>14.833352694245491</td><td>75.16664730575451</td><td>245.1170215095259</td><td>83.63308333</td><td>22.0145</td><td>67319014.19521403</td><td>67320172.56926012</td><td>1158.378688097</td><td>1158.374046087265</td><td>1110.755623268583</td><td>0.9588881724795433</td><td>Crab</td><td>POINTING</td><td>1</td><td>LST-1</td><td>LST-1</td></tr>\n",
       "<tr><td>2929</td><td>2020-11-19</td><td>01:41:13.092</td><td>2020-11-19</td><td>01:59:21.733</td><td>83.97361170669024</td><td>22.24478461554191</td><td>15.851146635790514</td><td>74.14885336420949</td><td>110.6976273922491</td><td>83.63308333</td><td>22.0145</td><td>67398073.0916512</td><td>67399161.73302698</td><td>1088.646086215973</td><td>1088.641375780106</td><td>1006.045014654632</td><td>0.9241249542829353</td><td>Crab</td><td>POINTING</td><td>1</td><td>LST-1</td><td>LST-1</td></tr>\n",
       "<tr><td>2930</td><td>2020-11-19</td><td>02:02:55.113</td><td>2020-11-19</td><td>02:22:43.858</td><td>83.26877566296331</td><td>21.78654579520127</td><td>11.22029293523994</td><td>78.77970706476006</td><td>126.6388379505005</td><td>83.63308333</td><td>22.0145</td><td>67399375.11288929</td><td>67400563.8584733</td><td>1187.748401165009</td><td>1188.745584011078</td><td>1107.370648277967</td><td>0.9323276269551675</td><td>Crab</td><td>POINTING</td><td>1</td><td>LST-1</td><td>LST-1</td></tr>\n",
       "<tr><td>2931</td><td>2020-11-19</td><td>02:24:41.948</td><td>2020-11-19</td><td>02:44:15.865</td><td>83.97560985781382</td><td>22.24446090923748</td><td>7.969490181647387</td><td>82.03050981835261</td><td>144.9904047976738</td><td>83.63308333</td><td>22.0145</td><td>67400681.94754553</td><td>67401855.86502647</td><td>1172.932846069336</td><td>1173.917480945587</td><td>1097.560117693711</td><td>0.9357399457025957</td><td>Crab</td><td>POINTING</td><td>1</td><td>LST-1</td><td>LST-1</td></tr>\n",
       "<tr><td>2932</td><td>2020-11-19</td><td>02:46:09.185</td><td>2020-11-19</td><td>03:05:51.191</td><td>83.27280949215712</td><td>21.77667796720452</td><td>7.155967510378076</td><td>82.84403248962192</td><td>188.4857910617314</td><td>83.63308333</td><td>22.0145</td><td>67401969.18531418</td><td>67403151.19075465</td><td>1181.100458621979</td><td>1182.005440473557</td><td>1102.793449016734</td><td>0.9336999583451118</td><td>Crab</td><td>POINTING</td><td>1</td><td>LST-1</td><td>LST-1</td></tr>\n",
       "<tr><td>2933</td><td>2020-11-19</td><td>03:07:22.591</td><td>2020-11-19</td><td>03:27:08.367</td><td>83.9760089739721</td><td>22.24463360330349</td><td>8.373412153623377</td><td>81.62658784637662</td><td>219.1358496185323</td><td>83.63308333</td><td>22.0145</td><td>67403242.59067273</td><td>67404428.36735106</td><td>1183.324271917343</td><td>1185.776678323746</td><td>1109.557690603517</td><td>0.937661566601434</td><td>Crab</td><td>POINTING</td><td>1</td><td>LST-1</td><td>LST-1</td></tr>\n",
       "<tr><td>2934</td><td>2020-11-19</td><td>03:28:42.605</td><td>2020-11-19</td><td>03:48:24.005</td><td>83.27314894884802</td><td>21.7866185202132</td><td>12.711557029725327</td><td>77.28844297027467</td><td>239.1333868234579</td><td>83.63308333</td><td>22.0145</td><td>67404522.60519242</td><td>67405704.0045147</td><td>1179.415394067764</td><td>1181.399322271347</td><td>1109.548233302724</td><td>0.9407611931161327</td><td>Crab</td><td>POINTING</td><td>1</td><td>LST-1</td><td>LST-1</td></tr>\n",
       "<tr><td>2949</td><td>2020-11-20</td><td>01:16:46.256</td><td>2020-11-20</td><td>01:36:34.947</td><td>83.96966907611977</td><td>22.24499175262256</td><td>19.809740751877897</td><td>70.1902592481221</td><td>104.4883897573866</td><td>83.63308333</td><td>22.0145</td><td>67483006.25591898</td><td>67484194.94704008</td><td>1188.691170454025</td><td>1188.691121101379</td><td>1143.83952575376</td><td>0.9622680425201322</td><td>Crab</td><td>POINTING</td><td>1</td><td>LST-1</td><td>LST-1</td></tr>\n",
       "<tr><td>2950</td><td>2020-11-20</td><td>01:43:43.627</td><td>2020-11-20</td><td>02:04:17.610</td><td>83.26617773923647</td><td>21.78757049202337</td><td>13.964243018079543</td><td>76.03575698192046</td><td>117.1328004095648</td><td>83.63308333</td><td>22.0145</td><td>67484623.62735176</td><td>67485857.61045313</td><td>1232.985575914383</td><td>1233.98310136795</td><td>1166.291331967828</td><td>0.9459083340069938</td><td>Crab</td><td>POINTING</td><td>1</td><td>LST-1</td><td>LST-1</td></tr>\n",
       "<tr><td>2967</td><td>2020-11-21</td><td>00:27:41.949</td><td>2020-11-21</td><td>00:47:39.583</td><td>83.97004257165541</td><td>22.24530742886076</td><td>29.734736023886867</td><td>60.26526397611313</td><td>95.17405762809649</td><td>83.63308333</td><td>22.0145</td><td>67566461.94886518</td><td>67567659.58309102</td><td>1196.639870643616</td><td>1197.634225845337</td><td>1149.985345570381</td><td>0.9610120586671235</td><td>Crab</td><td>POINTING</td><td>1</td><td>LST-1</td><td>LST-1</td></tr>\n",
       "<tr><td>2968</td><td>2020-11-21</td><td>00:49:07.551</td><td>2020-11-21</td><td>01:08:52.833</td><td>83.26649185499244</td><td>21.78727828618635</td><td>24.64521945065721</td><td>65.35478054934279</td><td>100.4378195892733</td><td>83.63308333</td><td>22.0145</td><td>67567747.55119014</td><td>67568932.83332324</td><td>1182.285777568817</td><td>1185.282133102417</td><td>1134.333269154774</td><td>0.9594408481233277</td><td>Crab</td><td>POINTING</td><td>1</td><td>LST-1</td><td>LST-1</td></tr>\n",
       "<tr><td>2969</td><td>2020-11-21</td><td>01:10:05.040</td><td>2020-11-21</td><td>01:29:48.849</td><td>83.97195775800303</td><td>22.24484469481263</td><td>20.46689013216961</td><td>69.53310986783039</td><td>103.6648277191528</td><td>83.63308333</td><td>22.0145</td><td>67569005.03951001</td><td>67570188.84902215</td><td>1181.815325021744</td><td>1183.809512138367</td><td>1132.394252185203</td><td>0.9581820680522725</td><td>Crab</td><td>POINTING</td><td>1</td><td>LST-1</td><td>LST-1</td></tr>\n",
       "<tr><td>2970</td><td>2020-11-21</td><td>01:31:05.783</td><td>2020-11-21</td><td>01:50:48.103</td><td>83.26926202936363</td><td>21.78671529922383</td><td>15.807505365873325</td><td>74.19249463412667</td><td>112.7259218925101</td><td>83.63308333</td><td>22.0145</td><td>67570265.78344989</td><td>67571448.10267997</td><td>1180.322824954987</td><td>1182.319230079651</td><td>1129.409541695441</td><td>0.9568649506871244</td><td>Crab</td><td>POINTING</td><td>1</td><td>LST-1</td><td>LST-1</td></tr>\n",
       "<tr><td>2971</td><td>2020-11-21</td><td>01:52:06.552</td><td>2020-11-21</td><td>02:11:57.547</td><td>83.9748848096255</td><td>22.24478142459018</td><td>11.956474565127536</td><td>78.04352543487246</td><td>120.8004190997262</td><td>83.63308333</td><td>22.0145</td><td>67571526.55240321</td><td>67572717.54678369</td><td>1189.995586395264</td><td>1190.994380474091</td><td>1137.243620229819</td><td>0.9556704522533225</td><td>Crab</td><td>POINTING</td><td>1</td><td>LST-1</td><td>LST-1</td></tr>\n",
       "<tr><td>2972</td><td>2020-11-21</td><td>02:13:04.302</td><td>2020-11-21</td><td>02:32:51.148</td><td>83.2693828958083</td><td>21.78637585361789</td><td>8.456600803470181</td><td>81.54339919652982</td><td>145.536886149628</td><td>83.63308333</td><td>22.0145</td><td>67572784.30249095</td><td>67573971.14787364</td><td>1185.846040964127</td><td>1186.84538269043</td><td>1131.253809898758</td><td>0.9539634748698207</td><td>Crab</td><td>POINTING</td><td>1</td><td>LST-1</td><td>LST-1</td></tr>\n",
       "<tr><td>2973</td><td>2020-11-21</td><td>02:34:12.987</td><td>2020-11-21</td><td>02:53:58.081</td><td>83.97788854362256</td><td>22.24392926329733</td><td>6.650615761124996</td><td>83.349384238875</td><td>175.3395162053139</td><td>83.63308333</td><td>22.0145</td><td>67574052.98684049</td><td>67575238.08051252</td><td>1184.09685921669</td><td>1185.093672037125</td><td>1131.107528602438</td><td>0.9552491587138353</td><td>Crab</td><td>POINTING</td><td>1</td><td>LST-1</td><td>LST-1</td></tr>\n",
       "<tr><td>2974</td><td>2020-11-21</td><td>02:55:10.354</td><td>2020-11-21</td><td>03:15:02.371</td><td>83.2715938922083</td><td>21.78635039916637</td><td>8.552629500919068</td><td>81.44737049908093</td><td>215.4743054515822</td><td>83.63308333</td><td>22.0145</td><td>67575310.35387802</td><td>67576502.37084246</td><td>1191.018638849258</td><td>1192.016964435577</td><td>1137.901078842518</td><td>0.9554015711642755</td><td>Crab</td><td>POINTING</td><td>1</td><td>LST-1</td><td>LST-1</td></tr>\n",
       "<tr><td>2975</td><td>2020-11-21</td><td>03:16:11.454</td><td>2020-11-21</td><td>03:36:00.738</td><td>83.97737030919134</td><td>22.24463516436795</td><td>11.090481556659228</td><td>78.90951844334077</td><td>235.8781450575342</td><td>83.63308333</td><td>22.0145</td><td>67576571.45383549</td><td>67577760.7377429</td><td>1187.285898447037</td><td>1189.283907413483</td><td>1135.41564267134</td><td>0.9563119078197237</td><td>Crab</td><td>POINTING</td><td>1</td><td>LST-1</td><td>LST-1</td></tr>\n",
       "<tr><td>2976</td><td>2020-11-21</td><td>03:37:17.656</td><td>2020-11-21</td><td>03:56:37.110</td><td>83.27437921858045</td><td>21.78679110163722</td><td>15.930232389721013</td><td>74.06976761027899</td><td>247.5356837069691</td><td>83.63308333</td><td>22.0145</td><td>67577837.65607905</td><td>67578997.11030984</td><td>1159.471793651581</td><td>1159.45423078537</td><td>1109.601158682479</td><td>0.9569884879975888</td><td>Crab</td><td>POINTING</td><td>1</td><td>LST-1</td><td>LST-1</td></tr>\n",
       "<tr><td>2977</td><td>2020-11-21</td><td>03:58:11.059</td><td>2020-11-21</td><td>04:17:50.871</td><td>83.97937394022946</td><td>22.24482573719808</td><td>19.392573459418813</td><td>70.60742654058119</td><td>254.9650845269592</td><td>83.63308333</td><td>22.0145</td><td>67579091.05911064</td><td>67580270.87128186</td><td>1176.823019504547</td><td>1179.812171220779</td><td>1126.138144442027</td><td>0.9569307583022474</td><td>Crab</td><td>POINTING</td><td>1</td><td>LST-1</td><td>LST-1</td></tr>\n",
       "<tr><td>2988</td><td>2020-11-22</td><td>02:27:25.865</td><td>2020-11-22</td><td>02:47:06.097</td><td>83.97760425572697</td><td>22.24443666867978</td><td>6.730310728335596</td><td>83.2696892716644</td><td>169.7331555265274</td><td>83.63308333</td><td>22.0145</td><td>67660045.86541343</td><td>67661226.09747887</td><td>1179.232713937759</td><td>1180.232065439224</td><td>1113.656274098736</td><td>0.9443905862990799</td><td>Crab</td><td>POINTING</td><td>1</td><td>LST-1</td><td>LST-1</td></tr>\n",
       "<tr><td>2989</td><td>2020-11-22</td><td>02:49:39.344</td><td>2020-11-22</td><td>03:09:12.257</td><td>83.27464082840022</td><td>21.78644450681169</td><td>8.336552249157862</td><td>81.66344775084214</td><td>213.1442508766119</td><td>83.63308333</td><td>22.0145</td><td>67661379.34422898</td><td>67662552.25651169</td><td>1171.917026758194</td><td>1172.912282705307</td><td>1112.836409179358</td><td>0.9495863476424884</td><td>Crab</td><td>POINTING</td><td>1</td><td>LST-1</td><td>LST-1</td></tr>\n",
       "<tr><td>2990</td><td>2020-11-22</td><td>03:11:01.041</td><td>2020-11-22</td><td>03:30:26.687</td><td>83.97854212735702</td><td>22.24453594245388</td><td>10.83046631963613</td><td>79.16953368036387</td><td>234.7754765199352</td><td>83.63308333</td><td>22.0145</td><td>67662661.04057646</td><td>67663826.68716931</td><td>1162.64684176445</td><td>1165.646592855453</td><td>1105.43159080572</td><td>0.9507887959581095</td><td>Crab</td><td>POINTING</td><td>1</td><td>LST-1</td><td>LST-1</td></tr>\n",
       "<tr><td>2991</td><td>2020-11-22</td><td>03:31:36.844</td><td>2020-11-22</td><td>03:51:22.409</td><td>83.27437156260058</td><td>21.78678897222696</td><td>15.616576752400334</td><td>74.38342324759967</td><td>246.8684231068821</td><td>83.63308333</td><td>22.0145</td><td>67663896.84350395</td><td>67665082.40900564</td><td>1185.566106319427</td><td>1185.565501689911</td><td>1130.223454040203</td><td>0.9533196403100329</td><td>Crab</td><td>POINTING</td><td>1</td><td>LST-1</td><td>LST-1</td></tr>\n",
       "<tr><td>2992</td><td>2020-11-22</td><td>03:52:43.838</td><td>2020-11-22</td><td>04:12:38.119</td><td>83.9797069776352</td><td>22.24462602039828</td><td>19.100481433606035</td><td>70.89951856639397</td><td>254.5678192156486</td><td>83.63308333</td><td>22.0145</td><td>67665163.83768034</td><td>67666358.11863375</td><td>1194.299707889557</td><td>1194.280953407288</td><td>1138.253882936503</td><td>0.9530722275298112</td><td>Crab</td><td>POINTING</td><td>1</td><td>LST-1</td><td>LST-1</td></tr>\n",
       "<tr><td>3004</td><td>2020-11-23</td><td>03:00:50.933</td><td>2020-11-23</td><td>03:20:30.382</td><td>83.97786246057487</td><td>22.24432206174198</td><td>9.807944940847463</td><td>80.19205505915254</td><td>229.6305686651434</td><td>83.63308333</td><td>22.0145</td><td>67748450.93348455</td><td>67749630.38216114</td><td>1178.45922088623</td><td>1179.448676586151</td><td>1113.680777566444</td><td>0.9450312389502359</td><td>Crab</td><td>POINTING</td><td>1</td><td>LST-1</td><td>LST-1</td></tr>\n",
       "<tr><td>3005</td><td>2020-11-23</td><td>03:22:11.358</td><td>2020-11-23</td><td>03:41:34.524</td><td>83.27654514396127</td><td>21.78654664146641</td><td>14.45557168685015</td><td>75.54442831314985</td><td>244.1906853254233</td><td>83.63308333</td><td>22.0145</td><td>67749731.35757184</td><td>67750894.52392602</td><td>1162.168829202652</td><td>1163.166354179382</td><td>1099.988016104202</td><td>0.9464958863669475</td><td>Crab</td><td>POINTING</td><td>1</td><td>LST-1</td><td>LST-1</td></tr>\n",
       "<tr><td>3006</td><td>2020-11-23</td><td>03:43:44.017</td><td>2020-11-23</td><td>04:03:10.121</td><td>83.97992162911385</td><td>22.24472234020394</td><td>18.11410327217807</td><td>71.88589672782193</td><td>253.1551322142903</td><td>83.63308333</td><td>22.0145</td><td>67751024.01704955</td><td>67752190.12127638</td><td>1164.114111661911</td><td>1166.104226827621</td><td>1093.957413538071</td><td>0.939733830712109</td><td>Crab</td><td>POINTING</td><td>1</td><td>LST-1</td><td>LST-1</td></tr>\n",
       "<tr><td>3007</td><td>2020-11-23</td><td>04:04:30.304</td><td>2020-11-23</td><td>04:24:27.777</td><td>83.27873884858171</td><td>21.7870869063766</td><td>23.399131993081625</td><td>66.60086800691838</td><td>258.3132240175921</td><td>83.63308333</td><td>22.0145</td><td>67752270.3039403</td><td>67753467.776829</td><td>1196.477042675018</td><td>1197.472888708115</td><td>1127.234453051811</td><td>0.9421279413197946</td><td>Crab</td><td>POINTING</td><td>1</td><td>LST-1</td><td>LST-1</td></tr>\n",
       "<tr><td>3008</td><td>2020-11-23</td><td>04:26:09.574</td><td>2020-11-23</td><td>04:46:00.748</td><td>83.98166745409841</td><td>22.24520297989931</td><td>27.197032069739798</td><td>62.8029679302602</td><td>262.9170788174895</td><td>83.63308333</td><td>22.0145</td><td>67753569.57431602</td><td>67754760.7479186</td><td>1189.174380064011</td><td>1191.173602581024</td><td>1119.200158221332</td><td>0.9411573079476268</td><td>Crab</td><td>POINTING</td><td>1</td><td>LST-1</td><td>LST-1</td></tr>\n",
       "</table></div>"
      ],
      "text/plain": [
       "<ObservationTable length=30>\n",
       "OBS_ID  DATE-OBS    TIME-OBS    DATE-END    TIME-END         RA_PNT           DEC_PNT           ZEN_PNT       ...      LIVETIME           DEADC        OBJECT OBS_MODE N_TELS TELLIST INSTRUME\n",
       "                                                              deg               deg               deg         ...         s                                                                   \n",
       "int64   bytes10     bytes12     bytes10     bytes12         float64           float64           float64       ...      float64           float64       bytes4  bytes8  int64   bytes5  bytes5 \n",
       "------ ---------- ------------ ---------- ------------ ----------------- ----------------- ------------------ ... ----------------- ------------------ ------ -------- ------ ------- --------\n",
       "  2914 2020-11-18 03:43:34.195 2020-11-18 04:02:52.569 83.28333273835389 21.78656763343963 14.833352694245491 ... 1110.755623268583 0.9588881724795433   Crab POINTING      1   LST-1    LST-1\n",
       "  2929 2020-11-19 01:41:13.092 2020-11-19 01:59:21.733 83.97361170669024 22.24478461554191 15.851146635790514 ... 1006.045014654632 0.9241249542829353   Crab POINTING      1   LST-1    LST-1\n",
       "  2930 2020-11-19 02:02:55.113 2020-11-19 02:22:43.858 83.26877566296331 21.78654579520127  11.22029293523994 ... 1107.370648277967 0.9323276269551675   Crab POINTING      1   LST-1    LST-1\n",
       "  2931 2020-11-19 02:24:41.948 2020-11-19 02:44:15.865 83.97560985781382 22.24446090923748  7.969490181647387 ... 1097.560117693711 0.9357399457025957   Crab POINTING      1   LST-1    LST-1\n",
       "  2932 2020-11-19 02:46:09.185 2020-11-19 03:05:51.191 83.27280949215712 21.77667796720452  7.155967510378076 ... 1102.793449016734 0.9336999583451118   Crab POINTING      1   LST-1    LST-1\n",
       "  2933 2020-11-19 03:07:22.591 2020-11-19 03:27:08.367  83.9760089739721 22.24463360330349  8.373412153623377 ... 1109.557690603517  0.937661566601434   Crab POINTING      1   LST-1    LST-1\n",
       "  2934 2020-11-19 03:28:42.605 2020-11-19 03:48:24.005 83.27314894884802  21.7866185202132 12.711557029725327 ... 1109.548233302724 0.9407611931161327   Crab POINTING      1   LST-1    LST-1\n",
       "  2949 2020-11-20 01:16:46.256 2020-11-20 01:36:34.947 83.96966907611977 22.24499175262256 19.809740751877897 ...  1143.83952575376 0.9622680425201322   Crab POINTING      1   LST-1    LST-1\n",
       "  2950 2020-11-20 01:43:43.627 2020-11-20 02:04:17.610 83.26617773923647 21.78757049202337 13.964243018079543 ... 1166.291331967828 0.9459083340069938   Crab POINTING      1   LST-1    LST-1\n",
       "  2967 2020-11-21 00:27:41.949 2020-11-21 00:47:39.583 83.97004257165541 22.24530742886076 29.734736023886867 ... 1149.985345570381 0.9610120586671235   Crab POINTING      1   LST-1    LST-1\n",
       "  2968 2020-11-21 00:49:07.551 2020-11-21 01:08:52.833 83.26649185499244 21.78727828618635  24.64521945065721 ... 1134.333269154774 0.9594408481233277   Crab POINTING      1   LST-1    LST-1\n",
       "  2969 2020-11-21 01:10:05.040 2020-11-21 01:29:48.849 83.97195775800303 22.24484469481263  20.46689013216961 ... 1132.394252185203 0.9581820680522725   Crab POINTING      1   LST-1    LST-1\n",
       "  2970 2020-11-21 01:31:05.783 2020-11-21 01:50:48.103 83.26926202936363 21.78671529922383 15.807505365873325 ... 1129.409541695441 0.9568649506871244   Crab POINTING      1   LST-1    LST-1\n",
       "  2971 2020-11-21 01:52:06.552 2020-11-21 02:11:57.547  83.9748848096255 22.24478142459018 11.956474565127536 ... 1137.243620229819 0.9556704522533225   Crab POINTING      1   LST-1    LST-1\n",
       "  2972 2020-11-21 02:13:04.302 2020-11-21 02:32:51.148  83.2693828958083 21.78637585361789  8.456600803470181 ... 1131.253809898758 0.9539634748698207   Crab POINTING      1   LST-1    LST-1\n",
       "  2973 2020-11-21 02:34:12.987 2020-11-21 02:53:58.081 83.97788854362256 22.24392926329733  6.650615761124996 ... 1131.107528602438 0.9552491587138353   Crab POINTING      1   LST-1    LST-1\n",
       "  2974 2020-11-21 02:55:10.354 2020-11-21 03:15:02.371  83.2715938922083 21.78635039916637  8.552629500919068 ... 1137.901078842518 0.9554015711642755   Crab POINTING      1   LST-1    LST-1\n",
       "  2975 2020-11-21 03:16:11.454 2020-11-21 03:36:00.738 83.97737030919134 22.24463516436795 11.090481556659228 ...  1135.41564267134 0.9563119078197237   Crab POINTING      1   LST-1    LST-1\n",
       "  2976 2020-11-21 03:37:17.656 2020-11-21 03:56:37.110 83.27437921858045 21.78679110163722 15.930232389721013 ... 1109.601158682479 0.9569884879975888   Crab POINTING      1   LST-1    LST-1\n",
       "  2977 2020-11-21 03:58:11.059 2020-11-21 04:17:50.871 83.97937394022946 22.24482573719808 19.392573459418813 ... 1126.138144442027 0.9569307583022474   Crab POINTING      1   LST-1    LST-1\n",
       "  2988 2020-11-22 02:27:25.865 2020-11-22 02:47:06.097 83.97760425572697 22.24443666867978  6.730310728335596 ... 1113.656274098736 0.9443905862990799   Crab POINTING      1   LST-1    LST-1\n",
       "  2989 2020-11-22 02:49:39.344 2020-11-22 03:09:12.257 83.27464082840022 21.78644450681169  8.336552249157862 ... 1112.836409179358 0.9495863476424884   Crab POINTING      1   LST-1    LST-1\n",
       "  2990 2020-11-22 03:11:01.041 2020-11-22 03:30:26.687 83.97854212735702 22.24453594245388  10.83046631963613 ...  1105.43159080572 0.9507887959581095   Crab POINTING      1   LST-1    LST-1\n",
       "  2991 2020-11-22 03:31:36.844 2020-11-22 03:51:22.409 83.27437156260058 21.78678897222696 15.616576752400334 ... 1130.223454040203 0.9533196403100329   Crab POINTING      1   LST-1    LST-1\n",
       "  2992 2020-11-22 03:52:43.838 2020-11-22 04:12:38.119  83.9797069776352 22.24462602039828 19.100481433606035 ... 1138.253882936503 0.9530722275298112   Crab POINTING      1   LST-1    LST-1\n",
       "  3004 2020-11-23 03:00:50.933 2020-11-23 03:20:30.382 83.97786246057487 22.24432206174198  9.807944940847463 ... 1113.680777566444 0.9450312389502359   Crab POINTING      1   LST-1    LST-1\n",
       "  3005 2020-11-23 03:22:11.358 2020-11-23 03:41:34.524 83.27654514396127 21.78654664146641  14.45557168685015 ... 1099.988016104202 0.9464958863669475   Crab POINTING      1   LST-1    LST-1\n",
       "  3006 2020-11-23 03:43:44.017 2020-11-23 04:03:10.121 83.97992162911385 22.24472234020394  18.11410327217807 ... 1093.957413538071  0.939733830712109   Crab POINTING      1   LST-1    LST-1\n",
       "  3007 2020-11-23 04:04:30.304 2020-11-23 04:24:27.777 83.27873884858171  21.7870869063766 23.399131993081625 ... 1127.234453051811 0.9421279413197946   Crab POINTING      1   LST-1    LST-1\n",
       "  3008 2020-11-23 04:26:09.574 2020-11-23 04:46:00.748 83.98166745409841 22.24520297989931 27.197032069739798 ... 1119.200158221332 0.9411573079476268   Crab POINTING      1   LST-1    LST-1"
      ]
     },
     "execution_count": 25,
     "metadata": {},
     "output_type": "execute_result"
    }
   ],
   "source": [
    "generate_1d_dataset.datastore.obs_table"
   ]
  },
  {
   "cell_type": "code",
   "execution_count": 26,
   "id": "c152255f",
   "metadata": {},
   "outputs": [
    {
     "name": "stderr",
     "output_type": "stream",
     "text": [
      "Observation ID list selected: [2914 2929 2930 2931 2932 2933 2934 2949 2950 2967 2968 2969 2970 2971\n",
      " 2972 2973 2974 2975 2976 2977 2988 2989 2990 2991 2992]\n",
      "Observations selected: 25 out of 25.\n"
     ]
    }
   ],
   "source": [
    "generate_1d_dataset.get_filtered_observations()"
   ]
  },
  {
   "cell_type": "code",
   "execution_count": 27,
   "id": "717a4784",
   "metadata": {},
   "outputs": [
    {
     "name": "stdout",
     "output_type": "stream",
     "text": [
      "Observations\n",
      "Number of observations: 25\n",
      "Observation\n",
      "\n",
      "\tobs id            : 2914 \n",
      " \ttstart            : 59171.16\n",
      "\ttstop             : 59171.17\n",
      "\tduration          : 1158.37 s\n",
      "\tpointing (icrs)   : 83.3 deg, 21.8 deg\n",
      "\n",
      "\tdeadtime fraction : 4.1%\n",
      "Observation\n",
      "\n",
      "\tobs id            : 2929 \n",
      " \ttstart            : 59172.07\n",
      "\ttstop             : 59172.08\n",
      "\tduration          : 1088.64 s\n",
      "\tpointing (icrs)   : 84.0 deg, 22.2 deg\n",
      "\n",
      "\tdeadtime fraction : 7.6%\n",
      "Observation\n",
      "\n",
      "\tobs id            : 2930 \n",
      " \ttstart            : 59172.09\n",
      "\ttstop             : 59172.10\n",
      "\tduration          : 1188.75 s\n",
      "\tpointing (icrs)   : 83.3 deg, 21.8 deg\n",
      "\n",
      "\tdeadtime fraction : 6.8%\n",
      "Observation\n",
      "\n",
      "\tobs id            : 2931 \n",
      " \ttstart            : 59172.10\n",
      "\ttstop             : 59172.11\n",
      "\tduration          : 1173.92 s\n",
      "\tpointing (icrs)   : 84.0 deg, 22.2 deg\n",
      "\n",
      "\tdeadtime fraction : 6.4%\n",
      "Observation\n",
      "\n",
      "\tobs id            : 2932 \n",
      " \ttstart            : 59172.12\n",
      "\ttstop             : 59172.13\n",
      "\tduration          : 1182.01 s\n",
      "\tpointing (icrs)   : 83.3 deg, 21.8 deg\n",
      "\n",
      "\tdeadtime fraction : 6.6%\n",
      "Observation\n",
      "\n",
      "\tobs id            : 2933 \n",
      " \ttstart            : 59172.13\n",
      "\ttstop             : 59172.14\n",
      "\tduration          : 1185.78 s\n",
      "\tpointing (icrs)   : 84.0 deg, 22.2 deg\n",
      "\n",
      "\tdeadtime fraction : 6.2%\n",
      "Observation\n",
      "\n",
      "\tobs id            : 2934 \n",
      " \ttstart            : 59172.14\n",
      "\ttstop             : 59172.16\n",
      "\tduration          : 1181.40 s\n",
      "\tpointing (icrs)   : 83.3 deg, 21.8 deg\n",
      "\n",
      "\tdeadtime fraction : 5.9%\n",
      "Observation\n",
      "\n",
      "\tobs id            : 2949 \n",
      " \ttstart            : 59173.05\n",
      "\ttstop             : 59173.07\n",
      "\tduration          : 1188.69 s\n",
      "\tpointing (icrs)   : 84.0 deg, 22.2 deg\n",
      "\n",
      "\tdeadtime fraction : 3.8%\n",
      "Observation\n",
      "\n",
      "\tobs id            : 2950 \n",
      " \ttstart            : 59173.07\n",
      "\ttstop             : 59173.09\n",
      "\tduration          : 1233.98 s\n",
      "\tpointing (icrs)   : 83.3 deg, 21.8 deg\n",
      "\n",
      "\tdeadtime fraction : 5.4%\n",
      "Observation\n",
      "\n",
      "\tobs id            : 2967 \n",
      " \ttstart            : 59174.02\n",
      "\ttstop             : 59174.03\n",
      "\tduration          : 1197.63 s\n",
      "\tpointing (icrs)   : 84.0 deg, 22.2 deg\n",
      "\n",
      "\tdeadtime fraction : 3.9%\n",
      "Observation\n",
      "\n",
      "\tobs id            : 2968 \n",
      " \ttstart            : 59174.03\n",
      "\ttstop             : 59174.05\n",
      "\tduration          : 1185.28 s\n",
      "\tpointing (icrs)   : 83.3 deg, 21.8 deg\n",
      "\n",
      "\tdeadtime fraction : 4.1%\n",
      "Observation\n",
      "\n",
      "\tobs id            : 2969 \n",
      " \ttstart            : 59174.05\n",
      "\ttstop             : 59174.06\n",
      "\tduration          : 1183.81 s\n",
      "\tpointing (icrs)   : 84.0 deg, 22.2 deg\n",
      "\n",
      "\tdeadtime fraction : 4.2%\n",
      "Observation\n",
      "\n",
      "\tobs id            : 2970 \n",
      " \ttstart            : 59174.06\n",
      "\ttstop             : 59174.08\n",
      "\tduration          : 1182.32 s\n",
      "\tpointing (icrs)   : 83.3 deg, 21.8 deg\n",
      "\n",
      "\tdeadtime fraction : 4.3%\n",
      "Observation\n",
      "\n",
      "\tobs id            : 2971 \n",
      " \ttstart            : 59174.08\n",
      "\ttstop             : 59174.09\n",
      "\tduration          : 1190.99 s\n",
      "\tpointing (icrs)   : 84.0 deg, 22.2 deg\n",
      "\n",
      "\tdeadtime fraction : 4.4%\n",
      "Observation\n",
      "\n",
      "\tobs id            : 2972 \n",
      " \ttstart            : 59174.09\n",
      "\ttstop             : 59174.11\n",
      "\tduration          : 1186.85 s\n",
      "\tpointing (icrs)   : 83.3 deg, 21.8 deg\n",
      "\n",
      "\tdeadtime fraction : 4.6%\n",
      "Observation\n",
      "\n",
      "\tobs id            : 2973 \n",
      " \ttstart            : 59174.11\n",
      "\ttstop             : 59174.12\n",
      "\tduration          : 1185.09 s\n",
      "\tpointing (icrs)   : 84.0 deg, 22.2 deg\n",
      "\n",
      "\tdeadtime fraction : 4.5%\n",
      "Observation\n",
      "\n",
      "\tobs id            : 2974 \n",
      " \ttstart            : 59174.12\n",
      "\ttstop             : 59174.14\n",
      "\tduration          : 1192.02 s\n",
      "\tpointing (icrs)   : 83.3 deg, 21.8 deg\n",
      "\n",
      "\tdeadtime fraction : 4.5%\n",
      "Observation\n",
      "\n",
      "\tobs id            : 2975 \n",
      " \ttstart            : 59174.14\n",
      "\ttstop             : 59174.15\n",
      "\tduration          : 1189.28 s\n",
      "\tpointing (icrs)   : 84.0 deg, 22.2 deg\n",
      "\n",
      "\tdeadtime fraction : 4.4%\n",
      "Observation\n",
      "\n",
      "\tobs id            : 2976 \n",
      " \ttstart            : 59174.15\n",
      "\ttstop             : 59174.16\n",
      "\tduration          : 1159.45 s\n",
      "\tpointing (icrs)   : 83.3 deg, 21.8 deg\n",
      "\n",
      "\tdeadtime fraction : 4.3%\n",
      "Observation\n",
      "\n",
      "\tobs id            : 2977 \n",
      " \ttstart            : 59174.17\n",
      "\ttstop             : 59174.18\n",
      "\tduration          : 1179.81 s\n",
      "\tpointing (icrs)   : 84.0 deg, 22.2 deg\n",
      "\n",
      "\tdeadtime fraction : 4.3%\n",
      "Observation\n",
      "\n",
      "\tobs id            : 2988 \n",
      " \ttstart            : 59175.10\n",
      "\ttstop             : 59175.12\n",
      "\tduration          : 1180.23 s\n",
      "\tpointing (icrs)   : 84.0 deg, 22.2 deg\n",
      "\n",
      "\tdeadtime fraction : 5.6%\n",
      "Observation\n",
      "\n",
      "\tobs id            : 2989 \n",
      " \ttstart            : 59175.12\n",
      "\ttstop             : 59175.13\n",
      "\tduration          : 1172.91 s\n",
      "\tpointing (icrs)   : 83.3 deg, 21.8 deg\n",
      "\n",
      "\tdeadtime fraction : 5.0%\n",
      "Observation\n",
      "\n",
      "\tobs id            : 2990 \n",
      " \ttstart            : 59175.13\n",
      "\ttstop             : 59175.15\n",
      "\tduration          : 1165.65 s\n",
      "\tpointing (icrs)   : 84.0 deg, 22.2 deg\n",
      "\n",
      "\tdeadtime fraction : 4.9%\n",
      "Observation\n",
      "\n",
      "\tobs id            : 2991 \n",
      " \ttstart            : 59175.15\n",
      "\ttstop             : 59175.16\n",
      "\tduration          : 1185.57 s\n",
      "\tpointing (icrs)   : 83.3 deg, 21.8 deg\n",
      "\n",
      "\tdeadtime fraction : 4.7%\n",
      "Observation\n",
      "\n",
      "\tobs id            : 2992 \n",
      " \ttstart            : 59175.16\n",
      "\ttstop             : 59175.18\n",
      "\tduration          : 1194.28 s\n",
      "\tpointing (icrs)   : 84.0 deg, 22.2 deg\n",
      "\n",
      "\tdeadtime fraction : 4.7%\n",
      "\n"
     ]
    }
   ],
   "source": [
    "print(generate_1d_dataset.observations)"
   ]
  },
  {
   "cell_type": "code",
   "execution_count": 28,
   "id": "a773220a",
   "metadata": {},
   "outputs": [
    {
     "name": "stdout",
     "output_type": "stream",
     "text": [
      "Using the list of required IRFs: [<RequiredHDUEnum.aeff: 'aeff'>, <RequiredHDUEnum.edisp: 'edisp'>, <RequiredHDUEnum.rad_max: 'rad_max'>]\n",
      "Selected observations from the given DataStore: ['2914', '2929', '2930', '2931', '2932', '2933', '2934', '2949', '2950', '2967', '2968', '2969', '2970', '2971', '2972', '2973', '2974', '2975', '2976', '2977', '2988', '2989', '2990', '2991', '2992']\n"
     ]
    }
   ],
   "source": [
    "print(\"Using the list of required IRFs:\", generate_1d_dataset.config_1d_dataset_info.observation.required_irfs)\n",
    "print(\"Selected observations from the given DataStore:\", generate_1d_dataset.observations.ids)"
   ]
  },
  {
   "cell_type": "code",
   "execution_count": null,
   "id": "f9f5f404",
   "metadata": {},
   "outputs": [],
   "source": []
  },
  {
   "cell_type": "markdown",
   "id": "a21e4400",
   "metadata": {},
   "source": [
    "## Create the base dataset template and get all the Dataset Reduction makers "
   ]
  },
  {
   "cell_type": "code",
   "execution_count": 29,
   "id": "35434aff",
   "metadata": {},
   "outputs": [],
   "source": [
    "generate_1d_dataset.dataset_template = generate_1d_dataset.generate_geom()"
   ]
  },
  {
   "cell_type": "code",
   "execution_count": 30,
   "id": "60cb9833",
   "metadata": {},
   "outputs": [
    {
     "name": "stdout",
     "output_type": "stream",
     "text": [
      "SpectrumDataset\n",
      "---------------\n",
      "\n",
      "  Name                            : tLAMSMjy \n",
      "\n",
      "  Total counts                    : 0 \n",
      "  Total background counts         : 0.00\n",
      "  Total excess counts             : 0.00\n",
      "\n",
      "  Predicted counts                : 0.00\n",
      "  Predicted background counts     : 0.00\n",
      "  Predicted excess counts         : nan\n",
      "\n",
      "  Exposure min                    : 0.00e+00 m2 s\n",
      "  Exposure max                    : 0.00e+00 m2 s\n",
      "\n",
      "  Number of total bins            : 20 \n",
      "  Number of fit bins              : 0 \n",
      "\n",
      "  Fit statistic type              : cash\n",
      "  Fit statistic value (-2 log(L)) : nan\n",
      "\n",
      "  Number of models                : 0 \n",
      "  Number of parameters            : 0\n",
      "  Number of free parameters       : 0\n",
      "\n",
      "\n"
     ]
    }
   ],
   "source": [
    "print(generate_1d_dataset.dataset_template)"
   ]
  },
  {
   "cell_type": "code",
   "execution_count": 31,
   "id": "8e621e25",
   "metadata": {},
   "outputs": [
    {
     "name": "stdout",
     "output_type": "stream",
     "text": [
      "CPU times: user 24.1 ms, sys: 6.55 ms, total: 30.6 ms\n",
      "Wall time: 28.7 ms\n"
     ]
    }
   ],
   "source": [
    "%%time\n",
    "(\n",
    "    generate_1d_dataset.dataset_maker, \n",
    "    generate_1d_dataset.bkg_maker, \n",
    "    generate_1d_dataset.safe_maker\n",
    ") = generate_1d_dataset.get_reduction_makers()"
   ]
  },
  {
   "cell_type": "code",
   "execution_count": 32,
   "id": "5ec184ae",
   "metadata": {},
   "outputs": [
    {
     "name": "stdout",
     "output_type": "stream",
     "text": [
      "SpectrumDatasetMaker\n",
      "--------------------\n",
      "\n",
      "  selection               : {<MapSelectionEnum.exposure: 'exposure'>, <MapSelectionEnum.edisp: 'edisp'>, <MapSelectionEnum.counts: 'counts'>}\n",
      "  containment_correction  : False\n",
      "  use_region_center       : True\n",
      "\n"
     ]
    }
   ],
   "source": [
    "print(generate_1d_dataset.dataset_maker)"
   ]
  },
  {
   "cell_type": "code",
   "execution_count": 33,
   "id": "2b3fa091",
   "metadata": {},
   "outputs": [
    {
     "name": "stdout",
     "output_type": "stream",
     "text": [
      "ReflectedRegionsBackgroundMaker\n",
      "-------------------------------\n",
      "\n",
      "  region_finder  : <gammapy.makers.background.reflected.WobbleRegionsFinder object at 0x7f3a354131c0>\n",
      "  exclusion_mask : WcsNDMap\n",
      "\n",
      "  geom  : WcsGeom \n",
      "  axes  : ['lon', 'lat']\n",
      "  shape : (125, 125)\n",
      "  ndim  : 2\n",
      "  unit  : \n",
      "  dtype : bool\n",
      "\n",
      "\n",
      "<gammapy.makers.background.reflected.WobbleRegionsFinder object at 0x7f3a354131c0>\n",
      "Number of Wobble OFF regions selected: 1\n"
     ]
    }
   ],
   "source": [
    "print(generate_1d_dataset.bkg_maker)\n",
    "print(generate_1d_dataset.bkg_maker.region_finder)\n",
    "print(\"Number of Wobble OFF regions selected:\", generate_1d_dataset.bkg_maker.region_finder.n_off_regions)"
   ]
  },
  {
   "cell_type": "code",
   "execution_count": 34,
   "id": "5fba97de",
   "metadata": {},
   "outputs": [
    {
     "name": "stdout",
     "output_type": "stream",
     "text": [
      "None\n"
     ]
    }
   ],
   "source": [
    "print(generate_1d_dataset.safe_maker)"
   ]
  },
  {
   "cell_type": "code",
   "execution_count": null,
   "id": "c0922396",
   "metadata": {},
   "outputs": [],
   "source": []
  },
  {
   "cell_type": "code",
   "execution_count": 35,
   "id": "6fad1930",
   "metadata": {},
   "outputs": [
    {
     "name": "stdout",
     "output_type": "stream",
     "text": [
      "CPU times: user 32.8 s, sys: 10.4 s, total: 43.2 s\n",
      "Wall time: 43.4 s\n"
     ]
    }
   ],
   "source": [
    "%%time\n",
    "generate_1d_dataset.generate_dataset()"
   ]
  },
  {
   "cell_type": "code",
   "execution_count": 36,
   "id": "f38925f7",
   "metadata": {},
   "outputs": [
    {
     "name": "stdout",
     "output_type": "stream",
     "text": [
      "Datasets\n",
      "--------\n",
      "\n",
      "Dataset 0: \n",
      "\n",
      "  Type       : SpectrumDatasetOnOff\n",
      "  Name       : 2914\n",
      "  Instrument : CTA-N\n",
      "  Models     : \n",
      "\n",
      "Dataset 1: \n",
      "\n",
      "  Type       : SpectrumDatasetOnOff\n",
      "  Name       : 2929\n",
      "  Instrument : CTA-N\n",
      "  Models     : \n",
      "\n",
      "Dataset 2: \n",
      "\n",
      "  Type       : SpectrumDatasetOnOff\n",
      "  Name       : 2930\n",
      "  Instrument : CTA-N\n",
      "  Models     : \n",
      "\n",
      "Dataset 3: \n",
      "\n",
      "  Type       : SpectrumDatasetOnOff\n",
      "  Name       : 2931\n",
      "  Instrument : CTA-N\n",
      "  Models     : \n",
      "\n",
      "Dataset 4: \n",
      "\n",
      "  Type       : SpectrumDatasetOnOff\n",
      "  Name       : 2932\n",
      "  Instrument : CTA-N\n",
      "  Models     : \n",
      "\n",
      "Dataset 5: \n",
      "\n",
      "  Type       : SpectrumDatasetOnOff\n",
      "  Name       : 2933\n",
      "  Instrument : CTA-N\n",
      "  Models     : \n",
      "\n",
      "Dataset 6: \n",
      "\n",
      "  Type       : SpectrumDatasetOnOff\n",
      "  Name       : 2934\n",
      "  Instrument : CTA-N\n",
      "  Models     : \n",
      "\n",
      "Dataset 7: \n",
      "\n",
      "  Type       : SpectrumDatasetOnOff\n",
      "  Name       : 2949\n",
      "  Instrument : CTA-N\n",
      "  Models     : \n",
      "\n",
      "Dataset 8: \n",
      "\n",
      "  Type       : SpectrumDatasetOnOff\n",
      "  Name       : 2950\n",
      "  Instrument : CTA-N\n",
      "  Models     : \n",
      "\n",
      "Dataset 9: \n",
      "\n",
      "  Type       : SpectrumDatasetOnOff\n",
      "  Name       : 2967\n",
      "  Instrument : CTA-N\n",
      "  Models     : \n",
      "\n",
      "Dataset 10: \n",
      "\n",
      "  Type       : SpectrumDatasetOnOff\n",
      "  Name       : 2968\n",
      "  Instrument : CTA-N\n",
      "  Models     : \n",
      "\n",
      "Dataset 11: \n",
      "\n",
      "  Type       : SpectrumDatasetOnOff\n",
      "  Name       : 2969\n",
      "  Instrument : CTA-N\n",
      "  Models     : \n",
      "\n",
      "Dataset 12: \n",
      "\n",
      "  Type       : SpectrumDatasetOnOff\n",
      "  Name       : 2970\n",
      "  Instrument : CTA-N\n",
      "  Models     : \n",
      "\n",
      "Dataset 13: \n",
      "\n",
      "  Type       : SpectrumDatasetOnOff\n",
      "  Name       : 2971\n",
      "  Instrument : CTA-N\n",
      "  Models     : \n",
      "\n",
      "Dataset 14: \n",
      "\n",
      "  Type       : SpectrumDatasetOnOff\n",
      "  Name       : 2972\n",
      "  Instrument : CTA-N\n",
      "  Models     : \n",
      "\n",
      "Dataset 15: \n",
      "\n",
      "  Type       : SpectrumDatasetOnOff\n",
      "  Name       : 2973\n",
      "  Instrument : CTA-N\n",
      "  Models     : \n",
      "\n",
      "Dataset 16: \n",
      "\n",
      "  Type       : SpectrumDatasetOnOff\n",
      "  Name       : 2974\n",
      "  Instrument : CTA-N\n",
      "  Models     : \n",
      "\n",
      "Dataset 17: \n",
      "\n",
      "  Type       : SpectrumDatasetOnOff\n",
      "  Name       : 2975\n",
      "  Instrument : CTA-N\n",
      "  Models     : \n",
      "\n",
      "Dataset 18: \n",
      "\n",
      "  Type       : SpectrumDatasetOnOff\n",
      "  Name       : 2976\n",
      "  Instrument : CTA-N\n",
      "  Models     : \n",
      "\n",
      "Dataset 19: \n",
      "\n",
      "  Type       : SpectrumDatasetOnOff\n",
      "  Name       : 2977\n",
      "  Instrument : CTA-N\n",
      "  Models     : \n",
      "\n",
      "Dataset 20: \n",
      "\n",
      "  Type       : SpectrumDatasetOnOff\n",
      "  Name       : 2988\n",
      "  Instrument : CTA-N\n",
      "  Models     : \n",
      "\n",
      "Dataset 21: \n",
      "\n",
      "  Type       : SpectrumDatasetOnOff\n",
      "  Name       : 2989\n",
      "  Instrument : CTA-N\n",
      "  Models     : \n",
      "\n",
      "Dataset 22: \n",
      "\n",
      "  Type       : SpectrumDatasetOnOff\n",
      "  Name       : 2990\n",
      "  Instrument : CTA-N\n",
      "  Models     : \n",
      "\n",
      "Dataset 23: \n",
      "\n",
      "  Type       : SpectrumDatasetOnOff\n",
      "  Name       : 2991\n",
      "  Instrument : CTA-N\n",
      "  Models     : \n",
      "\n",
      "Dataset 24: \n",
      "\n",
      "  Type       : SpectrumDatasetOnOff\n",
      "  Name       : 2992\n",
      "  Instrument : CTA-N\n",
      "  Models     : \n",
      "\n",
      "\n"
     ]
    }
   ],
   "source": [
    "print(generate_1d_dataset.datasets)"
   ]
  },
  {
   "cell_type": "code",
   "execution_count": 37,
   "id": "46aca7b4",
   "metadata": {
    "scrolled": true
   },
   "outputs": [],
   "source": [
    "info_table = generate_1d_dataset.datasets.info_table(cumulative=True)"
   ]
  },
  {
   "cell_type": "code",
   "execution_count": 38,
   "id": "a5f03e6d",
   "metadata": {},
   "outputs": [],
   "source": [
    "stacked_dataset = generate_1d_dataset.datasets.stack_reduce(name=config_1d_dataset.name)"
   ]
  },
  {
   "cell_type": "code",
   "execution_count": 39,
   "id": "d60a735c",
   "metadata": {},
   "outputs": [
    {
     "name": "stdout",
     "output_type": "stream",
     "text": [
      "SpectrumDatasetOnOff\n",
      "--------------------\n",
      "\n",
      "  Name                            : LST-1 \n",
      "\n",
      "  Total counts                    : 618553 \n",
      "  Total background counts         : 592562.00\n",
      "  Total excess counts             : 25991.00\n",
      "\n",
      "  Predicted counts                : 605557.50\n",
      "  Predicted background counts     : 605557.50\n",
      "  Predicted excess counts         : nan\n",
      "\n",
      "  Exposure min                    : 1.69e+07 m2 s\n",
      "  Exposure max                    : 5.49e+09 m2 s\n",
      "\n",
      "  Number of total bins            : 20 \n",
      "  Number of fit bins              : 16 \n",
      "\n",
      "  Fit statistic type              : wstat\n",
      "  Fit statistic value (-2 log(L)) : 6448.63\n",
      "\n",
      "  Number of models                : 0 \n",
      "  Number of parameters            : 0\n",
      "  Number of free parameters       : 0\n",
      "\n",
      "  Total counts_off                : 592562 \n",
      "  Acceptance                      : 20 \n",
      "  Acceptance off                  : 20 \n",
      "\n"
     ]
    }
   ],
   "source": [
    "print(stacked_dataset)"
   ]
  },
  {
   "cell_type": "markdown",
   "id": "75be2f9a",
   "metadata": {},
   "source": [
    "# Some Basic plots from the Dataset"
   ]
  },
  {
   "cell_type": "code",
   "execution_count": 40,
   "id": "610b3df6",
   "metadata": {
    "scrolled": true
   },
   "outputs": [
    {
     "data": {
      "text/html": [
       "<div><i>Table length=25</i>\n",
       "<table id=\"table139888026428032\" class=\"table-striped table-bordered table-condensed\">\n",
       "<thead><tr><th>name</th><th>counts</th><th>excess</th><th>sqrt_ts</th><th>background</th><th>npred</th><th>npred_background</th><th>npred_signal</th><th>exposure_min</th><th>exposure_max</th><th>livetime</th><th>ontime</th><th>counts_rate</th><th>background_rate</th><th>excess_rate</th><th>n_bins</th><th>n_fit_bins</th><th>stat_type</th><th>stat_sum</th><th>counts_off</th><th>acceptance</th><th>acceptance_off</th><th>alpha</th></tr></thead>\n",
       "<thead><tr><th></th><th></th><th></th><th></th><th></th><th></th><th></th><th></th><th>m2 s</th><th>m2 s</th><th>s</th><th>s</th><th>1 / s</th><th>1 / s</th><th>1 / s</th><th></th><th></th><th></th><th></th><th></th><th></th><th></th><th></th></tr></thead>\n",
       "<thead><tr><th>str7</th><th>int64</th><th>float64</th><th>float64</th><th>float64</th><th>float64</th><th>float64</th><th>float64</th><th>float64</th><th>float64</th><th>float64</th><th>float64</th><th>float64</th><th>float64</th><th>float64</th><th>int64</th><th>int64</th><th>str5</th><th>float64</th><th>int64</th><th>float64</th><th>float64</th><th>float64</th></tr></thead>\n",
       "<tr><td>stacked</td><td>23920</td><td>1438.0</td><td>6.6761379834315155</td><td>22482.0</td><td>23201.0</td><td>23201.0</td><td>nan</td><td>657878.8125</td><td>215449200.0</td><td>1110.7511721003518</td><td>1158.374046087265</td><td>21.53497615021101</td><td>20.240356764592136</td><td>1.2946193856188726</td><td>20</td><td>16</td><td>wstat</td><td>291.1746270127169</td><td>22482</td><td>16.0</td><td>16.0</td><td>1.0</td></tr>\n",
       "<tr><td>stacked</td><td>47135</td><td>2970.0</td><td>9.83013248935441</td><td>44165.0</td><td>45650.0</td><td>45650.0</td><td>nan</td><td>1257345.25</td><td>412989856.0</td><td>2116.791833723654</td><td>2247.0154218673706</td><td>22.26718718821052</td><td>20.86412055091371</td><td>1.4030666372968124</td><td>20</td><td>16</td><td>wstat</td><td>561.396649533893</td><td>44165</td><td>16.0</td><td>16.0</td><td>1.0</td></tr>\n",
       "<tr><td>stacked</td><td>72018</td><td>3836.0</td><td>10.245465413040614</td><td>68182.0</td><td>70100.0</td><td>70100.0</td><td>nan</td><td>2076436.375</td><td>615816960.0</td><td>3225.0921831181367</td><td>3435.7610058784485</td><td>22.33052449693713</td><td>21.14110113096958</td><td>1.1894233659675475</td><td>20</td><td>16</td><td>wstat</td><td>781.5853376168299</td><td>68182</td><td>16.0</td><td>16.0</td><td>1.0</td></tr>\n",
       "<tr><td>stacked</td><td>97554</td><td>5050.0</td><td>11.584408343632033</td><td>92504.0</td><td>95029.0</td><td>95029.0</td><td>nan</td><td>2888271.0</td><td>816847168.0</td><td>4323.573662997488</td><td>4609.678486824036</td><td>22.563279269391895</td><td>21.395264013119174</td><td>1.1680152562727215</td><td>20</td><td>16</td><td>wstat</td><td>1030.5158238246324</td><td>92504</td><td>16.0</td><td>16.0</td><td>1.0</td></tr>\n",
       "<tr><td>stacked</td><td>121874</td><td>6413.0</td><td>13.164572962922673</td><td>115461.0</td><td>118667.5</td><td>118667.5</td><td>nan</td><td>3657133.0</td><td>1019625984.0</td><td>5427.212093531343</td><td>5791.683927297592</td><td>22.456096776696967</td><td>21.274458784763024</td><td>1.1816379919339453</td><td>20</td><td>16</td><td>wstat</td><td>1323.2390434028653</td><td>115461</td><td>16.0</td><td>16.0</td><td>1.0</td></tr>\n",
       "<tr><td>stacked</td><td>146557</td><td>7032.0</td><td>13.147871961872049</td><td>139525.0</td><td>143041.0</td><td>143041.0</td><td>nan</td><td>4431721.0</td><td>1223914880.0</td><td>6539.069311367832</td><td>6977.460605621338</td><td>22.412516678056658</td><td>21.337134285676257</td><td>1.075382392380401</td><td>20</td><td>16</td><td>wstat</td><td>1533.6594828231941</td><td>139525</td><td>16.0</td><td>16.0</td><td>1.0</td></tr>\n",
       "<tr><td>stacked</td><td>171254</td><td>8332.0</td><td>14.413987328008988</td><td>162922.0</td><td>167088.0</td><td>167088.0</td><td>nan</td><td>5160657.5</td><td>1433979904.0</td><td>7650.483947334415</td><td>8158.859927892685</td><td>22.38472770858743</td><td>21.295646278267842</td><td>1.0890814303195864</td><td>20</td><td>16</td><td>wstat</td><td>1780.8160246815698</td><td>162922</td><td>16.0</td><td>16.0</td><td>1.0</td></tr>\n",
       "<tr><td>stacked</td><td>194645</td><td>9223.0</td><td>14.961097160102458</td><td>185422.0</td><td>190033.5</td><td>190033.5</td><td>nan</td><td>5687857.0</td><td>1674005248.0</td><td>8794.3234255977</td><td>9347.551048994064</td><td>22.13302724726332</td><td>21.084282556665002</td><td>1.048744690598318</td><td>20</td><td>16</td><td>wstat</td><td>2096.1590846194927</td><td>185422</td><td>16.0</td><td>16.0</td><td>1.0</td></tr>\n",
       "<tr><td>stacked</td><td>221091</td><td>9801.0</td><td>14.905813635630949</td><td>211290.0</td><td>216190.5</td><td>216190.5</td><td>nan</td><td>6460394.0</td><td>1897475200.0</td><td>9961.558325205442</td><td>10581.534150362015</td><td>22.19441906399121</td><td>21.210536856003646</td><td>0.983882207987561</td><td>20</td><td>16</td><td>wstat</td><td>2339.646849152963</td><td>211290</td><td>16.0</td><td>16.0</td><td>1.0</td></tr>\n",
       "<tr><td>stacked</td><td>239039</td><td>10870.0</td><td>15.903547211698283</td><td>228169.0</td><td>233604.0</td><td>233604.0</td><td>nan</td><td>6654601.5</td><td>2192916992.0</td><td>11112.499258115276</td><td>11779.168376207352</td><td>21.51082258344663</td><td>20.5326447903582</td><td>0.9781777930884284</td><td>20</td><td>16</td><td>wstat</td><td>2626.901908489452</td><td>228169</td><td>16.0</td><td>16.0</td><td>1.0</td></tr>\n",
       "<tr><td>stacked</td><td>261276</td><td>11737.0</td><td>16.422693732526795</td><td>249539.0</td><td>255407.5</td><td>255407.5</td><td>nan</td><td>7020381.0</td><td>2454466048.0</td><td>12249.707353164486</td><td>12964.450509309769</td><td>21.32916260505637</td><td>20.371017266427693</td><td>0.9581453386286786</td><td>20</td><td>16</td><td>wstat</td><td>2944.420484288285</td><td>249539</td><td>16.0</td><td>16.0</td><td>1.0</td></tr>\n",
       "<tr><td>stacked</td><td>284456</td><td>13113.0</td><td>17.589898338345414</td><td>271343.0</td><td>277899.5</td><td>277899.5</td><td>nan</td><td>7520335.5</td><td>2695261440.0</td><td>13384.012399685178</td><td>14148.260021448135</td><td>21.253417249276534</td><td>20.273666214354567</td><td>0.9797510349219676</td><td>20</td><td>16</td><td>wstat</td><td>3262.7659935132488</td><td>271343</td><td>16.0</td><td>16.0</td><td>1.0</td></tr>\n",
       "<tr><td>stacked</td><td>310103</td><td>13472.0</td><td>17.296202202852403</td><td>296631.0</td><td>303367.0</td><td>303367.0</td><td>nan</td><td>8200625.0</td><td>2917283840.0</td><td>14515.332231471783</td><td>15330.579251527786</td><td>21.363823786798513</td><td>20.435701730398705</td><td>0.9281220563998077</td><td>20</td><td>16</td><td>wstat</td><td>3492.8310129130255</td><td>296631</td><td>16.0</td><td>16.0</td><td>1.0</td></tr>\n",
       "<tr><td>stacked</td><td>336170</td><td>14701.0</td><td>18.128888815177092</td><td>321469.0</td><td>328819.5</td><td>328819.5</td><td>nan</td><td>9021203.0</td><td>3130030336.0</td><td>15653.530369690623</td><td>16521.573632001877</td><td>21.475666642645297</td><td>20.53651747611191</td><td>0.9391491665333863</td><td>20</td><td>16</td><td>wstat</td><td>3732.512417215451</td><td>321469</td><td>16.0</td><td>16.0</td><td>1.0</td></tr>\n",
       "<tr><td>stacked</td><td>363088</td><td>16071.0</td><td>19.07217205554962</td><td>347017.0</td><td>355052.5</td><td>355052.5</td><td>nan</td><td>9857962.0</td><td>3337232640.0</td><td>16785.73751509519</td><td>17708.419014692307</td><td>21.63074453377338</td><td>20.673324582130054</td><td>0.957419951643326</td><td>20</td><td>16</td><td>wstat</td><td>4003.6298097707895</td><td>347017</td><td>16.0</td><td>16.0</td><td>1.0</td></tr>\n",
       "<tr><td>stacked</td><td>389004</td><td>16722.0</td><td>19.16601226561317</td><td>372282.0</td><td>380643.0</td><td>380643.0</td><td>nan</td><td>10646624.0</td><td>3545233408.0</td><td>17917.797248305742</td><td>18893.51268672943</td><td>21.710481182991572</td><td>20.777219143675822</td><td>0.9332620393157528</td><td>20</td><td>16</td><td>wstat</td><td>4193.461463818035</td><td>372282</td><td>16.0</td><td>16.0</td><td>1.0</td></tr>\n",
       "<tr><td>stacked</td><td>415179</td><td>18246.0</td><td>20.247806332567695</td><td>396933.0</td><td>406056.0</td><td>406056.0</td><td>nan</td><td>11440020.0</td><td>3754482688.0</td><td>19056.652128981965</td><td>20085.52965116501</td><td>21.78656550950954</td><td>20.829104572693105</td><td>0.957460936816436</td><td>20</td><td>16</td><td>wstat</td><td>4507.321987693989</td><td>396933</td><td>16.0</td><td>16.0</td><td>1.0</td></tr>\n",
       "<tr><td>stacked</td><td>440617</td><td>18587.0</td><td>20.01287786846973</td><td>422030.0</td><td>431323.5</td><td>431323.5</td><td>nan</td><td>12233440.0</td><td>3965679872.0</td><td>20193.978491419846</td><td>21274.81355857849</td><td>21.81922696348381</td><td>20.89880407564636</td><td>0.9204228878374496</td><td>20</td><td>16</td><td>wstat</td><td>4723.22595286753</td><td>422030</td><td>16.0</td><td>16.0</td><td>1.0</td></tr>\n",
       "<tr><td>stacked</td><td>466356</td><td>20121.0</td><td>21.063428675605827</td><td>446235.0</td><td>456295.5</td><td>456295.5</td><td>nan</td><td>12852807.0</td><td>4184204544.0</td><td>21303.562842641546</td><td>22434.26778936386</td><td>21.8909861906542</td><td>20.946496287785674</td><td>0.9444899028685235</td><td>20</td><td>16</td><td>wstat</td><td>5004.970587955903</td><td>446235</td><td>16.0</td><td>16.0</td><td>1.0</td></tr>\n",
       "<tr><td>stacked</td><td>490051</td><td>20319.0</td><td>20.741111509698257</td><td>469732.0</td><td>479891.5</td><td>479891.5</td><td>nan</td><td>13368481.0</td><td>4418314240.0</td><td>22432.561398302067</td><td>23614.07996058464</td><td>21.84552139628122</td><td>20.93973985670465</td><td>0.9057815395765709</td><td>20</td><td>16</td><td>wstat</td><td>5255.573798255873</td><td>469732</td><td>16.0</td><td>16.0</td><td>1.0</td></tr>\n",
       "<tr><td>stacked</td><td>516668</td><td>21597.0</td><td>21.472157112626306</td><td>495071.0</td><td>505869.5</td><td>505869.5</td><td>nan</td><td>14192228.0</td><td>4622294016.0</td><td>23547.16145055119</td><td>24794.312026023865</td><td>21.941837918977953</td><td>21.024657304857925</td><td>0.9171806141200285</td><td>20</td><td>16</td><td>wstat</td><td>5452.380547998468</td><td>495071</td><td>16.0</td><td>16.0</td><td>1.0</td></tr>\n",
       "<tr><td>stacked</td><td>542531</td><td>23029.0</td><td>22.347198842629712</td><td>519502.0</td><td>531016.5</td><td>531016.5</td><td>nan</td><td>14968156.0</td><td>4826936320.0</td><td>24660.942941190337</td><td>25967.22430872917</td><td>21.999604852652606</td><td>21.06578005710777</td><td>0.9338247955448388</td><td>20</td><td>16</td><td>wstat</td><td>5722.23586471903</td><td>519502</td><td>16.0</td><td>16.0</td><td>1.0</td></tr>\n",
       "<tr><td>stacked</td><td>567683</td><td>23967.0</td><td>22.735028751221982</td><td>543716.0</td><td>555699.5</td><td>555699.5</td><td>nan</td><td>15740254.0</td><td>5030568448.0</td><td>25769.226661724046</td><td>27132.870901584625</td><td>22.02949306364711</td><td>21.09943022883185</td><td>0.9300628348152582</td><td>20</td><td>16</td><td>wstat</td><td>5939.214402729096</td><td>543716</td><td>16.0</td><td>16.0</td><td>1.0</td></tr>\n",
       "<tr><td>stacked</td><td>593841</td><td>25480.0</td><td>23.636110553756033</td><td>568361.0</td><td>581101.0</td><td>581101.0</td><td>nan</td><td>16382113.0</td><td>5252174848.0</td><td>26899.449539359055</td><td>28318.436403274536</td><td>22.076325358669393</td><td>21.129094079355745</td><td>0.9472312793136481</td><td>20</td><td>16</td><td>wstat</td><td>6202.3618850640305</td><td>568361</td><td>16.0</td><td>16.0</td><td>1.0</td></tr>\n",
       "<tr><td>stacked</td><td>618553</td><td>25991.0</td><td>23.618209356801227</td><td>592562.0</td><td>605557.5</td><td>605557.5</td><td>nan</td><td>16910904.0</td><td>5487119360.0</td><td>28037.685547919365</td><td>29512.717356681824</td><td>22.061485743636993</td><td>21.13448340759971</td><td>0.9270023360372822</td><td>20</td><td>16</td><td>wstat</td><td>6448.633198133444</td><td>592562</td><td>16.0</td><td>16.0</td><td>1.0</td></tr>\n",
       "</table></div>"
      ],
      "text/plain": [
       "<Table length=25>\n",
       "  name  counts  excess      sqrt_ts       background  npred   npred_background npred_signal exposure_min ... n_bins n_fit_bins stat_type      stat_sum      counts_off acceptance acceptance_off  alpha \n",
       "                                                                                                m2 s     ...                                                                                            \n",
       "  str7  int64  float64      float64        float64   float64      float64        float64      float64    ... int64    int64       str5        float64         int64     float64      float64     float64\n",
       "------- ------ ------- ------------------ ---------- -------- ---------------- ------------ ------------ ... ------ ---------- --------- ------------------ ---------- ---------- -------------- -------\n",
       "stacked  23920  1438.0 6.6761379834315155    22482.0  23201.0          23201.0          nan  657878.8125 ...     20         16     wstat  291.1746270127169      22482       16.0           16.0     1.0\n",
       "stacked  47135  2970.0   9.83013248935441    44165.0  45650.0          45650.0          nan   1257345.25 ...     20         16     wstat   561.396649533893      44165       16.0           16.0     1.0\n",
       "stacked  72018  3836.0 10.245465413040614    68182.0  70100.0          70100.0          nan  2076436.375 ...     20         16     wstat  781.5853376168299      68182       16.0           16.0     1.0\n",
       "stacked  97554  5050.0 11.584408343632033    92504.0  95029.0          95029.0          nan    2888271.0 ...     20         16     wstat 1030.5158238246324      92504       16.0           16.0     1.0\n",
       "stacked 121874  6413.0 13.164572962922673   115461.0 118667.5         118667.5          nan    3657133.0 ...     20         16     wstat 1323.2390434028653     115461       16.0           16.0     1.0\n",
       "stacked 146557  7032.0 13.147871961872049   139525.0 143041.0         143041.0          nan    4431721.0 ...     20         16     wstat 1533.6594828231941     139525       16.0           16.0     1.0\n",
       "stacked 171254  8332.0 14.413987328008988   162922.0 167088.0         167088.0          nan    5160657.5 ...     20         16     wstat 1780.8160246815698     162922       16.0           16.0     1.0\n",
       "stacked 194645  9223.0 14.961097160102458   185422.0 190033.5         190033.5          nan    5687857.0 ...     20         16     wstat 2096.1590846194927     185422       16.0           16.0     1.0\n",
       "stacked 221091  9801.0 14.905813635630949   211290.0 216190.5         216190.5          nan    6460394.0 ...     20         16     wstat  2339.646849152963     211290       16.0           16.0     1.0\n",
       "stacked 239039 10870.0 15.903547211698283   228169.0 233604.0         233604.0          nan    6654601.5 ...     20         16     wstat  2626.901908489452     228169       16.0           16.0     1.0\n",
       "stacked 261276 11737.0 16.422693732526795   249539.0 255407.5         255407.5          nan    7020381.0 ...     20         16     wstat  2944.420484288285     249539       16.0           16.0     1.0\n",
       "stacked 284456 13113.0 17.589898338345414   271343.0 277899.5         277899.5          nan    7520335.5 ...     20         16     wstat 3262.7659935132488     271343       16.0           16.0     1.0\n",
       "stacked 310103 13472.0 17.296202202852403   296631.0 303367.0         303367.0          nan    8200625.0 ...     20         16     wstat 3492.8310129130255     296631       16.0           16.0     1.0\n",
       "stacked 336170 14701.0 18.128888815177092   321469.0 328819.5         328819.5          nan    9021203.0 ...     20         16     wstat  3732.512417215451     321469       16.0           16.0     1.0\n",
       "stacked 363088 16071.0  19.07217205554962   347017.0 355052.5         355052.5          nan    9857962.0 ...     20         16     wstat 4003.6298097707895     347017       16.0           16.0     1.0\n",
       "stacked 389004 16722.0  19.16601226561317   372282.0 380643.0         380643.0          nan   10646624.0 ...     20         16     wstat  4193.461463818035     372282       16.0           16.0     1.0\n",
       "stacked 415179 18246.0 20.247806332567695   396933.0 406056.0         406056.0          nan   11440020.0 ...     20         16     wstat  4507.321987693989     396933       16.0           16.0     1.0\n",
       "stacked 440617 18587.0  20.01287786846973   422030.0 431323.5         431323.5          nan   12233440.0 ...     20         16     wstat   4723.22595286753     422030       16.0           16.0     1.0\n",
       "stacked 466356 20121.0 21.063428675605827   446235.0 456295.5         456295.5          nan   12852807.0 ...     20         16     wstat  5004.970587955903     446235       16.0           16.0     1.0\n",
       "stacked 490051 20319.0 20.741111509698257   469732.0 479891.5         479891.5          nan   13368481.0 ...     20         16     wstat  5255.573798255873     469732       16.0           16.0     1.0\n",
       "stacked 516668 21597.0 21.472157112626306   495071.0 505869.5         505869.5          nan   14192228.0 ...     20         16     wstat  5452.380547998468     495071       16.0           16.0     1.0\n",
       "stacked 542531 23029.0 22.347198842629712   519502.0 531016.5         531016.5          nan   14968156.0 ...     20         16     wstat   5722.23586471903     519502       16.0           16.0     1.0\n",
       "stacked 567683 23967.0 22.735028751221982   543716.0 555699.5         555699.5          nan   15740254.0 ...     20         16     wstat  5939.214402729096     543716       16.0           16.0     1.0\n",
       "stacked 593841 25480.0 23.636110553756033   568361.0 581101.0         581101.0          nan   16382113.0 ...     20         16     wstat 6202.3618850640305     568361       16.0           16.0     1.0\n",
       "stacked 618553 25991.0 23.618209356801227   592562.0 605557.5         605557.5          nan   16910904.0 ...     20         16     wstat  6448.633198133444     592562       16.0           16.0     1.0"
      ]
     },
     "execution_count": 40,
     "metadata": {},
     "output_type": "execute_result"
    }
   ],
   "source": [
    "info_table"
   ]
  },
  {
   "cell_type": "code",
   "execution_count": 41,
   "id": "668f04d7",
   "metadata": {},
   "outputs": [
    {
     "data": {
      "image/png": "[encoded data removed]",
      "text/plain": [
       "<Figure size 1000x500 with 2 Axes>"
      ]
     },
     "metadata": {},
     "output_type": "display_data"
    }
   ],
   "source": [
    "# Plot temporal evolution of excess events and significance value\n",
    "plt.figure(figsize=(10,5))\n",
    "plt.subplot(121)\n",
    "plt.plot(\n",
    "    np.sqrt(info_table[\"livetime\"].to(\"h\")), info_table[\"excess\"], marker=\"o\", ls=\"none\"\n",
    ")\n",
    "plt.plot(info_table[\"livetime\"].to(\"h\")[-1:1], info_table[\"excess\"][-1:1], 'r')\n",
    "plt.xlabel(\"Sqrt Livetime h^(1/2)\")\n",
    "plt.ylabel(\"Excess\")\n",
    "plt.grid()\n",
    "plt.title('Excess vs Square root of Livetime')\n",
    "\n",
    "plt.subplot(122)\n",
    "plt.plot(\n",
    "    np.sqrt(info_table[\"livetime\"].to(\"h\")),\n",
    "    info_table[\"sqrt_ts\"],\n",
    "    marker=\"o\",\n",
    "    ls=\"none\",\n",
    ")\n",
    "plt.grid()\n",
    "plt.xlabel(\"Sqrt Livetime h^(1/2)\")\n",
    "plt.ylabel(\"sqrt_ts\")\n",
    "plt.title('Significance vs Square root of Livetime')\n",
    "plt.subplots_adjust(wspace=0.5)"
   ]
  },
  {
   "cell_type": "code",
   "execution_count": null,
   "id": "f5c54931",
   "metadata": {},
   "outputs": [],
   "source": []
  }
 ],
 "metadata": {
  "kernelspec": {
   "display_name": "gammapy-dev",
   "language": "python",
   "name": "gammapy-dev"
  },
  "language_info": {
   "codemirror_mode": {
    "name": "ipython",
    "version": 3
   },
   "file_extension": ".py",
   "mimetype": "text/x-python",
   "name": "python",
   "nbconvert_exporter": "python",
   "pygments_lexer": "ipython3",
   "version": "3.8.13"
  }
 },
 "nbformat": 4,
 "nbformat_minor": 5
}
