{
 "cells": [
  {
   "cell_type": "code",
   "execution_count": 1,
   "id": "f64f4918",
   "metadata": {},
   "outputs": [],
   "source": [
    "import logging\n",
    "import os\n",
    "\n",
    "import matplotlib.pyplot as plt\n",
    "import numpy as np\n",
    "from gammapy.data import DataStore\n",
    "\n",
    "from asgardpy.analysis import AsgardpyAnalysis\n",
    "from asgardpy.config import AsgardpyConfig"
   ]
  },
  {
   "cell_type": "code",
   "execution_count": 2,
   "id": "bfdf8e6f",
   "metadata": {},
   "outputs": [],
   "source": [
    "from asgardpy.base.geom import generate_geom, get_source_position\n",
    "from asgardpy.base.reduction import (\n",
    "    generate_dl4_dataset,\n",
    "    get_bkg_maker,\n",
    "    get_dataset_maker,\n",
    "    get_dataset_reference,\n",
    "    get_exclusion_region_mask,\n",
    "    get_filtered_observations,\n",
    "    get_safe_mask_maker,\n",
    ")\n",
    "from asgardpy.data.dataset_1d import Dataset1DGeneration\n",
    "from asgardpy.io.input_dl3 import DL3Files"
   ]
  },
  {
   "cell_type": "code",
   "execution_count": 3,
   "id": "da9332b2",
   "metadata": {},
   "outputs": [],
   "source": [
    "# os.environ['GAMMAPY_DATA']"
   ]
  },
  {
   "cell_type": "code",
   "execution_count": 4,
   "id": "f0eeb377",
   "metadata": {},
   "outputs": [],
   "source": [
    "log = logging.getLogger(\"test 1d dataset\")"
   ]
  },
  {
   "cell_type": "code",
   "execution_count": 5,
   "id": "a210c361",
   "metadata": {},
   "outputs": [],
   "source": [
    "config_file = \"../src/asgardpy/tests/config_test_base.yaml\""
   ]
  },
  {
   "cell_type": "code",
   "execution_count": 6,
   "id": "47637409",
   "metadata": {},
   "outputs": [],
   "source": [
    "config = AsgardpyConfig()"
   ]
  },
  {
   "cell_type": "code",
   "execution_count": 7,
   "id": "6b86c162",
   "metadata": {},
   "outputs": [
    {
     "name": "stdout",
     "output_type": "stream",
     "text": [
      "CPU times: user 26.6 ms, sys: 3.03 ms, total: 29.7 ms\n",
      "Wall time: 29.6 ms\n"
     ]
    }
   ],
   "source": [
    "%%time\n",
    "config_main = config.read(config_file)"
   ]
  },
  {
   "cell_type": "code",
   "execution_count": null,
   "id": "bae1394c-2b7c-48c7-ae14-692dee2f0f99",
   "metadata": {},
   "outputs": [],
   "source": []
  },
  {
   "cell_type": "markdown",
   "id": "2b4d46e0-b011-4880-a2e1-ffa945f3ada0",
   "metadata": {},
   "source": [
    "# Update path of test data"
   ]
  },
  {
   "cell_type": "code",
   "execution_count": 8,
   "id": "aefadcf1-ff57-45dc-af17-689c4ca8cd13",
   "metadata": {},
   "outputs": [],
   "source": [
    "config_main.dataset3d.instruments[0].input_dl3[0].input_dir = f\"{os.environ['GAMMAPY_DATA']}fermipy-crab/\"\n",
    "config_main.dataset3d.instruments[0].input_dl3[1].input_dir = f\"{os.environ['GAMMAPY_DATA']}fermipy-crab/\"\n",
    "config_main.dataset1d.instruments[0].input_dl3[0].input_dir = f\"{os.environ['GAMMAPY_DATA']}hess-dl3-dr1/\""
   ]
  },
  {
   "cell_type": "code",
   "execution_count": null,
   "id": "78d836e3-141f-43e2-a5fb-d6b23c2c1966",
   "metadata": {},
   "outputs": [],
   "source": []
  },
  {
   "cell_type": "code",
   "execution_count": 9,
   "id": "ebbaf8bb",
   "metadata": {},
   "outputs": [
    {
     "data": {
      "text/plain": [
       "{'log': {'level': 'info',\n",
       "  'filename': '',\n",
       "  'filemode': 'w',\n",
       "  'format': '',\n",
       "  'datefmt': ''},\n",
       " 'outdir': PosixPath('.'),\n",
       " 'n_jobs': 10,\n",
       " 'parallel_backend': 'multiprocessing',\n",
       " 'steps': ['datasets-3d', 'datasets-1d', 'fit', 'flux-points'],\n",
       " 'overwrite': True,\n",
       " 'stacked_dataset': True}"
      ]
     },
     "execution_count": 9,
     "metadata": {},
     "output_type": "execute_result"
    }
   ],
   "source": [
    "config_main.general.model_dump()"
   ]
  },
  {
   "cell_type": "markdown",
   "id": "bcf370f2",
   "metadata": {},
   "source": [
    "# Steps mentioned in the main config file"
   ]
  },
  {
   "cell_type": "code",
   "execution_count": 10,
   "id": "95986b77",
   "metadata": {},
   "outputs": [
    {
     "data": {
      "text/plain": [
       "['datasets-3d', 'datasets-1d', 'fit', 'flux-points']"
      ]
     },
     "execution_count": 10,
     "metadata": {},
     "output_type": "execute_result"
    }
   ],
   "source": [
    "config_main.general.steps"
   ]
  },
  {
   "cell_type": "markdown",
   "id": "7c32501c",
   "metadata": {},
   "source": [
    "# Target source information"
   ]
  },
  {
   "cell_type": "code",
   "execution_count": 11,
   "id": "1cfcad52",
   "metadata": {
    "scrolled": true
   },
   "outputs": [
    {
     "data": {
      "text/plain": [
       "{'source_name': '4FGL J0534.5+2201i',\n",
       " 'sky_position': {'frame': 'icrs',\n",
       "  'lon': <Quantity 83.6338333 deg>,\n",
       "  'lat': <Quantity 22.0145 deg>,\n",
       "  'radius': <Quantity 0. deg>},\n",
       " 'use_uniform_position': True,\n",
       " 'models_file': PosixPath('.'),\n",
       " 'datasets_with_fov_bkg_model': [],\n",
       " 'use_catalog': {'name': '',\n",
       "  'selection_radius': <Quantity 0. deg>,\n",
       "  'exclusion_radius': <Quantity 0. deg>},\n",
       " 'components': [{'name': '4FGL J0534.5+2201i',\n",
       "   'type': 'SkyModel',\n",
       "   'datasets_names': [''],\n",
       "   'spectral': {'type': 'LogParabolaSpectralModel',\n",
       "    'parameters': [{'name': 'amplitude',\n",
       "      'value': 1e-07,\n",
       "      'unit': 'cm-2 s-1 TeV-1',\n",
       "      'error': 1.5e-08,\n",
       "      'min': 1e-13,\n",
       "      'max': 0.0001,\n",
       "      'frozen': False},\n",
       "     {'name': 'reference',\n",
       "      'value': 0.015,\n",
       "      'unit': 'TeV',\n",
       "      'error': 0.0,\n",
       "      'min': 0.0001,\n",
       "      'max': 100.0,\n",
       "      'frozen': True},\n",
       "     {'name': 'alpha',\n",
       "      'value': 1.7,\n",
       "      'unit': '',\n",
       "      'error': 0.05,\n",
       "      'min': 0.5,\n",
       "      'max': 3.0,\n",
       "      'frozen': False},\n",
       "     {'name': 'beta',\n",
       "      'value': 0.1,\n",
       "      'unit': '',\n",
       "      'error': 0.001,\n",
       "      'min': 0.001,\n",
       "      'max': 1.0,\n",
       "      'frozen': False}],\n",
       "    'ebl_abs': {'filename': PosixPath('.'),\n",
       "     'reference': 'dominguez',\n",
       "     'type': 'EBLAbsorptionNormSpectralModel',\n",
       "     'redshift': 0.0,\n",
       "     'alpha_norm': 1.0}},\n",
       "   'spatial': {'type': '',\n",
       "    'frame': 'icrs',\n",
       "    'parameters': [{'name': '',\n",
       "      'value': 1.0,\n",
       "      'unit': ' ',\n",
       "      'error': 0.1,\n",
       "      'min': 0.1,\n",
       "      'max': 10.0,\n",
       "      'frozen': True}]}}],\n",
       " 'covariance': 'None',\n",
       " 'from_3d': False,\n",
       " 'roi_selection': {'roi_radius': <Quantity 0. deg>,\n",
       "  'free_sources': ['4FGL J0521.7+2112',\n",
       "   '4FGL J0528.3+1817',\n",
       "   '4FGL J0536.2+1733',\n",
       "   '4FGL J0534.5+2200']}}"
      ]
     },
     "execution_count": 11,
     "metadata": {},
     "output_type": "execute_result"
    }
   ],
   "source": [
    "config_main.target.model_dump()"
   ]
  },
  {
   "cell_type": "markdown",
   "id": "ed73dc08",
   "metadata": {},
   "source": [
    "# 1D Datasets informations"
   ]
  },
  {
   "cell_type": "code",
   "execution_count": 12,
   "id": "511b096d",
   "metadata": {
    "scrolled": true
   },
   "outputs": [
    {
     "data": {
      "text/plain": [
       "{'type': '1d',\n",
       " 'instruments': [{'name': 'HESS',\n",
       "   'input_dl3': [{'type': 'gadf-dl3',\n",
       "     'input_dir': PosixPath('/home/chaitanya/software/gammapy-datasets/1.3/hess-dl3-dr1'),\n",
       "     'glob_pattern': {'dl3_files': 'data/hess_*fits.gz'}}],\n",
       "   'input_dl4': False,\n",
       "   'dataset_info': {'name': 'HESS',\n",
       "    'geom': {'wcs': {'skydir': {'frame': 'icrs',\n",
       "       'lon': <Quantity 0. deg>,\n",
       "       'lat': <Quantity 0. deg>,\n",
       "       'radius': <Quantity 0. deg>},\n",
       "      'binsize': <Quantity 0.02 deg>,\n",
       "      'proj': 'TAN',\n",
       "      'map_frame_shape': {'width': <Quantity 6. deg>,\n",
       "       'height': <Quantity 6. deg>},\n",
       "      'binsize_irf': <Quantity 0.2 deg>},\n",
       "     'selection': {'offset_max': <Quantity 2.5 deg>},\n",
       "     'axes': [{'name': 'energy',\n",
       "       'axis': {'min': <Quantity 0.1 TeV>,\n",
       "        'max': <Quantity 100. TeV>,\n",
       "        'nbins': 5,\n",
       "        'per_decade': True},\n",
       "       'axis_custom': {'edges': [], 'unit': 'TeV'}},\n",
       "      {'name': 'energy_true',\n",
       "       'axis': {'min': <Quantity 0.1 TeV>,\n",
       "        'max': <Quantity 100. TeV>,\n",
       "        'nbins': 10,\n",
       "        'per_decade': True},\n",
       "       'axis_custom': {'edges': [], 'unit': 'TeV'}}],\n",
       "     'from_events_file': True,\n",
       "     'reco_psf': False},\n",
       "    'observation': {'obs_ids': [23523, 23526],\n",
       "     'event_type': [],\n",
       "     'obs_file': PosixPath('.'),\n",
       "     'obs_time': [],\n",
       "     'obs_cone': {'frame': 'icrs',\n",
       "      'lon': <Quantity 0. deg>,\n",
       "      'lat': <Quantity 0. deg>,\n",
       "      'radius': <Quantity 0. deg>},\n",
       "     'required_irfs': ['aeff', 'edisp']},\n",
       "    'background': {'method': 'reflected',\n",
       "     'region_finder_method': 'wobble',\n",
       "     'parameters': {'n_off_regions': 1},\n",
       "     'exclusion': {'target_source': True,\n",
       "      'regions': [{'type': 'CircleSkyRegion',\n",
       "        'name': '4FGL J0521.7+2112',\n",
       "        'position': {'frame': 'icrs',\n",
       "         'lon': <Quantity 0. deg>,\n",
       "         'lat': <Quantity 0. deg>,\n",
       "         'radius': <Quantity 0. deg>},\n",
       "        'parameters': {'region_radius': '0.5 deg'}}],\n",
       "      'exclusion_file': PosixPath('.')}},\n",
       "    'safe_mask': {'methods': ['aeff-max'], 'parameters': {'aeff_percent': 10}},\n",
       "    'on_region': {'frame': 'icrs',\n",
       "     'lon': <Quantity 83.633 deg>,\n",
       "     'lat': <Quantity 22.02 deg>,\n",
       "     'radius': <Quantity 0.2 deg>},\n",
       "    'containment_correction': True,\n",
       "    'map_selection': ['counts', 'exposure', 'edisp']},\n",
       "   'dl4_dataset_info': {'dl4_dataset': {'type': 'MapDataset',\n",
       "     'input_dir': PosixPath('.'),\n",
       "     'glob_pattern': {},\n",
       "     'dl4_format': 'gadf'},\n",
       "    'spectral_energy_range': {'name': 'energy',\n",
       "     'axis': {'min': <Quantity 100. GeV>,\n",
       "      'max': <Quantity 100. TeV>,\n",
       "      'nbins': 5,\n",
       "      'per_decade': True},\n",
       "     'axis_custom': {'edges': [], 'unit': 'TeV'}}}},\n",
       "  {'name': 'MAGIC',\n",
       "   'input_dl3': [{'type': 'gadf-dl3',\n",
       "     'input_dir': PosixPath('.'),\n",
       "     'glob_pattern': {'dl3_files': '2013*fits'}}],\n",
       "   'input_dl4': False,\n",
       "   'dataset_info': {'name': 'MAGIC',\n",
       "    'geom': {'wcs': {'skydir': {'frame': 'icrs',\n",
       "       'lon': <Quantity 0. deg>,\n",
       "       'lat': <Quantity 0. deg>,\n",
       "       'radius': <Quantity 0. deg>},\n",
       "      'binsize': <Quantity 0.02 deg>,\n",
       "      'proj': 'TAN',\n",
       "      'map_frame_shape': {'width': <Quantity 6. deg>,\n",
       "       'height': <Quantity 6. deg>},\n",
       "      'binsize_irf': <Quantity 0.2 deg>},\n",
       "     'selection': {'offset_max': <Quantity 2.5 deg>},\n",
       "     'axes': [{'name': 'energy',\n",
       "       'axis': {'min': <Quantity 0.05 TeV>,\n",
       "        'max': <Quantity 100. TeV>,\n",
       "        'nbins': 5,\n",
       "        'per_decade': True},\n",
       "       'axis_custom': {'edges': [], 'unit': 'TeV'}},\n",
       "      {'name': 'energy_true',\n",
       "       'axis': {'min': <Quantity 0.01 TeV>,\n",
       "        'max': <Quantity 100. TeV>,\n",
       "        'nbins': 10,\n",
       "        'per_decade': True},\n",
       "       'axis_custom': {'edges': [], 'unit': 'TeV'}}],\n",
       "     'from_events_file': True,\n",
       "     'reco_psf': False},\n",
       "    'observation': {'obs_ids': [],\n",
       "     'event_type': [],\n",
       "     'obs_file': PosixPath('.'),\n",
       "     'obs_time': [],\n",
       "     'obs_cone': {'frame': 'icrs',\n",
       "      'lon': <Quantity 0. deg>,\n",
       "      'lat': <Quantity 0. deg>,\n",
       "      'radius': <Quantity 0. deg>},\n",
       "     'required_irfs': ['aeff', 'edisp', 'rad_max']},\n",
       "    'background': {'method': 'reflected',\n",
       "     'region_finder_method': 'wobble',\n",
       "     'parameters': {'n_off_regions': 3},\n",
       "     'exclusion': {'target_source': True,\n",
       "      'regions': [{'type': 'CircleSkyRegion',\n",
       "        'name': '4FGL J0521.7+2112',\n",
       "        'position': {'frame': 'icrs',\n",
       "         'lon': <Quantity 0. deg>,\n",
       "         'lat': <Quantity 0. deg>,\n",
       "         'radius': <Quantity 0. deg>},\n",
       "        'parameters': {'region_radius': '0.5 deg'}}],\n",
       "      'exclusion_file': PosixPath('.')}},\n",
       "    'safe_mask': {'methods': ['aeff-default'], 'parameters': {}},\n",
       "    'on_region': {'frame': 'icrs',\n",
       "     'lon': <Quantity 83.6338333 deg>,\n",
       "     'lat': <Quantity 22.0145 deg>,\n",
       "     'radius': <Quantity 0. deg>},\n",
       "    'containment_correction': False,\n",
       "    'map_selection': ['counts', 'exposure', 'edisp']},\n",
       "   'dl4_dataset_info': {'dl4_dataset': {'type': 'MapDataset',\n",
       "     'input_dir': PosixPath('.'),\n",
       "     'glob_pattern': {},\n",
       "     'dl4_format': 'gadf'},\n",
       "    'spectral_energy_range': {'name': 'energy',\n",
       "     'axis': {'min': <Quantity 100. GeV>,\n",
       "      'max': <Quantity 100. TeV>,\n",
       "      'nbins': 5,\n",
       "      'per_decade': True},\n",
       "     'axis_custom': {'edges': [0.0631,\n",
       "       0.1,\n",
       "       0.1585,\n",
       "       0.2512,\n",
       "       0.3981,\n",
       "       0.631,\n",
       "       1.0,\n",
       "       1.585,\n",
       "       2.512],\n",
       "      'unit': 'TeV'}}}}]}"
      ]
     },
     "execution_count": 12,
     "metadata": {},
     "output_type": "execute_result"
    }
   ],
   "source": [
    "config_main.dataset1d.model_dump()"
   ]
  },
  {
   "cell_type": "code",
   "execution_count": null,
   "id": "13dcacb0",
   "metadata": {},
   "outputs": [],
   "source": []
  },
  {
   "cell_type": "code",
   "execution_count": 13,
   "id": "b7ffc23d",
   "metadata": {},
   "outputs": [
    {
     "name": "stderr",
     "output_type": "stream",
     "text": [
      "Setting logging config: {'level': 'INFO', 'filename': '', 'filemode': 'w', 'format': '', 'datefmt': ''}\n"
     ]
    },
    {
     "name": "stdout",
     "output_type": "stream",
     "text": [
      "CPU times: user 3.91 ms, sys: 54 μs, total: 3.96 ms\n",
      "Wall time: 3.01 ms\n"
     ]
    }
   ],
   "source": [
    "%%time\n",
    "analysis = AsgardpyAnalysis(config_main)"
   ]
  },
  {
   "cell_type": "code",
   "execution_count": 14,
   "id": "06882af8",
   "metadata": {},
   "outputs": [
    {
     "data": {
      "text/plain": [
       "<asgardpy.analysis.analysis.AsgardpyAnalysis at 0x7da9e946ddf0>"
      ]
     },
     "execution_count": 14,
     "metadata": {},
     "output_type": "execute_result"
    }
   ],
   "source": [
    "analysis"
   ]
  },
  {
   "cell_type": "code",
   "execution_count": null,
   "id": "59b16d40",
   "metadata": {},
   "outputs": [],
   "source": []
  },
  {
   "cell_type": "markdown",
   "id": "b07061ff",
   "metadata": {},
   "source": [
    "# Prepare for a single 1D Dataset, based on instrument"
   ]
  },
  {
   "cell_type": "code",
   "execution_count": 15,
   "id": "d106b41c",
   "metadata": {},
   "outputs": [
    {
     "name": "stdout",
     "output_type": "stream",
     "text": [
      "2 number of 1D dataset information provided\n",
      "Instrument selected is HESS\n"
     ]
    }
   ],
   "source": [
    "instruments_list = config_main.dataset1d.instruments\n",
    "print(len(instruments_list), \"number of 1D dataset information provided\")\n",
    "\n",
    "config_1d_dataset = instruments_list[0]\n",
    "print(f\"Instrument selected is {config_1d_dataset.name}\")"
   ]
  },
  {
   "cell_type": "markdown",
   "id": "9de4cddd",
   "metadata": {},
   "source": [
    "# Run each Dataset1DGeneration step"
   ]
  },
  {
   "cell_type": "code",
   "execution_count": 16,
   "id": "6e9f4954",
   "metadata": {},
   "outputs": [
    {
     "name": "stdout",
     "output_type": "stream",
     "text": [
      "CPU times: user 44 μs, sys: 0 ns, total: 44 μs\n",
      "Wall time: 49.4 μs\n"
     ]
    }
   ],
   "source": [
    "%%time\n",
    "generate_1d_dataset = Dataset1DGeneration(log, config_1d_dataset, config_main)"
   ]
  },
  {
   "cell_type": "code",
   "execution_count": null,
   "id": "a4842498",
   "metadata": {},
   "outputs": [],
   "source": []
  },
  {
   "cell_type": "markdown",
   "id": "25600366",
   "metadata": {},
   "source": [
    "# Initialized variables"
   ]
  },
  {
   "cell_type": "code",
   "execution_count": 17,
   "id": "08864d18",
   "metadata": {},
   "outputs": [
    {
     "data": {
      "text/plain": [
       "[InputDL3Config(type='gadf-dl3', input_dir=PosixPath('/home/chaitanya/software/gammapy-datasets/1.3/hess-dl3-dr1'), glob_pattern={'dl3_files': 'data/hess_*fits.gz'})]"
      ]
     },
     "execution_count": 17,
     "metadata": {},
     "output_type": "execute_result"
    }
   ],
   "source": [
    "generate_1d_dataset.config_1d_dataset_io"
   ]
  },
  {
   "cell_type": "code",
   "execution_count": 18,
   "id": "12e0c556",
   "metadata": {
    "scrolled": true
   },
   "outputs": [
    {
     "data": {
      "text/plain": [
       "{'name': 'HESS',\n",
       " 'geom': {'wcs': {'skydir': {'frame': 'icrs',\n",
       "    'lon': <Quantity 0. deg>,\n",
       "    'lat': <Quantity 0. deg>,\n",
       "    'radius': <Quantity 0. deg>},\n",
       "   'binsize': <Quantity 0.02 deg>,\n",
       "   'proj': 'TAN',\n",
       "   'map_frame_shape': {'width': <Quantity 6. deg>,\n",
       "    'height': <Quantity 6. deg>},\n",
       "   'binsize_irf': <Quantity 0.2 deg>},\n",
       "  'selection': {'offset_max': <Quantity 2.5 deg>},\n",
       "  'axes': [{'name': 'energy',\n",
       "    'axis': {'min': <Quantity 0.1 TeV>,\n",
       "     'max': <Quantity 100. TeV>,\n",
       "     'nbins': 5,\n",
       "     'per_decade': True},\n",
       "    'axis_custom': {'edges': [], 'unit': 'TeV'}},\n",
       "   {'name': 'energy_true',\n",
       "    'axis': {'min': <Quantity 0.1 TeV>,\n",
       "     'max': <Quantity 100. TeV>,\n",
       "     'nbins': 10,\n",
       "     'per_decade': True},\n",
       "    'axis_custom': {'edges': [], 'unit': 'TeV'}}],\n",
       "  'from_events_file': True,\n",
       "  'reco_psf': False},\n",
       " 'observation': {'obs_ids': [23523, 23526],\n",
       "  'event_type': [],\n",
       "  'obs_file': PosixPath('.'),\n",
       "  'obs_time': [],\n",
       "  'obs_cone': {'frame': 'icrs',\n",
       "   'lon': <Quantity 0. deg>,\n",
       "   'lat': <Quantity 0. deg>,\n",
       "   'radius': <Quantity 0. deg>},\n",
       "  'required_irfs': ['aeff', 'edisp']},\n",
       " 'background': {'method': 'reflected',\n",
       "  'region_finder_method': 'wobble',\n",
       "  'parameters': {'n_off_regions': 1},\n",
       "  'exclusion': {'target_source': True,\n",
       "   'regions': [{'type': 'CircleSkyRegion',\n",
       "     'name': '4FGL J0521.7+2112',\n",
       "     'position': {'frame': 'icrs',\n",
       "      'lon': <Quantity 0. deg>,\n",
       "      'lat': <Quantity 0. deg>,\n",
       "      'radius': <Quantity 0. deg>},\n",
       "     'parameters': {'region_radius': '0.5 deg'}}],\n",
       "   'exclusion_file': PosixPath('.')}},\n",
       " 'safe_mask': {'methods': ['aeff-max'], 'parameters': {'aeff_percent': 10}},\n",
       " 'on_region': {'frame': 'icrs',\n",
       "  'lon': <Quantity 83.633 deg>,\n",
       "  'lat': <Quantity 22.02 deg>,\n",
       "  'radius': <Quantity 0.2 deg>},\n",
       " 'containment_correction': True,\n",
       " 'map_selection': ['counts', 'exposure', 'edisp']}"
      ]
     },
     "execution_count": 18,
     "metadata": {},
     "output_type": "execute_result"
    }
   ],
   "source": [
    "generate_1d_dataset.config_1d_dataset_info.model_dump()"
   ]
  },
  {
   "cell_type": "code",
   "execution_count": 19,
   "id": "69605232",
   "metadata": {
    "scrolled": true
   },
   "outputs": [
    {
     "data": {
      "text/plain": [
       "{'source_name': '4FGL J0534.5+2201i',\n",
       " 'sky_position': {'frame': 'icrs',\n",
       "  'lon': <Quantity 83.6338333 deg>,\n",
       "  'lat': <Quantity 22.0145 deg>,\n",
       "  'radius': <Quantity 0. deg>},\n",
       " 'use_uniform_position': True,\n",
       " 'models_file': PosixPath('.'),\n",
       " 'datasets_with_fov_bkg_model': [],\n",
       " 'use_catalog': {'name': '',\n",
       "  'selection_radius': <Quantity 0. deg>,\n",
       "  'exclusion_radius': <Quantity 0. deg>},\n",
       " 'components': [{'name': '4FGL J0534.5+2201i',\n",
       "   'type': 'SkyModel',\n",
       "   'datasets_names': [''],\n",
       "   'spectral': {'type': 'LogParabolaSpectralModel',\n",
       "    'parameters': [{'name': 'amplitude',\n",
       "      'value': 1e-07,\n",
       "      'unit': 'cm-2 s-1 TeV-1',\n",
       "      'error': 1.5e-08,\n",
       "      'min': 1e-13,\n",
       "      'max': 0.0001,\n",
       "      'frozen': False},\n",
       "     {'name': 'reference',\n",
       "      'value': 0.015,\n",
       "      'unit': 'TeV',\n",
       "      'error': 0.0,\n",
       "      'min': 0.0001,\n",
       "      'max': 100.0,\n",
       "      'frozen': True},\n",
       "     {'name': 'alpha',\n",
       "      'value': 1.7,\n",
       "      'unit': '',\n",
       "      'error': 0.05,\n",
       "      'min': 0.5,\n",
       "      'max': 3.0,\n",
       "      'frozen': False},\n",
       "     {'name': 'beta',\n",
       "      'value': 0.1,\n",
       "      'unit': '',\n",
       "      'error': 0.001,\n",
       "      'min': 0.001,\n",
       "      'max': 1.0,\n",
       "      'frozen': False}],\n",
       "    'ebl_abs': {'filename': PosixPath('.'),\n",
       "     'reference': 'dominguez',\n",
       "     'type': 'EBLAbsorptionNormSpectralModel',\n",
       "     'redshift': 0.0,\n",
       "     'alpha_norm': 1.0}},\n",
       "   'spatial': {'type': '',\n",
       "    'frame': 'icrs',\n",
       "    'parameters': [{'name': '',\n",
       "      'value': 1.0,\n",
       "      'unit': ' ',\n",
       "      'error': 0.1,\n",
       "      'min': 0.1,\n",
       "      'max': 10.0,\n",
       "      'frozen': True}]}}],\n",
       " 'covariance': 'None',\n",
       " 'from_3d': False,\n",
       " 'roi_selection': {'roi_radius': <Quantity 0. deg>,\n",
       "  'free_sources': ['4FGL J0521.7+2112',\n",
       "   '4FGL J0528.3+1817',\n",
       "   '4FGL J0536.2+1733',\n",
       "   '4FGL J0534.5+2200']}}"
      ]
     },
     "execution_count": 19,
     "metadata": {},
     "output_type": "execute_result"
    }
   ],
   "source": [
    "generate_1d_dataset.config_target.model_dump()"
   ]
  },
  {
   "cell_type": "code",
   "execution_count": null,
   "id": "a906e73d",
   "metadata": {},
   "outputs": [],
   "source": []
  },
  {
   "cell_type": "markdown",
   "id": "651c1128",
   "metadata": {},
   "source": [
    "### First check for the given file list if they are readable or not."
   ]
  },
  {
   "cell_type": "code",
   "execution_count": 20,
   "id": "5025f9d9",
   "metadata": {},
   "outputs": [
    {
     "name": "stdout",
     "output_type": "stream",
     "text": [
      "CPU times: user 36 μs, sys: 3 μs, total: 39 μs\n",
      "Wall time: 45.1 μs\n"
     ]
    }
   ],
   "source": [
    "%%time\n",
    "file_list = {}\n",
    "dl3_info = DL3Files(generate_1d_dataset.config_1d_dataset_io[0], log=generate_1d_dataset.log)"
   ]
  },
  {
   "cell_type": "code",
   "execution_count": 21,
   "id": "5031b3b8",
   "metadata": {
    "scrolled": true
   },
   "outputs": [
    {
     "name": "stdout",
     "output_type": "stream",
     "text": [
      "CPU times: user 17 μs, sys: 0 ns, total: 17 μs\n",
      "Wall time: 24.6 μs\n"
     ]
    }
   ],
   "source": [
    "%%time\n",
    "dl3_info.list_dl3_files()"
   ]
  },
  {
   "cell_type": "raw",
   "id": "588788be-a723-462f-92b4-05cd606e1ead",
   "metadata": {
    "scrolled": true
   },
   "source": [
    "# Deprecated in v0.5.2\n",
    "print(f\"Reading from {len(dl3_info.events_files)} DL3 files\")"
   ]
  },
  {
   "cell_type": "code",
   "execution_count": null,
   "id": "5ef243f9",
   "metadata": {},
   "outputs": [],
   "source": []
  },
  {
   "cell_type": "markdown",
   "id": "14d8aa51",
   "metadata": {},
   "source": [
    "## Get Observations object"
   ]
  },
  {
   "cell_type": "code",
   "execution_count": 22,
   "id": "94ee8c05",
   "metadata": {},
   "outputs": [],
   "source": [
    "datastore = DataStore.from_dir(generate_1d_dataset.config_1d_dataset_io[0].input_dir)"
   ]
  },
  {
   "cell_type": "code",
   "execution_count": 23,
   "id": "773d7d3b",
   "metadata": {
    "scrolled": true
   },
   "outputs": [
    {
     "data": {
      "text/html": [
       "<div><i>ObservationTable length=105</i>\n",
       "<table id=\"table138168871234944\" class=\"table-striped table-bordered table-condensed\">\n",
       "<thead><tr><th>OBS_ID</th><th>RA_PNT</th><th>DEC_PNT</th><th>GLON_PNT</th><th>GLAT_PNT</th><th>ZEN_PNT</th><th>ALT_PNT</th><th>AZ_PNT</th><th>OBJECT</th><th>RA_OBJ</th><th>DEC_OBJ</th><th>OFFSET_OBJ</th><th>ONTIME</th><th>LIVETIME</th><th>DEADC</th><th>TSTART</th><th>TSTOP</th><th>DATE-OBS</th><th>TIME-OBS</th><th>DATE-END</th><th>TIME-END</th><th>N_TELS</th><th>TELLIST</th><th>QUALITY</th><th>MUONEFF</th><th>EVENT_COUNT</th><th>TARGET_NAME</th><th>TARGET_TAG</th><th>TARGET_OFFSET</th><th>SAFE_ENERGY_LO</th><th>SAFE_ENERGY_HI</th></tr></thead>\n",
       "<thead><tr><th></th><th>deg</th><th>deg</th><th>deg</th><th>deg</th><th>deg</th><th>deg</th><th>deg</th><th></th><th>deg</th><th>deg</th><th>deg</th><th>s</th><th>s</th><th></th><th>s</th><th>s</th><th></th><th></th><th></th><th></th><th></th><th></th><th></th><th></th><th></th><th></th><th></th><th>deg</th><th>TeV</th><th>TeV</th></tr></thead>\n",
       "<thead><tr><th>int64</th><th>float32</th><th>float32</th><th>float32</th><th>float32</th><th>float32</th><th>float32</th><th>float32</th><th>bytes18</th><th>float32</th><th>float32</th><th>float32</th><th>float32</th><th>float32</th><th>float32</th><th>float64</th><th>float64</th><th>bytes10</th><th>bytes12</th><th>bytes10</th><th>bytes12</th><th>int64</th><th>bytes7</th><th>int64</th><th>float32</th><th>int64</th><th>bytes21</th><th>bytes14</th><th>float32</th><th>float32</th><th>float32</th></tr></thead>\n",
       "<tr><td>20136</td><td>228.6125</td><td>-58.771667</td><td>320.56754</td><td>-0.8857012</td><td>38.512962</td><td>51.487038</td><td>195.73102</td><td>MSH15-52</td><td>228.6125</td><td>-59.271667</td><td>0.5</td><td>1682.0</td><td>1521.0269</td><td>0.9042966</td><td>101962602.0</td><td>101964284.0</td><td>2004-03-26</td><td>02:57:46.184</td><td>2004-03-26</td><td>03:25:48.184</td><td>4</td><td>1,2,3,4</td><td>0</td><td>1.2132596</td><td>11243</td><td>MSH 15-52</td><td>msh1552</td><td>0.38821736</td><td>0.40738028</td><td>100.0</td></tr>\n",
       "<tr><td>20137</td><td>228.6125</td><td>-59.771667</td><td>320.04724</td><td>-1.7397733</td><td>40.21616</td><td>49.78384</td><td>199.6482</td><td>MSH15-52</td><td>228.6125</td><td>-59.271667</td><td>0.5</td><td>902.0</td><td>819.2054</td><td>0.90821</td><td>101964441.0</td><td>101965343.0</td><td>2004-03-26</td><td>03:28:25.184</td><td>2004-03-26</td><td>03:43:27.184</td><td>4</td><td>1,2,3,4</td><td>0</td><td>1.2139559</td><td>5693</td><td>MSH 15-52</td><td>msh1552</td><td>0.6156251</td><td>0.40738028</td><td>100.0</td></tr>\n",
       "<tr><td>20151</td><td>228.6125</td><td>-58.771667</td><td>320.56754</td><td>-0.8857012</td><td>37.164658</td><td>52.835342</td><td>190.97171</td><td>custom</td><td>228.6125</td><td>-59.271667</td><td>0.5</td><td>1683.0</td><td>1530.479</td><td>0.9093755</td><td>102047232.0</td><td>102048915.0</td><td>2004-03-27</td><td>02:28:16.184</td><td>2004-03-27</td><td>02:56:19.184</td><td>4</td><td>1,2,3,4</td><td>0</td><td>1.2214733</td><td>10722</td><td>MSH 15-52</td><td>msh1552</td><td>0.38821736</td><td>0.40738028</td><td>100.0</td></tr>\n",
       "<tr><td>20275</td><td>187.27792</td><td>2.552389</td><td>289.7155</td><td>64.849686</td><td>36.18243</td><td>53.81757</td><td>49.144917</td><td>3C 273</td><td>187.27792</td><td>2.052389</td><td>0.5</td><td>1683.0</td><td>1525.8447</td><td>0.90662193</td><td>103665036.0</td><td>103666719.0</td><td>2004-04-14</td><td>19:51:40.184</td><td>2004-04-14</td><td>20:19:43.184</td><td>4</td><td>1,2,3,4</td><td>0</td><td>1.121256</td><td>10646</td><td>Off data</td><td>offdata</td><td>--</td><td>0.33113113</td><td>100.0</td></tr>\n",
       "<tr><td>20282</td><td>228.6125</td><td>-58.771667</td><td>320.56754</td><td>-0.8857012</td><td>37.13134</td><td>52.86866</td><td>169.21602</td><td>MSH 15-5-02</td><td>228.6125</td><td>-59.271667</td><td>0.5</td><td>1687.0</td><td>1543.3231</td><td>0.9148329</td><td>103678269.0</td><td>103679956.0</td><td>2004-04-14</td><td>23:32:13.184</td><td>2004-04-15</td><td>00:00:20.184</td><td>4</td><td>1,2,3,4</td><td>0</td><td>1.1495326</td><td>11063</td><td>MSH 15-52</td><td>msh1552</td><td>0.38821736</td><td>0.40738028</td><td>100.0</td></tr>\n",
       "<tr><td>20283</td><td>228.6125</td><td>-59.771667</td><td>320.04724</td><td>-1.7397733</td><td>36.221436</td><td>53.778564</td><td>175.77263</td><td>MSH 15-5-02</td><td>228.6125</td><td>-59.271667</td><td>0.5</td><td>1683.0</td><td>1547.8253</td><td>0.9196823</td><td>103680087.0</td><td>103681770.0</td><td>2004-04-15</td><td>00:02:31.184</td><td>2004-04-15</td><td>00:30:34.184</td><td>4</td><td>1,2,3,4</td><td>0</td><td>1.1512518</td><td>7628</td><td>MSH 15-52</td><td>msh1552</td><td>0.6156251</td><td>0.3801894</td><td>100.0</td></tr>\n",
       "<tr><td>20301</td><td>228.6125</td><td>-58.771667</td><td>320.56754</td><td>-0.8857012</td><td>36.839905</td><td>53.160095</td><td>171.07347</td><td>MSH 15-5-02</td><td>228.6125</td><td>-59.271667</td><td>0.5</td><td>1683.0</td><td>1534.0626</td><td>0.9115048</td><td>103764878.0</td><td>103766561.0</td><td>2004-04-15</td><td>23:35:42.184</td><td>2004-04-16</td><td>00:03:45.184</td><td>4</td><td>1,2,3,4</td><td>0</td><td>1.1503073</td><td>11624</td><td>MSH 15-52</td><td>msh1552</td><td>0.38821736</td><td>0.40738028</td><td>100.0</td></tr>\n",
       "<tr><td>20302</td><td>228.6125</td><td>-59.771667</td><td>320.04724</td><td>-1.7397733</td><td>36.11632</td><td>53.88368</td><td>177.10521</td><td>MSH 15-5-02</td><td>228.6125</td><td>-59.271667</td><td>0.5</td><td>1682.0</td><td>1535.3478</td><td>0.9128108</td><td>103766698.0</td><td>103768380.0</td><td>2004-04-16</td><td>00:06:02.184</td><td>2004-04-16</td><td>00:34:04.184</td><td>4</td><td>1,2,3,4</td><td>0</td><td>1.1493496</td><td>11794</td><td>MSH 15-52</td><td>msh1552</td><td>0.6156251</td><td>0.3801894</td><td>100.0</td></tr>\n",
       "<tr><td>20303</td><td>228.6125</td><td>-58.771667</td><td>320.56754</td><td>-0.8857012</td><td>36.186012</td><td>53.813988</td><td>183.91011</td><td>MSH 15-5-02</td><td>228.6125</td><td>-59.271667</td><td>0.5</td><td>1682.0</td><td>1535.1606</td><td>0.9126996</td><td>103768520.0</td><td>103770202.0</td><td>2004-04-16</td><td>00:36:24.184</td><td>2004-04-16</td><td>01:04:26.184</td><td>4</td><td>1,2,3,4</td><td>0</td><td>1.1557641</td><td>11803</td><td>MSH 15-52</td><td>msh1552</td><td>0.38821736</td><td>0.3801894</td><td>100.0</td></tr>\n",
       "<tr><td>...</td><td>...</td><td>...</td><td>...</td><td>...</td><td>...</td><td>...</td><td>...</td><td>...</td><td>...</td><td>...</td><td>...</td><td>...</td><td>...</td><td>...</td><td>...</td><td>...</td><td>...</td><td>...</td><td>...</td><td>...</td><td>...</td><td>...</td><td>...</td><td>...</td><td>...</td><td>...</td><td>...</td><td>...</td><td>...</td><td>...</td></tr>\n",
       "<tr><td>33799</td><td>329.71667</td><td>-29.725555</td><td>18.541153</td><td>-52.188046</td><td>33.710506</td><td>56.289494</td><td>250.0</td><td>PKS 2155-304</td><td>329.71667</td><td>-30.225555</td><td>0.5</td><td>1689.0</td><td>1580.9498</td><td>0.93602717</td><td>175919876.0</td><td>175921565.0</td><td>2006-07-30</td><td>02:39:00.184</td><td>2006-07-30</td><td>03:07:09.184</td><td>4</td><td>1,2,3,4</td><td>0</td><td>1.0172818</td><td>8061</td><td>PKS 2155-304 (flare)</td><td>pks2155_flare</td><td>0.500033</td><td>0.43651584</td><td>100.0</td></tr>\n",
       "<tr><td>33800</td><td>329.13797</td><td>-30.225555</td><td>17.639944</td><td>-51.748703</td><td>40.261627</td><td>49.738373</td><td>250.0</td><td>PKS 2155-304</td><td>329.71667</td><td>-30.225555</td><td>0.50002956</td><td>1689.0</td><td>1591.7136</td><td>0.9424</td><td>175921691.0</td><td>175923380.0</td><td>2006-07-30</td><td>03:09:15.184</td><td>2006-07-30</td><td>03:37:24.184</td><td>4</td><td>1,2,3,4</td><td>0</td><td>1.0131593</td><td>7190</td><td>PKS 2155-304 (flare)</td><td>pks2155_flare</td><td>0.5002569</td><td>0.53703177</td><td>100.0</td></tr>\n",
       "<tr><td>33801</td><td>330.29538</td><td>-30.225555</td><td>17.818897</td><td>-52.742733</td><td>46.83791</td><td>43.16209</td><td>250.0</td><td>PKS 2155-304</td><td>329.71667</td><td>-30.225555</td><td>0.50002956</td><td>1689.0</td><td>1598.6652</td><td>0.9465158</td><td>175923515.0</td><td>175925204.0</td><td>2006-07-30</td><td>03:39:39.184</td><td>2006-07-30</td><td>04:07:48.184</td><td>4</td><td>1,2,3,4</td><td>0</td><td>1.0301999</td><td>6761</td><td>PKS 2155-304 (flare)</td><td>pks2155_flare</td><td>0.4998021</td><td>0.8128305</td><td>100.0</td></tr>\n",
       "<tr><td>47802</td><td>330.29538</td><td>-30.225555</td><td>17.818897</td><td>-52.742733</td><td>36.828686</td><td>53.171314</td><td>110.0</td><td>PKS 2155-304</td><td>329.71667</td><td>-30.225555</td><td>0.50002956</td><td>1688.0</td><td>1572.4065</td><td>0.9315204</td><td>241558291.0</td><td>241559979.0</td><td>2008-08-27</td><td>19:32:35.184</td><td>2008-08-27</td><td>20:00:43.184</td><td>4</td><td>1,2,3,4</td><td>0</td><td>0.9731573</td><td>5998</td><td>PKS 2155-304 (steady)</td><td>pks2155_steady</td><td>0.4998021</td><td>0.61659503</td><td>100.0</td></tr>\n",
       "<tr><td>47803</td><td>329.13797</td><td>-30.225555</td><td>17.639944</td><td>-51.748703</td><td>30.231466</td><td>59.768536</td><td>110.04136</td><td>PKS 2155-304</td><td>329.71667</td><td>-30.225555</td><td>0.50002956</td><td>1688.0</td><td>1566.9369</td><td>0.9282802</td><td>241560121.0</td><td>241561809.0</td><td>2008-08-27</td><td>20:03:05.184</td><td>2008-08-27</td><td>20:31:13.184</td><td>4</td><td>1,2,3,4</td><td>0</td><td>0.9795774</td><td>6243</td><td>PKS 2155-304 (steady)</td><td>pks2155_steady</td><td>0.5002569</td><td>0.43651584</td><td>100.0</td></tr>\n",
       "<tr><td>47804</td><td>329.71667</td><td>-29.725555</td><td>18.541153</td><td>-52.188046</td><td>23.713928</td><td>66.28607</td><td>112.64086</td><td>PKS 2155-304</td><td>329.71667</td><td>-30.225555</td><td>0.5</td><td>1689.0</td><td>1560.2717</td><td>0.9237843</td><td>241561944.0</td><td>241563633.0</td><td>2008-08-27</td><td>20:33:28.184</td><td>2008-08-27</td><td>21:01:37.184</td><td>4</td><td>1,2,3,4</td><td>0</td><td>0.9836817</td><td>6445</td><td>PKS 2155-304 (steady)</td><td>pks2155_steady</td><td>0.500033</td><td>0.40738028</td><td>100.0</td></tr>\n",
       "<tr><td>47827</td><td>330.29538</td><td>-30.225555</td><td>17.818897</td><td>-52.742733</td><td>35.87235</td><td>54.12765</td><td>110.0</td><td>PKS 2155-304</td><td>329.71667</td><td>-30.225555</td><td>0.50002956</td><td>1688.0</td><td>1575.5515</td><td>0.9333836</td><td>241644720.0</td><td>241646408.0</td><td>2008-08-28</td><td>19:33:04.184</td><td>2008-08-28</td><td>20:01:12.184</td><td>4</td><td>1,2,3,4</td><td>0</td><td>0.9898478</td><td>5703</td><td>PKS 2155-304 (steady)</td><td>pks2155_steady</td><td>0.4998021</td><td>0.61659503</td><td>100.0</td></tr>\n",
       "<tr><td>47828</td><td>329.13797</td><td>-30.225555</td><td>17.639944</td><td>-51.748703</td><td>29.29926</td><td>60.70074</td><td>110.1458</td><td>PKS 2155-304</td><td>329.71667</td><td>-30.225555</td><td>0.50002956</td><td>1687.0</td><td>1562.4288</td><td>0.9261582</td><td>241646545.0</td><td>241648232.0</td><td>2008-08-28</td><td>20:03:29.184</td><td>2008-08-28</td><td>20:31:36.184</td><td>4</td><td>1,2,3,4</td><td>0</td><td>0.9777505</td><td>6030</td><td>PKS 2155-304 (steady)</td><td>pks2155_steady</td><td>0.5002569</td><td>0.43651584</td><td>100.0</td></tr>\n",
       "<tr><td>47829</td><td>329.71667</td><td>-30.725555</td><td>16.917807</td><td>-52.297615</td><td>22.831352</td><td>67.16865</td><td>113.11527</td><td>PKS 2155-304</td><td>329.71667</td><td>-30.225555</td><td>0.5</td><td>1688.0</td><td>1559.6072</td><td>0.9239379</td><td>241648358.0</td><td>241650046.0</td><td>2008-08-28</td><td>20:33:42.184</td><td>2008-08-28</td><td>21:01:50.184</td><td>4</td><td>1,2,3,4</td><td>0</td><td>0.96896285</td><td>6469</td><td>PKS 2155-304 (steady)</td><td>pks2155_steady</td><td>0.49996707</td><td>0.3801894</td><td>100.0</td></tr>\n",
       "</table></div>"
      ],
      "text/plain": [
       "<ObservationTable length=105>\n",
       "OBS_ID   RA_PNT   DEC_PNT   ... TARGET_OFFSET SAFE_ENERGY_LO SAFE_ENERGY_HI\n",
       "          deg       deg     ...      deg           TeV            TeV      \n",
       "int64   float32   float32   ...    float32       float32        float32    \n",
       "------ --------- ---------- ... ------------- -------------- --------------\n",
       " 20136  228.6125 -58.771667 ...    0.38821736     0.40738028          100.0\n",
       " 20137  228.6125 -59.771667 ...     0.6156251     0.40738028          100.0\n",
       " 20151  228.6125 -58.771667 ...    0.38821736     0.40738028          100.0\n",
       " 20275 187.27792   2.552389 ...            --     0.33113113          100.0\n",
       " 20282  228.6125 -58.771667 ...    0.38821736     0.40738028          100.0\n",
       " 20283  228.6125 -59.771667 ...     0.6156251      0.3801894          100.0\n",
       " 20301  228.6125 -58.771667 ...    0.38821736     0.40738028          100.0\n",
       " 20302  228.6125 -59.771667 ...     0.6156251      0.3801894          100.0\n",
       " 20303  228.6125 -58.771667 ...    0.38821736      0.3801894          100.0\n",
       "   ...       ...        ... ...           ...            ...            ...\n",
       " 33799 329.71667 -29.725555 ...      0.500033     0.43651584          100.0\n",
       " 33800 329.13797 -30.225555 ...     0.5002569     0.53703177          100.0\n",
       " 33801 330.29538 -30.225555 ...     0.4998021      0.8128305          100.0\n",
       " 47802 330.29538 -30.225555 ...     0.4998021     0.61659503          100.0\n",
       " 47803 329.13797 -30.225555 ...     0.5002569     0.43651584          100.0\n",
       " 47804 329.71667 -29.725555 ...      0.500033     0.40738028          100.0\n",
       " 47827 330.29538 -30.225555 ...     0.4998021     0.61659503          100.0\n",
       " 47828 329.13797 -30.225555 ...     0.5002569     0.43651584          100.0\n",
       " 47829 329.71667 -30.725555 ...    0.49996707      0.3801894          100.0"
      ]
     },
     "execution_count": 23,
     "metadata": {},
     "output_type": "execute_result"
    }
   ],
   "source": [
    "datastore.obs_table"
   ]
  },
  {
   "cell_type": "code",
   "execution_count": 24,
   "id": "c152255f",
   "metadata": {},
   "outputs": [
    {
     "name": "stderr",
     "output_type": "stream",
     "text": [
      "Observation ID list selected: 23523 23526\n",
      "Observations selected: 2 out of 2.\n"
     ]
    }
   ],
   "source": [
    "observations = get_filtered_observations(\n",
    "    dl3_path=generate_1d_dataset.config_1d_dataset_io[0].input_dir,\n",
    "    obs_config=generate_1d_dataset.config_1d_dataset_info.observation,\n",
    "    log=generate_1d_dataset.log,\n",
    ")"
   ]
  },
  {
   "cell_type": "code",
   "execution_count": 25,
   "id": "717a4784",
   "metadata": {
    "scrolled": true
   },
   "outputs": [
    {
     "name": "stdout",
     "output_type": "stream",
     "text": [
      "Observations\n",
      "Number of observations: 2\n",
      "Observation\n",
      "\n",
      "\tobs id            : 23523 \n",
      " \ttstart            : 53343.92\n",
      "\ttstop             : 53343.94\n",
      "\tduration          : 1687.00 s\n",
      "\tpointing (icrs)   : 83.6 deg, 21.5 deg\n",
      "\n",
      "\tdeadtime fraction : 6.2%\n",
      "Observation\n",
      "\n",
      "\tobs id            : 23526 \n",
      " \ttstart            : 53343.95\n",
      "\ttstop             : 53343.97\n",
      "\tduration          : 1683.00 s\n",
      "\tpointing (icrs)   : 83.6 deg, 22.5 deg\n",
      "\n",
      "\tdeadtime fraction : 6.6%\n",
      "\n"
     ]
    }
   ],
   "source": [
    "print(observations)"
   ]
  },
  {
   "cell_type": "code",
   "execution_count": 26,
   "id": "a773220a",
   "metadata": {},
   "outputs": [
    {
     "name": "stdout",
     "output_type": "stream",
     "text": [
      "Using the list of required IRFs: ['aeff', 'edisp']\n",
      "Selected observations from the given DataStore: ['23523', '23526']\n"
     ]
    }
   ],
   "source": [
    "print(\"Using the list of required IRFs:\", generate_1d_dataset.config_1d_dataset_info.observation.required_irfs)\n",
    "print(\"Selected observations from the given DataStore:\", observations.ids)"
   ]
  },
  {
   "cell_type": "code",
   "execution_count": null,
   "id": "f9f5f404",
   "metadata": {},
   "outputs": [],
   "source": []
  },
  {
   "cell_type": "markdown",
   "id": "24e24a49",
   "metadata": {},
   "source": [
    "# Create Base geometry for the Dataset"
   ]
  },
  {
   "cell_type": "code",
   "execution_count": 27,
   "id": "8c12ae3f",
   "metadata": {},
   "outputs": [
    {
     "name": "stdout",
     "output_type": "stream",
     "text": [
      "{'center': <SkyCoord (ICRS): (ra, dec) in deg\n",
      "    (83.633, 22.02)>, 'radius': <Quantity 0.2 deg>}\n"
     ]
    }
   ],
   "source": [
    "center_pos = get_source_position(target_region=generate_1d_dataset.config_1d_dataset_info.on_region)\n",
    "print(center_pos)"
   ]
  },
  {
   "cell_type": "code",
   "execution_count": 28,
   "id": "66961964",
   "metadata": {},
   "outputs": [
    {
     "name": "stdout",
     "output_type": "stream",
     "text": [
      "RegionGeom\n",
      "\n",
      "\tregion     : CircleSkyRegion\n",
      "\taxes       : ['lon', 'lat', 'energy']\n",
      "\tshape      : (1, 1, 15)\n",
      "\tndim       : 3\n",
      "\tframe      : icrs\n",
      "\tcenter     : 83.6 deg, 22.0 deg\n",
      "\n"
     ]
    }
   ],
   "source": [
    "geom = generate_geom(tag=\"1d\", geom_config=generate_1d_dataset.config_1d_dataset_info.geom, center_pos=center_pos)\n",
    "print(geom)"
   ]
  },
  {
   "cell_type": "markdown",
   "id": "a21e4400",
   "metadata": {},
   "source": [
    "## Create the base dataset template and get all the Dataset Reduction makers "
   ]
  },
  {
   "cell_type": "code",
   "execution_count": 29,
   "id": "35434aff",
   "metadata": {
    "scrolled": true
   },
   "outputs": [
    {
     "name": "stdout",
     "output_type": "stream",
     "text": [
      "SpectrumDataset\n",
      "---------------\n",
      "\n",
      "  Name                            : EQqgQbft \n",
      "\n",
      "  Total counts                    : 0 \n",
      "  Total background counts         : 0.00\n",
      "  Total excess counts             : 0.00\n",
      "\n",
      "  Predicted counts                : 0.00\n",
      "  Predicted background counts     : 0.00\n",
      "  Predicted excess counts         : nan\n",
      "\n",
      "  Exposure min                    : 0.00e+00 m2 s\n",
      "  Exposure max                    : 0.00e+00 m2 s\n",
      "\n",
      "  Number of total bins            : 15 \n",
      "  Number of fit bins              : 0 \n",
      "\n",
      "  Fit statistic type              : cash\n",
      "  Fit statistic value (-2 log(L)) : nan\n",
      "\n",
      "  Number of models                : 0 \n",
      "  Number of parameters            : 0\n",
      "  Number of free parameters       : 0\n",
      "\n",
      "\n"
     ]
    }
   ],
   "source": [
    "dataset_reference = get_dataset_reference(\n",
    "    tag=\"1d\", geom=geom, geom_config=generate_1d_dataset.config_1d_dataset_info.geom\n",
    ")\n",
    "print(dataset_reference)"
   ]
  },
  {
   "cell_type": "code",
   "execution_count": 30,
   "id": "61f61de0",
   "metadata": {},
   "outputs": [
    {
     "name": "stdout",
     "output_type": "stream",
     "text": [
      "SpectrumDatasetMaker\n",
      "--------------------\n",
      "\n",
      "  selection               : {'counts', 'edisp', 'exposure'}\n",
      "  containment_correction  : True\n",
      "  use_region_center       : True\n",
      "\n",
      "CPU times: user 175 μs, sys: 11 μs, total: 186 μs\n",
      "Wall time: 190 μs\n"
     ]
    }
   ],
   "source": [
    "%%time\n",
    "dataset_maker = get_dataset_maker(\n",
    "    tag=\"1d\",\n",
    "    dataset_config=generate_1d_dataset.config_1d_dataset_info,\n",
    ")\n",
    "print(dataset_maker)"
   ]
  },
  {
   "cell_type": "code",
   "execution_count": 31,
   "id": "b9fe27e6",
   "metadata": {},
   "outputs": [
    {
     "name": "stdout",
     "output_type": "stream",
     "text": [
      "SafeMaskMaker\n",
      "-------------\n",
      "\n",
      "  methods      : {'aeff-max'}\n",
      "  aeff_percent : 10\n",
      "  bias_percent : 10\n",
      "  offset_max   : 3.0 deg\n",
      "  irfs         : DL4\n",
      "\n",
      "CPU times: user 1.26 ms, sys: 0 ns, total: 1.26 ms\n",
      "Wall time: 1.27 ms\n"
     ]
    }
   ],
   "source": [
    "%%time\n",
    "safe_maker = get_safe_mask_maker(safe_config=generate_1d_dataset.config_1d_dataset_info.safe_mask)\n",
    "print(safe_maker)"
   ]
  },
  {
   "cell_type": "code",
   "execution_count": 32,
   "id": "85eb77db",
   "metadata": {},
   "outputs": [
    {
     "name": "stdout",
     "output_type": "stream",
     "text": [
      "WcsNDMap\n",
      "\n",
      "\tgeom  : WcsGeom \n",
      " \taxes  : ['lon', 'lat']\n",
      "\tshape : (np.int64(300), np.int64(300))\n",
      "\tndim  : 2\n",
      "\tunit  : \n",
      "\tdtype : bool\n",
      "\n",
      "CPU times: user 34.5 ms, sys: 8.03 ms, total: 42.5 ms\n",
      "Wall time: 40.9 ms\n"
     ]
    }
   ],
   "source": [
    "%%time\n",
    "excluded_geom = generate_geom(\n",
    "    tag=\"1d-ex\", geom_config=generate_1d_dataset.config_1d_dataset_info.geom, center_pos=center_pos\n",
    ")\n",
    "\n",
    "exclusion_mask = get_exclusion_region_mask(\n",
    "    exclusion_params=generate_1d_dataset.config_1d_dataset_info.background.exclusion,\n",
    "    exclusion_regions=generate_1d_dataset.exclusion_regions,\n",
    "    excluded_geom=excluded_geom,\n",
    "    config_target=generate_1d_dataset.config_target,\n",
    "    geom_config=generate_1d_dataset.config_1d_dataset_info.geom,\n",
    "    log=generate_1d_dataset.log,\n",
    ")\n",
    "print(exclusion_mask)"
   ]
  },
  {
   "cell_type": "code",
   "execution_count": 33,
   "id": "8e621e25",
   "metadata": {},
   "outputs": [
    {
     "name": "stdout",
     "output_type": "stream",
     "text": [
      "CPU times: user 884 μs, sys: 0 ns, total: 884 μs\n",
      "Wall time: 849 μs\n"
     ]
    }
   ],
   "source": [
    "%%time\n",
    "bkg_maker = get_bkg_maker(\n",
    "    bkg_config=generate_1d_dataset.config_1d_dataset_info.background,\n",
    "    exclusion_mask=exclusion_mask,\n",
    ")"
   ]
  },
  {
   "cell_type": "code",
   "execution_count": 34,
   "id": "2b3fa091",
   "metadata": {
    "scrolled": true
   },
   "outputs": [
    {
     "name": "stdout",
     "output_type": "stream",
     "text": [
      "ReflectedRegionsBackgroundMaker\n",
      "-------------------------------\n",
      "\n",
      "  region_finder  : <gammapy.makers.background.reflected.WobbleRegionsFinder object at 0x7da9e8905160>\n",
      "  exclusion_mask : WcsNDMap\n",
      "\n",
      "  geom  : WcsGeom \n",
      "  axes  : ['lon', 'lat']\n",
      "  shape : (np.int64(300), np.int64(300))\n",
      "  ndim  : 2\n",
      "  unit  : \n",
      "  dtype : bool\n",
      "\n",
      "\n",
      "<gammapy.makers.background.reflected.WobbleRegionsFinder object at 0x7da9e8905160>\n",
      "Number of Wobble OFF regions selected: 1\n"
     ]
    }
   ],
   "source": [
    "print(bkg_maker)\n",
    "print(bkg_maker.region_finder)\n",
    "print(\"Number of Wobble OFF regions selected:\", bkg_maker.region_finder.n_off_regions)"
   ]
  },
  {
   "cell_type": "code",
   "execution_count": null,
   "id": "c0922396",
   "metadata": {},
   "outputs": [],
   "source": []
  },
  {
   "cell_type": "code",
   "execution_count": 35,
   "id": "bff85954",
   "metadata": {
    "scrolled": true
   },
   "outputs": [
    {
     "name": "stderr",
     "output_type": "stream",
     "text": [
      "Using 2 processes to compute Data reduction\n",
      "Computing dataset for observation 23523\n",
      "Running SpectrumDatasetMaker\n",
      "Computing dataset for observation 23526\n",
      "Running SpectrumDatasetMaker\n",
      "Running SafeMaskMaker\n",
      "Running SafeMaskMaker\n",
      "Running ReflectedRegionsBackgroundMaker\n",
      "Running ReflectedRegionsBackgroundMaker\n"
     ]
    },
    {
     "name": "stdout",
     "output_type": "stream",
     "text": [
      "CPU times: user 56.2 ms, sys: 58.8 ms, total: 115 ms\n",
      "Wall time: 580 ms\n"
     ]
    }
   ],
   "source": [
    "%%time\n",
    "generate_1d_dataset.datasets = generate_dl4_dataset(\n",
    "    tag=\"1d\",\n",
    "    observations=observations,\n",
    "    dataset_reference=dataset_reference,\n",
    "    dataset_maker=dataset_maker,\n",
    "    bkg_maker=bkg_maker,\n",
    "    safe_maker=safe_maker,\n",
    "    n_jobs=generate_1d_dataset.n_jobs,\n",
    "    parallel_backend=generate_1d_dataset.parallel_backend,\n",
    ")"
   ]
  },
  {
   "cell_type": "code",
   "execution_count": 36,
   "id": "f38925f7",
   "metadata": {
    "scrolled": true
   },
   "outputs": [
    {
     "name": "stdout",
     "output_type": "stream",
     "text": [
      "Datasets\n",
      "--------\n",
      "\n",
      "Dataset 0: \n",
      "\n",
      "  Type       : SpectrumDatasetOnOff\n",
      "  Name       : wsiiuEBJ\n",
      "  Instrument : HESS\n",
      "  Models     : \n",
      "\n",
      "Dataset 1: \n",
      "\n",
      "  Type       : SpectrumDatasetOnOff\n",
      "  Name       : UP-Gz2H9\n",
      "  Instrument : HESS\n",
      "  Models     : \n",
      "\n",
      "\n"
     ]
    }
   ],
   "source": [
    "print(generate_1d_dataset.datasets)"
   ]
  },
  {
   "cell_type": "code",
   "execution_count": 37,
   "id": "6fad1930",
   "metadata": {},
   "outputs": [
    {
     "name": "stdout",
     "output_type": "stream",
     "text": [
      "CPU times: user 41 μs, sys: 3 μs, total: 44 μs\n",
      "Wall time: 46.3 μs\n"
     ]
    }
   ],
   "source": [
    "%%time\n",
    "generate_1d_dataset.update_dataset(observations)"
   ]
  },
  {
   "cell_type": "code",
   "execution_count": 38,
   "id": "ed22c447",
   "metadata": {
    "scrolled": true
   },
   "outputs": [
    {
     "name": "stdout",
     "output_type": "stream",
     "text": [
      "Datasets\n",
      "--------\n",
      "\n",
      "Dataset 0: \n",
      "\n",
      "  Type       : SpectrumDatasetOnOff\n",
      "  Name       : 23523\n",
      "  Instrument : HESS\n",
      "  Models     : \n",
      "\n",
      "Dataset 1: \n",
      "\n",
      "  Type       : SpectrumDatasetOnOff\n",
      "  Name       : 23526\n",
      "  Instrument : HESS\n",
      "  Models     : \n",
      "\n",
      "\n"
     ]
    }
   ],
   "source": [
    "print(generate_1d_dataset.datasets)"
   ]
  },
  {
   "cell_type": "code",
   "execution_count": null,
   "id": "ad720ccb",
   "metadata": {},
   "outputs": [],
   "source": []
  },
  {
   "cell_type": "code",
   "execution_count": 39,
   "id": "46aca7b4",
   "metadata": {
    "scrolled": true
   },
   "outputs": [],
   "source": [
    "info_table = generate_1d_dataset.datasets.info_table(cumulative=True)"
   ]
  },
  {
   "cell_type": "code",
   "execution_count": 40,
   "id": "a5f03e6d",
   "metadata": {},
   "outputs": [],
   "source": [
    "stacked_dataset = generate_1d_dataset.datasets.stack_reduce(name=config_1d_dataset.name)"
   ]
  },
  {
   "cell_type": "code",
   "execution_count": 41,
   "id": "d60a735c",
   "metadata": {
    "scrolled": true
   },
   "outputs": [
    {
     "name": "stdout",
     "output_type": "stream",
     "text": [
      "SpectrumDatasetOnOff\n",
      "--------------------\n",
      "\n",
      "  Name                            : HESS \n",
      "\n",
      "  Total counts                    : 496 \n",
      "  Total background counts         : 62.00\n",
      "  Total excess counts             : 434.00\n",
      "\n",
      "  Predicted counts                : 279.00\n",
      "  Predicted background counts     : 279.00\n",
      "  Predicted excess counts         : nan\n",
      "\n",
      "  Exposure min                    : 1.54e+07 m2 s\n",
      "  Exposure max                    : 1.81e+09 m2 s\n",
      "\n",
      "  Number of total bins            : 15 \n",
      "  Number of fit bins              : 11 \n",
      "\n",
      "  Fit statistic type              : wstat\n",
      "  Fit statistic value (-2 log(L)) : 390.68\n",
      "\n",
      "  Number of models                : 0 \n",
      "  Number of parameters            : 0\n",
      "  Number of free parameters       : 0\n",
      "\n",
      "  Total counts_off                : 62 \n",
      "  Acceptance                      : 22 \n",
      "  Acceptance off                  : 22 \n",
      "\n"
     ]
    }
   ],
   "source": [
    "print(stacked_dataset)"
   ]
  },
  {
   "cell_type": "markdown",
   "id": "75be2f9a",
   "metadata": {},
   "source": [
    "# Some Basic plots from the Dataset"
   ]
  },
  {
   "cell_type": "code",
   "execution_count": 42,
   "id": "610b3df6",
   "metadata": {
    "scrolled": true
   },
   "outputs": [
    {
     "data": {
      "text/html": [
       "<div><i>Table length=2</i>\n",
       "<table id=\"table138168704723152\" class=\"table-striped table-bordered table-condensed\">\n",
       "<thead><tr><th>name</th><th>counts</th><th>excess</th><th>sqrt_ts</th><th>background</th><th>npred</th><th>npred_background</th><th>npred_signal</th><th>exposure_min</th><th>exposure_max</th><th>livetime</th><th>ontime</th><th>counts_rate</th><th>background_rate</th><th>excess_rate</th><th>n_bins</th><th>n_fit_bins</th><th>stat_type</th><th>stat_sum</th><th>counts_off</th><th>acceptance</th><th>acceptance_off</th><th>alpha</th></tr></thead>\n",
       "<thead><tr><th></th><th></th><th></th><th></th><th></th><th></th><th></th><th></th><th>m2 s</th><th>m2 s</th><th>s</th><th>s</th><th>1 / s</th><th>1 / s</th><th>1 / s</th><th></th><th></th><th></th><th></th><th></th><th></th><th></th><th></th></tr></thead>\n",
       "<thead><tr><th>str7</th><th>int64</th><th>float64</th><th>float64</th><th>float64</th><th>float64</th><th>float64</th><th>float64</th><th>float64</th><th>float64</th><th>float64</th><th>float64</th><th>float64</th><th>float64</th><th>float64</th><th>int64</th><th>int64</th><th>str5</th><th>float64</th><th>int64</th><th>float64</th><th>float64</th><th>float64</th></tr></thead>\n",
       "<tr><td>stacked</td><td>266</td><td>230.0</td><td>14.071118591088961</td><td>36.0</td><td>151.0</td><td>151.0</td><td>nan</td><td>3462830.75</td><td>973275648.0</td><td>1581.736764695497</td><td>1687.0000000000016</td><td>0.16816957532829943</td><td>0.02275979214969466</td><td>0.14540978317860476</td><td>15</td><td>11</td><td>wstat</td><td>205.28610211617124</td><td>36</td><td>11.0</td><td>11.0</td><td>1.0</td></tr>\n",
       "<tr><td>stacked</td><td>496</td><td>434.0</td><td>19.602439504920714</td><td>62.0</td><td>279.0</td><td>279.0</td><td>nan</td><td>15367259.0</td><td>1810596352.0</td><td>3154.4235137812757</td><td>3369.9999999999964</td><td>0.15723950757817998</td><td>0.019654938447272497</td><td>0.13758456913090747</td><td>15</td><td>11</td><td>wstat</td><td>390.6824869192629</td><td>62</td><td>22.0</td><td>22.0</td><td>1.0</td></tr>\n",
       "</table></div>"
      ],
      "text/plain": [
       "<Table length=2>\n",
       "  name  counts  excess      sqrt_ts       ... acceptance acceptance_off  alpha \n",
       "                                          ...                                  \n",
       "  str7  int64  float64      float64       ...  float64      float64     float64\n",
       "------- ------ ------- ------------------ ... ---------- -------------- -------\n",
       "stacked    266   230.0 14.071118591088961 ...       11.0           11.0     1.0\n",
       "stacked    496   434.0 19.602439504920714 ...       22.0           22.0     1.0"
      ]
     },
     "execution_count": 42,
     "metadata": {},
     "output_type": "execute_result"
    }
   ],
   "source": [
    "info_table"
   ]
  },
  {
   "cell_type": "code",
   "execution_count": 43,
   "id": "668f04d7",
   "metadata": {},
   "outputs": [
    {
     "data": {
      "image/png": "[encoded data removed]",
      "text/plain": [
       "<Figure size 1000x500 with 2 Axes>"
      ]
     },
     "metadata": {},
     "output_type": "display_data"
    }
   ],
   "source": [
    "# Plot temporal evolution of excess events and significance value\n",
    "plt.figure(figsize=(10, 5))\n",
    "plt.subplot(121)\n",
    "plt.plot(info_table[\"livetime\"].to(\"h\"), info_table[\"excess\"], marker=\"o\", ls=\"none\")\n",
    "plt.plot(info_table[\"livetime\"].to(\"h\")[-1:1], info_table[\"excess\"][-1:1], \"r\")\n",
    "plt.xlabel(\"Livetime h\")\n",
    "plt.ylabel(\"Excess\")\n",
    "plt.grid()\n",
    "plt.title(\"Excess vs Livetime\")\n",
    "\n",
    "plt.subplot(122)\n",
    "plt.plot(\n",
    "    np.sqrt(info_table[\"livetime\"].to(\"h\")),\n",
    "    info_table[\"sqrt_ts\"],\n",
    "    marker=\"o\",\n",
    "    ls=\"none\",\n",
    ")\n",
    "plt.grid()\n",
    "plt.xlabel(\"Sqrt Livetime h^(1/2)\")\n",
    "plt.ylabel(\"sqrt_ts\")\n",
    "plt.title(\"Significance vs Square root of Livetime\")\n",
    "plt.subplots_adjust(wspace=0.5)"
   ]
  },
  {
   "cell_type": "code",
   "execution_count": 44,
   "id": "f5c54931",
   "metadata": {},
   "outputs": [
    {
     "data": {
      "image/png": "[encoded data removed]",
      "text/plain": [
       "<Figure size 1600x400 with 4 Axes>"
      ]
     },
     "metadata": {},
     "output_type": "display_data"
    }
   ],
   "source": [
    "stacked_dataset.peek()"
   ]
  },
  {
   "cell_type": "code",
   "execution_count": null,
   "id": "1859463f",
   "metadata": {},
   "outputs": [],
   "source": []
  }
 ],
 "metadata": {
  "kernelspec": {
   "display_name": "asgardpy",
   "language": "python",
   "name": "asgardpy"
  },
  "language_info": {
   "codemirror_mode": {
    "name": "ipython",
    "version": 3
   },
   "file_extension": ".py",
   "mimetype": "text/x-python",
   "name": "python",
   "nbconvert_exporter": "python",
   "pygments_lexer": "ipython3",
   "version": "3.12.7"
  }
 },
 "nbformat": 4,
 "nbformat_minor": 5
}
