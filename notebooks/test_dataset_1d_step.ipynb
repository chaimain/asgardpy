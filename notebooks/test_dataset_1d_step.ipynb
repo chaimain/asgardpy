{
 "cells": [
  {
   "cell_type": "code",
   "execution_count": null,
   "id": "f64f4918",
   "metadata": {},
   "outputs": [],
   "source": [
    "from asgardpy.analysis import AsgardpyAnalysis\n",
    "from asgardpy.config import AsgardpyConfig\n",
    "\n",
    "from gammapy.data import DataStore\n",
    "from gammapy.makers import SpectrumDatasetMaker\n",
    "\n",
    "import matplotlib.pyplot as plt\n",
    "import numpy as np\n",
    "\n",
    "import astropy.units as u\n",
    "import logging"
   ]
  },
  {
   "cell_type": "code",
   "execution_count": null,
   "id": "bfdf8e6f",
   "metadata": {},
   "outputs": [],
   "source": [
    "from asgardpy.data.dataset_1d import Dataset1DGeneration\n",
    "from asgardpy.io.io import DL3Files"
   ]
  },
  {
   "cell_type": "code",
   "execution_count": null,
   "id": "da9332b2",
   "metadata": {},
   "outputs": [],
   "source": []
  },
  {
   "cell_type": "code",
   "execution_count": null,
   "id": "f0eeb377",
   "metadata": {},
   "outputs": [],
   "source": [
    "log = logging.getLogger(\"test 1d dataset\")"
   ]
  },
  {
   "cell_type": "code",
   "execution_count": null,
   "id": "a210c361",
   "metadata": {},
   "outputs": [],
   "source": [
    "config_file = \"/path/to/Config.yaml\""
   ]
  },
  {
   "cell_type": "code",
   "execution_count": null,
   "id": "47637409",
   "metadata": {},
   "outputs": [],
   "source": [
    "config = AsgardpyConfig()"
   ]
  },
  {
   "cell_type": "code",
   "execution_count": null,
   "id": "6b86c162",
   "metadata": {},
   "outputs": [],
   "source": [
    "%%time\n",
    "config_main = config.read(config_file)"
   ]
  },
  {
   "cell_type": "code",
   "execution_count": null,
   "id": "ebbaf8bb",
   "metadata": {},
   "outputs": [],
   "source": [
    "for g in config_main.general:\n",
    "    print(g)"
   ]
  },
  {
   "cell_type": "markdown",
   "id": "bcf370f2",
   "metadata": {},
   "source": [
    "# Steps mentioned in the main config file"
   ]
  },
  {
   "cell_type": "code",
   "execution_count": null,
   "id": "95986b77",
   "metadata": {},
   "outputs": [],
   "source": [
    "config_main.general.steps"
   ]
  },
  {
   "cell_type": "markdown",
   "id": "7c32501c",
   "metadata": {},
   "source": [
    "# Target source information"
   ]
  },
  {
   "cell_type": "code",
   "execution_count": null,
   "id": "1cfcad52",
   "metadata": {},
   "outputs": [],
   "source": [
    "for c in config_main.target:\n",
    "    print(c)"
   ]
  },
  {
   "cell_type": "markdown",
   "id": "ed73dc08",
   "metadata": {},
   "source": [
    "# 1D Datasets informations"
   ]
  },
  {
   "cell_type": "code",
   "execution_count": null,
   "id": "511b096d",
   "metadata": {},
   "outputs": [],
   "source": [
    "for cc in config_main.dataset1d:\n",
    "    print(cc)"
   ]
  },
  {
   "cell_type": "code",
   "execution_count": null,
   "id": "13dcacb0",
   "metadata": {},
   "outputs": [],
   "source": []
  },
  {
   "cell_type": "code",
   "execution_count": null,
   "id": "b7ffc23d",
   "metadata": {},
   "outputs": [],
   "source": [
    "%%time\n",
    "analysis = AsgardpyAnalysis(config_main)"
   ]
  },
  {
   "cell_type": "code",
   "execution_count": null,
   "id": "06882af8",
   "metadata": {},
   "outputs": [],
   "source": [
    "analysis"
   ]
  },
  {
   "cell_type": "code",
   "execution_count": null,
   "id": "59b16d40",
   "metadata": {},
   "outputs": [],
   "source": []
  },
  {
   "cell_type": "markdown",
   "id": "b07061ff",
   "metadata": {},
   "source": [
    "# Prepare for a single 1D Dataset, based on instrument"
   ]
  },
  {
   "cell_type": "code",
   "execution_count": null,
   "id": "d106b41c",
   "metadata": {},
   "outputs": [],
   "source": [
    "instruments_list = config_main.dataset1d.instruments\n",
    "print(len(instruments_list), \"number of 1D dataset information provided\")\n",
    "\n",
    "config_1d_dataset = instruments_list[0]\n",
    "print(f\"Instrument selected is {config_1d_dataset.name}\")"
   ]
  },
  {
   "cell_type": "markdown",
   "id": "9de4cddd",
   "metadata": {},
   "source": [
    "# Run each Dataset1DGeneration step"
   ]
  },
  {
   "cell_type": "code",
   "execution_count": null,
   "id": "6e9f4954",
   "metadata": {},
   "outputs": [],
   "source": [
    "%%time\n",
    "generate_1d_dataset = Dataset1DGeneration(\n",
    "    log, config_1d_dataset, config_main.target\n",
    ")"
   ]
  },
  {
   "cell_type": "code",
   "execution_count": null,
   "id": "a4842498",
   "metadata": {},
   "outputs": [],
   "source": []
  },
  {
   "cell_type": "markdown",
   "id": "25600366",
   "metadata": {},
   "source": [
    "# Initialized variables"
   ]
  },
  {
   "cell_type": "code",
   "execution_count": null,
   "id": "08864d18",
   "metadata": {},
   "outputs": [],
   "source": [
    "print(generate_1d_dataset.config_1d_dataset_io)"
   ]
  },
  {
   "cell_type": "code",
   "execution_count": null,
   "id": "12e0c556",
   "metadata": {},
   "outputs": [],
   "source": [
    "print(generate_1d_dataset.config_1d_dataset_info)"
   ]
  },
  {
   "cell_type": "code",
   "execution_count": null,
   "id": "69605232",
   "metadata": {},
   "outputs": [],
   "source": [
    "print(generate_1d_dataset.config_target)"
   ]
  },
  {
   "cell_type": "code",
   "execution_count": null,
   "id": "a906e73d",
   "metadata": {},
   "outputs": [],
   "source": []
  },
  {
   "cell_type": "markdown",
   "id": "651c1128",
   "metadata": {},
   "source": [
    "### First check for the given file list if they are readable or not."
   ]
  },
  {
   "cell_type": "code",
   "execution_count": null,
   "id": "5025f9d9",
   "metadata": {},
   "outputs": [],
   "source": [
    "%%time\n",
    "file_list = {}\n",
    "dl3_info = DL3Files(\n",
    "    generate_1d_dataset.config_1d_dataset_io[0], \n",
    "    file_list, \n",
    "    log=generate_1d_dataset.log\n",
    ")"
   ]
  },
  {
   "cell_type": "code",
   "execution_count": null,
   "id": "747ea551",
   "metadata": {},
   "outputs": [],
   "source": [
    "dl3_info"
   ]
  },
  {
   "cell_type": "code",
   "execution_count": null,
   "id": "5031b3b8",
   "metadata": {
    "scrolled": true
   },
   "outputs": [],
   "source": [
    "%%time\n",
    "dl3_info.list_dl3_files()"
   ]
  },
  {
   "cell_type": "code",
   "execution_count": null,
   "id": "28a64bb3",
   "metadata": {
    "scrolled": true
   },
   "outputs": [],
   "source": [
    "print(f\"Reading from {len(dl3_info.events_files)} DL3 files\")\n",
    "for e in dl3_info.events_files:\n",
    "    print(e)"
   ]
  },
  {
   "cell_type": "code",
   "execution_count": null,
   "id": "5ef243f9",
   "metadata": {},
   "outputs": [],
   "source": []
  },
  {
   "cell_type": "markdown",
   "id": "14d8aa51",
   "metadata": {},
   "source": [
    "## Get Observations object"
   ]
  },
  {
   "cell_type": "code",
   "execution_count": null,
   "id": "94ee8c05",
   "metadata": {},
   "outputs": [],
   "source": [
    "datastore = DataStore.from_dir(generate_1d_dataset.config_1d_dataset_io[0].input_dir)"
   ]
  },
  {
   "cell_type": "code",
   "execution_count": null,
   "id": "773d7d3b",
   "metadata": {
    "scrolled": true
   },
   "outputs": [],
   "source": [
    "datastore.obs_table"
   ]
  },
  {
   "cell_type": "code",
   "execution_count": null,
   "id": "c152255f",
   "metadata": {},
   "outputs": [],
   "source": [
    "observations = generate_1d_dataset.get_filtered_observations(datastore)"
   ]
  },
  {
   "cell_type": "code",
   "execution_count": null,
   "id": "717a4784",
   "metadata": {},
   "outputs": [],
   "source": [
    "print(observations)"
   ]
  },
  {
   "cell_type": "code",
   "execution_count": null,
   "id": "a773220a",
   "metadata": {},
   "outputs": [],
   "source": [
    "print(\"Using the list of required IRFs:\", generate_1d_dataset.config_1d_dataset_info.observation.required_irfs)\n",
    "print(\"Selected observations from the given DataStore:\", observations.ids)"
   ]
  },
  {
   "cell_type": "code",
   "execution_count": null,
   "id": "f9f5f404",
   "metadata": {},
   "outputs": [],
   "source": []
  },
  {
   "cell_type": "markdown",
   "id": "a21e4400",
   "metadata": {},
   "source": [
    "## Create the base dataset template and get all the Dataset Reduction makers "
   ]
  },
  {
   "cell_type": "code",
   "execution_count": null,
   "id": "35434aff",
   "metadata": {},
   "outputs": [],
   "source": [
    "dataset_template = generate_1d_dataset.generate_geom()"
   ]
  },
  {
   "cell_type": "code",
   "execution_count": null,
   "id": "60cb9833",
   "metadata": {},
   "outputs": [],
   "source": [
    "print(dataset_template)"
   ]
  },
  {
   "cell_type": "code",
   "execution_count": null,
   "id": "61f61de0",
   "metadata": {},
   "outputs": [],
   "source": [
    "%%time\n",
    "dataset_maker = SpectrumDatasetMaker(\n",
    "    containment_correction=generate_1d_dataset.config_1d_dataset_info.containment_correction,\n",
    "    selection=generate_1d_dataset.config_1d_dataset_info.map_selection,\n",
    ")"
   ]
  },
  {
   "cell_type": "code",
   "execution_count": null,
   "id": "8e621e25",
   "metadata": {},
   "outputs": [],
   "source": [
    "%%time\n",
    "bkg_maker = generate_1d_dataset.get_bkg_maker()"
   ]
  },
  {
   "cell_type": "code",
   "execution_count": null,
   "id": "b9fe27e6",
   "metadata": {},
   "outputs": [],
   "source": [
    "%%time\n",
    "safe_maker = generate_1d_dataset.get_safe_mask_maker()"
   ]
  },
  {
   "cell_type": "code",
   "execution_count": null,
   "id": "5ec184ae",
   "metadata": {},
   "outputs": [],
   "source": [
    "print(dataset_maker)"
   ]
  },
  {
   "cell_type": "code",
   "execution_count": null,
   "id": "2b3fa091",
   "metadata": {},
   "outputs": [],
   "source": [
    "print(bkg_maker)\n",
    "print(bkg_maker.region_finder)\n",
    "print(\"Number of Wobble OFF regions selected:\", bkg_maker.region_finder.n_off_regions)"
   ]
  },
  {
   "cell_type": "code",
   "execution_count": null,
   "id": "5fba97de",
   "metadata": {},
   "outputs": [],
   "source": [
    "print(safe_maker)"
   ]
  },
  {
   "cell_type": "code",
   "execution_count": null,
   "id": "c0922396",
   "metadata": {},
   "outputs": [],
   "source": []
  },
  {
   "cell_type": "code",
   "execution_count": null,
   "id": "6fad1930",
   "metadata": {},
   "outputs": [],
   "source": [
    "%%time\n",
    "generate_1d_dataset.generate_dataset(\n",
    "    observations,\n",
    "    dataset_template,\n",
    "    dataset_maker,\n",
    "    bkg_maker,\n",
    "    safe_maker\n",
    ")"
   ]
  },
  {
   "cell_type": "code",
   "execution_count": null,
   "id": "f38925f7",
   "metadata": {},
   "outputs": [],
   "source": [
    "print(generate_1d_dataset.datasets)"
   ]
  },
  {
   "cell_type": "code",
   "execution_count": null,
   "id": "46aca7b4",
   "metadata": {
    "scrolled": true
   },
   "outputs": [],
   "source": [
    "info_table = generate_1d_dataset.datasets.info_table(cumulative=True)"
   ]
  },
  {
   "cell_type": "code",
   "execution_count": null,
   "id": "a5f03e6d",
   "metadata": {},
   "outputs": [],
   "source": [
    "stacked_dataset = generate_1d_dataset.datasets.stack_reduce(name=config_1d_dataset.name)"
   ]
  },
  {
   "cell_type": "code",
   "execution_count": null,
   "id": "d60a735c",
   "metadata": {},
   "outputs": [],
   "source": [
    "print(stacked_dataset)"
   ]
  },
  {
   "cell_type": "markdown",
   "id": "75be2f9a",
   "metadata": {},
   "source": [
    "# Some Basic plots from the Dataset"
   ]
  },
  {
   "cell_type": "code",
   "execution_count": null,
   "id": "610b3df6",
   "metadata": {
    "scrolled": true
   },
   "outputs": [],
   "source": [
    "info_table"
   ]
  },
  {
   "cell_type": "code",
   "execution_count": null,
   "id": "668f04d7",
   "metadata": {},
   "outputs": [],
   "source": [
    "# Plot temporal evolution of excess events and significance value\n",
    "plt.figure(figsize=(10,5))\n",
    "plt.subplot(121)\n",
    "plt.plot(\n",
    "    np.sqrt(info_table[\"livetime\"].to(\"h\")), info_table[\"excess\"], marker=\"o\", ls=\"none\"\n",
    ")\n",
    "plt.plot(info_table[\"livetime\"].to(\"h\")[-1:1], info_table[\"excess\"][-1:1], 'r')\n",
    "plt.xlabel(\"Sqrt Livetime h^(1/2)\")\n",
    "plt.ylabel(\"Excess\")\n",
    "plt.grid()\n",
    "plt.title('Excess vs Square root of Livetime')\n",
    "\n",
    "plt.subplot(122)\n",
    "plt.plot(\n",
    "    np.sqrt(info_table[\"livetime\"].to(\"h\")),\n",
    "    info_table[\"sqrt_ts\"],\n",
    "    marker=\"o\",\n",
    "    ls=\"none\",\n",
    ")\n",
    "plt.grid()\n",
    "plt.xlabel(\"Sqrt Livetime h^(1/2)\")\n",
    "plt.ylabel(\"sqrt_ts\")\n",
    "plt.title('Significance vs Square root of Livetime')\n",
    "plt.subplots_adjust(wspace=0.5)"
   ]
  },
  {
   "cell_type": "code",
   "execution_count": null,
   "id": "f5c54931",
   "metadata": {},
   "outputs": [],
   "source": [
    "stacked_dataset.peek()"
   ]
  },
  {
   "cell_type": "code",
   "execution_count": null,
   "id": "1859463f",
   "metadata": {},
   "outputs": [],
   "source": []
  }
 ],
 "metadata": {
  "kernelspec": {
   "display_name": "gammapy-dev",
   "language": "python",
   "name": "gammapy-dev"
  },
  "language_info": {
   "codemirror_mode": {
    "name": "ipython",
    "version": 3
   },
   "file_extension": ".py",
   "mimetype": "text/x-python",
   "name": "python",
   "nbconvert_exporter": "python",
   "pygments_lexer": "ipython3",
   "version": "3.8.13"
  }
 },
 "nbformat": 4,
 "nbformat_minor": 5
}
