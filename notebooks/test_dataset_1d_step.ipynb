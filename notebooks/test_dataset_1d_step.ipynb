{
 "cells": [
  {
   "cell_type": "code",
   "execution_count": 1,
   "id": "f64f4918",
   "metadata": {},
   "outputs": [],
   "source": [
    "import os\n",
    "import matplotlib.pyplot as plt\n",
    "import numpy as np\n",
    "\n",
    "import astropy.units as u\n",
    "import logging\n",
    "\n",
    "from asgardpy.analysis import AsgardpyAnalysis\n",
    "from asgardpy.config import AsgardpyConfig\n",
    "\n",
    "from gammapy.data import DataStore\n",
    "from gammapy.makers import SpectrumDatasetMaker, DatasetsMaker"
   ]
  },
  {
   "cell_type": "code",
   "execution_count": 2,
   "id": "bfdf8e6f",
   "metadata": {},
   "outputs": [],
   "source": [
    "from asgardpy.base.geom import generate_geom, get_source_position\n",
    "from asgardpy.base.reduction import (\n",
    "    generate_dl4_dataset,\n",
    "    get_bkg_maker,\n",
    "    get_dataset_maker,\n",
    "    get_dataset_reference,\n",
    "    get_exclusion_region_mask,\n",
    "    get_filtered_observations,\n",
    "    get_safe_mask_maker,\n",
    ")\n",
    "from asgardpy.data.dataset_1d import Dataset1DGeneration\n",
    "from asgardpy.io.input_dl3 import DL3Files"
   ]
  },
  {
   "cell_type": "code",
   "execution_count": 3,
   "id": "da9332b2",
   "metadata": {},
   "outputs": [],
   "source": [
    "# os.environ['GAMMAPY_DATA']"
   ]
  },
  {
   "cell_type": "code",
   "execution_count": 4,
   "id": "f0eeb377",
   "metadata": {},
   "outputs": [],
   "source": [
    "log = logging.getLogger(\"test 1d dataset\")"
   ]
  },
  {
   "cell_type": "code",
   "execution_count": 5,
   "id": "a210c361",
   "metadata": {},
   "outputs": [],
   "source": [
    "config_file = \"../src/asgardpy/tests/config_test_base.yaml\""
   ]
  },
  {
   "cell_type": "code",
   "execution_count": 6,
   "id": "47637409",
   "metadata": {},
   "outputs": [],
   "source": [
    "config = AsgardpyConfig()"
   ]
  },
  {
   "cell_type": "code",
   "execution_count": 7,
   "id": "6b86c162",
   "metadata": {},
   "outputs": [
    {
     "name": "stdout",
     "output_type": "stream",
     "text": [
      "CPU times: user 33.6 ms, sys: 2.91 ms, total: 36.5 ms\n",
      "Wall time: 33.9 ms\n"
     ]
    }
   ],
   "source": [
    "%%time\n",
    "config_main = config.read(config_file)"
   ]
  },
  {
   "cell_type": "code",
   "execution_count": null,
   "id": "bae1394c-2b7c-48c7-ae14-692dee2f0f99",
   "metadata": {},
   "outputs": [],
   "source": []
  },
  {
   "cell_type": "markdown",
   "id": "2b4d46e0-b011-4880-a2e1-ffa945f3ada0",
   "metadata": {},
   "source": [
    "# Update path of test data"
   ]
  },
  {
   "cell_type": "code",
   "execution_count": 8,
   "id": "aefadcf1-ff57-45dc-af17-689c4ca8cd13",
   "metadata": {},
   "outputs": [],
   "source": [
    "config_main.dataset3d.instruments[0].input_dl3[0].input_dir = f\"{os.environ['GAMMAPY_DATA']}fermipy-crab/\"\n",
    "config_main.dataset3d.instruments[0].input_dl3[1].input_dir = f\"{os.environ['GAMMAPY_DATA']}fermipy-crab/\"\n",
    "config_main.dataset1d.instruments[0].input_dl3[0].input_dir = f\"{os.environ['GAMMAPY_DATA']}hess-dl3-dr1/\""
   ]
  },
  {
   "cell_type": "code",
   "execution_count": null,
   "id": "78d836e3-141f-43e2-a5fb-d6b23c2c1966",
   "metadata": {},
   "outputs": [],
   "source": []
  },
  {
   "cell_type": "code",
   "execution_count": 9,
   "id": "ebbaf8bb",
   "metadata": {},
   "outputs": [
    {
     "data": {
      "text/plain": [
       "{'log': {'level': 'info',\n",
       "  'filename': '',\n",
       "  'filemode': 'w',\n",
       "  'format': '',\n",
       "  'datefmt': ''},\n",
       " 'outdir': PosixPath('.'),\n",
       " 'n_jobs': 10,\n",
       " 'parallel_backend': <ParallelBackendEnum.multi: 'multiprocessing'>,\n",
       " 'steps': [<AnalysisStepEnum.datasets_3d: 'datasets-3d'>,\n",
       "  <AnalysisStepEnum.datasets_1d: 'datasets-1d'>,\n",
       "  <AnalysisStepEnum.fit: 'fit'>,\n",
       "  <AnalysisStepEnum.flux_points: 'flux-points'>],\n",
       " 'overwrite': True,\n",
       " 'stacked_dataset': True}"
      ]
     },
     "execution_count": 9,
     "metadata": {},
     "output_type": "execute_result"
    }
   ],
   "source": [
    "config_main.general.dict()"
   ]
  },
  {
   "cell_type": "markdown",
   "id": "bcf370f2",
   "metadata": {},
   "source": [
    "# Steps mentioned in the main config file"
   ]
  },
  {
   "cell_type": "code",
   "execution_count": 10,
   "id": "95986b77",
   "metadata": {},
   "outputs": [
    {
     "data": {
      "text/plain": [
       "[<AnalysisStepEnum.datasets_3d: 'datasets-3d'>,\n",
       " <AnalysisStepEnum.datasets_1d: 'datasets-1d'>,\n",
       " <AnalysisStepEnum.fit: 'fit'>,\n",
       " <AnalysisStepEnum.flux_points: 'flux-points'>]"
      ]
     },
     "execution_count": 10,
     "metadata": {},
     "output_type": "execute_result"
    }
   ],
   "source": [
    "config_main.general.steps"
   ]
  },
  {
   "cell_type": "markdown",
   "id": "7c32501c",
   "metadata": {},
   "source": [
    "# Target source information"
   ]
  },
  {
   "cell_type": "code",
   "execution_count": 11,
   "id": "1cfcad52",
   "metadata": {
    "scrolled": true
   },
   "outputs": [
    {
     "data": {
      "text/plain": [
       "{'source_name': '4FGL J0534.5+2201i',\n",
       " 'sky_position': {'frame': <FrameEnum.icrs: 'icrs'>,\n",
       "  'lon': <Angle 83.6338333 deg>,\n",
       "  'lat': <Angle 22.0145 deg>,\n",
       "  'radius': <Angle 0. deg>},\n",
       " 'use_uniform_position': True,\n",
       " 'models_file': PosixPath('.'),\n",
       " 'add_fov_bkg_model': False,\n",
       " 'use_catalog': {'name': '',\n",
       "  'selection_radius': <Angle 0. deg>,\n",
       "  'exclusion_radius': <Angle 0. deg>},\n",
       " 'components': [{'name': '4FGL J0534.5+2201i',\n",
       "   'type': <ModelTypeEnum.skymodel: 'SkyModel'>,\n",
       "   'datasets_names': [''],\n",
       "   'spectral': {'type': 'LogParabolaSpectralModel',\n",
       "    'parameters': [{'name': 'amplitude',\n",
       "      'value': 1e-06,\n",
       "      'unit': 'cm-2 s-1 TeV-1',\n",
       "      'error': 1.5e-07,\n",
       "      'min': 1e-13,\n",
       "      'max': 0.01,\n",
       "      'frozen': False},\n",
       "     {'name': 'reference',\n",
       "      'value': 0.015,\n",
       "      'unit': 'TeV',\n",
       "      'error': 0.0,\n",
       "      'min': 0.0001,\n",
       "      'max': 100.0,\n",
       "      'frozen': True},\n",
       "     {'name': 'alpha',\n",
       "      'value': 1.7,\n",
       "      'unit': '',\n",
       "      'error': 0.1,\n",
       "      'min': 0.5,\n",
       "      'max': 5.0,\n",
       "      'frozen': False},\n",
       "     {'name': 'beta',\n",
       "      'value': 0.1,\n",
       "      'unit': '',\n",
       "      'error': 0.001,\n",
       "      'min': 1e-06,\n",
       "      'max': 1.0,\n",
       "      'frozen': False}],\n",
       "    'ebl_abs': {'filename': PosixPath('.'),\n",
       "     'reference': 'dominguez',\n",
       "     'type': 'EBLAbsorptionNormSpectralModel',\n",
       "     'redshift': 0.0,\n",
       "     'alpha_norm': 1.0}},\n",
       "   'spatial': {'type': '',\n",
       "    'frame': <FrameEnum.icrs: 'icrs'>,\n",
       "    'parameters': [{'name': '',\n",
       "      'value': 1.0,\n",
       "      'unit': ' ',\n",
       "      'error': 0.1,\n",
       "      'min': 0.1,\n",
       "      'max': 10.0,\n",
       "      'frozen': True}]}}],\n",
       " 'covariance': 'None',\n",
       " 'from_3d': False,\n",
       " 'roi_selection': {'roi_radius': <Angle 0. deg>,\n",
       "  'free_sources': ['4FGL J0521.7+2112',\n",
       "   '4FGL J0528.3+1817',\n",
       "   '4FGL J0536.2+1733',\n",
       "   '4FGL J0534.5+2200']}}"
      ]
     },
     "execution_count": 11,
     "metadata": {},
     "output_type": "execute_result"
    }
   ],
   "source": [
    "config_main.target.dict()"
   ]
  },
  {
   "cell_type": "markdown",
   "id": "ed73dc08",
   "metadata": {},
   "source": [
    "# 1D Datasets informations"
   ]
  },
  {
   "cell_type": "code",
   "execution_count": 12,
   "id": "511b096d",
   "metadata": {},
   "outputs": [
    {
     "data": {
      "text/plain": [
       "{'type': <ReductionTypeEnum.spectrum: '1d'>,\n",
       " 'instruments': [{'name': 'HESS',\n",
       "   'input_dl3': [{'type': 'gadf-dl3',\n",
       "     'input_dir': PosixPath('/fefs/aswg/workspace/chaitanya.priyadarshi/software/gammapy-tutorials/dataset/hess-dl3-dr1'),\n",
       "     'glob_pattern': {'dl3': 'data/hess_*fits.gz'}}],\n",
       "   'input_dl4': False,\n",
       "   'dataset_info': {'name': 'HESS',\n",
       "    'geom': {'wcs': {'skydir': {'frame': <FrameEnum.icrs: 'icrs'>,\n",
       "       'lon': <Angle 0. deg>,\n",
       "       'lat': <Angle 0. deg>,\n",
       "       'radius': <Angle 0. deg>},\n",
       "      'binsize': <Angle 0.02 deg>,\n",
       "      'proj': <ProjectionEnum.tan: 'TAN'>,\n",
       "      'map_frame_shape': {'width': <Angle 6. deg>, 'height': <Angle 6. deg>},\n",
       "      'binsize_irf': <Angle 0.2 deg>},\n",
       "     'selection': {'offset_max': <Angle 2.5 deg>},\n",
       "     'axes': [{'name': 'energy',\n",
       "       'axis': {'min': <Quantity 0.1 TeV>,\n",
       "        'max': <Quantity 100. TeV>,\n",
       "        'nbins': 5,\n",
       "        'per_decade': True},\n",
       "       'axis_custom': {'edges': [], 'unit': 'TeV'}},\n",
       "      {'name': 'energy_true',\n",
       "       'axis': {'min': <Quantity 0.1 TeV>,\n",
       "        'max': <Quantity 100. TeV>,\n",
       "        'nbins': 10,\n",
       "        'per_decade': True},\n",
       "       'axis_custom': {'edges': [], 'unit': 'TeV'}}],\n",
       "     'from_events_file': True},\n",
       "    'observation': {'obs_ids': [23523, 23526],\n",
       "     'obs_file': PosixPath('.'),\n",
       "     'obs_time': {'format': <TimeFormatEnum.iso: 'iso'>,\n",
       "      'intervals': [{'start': <Time object: scale='utc' format='iso' value=1970-01-01 00:00:00.000>,\n",
       "        'stop': <Time object: scale='utc' format='iso' value=2000-01-01 00:00:00.000>}]},\n",
       "     'obs_cone': {'frame': <FrameEnum.icrs: 'icrs'>,\n",
       "      'lon': <Angle 0. deg>,\n",
       "      'lat': <Angle 0. deg>,\n",
       "      'radius': <Angle 0. deg>},\n",
       "     'required_irfs': [<RequiredHDUEnum.aeff: 'aeff'>,\n",
       "      <RequiredHDUEnum.edisp: 'edisp'>]},\n",
       "    'background': {'method': <BackgroundMethodEnum.reflected: 'reflected'>,\n",
       "     'region_finder_method': <BackgroundRegionFinderMethodEnum.wobble: 'wobble'>,\n",
       "     'parameters': {'n_off_regions': 1},\n",
       "     'exclusion': {'target_source': True,\n",
       "      'regions': [{'type': 'CircleSkyRegion',\n",
       "        'name': '4FGL J0521.7+2112',\n",
       "        'position': {'frame': <FrameEnum.icrs: 'icrs'>,\n",
       "         'lon': <Angle 0. deg>,\n",
       "         'lat': <Angle 0. deg>,\n",
       "         'radius': <Angle 0. deg>},\n",
       "        'parameters': {'region_radius': '0.5 deg'}}],\n",
       "      'exclusion_file': PosixPath('.')}},\n",
       "    'safe_mask': {'methods': [<SafeMaskMethodsEnum.aeff_max: 'aeff-max'>],\n",
       "     'parameters': {'aeff_percent': 10}},\n",
       "    'on_region': {'frame': <FrameEnum.icrs: 'icrs'>,\n",
       "     'lon': <Angle 83.633 deg>,\n",
       "     'lat': <Angle 22.02 deg>,\n",
       "     'radius': <Angle 0.2 deg>},\n",
       "    'containment_correction': True,\n",
       "    'map_selection': [<MapSelectionEnum.counts: 'counts'>,\n",
       "     <MapSelectionEnum.exposure: 'exposure'>,\n",
       "     <MapSelectionEnum.edisp: 'edisp'>]},\n",
       "   'dl4_dataset_info': {'dl4_dataset': {'type': <DatasetTypeEnum.MapDataset: 'MapDataset'>,\n",
       "     'input_dir': PosixPath('.'),\n",
       "     'glob_pattern': 'pha*fits',\n",
       "     'dl4_format': <DL4FormatEnum.gadf: 'gadf'>},\n",
       "    'spectral_energy_range': {'name': 'energy',\n",
       "     'axis': {'min': <Quantity 100. GeV>,\n",
       "      'max': <Quantity 100. TeV>,\n",
       "      'nbins': 5,\n",
       "      'per_decade': True},\n",
       "     'axis_custom': {'edges': [], 'unit': 'TeV'}}}},\n",
       "  {'name': 'MAGIC',\n",
       "   'input_dl3': [{'type': 'gadf-dl3',\n",
       "     'input_dir': PosixPath('.'),\n",
       "     'glob_pattern': {'dl3': '2013*fits'}}],\n",
       "   'input_dl4': False,\n",
       "   'dataset_info': {'name': 'MAGIC',\n",
       "    'geom': {'wcs': {'skydir': {'frame': <FrameEnum.icrs: 'icrs'>,\n",
       "       'lon': <Angle 0. deg>,\n",
       "       'lat': <Angle 0. deg>,\n",
       "       'radius': <Angle 0. deg>},\n",
       "      'binsize': <Angle 0.02 deg>,\n",
       "      'proj': <ProjectionEnum.tan: 'TAN'>,\n",
       "      'map_frame_shape': {'width': <Angle 6. deg>, 'height': <Angle 6. deg>},\n",
       "      'binsize_irf': <Angle 0.2 deg>},\n",
       "     'selection': {'offset_max': <Angle 2.5 deg>},\n",
       "     'axes': [{'name': 'energy',\n",
       "       'axis': {'min': <Quantity 0.05 TeV>,\n",
       "        'max': <Quantity 100. TeV>,\n",
       "        'nbins': 5,\n",
       "        'per_decade': True},\n",
       "       'axis_custom': {'edges': [], 'unit': 'TeV'}},\n",
       "      {'name': 'energy_true',\n",
       "       'axis': {'min': <Quantity 0.01 TeV>,\n",
       "        'max': <Quantity 100. TeV>,\n",
       "        'nbins': 10,\n",
       "        'per_decade': True},\n",
       "       'axis_custom': {'edges': [], 'unit': 'TeV'}}],\n",
       "     'from_events_file': True},\n",
       "    'observation': {'obs_ids': [],\n",
       "     'obs_file': PosixPath('.'),\n",
       "     'obs_time': {'format': <TimeFormatEnum.iso: 'iso'>,\n",
       "      'intervals': [{'start': <Time object: scale='utc' format='iso' value=1970-01-01 00:00:00.000>,\n",
       "        'stop': <Time object: scale='utc' format='iso' value=2000-01-01 00:00:00.000>}]},\n",
       "     'obs_cone': {'frame': <FrameEnum.icrs: 'icrs'>,\n",
       "      'lon': <Angle 0. deg>,\n",
       "      'lat': <Angle 0. deg>,\n",
       "      'radius': <Angle 0. deg>},\n",
       "     'required_irfs': [<RequiredHDUEnum.aeff: 'aeff'>,\n",
       "      <RequiredHDUEnum.edisp: 'edisp'>,\n",
       "      <RequiredHDUEnum.rad_max: 'rad_max'>]},\n",
       "    'background': {'method': <BackgroundMethodEnum.reflected: 'reflected'>,\n",
       "     'region_finder_method': <BackgroundRegionFinderMethodEnum.wobble: 'wobble'>,\n",
       "     'parameters': {'n_off_regions': 3},\n",
       "     'exclusion': {'target_source': True,\n",
       "      'regions': [{'type': 'CircleSkyRegion',\n",
       "        'name': '4FGL J0521.7+2112',\n",
       "        'position': {'frame': <FrameEnum.icrs: 'icrs'>,\n",
       "         'lon': <Angle 0. deg>,\n",
       "         'lat': <Angle 0. deg>,\n",
       "         'radius': <Angle 0. deg>},\n",
       "        'parameters': {'region_radius': '0.5 deg'}}],\n",
       "      'exclusion_file': PosixPath('.')}},\n",
       "    'safe_mask': {'methods': [<SafeMaskMethodsEnum.aeff_default: 'aeff-default'>],\n",
       "     'parameters': {}},\n",
       "    'on_region': {'frame': <FrameEnum.icrs: 'icrs'>,\n",
       "     'lon': <Angle 83.6338333 deg>,\n",
       "     'lat': <Angle 22.0145 deg>,\n",
       "     'radius': <Angle 0. deg>},\n",
       "    'containment_correction': False,\n",
       "    'map_selection': [<MapSelectionEnum.counts: 'counts'>,\n",
       "     <MapSelectionEnum.exposure: 'exposure'>,\n",
       "     <MapSelectionEnum.edisp: 'edisp'>]},\n",
       "   'dl4_dataset_info': {'dl4_dataset': {'type': <DatasetTypeEnum.MapDataset: 'MapDataset'>,\n",
       "     'input_dir': PosixPath('.'),\n",
       "     'glob_pattern': 'pha*fits',\n",
       "     'dl4_format': <DL4FormatEnum.gadf: 'gadf'>},\n",
       "    'spectral_energy_range': {'name': 'energy',\n",
       "     'axis': {'min': <Quantity 100. GeV>,\n",
       "      'max': <Quantity 100. TeV>,\n",
       "      'nbins': 5,\n",
       "      'per_decade': True},\n",
       "     'axis_custom': {'edges': [0.0631,\n",
       "       0.1,\n",
       "       0.1585,\n",
       "       0.2512,\n",
       "       0.3981,\n",
       "       0.631,\n",
       "       1.0,\n",
       "       1.585,\n",
       "       2.512],\n",
       "      'unit': 'TeV'}}}}]}"
      ]
     },
     "execution_count": 12,
     "metadata": {},
     "output_type": "execute_result"
    }
   ],
   "source": [
    "config_main.dataset1d.dict()"
   ]
  },
  {
   "cell_type": "code",
   "execution_count": null,
   "id": "13dcacb0",
   "metadata": {},
   "outputs": [],
   "source": []
  },
  {
   "cell_type": "code",
   "execution_count": 13,
   "id": "b7ffc23d",
   "metadata": {},
   "outputs": [
    {
     "name": "stderr",
     "output_type": "stream",
     "text": [
      "Setting logging config: {'level': 'INFO', 'filename': '', 'filemode': 'w', 'format': '', 'datefmt': ''}\n"
     ]
    },
    {
     "name": "stdout",
     "output_type": "stream",
     "text": [
      "CPU times: user 3.7 ms, sys: 901 µs, total: 4.6 ms\n",
      "Wall time: 3.33 ms\n"
     ]
    }
   ],
   "source": [
    "%%time\n",
    "analysis = AsgardpyAnalysis(config_main)"
   ]
  },
  {
   "cell_type": "code",
   "execution_count": 14,
   "id": "06882af8",
   "metadata": {},
   "outputs": [
    {
     "data": {
      "text/plain": [
       "<asgardpy.analysis.analysis.AsgardpyAnalysis at 0x7ff7d694d410>"
      ]
     },
     "execution_count": 14,
     "metadata": {},
     "output_type": "execute_result"
    }
   ],
   "source": [
    "analysis"
   ]
  },
  {
   "cell_type": "code",
   "execution_count": null,
   "id": "59b16d40",
   "metadata": {},
   "outputs": [],
   "source": []
  },
  {
   "cell_type": "markdown",
   "id": "b07061ff",
   "metadata": {},
   "source": [
    "# Prepare for a single 1D Dataset, based on instrument"
   ]
  },
  {
   "cell_type": "code",
   "execution_count": 15,
   "id": "d106b41c",
   "metadata": {},
   "outputs": [
    {
     "name": "stdout",
     "output_type": "stream",
     "text": [
      "2 number of 1D dataset information provided\n",
      "Instrument selected is HESS\n"
     ]
    }
   ],
   "source": [
    "instruments_list = config_main.dataset1d.instruments\n",
    "print(len(instruments_list), \"number of 1D dataset information provided\")\n",
    "\n",
    "config_1d_dataset = instruments_list[0]\n",
    "print(f\"Instrument selected is {config_1d_dataset.name}\")"
   ]
  },
  {
   "cell_type": "markdown",
   "id": "9de4cddd",
   "metadata": {},
   "source": [
    "# Run each Dataset1DGeneration step"
   ]
  },
  {
   "cell_type": "code",
   "execution_count": 16,
   "id": "6e9f4954",
   "metadata": {},
   "outputs": [
    {
     "name": "stdout",
     "output_type": "stream",
     "text": [
      "CPU times: user 41 µs, sys: 0 ns, total: 41 µs\n",
      "Wall time: 54.6 µs\n"
     ]
    }
   ],
   "source": [
    "%%time\n",
    "generate_1d_dataset = Dataset1DGeneration(\n",
    "    log, config_1d_dataset, config_main\n",
    ")"
   ]
  },
  {
   "cell_type": "code",
   "execution_count": null,
   "id": "a4842498",
   "metadata": {},
   "outputs": [],
   "source": []
  },
  {
   "cell_type": "markdown",
   "id": "25600366",
   "metadata": {},
   "source": [
    "# Initialized variables"
   ]
  },
  {
   "cell_type": "code",
   "execution_count": 17,
   "id": "08864d18",
   "metadata": {},
   "outputs": [
    {
     "name": "stdout",
     "output_type": "stream",
     "text": [
      "[InputDL3Config(type='gadf-dl3', input_dir=PosixPath('/fefs/aswg/workspace/chaitanya.priyadarshi/software/gammapy-tutorials/dataset/hess-dl3-dr1'), glob_pattern={'dl3': 'data/hess_*fits.gz'})]\n"
     ]
    }
   ],
   "source": [
    "print(generate_1d_dataset.config_1d_dataset_io)"
   ]
  },
  {
   "cell_type": "code",
   "execution_count": 18,
   "id": "12e0c556",
   "metadata": {
    "scrolled": true
   },
   "outputs": [
    {
     "name": "stdout",
     "output_type": "stream",
     "text": [
      "name='HESS' geom=GeomConfig(wcs=WcsConfig(skydir=SkyPositionConfig(frame=<FrameEnum.icrs: 'icrs'>, lon=<Angle 0. deg>, lat=<Angle 0. deg>, radius=<Angle 0. deg>), binsize=<Angle 0.02 deg>, proj=<ProjectionEnum.tan: 'TAN'>, map_frame_shape=MapFrameShapeConfig(width=<Angle 6. deg>, height=<Angle 6. deg>), binsize_irf=<Angle 0.2 deg>), selection=SelectionConfig(offset_max=<Angle 2.5 deg>), axes=[MapAxesConfig(name='energy', axis=EnergyAxisConfig(min=<Quantity 0.1 TeV>, max=<Quantity 100. TeV>, nbins=5, per_decade=True), axis_custom=EnergyEdgesCustomConfig(edges=[], unit='TeV')), MapAxesConfig(name='energy_true', axis=EnergyAxisConfig(min=<Quantity 0.1 TeV>, max=<Quantity 100. TeV>, nbins=10, per_decade=True), axis_custom=EnergyEdgesCustomConfig(edges=[], unit='TeV'))], from_events_file=True) observation=ObservationsConfig(obs_ids=[23523, 23526], obs_file=PosixPath('.'), obs_time=TimeIntervalsConfig(format=<TimeFormatEnum.iso: 'iso'>, intervals=[TimeRangeConfig(start=<Time object: scale='utc' format='iso' value=1970-01-01 00:00:00.000>, stop=<Time object: scale='utc' format='iso' value=2000-01-01 00:00:00.000>)]), obs_cone=SkyPositionConfig(frame=<FrameEnum.icrs: 'icrs'>, lon=<Angle 0. deg>, lat=<Angle 0. deg>, radius=<Angle 0. deg>), required_irfs=[<RequiredHDUEnum.aeff: 'aeff'>, <RequiredHDUEnum.edisp: 'edisp'>]) background=BackgroundConfig(method=<BackgroundMethodEnum.reflected: 'reflected'>, region_finder_method=<BackgroundRegionFinderMethodEnum.wobble: 'wobble'>, parameters={'n_off_regions': 1}, exclusion=ExclusionRegionsConfig(target_source=True, regions=[RegionsConfig(type='CircleSkyRegion', name='4FGL J0521.7+2112', position=SkyPositionConfig(frame=<FrameEnum.icrs: 'icrs'>, lon=<Angle 0. deg>, lat=<Angle 0. deg>, radius=<Angle 0. deg>), parameters={'region_radius': '0.5 deg'})], exclusion_file=PosixPath('.'))) safe_mask=SafeMaskConfig(methods=[<SafeMaskMethodsEnum.aeff_max: 'aeff-max'>], parameters={'aeff_percent': 10}) on_region=SkyPositionConfig(frame=<FrameEnum.icrs: 'icrs'>, lon=<Angle 83.633 deg>, lat=<Angle 22.02 deg>, radius=<Angle 0.2 deg>) containment_correction=True map_selection=[<MapSelectionEnum.counts: 'counts'>, <MapSelectionEnum.exposure: 'exposure'>, <MapSelectionEnum.edisp: 'edisp'>]\n"
     ]
    }
   ],
   "source": [
    "print(generate_1d_dataset.config_1d_dataset_info)"
   ]
  },
  {
   "cell_type": "code",
   "execution_count": 19,
   "id": "69605232",
   "metadata": {
    "scrolled": true
   },
   "outputs": [
    {
     "name": "stdout",
     "output_type": "stream",
     "text": [
      "source_name='4FGL J0534.5+2201i' sky_position=SkyPositionConfig(frame=<FrameEnum.icrs: 'icrs'>, lon=<Angle 83.6338333 deg>, lat=<Angle 22.0145 deg>, radius=<Angle 0. deg>) use_uniform_position=True models_file=PosixPath('.') add_fov_bkg_model=False use_catalog=CatalogConfig(name='', selection_radius=<Angle 0. deg>, exclusion_radius=<Angle 0. deg>) components=[ModelComponent(name='4FGL J0534.5+2201i', type=<ModelTypeEnum.skymodel: 'SkyModel'>, datasets_names=[''], spectral=SpectralModelConfig(type='LogParabolaSpectralModel', parameters=[ModelParams(name='amplitude', value=1e-06, unit='cm-2 s-1 TeV-1', error=1.5e-07, min=1e-13, max=0.01, frozen=False), ModelParams(name='reference', value=0.015, unit='TeV', error=0.0, min=0.0001, max=100.0, frozen=True), ModelParams(name='alpha', value=1.7, unit='', error=0.1, min=0.5, max=5.0, frozen=False), ModelParams(name='beta', value=0.1, unit='', error=0.001, min=1e-06, max=1.0, frozen=False)], ebl_abs=EBLAbsorptionModel(filename=PosixPath('.'), reference='dominguez', type='EBLAbsorptionNormSpectralModel', redshift=0.0, alpha_norm=1.0)), spatial=SpatialModelConfig(type='', frame=<FrameEnum.icrs: 'icrs'>, parameters=[ModelParams(name='', value=1.0, unit=' ', error=0.1, min=0.1, max=10.0, frozen=True)]))] covariance='None' from_3d=False roi_selection=RoISelectionConfig(roi_radius=<Angle 0. deg>, free_sources=['4FGL J0521.7+2112', '4FGL J0528.3+1817', '4FGL J0536.2+1733', '4FGL J0534.5+2200'])\n"
     ]
    }
   ],
   "source": [
    "print(generate_1d_dataset.config_target)"
   ]
  },
  {
   "cell_type": "code",
   "execution_count": null,
   "id": "a906e73d",
   "metadata": {},
   "outputs": [],
   "source": []
  },
  {
   "cell_type": "markdown",
   "id": "651c1128",
   "metadata": {},
   "source": [
    "### First check for the given file list if they are readable or not."
   ]
  },
  {
   "cell_type": "code",
   "execution_count": 20,
   "id": "5025f9d9",
   "metadata": {},
   "outputs": [
    {
     "name": "stdout",
     "output_type": "stream",
     "text": [
      "CPU times: user 1.05 ms, sys: 67 µs, total: 1.11 ms\n",
      "Wall time: 772 µs\n"
     ]
    }
   ],
   "source": [
    "%%time\n",
    "file_list = {}\n",
    "dl3_info = DL3Files(\n",
    "    generate_1d_dataset.config_1d_dataset_io[0], \n",
    "    log=generate_1d_dataset.log\n",
    ")"
   ]
  },
  {
   "cell_type": "code",
   "execution_count": 21,
   "id": "747ea551",
   "metadata": {},
   "outputs": [
    {
     "data": {
      "text/plain": [
       "<asgardpy.io.input_dl3.DL3Files at 0x7ff7d73dc690>"
      ]
     },
     "execution_count": 21,
     "metadata": {},
     "output_type": "execute_result"
    }
   ],
   "source": [
    "dl3_info"
   ]
  },
  {
   "cell_type": "code",
   "execution_count": 22,
   "id": "5031b3b8",
   "metadata": {
    "scrolled": true
   },
   "outputs": [
    {
     "name": "stdout",
     "output_type": "stream",
     "text": [
      "CPU times: user 3.43 ms, sys: 1.7 ms, total: 5.12 ms\n",
      "Wall time: 3.17 ms\n"
     ]
    }
   ],
   "source": [
    "%%time\n",
    "dl3_info.list_dl3_files()"
   ]
  },
  {
   "cell_type": "code",
   "execution_count": 23,
   "id": "28a64bb3",
   "metadata": {
    "scrolled": true
   },
   "outputs": [
    {
     "name": "stdout",
     "output_type": "stream",
     "text": [
      "Reading from 105 DL3 files\n",
      "/fefs/aswg/workspace/chaitanya.priyadarshi/software/gammapy-tutorials/dataset/hess-dl3-dr1/data/hess_dl3_dr1_obs_id_020136.fits.gz\n",
      "/fefs/aswg/workspace/chaitanya.priyadarshi/software/gammapy-tutorials/dataset/hess-dl3-dr1/data/hess_dl3_dr1_obs_id_020137.fits.gz\n",
      "/fefs/aswg/workspace/chaitanya.priyadarshi/software/gammapy-tutorials/dataset/hess-dl3-dr1/data/hess_dl3_dr1_obs_id_020151.fits.gz\n",
      "/fefs/aswg/workspace/chaitanya.priyadarshi/software/gammapy-tutorials/dataset/hess-dl3-dr1/data/hess_dl3_dr1_obs_id_020275.fits.gz\n",
      "/fefs/aswg/workspace/chaitanya.priyadarshi/software/gammapy-tutorials/dataset/hess-dl3-dr1/data/hess_dl3_dr1_obs_id_020282.fits.gz\n",
      "/fefs/aswg/workspace/chaitanya.priyadarshi/software/gammapy-tutorials/dataset/hess-dl3-dr1/data/hess_dl3_dr1_obs_id_020283.fits.gz\n",
      "/fefs/aswg/workspace/chaitanya.priyadarshi/software/gammapy-tutorials/dataset/hess-dl3-dr1/data/hess_dl3_dr1_obs_id_020301.fits.gz\n",
      "/fefs/aswg/workspace/chaitanya.priyadarshi/software/gammapy-tutorials/dataset/hess-dl3-dr1/data/hess_dl3_dr1_obs_id_020302.fits.gz\n",
      "/fefs/aswg/workspace/chaitanya.priyadarshi/software/gammapy-tutorials/dataset/hess-dl3-dr1/data/hess_dl3_dr1_obs_id_020303.fits.gz\n",
      "/fefs/aswg/workspace/chaitanya.priyadarshi/software/gammapy-tutorials/dataset/hess-dl3-dr1/data/hess_dl3_dr1_obs_id_020322.fits.gz\n",
      "/fefs/aswg/workspace/chaitanya.priyadarshi/software/gammapy-tutorials/dataset/hess-dl3-dr1/data/hess_dl3_dr1_obs_id_020323.fits.gz\n",
      "/fefs/aswg/workspace/chaitanya.priyadarshi/software/gammapy-tutorials/dataset/hess-dl3-dr1/data/hess_dl3_dr1_obs_id_020324.fits.gz\n",
      "/fefs/aswg/workspace/chaitanya.priyadarshi/software/gammapy-tutorials/dataset/hess-dl3-dr1/data/hess_dl3_dr1_obs_id_020325.fits.gz\n",
      "/fefs/aswg/workspace/chaitanya.priyadarshi/software/gammapy-tutorials/dataset/hess-dl3-dr1/data/hess_dl3_dr1_obs_id_020326.fits.gz\n",
      "/fefs/aswg/workspace/chaitanya.priyadarshi/software/gammapy-tutorials/dataset/hess-dl3-dr1/data/hess_dl3_dr1_obs_id_020327.fits.gz\n",
      "/fefs/aswg/workspace/chaitanya.priyadarshi/software/gammapy-tutorials/dataset/hess-dl3-dr1/data/hess_dl3_dr1_obs_id_020339.fits.gz\n",
      "/fefs/aswg/workspace/chaitanya.priyadarshi/software/gammapy-tutorials/dataset/hess-dl3-dr1/data/hess_dl3_dr1_obs_id_020343.fits.gz\n",
      "/fefs/aswg/workspace/chaitanya.priyadarshi/software/gammapy-tutorials/dataset/hess-dl3-dr1/data/hess_dl3_dr1_obs_id_020344.fits.gz\n",
      "/fefs/aswg/workspace/chaitanya.priyadarshi/software/gammapy-tutorials/dataset/hess-dl3-dr1/data/hess_dl3_dr1_obs_id_020345.fits.gz\n",
      "/fefs/aswg/workspace/chaitanya.priyadarshi/software/gammapy-tutorials/dataset/hess-dl3-dr1/data/hess_dl3_dr1_obs_id_020346.fits.gz\n",
      "/fefs/aswg/workspace/chaitanya.priyadarshi/software/gammapy-tutorials/dataset/hess-dl3-dr1/data/hess_dl3_dr1_obs_id_020349.fits.gz\n",
      "/fefs/aswg/workspace/chaitanya.priyadarshi/software/gammapy-tutorials/dataset/hess-dl3-dr1/data/hess_dl3_dr1_obs_id_020350.fits.gz\n",
      "/fefs/aswg/workspace/chaitanya.priyadarshi/software/gammapy-tutorials/dataset/hess-dl3-dr1/data/hess_dl3_dr1_obs_id_020365.fits.gz\n",
      "/fefs/aswg/workspace/chaitanya.priyadarshi/software/gammapy-tutorials/dataset/hess-dl3-dr1/data/hess_dl3_dr1_obs_id_020366.fits.gz\n",
      "/fefs/aswg/workspace/chaitanya.priyadarshi/software/gammapy-tutorials/dataset/hess-dl3-dr1/data/hess_dl3_dr1_obs_id_020367.fits.gz\n",
      "/fefs/aswg/workspace/chaitanya.priyadarshi/software/gammapy-tutorials/dataset/hess-dl3-dr1/data/hess_dl3_dr1_obs_id_020368.fits.gz\n",
      "/fefs/aswg/workspace/chaitanya.priyadarshi/software/gammapy-tutorials/dataset/hess-dl3-dr1/data/hess_dl3_dr1_obs_id_020396.fits.gz\n",
      "/fefs/aswg/workspace/chaitanya.priyadarshi/software/gammapy-tutorials/dataset/hess-dl3-dr1/data/hess_dl3_dr1_obs_id_020397.fits.gz\n",
      "/fefs/aswg/workspace/chaitanya.priyadarshi/software/gammapy-tutorials/dataset/hess-dl3-dr1/data/hess_dl3_dr1_obs_id_020421.fits.gz\n",
      "/fefs/aswg/workspace/chaitanya.priyadarshi/software/gammapy-tutorials/dataset/hess-dl3-dr1/data/hess_dl3_dr1_obs_id_020422.fits.gz\n",
      "/fefs/aswg/workspace/chaitanya.priyadarshi/software/gammapy-tutorials/dataset/hess-dl3-dr1/data/hess_dl3_dr1_obs_id_020517.fits.gz\n",
      "/fefs/aswg/workspace/chaitanya.priyadarshi/software/gammapy-tutorials/dataset/hess-dl3-dr1/data/hess_dl3_dr1_obs_id_020518.fits.gz\n",
      "/fefs/aswg/workspace/chaitanya.priyadarshi/software/gammapy-tutorials/dataset/hess-dl3-dr1/data/hess_dl3_dr1_obs_id_020519.fits.gz\n",
      "/fefs/aswg/workspace/chaitanya.priyadarshi/software/gammapy-tutorials/dataset/hess-dl3-dr1/data/hess_dl3_dr1_obs_id_020521.fits.gz\n",
      "/fefs/aswg/workspace/chaitanya.priyadarshi/software/gammapy-tutorials/dataset/hess-dl3-dr1/data/hess_dl3_dr1_obs_id_020561.fits.gz\n",
      "/fefs/aswg/workspace/chaitanya.priyadarshi/software/gammapy-tutorials/dataset/hess-dl3-dr1/data/hess_dl3_dr1_obs_id_020734.fits.gz\n",
      "/fefs/aswg/workspace/chaitanya.priyadarshi/software/gammapy-tutorials/dataset/hess-dl3-dr1/data/hess_dl3_dr1_obs_id_020898.fits.gz\n",
      "/fefs/aswg/workspace/chaitanya.priyadarshi/software/gammapy-tutorials/dataset/hess-dl3-dr1/data/hess_dl3_dr1_obs_id_020899.fits.gz\n",
      "/fefs/aswg/workspace/chaitanya.priyadarshi/software/gammapy-tutorials/dataset/hess-dl3-dr1/data/hess_dl3_dr1_obs_id_020900.fits.gz\n",
      "/fefs/aswg/workspace/chaitanya.priyadarshi/software/gammapy-tutorials/dataset/hess-dl3-dr1/data/hess_dl3_dr1_obs_id_020915.fits.gz\n",
      "/fefs/aswg/workspace/chaitanya.priyadarshi/software/gammapy-tutorials/dataset/hess-dl3-dr1/data/hess_dl3_dr1_obs_id_021613.fits.gz\n",
      "/fefs/aswg/workspace/chaitanya.priyadarshi/software/gammapy-tutorials/dataset/hess-dl3-dr1/data/hess_dl3_dr1_obs_id_021753.fits.gz\n",
      "/fefs/aswg/workspace/chaitanya.priyadarshi/software/gammapy-tutorials/dataset/hess-dl3-dr1/data/hess_dl3_dr1_obs_id_021807.fits.gz\n",
      "/fefs/aswg/workspace/chaitanya.priyadarshi/software/gammapy-tutorials/dataset/hess-dl3-dr1/data/hess_dl3_dr1_obs_id_021824.fits.gz\n",
      "/fefs/aswg/workspace/chaitanya.priyadarshi/software/gammapy-tutorials/dataset/hess-dl3-dr1/data/hess_dl3_dr1_obs_id_021851.fits.gz\n",
      "/fefs/aswg/workspace/chaitanya.priyadarshi/software/gammapy-tutorials/dataset/hess-dl3-dr1/data/hess_dl3_dr1_obs_id_022022.fits.gz\n",
      "/fefs/aswg/workspace/chaitanya.priyadarshi/software/gammapy-tutorials/dataset/hess-dl3-dr1/data/hess_dl3_dr1_obs_id_022593.fits.gz\n",
      "/fefs/aswg/workspace/chaitanya.priyadarshi/software/gammapy-tutorials/dataset/hess-dl3-dr1/data/hess_dl3_dr1_obs_id_022997.fits.gz\n",
      "/fefs/aswg/workspace/chaitanya.priyadarshi/software/gammapy-tutorials/dataset/hess-dl3-dr1/data/hess_dl3_dr1_obs_id_023040.fits.gz\n",
      "/fefs/aswg/workspace/chaitanya.priyadarshi/software/gammapy-tutorials/dataset/hess-dl3-dr1/data/hess_dl3_dr1_obs_id_023077.fits.gz\n",
      "/fefs/aswg/workspace/chaitanya.priyadarshi/software/gammapy-tutorials/dataset/hess-dl3-dr1/data/hess_dl3_dr1_obs_id_023143.fits.gz\n",
      "/fefs/aswg/workspace/chaitanya.priyadarshi/software/gammapy-tutorials/dataset/hess-dl3-dr1/data/hess_dl3_dr1_obs_id_023246.fits.gz\n",
      "/fefs/aswg/workspace/chaitanya.priyadarshi/software/gammapy-tutorials/dataset/hess-dl3-dr1/data/hess_dl3_dr1_obs_id_023523.fits.gz\n",
      "/fefs/aswg/workspace/chaitanya.priyadarshi/software/gammapy-tutorials/dataset/hess-dl3-dr1/data/hess_dl3_dr1_obs_id_023526.fits.gz\n",
      "/fefs/aswg/workspace/chaitanya.priyadarshi/software/gammapy-tutorials/dataset/hess-dl3-dr1/data/hess_dl3_dr1_obs_id_023559.fits.gz\n",
      "/fefs/aswg/workspace/chaitanya.priyadarshi/software/gammapy-tutorials/dataset/hess-dl3-dr1/data/hess_dl3_dr1_obs_id_023573.fits.gz\n",
      "/fefs/aswg/workspace/chaitanya.priyadarshi/software/gammapy-tutorials/dataset/hess-dl3-dr1/data/hess_dl3_dr1_obs_id_023592.fits.gz\n",
      "/fefs/aswg/workspace/chaitanya.priyadarshi/software/gammapy-tutorials/dataset/hess-dl3-dr1/data/hess_dl3_dr1_obs_id_023635.fits.gz\n",
      "/fefs/aswg/workspace/chaitanya.priyadarshi/software/gammapy-tutorials/dataset/hess-dl3-dr1/data/hess_dl3_dr1_obs_id_023651.fits.gz\n",
      "/fefs/aswg/workspace/chaitanya.priyadarshi/software/gammapy-tutorials/dataset/hess-dl3-dr1/data/hess_dl3_dr1_obs_id_023736.fits.gz\n",
      "/fefs/aswg/workspace/chaitanya.priyadarshi/software/gammapy-tutorials/dataset/hess-dl3-dr1/data/hess_dl3_dr1_obs_id_025345.fits.gz\n",
      "/fefs/aswg/workspace/chaitanya.priyadarshi/software/gammapy-tutorials/dataset/hess-dl3-dr1/data/hess_dl3_dr1_obs_id_025443.fits.gz\n",
      "/fefs/aswg/workspace/chaitanya.priyadarshi/software/gammapy-tutorials/dataset/hess-dl3-dr1/data/hess_dl3_dr1_obs_id_025511.fits.gz\n",
      "/fefs/aswg/workspace/chaitanya.priyadarshi/software/gammapy-tutorials/dataset/hess-dl3-dr1/data/hess_dl3_dr1_obs_id_026077.fits.gz\n",
      "/fefs/aswg/workspace/chaitanya.priyadarshi/software/gammapy-tutorials/dataset/hess-dl3-dr1/data/hess_dl3_dr1_obs_id_026791.fits.gz\n",
      "/fefs/aswg/workspace/chaitanya.priyadarshi/software/gammapy-tutorials/dataset/hess-dl3-dr1/data/hess_dl3_dr1_obs_id_026827.fits.gz\n",
      "/fefs/aswg/workspace/chaitanya.priyadarshi/software/gammapy-tutorials/dataset/hess-dl3-dr1/data/hess_dl3_dr1_obs_id_026850.fits.gz\n",
      "/fefs/aswg/workspace/chaitanya.priyadarshi/software/gammapy-tutorials/dataset/hess-dl3-dr1/data/hess_dl3_dr1_obs_id_026964.fits.gz\n",
      "/fefs/aswg/workspace/chaitanya.priyadarshi/software/gammapy-tutorials/dataset/hess-dl3-dr1/data/hess_dl3_dr1_obs_id_027044.fits.gz\n",
      "/fefs/aswg/workspace/chaitanya.priyadarshi/software/gammapy-tutorials/dataset/hess-dl3-dr1/data/hess_dl3_dr1_obs_id_027121.fits.gz\n",
      "/fefs/aswg/workspace/chaitanya.priyadarshi/software/gammapy-tutorials/dataset/hess-dl3-dr1/data/hess_dl3_dr1_obs_id_027939.fits.gz\n",
      "/fefs/aswg/workspace/chaitanya.priyadarshi/software/gammapy-tutorials/dataset/hess-dl3-dr1/data/hess_dl3_dr1_obs_id_027987.fits.gz\n",
      "/fefs/aswg/workspace/chaitanya.priyadarshi/software/gammapy-tutorials/dataset/hess-dl3-dr1/data/hess_dl3_dr1_obs_id_028341.fits.gz\n",
      "/fefs/aswg/workspace/chaitanya.priyadarshi/software/gammapy-tutorials/dataset/hess-dl3-dr1/data/hess_dl3_dr1_obs_id_028967.fits.gz\n",
      "/fefs/aswg/workspace/chaitanya.priyadarshi/software/gammapy-tutorials/dataset/hess-dl3-dr1/data/hess_dl3_dr1_obs_id_028981.fits.gz\n",
      "/fefs/aswg/workspace/chaitanya.priyadarshi/software/gammapy-tutorials/dataset/hess-dl3-dr1/data/hess_dl3_dr1_obs_id_029024.fits.gz\n",
      "/fefs/aswg/workspace/chaitanya.priyadarshi/software/gammapy-tutorials/dataset/hess-dl3-dr1/data/hess_dl3_dr1_obs_id_029072.fits.gz\n",
      "/fefs/aswg/workspace/chaitanya.priyadarshi/software/gammapy-tutorials/dataset/hess-dl3-dr1/data/hess_dl3_dr1_obs_id_029118.fits.gz\n",
      "/fefs/aswg/workspace/chaitanya.priyadarshi/software/gammapy-tutorials/dataset/hess-dl3-dr1/data/hess_dl3_dr1_obs_id_029177.fits.gz\n",
      "/fefs/aswg/workspace/chaitanya.priyadarshi/software/gammapy-tutorials/dataset/hess-dl3-dr1/data/hess_dl3_dr1_obs_id_029433.fits.gz\n",
      "/fefs/aswg/workspace/chaitanya.priyadarshi/software/gammapy-tutorials/dataset/hess-dl3-dr1/data/hess_dl3_dr1_obs_id_029487.fits.gz\n",
      "/fefs/aswg/workspace/chaitanya.priyadarshi/software/gammapy-tutorials/dataset/hess-dl3-dr1/data/hess_dl3_dr1_obs_id_029526.fits.gz\n",
      "/fefs/aswg/workspace/chaitanya.priyadarshi/software/gammapy-tutorials/dataset/hess-dl3-dr1/data/hess_dl3_dr1_obs_id_029556.fits.gz\n",
      "/fefs/aswg/workspace/chaitanya.priyadarshi/software/gammapy-tutorials/dataset/hess-dl3-dr1/data/hess_dl3_dr1_obs_id_029683.fits.gz\n",
      "/fefs/aswg/workspace/chaitanya.priyadarshi/software/gammapy-tutorials/dataset/hess-dl3-dr1/data/hess_dl3_dr1_obs_id_033787.fits.gz\n",
      "/fefs/aswg/workspace/chaitanya.priyadarshi/software/gammapy-tutorials/dataset/hess-dl3-dr1/data/hess_dl3_dr1_obs_id_033788.fits.gz\n",
      "/fefs/aswg/workspace/chaitanya.priyadarshi/software/gammapy-tutorials/dataset/hess-dl3-dr1/data/hess_dl3_dr1_obs_id_033789.fits.gz\n",
      "/fefs/aswg/workspace/chaitanya.priyadarshi/software/gammapy-tutorials/dataset/hess-dl3-dr1/data/hess_dl3_dr1_obs_id_033790.fits.gz\n",
      "/fefs/aswg/workspace/chaitanya.priyadarshi/software/gammapy-tutorials/dataset/hess-dl3-dr1/data/hess_dl3_dr1_obs_id_033791.fits.gz\n",
      "/fefs/aswg/workspace/chaitanya.priyadarshi/software/gammapy-tutorials/dataset/hess-dl3-dr1/data/hess_dl3_dr1_obs_id_033792.fits.gz\n",
      "/fefs/aswg/workspace/chaitanya.priyadarshi/software/gammapy-tutorials/dataset/hess-dl3-dr1/data/hess_dl3_dr1_obs_id_033793.fits.gz\n",
      "/fefs/aswg/workspace/chaitanya.priyadarshi/software/gammapy-tutorials/dataset/hess-dl3-dr1/data/hess_dl3_dr1_obs_id_033794.fits.gz\n",
      "/fefs/aswg/workspace/chaitanya.priyadarshi/software/gammapy-tutorials/dataset/hess-dl3-dr1/data/hess_dl3_dr1_obs_id_033795.fits.gz\n",
      "/fefs/aswg/workspace/chaitanya.priyadarshi/software/gammapy-tutorials/dataset/hess-dl3-dr1/data/hess_dl3_dr1_obs_id_033796.fits.gz\n",
      "/fefs/aswg/workspace/chaitanya.priyadarshi/software/gammapy-tutorials/dataset/hess-dl3-dr1/data/hess_dl3_dr1_obs_id_033797.fits.gz\n",
      "/fefs/aswg/workspace/chaitanya.priyadarshi/software/gammapy-tutorials/dataset/hess-dl3-dr1/data/hess_dl3_dr1_obs_id_033798.fits.gz\n",
      "/fefs/aswg/workspace/chaitanya.priyadarshi/software/gammapy-tutorials/dataset/hess-dl3-dr1/data/hess_dl3_dr1_obs_id_033799.fits.gz\n",
      "/fefs/aswg/workspace/chaitanya.priyadarshi/software/gammapy-tutorials/dataset/hess-dl3-dr1/data/hess_dl3_dr1_obs_id_033800.fits.gz\n",
      "/fefs/aswg/workspace/chaitanya.priyadarshi/software/gammapy-tutorials/dataset/hess-dl3-dr1/data/hess_dl3_dr1_obs_id_033801.fits.gz\n",
      "/fefs/aswg/workspace/chaitanya.priyadarshi/software/gammapy-tutorials/dataset/hess-dl3-dr1/data/hess_dl3_dr1_obs_id_047802.fits.gz\n",
      "/fefs/aswg/workspace/chaitanya.priyadarshi/software/gammapy-tutorials/dataset/hess-dl3-dr1/data/hess_dl3_dr1_obs_id_047803.fits.gz\n",
      "/fefs/aswg/workspace/chaitanya.priyadarshi/software/gammapy-tutorials/dataset/hess-dl3-dr1/data/hess_dl3_dr1_obs_id_047804.fits.gz\n",
      "/fefs/aswg/workspace/chaitanya.priyadarshi/software/gammapy-tutorials/dataset/hess-dl3-dr1/data/hess_dl3_dr1_obs_id_047827.fits.gz\n",
      "/fefs/aswg/workspace/chaitanya.priyadarshi/software/gammapy-tutorials/dataset/hess-dl3-dr1/data/hess_dl3_dr1_obs_id_047828.fits.gz\n",
      "/fefs/aswg/workspace/chaitanya.priyadarshi/software/gammapy-tutorials/dataset/hess-dl3-dr1/data/hess_dl3_dr1_obs_id_047829.fits.gz\n"
     ]
    }
   ],
   "source": [
    "print(f\"Reading from {len(dl3_info.events_files)} DL3 files\")\n",
    "for e in dl3_info.events_files:\n",
    "    print(e)"
   ]
  },
  {
   "cell_type": "code",
   "execution_count": null,
   "id": "5ef243f9",
   "metadata": {},
   "outputs": [],
   "source": []
  },
  {
   "cell_type": "markdown",
   "id": "14d8aa51",
   "metadata": {},
   "source": [
    "## Get Observations object"
   ]
  },
  {
   "cell_type": "code",
   "execution_count": 24,
   "id": "94ee8c05",
   "metadata": {},
   "outputs": [],
   "source": [
    "datastore = DataStore.from_dir(generate_1d_dataset.config_1d_dataset_io[0].input_dir)"
   ]
  },
  {
   "cell_type": "code",
   "execution_count": 25,
   "id": "773d7d3b",
   "metadata": {
    "scrolled": true
   },
   "outputs": [
    {
     "data": {
      "text/html": [
       "<div><i>ObservationTable length=105</i>\n",
       "<table id=\"table140705947997392\" class=\"table-striped table-bordered table-condensed\">\n",
       "<thead><tr><th>OBS_ID</th><th>RA_PNT</th><th>DEC_PNT</th><th>GLON_PNT</th><th>GLAT_PNT</th><th>ZEN_PNT</th><th>ALT_PNT</th><th>AZ_PNT</th><th>OBJECT</th><th>RA_OBJ</th><th>DEC_OBJ</th><th>OFFSET_OBJ</th><th>ONTIME</th><th>LIVETIME</th><th>DEADC</th><th>TSTART</th><th>TSTOP</th><th>DATE-OBS</th><th>TIME-OBS</th><th>DATE-END</th><th>TIME-END</th><th>N_TELS</th><th>TELLIST</th><th>QUALITY</th><th>MUONEFF</th><th>EVENT_COUNT</th><th>TARGET_NAME</th><th>TARGET_TAG</th><th>TARGET_OFFSET</th><th>SAFE_ENERGY_LO</th><th>SAFE_ENERGY_HI</th></tr></thead>\n",
       "<thead><tr><th></th><th>deg</th><th>deg</th><th>deg</th><th>deg</th><th>deg</th><th>deg</th><th>deg</th><th></th><th>deg</th><th>deg</th><th>deg</th><th>s</th><th>s</th><th></th><th>s</th><th>s</th><th></th><th></th><th></th><th></th><th></th><th></th><th></th><th></th><th></th><th></th><th></th><th>deg</th><th>TeV</th><th>TeV</th></tr></thead>\n",
       "<thead><tr><th>int64</th><th>float32</th><th>float32</th><th>float32</th><th>float32</th><th>float32</th><th>float32</th><th>float32</th><th>bytes18</th><th>float32</th><th>float32</th><th>float32</th><th>float32</th><th>float32</th><th>float32</th><th>float64</th><th>float64</th><th>bytes10</th><th>bytes12</th><th>bytes10</th><th>bytes12</th><th>int64</th><th>bytes7</th><th>int64</th><th>float32</th><th>int64</th><th>bytes21</th><th>bytes14</th><th>float32</th><th>float32</th><th>float32</th></tr></thead>\n",
       "<tr><td>20136</td><td>228.6125</td><td>-58.771667</td><td>320.56754</td><td>-0.8857012</td><td>38.512962</td><td>51.487038</td><td>195.73102</td><td>MSH15-52</td><td>228.6125</td><td>-59.271667</td><td>0.5</td><td>1682.0</td><td>1521.0269</td><td>0.9042966</td><td>101962602.0</td><td>101964284.0</td><td>2004-03-26</td><td>02:57:46.184</td><td>2004-03-26</td><td>03:25:48.184</td><td>4</td><td>1,2,3,4</td><td>0</td><td>1.2132596</td><td>11243</td><td>MSH 15-52</td><td>msh1552</td><td>0.38821736</td><td>0.40738028</td><td>100.0</td></tr>\n",
       "<tr><td>20137</td><td>228.6125</td><td>-59.771667</td><td>320.04724</td><td>-1.7397733</td><td>40.21616</td><td>49.78384</td><td>199.6482</td><td>MSH15-52</td><td>228.6125</td><td>-59.271667</td><td>0.5</td><td>902.0</td><td>819.2054</td><td>0.90821</td><td>101964441.0</td><td>101965343.0</td><td>2004-03-26</td><td>03:28:25.184</td><td>2004-03-26</td><td>03:43:27.184</td><td>4</td><td>1,2,3,4</td><td>0</td><td>1.2139559</td><td>5693</td><td>MSH 15-52</td><td>msh1552</td><td>0.6156251</td><td>0.40738028</td><td>100.0</td></tr>\n",
       "<tr><td>20151</td><td>228.6125</td><td>-58.771667</td><td>320.56754</td><td>-0.8857012</td><td>37.164658</td><td>52.835342</td><td>190.97171</td><td>custom</td><td>228.6125</td><td>-59.271667</td><td>0.5</td><td>1683.0</td><td>1530.479</td><td>0.9093755</td><td>102047232.0</td><td>102048915.0</td><td>2004-03-27</td><td>02:28:16.184</td><td>2004-03-27</td><td>02:56:19.184</td><td>4</td><td>1,2,3,4</td><td>0</td><td>1.2214733</td><td>10722</td><td>MSH 15-52</td><td>msh1552</td><td>0.38821736</td><td>0.40738028</td><td>100.0</td></tr>\n",
       "<tr><td>20275</td><td>187.27792</td><td>2.552389</td><td>289.7155</td><td>64.849686</td><td>36.18243</td><td>53.81757</td><td>49.144917</td><td>3C 273</td><td>187.27792</td><td>2.052389</td><td>0.5</td><td>1683.0</td><td>1525.8447</td><td>0.90662193</td><td>103665036.0</td><td>103666719.0</td><td>2004-04-14</td><td>19:51:40.184</td><td>2004-04-14</td><td>20:19:43.184</td><td>4</td><td>1,2,3,4</td><td>0</td><td>1.121256</td><td>10646</td><td>Off data</td><td>offdata</td><td>--</td><td>0.33113113</td><td>100.0</td></tr>\n",
       "<tr><td>20282</td><td>228.6125</td><td>-58.771667</td><td>320.56754</td><td>-0.8857012</td><td>37.13134</td><td>52.86866</td><td>169.21602</td><td>MSH 15-5-02</td><td>228.6125</td><td>-59.271667</td><td>0.5</td><td>1687.0</td><td>1543.3231</td><td>0.9148329</td><td>103678269.0</td><td>103679956.0</td><td>2004-04-14</td><td>23:32:13.184</td><td>2004-04-15</td><td>00:00:20.184</td><td>4</td><td>1,2,3,4</td><td>0</td><td>1.1495326</td><td>11063</td><td>MSH 15-52</td><td>msh1552</td><td>0.38821736</td><td>0.40738028</td><td>100.0</td></tr>\n",
       "<tr><td>20283</td><td>228.6125</td><td>-59.771667</td><td>320.04724</td><td>-1.7397733</td><td>36.221436</td><td>53.778564</td><td>175.77263</td><td>MSH 15-5-02</td><td>228.6125</td><td>-59.271667</td><td>0.5</td><td>1683.0</td><td>1547.8253</td><td>0.9196823</td><td>103680087.0</td><td>103681770.0</td><td>2004-04-15</td><td>00:02:31.184</td><td>2004-04-15</td><td>00:30:34.184</td><td>4</td><td>1,2,3,4</td><td>0</td><td>1.1512518</td><td>7628</td><td>MSH 15-52</td><td>msh1552</td><td>0.6156251</td><td>0.3801894</td><td>100.0</td></tr>\n",
       "<tr><td>20301</td><td>228.6125</td><td>-58.771667</td><td>320.56754</td><td>-0.8857012</td><td>36.839905</td><td>53.160095</td><td>171.07347</td><td>MSH 15-5-02</td><td>228.6125</td><td>-59.271667</td><td>0.5</td><td>1683.0</td><td>1534.0626</td><td>0.9115048</td><td>103764878.0</td><td>103766561.0</td><td>2004-04-15</td><td>23:35:42.184</td><td>2004-04-16</td><td>00:03:45.184</td><td>4</td><td>1,2,3,4</td><td>0</td><td>1.1503073</td><td>11624</td><td>MSH 15-52</td><td>msh1552</td><td>0.38821736</td><td>0.40738028</td><td>100.0</td></tr>\n",
       "<tr><td>20302</td><td>228.6125</td><td>-59.771667</td><td>320.04724</td><td>-1.7397733</td><td>36.11632</td><td>53.88368</td><td>177.10521</td><td>MSH 15-5-02</td><td>228.6125</td><td>-59.271667</td><td>0.5</td><td>1682.0</td><td>1535.3478</td><td>0.9128108</td><td>103766698.0</td><td>103768380.0</td><td>2004-04-16</td><td>00:06:02.184</td><td>2004-04-16</td><td>00:34:04.184</td><td>4</td><td>1,2,3,4</td><td>0</td><td>1.1493496</td><td>11794</td><td>MSH 15-52</td><td>msh1552</td><td>0.6156251</td><td>0.3801894</td><td>100.0</td></tr>\n",
       "<tr><td>20303</td><td>228.6125</td><td>-58.771667</td><td>320.56754</td><td>-0.8857012</td><td>36.186012</td><td>53.813988</td><td>183.91011</td><td>MSH 15-5-02</td><td>228.6125</td><td>-59.271667</td><td>0.5</td><td>1682.0</td><td>1535.1606</td><td>0.9126996</td><td>103768520.0</td><td>103770202.0</td><td>2004-04-16</td><td>00:36:24.184</td><td>2004-04-16</td><td>01:04:26.184</td><td>4</td><td>1,2,3,4</td><td>0</td><td>1.1557641</td><td>11803</td><td>MSH 15-52</td><td>msh1552</td><td>0.38821736</td><td>0.3801894</td><td>100.0</td></tr>\n",
       "<tr><td>20322</td><td>228.6125</td><td>-59.771667</td><td>320.04724</td><td>-1.7397733</td><td>36.913094</td><td>53.086906</td><td>170.6292</td><td>MSH 15-5-02</td><td>228.6125</td><td>-59.271667</td><td>0.5</td><td>1682.0</td><td>1529.7925</td><td>0.909508</td><td>103850925.0</td><td>103852607.0</td><td>2004-04-16</td><td>23:29:49.184</td><td>2004-04-16</td><td>23:57:51.184</td><td>4</td><td>1,2,3,4</td><td>0</td><td>1.1445023</td><td>12925</td><td>MSH 15-52</td><td>msh1552</td><td>0.6156251</td><td>0.40738028</td><td>100.0</td></tr>\n",
       "<tr><td>20323</td><td>228.6125</td><td>-58.771667</td><td>320.56754</td><td>-0.8857012</td><td>36.139618</td><td>53.860382</td><td>176.67052</td><td>MSH 15-5-02</td><td>228.6125</td><td>-59.271667</td><td>0.5</td><td>1682.0</td><td>1530.1174</td><td>0.90970117</td><td>103852744.0</td><td>103854426.0</td><td>2004-04-17</td><td>00:00:08.184</td><td>2004-04-17</td><td>00:28:10.184</td><td>4</td><td>1,2,3,4</td><td>0</td><td>1.153524</td><td>13367</td><td>MSH 15-52</td><td>msh1552</td><td>0.38821736</td><td>0.3801894</td><td>100.0</td></tr>\n",
       "<tr><td>20324</td><td>228.6125</td><td>-59.771667</td><td>320.04724</td><td>-1.7397733</td><td>36.156063</td><td>53.843937</td><td>183.57172</td><td>MSH 15-5-02</td><td>228.6125</td><td>-59.271667</td><td>0.5</td><td>1683.0</td><td>1527.8722</td><td>0.9078266</td><td>103854560.0</td><td>103856243.0</td><td>2004-04-17</td><td>00:30:24.184</td><td>2004-04-17</td><td>00:58:27.184</td><td>4</td><td>1,2,3,4</td><td>0</td><td>1.14874</td><td>12822</td><td>MSH 15-52</td><td>msh1552</td><td>0.6156251</td><td>0.3801894</td><td>100.0</td></tr>\n",
       "<tr><td>20325</td><td>228.6125</td><td>-58.771667</td><td>320.56754</td><td>-0.8857012</td><td>36.956974</td><td>53.043026</td><td>189.65836</td><td>MSH 15-5-02</td><td>228.6125</td><td>-59.271667</td><td>0.5</td><td>1682.0</td><td>1529.3948</td><td>0.9092716</td><td>103856373.0</td><td>103858055.0</td><td>2004-04-17</td><td>01:00:37.184</td><td>2004-04-17</td><td>01:28:39.184</td><td>4</td><td>1,2,3,4</td><td>0</td><td>1.155575</td><td>12878</td><td>MSH 15-52</td><td>msh1552</td><td>0.38821736</td><td>0.40738028</td><td>100.0</td></tr>\n",
       "<tr><td>20326</td><td>259.29852</td><td>-39.762222</td><td>347.74036</td><td>-1.0417831</td><td>18.712194</td><td>71.2878</td><td>154.81943</td><td>RXJ 1713.7-3946</td><td>258.3879</td><td>-39.762222</td><td>0.6999909</td><td>1683.0</td><td>1500.009</td><td>0.891271</td><td>103858277.0</td><td>103859960.0</td><td>2004-04-17</td><td>01:32:21.184</td><td>2004-04-17</td><td>02:00:24.184</td><td>4</td><td>1,2,3,4</td><td>0</td><td>1.1412385</td><td>16880</td><td>RX J1713.7-3946</td><td>rxj1713</td><td>0.7252947</td><td>0.23442288</td><td>100.0</td></tr>\n",
       "<tr><td>20327</td><td>257.47733</td><td>-39.762222</td><td>346.91946</td><td>0.092252225</td><td>16.734882</td><td>73.265114</td><td>173.0282</td><td>RXJ 1713.7-3946</td><td>258.3879</td><td>-39.762222</td><td>0.69996744</td><td>1683.0</td><td>1497.074</td><td>0.889527</td><td>103860109.0</td><td>103861792.0</td><td>2004-04-17</td><td>02:02:53.184</td><td>2004-04-17</td><td>02:30:56.184</td><td>4</td><td>1,2,3,4</td><td>0</td><td>1.1392112</td><td>16995</td><td>RX J1713.7-3946</td><td>rxj1713</td><td>0.6746846</td><td>0.20417379</td><td>100.0</td></tr>\n",
       "<tr><td>...</td><td>...</td><td>...</td><td>...</td><td>...</td><td>...</td><td>...</td><td>...</td><td>...</td><td>...</td><td>...</td><td>...</td><td>...</td><td>...</td><td>...</td><td>...</td><td>...</td><td>...</td><td>...</td><td>...</td><td>...</td><td>...</td><td>...</td><td>...</td><td>...</td><td>...</td><td>...</td><td>...</td><td>...</td><td>...</td><td>...</td></tr>\n",
       "<tr><td>33792</td><td>329.13797</td><td>-30.225555</td><td>17.639944</td><td>-51.748703</td><td>17.864033</td><td>72.13597</td><td>116.916855</td><td>PKS 2155-304</td><td>329.71667</td><td>-30.225555</td><td>0.50002956</td><td>1688.0</td><td>1562.3591</td><td>0.9255682</td><td>175906576.0</td><td>175908264.0</td><td>2006-07-29</td><td>22:57:20.184</td><td>2006-07-29</td><td>23:25:28.184</td><td>4</td><td>1,2,3,4</td><td>0</td><td>1.0222732</td><td>10926</td><td>PKS 2155-304 (flare)</td><td>pks2155_flare</td><td>0.5002569</td><td>0.30902955</td><td>100.0</td></tr>\n",
       "<tr><td>33793</td><td>330.29538</td><td>-30.225555</td><td>17.818897</td><td>-52.742733</td><td>11.910335</td><td>78.08967</td><td>128.6549</td><td>PKS 2155-304</td><td>329.71667</td><td>-30.225555</td><td>0.50002956</td><td>1689.0</td><td>1566.6709</td><td>0.927573</td><td>175908409.0</td><td>175910098.0</td><td>2006-07-29</td><td>23:27:53.184</td><td>2006-07-29</td><td>23:56:02.184</td><td>4</td><td>1,2,3,4</td><td>0</td><td>1.0103153</td><td>10781</td><td>PKS 2155-304 (flare)</td><td>pks2155_flare</td><td>0.4998021</td><td>0.28840315</td><td>100.0</td></tr>\n",
       "<tr><td>33794</td><td>329.71667</td><td>-30.725555</td><td>16.917807</td><td>-52.297615</td><td>7.234592</td><td>82.76541</td><td>171.94302</td><td>PKS 2155-304</td><td>329.71667</td><td>-30.225555</td><td>0.5</td><td>1688.0</td><td>1564.7129</td><td>0.9269626</td><td>175910705.0</td><td>175912393.0</td><td>2006-07-30</td><td>00:06:09.184</td><td>2006-07-30</td><td>00:34:17.184</td><td>4</td><td>1,2,3,4</td><td>0</td><td>1.0147448</td><td>11024</td><td>PKS 2155-304 (flare)</td><td>pks2155_flare</td><td>0.49996707</td><td>0.25118864</td><td>100.0</td></tr>\n",
       "<tr><td>33795</td><td>329.71667</td><td>-29.725555</td><td>18.541153</td><td>-52.188046</td><td>9.155867</td><td>80.84413</td><td>217.54015</td><td>PKS 2155-304</td><td>329.71667</td><td>-30.225555</td><td>0.5</td><td>1689.0</td><td>1563.0264</td><td>0.9254153</td><td>175912554.0</td><td>175914243.0</td><td>2006-07-30</td><td>00:36:58.184</td><td>2006-07-30</td><td>01:05:07.184</td><td>4</td><td>1,2,3,4</td><td>0</td><td>1.0132756</td><td>10589</td><td>PKS 2155-304 (flare)</td><td>pks2155_flare</td><td>0.500033</td><td>0.25118864</td><td>100.0</td></tr>\n",
       "<tr><td>33796</td><td>329.13797</td><td>-30.225555</td><td>17.639944</td><td>-51.748703</td><td>14.41577</td><td>75.58423</td><td>237.83025</td><td>PKS 2155-304</td><td>329.71667</td><td>-30.225555</td><td>0.50002956</td><td>1689.0</td><td>1563.7349</td><td>0.9258347</td><td>175914378.0</td><td>175916067.0</td><td>2006-07-30</td><td>01:07:22.184</td><td>2006-07-30</td><td>01:35:31.184</td><td>4</td><td>1,2,3,4</td><td>0</td><td>1.0193447</td><td>10672</td><td>PKS 2155-304 (flare)</td><td>pks2155_flare</td><td>0.5002569</td><td>0.28840315</td><td>100.0</td></tr>\n",
       "<tr><td>33797</td><td>330.29538</td><td>-30.225555</td><td>17.818897</td><td>-52.742733</td><td>20.622698</td><td>69.377304</td><td>245.45888</td><td>PKS 2155-304</td><td>329.71667</td><td>-30.225555</td><td>0.50002956</td><td>1689.0</td><td>1567.5194</td><td>0.9280754</td><td>175916208.0</td><td>175917897.0</td><td>2006-07-30</td><td>01:37:52.184</td><td>2006-07-30</td><td>02:06:01.184</td><td>4</td><td>1,2,3,4</td><td>0</td><td>1.0141387</td><td>9853</td><td>PKS 2155-304 (flare)</td><td>pks2155_flare</td><td>0.4998021</td><td>0.30902955</td><td>100.0</td></tr>\n",
       "<tr><td>33798</td><td>329.71667</td><td>-30.725555</td><td>16.917807</td><td>-52.297615</td><td>27.104174</td><td>62.89583</td><td>249.21857</td><td>PKS 2155-304</td><td>329.71667</td><td>-30.225555</td><td>0.5</td><td>1689.0</td><td>1572.3356</td><td>0.9309269</td><td>175918038.0</td><td>175919727.0</td><td>2006-07-30</td><td>02:08:22.184</td><td>2006-07-30</td><td>02:36:31.184</td><td>4</td><td>1,2,3,4</td><td>0</td><td>1.0134364</td><td>8986</td><td>PKS 2155-304 (flare)</td><td>pks2155_flare</td><td>0.49996707</td><td>0.3801894</td><td>100.0</td></tr>\n",
       "<tr><td>33799</td><td>329.71667</td><td>-29.725555</td><td>18.541153</td><td>-52.188046</td><td>33.710506</td><td>56.289494</td><td>250.0</td><td>PKS 2155-304</td><td>329.71667</td><td>-30.225555</td><td>0.5</td><td>1689.0</td><td>1580.9498</td><td>0.93602717</td><td>175919876.0</td><td>175921565.0</td><td>2006-07-30</td><td>02:39:00.184</td><td>2006-07-30</td><td>03:07:09.184</td><td>4</td><td>1,2,3,4</td><td>0</td><td>1.0172818</td><td>8061</td><td>PKS 2155-304 (flare)</td><td>pks2155_flare</td><td>0.500033</td><td>0.43651584</td><td>100.0</td></tr>\n",
       "<tr><td>33800</td><td>329.13797</td><td>-30.225555</td><td>17.639944</td><td>-51.748703</td><td>40.261627</td><td>49.738373</td><td>250.0</td><td>PKS 2155-304</td><td>329.71667</td><td>-30.225555</td><td>0.50002956</td><td>1689.0</td><td>1591.7136</td><td>0.9424</td><td>175921691.0</td><td>175923380.0</td><td>2006-07-30</td><td>03:09:15.184</td><td>2006-07-30</td><td>03:37:24.184</td><td>4</td><td>1,2,3,4</td><td>0</td><td>1.0131593</td><td>7190</td><td>PKS 2155-304 (flare)</td><td>pks2155_flare</td><td>0.5002569</td><td>0.53703177</td><td>100.0</td></tr>\n",
       "<tr><td>33801</td><td>330.29538</td><td>-30.225555</td><td>17.818897</td><td>-52.742733</td><td>46.83791</td><td>43.16209</td><td>250.0</td><td>PKS 2155-304</td><td>329.71667</td><td>-30.225555</td><td>0.50002956</td><td>1689.0</td><td>1598.6652</td><td>0.9465158</td><td>175923515.0</td><td>175925204.0</td><td>2006-07-30</td><td>03:39:39.184</td><td>2006-07-30</td><td>04:07:48.184</td><td>4</td><td>1,2,3,4</td><td>0</td><td>1.0301999</td><td>6761</td><td>PKS 2155-304 (flare)</td><td>pks2155_flare</td><td>0.4998021</td><td>0.8128305</td><td>100.0</td></tr>\n",
       "<tr><td>47802</td><td>330.29538</td><td>-30.225555</td><td>17.818897</td><td>-52.742733</td><td>36.828686</td><td>53.171314</td><td>110.0</td><td>PKS 2155-304</td><td>329.71667</td><td>-30.225555</td><td>0.50002956</td><td>1688.0</td><td>1572.4065</td><td>0.9315204</td><td>241558291.0</td><td>241559979.0</td><td>2008-08-27</td><td>19:32:35.184</td><td>2008-08-27</td><td>20:00:43.184</td><td>4</td><td>1,2,3,4</td><td>0</td><td>0.9731573</td><td>5998</td><td>PKS 2155-304 (steady)</td><td>pks2155_steady</td><td>0.4998021</td><td>0.61659503</td><td>100.0</td></tr>\n",
       "<tr><td>47803</td><td>329.13797</td><td>-30.225555</td><td>17.639944</td><td>-51.748703</td><td>30.231466</td><td>59.768536</td><td>110.04136</td><td>PKS 2155-304</td><td>329.71667</td><td>-30.225555</td><td>0.50002956</td><td>1688.0</td><td>1566.9369</td><td>0.9282802</td><td>241560121.0</td><td>241561809.0</td><td>2008-08-27</td><td>20:03:05.184</td><td>2008-08-27</td><td>20:31:13.184</td><td>4</td><td>1,2,3,4</td><td>0</td><td>0.9795774</td><td>6243</td><td>PKS 2155-304 (steady)</td><td>pks2155_steady</td><td>0.5002569</td><td>0.43651584</td><td>100.0</td></tr>\n",
       "<tr><td>47804</td><td>329.71667</td><td>-29.725555</td><td>18.541153</td><td>-52.188046</td><td>23.713928</td><td>66.28607</td><td>112.64086</td><td>PKS 2155-304</td><td>329.71667</td><td>-30.225555</td><td>0.5</td><td>1689.0</td><td>1560.2717</td><td>0.9237843</td><td>241561944.0</td><td>241563633.0</td><td>2008-08-27</td><td>20:33:28.184</td><td>2008-08-27</td><td>21:01:37.184</td><td>4</td><td>1,2,3,4</td><td>0</td><td>0.9836817</td><td>6445</td><td>PKS 2155-304 (steady)</td><td>pks2155_steady</td><td>0.500033</td><td>0.40738028</td><td>100.0</td></tr>\n",
       "<tr><td>47827</td><td>330.29538</td><td>-30.225555</td><td>17.818897</td><td>-52.742733</td><td>35.87235</td><td>54.12765</td><td>110.0</td><td>PKS 2155-304</td><td>329.71667</td><td>-30.225555</td><td>0.50002956</td><td>1688.0</td><td>1575.5515</td><td>0.9333836</td><td>241644720.0</td><td>241646408.0</td><td>2008-08-28</td><td>19:33:04.184</td><td>2008-08-28</td><td>20:01:12.184</td><td>4</td><td>1,2,3,4</td><td>0</td><td>0.9898478</td><td>5703</td><td>PKS 2155-304 (steady)</td><td>pks2155_steady</td><td>0.4998021</td><td>0.61659503</td><td>100.0</td></tr>\n",
       "<tr><td>47828</td><td>329.13797</td><td>-30.225555</td><td>17.639944</td><td>-51.748703</td><td>29.29926</td><td>60.70074</td><td>110.1458</td><td>PKS 2155-304</td><td>329.71667</td><td>-30.225555</td><td>0.50002956</td><td>1687.0</td><td>1562.4288</td><td>0.9261582</td><td>241646545.0</td><td>241648232.0</td><td>2008-08-28</td><td>20:03:29.184</td><td>2008-08-28</td><td>20:31:36.184</td><td>4</td><td>1,2,3,4</td><td>0</td><td>0.9777505</td><td>6030</td><td>PKS 2155-304 (steady)</td><td>pks2155_steady</td><td>0.5002569</td><td>0.43651584</td><td>100.0</td></tr>\n",
       "<tr><td>47829</td><td>329.71667</td><td>-30.725555</td><td>16.917807</td><td>-52.297615</td><td>22.831352</td><td>67.16865</td><td>113.11527</td><td>PKS 2155-304</td><td>329.71667</td><td>-30.225555</td><td>0.5</td><td>1688.0</td><td>1559.6072</td><td>0.9239379</td><td>241648358.0</td><td>241650046.0</td><td>2008-08-28</td><td>20:33:42.184</td><td>2008-08-28</td><td>21:01:50.184</td><td>4</td><td>1,2,3,4</td><td>0</td><td>0.96896285</td><td>6469</td><td>PKS 2155-304 (steady)</td><td>pks2155_steady</td><td>0.49996707</td><td>0.3801894</td><td>100.0</td></tr>\n",
       "</table></div>"
      ],
      "text/plain": [
       "<ObservationTable length=105>\n",
       "OBS_ID   RA_PNT   DEC_PNT    GLON_PNT   GLAT_PNT   ZEN_PNT  ... EVENT_COUNT      TARGET_NAME        TARGET_TAG   TARGET_OFFSET SAFE_ENERGY_LO SAFE_ENERGY_HI\n",
       "          deg       deg        deg        deg        deg    ...                                                       deg           TeV            TeV      \n",
       "int64   float32   float32    float32    float32    float32  ...    int64           bytes21           bytes14        float32       float32        float32    \n",
       "------ --------- ---------- --------- ----------- --------- ... ----------- --------------------- -------------- ------------- -------------- --------------\n",
       " 20136  228.6125 -58.771667 320.56754  -0.8857012 38.512962 ...       11243             MSH 15-52        msh1552    0.38821736     0.40738028          100.0\n",
       " 20137  228.6125 -59.771667 320.04724  -1.7397733  40.21616 ...        5693             MSH 15-52        msh1552     0.6156251     0.40738028          100.0\n",
       " 20151  228.6125 -58.771667 320.56754  -0.8857012 37.164658 ...       10722             MSH 15-52        msh1552    0.38821736     0.40738028          100.0\n",
       " 20275 187.27792   2.552389  289.7155   64.849686  36.18243 ...       10646              Off data        offdata            --     0.33113113          100.0\n",
       " 20282  228.6125 -58.771667 320.56754  -0.8857012  37.13134 ...       11063             MSH 15-52        msh1552    0.38821736     0.40738028          100.0\n",
       " 20283  228.6125 -59.771667 320.04724  -1.7397733 36.221436 ...        7628             MSH 15-52        msh1552     0.6156251      0.3801894          100.0\n",
       " 20301  228.6125 -58.771667 320.56754  -0.8857012 36.839905 ...       11624             MSH 15-52        msh1552    0.38821736     0.40738028          100.0\n",
       " 20302  228.6125 -59.771667 320.04724  -1.7397733  36.11632 ...       11794             MSH 15-52        msh1552     0.6156251      0.3801894          100.0\n",
       " 20303  228.6125 -58.771667 320.56754  -0.8857012 36.186012 ...       11803             MSH 15-52        msh1552    0.38821736      0.3801894          100.0\n",
       " 20322  228.6125 -59.771667 320.04724  -1.7397733 36.913094 ...       12925             MSH 15-52        msh1552     0.6156251     0.40738028          100.0\n",
       " 20323  228.6125 -58.771667 320.56754  -0.8857012 36.139618 ...       13367             MSH 15-52        msh1552    0.38821736      0.3801894          100.0\n",
       " 20324  228.6125 -59.771667 320.04724  -1.7397733 36.156063 ...       12822             MSH 15-52        msh1552     0.6156251      0.3801894          100.0\n",
       " 20325  228.6125 -58.771667 320.56754  -0.8857012 36.956974 ...       12878             MSH 15-52        msh1552    0.38821736     0.40738028          100.0\n",
       " 20326 259.29852 -39.762222 347.74036  -1.0417831 18.712194 ...       16880       RX J1713.7-3946        rxj1713     0.7252947     0.23442288          100.0\n",
       " 20327 257.47733 -39.762222 346.91946 0.092252225 16.734882 ...       16995       RX J1713.7-3946        rxj1713     0.6746846     0.20417379          100.0\n",
       "   ...       ...        ...       ...         ...       ... ...         ...                   ...            ...           ...            ...            ...\n",
       " 33792 329.13797 -30.225555 17.639944  -51.748703 17.864033 ...       10926  PKS 2155-304 (flare)  pks2155_flare     0.5002569     0.30902955          100.0\n",
       " 33793 330.29538 -30.225555 17.818897  -52.742733 11.910335 ...       10781  PKS 2155-304 (flare)  pks2155_flare     0.4998021     0.28840315          100.0\n",
       " 33794 329.71667 -30.725555 16.917807  -52.297615  7.234592 ...       11024  PKS 2155-304 (flare)  pks2155_flare    0.49996707     0.25118864          100.0\n",
       " 33795 329.71667 -29.725555 18.541153  -52.188046  9.155867 ...       10589  PKS 2155-304 (flare)  pks2155_flare      0.500033     0.25118864          100.0\n",
       " 33796 329.13797 -30.225555 17.639944  -51.748703  14.41577 ...       10672  PKS 2155-304 (flare)  pks2155_flare     0.5002569     0.28840315          100.0\n",
       " 33797 330.29538 -30.225555 17.818897  -52.742733 20.622698 ...        9853  PKS 2155-304 (flare)  pks2155_flare     0.4998021     0.30902955          100.0\n",
       " 33798 329.71667 -30.725555 16.917807  -52.297615 27.104174 ...        8986  PKS 2155-304 (flare)  pks2155_flare    0.49996707      0.3801894          100.0\n",
       " 33799 329.71667 -29.725555 18.541153  -52.188046 33.710506 ...        8061  PKS 2155-304 (flare)  pks2155_flare      0.500033     0.43651584          100.0\n",
       " 33800 329.13797 -30.225555 17.639944  -51.748703 40.261627 ...        7190  PKS 2155-304 (flare)  pks2155_flare     0.5002569     0.53703177          100.0\n",
       " 33801 330.29538 -30.225555 17.818897  -52.742733  46.83791 ...        6761  PKS 2155-304 (flare)  pks2155_flare     0.4998021      0.8128305          100.0\n",
       " 47802 330.29538 -30.225555 17.818897  -52.742733 36.828686 ...        5998 PKS 2155-304 (steady) pks2155_steady     0.4998021     0.61659503          100.0\n",
       " 47803 329.13797 -30.225555 17.639944  -51.748703 30.231466 ...        6243 PKS 2155-304 (steady) pks2155_steady     0.5002569     0.43651584          100.0\n",
       " 47804 329.71667 -29.725555 18.541153  -52.188046 23.713928 ...        6445 PKS 2155-304 (steady) pks2155_steady      0.500033     0.40738028          100.0\n",
       " 47827 330.29538 -30.225555 17.818897  -52.742733  35.87235 ...        5703 PKS 2155-304 (steady) pks2155_steady     0.4998021     0.61659503          100.0\n",
       " 47828 329.13797 -30.225555 17.639944  -51.748703  29.29926 ...        6030 PKS 2155-304 (steady) pks2155_steady     0.5002569     0.43651584          100.0\n",
       " 47829 329.71667 -30.725555 16.917807  -52.297615 22.831352 ...        6469 PKS 2155-304 (steady) pks2155_steady    0.49996707      0.3801894          100.0"
      ]
     },
     "execution_count": 25,
     "metadata": {},
     "output_type": "execute_result"
    }
   ],
   "source": [
    "datastore.obs_table"
   ]
  },
  {
   "cell_type": "code",
   "execution_count": 26,
   "id": "c152255f",
   "metadata": {},
   "outputs": [
    {
     "name": "stderr",
     "output_type": "stream",
     "text": [
      "Observation ID list selected: 23523 23526\n",
      "Observations selected: 2 out of 2.\n"
     ]
    }
   ],
   "source": [
    "observations = get_filtered_observations(\n",
    "    dl3_path=generate_1d_dataset.config_1d_dataset_io[0].input_dir,\n",
    "    obs_config=generate_1d_dataset.config_1d_dataset_info.observation,\n",
    "    log=generate_1d_dataset.log,\n",
    ")"
   ]
  },
  {
   "cell_type": "code",
   "execution_count": 27,
   "id": "717a4784",
   "metadata": {
    "scrolled": true
   },
   "outputs": [
    {
     "name": "stdout",
     "output_type": "stream",
     "text": [
      "Observations\n",
      "Number of observations: 2\n",
      "Observation\n",
      "\n",
      "\tobs id            : 23523 \n",
      " \ttstart            : 53343.92\n",
      "\ttstop             : 53343.94\n",
      "\tduration          : 1687.00 s\n",
      "\tpointing (icrs)   : 83.6 deg, 21.5 deg\n",
      "\n",
      "\tdeadtime fraction : 6.2%\n",
      "Observation\n",
      "\n",
      "\tobs id            : 23526 \n",
      " \ttstart            : 53343.95\n",
      "\ttstop             : 53343.97\n",
      "\tduration          : 1683.00 s\n",
      "\tpointing (icrs)   : 83.6 deg, 22.5 deg\n",
      "\n",
      "\tdeadtime fraction : 6.6%\n",
      "\n"
     ]
    }
   ],
   "source": [
    "print(observations)"
   ]
  },
  {
   "cell_type": "code",
   "execution_count": 28,
   "id": "a773220a",
   "metadata": {},
   "outputs": [
    {
     "name": "stdout",
     "output_type": "stream",
     "text": [
      "Using the list of required IRFs: [<RequiredHDUEnum.aeff: 'aeff'>, <RequiredHDUEnum.edisp: 'edisp'>]\n",
      "Selected observations from the given DataStore: ['23523', '23526']\n"
     ]
    }
   ],
   "source": [
    "print(\"Using the list of required IRFs:\", generate_1d_dataset.config_1d_dataset_info.observation.required_irfs)\n",
    "print(\"Selected observations from the given DataStore:\", observations.ids)"
   ]
  },
  {
   "cell_type": "code",
   "execution_count": null,
   "id": "f9f5f404",
   "metadata": {},
   "outputs": [],
   "source": []
  },
  {
   "cell_type": "markdown",
   "id": "24e24a49",
   "metadata": {},
   "source": [
    "# Create Base geometry for the Dataset"
   ]
  },
  {
   "cell_type": "code",
   "execution_count": 29,
   "id": "8c12ae3f",
   "metadata": {},
   "outputs": [
    {
     "name": "stdout",
     "output_type": "stream",
     "text": [
      "{'center': <SkyCoord (ICRS): (ra, dec) in deg\n",
      "    (83.633, 22.02)>, 'radius': <Angle 0.2 deg>}\n"
     ]
    }
   ],
   "source": [
    "center_pos = get_source_position(target_region=generate_1d_dataset.config_1d_dataset_info.on_region)\n",
    "print(center_pos)"
   ]
  },
  {
   "cell_type": "code",
   "execution_count": 30,
   "id": "66961964",
   "metadata": {},
   "outputs": [
    {
     "name": "stdout",
     "output_type": "stream",
     "text": [
      "RegionGeom\n",
      "\n",
      "\tregion     : CircleSkyRegion\n",
      "\taxes       : ['lon', 'lat', 'energy']\n",
      "\tshape      : (1, 1, 15)\n",
      "\tndim       : 3\n",
      "\tframe      : icrs\n",
      "\tcenter     : 83.6 deg, 22.0 deg\n",
      "\n"
     ]
    }
   ],
   "source": [
    "geom = generate_geom(\n",
    "    tag=\"1d\", \n",
    "    geom_config=generate_1d_dataset.config_1d_dataset_info.geom, \n",
    "    center_pos=center_pos\n",
    ")\n",
    "print(geom)"
   ]
  },
  {
   "cell_type": "markdown",
   "id": "a21e4400",
   "metadata": {},
   "source": [
    "## Create the base dataset template and get all the Dataset Reduction makers "
   ]
  },
  {
   "cell_type": "code",
   "execution_count": 31,
   "id": "35434aff",
   "metadata": {
    "scrolled": true
   },
   "outputs": [
    {
     "name": "stdout",
     "output_type": "stream",
     "text": [
      "SpectrumDataset\n",
      "---------------\n",
      "\n",
      "  Name                            : h9ucjGsm \n",
      "\n",
      "  Total counts                    : 0 \n",
      "  Total background counts         : 0.00\n",
      "  Total excess counts             : 0.00\n",
      "\n",
      "  Predicted counts                : 0.00\n",
      "  Predicted background counts     : 0.00\n",
      "  Predicted excess counts         : nan\n",
      "\n",
      "  Exposure min                    : 0.00e+00 m2 s\n",
      "  Exposure max                    : 0.00e+00 m2 s\n",
      "\n",
      "  Number of total bins            : 15 \n",
      "  Number of fit bins              : 0 \n",
      "\n",
      "  Fit statistic type              : cash\n",
      "  Fit statistic value (-2 log(L)) : nan\n",
      "\n",
      "  Number of models                : 0 \n",
      "  Number of parameters            : 0\n",
      "  Number of free parameters       : 0\n",
      "\n",
      "\n"
     ]
    }
   ],
   "source": [
    "dataset_reference = get_dataset_reference(\n",
    "    tag=\"1d\", \n",
    "    geom=geom, \n",
    "    geom_config=generate_1d_dataset.config_1d_dataset_info.geom\n",
    ")\n",
    "print(dataset_reference)"
   ]
  },
  {
   "cell_type": "code",
   "execution_count": 32,
   "id": "61f61de0",
   "metadata": {},
   "outputs": [
    {
     "name": "stdout",
     "output_type": "stream",
     "text": [
      "SpectrumDatasetMaker\n",
      "--------------------\n",
      "\n",
      "  selection               : {<MapSelectionEnum.exposure: 'exposure'>, <MapSelectionEnum.counts: 'counts'>, <MapSelectionEnum.edisp: 'edisp'>}\n",
      "  containment_correction  : True\n",
      "  use_region_center       : True\n",
      "\n",
      "CPU times: user 1.14 ms, sys: 209 µs, total: 1.35 ms\n",
      "Wall time: 993 µs\n"
     ]
    }
   ],
   "source": [
    "%%time\n",
    "dataset_maker = get_dataset_maker(\n",
    "    tag=\"1d\",\n",
    "    dataset_config=generate_1d_dataset.config_1d_dataset_info,\n",
    ")\n",
    "print(dataset_maker)"
   ]
  },
  {
   "cell_type": "code",
   "execution_count": 33,
   "id": "b9fe27e6",
   "metadata": {},
   "outputs": [
    {
     "name": "stdout",
     "output_type": "stream",
     "text": [
      "SafeMaskMaker\n",
      "-------------\n",
      "\n",
      "  methods      : {<SafeMaskMethodsEnum.aeff_max: 'aeff-max'>}\n",
      "  aeff_percent : 10\n",
      "  bias_percent : 10\n",
      "  offset_max   : 3.0 deg\n",
      "\n",
      "CPU times: user 0 ns, sys: 743 µs, total: 743 µs\n",
      "Wall time: 770 µs\n"
     ]
    }
   ],
   "source": [
    "%%time\n",
    "safe_maker = get_safe_mask_maker(\n",
    "    safe_config=generate_1d_dataset.config_1d_dataset_info.safe_mask\n",
    ")\n",
    "print(safe_maker)"
   ]
  },
  {
   "cell_type": "code",
   "execution_count": 34,
   "id": "85eb77db",
   "metadata": {},
   "outputs": [
    {
     "name": "stdout",
     "output_type": "stream",
     "text": [
      "WcsNDMap\n",
      "\n",
      "\tgeom  : WcsGeom \n",
      " \taxes  : ['lon', 'lat']\n",
      "\tshape : (300, 300)\n",
      "\tndim  : 2\n",
      "\tunit  : \n",
      "\tdtype : bool\n",
      "\n",
      "CPU times: user 62.7 ms, sys: 6.3 ms, total: 69 ms\n",
      "Wall time: 64.9 ms\n"
     ]
    }
   ],
   "source": [
    "%%time\n",
    "excluded_geom = generate_geom(\n",
    "    tag=\"1d-ex\", \n",
    "    geom_config=generate_1d_dataset.config_1d_dataset_info.geom, \n",
    "    center_pos=center_pos\n",
    ")\n",
    "\n",
    "exclusion_mask = get_exclusion_region_mask(\n",
    "    exclusion_params=generate_1d_dataset.config_1d_dataset_info.background.exclusion,\n",
    "    exclusion_regions=generate_1d_dataset.exclusion_regions,\n",
    "    excluded_geom=excluded_geom,\n",
    "    config_target=generate_1d_dataset.config_target,\n",
    "    geom_config=generate_1d_dataset.config_1d_dataset_info.geom,\n",
    "    log=generate_1d_dataset.log,\n",
    ")\n",
    "print(exclusion_mask)"
   ]
  },
  {
   "cell_type": "code",
   "execution_count": 35,
   "id": "8e621e25",
   "metadata": {},
   "outputs": [
    {
     "name": "stdout",
     "output_type": "stream",
     "text": [
      "CPU times: user 239 µs, sys: 0 ns, total: 239 µs\n",
      "Wall time: 258 µs\n"
     ]
    }
   ],
   "source": [
    "%%time\n",
    "bkg_maker = get_bkg_maker(\n",
    "    bkg_config=generate_1d_dataset.config_1d_dataset_info.background,\n",
    "    exclusion_mask=exclusion_mask,\n",
    ")"
   ]
  },
  {
   "cell_type": "code",
   "execution_count": 36,
   "id": "2b3fa091",
   "metadata": {
    "scrolled": true
   },
   "outputs": [
    {
     "name": "stdout",
     "output_type": "stream",
     "text": [
      "ReflectedRegionsBackgroundMaker\n",
      "-------------------------------\n",
      "\n",
      "  region_finder  : <gammapy.makers.background.reflected.WobbleRegionsFinder object at 0x7ff7d68124d0>\n",
      "  exclusion_mask : WcsNDMap\n",
      "\n",
      "  geom  : WcsGeom \n",
      "  axes  : ['lon', 'lat']\n",
      "  shape : (300, 300)\n",
      "  ndim  : 2\n",
      "  unit  : \n",
      "  dtype : bool\n",
      "\n",
      "\n",
      "<gammapy.makers.background.reflected.WobbleRegionsFinder object at 0x7ff7d68124d0>\n",
      "Number of Wobble OFF regions selected: 1\n"
     ]
    }
   ],
   "source": [
    "print(bkg_maker)\n",
    "print(bkg_maker.region_finder)\n",
    "print(\"Number of Wobble OFF regions selected:\", bkg_maker.region_finder.n_off_regions)"
   ]
  },
  {
   "cell_type": "code",
   "execution_count": null,
   "id": "c0922396",
   "metadata": {},
   "outputs": [],
   "source": []
  },
  {
   "cell_type": "code",
   "execution_count": 37,
   "id": "bff85954",
   "metadata": {
    "scrolled": true
   },
   "outputs": [
    {
     "name": "stderr",
     "output_type": "stream",
     "text": [
      "Using 2 processes to compute Data reduction\n",
      "Computing dataset for observation 23523\n",
      "Computing dataset for observation 23526\n",
      "Running SpectrumDatasetMaker\n",
      "Running SpectrumDatasetMaker\n",
      "Running SafeMaskMaker\n",
      "Running SafeMaskMaker\n",
      "Running ReflectedRegionsBackgroundMaker\n",
      "Running ReflectedRegionsBackgroundMaker\n"
     ]
    },
    {
     "name": "stdout",
     "output_type": "stream",
     "text": [
      "CPU times: user 82.7 ms, sys: 53.9 ms, total: 137 ms\n",
      "Wall time: 868 ms\n"
     ]
    }
   ],
   "source": [
    "%%time\n",
    "generate_1d_dataset.datasets = generate_dl4_dataset(\n",
    "    tag=\"1d\",\n",
    "    observations=observations,\n",
    "    dataset_reference=dataset_reference,\n",
    "    dataset_maker=dataset_maker,\n",
    "    bkg_maker=bkg_maker,\n",
    "    safe_maker=safe_maker,\n",
    "    n_jobs=generate_1d_dataset.n_jobs,\n",
    "    parallel_backend=generate_1d_dataset.parallel_backend,\n",
    ")"
   ]
  },
  {
   "cell_type": "code",
   "execution_count": 38,
   "id": "f38925f7",
   "metadata": {
    "scrolled": true
   },
   "outputs": [
    {
     "name": "stdout",
     "output_type": "stream",
     "text": [
      "Datasets\n",
      "--------\n",
      "\n",
      "Dataset 0: \n",
      "\n",
      "  Type       : SpectrumDatasetOnOff\n",
      "  Name       : bbRUsOys\n",
      "  Instrument : HESS\n",
      "  Models     : \n",
      "\n",
      "Dataset 1: \n",
      "\n",
      "  Type       : SpectrumDatasetOnOff\n",
      "  Name       : 1Etzjldr\n",
      "  Instrument : HESS\n",
      "  Models     : \n",
      "\n",
      "\n"
     ]
    }
   ],
   "source": [
    "print(generate_1d_dataset.datasets)"
   ]
  },
  {
   "cell_type": "code",
   "execution_count": 39,
   "id": "6fad1930",
   "metadata": {},
   "outputs": [
    {
     "name": "stdout",
     "output_type": "stream",
     "text": [
      "CPU times: user 16 µs, sys: 24 µs, total: 40 µs\n",
      "Wall time: 44.3 µs\n"
     ]
    }
   ],
   "source": [
    "%%time\n",
    "generate_1d_dataset.update_dataset(observations)"
   ]
  },
  {
   "cell_type": "code",
   "execution_count": 40,
   "id": "ed22c447",
   "metadata": {
    "scrolled": true
   },
   "outputs": [
    {
     "name": "stdout",
     "output_type": "stream",
     "text": [
      "Datasets\n",
      "--------\n",
      "\n",
      "Dataset 0: \n",
      "\n",
      "  Type       : SpectrumDatasetOnOff\n",
      "  Name       : 23523\n",
      "  Instrument : HESS\n",
      "  Models     : \n",
      "\n",
      "Dataset 1: \n",
      "\n",
      "  Type       : SpectrumDatasetOnOff\n",
      "  Name       : 23526\n",
      "  Instrument : HESS\n",
      "  Models     : \n",
      "\n",
      "\n"
     ]
    }
   ],
   "source": [
    "print(generate_1d_dataset.datasets)"
   ]
  },
  {
   "cell_type": "code",
   "execution_count": null,
   "id": "ad720ccb",
   "metadata": {},
   "outputs": [],
   "source": []
  },
  {
   "cell_type": "code",
   "execution_count": 41,
   "id": "46aca7b4",
   "metadata": {
    "scrolled": true
   },
   "outputs": [],
   "source": [
    "info_table = generate_1d_dataset.datasets.info_table(cumulative=True)"
   ]
  },
  {
   "cell_type": "code",
   "execution_count": 42,
   "id": "a5f03e6d",
   "metadata": {},
   "outputs": [],
   "source": [
    "stacked_dataset = generate_1d_dataset.datasets.stack_reduce(name=config_1d_dataset.name)"
   ]
  },
  {
   "cell_type": "code",
   "execution_count": 43,
   "id": "d60a735c",
   "metadata": {
    "scrolled": true
   },
   "outputs": [
    {
     "name": "stdout",
     "output_type": "stream",
     "text": [
      "SpectrumDatasetOnOff\n",
      "--------------------\n",
      "\n",
      "  Name                            : HESS \n",
      "\n",
      "  Total counts                    : 496 \n",
      "  Total background counts         : 62.00\n",
      "  Total excess counts             : 434.00\n",
      "\n",
      "  Predicted counts                : 279.00\n",
      "  Predicted background counts     : 279.00\n",
      "  Predicted excess counts         : nan\n",
      "\n",
      "  Exposure min                    : 1.54e+07 m2 s\n",
      "  Exposure max                    : 1.81e+09 m2 s\n",
      "\n",
      "  Number of total bins            : 15 \n",
      "  Number of fit bins              : 11 \n",
      "\n",
      "  Fit statistic type              : wstat\n",
      "  Fit statistic value (-2 log(L)) : 390.68\n",
      "\n",
      "  Number of models                : 0 \n",
      "  Number of parameters            : 0\n",
      "  Number of free parameters       : 0\n",
      "\n",
      "  Total counts_off                : 62 \n",
      "  Acceptance                      : 15 \n",
      "  Acceptance off                  : 15 \n",
      "\n"
     ]
    }
   ],
   "source": [
    "print(stacked_dataset)"
   ]
  },
  {
   "cell_type": "markdown",
   "id": "75be2f9a",
   "metadata": {},
   "source": [
    "# Some Basic plots from the Dataset"
   ]
  },
  {
   "cell_type": "code",
   "execution_count": 44,
   "id": "610b3df6",
   "metadata": {
    "scrolled": true
   },
   "outputs": [
    {
     "data": {
      "text/html": [
       "<div><i>Table length=2</i>\n",
       "<table id=\"table140702430842576\" class=\"table-striped table-bordered table-condensed\">\n",
       "<thead><tr><th>name</th><th>counts</th><th>excess</th><th>sqrt_ts</th><th>background</th><th>npred</th><th>npred_background</th><th>npred_signal</th><th>exposure_min</th><th>exposure_max</th><th>livetime</th><th>ontime</th><th>counts_rate</th><th>background_rate</th><th>excess_rate</th><th>n_bins</th><th>n_fit_bins</th><th>stat_type</th><th>stat_sum</th><th>counts_off</th><th>acceptance</th><th>acceptance_off</th><th>alpha</th></tr></thead>\n",
       "<thead><tr><th></th><th></th><th></th><th></th><th></th><th></th><th></th><th></th><th>m2 s</th><th>m2 s</th><th>s</th><th>s</th><th>1 / s</th><th>1 / s</th><th>1 / s</th><th></th><th></th><th></th><th></th><th></th><th></th><th></th><th></th></tr></thead>\n",
       "<thead><tr><th>str7</th><th>int64</th><th>float64</th><th>float64</th><th>float64</th><th>float64</th><th>float64</th><th>float64</th><th>float64</th><th>float64</th><th>float64</th><th>float64</th><th>float64</th><th>float64</th><th>float64</th><th>int64</th><th>int64</th><th>str5</th><th>float64</th><th>int64</th><th>float64</th><th>float64</th><th>float64</th></tr></thead>\n",
       "<tr><td>stacked</td><td>266</td><td>230.0</td><td>14.071118591088961</td><td>36.0</td><td>151.0</td><td>151.0</td><td>nan</td><td>3462830.75</td><td>973275648.0</td><td>1581.736764695497</td><td>1687.0000000000016</td><td>0.16816957532829943</td><td>0.02275979214969466</td><td>0.14540978317860476</td><td>15</td><td>11</td><td>wstat</td><td>205.28610211617124</td><td>36</td><td>11.0</td><td>11.0</td><td>1.0</td></tr>\n",
       "<tr><td>stacked</td><td>496</td><td>434.0</td><td>19.602439504920714</td><td>62.0</td><td>279.0</td><td>279.0</td><td>nan</td><td>15367259.0</td><td>1810596352.0</td><td>3154.4235137812757</td><td>3369.9999999999964</td><td>0.15723950757817998</td><td>0.019654938447272497</td><td>0.13758456913090747</td><td>15</td><td>11</td><td>wstat</td><td>390.6824869192629</td><td>62</td><td>11.0</td><td>11.0</td><td>1.0</td></tr>\n",
       "</table></div>"
      ],
      "text/plain": [
       "<Table length=2>\n",
       "  name  counts  excess      sqrt_ts       background  npred  npred_background ... stat_type      stat_sum      counts_off acceptance acceptance_off  alpha \n",
       "                                                                              ...                                                                          \n",
       "  str7  int64  float64      float64        float64   float64     float64      ...    str5        float64         int64     float64      float64     float64\n",
       "------- ------ ------- ------------------ ---------- ------- ---------------- ... --------- ------------------ ---------- ---------- -------------- -------\n",
       "stacked    266   230.0 14.071118591088961       36.0   151.0            151.0 ...     wstat 205.28610211617124         36       11.0           11.0     1.0\n",
       "stacked    496   434.0 19.602439504920714       62.0   279.0            279.0 ...     wstat  390.6824869192629         62       11.0           11.0     1.0"
      ]
     },
     "execution_count": 44,
     "metadata": {},
     "output_type": "execute_result"
    }
   ],
   "source": [
    "info_table"
   ]
  },
  {
   "cell_type": "code",
   "execution_count": 45,
   "id": "668f04d7",
   "metadata": {},
   "outputs": [
    {
     "data": {
      "image/png": "[encoded data removed]",
      "text/plain": [
       "<Figure size 1000x500 with 2 Axes>"
      ]
     },
     "metadata": {},
     "output_type": "display_data"
    }
   ],
   "source": [
    "# Plot temporal evolution of excess events and significance value\n",
    "plt.figure(figsize=(10,5))\n",
    "plt.subplot(121)\n",
    "plt.plot(\n",
    "    np.sqrt(info_table[\"livetime\"].to(\"h\")), info_table[\"excess\"], marker=\"o\", ls=\"none\"\n",
    ")\n",
    "plt.plot(info_table[\"livetime\"].to(\"h\")[-1:1], info_table[\"excess\"][-1:1], 'r')\n",
    "plt.xlabel(\"Sqrt Livetime h^(1/2)\")\n",
    "plt.ylabel(\"Excess\")\n",
    "plt.grid()\n",
    "plt.title('Excess vs Square root of Livetime')\n",
    "\n",
    "plt.subplot(122)\n",
    "plt.plot(\n",
    "    np.sqrt(info_table[\"livetime\"].to(\"h\")),\n",
    "    info_table[\"sqrt_ts\"],\n",
    "    marker=\"o\",\n",
    "    ls=\"none\",\n",
    ")\n",
    "plt.grid()\n",
    "plt.xlabel(\"Sqrt Livetime h^(1/2)\")\n",
    "plt.ylabel(\"sqrt_ts\")\n",
    "plt.title('Significance vs Square root of Livetime')\n",
    "plt.subplots_adjust(wspace=0.5)"
   ]
  },
  {
   "cell_type": "code",
   "execution_count": 46,
   "id": "f5c54931",
   "metadata": {},
   "outputs": [
    {
     "data": {
      "image/png": "[encoded data removed]",
      "text/plain": [
       "<Figure size 1600x400 with 4 Axes>"
      ]
     },
     "metadata": {},
     "output_type": "display_data"
    }
   ],
   "source": [
    "stacked_dataset.peek()"
   ]
  },
  {
   "cell_type": "code",
   "execution_count": null,
   "id": "1859463f",
   "metadata": {},
   "outputs": [],
   "source": []
  }
 ],
 "metadata": {
  "kernelspec": {
   "display_name": "asgardpy",
   "language": "python",
   "name": "asgardpy"
  },
  "language_info": {
   "codemirror_mode": {
    "name": "ipython",
    "version": 3
   },
   "file_extension": ".py",
   "mimetype": "text/x-python",
   "name": "python",
   "nbconvert_exporter": "python",
   "pygments_lexer": "ipython3",
   "version": "3.11.4"
  }
 },
 "nbformat": 4,
 "nbformat_minor": 5
}
