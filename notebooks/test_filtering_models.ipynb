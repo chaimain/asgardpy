{
 "cells": [
  {
   "cell_type": "code",
   "execution_count": 1,
   "id": "f7b9e86f-f8f6-4289-858e-165ab6bc92af",
   "metadata": {},
   "outputs": [],
   "source": [
    "import os\n",
    "from pathlib import Path\n",
    "import numpy as np\n",
    "import logging\n",
    "\n",
    "import matplotlib.pyplot as plt\n",
    "from astropy.coordinates import SkyCoord\n",
    "import astropy.units as u\n",
    "\n",
    "from gammapy.catalog import CATALOG_REGISTRY\n",
    "from gammapy.modeling.models import Models\n",
    "from gammapy.maps import Map"
   ]
  },
  {
   "cell_type": "code",
   "execution_count": 101,
   "id": "33c904bd-1d67-46b5-b9ce-ac351d8ff4e8",
   "metadata": {},
   "outputs": [],
   "source": [
    "from asgardpy.analysis import AsgardpyAnalysis\n",
    "from asgardpy.config import AsgardpyConfig\n",
    "\n",
    "from asgardpy.data.dataset_3d import Dataset3DGeneration\n",
    "\n",
    "from asgardpy.data.target import (\n",
    "    set_models, \n",
    "    apply_selection_mask_to_models,\n",
    "    read_models_from_asgardpy_config\n",
    ")"
   ]
  },
  {
   "cell_type": "code",
   "execution_count": 102,
   "id": "370a0b79-7679-48e4-8608-dd1a66680662",
   "metadata": {},
   "outputs": [
    {
     "data": {
      "text/plain": [
       "'/home/chaitanya/software/gammapy-datasets/1.1/'"
      ]
     },
     "execution_count": 102,
     "metadata": {},
     "output_type": "execute_result"
    }
   ],
   "source": [
    "os.environ['GAMMAPY_DATA']"
   ]
  },
  {
   "cell_type": "code",
   "execution_count": 103,
   "id": "a0b308d3-68a5-485d-9979-9ff6bc62f5e0",
   "metadata": {},
   "outputs": [],
   "source": [
    "log = logging.getLogger(\"test filtering of Models\")"
   ]
  },
  {
   "cell_type": "code",
   "execution_count": null,
   "id": "ffa3b858-02e1-495e-b16a-01bc9e86bcda",
   "metadata": {},
   "outputs": [],
   "source": []
  },
  {
   "cell_type": "code",
   "execution_count": 104,
   "id": "0a573d78-c9dd-45bf-8c4d-1b6687533082",
   "metadata": {},
   "outputs": [],
   "source": [
    "config_file = \"../src/asgardpy/tests/config_test_gadf.yaml\""
   ]
  },
  {
   "cell_type": "code",
   "execution_count": 105,
   "id": "c389f43a-7ff5-4f14-96ce-14c1de367e29",
   "metadata": {},
   "outputs": [],
   "source": [
    "config_main = AsgardpyConfig().read(config_file)"
   ]
  },
  {
   "cell_type": "code",
   "execution_count": null,
   "id": "14bac85b-1aca-4e2c-8891-a6a61b528c27",
   "metadata": {},
   "outputs": [],
   "source": []
  },
  {
   "cell_type": "markdown",
   "id": "d8a1f68b-a4d5-4d9a-a525-483f80d11c13",
   "metadata": {},
   "source": [
    "# Update path of test data"
   ]
  },
  {
   "cell_type": "code",
   "execution_count": 106,
   "id": "8f24f8d4-2a09-4421-822f-2c7a77c18f25",
   "metadata": {},
   "outputs": [],
   "source": [
    "config_main.dataset3d.instruments[0].input_dl3[0].input_dir = f\"{os.environ['GAMMAPY_DATA']}hess-dl3-dr1/\"\n",
    "config_main.dataset3d.instruments[0].dataset_info.background.exclusion.exclusion_file = (\n",
    "    f\"{os.environ['GAMMAPY_DATA']}joint-crab/exclusion/exclusion_mask_crab.fits.gz\"\n",
    ")\n",
    "config_main.dataset1d.instruments[0].input_dl3[0].input_dir = f\"{os.environ['GAMMAPY_DATA']}magic/rad_max/data/\""
   ]
  },
  {
   "cell_type": "code",
   "execution_count": 107,
   "id": "71a4fc57-45c7-45a2-a7c2-0a51cef86d55",
   "metadata": {},
   "outputs": [],
   "source": [
    "config_main.target.use_catalog.selection_radius = \"10 deg\"\n",
    "config_main.target.roi_selection.roi_radius = \"2.8 deg\""
   ]
  },
  {
   "cell_type": "code",
   "execution_count": null,
   "id": "2ab0e666-21a0-447b-8c02-66703ae0f335",
   "metadata": {},
   "outputs": [],
   "source": []
  },
  {
   "cell_type": "code",
   "execution_count": 108,
   "id": "97d2cb50-df59-43cb-b0dd-80bcb0580873",
   "metadata": {
    "scrolled": true
   },
   "outputs": [
    {
     "data": {
      "text/plain": [
       "{'log': {'level': 'info',\n",
       "  'filename': '',\n",
       "  'filemode': 'w',\n",
       "  'format': '',\n",
       "  'datefmt': ''},\n",
       " 'outdir': PosixPath('.'),\n",
       " 'n_jobs': 10,\n",
       " 'parallel_backend': 'multiprocessing',\n",
       " 'steps': ['datasets-3d', 'datasets-1d', 'fit', 'flux-points'],\n",
       " 'overwrite': True,\n",
       " 'stacked_dataset': True}"
      ]
     },
     "execution_count": 108,
     "metadata": {},
     "output_type": "execute_result"
    }
   ],
   "source": [
    "config_main.general.dict()"
   ]
  },
  {
   "cell_type": "code",
   "execution_count": 109,
   "id": "ceabf365-8e46-4ccf-ae01-854f26db2fa6",
   "metadata": {
    "scrolled": true
   },
   "outputs": [
    {
     "data": {
      "text/plain": [
       "{'source_name': 'Crab Nebula',\n",
       " 'sky_position': {'frame': 'icrs',\n",
       "  'lon': <Quantity 83.633 deg>,\n",
       "  'lat': <Quantity 22.014 deg>,\n",
       "  'radius': <Quantity 0. deg>},\n",
       " 'use_uniform_position': True,\n",
       " 'models_file': PosixPath('.'),\n",
       " 'datasets_with_fov_bkg_model': ['HESS'],\n",
       " 'use_catalog': {'name': '3fhl',\n",
       "  'selection_radius': <Quantity 10. deg>,\n",
       "  'exclusion_radius': <Quantity 0.2 deg>},\n",
       " 'components': [{'name': 'Crab Nebula',\n",
       "   'type': 'SkyModel',\n",
       "   'datasets_names': [''],\n",
       "   'spectral': {'type': 'LogParabolaSpectralModel',\n",
       "    'parameters': [{'name': 'amplitude',\n",
       "      'value': 1e-06,\n",
       "      'unit': 'cm-2 s-1 TeV-1',\n",
       "      'error': 1.5e-07,\n",
       "      'min': 1e-13,\n",
       "      'max': 0.01,\n",
       "      'frozen': False},\n",
       "     {'name': 'reference',\n",
       "      'value': 0.01,\n",
       "      'unit': 'TeV',\n",
       "      'error': 0.0,\n",
       "      'min': 0.0001,\n",
       "      'max': 100.0,\n",
       "      'frozen': True},\n",
       "     {'name': 'alpha',\n",
       "      'value': 1.7,\n",
       "      'unit': '',\n",
       "      'error': 0.1,\n",
       "      'min': 0.5,\n",
       "      'max': 5.0,\n",
       "      'frozen': False},\n",
       "     {'name': 'beta',\n",
       "      'value': 0.1,\n",
       "      'unit': '',\n",
       "      'error': 0.001,\n",
       "      'min': 1e-06,\n",
       "      'max': 1.0,\n",
       "      'frozen': False}],\n",
       "    'ebl_abs': {'filename': PosixPath('.'),\n",
       "     'reference': 'dominguez',\n",
       "     'type': 'EBLAbsorptionNormSpectralModel',\n",
       "     'redshift': 0.0,\n",
       "     'alpha_norm': 1.0}},\n",
       "   'spatial': {'type': 'PointSpatialModel',\n",
       "    'frame': 'icrs',\n",
       "    'parameters': [{'name': 'lon_0',\n",
       "      'value': 83.63,\n",
       "      'unit': 'deg',\n",
       "      'error': 0.1,\n",
       "      'min': 0.1,\n",
       "      'max': 10.0,\n",
       "      'frozen': True},\n",
       "     {'name': 'lat_0',\n",
       "      'value': 22.014,\n",
       "      'unit': 'deg',\n",
       "      'error': 0.1,\n",
       "      'min': 0.1,\n",
       "      'max': 10.0,\n",
       "      'frozen': True}]}}],\n",
       " 'covariance': 'None',\n",
       " 'from_3d': False,\n",
       " 'roi_selection': {'roi_radius': <Quantity 2.8 deg>, 'free_sources': []}}"
      ]
     },
     "execution_count": 109,
     "metadata": {},
     "output_type": "execute_result"
    }
   ],
   "source": [
    "config_main.target.dict()"
   ]
  },
  {
   "cell_type": "code",
   "execution_count": 110,
   "id": "e0681176-7c6e-4fe2-9da9-3a1cf7fcd4f2",
   "metadata": {
    "scrolled": true
   },
   "outputs": [
    {
     "data": {
      "text/plain": [
       "{'type': '3d',\n",
       " 'instruments': [{'name': 'HESS',\n",
       "   'input_dl3': [{'type': 'gadf-dl3',\n",
       "     'input_dir': PosixPath('/home/chaitanya/software/gammapy-datasets/1.1/hess-dl3-dr1'),\n",
       "     'glob_pattern': {'dl3': 'data/hess_*fits.gz'}}],\n",
       "   'input_dl4': False,\n",
       "   'dataset_info': {'name': 'HESS',\n",
       "    'key': [],\n",
       "    'observation': {'obs_ids': [],\n",
       "     'obs_file': PosixPath('.'),\n",
       "     'obs_time': [{'format': 'iso',\n",
       "       'start': '2004-12-04 22:00:00.000',\n",
       "       'stop': '2004-12-04 22:44:00.000'},\n",
       "      {'format': 'mjd', 'start': '53343.947916666', 'stop': '53343.989583333'},\n",
       "      {'format': 'iso',\n",
       "       'start': '2004-12-05 00:00:00.000',\n",
       "       'stop': '2004-12-07 00:00:00.000'}],\n",
       "     'obs_cone': {'frame': 'icrs',\n",
       "      'lon': <Quantity 83.633 deg>,\n",
       "      'lat': <Quantity 22.014 deg>,\n",
       "      'radius': <Quantity 5. deg>},\n",
       "     'required_irfs': ['aeff', 'edisp', 'psf', 'bkg']},\n",
       "    'map_selection': ['counts', 'exposure', 'background', 'psf', 'edisp'],\n",
       "    'geom': {'wcs': {'skydir': {'frame': 'icrs',\n",
       "       'lon': <Quantity 0. deg>,\n",
       "       'lat': <Quantity 0. deg>,\n",
       "       'radius': <Quantity 0. deg>},\n",
       "      'binsize': <Quantity 0.02 deg>,\n",
       "      'proj': 'TAN',\n",
       "      'map_frame_shape': {'width': <Quantity 2. deg>,\n",
       "       'height': <Quantity 2. deg>},\n",
       "      'binsize_irf': <Quantity 0.2 deg>},\n",
       "     'selection': {'offset_max': <Quantity 2.5 deg>},\n",
       "     'axes': [{'name': 'energy',\n",
       "       'axis': {'min': <Quantity 1. TeV>,\n",
       "        'max': <Quantity 10. TeV>,\n",
       "        'nbins': 10,\n",
       "        'per_decade': True},\n",
       "       'axis_custom': {'edges': [], 'unit': 'TeV'}},\n",
       "      {'name': 'energy_true',\n",
       "       'axis': {'min': <Quantity 0.5 TeV>,\n",
       "        'max': <Quantity 20. TeV>,\n",
       "        'nbins': 20,\n",
       "        'per_decade': False},\n",
       "       'axis_custom': {'edges': [], 'unit': 'TeV'}}],\n",
       "     'from_events_file': False},\n",
       "    'background': {'method': 'fov_background',\n",
       "     'region_finder_method': 'wobble',\n",
       "     'parameters': {'method': 'scale'},\n",
       "     'exclusion': {'target_source': True,\n",
       "      'regions': [],\n",
       "      'exclusion_file': PosixPath('/home/chaitanya/software/gammapy-datasets/1.1/joint-crab/exclusion/exclusion_mask_crab.fits.gz')}},\n",
       "    'safe_mask': {'methods': ['aeff-default'], 'parameters': {}},\n",
       "    'on_region': {'frame': 'icrs',\n",
       "     'lon': <Quantity 83.633 deg>,\n",
       "     'lat': <Quantity 22.014 deg>,\n",
       "     'radius': <Quantity 5. deg>},\n",
       "    'containment_correction': True},\n",
       "   'dl4_dataset_info': {'dl4_dataset': {'type': 'MapDataset',\n",
       "     'input_dir': PosixPath('.'),\n",
       "     'glob_pattern': 'pha*fits',\n",
       "     'dl4_format': 'gadf'},\n",
       "    'spectral_energy_range': {'name': 'energy',\n",
       "     'axis': {'min': <Quantity 1. TeV>,\n",
       "      'max': <Quantity 10. TeV>,\n",
       "      'nbins': 5,\n",
       "      'per_decade': True},\n",
       "     'axis_custom': {'edges': [], 'unit': 'TeV'}}}}]}"
      ]
     },
     "execution_count": 110,
     "metadata": {},
     "output_type": "execute_result"
    }
   ],
   "source": [
    "config_main.dataset3d.dict()"
   ]
  },
  {
   "cell_type": "code",
   "execution_count": 52,
   "id": "4b5c4d66-8adb-4723-a8a7-df4737a41498",
   "metadata": {
    "scrolled": true
   },
   "outputs": [
    {
     "data": {
      "text/plain": [
       "{'type': '1d',\n",
       " 'instruments': [{'name': 'MAGIC',\n",
       "   'input_dl3': [{'type': 'gadf-dl3',\n",
       "     'input_dir': PosixPath('/home/chaitanya/software/gammapy-datasets/1.1/magic/rad_max/data'),\n",
       "     'glob_pattern': {'dl3': '2013*fits'}}],\n",
       "   'input_dl4': False,\n",
       "   'dataset_info': {'name': 'MAGIC',\n",
       "    'geom': {'wcs': {'skydir': {'frame': 'icrs',\n",
       "       'lon': <Quantity 0. deg>,\n",
       "       'lat': <Quantity 0. deg>,\n",
       "       'radius': <Quantity 0. deg>},\n",
       "      'binsize': <Quantity 0.02 deg>,\n",
       "      'proj': 'TAN',\n",
       "      'map_frame_shape': {'width': <Quantity 6. deg>,\n",
       "       'height': <Quantity 6. deg>},\n",
       "      'binsize_irf': <Quantity 0.2 deg>},\n",
       "     'selection': {'offset_max': <Quantity 2.5 deg>},\n",
       "     'axes': [{'name': 'energy',\n",
       "       'axis': {'min': <Quantity 0.05 TeV>,\n",
       "        'max': <Quantity 10. TeV>,\n",
       "        'nbins': 5,\n",
       "        'per_decade': True},\n",
       "       'axis_custom': {'edges': [], 'unit': 'TeV'}},\n",
       "      {'name': 'energy_true',\n",
       "       'axis': {'min': <Quantity 0.01 TeV>,\n",
       "        'max': <Quantity 10. TeV>,\n",
       "        'nbins': 10,\n",
       "        'per_decade': True},\n",
       "       'axis_custom': {'edges': [], 'unit': 'TeV'}}],\n",
       "     'from_events_file': True},\n",
       "    'observation': {'obs_ids': [],\n",
       "     'obs_file': PosixPath('.'),\n",
       "     'obs_time': [],\n",
       "     'obs_cone': {'frame': 'icrs',\n",
       "      'lon': <Quantity 0. deg>,\n",
       "      'lat': <Quantity 0. deg>,\n",
       "      'radius': <Quantity 0. deg>},\n",
       "     'required_irfs': ['aeff', 'edisp', 'rad_max']},\n",
       "    'background': {'method': 'reflected',\n",
       "     'region_finder_method': 'wobble',\n",
       "     'parameters': {'n_off_regions': 3},\n",
       "     'exclusion': {'target_source': True,\n",
       "      'regions': [{'type': 'CircleSkyRegion',\n",
       "        'name': '4FGL J0521.7+2112',\n",
       "        'position': {'frame': 'icrs',\n",
       "         'lon': <Quantity 0. deg>,\n",
       "         'lat': <Quantity 0. deg>,\n",
       "         'radius': <Quantity 0. deg>},\n",
       "        'parameters': {'region_radius': '0.5 deg'}}],\n",
       "      'exclusion_file': PosixPath('.')}},\n",
       "    'safe_mask': {'methods': ['aeff-default'], 'parameters': {}},\n",
       "    'on_region': {'frame': 'icrs',\n",
       "     'lon': <Quantity 83.633 deg>,\n",
       "     'lat': <Quantity 22.014 deg>,\n",
       "     'radius': <Quantity 0. deg>},\n",
       "    'containment_correction': False,\n",
       "    'map_selection': ['counts', 'exposure', 'edisp']},\n",
       "   'dl4_dataset_info': {'dl4_dataset': {'type': 'MapDataset',\n",
       "     'input_dir': PosixPath('.'),\n",
       "     'glob_pattern': 'pha*fits',\n",
       "     'dl4_format': 'gadf'},\n",
       "    'spectral_energy_range': {'name': 'energy',\n",
       "     'axis': {'min': <Quantity 100. GeV>,\n",
       "      'max': <Quantity 10. TeV>,\n",
       "      'nbins': 5,\n",
       "      'per_decade': True},\n",
       "     'axis_custom': {'edges': [0.0631,\n",
       "       0.1,\n",
       "       0.1585,\n",
       "       0.2512,\n",
       "       0.3981,\n",
       "       0.631,\n",
       "       1.0,\n",
       "       1.585,\n",
       "       2.512],\n",
       "      'unit': 'TeV'}}}}]}"
      ]
     },
     "execution_count": 52,
     "metadata": {},
     "output_type": "execute_result"
    }
   ],
   "source": [
    "config_main.dataset1d.dict()"
   ]
  },
  {
   "cell_type": "code",
   "execution_count": null,
   "id": "4fa4b168-95de-48ce-a473-35fe6cd97e23",
   "metadata": {},
   "outputs": [],
   "source": []
  },
  {
   "cell_type": "code",
   "execution_count": 111,
   "id": "5cb28971-708d-4843-b92c-e679ec86f1c5",
   "metadata": {},
   "outputs": [
    {
     "name": "stderr",
     "output_type": "stream",
     "text": [
      "Setting logging config: {'level': 'INFO', 'filename': '', 'filemode': 'w', 'format': '', 'datefmt': ''}\n"
     ]
    }
   ],
   "source": [
    "analysis = AsgardpyAnalysis(config_main)"
   ]
  },
  {
   "cell_type": "code",
   "execution_count": null,
   "id": "270df332-b5a6-438c-8824-c40476d86d37",
   "metadata": {},
   "outputs": [],
   "source": []
  },
  {
   "cell_type": "code",
   "execution_count": 112,
   "id": "657dc423-3edc-411b-bfa0-d2f1f4efddd5",
   "metadata": {},
   "outputs": [
    {
     "name": "stdout",
     "output_type": "stream",
     "text": [
      "1 number of 3D dataset information provided\n",
      "Instrument selected is HESS\n"
     ]
    }
   ],
   "source": [
    "instruments_list = config_main.dataset3d.instruments\n",
    "print(len(instruments_list), \"number of 3D dataset information provided\")\n",
    "\n",
    "config_3d_dataset = instruments_list[0]\n",
    "print(f\"Instrument selected is {config_3d_dataset.name}\")"
   ]
  },
  {
   "cell_type": "code",
   "execution_count": 113,
   "id": "6e9afc83-7532-421c-b819-053b8bb4e77a",
   "metadata": {},
   "outputs": [
    {
     "name": "stdout",
     "output_type": "stream",
     "text": [
      "The list of different keys or modes of observations for the selected instrument are []\n"
     ]
    }
   ],
   "source": [
    "key_names = config_3d_dataset.dataset_info.key\n",
    "print(f\"The list of different keys or modes of observations for the selected instrument are {key_names}\")"
   ]
  },
  {
   "cell_type": "code",
   "execution_count": null,
   "id": "c7ee1e10-ca66-4704-9dee-28da7e744d00",
   "metadata": {},
   "outputs": [],
   "source": []
  },
  {
   "cell_type": "code",
   "execution_count": 114,
   "id": "9c78937d-9d32-4120-bf2d-47b1668b6c5d",
   "metadata": {},
   "outputs": [
    {
     "name": "stdout",
     "output_type": "stream",
     "text": [
      "CPU times: user 59 µs, sys: 23 µs, total: 82 µs\n",
      "Wall time: 83.4 µs\n"
     ]
    }
   ],
   "source": [
    "%%time\n",
    "generate_3d_dataset = Dataset3DGeneration(\n",
    "    log, config_3d_dataset, analysis.config\n",
    ")"
   ]
  },
  {
   "cell_type": "code",
   "execution_count": null,
   "id": "f9083c3d-15d0-4a91-aa88-4f0c2637c44f",
   "metadata": {},
   "outputs": [],
   "source": []
  },
  {
   "cell_type": "code",
   "execution_count": 91,
   "id": "dee3c1c0-2254-4bc3-8dc9-03ad4897fa2a",
   "metadata": {},
   "outputs": [
    {
     "name": "stdout",
     "output_type": "stream",
     "text": [
      "None\n"
     ]
    }
   ],
   "source": [
    "print(generate_3d_dataset.exclusion_mask)"
   ]
  },
  {
   "cell_type": "code",
   "execution_count": 92,
   "id": "596683ad-15e0-423f-8197-7f22100433ed",
   "metadata": {},
   "outputs": [
    {
     "name": "stdout",
     "output_type": "stream",
     "text": [
      "{'gal_diffuse': None, 'iso_diffuse': None, 'key_name': None, 'gal_diffuse_cutout': None}\n"
     ]
    }
   ],
   "source": [
    "print(generate_3d_dataset.diffuse_models)"
   ]
  },
  {
   "cell_type": "code",
   "execution_count": 93,
   "id": "21631776-8fde-4051-989c-6947a9c631cf",
   "metadata": {},
   "outputs": [
    {
     "name": "stdout",
     "output_type": "stream",
     "text": [
      "[]\n"
     ]
    }
   ],
   "source": [
    "print(generate_3d_dataset.list_source_models)"
   ]
  },
  {
   "cell_type": "code",
   "execution_count": 94,
   "id": "42204b75-4fe0-4d26-b608-8a41a9ae7520",
   "metadata": {},
   "outputs": [],
   "source": [
    "exclusion_regions = []"
   ]
  },
  {
   "cell_type": "code",
   "execution_count": 95,
   "id": "61b7f434-4965-491a-bea0-f0f763b00ed0",
   "metadata": {},
   "outputs": [],
   "source": [
    "filled_skymodel = False"
   ]
  },
  {
   "cell_type": "code",
   "execution_count": null,
   "id": "ed045a70-2d8f-4fd5-ada6-c5bfe923283a",
   "metadata": {},
   "outputs": [],
   "source": []
  },
  {
   "cell_type": "code",
   "execution_count": 115,
   "id": "2c7b64ac-2572-4575-866e-231411bb71be",
   "metadata": {},
   "outputs": [
    {
     "name": "stdout",
     "output_type": "stream",
     "text": [
      "CPU times: user 1.96 ms, sys: 760 µs, total: 2.72 ms\n",
      "Wall time: 2.03 ms\n"
     ]
    }
   ],
   "source": [
    "%%time\n",
    "file_list = generate_3d_dataset.read_to_objects(key_names)"
   ]
  },
  {
   "cell_type": "code",
   "execution_count": 116,
   "id": "a34d2f4a-109c-4ef6-a68c-25d71b49b342",
   "metadata": {
    "scrolled": true
   },
   "outputs": [
    {
     "data": {
      "text/plain": [
       "[PosixPath('/home/chaitanya/software/gammapy-datasets/1.1/hess-dl3-dr1/data/hess_dl3_dr1_obs_id_020136.fits.gz'),\n",
       " PosixPath('/home/chaitanya/software/gammapy-datasets/1.1/hess-dl3-dr1/data/hess_dl3_dr1_obs_id_020137.fits.gz'),\n",
       " PosixPath('/home/chaitanya/software/gammapy-datasets/1.1/hess-dl3-dr1/data/hess_dl3_dr1_obs_id_020151.fits.gz'),\n",
       " PosixPath('/home/chaitanya/software/gammapy-datasets/1.1/hess-dl3-dr1/data/hess_dl3_dr1_obs_id_020275.fits.gz'),\n",
       " PosixPath('/home/chaitanya/software/gammapy-datasets/1.1/hess-dl3-dr1/data/hess_dl3_dr1_obs_id_020282.fits.gz'),\n",
       " PosixPath('/home/chaitanya/software/gammapy-datasets/1.1/hess-dl3-dr1/data/hess_dl3_dr1_obs_id_020283.fits.gz'),\n",
       " PosixPath('/home/chaitanya/software/gammapy-datasets/1.1/hess-dl3-dr1/data/hess_dl3_dr1_obs_id_020301.fits.gz'),\n",
       " PosixPath('/home/chaitanya/software/gammapy-datasets/1.1/hess-dl3-dr1/data/hess_dl3_dr1_obs_id_020302.fits.gz'),\n",
       " PosixPath('/home/chaitanya/software/gammapy-datasets/1.1/hess-dl3-dr1/data/hess_dl3_dr1_obs_id_020303.fits.gz'),\n",
       " PosixPath('/home/chaitanya/software/gammapy-datasets/1.1/hess-dl3-dr1/data/hess_dl3_dr1_obs_id_020322.fits.gz'),\n",
       " PosixPath('/home/chaitanya/software/gammapy-datasets/1.1/hess-dl3-dr1/data/hess_dl3_dr1_obs_id_020323.fits.gz'),\n",
       " PosixPath('/home/chaitanya/software/gammapy-datasets/1.1/hess-dl3-dr1/data/hess_dl3_dr1_obs_id_020324.fits.gz'),\n",
       " PosixPath('/home/chaitanya/software/gammapy-datasets/1.1/hess-dl3-dr1/data/hess_dl3_dr1_obs_id_020325.fits.gz'),\n",
       " PosixPath('/home/chaitanya/software/gammapy-datasets/1.1/hess-dl3-dr1/data/hess_dl3_dr1_obs_id_020326.fits.gz'),\n",
       " PosixPath('/home/chaitanya/software/gammapy-datasets/1.1/hess-dl3-dr1/data/hess_dl3_dr1_obs_id_020327.fits.gz'),\n",
       " PosixPath('/home/chaitanya/software/gammapy-datasets/1.1/hess-dl3-dr1/data/hess_dl3_dr1_obs_id_020339.fits.gz'),\n",
       " PosixPath('/home/chaitanya/software/gammapy-datasets/1.1/hess-dl3-dr1/data/hess_dl3_dr1_obs_id_020343.fits.gz'),\n",
       " PosixPath('/home/chaitanya/software/gammapy-datasets/1.1/hess-dl3-dr1/data/hess_dl3_dr1_obs_id_020344.fits.gz'),\n",
       " PosixPath('/home/chaitanya/software/gammapy-datasets/1.1/hess-dl3-dr1/data/hess_dl3_dr1_obs_id_020345.fits.gz'),\n",
       " PosixPath('/home/chaitanya/software/gammapy-datasets/1.1/hess-dl3-dr1/data/hess_dl3_dr1_obs_id_020346.fits.gz'),\n",
       " PosixPath('/home/chaitanya/software/gammapy-datasets/1.1/hess-dl3-dr1/data/hess_dl3_dr1_obs_id_020349.fits.gz'),\n",
       " PosixPath('/home/chaitanya/software/gammapy-datasets/1.1/hess-dl3-dr1/data/hess_dl3_dr1_obs_id_020350.fits.gz'),\n",
       " PosixPath('/home/chaitanya/software/gammapy-datasets/1.1/hess-dl3-dr1/data/hess_dl3_dr1_obs_id_020365.fits.gz'),\n",
       " PosixPath('/home/chaitanya/software/gammapy-datasets/1.1/hess-dl3-dr1/data/hess_dl3_dr1_obs_id_020366.fits.gz'),\n",
       " PosixPath('/home/chaitanya/software/gammapy-datasets/1.1/hess-dl3-dr1/data/hess_dl3_dr1_obs_id_020367.fits.gz'),\n",
       " PosixPath('/home/chaitanya/software/gammapy-datasets/1.1/hess-dl3-dr1/data/hess_dl3_dr1_obs_id_020368.fits.gz'),\n",
       " PosixPath('/home/chaitanya/software/gammapy-datasets/1.1/hess-dl3-dr1/data/hess_dl3_dr1_obs_id_020396.fits.gz'),\n",
       " PosixPath('/home/chaitanya/software/gammapy-datasets/1.1/hess-dl3-dr1/data/hess_dl3_dr1_obs_id_020397.fits.gz'),\n",
       " PosixPath('/home/chaitanya/software/gammapy-datasets/1.1/hess-dl3-dr1/data/hess_dl3_dr1_obs_id_020421.fits.gz'),\n",
       " PosixPath('/home/chaitanya/software/gammapy-datasets/1.1/hess-dl3-dr1/data/hess_dl3_dr1_obs_id_020422.fits.gz'),\n",
       " PosixPath('/home/chaitanya/software/gammapy-datasets/1.1/hess-dl3-dr1/data/hess_dl3_dr1_obs_id_020517.fits.gz'),\n",
       " PosixPath('/home/chaitanya/software/gammapy-datasets/1.1/hess-dl3-dr1/data/hess_dl3_dr1_obs_id_020518.fits.gz'),\n",
       " PosixPath('/home/chaitanya/software/gammapy-datasets/1.1/hess-dl3-dr1/data/hess_dl3_dr1_obs_id_020519.fits.gz'),\n",
       " PosixPath('/home/chaitanya/software/gammapy-datasets/1.1/hess-dl3-dr1/data/hess_dl3_dr1_obs_id_020521.fits.gz'),\n",
       " PosixPath('/home/chaitanya/software/gammapy-datasets/1.1/hess-dl3-dr1/data/hess_dl3_dr1_obs_id_020561.fits.gz'),\n",
       " PosixPath('/home/chaitanya/software/gammapy-datasets/1.1/hess-dl3-dr1/data/hess_dl3_dr1_obs_id_020734.fits.gz'),\n",
       " PosixPath('/home/chaitanya/software/gammapy-datasets/1.1/hess-dl3-dr1/data/hess_dl3_dr1_obs_id_020898.fits.gz'),\n",
       " PosixPath('/home/chaitanya/software/gammapy-datasets/1.1/hess-dl3-dr1/data/hess_dl3_dr1_obs_id_020899.fits.gz'),\n",
       " PosixPath('/home/chaitanya/software/gammapy-datasets/1.1/hess-dl3-dr1/data/hess_dl3_dr1_obs_id_020900.fits.gz'),\n",
       " PosixPath('/home/chaitanya/software/gammapy-datasets/1.1/hess-dl3-dr1/data/hess_dl3_dr1_obs_id_020915.fits.gz'),\n",
       " PosixPath('/home/chaitanya/software/gammapy-datasets/1.1/hess-dl3-dr1/data/hess_dl3_dr1_obs_id_021613.fits.gz'),\n",
       " PosixPath('/home/chaitanya/software/gammapy-datasets/1.1/hess-dl3-dr1/data/hess_dl3_dr1_obs_id_021753.fits.gz'),\n",
       " PosixPath('/home/chaitanya/software/gammapy-datasets/1.1/hess-dl3-dr1/data/hess_dl3_dr1_obs_id_021807.fits.gz'),\n",
       " PosixPath('/home/chaitanya/software/gammapy-datasets/1.1/hess-dl3-dr1/data/hess_dl3_dr1_obs_id_021824.fits.gz'),\n",
       " PosixPath('/home/chaitanya/software/gammapy-datasets/1.1/hess-dl3-dr1/data/hess_dl3_dr1_obs_id_021851.fits.gz'),\n",
       " PosixPath('/home/chaitanya/software/gammapy-datasets/1.1/hess-dl3-dr1/data/hess_dl3_dr1_obs_id_022022.fits.gz'),\n",
       " PosixPath('/home/chaitanya/software/gammapy-datasets/1.1/hess-dl3-dr1/data/hess_dl3_dr1_obs_id_022593.fits.gz'),\n",
       " PosixPath('/home/chaitanya/software/gammapy-datasets/1.1/hess-dl3-dr1/data/hess_dl3_dr1_obs_id_022997.fits.gz'),\n",
       " PosixPath('/home/chaitanya/software/gammapy-datasets/1.1/hess-dl3-dr1/data/hess_dl3_dr1_obs_id_023040.fits.gz'),\n",
       " PosixPath('/home/chaitanya/software/gammapy-datasets/1.1/hess-dl3-dr1/data/hess_dl3_dr1_obs_id_023077.fits.gz'),\n",
       " PosixPath('/home/chaitanya/software/gammapy-datasets/1.1/hess-dl3-dr1/data/hess_dl3_dr1_obs_id_023143.fits.gz'),\n",
       " PosixPath('/home/chaitanya/software/gammapy-datasets/1.1/hess-dl3-dr1/data/hess_dl3_dr1_obs_id_023246.fits.gz'),\n",
       " PosixPath('/home/chaitanya/software/gammapy-datasets/1.1/hess-dl3-dr1/data/hess_dl3_dr1_obs_id_023523.fits.gz'),\n",
       " PosixPath('/home/chaitanya/software/gammapy-datasets/1.1/hess-dl3-dr1/data/hess_dl3_dr1_obs_id_023526.fits.gz'),\n",
       " PosixPath('/home/chaitanya/software/gammapy-datasets/1.1/hess-dl3-dr1/data/hess_dl3_dr1_obs_id_023559.fits.gz'),\n",
       " PosixPath('/home/chaitanya/software/gammapy-datasets/1.1/hess-dl3-dr1/data/hess_dl3_dr1_obs_id_023573.fits.gz'),\n",
       " PosixPath('/home/chaitanya/software/gammapy-datasets/1.1/hess-dl3-dr1/data/hess_dl3_dr1_obs_id_023592.fits.gz'),\n",
       " PosixPath('/home/chaitanya/software/gammapy-datasets/1.1/hess-dl3-dr1/data/hess_dl3_dr1_obs_id_023635.fits.gz'),\n",
       " PosixPath('/home/chaitanya/software/gammapy-datasets/1.1/hess-dl3-dr1/data/hess_dl3_dr1_obs_id_023651.fits.gz'),\n",
       " PosixPath('/home/chaitanya/software/gammapy-datasets/1.1/hess-dl3-dr1/data/hess_dl3_dr1_obs_id_023736.fits.gz'),\n",
       " PosixPath('/home/chaitanya/software/gammapy-datasets/1.1/hess-dl3-dr1/data/hess_dl3_dr1_obs_id_025345.fits.gz'),\n",
       " PosixPath('/home/chaitanya/software/gammapy-datasets/1.1/hess-dl3-dr1/data/hess_dl3_dr1_obs_id_025443.fits.gz'),\n",
       " PosixPath('/home/chaitanya/software/gammapy-datasets/1.1/hess-dl3-dr1/data/hess_dl3_dr1_obs_id_025511.fits.gz'),\n",
       " PosixPath('/home/chaitanya/software/gammapy-datasets/1.1/hess-dl3-dr1/data/hess_dl3_dr1_obs_id_026077.fits.gz'),\n",
       " PosixPath('/home/chaitanya/software/gammapy-datasets/1.1/hess-dl3-dr1/data/hess_dl3_dr1_obs_id_026791.fits.gz'),\n",
       " PosixPath('/home/chaitanya/software/gammapy-datasets/1.1/hess-dl3-dr1/data/hess_dl3_dr1_obs_id_026827.fits.gz'),\n",
       " PosixPath('/home/chaitanya/software/gammapy-datasets/1.1/hess-dl3-dr1/data/hess_dl3_dr1_obs_id_026850.fits.gz'),\n",
       " PosixPath('/home/chaitanya/software/gammapy-datasets/1.1/hess-dl3-dr1/data/hess_dl3_dr1_obs_id_026964.fits.gz'),\n",
       " PosixPath('/home/chaitanya/software/gammapy-datasets/1.1/hess-dl3-dr1/data/hess_dl3_dr1_obs_id_027044.fits.gz'),\n",
       " PosixPath('/home/chaitanya/software/gammapy-datasets/1.1/hess-dl3-dr1/data/hess_dl3_dr1_obs_id_027121.fits.gz'),\n",
       " PosixPath('/home/chaitanya/software/gammapy-datasets/1.1/hess-dl3-dr1/data/hess_dl3_dr1_obs_id_027939.fits.gz'),\n",
       " PosixPath('/home/chaitanya/software/gammapy-datasets/1.1/hess-dl3-dr1/data/hess_dl3_dr1_obs_id_027987.fits.gz'),\n",
       " PosixPath('/home/chaitanya/software/gammapy-datasets/1.1/hess-dl3-dr1/data/hess_dl3_dr1_obs_id_028341.fits.gz'),\n",
       " PosixPath('/home/chaitanya/software/gammapy-datasets/1.1/hess-dl3-dr1/data/hess_dl3_dr1_obs_id_028967.fits.gz'),\n",
       " PosixPath('/home/chaitanya/software/gammapy-datasets/1.1/hess-dl3-dr1/data/hess_dl3_dr1_obs_id_028981.fits.gz'),\n",
       " PosixPath('/home/chaitanya/software/gammapy-datasets/1.1/hess-dl3-dr1/data/hess_dl3_dr1_obs_id_029024.fits.gz'),\n",
       " PosixPath('/home/chaitanya/software/gammapy-datasets/1.1/hess-dl3-dr1/data/hess_dl3_dr1_obs_id_029072.fits.gz'),\n",
       " PosixPath('/home/chaitanya/software/gammapy-datasets/1.1/hess-dl3-dr1/data/hess_dl3_dr1_obs_id_029118.fits.gz'),\n",
       " PosixPath('/home/chaitanya/software/gammapy-datasets/1.1/hess-dl3-dr1/data/hess_dl3_dr1_obs_id_029177.fits.gz'),\n",
       " PosixPath('/home/chaitanya/software/gammapy-datasets/1.1/hess-dl3-dr1/data/hess_dl3_dr1_obs_id_029433.fits.gz'),\n",
       " PosixPath('/home/chaitanya/software/gammapy-datasets/1.1/hess-dl3-dr1/data/hess_dl3_dr1_obs_id_029487.fits.gz'),\n",
       " PosixPath('/home/chaitanya/software/gammapy-datasets/1.1/hess-dl3-dr1/data/hess_dl3_dr1_obs_id_029526.fits.gz'),\n",
       " PosixPath('/home/chaitanya/software/gammapy-datasets/1.1/hess-dl3-dr1/data/hess_dl3_dr1_obs_id_029556.fits.gz'),\n",
       " PosixPath('/home/chaitanya/software/gammapy-datasets/1.1/hess-dl3-dr1/data/hess_dl3_dr1_obs_id_029683.fits.gz'),\n",
       " PosixPath('/home/chaitanya/software/gammapy-datasets/1.1/hess-dl3-dr1/data/hess_dl3_dr1_obs_id_033787.fits.gz'),\n",
       " PosixPath('/home/chaitanya/software/gammapy-datasets/1.1/hess-dl3-dr1/data/hess_dl3_dr1_obs_id_033788.fits.gz'),\n",
       " PosixPath('/home/chaitanya/software/gammapy-datasets/1.1/hess-dl3-dr1/data/hess_dl3_dr1_obs_id_033789.fits.gz'),\n",
       " PosixPath('/home/chaitanya/software/gammapy-datasets/1.1/hess-dl3-dr1/data/hess_dl3_dr1_obs_id_033790.fits.gz'),\n",
       " PosixPath('/home/chaitanya/software/gammapy-datasets/1.1/hess-dl3-dr1/data/hess_dl3_dr1_obs_id_033791.fits.gz'),\n",
       " PosixPath('/home/chaitanya/software/gammapy-datasets/1.1/hess-dl3-dr1/data/hess_dl3_dr1_obs_id_033792.fits.gz'),\n",
       " PosixPath('/home/chaitanya/software/gammapy-datasets/1.1/hess-dl3-dr1/data/hess_dl3_dr1_obs_id_033793.fits.gz'),\n",
       " PosixPath('/home/chaitanya/software/gammapy-datasets/1.1/hess-dl3-dr1/data/hess_dl3_dr1_obs_id_033794.fits.gz'),\n",
       " PosixPath('/home/chaitanya/software/gammapy-datasets/1.1/hess-dl3-dr1/data/hess_dl3_dr1_obs_id_033795.fits.gz'),\n",
       " PosixPath('/home/chaitanya/software/gammapy-datasets/1.1/hess-dl3-dr1/data/hess_dl3_dr1_obs_id_033796.fits.gz'),\n",
       " PosixPath('/home/chaitanya/software/gammapy-datasets/1.1/hess-dl3-dr1/data/hess_dl3_dr1_obs_id_033797.fits.gz'),\n",
       " PosixPath('/home/chaitanya/software/gammapy-datasets/1.1/hess-dl3-dr1/data/hess_dl3_dr1_obs_id_033798.fits.gz'),\n",
       " PosixPath('/home/chaitanya/software/gammapy-datasets/1.1/hess-dl3-dr1/data/hess_dl3_dr1_obs_id_033799.fits.gz'),\n",
       " PosixPath('/home/chaitanya/software/gammapy-datasets/1.1/hess-dl3-dr1/data/hess_dl3_dr1_obs_id_033800.fits.gz'),\n",
       " PosixPath('/home/chaitanya/software/gammapy-datasets/1.1/hess-dl3-dr1/data/hess_dl3_dr1_obs_id_033801.fits.gz'),\n",
       " PosixPath('/home/chaitanya/software/gammapy-datasets/1.1/hess-dl3-dr1/data/hess_dl3_dr1_obs_id_047802.fits.gz'),\n",
       " PosixPath('/home/chaitanya/software/gammapy-datasets/1.1/hess-dl3-dr1/data/hess_dl3_dr1_obs_id_047803.fits.gz'),\n",
       " PosixPath('/home/chaitanya/software/gammapy-datasets/1.1/hess-dl3-dr1/data/hess_dl3_dr1_obs_id_047804.fits.gz'),\n",
       " PosixPath('/home/chaitanya/software/gammapy-datasets/1.1/hess-dl3-dr1/data/hess_dl3_dr1_obs_id_047827.fits.gz'),\n",
       " PosixPath('/home/chaitanya/software/gammapy-datasets/1.1/hess-dl3-dr1/data/hess_dl3_dr1_obs_id_047828.fits.gz'),\n",
       " PosixPath('/home/chaitanya/software/gammapy-datasets/1.1/hess-dl3-dr1/data/hess_dl3_dr1_obs_id_047829.fits.gz')]"
      ]
     },
     "execution_count": 116,
     "metadata": {},
     "output_type": "execute_result"
    }
   ],
   "source": [
    "file_list"
   ]
  },
  {
   "cell_type": "code",
   "execution_count": null,
   "id": "1a6d9636-6c29-4d1c-8da1-ef1d973077ab",
   "metadata": {},
   "outputs": [],
   "source": []
  },
  {
   "cell_type": "markdown",
   "id": "a2dc7cb1-48b4-4ebe-8b25-4afd03a800b7",
   "metadata": {},
   "source": [
    "# Start filtering data/models"
   ]
  },
  {
   "cell_type": "markdown",
   "id": "16349c0a-9fbd-48b1-b9d2-656f9058b74e",
   "metadata": {},
   "source": [
    "## Filter Observations"
   ]
  },
  {
   "cell_type": "code",
   "execution_count": 117,
   "id": "23a8414e-bd9c-4f61-9c64-5588dfa8906e",
   "metadata": {},
   "outputs": [],
   "source": [
    "from asgardpy.base.geom import (\n",
    "    get_source_position, \n",
    "    generate_geom,\n",
    ")\n",
    "from asgardpy.base.reduction import (\n",
    "    get_filtered_observations,\n",
    ")"
   ]
  },
  {
   "cell_type": "code",
   "execution_count": 67,
   "id": "29d254b8-b471-4e69-b08a-874acc3736ab",
   "metadata": {},
   "outputs": [
    {
     "name": "stderr",
     "output_type": "stream",
     "text": [
      "Observation ID list selected: 23523 23526 23559\n",
      "Observations selected: 3 out of 3.\n"
     ]
    }
   ],
   "source": [
    "observations = get_filtered_observations(\n",
    "    dl3_path=generate_3d_dataset.config_3d_dataset.input_dl3[0].input_dir,\n",
    "    obs_config=generate_3d_dataset.config_3d_dataset.dataset_info.observation,\n",
    "    log=generate_3d_dataset.log,\n",
    ")"
   ]
  },
  {
   "cell_type": "code",
   "execution_count": 68,
   "id": "a2b40f66-a475-4049-82d4-9cb61e58400d",
   "metadata": {
    "scrolled": true
   },
   "outputs": [
    {
     "name": "stdout",
     "output_type": "stream",
     "text": [
      "Observations\n",
      "Number of observations: 3\n",
      "Observation\n",
      "\n",
      "\tobs id            : 23523 \n",
      " \ttstart            : 53343.92\n",
      "\ttstop             : 53343.94\n",
      "\tduration          : 1687.00 s\n",
      "\tpointing (icrs)   : 83.6 deg, 21.5 deg\n",
      "\n",
      "\tdeadtime fraction : 6.2%\n",
      "Observation\n",
      "\n",
      "\tobs id            : 23526 \n",
      " \ttstart            : 53343.95\n",
      "\ttstop             : 53343.97\n",
      "\tduration          : 1683.00 s\n",
      "\tpointing (icrs)   : 83.6 deg, 22.5 deg\n",
      "\n",
      "\tdeadtime fraction : 6.6%\n",
      "Observation\n",
      "\n",
      "\tobs id            : 23559 \n",
      " \ttstart            : 53345.96\n",
      "\ttstop             : 53345.98\n",
      "\tduration          : 1686.00 s\n",
      "\tpointing (icrs)   : 85.3 deg, 22.0 deg\n",
      "\n",
      "\tdeadtime fraction : 6.4%\n",
      "\n"
     ]
    }
   ],
   "source": [
    "print(observations)"
   ]
  },
  {
   "cell_type": "code",
   "execution_count": null,
   "id": "d3ccdb61-93a9-41f1-a9b7-284458a78cb9",
   "metadata": {},
   "outputs": [],
   "source": []
  },
  {
   "cell_type": "code",
   "execution_count": null,
   "id": "a7463785-444a-43fa-b81e-4afc31350c9f",
   "metadata": {},
   "outputs": [],
   "source": [
    "# filter observations based on the obs cone"
   ]
  },
  {
   "cell_type": "code",
   "execution_count": 118,
   "id": "861d7fa1-1094-4f12-a01e-fb9257055bdf",
   "metadata": {},
   "outputs": [
    {
     "data": {
      "text/plain": [
       "{'obs_ids': [],\n",
       " 'obs_file': PosixPath('.'),\n",
       " 'obs_time': [{'format': 'iso',\n",
       "   'start': '2004-12-04 22:00:00.000',\n",
       "   'stop': '2004-12-04 22:44:00.000'},\n",
       "  {'format': 'mjd', 'start': '53343.947916666', 'stop': '53343.989583333'},\n",
       "  {'format': 'iso',\n",
       "   'start': '2004-12-05 00:00:00.000',\n",
       "   'stop': '2004-12-07 00:00:00.000'}],\n",
       " 'obs_cone': {'frame': 'icrs',\n",
       "  'lon': <Quantity 83.633 deg>,\n",
       "  'lat': <Quantity 22.014 deg>,\n",
       "  'radius': <Quantity 5. deg>},\n",
       " 'required_irfs': ['aeff', 'edisp', 'psf', 'bkg']}"
      ]
     },
     "execution_count": 118,
     "metadata": {},
     "output_type": "execute_result"
    }
   ],
   "source": [
    "generate_3d_dataset.config_3d_dataset.dataset_info.observation.dict()"
   ]
  },
  {
   "cell_type": "code",
   "execution_count": 119,
   "id": "c544027a-c1bb-47bc-a568-b466ffb82d5b",
   "metadata": {},
   "outputs": [],
   "source": [
    "temp_obs_1 = generate_3d_dataset.config_3d_dataset.dataset_info.observation\n",
    "temp_obs_1.obs_cone = {}"
   ]
  },
  {
   "cell_type": "code",
   "execution_count": 120,
   "id": "df0f6e4b-03dc-43cb-8f65-facd91f932b7",
   "metadata": {},
   "outputs": [
    {
     "data": {
      "text/plain": [
       "{'obs_ids': [],\n",
       " 'obs_file': PosixPath('.'),\n",
       " 'obs_time': [{'format': 'iso',\n",
       "   'start': '2004-12-04 22:00:00.000',\n",
       "   'stop': '2004-12-04 22:44:00.000'},\n",
       "  {'format': 'mjd', 'start': '53343.947916666', 'stop': '53343.989583333'},\n",
       "  {'format': 'iso',\n",
       "   'start': '2004-12-05 00:00:00.000',\n",
       "   'stop': '2004-12-07 00:00:00.000'}],\n",
       " 'obs_cone': {'frame': 'icrs',\n",
       "  'lon': <Quantity 0. deg>,\n",
       "  'lat': <Quantity 0. deg>,\n",
       "  'radius': <Quantity 0. deg>},\n",
       " 'required_irfs': ['aeff', 'edisp', 'psf', 'bkg']}"
      ]
     },
     "execution_count": 120,
     "metadata": {},
     "output_type": "execute_result"
    }
   ],
   "source": [
    "temp_obs_1.dict()"
   ]
  },
  {
   "cell_type": "code",
   "execution_count": 121,
   "id": "10f2f673-b2ed-4b2c-9ad0-b863d4d17457",
   "metadata": {},
   "outputs": [
    {
     "name": "stderr",
     "output_type": "stream",
     "text": [
      "Observation ID list selected: 23523 23526 23559\n",
      "Observations selected: 3 out of 3.\n"
     ]
    }
   ],
   "source": [
    "obs_temp_1 = get_filtered_observations(\n",
    "    dl3_path=generate_3d_dataset.config_3d_dataset.input_dl3[0].input_dir,\n",
    "    obs_config=temp_obs_1,\n",
    "    log=generate_3d_dataset.log,\n",
    ")"
   ]
  },
  {
   "cell_type": "code",
   "execution_count": 122,
   "id": "df844fc0-c1c5-49d4-9a78-82e1e205293d",
   "metadata": {},
   "outputs": [
    {
     "name": "stdout",
     "output_type": "stream",
     "text": [
      "['23523', '23526', '23559']\n"
     ]
    }
   ],
   "source": [
    "print(obs_temp_1.ids)"
   ]
  },
  {
   "cell_type": "code",
   "execution_count": 123,
   "id": "fc51e522-5295-44d9-b32e-6796c06a2e4d",
   "metadata": {},
   "outputs": [
    {
     "name": "stdout",
     "output_type": "stream",
     "text": [
      "frame='icrs' lon=<Quantity 0. deg> lat=<Quantity 0. deg> radius=<Quantity 0. deg>\n"
     ]
    }
   ],
   "source": [
    "temp_obs_2 = generate_3d_dataset.config_3d_dataset.dataset_info.observation\n",
    "print(temp_obs_2.obs_cone)"
   ]
  },
  {
   "cell_type": "code",
   "execution_count": 124,
   "id": "bce9e1f4-5b08-42e4-91fd-b7af8910a7a4",
   "metadata": {},
   "outputs": [
    {
     "data": {
      "text/plain": [
       "{'obs_ids': [],\n",
       " 'obs_file': PosixPath('.'),\n",
       " 'obs_time': [{'format': 'iso',\n",
       "   'start': '2004-12-04 22:00:00.000',\n",
       "   'stop': '2004-12-04 22:44:00.000'},\n",
       "  {'format': 'mjd', 'start': '53343.947916666', 'stop': '53343.989583333'},\n",
       "  {'format': 'iso',\n",
       "   'start': '2004-12-05 00:00:00.000',\n",
       "   'stop': '2004-12-07 00:00:00.000'}],\n",
       " 'obs_cone': {'frame': 'icrs',\n",
       "  'lon': <Quantity 0. deg>,\n",
       "  'lat': <Quantity 0. deg>,\n",
       "  'radius': <Quantity 0. deg>},\n",
       " 'required_irfs': ['aeff', 'edisp', 'psf', 'bkg']}"
      ]
     },
     "execution_count": 124,
     "metadata": {},
     "output_type": "execute_result"
    }
   ],
   "source": [
    "generate_3d_dataset.config_3d_dataset.dataset_info.observation.dict()"
   ]
  },
  {
   "cell_type": "code",
   "execution_count": null,
   "id": "f4887691-b756-4d50-8e95-fcad2cf25503",
   "metadata": {},
   "outputs": [],
   "source": [
    "obs_temp_2 = get_filtered_observations(\n",
    "    dl3_path=generate_3d_dataset.config_3d_dataset.input_dl3[0].input_dir,\n",
    "    obs_config=temp_obs,\n",
    "    log=generate_3d_dataset.log,\n",
    ")"
   ]
  }
 ],
 "metadata": {
  "kernelspec": {
   "display_name": "asgardpy",
   "language": "python",
   "name": "asgardpy"
  },
  "language_info": {
   "codemirror_mode": {
    "name": "ipython",
    "version": 3
   },
   "file_extension": ".py",
   "mimetype": "text/x-python",
   "name": "python",
   "nbconvert_exporter": "python",
   "pygments_lexer": "ipython3",
   "version": "3.11.4"
  }
 },
 "nbformat": 4,
 "nbformat_minor": 5
}
