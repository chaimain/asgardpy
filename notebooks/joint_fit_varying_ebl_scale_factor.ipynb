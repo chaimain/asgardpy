{
 "cells": [
  {
   "cell_type": "code",
   "execution_count": 1,
   "id": "af81d3fb",
   "metadata": {},
   "outputs": [],
   "source": [
    "from asgardpy.analysis import AsgardpyAnalysis\n",
    "from asgardpy.config import AsgardpyConfig\n",
    "from asgardpy.utils.plot import (\n",
    "    plot_parameter_stat_profile,\n",
    "    plot_spectrum_fp,\n",
    "    plot_spectrum_model\n",
    ")\n",
    "from gammapy.modeling.models import Models, create_crab_spectral_model\n",
    "\n",
    "import matplotlib.pyplot as plt\n",
    "import numpy as np\n",
    "from scipy.stats import chi2, norm\n",
    "import astropy.units as u\n",
    "\n",
    "import copy\n"
   ]
  },
  {
   "cell_type": "code",
   "execution_count": 2,
   "id": "09aaf47f",
   "metadata": {},
   "outputs": [],
   "source": [
    "base_dir = \"/fefs/aswg/workspace/chaitanya.priyadarshi/\"\n",
    "config_file = base_dir + \"analyze_pg1553_full.yaml\"\n",
    "output_dir = base_dir + \"real_data/AGN/PG1553/v09x/tailcut84/DL3/interp_irf_en_dep/no_tuning/geff_80/teff_80/20220511_dec931/joint_fit/\""
   ]
  },
  {
   "cell_type": "code",
   "execution_count": 3,
   "id": "516c0be4",
   "metadata": {},
   "outputs": [],
   "source": [
    "config = AsgardpyConfig()"
   ]
  },
  {
   "cell_type": "code",
   "execution_count": 4,
   "id": "9e137bc0",
   "metadata": {},
   "outputs": [],
   "source": [
    "config_main = config.read(config_file)"
   ]
  },
  {
   "cell_type": "code",
   "execution_count": 5,
   "id": "daad0ef7",
   "metadata": {},
   "outputs": [
    {
     "name": "stdout",
     "output_type": "stream",
     "text": [
      "('log', LogConfig(level='info', filename=None, filemode=None, format=None, datefmt=None))\n",
      "('outdir', '/fefs/aswg/workspace/chaitanya.priyadarshi/real_data/AGN/PG1553/v09x/tailcut84/DL3/interp_irf_en_dep/no_tuning/geff_80/teff_80/20220511_dec931/joint_fit/')\n",
      "('n_jobs', 1)\n",
      "('steps', [<AnalysisStepEnum.datasets_3d: 'datasets-3d'>, <AnalysisStepEnum.datasets_1d: 'datasets-1d'>, <AnalysisStepEnum.fit: 'fit'>, <AnalysisStepEnum.flux_points: 'flux-points'>])\n",
      "('overwrite', True)\n",
      "('stacked_dataset', True)\n"
     ]
    }
   ],
   "source": [
    "for g in config_main.general:\n",
    "    print(g)"
   ]
  },
  {
   "cell_type": "markdown",
   "id": "3b3ac760",
   "metadata": {},
   "source": [
    "# Steps mentioned in the main config file"
   ]
  },
  {
   "cell_type": "code",
   "execution_count": 6,
   "id": "e9315b16",
   "metadata": {},
   "outputs": [
    {
     "data": {
      "text/plain": [
       "[<AnalysisStepEnum.datasets_3d: 'datasets-3d'>,\n",
       " <AnalysisStepEnum.datasets_1d: 'datasets-1d'>,\n",
       " <AnalysisStepEnum.fit: 'fit'>,\n",
       " <AnalysisStepEnum.flux_points: 'flux-points'>]"
      ]
     },
     "execution_count": 6,
     "metadata": {},
     "output_type": "execute_result"
    }
   ],
   "source": [
    "config_main.general.steps"
   ]
  },
  {
   "cell_type": "code",
   "execution_count": 7,
   "id": "085db76b",
   "metadata": {},
   "outputs": [
    {
     "data": {
      "text/plain": [
       "[<AnalysisStepEnum.datasets_3d: 'datasets-3d'>,\n",
       " <AnalysisStepEnum.datasets_1d: 'datasets-1d'>]"
      ]
     },
     "execution_count": 7,
     "metadata": {},
     "output_type": "execute_result"
    }
   ],
   "source": [
    "# Select first only the joint datasets creation and getting the final model object\n",
    "config_main.general.steps = [\"datasets-3d\", \"datasets-1d\"]\n",
    "config_main.general.steps"
   ]
  },
  {
   "cell_type": "markdown",
   "id": "9cd003bb",
   "metadata": {},
   "source": [
    "# Target source information"
   ]
  },
  {
   "cell_type": "code",
   "execution_count": 8,
   "id": "90e55950",
   "metadata": {},
   "outputs": [
    {
     "name": "stdout",
     "output_type": "stream",
     "text": [
      "PG1553+113 frame=<FrameEnum.icrs: 'icrs'> lon=<Angle 238.92934976 deg> lat=<Angle 11.19010155 deg>\n",
      "('model_name', 'LogParabola')\n",
      "('type', 'LogParabolaSpectralModel')\n",
      "('parameters', [ModelParams(name='amplitude', value=8.2e-06, unit='cm-2 s-1 TeV-1', error=1.5e-06, min=0.0, max=0.01, frozen=False), ModelParams(name='reference', value=0.01, unit='TeV', error=0.0, min=0.001, max=100.0, frozen=True), ModelParams(name='alpha', value=1.5, unit='', error=0.1, min=0.5, max=5.0, frozen=False), ModelParams(name='beta', value=0.1, unit='', error=0.01, min=0.0, max=1.0, frozen=False)])\n",
      "('ebl_abs', EBLAbsorptionModel(model_name='dominguez', type='EBLAbsorptionNormSpectralModel', redshift=0.433, alpha_norm=1.0))\n",
      "('model_name', None)\n",
      "('type', None)\n",
      "('parameters', [ModelParams(name=None, value=None, unit=None, error=None, min=None, max=None, frozen=True)])\n"
     ]
    }
   ],
   "source": [
    "print(config_main.target.source_name, config_main.target.sky_position)\n",
    "\n",
    "for c in config_main.target.components.spectral:\n",
    "    print(c)\n",
    "for c in config_main.target.components.spatial:\n",
    "    print(c)"
   ]
  },
  {
   "cell_type": "markdown",
   "id": "81457b49",
   "metadata": {},
   "source": [
    "# Datasets informations"
   ]
  },
  {
   "cell_type": "code",
   "execution_count": 9,
   "id": "10750084",
   "metadata": {},
   "outputs": [
    {
     "name": "stdout",
     "output_type": "stream",
     "text": [
      "('type', <ReductionTypeEnum.cube: '3d'>)\n",
      "('instruments', [Dataset3DBaseConfig(name='Fermi-LAT', io=[InputConfig(type='lat', input_dir=PosixPath('/fefs/aswg/workspace/lst1-agn-paper/LAT/PG1553+113/Analysis1/EBL/LogParabola'), glob_pattern={'events': '*MkTime.fits*', 'edisp': '*LogParabola*eDRM.fits*', 'xml_model': '*out.xml', 'exposure': '*BinnedMap.fits*', 'psf': '*psf.fits*'}), InputConfig(type='lat-aux', input_dir=PosixPath('/fefs/aswg/workspace/lst1-agn-paper/LAT/diffuse_models'), glob_pattern={'diffuse': 'gll_iem_v07.fits*', 'iso': 'iso_P8R3_SOURCE_V3_*.txt'})], dataset_info=Dataset3DInfoConfig(name='Fermi-LAT', key=['FRONT', 'BACK'], map_selection=[<MapSelectionEnum.counts: 'counts'>, <MapSelectionEnum.exposure: 'exposure'>, <MapSelectionEnum.background: 'background'>, <MapSelectionEnum.psf: 'psf'>, <MapSelectionEnum.edisp: 'edisp'>], obs_time=TimeIntervalsConfig(format=<TimeFormatEnum.iso: 'iso'>, intervals=[TimeRangeConfig(start=<Time object: scale='utc' format='iso' value=2021-04-01 00:00:00.000>, stop=<Time object: scale='utc' format='iso' value=2022-05-25 00:00:00.000>)]), background=BackgroundConfig(method=None, region_finder_method=None, parameters={}, exclusion={'target_source': True, 'regions': [{'type': 'CircleAnnulusSkyRegion', 'name': 'None', 'position': {'frame': 'icrs', 'lon': '238.92934976 deg', 'lat': '11.19010155 deg'}, 'parameters': {'rad_0': '8 deg', 'rad_1': '30 deg'}}]}), safe_mask=SafeMaskConfig(methods=[], parameters={'min': '0.1 GeV', 'max': '1 TeV'}), on_region=SpatialCircleConfig(frame=<FrameEnum.icrs: 'icrs'>, lon=<Angle 238.92934976 deg>, lat=<Angle 11.19010155 deg>, radius=None), containment_correction=True, spectral_energy_range=EnergyAxisConfig(min=<Quantity 100. MeV>, max=<Quantity 1. TeV>, nbins=2)))])\n",
      "('type', <ReductionTypeEnum.spectrum: '1d'>)\n",
      "('instruments', [Dataset1DBaseConfig(name='LST-1', io=[InputConfig(type='lst-1', input_dir=PosixPath('/fefs/aswg/workspace/chaitanya.priyadarshi/real_data/AGN/PG1553/v09x/tailcut84/DL3/interp_irf_en_dep/no_tuning/geff_80/teff_80/20220511_dec931'), glob_pattern={'dl3': '202*/dl3*fits'})], dataset_info=Dataset1DInfoConfig(name='LST-1', geom=GeomConfig(wcs=WcsConfig(skydir=SkyCoordConfig(frame=None, lon=None, lat=None), binsize=<Angle 0.02 deg>, final_frame=FinalFrameConfig(width=<Angle 5. deg>, height=<Angle 5. deg>), binsize_irf=<Angle 0.2 deg>), selection=SelectionConfig(offset_max=<Angle 2.5 deg>), axes=EnergyAxesConfig(energy=EnergyAxisConfig(min=<Quantity 10. GeV>, max=<Quantity 10. TeV>, nbins=5), energy_true=EnergyAxisConfig(min=<Quantity 10. GeV>, max=<Quantity 10. TeV>, nbins=5))), observation=ObservationsConfig(obs_ids=[], obs_file=None, obs_time=TimeIntervalsConfig(format=<TimeFormatEnum.iso: 'iso'>, intervals=[TimeRangeConfig(start=<Time object: scale='utc' format='iso' value=2021-04-01 00:00:00.000>, stop=<Time object: scale='utc' format='iso' value=2022-05-25 00:00:00.000>)]), required_irfs=[<RequiredHDUEnum.aeff: 'aeff'>, <RequiredHDUEnum.edisp: 'edisp'>, <RequiredHDUEnum.rad_max: 'rad_max'>]), background=BackgroundConfig(method=<BackgroundMethodEnum.reflected: 'reflected'>, region_finder_method=<BackgroundRegionFinderMethodEnum.wobble: 'wobble'>, parameters={'n_off_regions': 1}, exclusion={'name': 'None', 'position': {'frame': 'galactic', 'lon': '183.604 deg', 'lat': '-8.708 deg'}, 'region_radius': '0.5 deg'}), safe_mask=SafeMaskConfig(methods=[<SafeMaskMethodsEnum.custom_mask: 'custom-mask'>], parameters={'min': '10 GeV', 'max': '10 TeV', 'aeff_percent': 10, 'bias_percent': 10, 'fixed_offset': '0.1 deg', 'offset_max': '3 deg', 'position': {'frame': 'icrs', 'lon': '238.92934976 deg', 'lat': '11.19010155 deg'}}), on_region=SpatialPointConfig(frame=<FrameEnum.icrs: 'icrs'>, lon=<Angle 238.92934976 deg>, lat=<Angle 11.19010155 deg>), containment_correction=False, map_selection=[<MapSelectionEnum.counts: 'counts'>, <MapSelectionEnum.exposure: 'exposure'>, <MapSelectionEnum.edisp: 'edisp'>], spectral_energy_range=EnergyAxisConfig(min=<Quantity 10. GeV>, max=<Quantity 10. TeV>, nbins=5)))])\n"
     ]
    }
   ],
   "source": [
    "for cc in config_main.dataset3d:\n",
    "    print(cc)\n",
    "for cc in config_main.dataset1d:\n",
    "    print(cc)"
   ]
  },
  {
   "cell_type": "code",
   "execution_count": null,
   "id": "cfa238de",
   "metadata": {},
   "outputs": [],
   "source": []
  },
  {
   "cell_type": "code",
   "execution_count": 10,
   "id": "f21bcfa9",
   "metadata": {},
   "outputs": [
    {
     "name": "stderr",
     "output_type": "stream",
     "text": [
      "Setting logging config: {'level': 'INFO', 'filename': None, 'filemode': None, 'format': None, 'datefmt': None}\n"
     ]
    }
   ],
   "source": [
    "analysis = AsgardpyAnalysis(config_main)"
   ]
  },
  {
   "cell_type": "code",
   "execution_count": null,
   "id": "4e6d59b7",
   "metadata": {},
   "outputs": [],
   "source": []
  },
  {
   "cell_type": "markdown",
   "id": "f48cfbcf",
   "metadata": {},
   "source": [
    "# Run the steps to create the joint dataset and get the final model"
   ]
  },
  {
   "cell_type": "code",
   "execution_count": 11,
   "id": "d16ba1d8",
   "metadata": {},
   "outputs": [
    {
     "name": "stderr",
     "output_type": "stream",
     "text": [
      "1 number of 3D Datasets given\n",
      "The different keys used: ['FRONT', 'BACK']\n",
      "The list of DL3 event files for LAT selected: [PosixPath('/fefs/aswg/workspace/lst1-agn-paper/LAT/PG1553+113/Analysis1/EBL/LogParabola/PG_1553+113_LAT_Analysis_BACK_MkTime.fits.gz'), PosixPath('/fefs/aswg/workspace/lst1-agn-paper/LAT/PG1553+113/Analysis1/EBL/LogParabola/PG_1553+113_LAT_Analysis_FRONT_MkTime.fits.gz')]\n",
      "The list of Detector Response Matrix files for LAT selected: [PosixPath('/fefs/aswg/workspace/lst1-agn-paper/LAT/PG1553+113/Analysis1/EBL/LogParabola/PG_1553+113_LAT_Analysis_BACK_LogParabola_eDRM.fits.gz'), PosixPath('/fefs/aswg/workspace/lst1-agn-paper/LAT/PG1553+113/Analysis1/EBL/LogParabola/PG_1553+113_LAT_Analysis_FRONT_LogParabola_eDRM.fits.gz')]\n",
      "The list of XML files for LAT selected: [PosixPath('/fefs/aswg/workspace/lst1-agn-paper/LAT/PG1553+113/Analysis1/EBL/LogParabola/PG_1553+113_LogParabola_LAT_Analysis_out.xml')]\n",
      "The list of Exposure Map files for LAT selected: [PosixPath('/fefs/aswg/workspace/lst1-agn-paper/LAT/PG1553+113/Analysis1/EBL/LogParabola/PG_1553+113_LAT_Analysis_BACK_BinnedMap.fits.gz'), PosixPath('/fefs/aswg/workspace/lst1-agn-paper/LAT/PG1553+113/Analysis1/EBL/LogParabola/PG_1553+113_LAT_Analysis_FRONT_BinnedMap.fits.gz')]\n",
      "The list of PSF files for LAT selected: [PosixPath('/fefs/aswg/workspace/lst1-agn-paper/LAT/PG1553+113/Analysis1/EBL/LogParabola/PG_1553+113_LAT_Analysis_BACK_LogParabola_psf.fits.gz'), PosixPath('/fefs/aswg/workspace/lst1-agn-paper/LAT/PG1553+113/Analysis1/EBL/LogParabola/PG_1553+113_LAT_Analysis_FRONT_LogParabola_psf.fits.gz')]\n",
      "WARNING: FITSFixedWarning: RADECSYS= 'FK5 ' \n",
      "the RADECSYS keyword is deprecated, use RADESYSa. [astropy.wcs.wcs]\n",
      "FITSFixedWarning: RADECSYS= 'FK5 ' \n",
      "the RADECSYS keyword is deprecated, use RADESYSa.\n",
      "WARNING: FITSFixedWarning: 'datfix' made the change 'Set DATEREF to '2001-01-01T00:01:04.184' from MJDREF.\n",
      "Set MJD-OBS to 59311.500100 from DATE-OBS.\n",
      "Set MJD-END to 59723.499648 from DATE-END'. [astropy.wcs.wcs]\n",
      "FITSFixedWarning: 'datfix' made the change 'Set DATEREF to '2001-01-01T00:01:04.184' from MJDREF.\n",
      "Set MJD-OBS to 59311.500100 from DATE-OBS.\n",
      "Set MJD-END to 59723.499648 from DATE-END'.\n",
      "The list of Diffuse Galactic sources for LAT-Aux selected: [PosixPath('/fefs/aswg/workspace/lst1-agn-paper/LAT/diffuse_models/gll_iem_v07.fits')]\n",
      "The list of Isotropic Diffuse model files for LAT-Aux selected: [PosixPath('/fefs/aswg/workspace/lst1-agn-paper/LAT/diffuse_models/iso_P8R3_SOURCE_V3_BACK_v1.txt'), PosixPath('/fefs/aswg/workspace/lst1-agn-paper/LAT/diffuse_models/iso_P8R3_SOURCE_V3_FRONT_v1.txt'), PosixPath('/fefs/aswg/workspace/lst1-agn-paper/LAT/diffuse_models/iso_P8R3_SOURCE_V3_PSF0_v1.txt'), PosixPath('/fefs/aswg/workspace/lst1-agn-paper/LAT/diffuse_models/iso_P8R3_SOURCE_V3_PSF1_v1.txt'), PosixPath('/fefs/aswg/workspace/lst1-agn-paper/LAT/diffuse_models/iso_P8R3_SOURCE_V3_PSF2_v1.txt'), PosixPath('/fefs/aswg/workspace/lst1-agn-paper/LAT/diffuse_models/iso_P8R3_SOURCE_V3_PSF3_v1.txt'), PosixPath('/fefs/aswg/workspace/lst1-agn-paper/LAT/diffuse_models/iso_P8R3_SOURCE_V3_v1.txt')]\n",
      "Using the background region from config for exclusion mask\n",
      "The list of DL3 event files for LAT selected: [PosixPath('/fefs/aswg/workspace/lst1-agn-paper/LAT/PG1553+113/Analysis1/EBL/LogParabola/PG_1553+113_LAT_Analysis_BACK_MkTime.fits.gz'), PosixPath('/fefs/aswg/workspace/lst1-agn-paper/LAT/PG1553+113/Analysis1/EBL/LogParabola/PG_1553+113_LAT_Analysis_FRONT_MkTime.fits.gz')]\n",
      "The list of Detector Response Matrix files for LAT selected: [PosixPath('/fefs/aswg/workspace/lst1-agn-paper/LAT/PG1553+113/Analysis1/EBL/LogParabola/PG_1553+113_LAT_Analysis_BACK_LogParabola_eDRM.fits.gz'), PosixPath('/fefs/aswg/workspace/lst1-agn-paper/LAT/PG1553+113/Analysis1/EBL/LogParabola/PG_1553+113_LAT_Analysis_FRONT_LogParabola_eDRM.fits.gz')]\n",
      "The list of XML files for LAT selected: [PosixPath('/fefs/aswg/workspace/lst1-agn-paper/LAT/PG1553+113/Analysis1/EBL/LogParabola/PG_1553+113_LogParabola_LAT_Analysis_out.xml')]\n",
      "The list of Exposure Map files for LAT selected: [PosixPath('/fefs/aswg/workspace/lst1-agn-paper/LAT/PG1553+113/Analysis1/EBL/LogParabola/PG_1553+113_LAT_Analysis_BACK_BinnedMap.fits.gz'), PosixPath('/fefs/aswg/workspace/lst1-agn-paper/LAT/PG1553+113/Analysis1/EBL/LogParabola/PG_1553+113_LAT_Analysis_FRONT_BinnedMap.fits.gz')]\n",
      "The list of PSF files for LAT selected: [PosixPath('/fefs/aswg/workspace/lst1-agn-paper/LAT/PG1553+113/Analysis1/EBL/LogParabola/PG_1553+113_LAT_Analysis_BACK_LogParabola_psf.fits.gz'), PosixPath('/fefs/aswg/workspace/lst1-agn-paper/LAT/PG1553+113/Analysis1/EBL/LogParabola/PG_1553+113_LAT_Analysis_FRONT_LogParabola_psf.fits.gz')]\n",
      "WARNING: FITSFixedWarning: RADECSYS= 'FK5 ' \n",
      "the RADECSYS keyword is deprecated, use RADESYSa. [astropy.wcs.wcs]\n",
      "FITSFixedWarning: RADECSYS= 'FK5 ' \n",
      "the RADECSYS keyword is deprecated, use RADESYSa.\n",
      "WARNING: FITSFixedWarning: 'datfix' made the change 'Set DATEREF to '2001-01-01T00:01:04.184' from MJDREF.\n",
      "Set MJD-OBS to 59311.500100 from DATE-OBS.\n",
      "Set MJD-END to 59723.499648 from DATE-END'. [astropy.wcs.wcs]\n",
      "FITSFixedWarning: 'datfix' made the change 'Set DATEREF to '2001-01-01T00:01:04.184' from MJDREF.\n",
      "Set MJD-OBS to 59311.500100 from DATE-OBS.\n",
      "Set MJD-END to 59723.499648 from DATE-END'.\n",
      "The list of Diffuse Galactic sources for LAT-Aux selected: [PosixPath('/fefs/aswg/workspace/lst1-agn-paper/LAT/diffuse_models/gll_iem_v07.fits')]\n",
      "The list of Isotropic Diffuse model files for LAT-Aux selected: [PosixPath('/fefs/aswg/workspace/lst1-agn-paper/LAT/diffuse_models/iso_P8R3_SOURCE_V3_BACK_v1.txt'), PosixPath('/fefs/aswg/workspace/lst1-agn-paper/LAT/diffuse_models/iso_P8R3_SOURCE_V3_FRONT_v1.txt'), PosixPath('/fefs/aswg/workspace/lst1-agn-paper/LAT/diffuse_models/iso_P8R3_SOURCE_V3_PSF0_v1.txt'), PosixPath('/fefs/aswg/workspace/lst1-agn-paper/LAT/diffuse_models/iso_P8R3_SOURCE_V3_PSF1_v1.txt'), PosixPath('/fefs/aswg/workspace/lst1-agn-paper/LAT/diffuse_models/iso_P8R3_SOURCE_V3_PSF2_v1.txt'), PosixPath('/fefs/aswg/workspace/lst1-agn-paper/LAT/diffuse_models/iso_P8R3_SOURCE_V3_PSF3_v1.txt'), PosixPath('/fefs/aswg/workspace/lst1-agn-paper/LAT/diffuse_models/iso_P8R3_SOURCE_V3_v1.txt')]\n",
      "Using the background region from config for exclusion mask\n",
      "Analysis Step datasets-3d completed\n",
      "The final model used is Models\n",
      "\n",
      "Component 0: SkyModel\n",
      "\n",
      "  Name                      : PG1553+113\n",
      "  Datasets names            : None\n",
      "  Spectral model type       : CompoundSpectralModel\n",
      "  Spatial  model type       : PointSpatialModel\n",
      "  Temporal model type       : \n",
      "  Parameters:\n",
      "    amplitude                     :   8.20e-06   +/- 1.5e-06 1 / (cm2 s TeV)\n",
      "    reference             (frozen):      0.010       TeV         \n",
      "    alpha                         :      1.500   +/-    0.10             \n",
      "    beta                          :      0.100   +/-    0.01             \n",
      "    alpha_norm            (frozen):      1.000                   \n",
      "    redshift              (frozen):      0.433                   \n",
      "    lon_0                 (frozen):      0.382       rad         \n",
      "    lat_0                 (frozen):      0.767       rad         \n",
      "\n",
      "\n",
      "1 number of 1D Datasets given\n",
      "The list of DL3 files for LST-1 selected: [PosixPath('/fefs/aswg/workspace/chaitanya.priyadarshi/real_data/AGN/PG1553/v09x/tailcut84/DL3/interp_irf_en_dep/no_tuning/geff_80/teff_80/20220511_dec931/20210407/dl3_LST-1.Run04333.fits'), PosixPath('/fefs/aswg/workspace/chaitanya.priyadarshi/real_data/AGN/PG1553/v09x/tailcut84/DL3/interp_irf_en_dep/no_tuning/geff_80/teff_80/20220511_dec931/20210407/dl3_LST-1.Run04334.fits'), PosixPath('/fefs/aswg/workspace/chaitanya.priyadarshi/real_data/AGN/PG1553/v09x/tailcut84/DL3/interp_irf_en_dep/no_tuning/geff_80/teff_80/20220511_dec931/20210407/dl3_LST-1.Run04335.fits'), PosixPath('/fefs/aswg/workspace/chaitanya.priyadarshi/real_data/AGN/PG1553/v09x/tailcut84/DL3/interp_irf_en_dep/no_tuning/geff_80/teff_80/20220511_dec931/20210407/dl3_LST-1.Run04336.fits'), PosixPath('/fefs/aswg/workspace/chaitanya.priyadarshi/real_data/AGN/PG1553/v09x/tailcut84/DL3/interp_irf_en_dep/no_tuning/geff_80/teff_80/20220511_dec931/20210408/dl3_LST-1.Run04343.fits'), PosixPath('/fefs/aswg/workspace/chaitanya.priyadarshi/real_data/AGN/PG1553/v09x/tailcut84/DL3/interp_irf_en_dep/no_tuning/geff_80/teff_80/20220511_dec931/20210408/dl3_LST-1.Run04344.fits'), PosixPath('/fefs/aswg/workspace/chaitanya.priyadarshi/real_data/AGN/PG1553/v09x/tailcut84/DL3/interp_irf_en_dep/no_tuning/geff_80/teff_80/20220511_dec931/20210410/dl3_LST-1.Run04363.fits'), PosixPath('/fefs/aswg/workspace/chaitanya.priyadarshi/real_data/AGN/PG1553/v09x/tailcut84/DL3/interp_irf_en_dep/no_tuning/geff_80/teff_80/20220511_dec931/20210410/dl3_LST-1.Run04364.fits'), PosixPath('/fefs/aswg/workspace/chaitanya.priyadarshi/real_data/AGN/PG1553/v09x/tailcut84/DL3/interp_irf_en_dep/no_tuning/geff_80/teff_80/20220511_dec931/20210410/dl3_LST-1.Run04365.fits'), PosixPath('/fefs/aswg/workspace/chaitanya.priyadarshi/real_data/AGN/PG1553/v09x/tailcut84/DL3/interp_irf_en_dep/no_tuning/geff_80/teff_80/20220511_dec931/20210410/dl3_LST-1.Run04366.fits'), PosixPath('/fefs/aswg/workspace/chaitanya.priyadarshi/real_data/AGN/PG1553/v09x/tailcut84/DL3/interp_irf_en_dep/no_tuning/geff_80/teff_80/20220511_dec931/20210410/dl3_LST-1.Run04367.fits'), PosixPath('/fefs/aswg/workspace/chaitanya.priyadarshi/real_data/AGN/PG1553/v09x/tailcut84/DL3/interp_irf_en_dep/no_tuning/geff_80/teff_80/20220511_dec931/20210410/dl3_LST-1.Run04368.fits'), PosixPath('/fefs/aswg/workspace/chaitanya.priyadarshi/real_data/AGN/PG1553/v09x/tailcut84/DL3/interp_irf_en_dep/no_tuning/geff_80/teff_80/20220511_dec931/20210420/dl3_LST-1.Run04514.fits'), PosixPath('/fefs/aswg/workspace/chaitanya.priyadarshi/real_data/AGN/PG1553/v09x/tailcut84/DL3/interp_irf_en_dep/no_tuning/geff_80/teff_80/20220511_dec931/20210420/dl3_LST-1.Run04515.fits'), PosixPath('/fefs/aswg/workspace/chaitanya.priyadarshi/real_data/AGN/PG1553/v09x/tailcut84/DL3/interp_irf_en_dep/no_tuning/geff_80/teff_80/20220511_dec931/20210508/dl3_LST-1.Run04652.fits'), PosixPath('/fefs/aswg/workspace/chaitanya.priyadarshi/real_data/AGN/PG1553/v09x/tailcut84/DL3/interp_irf_en_dep/no_tuning/geff_80/teff_80/20220511_dec931/20210508/dl3_LST-1.Run04653.fits'), PosixPath('/fefs/aswg/workspace/chaitanya.priyadarshi/real_data/AGN/PG1553/v09x/tailcut84/DL3/interp_irf_en_dep/no_tuning/geff_80/teff_80/20220511_dec931/20210508/dl3_LST-1.Run04654.fits'), PosixPath('/fefs/aswg/workspace/chaitanya.priyadarshi/real_data/AGN/PG1553/v09x/tailcut84/DL3/interp_irf_en_dep/no_tuning/geff_80/teff_80/20220511_dec931/20210604/dl3_LST-1.Run04902.fits'), PosixPath('/fefs/aswg/workspace/chaitanya.priyadarshi/real_data/AGN/PG1553/v09x/tailcut84/DL3/interp_irf_en_dep/no_tuning/geff_80/teff_80/20220511_dec931/20210604/dl3_LST-1.Run04903.fits'), PosixPath('/fefs/aswg/workspace/chaitanya.priyadarshi/real_data/AGN/PG1553/v09x/tailcut84/DL3/interp_irf_en_dep/no_tuning/geff_80/teff_80/20220511_dec931/20210604/dl3_LST-1.Run04904.fits'), PosixPath('/fefs/aswg/workspace/chaitanya.priyadarshi/real_data/AGN/PG1553/v09x/tailcut84/DL3/interp_irf_en_dep/no_tuning/geff_80/teff_80/20220511_dec931/20210604/dl3_LST-1.Run04905.fits'), PosixPath('/fefs/aswg/workspace/chaitanya.priyadarshi/real_data/AGN/PG1553/v09x/tailcut84/DL3/interp_irf_en_dep/no_tuning/geff_80/teff_80/20220511_dec931/20210605/dl3_LST-1.Run04930.fits'), PosixPath('/fefs/aswg/workspace/chaitanya.priyadarshi/real_data/AGN/PG1553/v09x/tailcut84/DL3/interp_irf_en_dep/no_tuning/geff_80/teff_80/20220511_dec931/20210606/dl3_LST-1.Run04940.fits'), PosixPath('/fefs/aswg/workspace/chaitanya.priyadarshi/real_data/AGN/PG1553/v09x/tailcut84/DL3/interp_irf_en_dep/no_tuning/geff_80/teff_80/20220511_dec931/20210606/dl3_LST-1.Run04941.fits'), PosixPath('/fefs/aswg/workspace/chaitanya.priyadarshi/real_data/AGN/PG1553/v09x/tailcut84/DL3/interp_irf_en_dep/no_tuning/geff_80/teff_80/20220511_dec931/20210606/dl3_LST-1.Run04942.fits'), PosixPath('/fefs/aswg/workspace/chaitanya.priyadarshi/real_data/AGN/PG1553/v09x/tailcut84/DL3/interp_irf_en_dep/no_tuning/geff_80/teff_80/20220511_dec931/20210606/dl3_LST-1.Run04943.fits'), PosixPath('/fefs/aswg/workspace/chaitanya.priyadarshi/real_data/AGN/PG1553/v09x/tailcut84/DL3/interp_irf_en_dep/no_tuning/geff_80/teff_80/20220511_dec931/20220228/dl3_LST-1.Run07153.fits'), PosixPath('/fefs/aswg/workspace/chaitanya.priyadarshi/real_data/AGN/PG1553/v09x/tailcut84/DL3/interp_irf_en_dep/no_tuning/geff_80/teff_80/20220511_dec931/20220228/dl3_LST-1.Run07154.fits'), PosixPath('/fefs/aswg/workspace/chaitanya.priyadarshi/real_data/AGN/PG1553/v09x/tailcut84/DL3/interp_irf_en_dep/no_tuning/geff_80/teff_80/20220511_dec931/20220501/dl3_LST-1.Run08059.fits'), PosixPath('/fefs/aswg/workspace/chaitanya.priyadarshi/real_data/AGN/PG1553/v09x/tailcut84/DL3/interp_irf_en_dep/no_tuning/geff_80/teff_80/20220511_dec931/20220501/dl3_LST-1.Run08060.fits'), PosixPath('/fefs/aswg/workspace/chaitanya.priyadarshi/real_data/AGN/PG1553/v09x/tailcut84/DL3/interp_irf_en_dep/no_tuning/geff_80/teff_80/20220511_dec931/20220501/dl3_LST-1.Run08061.fits'), PosixPath('/fefs/aswg/workspace/chaitanya.priyadarshi/real_data/AGN/PG1553/v09x/tailcut84/DL3/interp_irf_en_dep/no_tuning/geff_80/teff_80/20220511_dec931/20220501/dl3_LST-1.Run08062.fits'), PosixPath('/fefs/aswg/workspace/chaitanya.priyadarshi/real_data/AGN/PG1553/v09x/tailcut84/DL3/interp_irf_en_dep/no_tuning/geff_80/teff_80/20220511_dec931/20220501/dl3_LST-1.Run08063.fits'), PosixPath('/fefs/aswg/workspace/chaitanya.priyadarshi/real_data/AGN/PG1553/v09x/tailcut84/DL3/interp_irf_en_dep/no_tuning/geff_80/teff_80/20220511_dec931/20220501/dl3_LST-1.Run08064.fits'), PosixPath('/fefs/aswg/workspace/chaitanya.priyadarshi/real_data/AGN/PG1553/v09x/tailcut84/DL3/interp_irf_en_dep/no_tuning/geff_80/teff_80/20220511_dec931/20220520/dl3_LST-1.Run08377.fits'), PosixPath('/fefs/aswg/workspace/chaitanya.priyadarshi/real_data/AGN/PG1553/v09x/tailcut84/DL3/interp_irf_en_dep/no_tuning/geff_80/teff_80/20220511_dec931/20220520/dl3_LST-1.Run08378.fits'), PosixPath('/fefs/aswg/workspace/chaitanya.priyadarshi/real_data/AGN/PG1553/v09x/tailcut84/DL3/interp_irf_en_dep/no_tuning/geff_80/teff_80/20220511_dec931/20220520/dl3_LST-1.Run08379.fits'), PosixPath('/fefs/aswg/workspace/chaitanya.priyadarshi/real_data/AGN/PG1553/v09x/tailcut84/DL3/interp_irf_en_dep/no_tuning/geff_80/teff_80/20220511_dec931/20220523/dl3_LST-1.Run08424.fits'), PosixPath('/fefs/aswg/workspace/chaitanya.priyadarshi/real_data/AGN/PG1553/v09x/tailcut84/DL3/interp_irf_en_dep/no_tuning/geff_80/teff_80/20220511_dec931/20220523/dl3_LST-1.Run08425.fits')]\n"
     ]
    },
    {
     "name": "stderr",
     "output_type": "stream",
     "text": [
      "Observation ID list selected: [4333 4334 4335 4336 4343 4344 4363 4364 4365 4366 4367 4368 4514 4515\n",
      " 4652 4653 4654 4902 4903 4904 4905 4930 4940 4941 4942 4943 7153 7154\n",
      " 8059 8060 8061 8062 8063 8064 8377 8378 8379 8424 8425]\n",
      "Observations selected: 39 out of 39.\n",
      "Analysis Step datasets-1d completed\n"
     ]
    },
    {
     "name": "stdout",
     "output_type": "stream",
     "text": [
      "CPU times: user 1min 35s, sys: 31 s, total: 2min 6s\n",
      "Wall time: 2min 33s\n"
     ]
    }
   ],
   "source": [
    "%%time\n",
    "analysis.run()"
   ]
  },
  {
   "cell_type": "markdown",
   "id": "87946931",
   "metadata": {},
   "source": [
    "# Copy the joint dataset and the final model selected using standard values"
   ]
  },
  {
   "cell_type": "code",
   "execution_count": 12,
   "id": "976ab412",
   "metadata": {},
   "outputs": [
    {
     "name": "stdout",
     "output_type": "stream",
     "text": [
      "Datasets\n",
      "--------\n",
      "\n",
      "Dataset 0: \n",
      "\n",
      "  Type       : MapDataset\n",
      "  Name       : Fermi-LAT_FRONT\n",
      "  Instrument : \n",
      "  Models     : ['PG1553+113']\n",
      "\n",
      "Dataset 1: \n",
      "\n",
      "  Type       : SpectrumDatasetOnOff\n",
      "  Name       : LST-1\n",
      "  Instrument : \n",
      "  Models     : \n",
      "\n",
      "\n"
     ]
    }
   ],
   "source": [
    "print(analysis.datasets)\n",
    "standard_datasets = analysis.datasets.copy()"
   ]
  },
  {
   "cell_type": "code",
   "execution_count": 13,
   "id": "e9eacba3",
   "metadata": {},
   "outputs": [
    {
     "name": "stdout",
     "output_type": "stream",
     "text": [
      "Models\n",
      "\n",
      "Component 0: SkyModel\n",
      "\n",
      "  Name                      : PG1553+113\n",
      "  Datasets names            : None\n",
      "  Spectral model type       : CompoundSpectralModel\n",
      "  Spatial  model type       : PointSpatialModel\n",
      "  Temporal model type       : \n",
      "  Parameters:\n",
      "    amplitude                     :   8.20e-06   +/- 1.5e-06 1 / (cm2 s TeV)\n",
      "    reference             (frozen):      0.010       TeV         \n",
      "    alpha                         :      1.500   +/-    0.10             \n",
      "    beta                          :      0.100   +/-    0.01             \n",
      "    alpha_norm            (frozen):      1.000                   \n",
      "    redshift              (frozen):      0.433                   \n",
      "    lon_0                 (frozen):      0.382       rad         \n",
      "    lat_0                 (frozen):      0.767       rad         \n",
      "\n",
      "\n"
     ]
    }
   ],
   "source": [
    "print(analysis.final_model)\n",
    "standard_model = analysis.final_model.copy()"
   ]
  },
  {
   "cell_type": "markdown",
   "id": "8dc8fd24",
   "metadata": {},
   "source": [
    "# Introduce a range of EBL norm values to use in the final model"
   ]
  },
  {
   "cell_type": "code",
   "execution_count": 14,
   "id": "a9eafc04",
   "metadata": {},
   "outputs": [
    {
     "name": "stdout",
     "output_type": "stream",
     "text": [
      "[0.  0.2 0.4 0.6 0.8 1.  1.2 1.4 1.6 1.8 2.  2.2 2.4 2.6 2.8 3.  3.2 3.4\n",
      " 3.6 3.8 4.  4.2 4.4 4.6 4.8 5. ]\n"
     ]
    }
   ],
   "source": [
    "ebl_min = 0\n",
    "ebl_max = 5.1\n",
    "ebl_step = 0.2\n",
    "ebl_scale_range = np.arange(ebl_min, ebl_max, ebl_step)\n",
    "print(ebl_scale_range)"
   ]
  },
  {
   "cell_type": "code",
   "execution_count": 15,
   "id": "c9deec0f",
   "metadata": {},
   "outputs": [
    {
     "name": "stdout",
     "output_type": "stream",
     "text": [
      "1.0\n"
     ]
    }
   ],
   "source": [
    "print(analysis.final_model[0].spectral_model.model2.alpha_norm.value)"
   ]
  },
  {
   "cell_type": "markdown",
   "id": "7e8a13df",
   "metadata": {},
   "source": [
    "# Iterating over the various EBL alpha_norm values, to get the best fit log likelihood value"
   ]
  },
  {
   "cell_type": "code",
   "execution_count": 16,
   "id": "2a9d7086",
   "metadata": {},
   "outputs": [
    {
     "name": "stdout",
     "output_type": "stream",
     "text": [
      "Assigning the given models to the given datasets\n"
     ]
    },
    {
     "name": "stderr",
     "output_type": "stream",
     "text": [
      "OptimizeResult\n",
      "\n",
      "\tbackend    : minuit\n",
      "\tmethod     : migrad\n",
      "\tsuccess    : True\n",
      "\tmessage    : Optimization terminated successfully.\n",
      "\tnfev       : 189\n",
      "\ttotal stat : 34916.08\n",
      "\n",
      "CovarianceResult\n",
      "\n",
      "\tbackend    : minuit\n",
      "\tmethod     : hesse\n",
      "\tsuccess    : True\n",
      "\tmessage    : Hesse terminated successfully.\n",
      "\n",
      "{'components': [{'name': 'PG1553+113', 'type': 'SkyModel', 'spectral': {'type': 'CompoundSpectralModel', 'model1': {'type': 'LogParabolaSpectralModel', 'parameters': [{'name': 'amplitude', 'value': 7.698787987236264e-07, 'unit': 'cm-2 s-1 TeV-1', 'error': 8.16434823066308e-08, 'min': 0.0, 'max': 0.01}, {'name': 'reference', 'value': 0.01, 'unit': 'TeV', 'min': 0.001, 'max': 100.0}, {'name': 'alpha', 'value': 2.485500759838073, 'error': 0.018925295330004088, 'min': 0.5, 'max': 5.0}, {'name': 'beta', 'value': 0.09956738135032701, 'error': 0.00956966759176977, 'min': 0.0, 'max': 1.0}]}, 'model2': {'type': 'EBLAbsorptionNormSpectralModel', 'parameters': [{'name': 'alpha_norm', 'value': 0.0}, {'name': 'redshift', 'value': 0.43300000000000005}], 'filename': '/fefs/aswg/workspace/chaitanya.priyadarshi/software/gammapy-tutorials/dataset/ebl/ebl_dominguez11.fits.gz'}, 'operator': 'mul'}, 'spatial': {'type': 'PointSpatialModel', 'frame': <Galactic Coordinate: (l, b) in deg\n",
      "    (21.90869684, 43.96446788)>, 'parameters': [{'name': 'lon_0', 'value': 0.3823788947184808, 'unit': 'rad', 'frozen': True}, {'name': 'lat_0', 'value': 0.7673247183164368, 'unit': 'rad', 'frozen': True}]}}]}\n",
      "Analysis Step fit completed\n"
     ]
    },
    {
     "name": "stdout",
     "output_type": "stream",
     "text": [
      "0.0 34916.08410133373\n",
      "Assigning the given models to the given datasets\n"
     ]
    },
    {
     "name": "stderr",
     "output_type": "stream",
     "text": [
      "OptimizeResult\n",
      "\n",
      "\tbackend    : minuit\n",
      "\tmethod     : migrad\n",
      "\tsuccess    : True\n",
      "\tmessage    : Optimization terminated successfully.\n",
      "\tnfev       : 168\n",
      "\ttotal stat : 34897.47\n",
      "\n",
      "CovarianceResult\n",
      "\n",
      "\tbackend    : minuit\n",
      "\tmethod     : hesse\n",
      "\tsuccess    : True\n",
      "\tmessage    : Hesse terminated successfully.\n",
      "\n",
      "{'components': [{'name': 'PG1553+113', 'type': 'SkyModel', 'spectral': {'type': 'CompoundSpectralModel', 'model1': {'type': 'LogParabolaSpectralModel', 'parameters': [{'name': 'amplitude', 'value': 7.353626615896878e-07, 'unit': 'cm-2 s-1 TeV-1', 'error': 7.658232874640712e-08, 'min': 0.0, 'max': 0.01}, {'name': 'reference', 'value': 0.01, 'unit': 'TeV', 'min': 0.001, 'max': 100.0}, {'name': 'alpha', 'value': 2.425141106866992, 'error': 0.01868456634563233, 'min': 0.5, 'max': 5.0}, {'name': 'beta', 'value': 0.07745330003017105, 'error': 0.01026747253860742, 'min': 0.0, 'max': 1.0}]}, 'model2': {'type': 'EBLAbsorptionNormSpectralModel', 'parameters': [{'name': 'alpha_norm', 'value': 0.2}, {'name': 'redshift', 'value': 0.43300000000000005}], 'filename': '/fefs/aswg/workspace/chaitanya.priyadarshi/software/gammapy-tutorials/dataset/ebl/ebl_dominguez11.fits.gz'}, 'operator': 'mul'}, 'spatial': {'type': 'PointSpatialModel', 'frame': <Galactic Coordinate: (l, b) in deg\n",
      "    (21.90869684, 43.96446788)>, 'parameters': [{'name': 'lon_0', 'value': 0.3823788947184808, 'unit': 'rad', 'frozen': True}, {'name': 'lat_0', 'value': 0.7673247183164368, 'unit': 'rad', 'frozen': True}]}}]}\n",
      "Analysis Step fit completed\n"
     ]
    },
    {
     "name": "stdout",
     "output_type": "stream",
     "text": [
      "0.2 34897.466790474406\n",
      "Assigning the given models to the given datasets\n"
     ]
    },
    {
     "name": "stderr",
     "output_type": "stream",
     "text": [
      "OptimizeResult\n",
      "\n",
      "\tbackend    : minuit\n",
      "\tmethod     : migrad\n",
      "\tsuccess    : True\n",
      "\tmessage    : Optimization terminated successfully.\n",
      "\tnfev       : 481\n",
      "\ttotal stat : 34838.23\n",
      "\n",
      "CovarianceResult\n",
      "\n",
      "\tbackend    : minuit\n",
      "\tmethod     : hesse\n",
      "\tsuccess    : True\n",
      "\tmessage    : Hesse terminated successfully.\n",
      "\n",
      "{'components': [{'name': 'PG1553+113', 'type': 'SkyModel', 'spectral': {'type': 'CompoundSpectralModel', 'model1': {'type': 'LogParabolaSpectralModel', 'parameters': [{'name': 'amplitude', 'value': 4.7004260462729954e-07, 'unit': 'cm-2 s-1 TeV-1', 'error': 2.666291132880556e-08, 'min': 0.0, 'max': 0.01}, {'name': 'reference', 'value': 0.01, 'unit': 'TeV', 'min': 0.001, 'max': 100.0}, {'name': 'alpha', 'value': 2.3740629626097762, 'error': 0.01810789156128446, 'min': 0.5, 'max': 5.0}, {'name': 'beta', 'value': 0.01738890377954925, 'error': 0.0037726109584917972, 'min': 0.0, 'max': 1.0}]}, 'model2': {'type': 'EBLAbsorptionNormSpectralModel', 'parameters': [{'name': 'alpha_norm', 'value': 0.4}, {'name': 'redshift', 'value': 0.43300000000000005}], 'filename': '/fefs/aswg/workspace/chaitanya.priyadarshi/software/gammapy-tutorials/dataset/ebl/ebl_dominguez11.fits.gz'}, 'operator': 'mul'}, 'spatial': {'type': 'PointSpatialModel', 'frame': <Galactic Coordinate: (l, b) in deg\n",
      "    (21.90869684, 43.96446788)>, 'parameters': [{'name': 'lon_0', 'value': 0.3823788947184808, 'unit': 'rad', 'frozen': True}, {'name': 'lat_0', 'value': 0.7673247183164368, 'unit': 'rad', 'frozen': True}]}}]}\n",
      "Analysis Step fit completed\n"
     ]
    },
    {
     "name": "stdout",
     "output_type": "stream",
     "text": [
      "0.4 34838.227623687286\n",
      "Assigning the given models to the given datasets\n"
     ]
    },
    {
     "name": "stderr",
     "output_type": "stream",
     "text": [
      "OptimizeResult\n",
      "\n",
      "\tbackend    : minuit\n",
      "\tmethod     : migrad\n",
      "\tsuccess    : True\n",
      "\tmessage    : Optimization terminated successfully.\n",
      "\tnfev       : 249\n",
      "\ttotal stat : 34823.62\n",
      "\n",
      "CovarianceResult\n",
      "\n",
      "\tbackend    : minuit\n",
      "\tmethod     : hesse\n",
      "\tsuccess    : True\n",
      "\tmessage    : Hesse terminated successfully.\n",
      "\n",
      "{'components': [{'name': 'PG1553+113', 'type': 'SkyModel', 'spectral': {'type': 'CompoundSpectralModel', 'model1': {'type': 'LogParabolaSpectralModel', 'parameters': [{'name': 'amplitude', 'value': 4.964960756339488e-07, 'unit': 'cm-2 s-1 TeV-1', 'error': 2.9175186534246673e-08, 'min': 0.0, 'max': 0.01}, {'name': 'reference', 'value': 0.01, 'unit': 'TeV', 'min': 0.001, 'max': 100.0}, {'name': 'alpha', 'value': 2.327153863592495, 'error': 0.018574586544962003, 'min': 0.5, 'max': 5.0}, {'name': 'beta', 'value': 0.009719482978504907, 'error': 0.004446639887971472, 'min': 0.0, 'max': 1.0}]}, 'model2': {'type': 'EBLAbsorptionNormSpectralModel', 'parameters': [{'name': 'alpha_norm', 'value': 0.6000000000000001}, {'name': 'redshift', 'value': 0.43300000000000005}], 'filename': '/fefs/aswg/workspace/chaitanya.priyadarshi/software/gammapy-tutorials/dataset/ebl/ebl_dominguez11.fits.gz'}, 'operator': 'mul'}, 'spatial': {'type': 'PointSpatialModel', 'frame': <Galactic Coordinate: (l, b) in deg\n",
      "    (21.90869684, 43.96446788)>, 'parameters': [{'name': 'lon_0', 'value': 0.3823788947184808, 'unit': 'rad', 'frozen': True}, {'name': 'lat_0', 'value': 0.7673247183164368, 'unit': 'rad', 'frozen': True}]}}]}\n",
      "Analysis Step fit completed\n"
     ]
    },
    {
     "name": "stdout",
     "output_type": "stream",
     "text": [
      "0.6000000000000001 34823.6169921735\n",
      "Assigning the given models to the given datasets\n"
     ]
    },
    {
     "name": "stderr",
     "output_type": "stream",
     "text": [
      "OptimizeResult\n",
      "\n",
      "\tbackend    : minuit\n",
      "\tmethod     : migrad\n",
      "\tsuccess    : True\n",
      "\tmessage    : Optimization terminated successfully.\n",
      "\tnfev       : 162\n",
      "\ttotal stat : 34870.92\n",
      "\n",
      "CovarianceResult\n",
      "\n",
      "\tbackend    : minuit\n",
      "\tmethod     : hesse\n",
      "\tsuccess    : True\n",
      "\tmessage    : Hesse terminated successfully.\n",
      "\n",
      "{'components': [{'name': 'PG1553+113', 'type': 'SkyModel', 'spectral': {'type': 'CompoundSpectralModel', 'model1': {'type': 'LogParabolaSpectralModel', 'parameters': [{'name': 'amplitude', 'value': 6.623980503578682e-07, 'unit': 'cm-2 s-1 TeV-1', 'error': 6.99349309792827e-08, 'min': 0.0, 'max': 0.01}, {'name': 'reference', 'value': 0.01, 'unit': 'TeV', 'min': 0.001, 'max': 100.0}, {'name': 'alpha', 'value': 2.305155980080859, 'error': 0.02061086484659191, 'min': 0.5, 'max': 5.0}, {'name': 'beta', 'value': 0.033119318603819344, 'error': 0.012072721169520722, 'min': 0.0, 'max': 1.0}]}, 'model2': {'type': 'EBLAbsorptionNormSpectralModel', 'parameters': [{'name': 'alpha_norm', 'value': 0.8}, {'name': 'redshift', 'value': 0.43300000000000005}], 'filename': '/fefs/aswg/workspace/chaitanya.priyadarshi/software/gammapy-tutorials/dataset/ebl/ebl_dominguez11.fits.gz'}, 'operator': 'mul'}, 'spatial': {'type': 'PointSpatialModel', 'frame': <Galactic Coordinate: (l, b) in deg\n",
      "    (21.90869684, 43.96446788)>, 'parameters': [{'name': 'lon_0', 'value': 0.3823788947184808, 'unit': 'rad', 'frozen': True}, {'name': 'lat_0', 'value': 0.7673247183164368, 'unit': 'rad', 'frozen': True}]}}]}\n",
      "Analysis Step fit completed\n"
     ]
    },
    {
     "name": "stdout",
     "output_type": "stream",
     "text": [
      "0.8 34870.92406410793\n",
      "Assigning the given models to the given datasets\n"
     ]
    },
    {
     "name": "stderr",
     "output_type": "stream",
     "text": [
      "OptimizeResult\n",
      "\n",
      "\tbackend    : minuit\n",
      "\tmethod     : migrad\n",
      "\tsuccess    : True\n",
      "\tmessage    : Optimization terminated successfully.\n",
      "\tnfev       : 169\n",
      "\ttotal stat : 34867.29\n",
      "\n",
      "CovarianceResult\n",
      "\n",
      "\tbackend    : minuit\n",
      "\tmethod     : hesse\n",
      "\tsuccess    : True\n",
      "\tmessage    : Hesse terminated successfully.\n",
      "\n",
      "{'components': [{'name': 'PG1553+113', 'type': 'SkyModel', 'spectral': {'type': 'CompoundSpectralModel', 'model1': {'type': 'LogParabolaSpectralModel', 'parameters': [{'name': 'amplitude', 'value': 6.482292153334608e-07, 'unit': 'cm-2 s-1 TeV-1', 'error': 6.935768996946011e-08, 'min': 0.0, 'max': 0.01}, {'name': 'reference', 'value': 0.01, 'unit': 'TeV', 'min': 0.001, 'max': 100.0}, {'name': 'alpha', 'value': 2.2770663595643805, 'error': 0.02152718055111423, 'min': 0.5, 'max': 5.0}, {'name': 'beta', 'value': 0.02309066850519844, 'error': 0.012619917313182799, 'min': 0.0, 'max': 1.0}]}, 'model2': {'type': 'EBLAbsorptionNormSpectralModel', 'parameters': [{'name': 'alpha_norm', 'value': 1.0}, {'name': 'redshift', 'value': 0.43300000000000005}], 'filename': '/fefs/aswg/workspace/chaitanya.priyadarshi/software/gammapy-tutorials/dataset/ebl/ebl_dominguez11.fits.gz'}, 'operator': 'mul'}, 'spatial': {'type': 'PointSpatialModel', 'frame': <Galactic Coordinate: (l, b) in deg\n",
      "    (21.90869684, 43.96446788)>, 'parameters': [{'name': 'lon_0', 'value': 0.3823788947184808, 'unit': 'rad', 'frozen': True}, {'name': 'lat_0', 'value': 0.7673247183164368, 'unit': 'rad', 'frozen': True}]}}]}\n",
      "Analysis Step fit completed\n"
     ]
    },
    {
     "name": "stdout",
     "output_type": "stream",
     "text": [
      "1.0 34867.29399928284\n",
      "Assigning the given models to the given datasets\n"
     ]
    },
    {
     "name": "stderr",
     "output_type": "stream",
     "text": [
      "OptimizeResult\n",
      "\n",
      "\tbackend    : minuit\n",
      "\tmethod     : migrad\n",
      "\tsuccess    : True\n",
      "\tmessage    : Optimization terminated successfully.\n",
      "\tnfev       : 390\n",
      "\ttotal stat : 34805.16\n",
      "\n",
      "CovarianceResult\n",
      "\n",
      "\tbackend    : minuit\n",
      "\tmethod     : hesse\n",
      "\tsuccess    : True\n",
      "\tmessage    : Hesse terminated successfully.\n",
      "\n",
      "{'components': [{'name': 'PG1553+113', 'type': 'SkyModel', 'spectral': {'type': 'CompoundSpectralModel', 'model1': {'type': 'LogParabolaSpectralModel', 'parameters': [{'name': 'amplitude', 'value': 5.60587610983667e-07, 'unit': 'cm-2 s-1 TeV-1', 'error': 2.8124129554666452e-08, 'min': 0.0, 'max': 0.01}, {'name': 'reference', 'value': 0.01, 'unit': 'TeV', 'min': 0.001, 'max': 100.0}, {'name': 'alpha', 'value': 2.2551564609377275, 'error': 0.012373877452063817, 'min': 0.5, 'max': 5.0}, {'name': 'beta', 'value': 6.334929831413889e-10, 'error': 2.2787397853505366e-06, 'min': 0.0, 'max': 1.0}]}, 'model2': {'type': 'EBLAbsorptionNormSpectralModel', 'parameters': [{'name': 'alpha_norm', 'value': 1.2000000000000002}, {'name': 'redshift', 'value': 0.43300000000000005}], 'filename': '/fefs/aswg/workspace/chaitanya.priyadarshi/software/gammapy-tutorials/dataset/ebl/ebl_dominguez11.fits.gz'}, 'operator': 'mul'}, 'spatial': {'type': 'PointSpatialModel', 'frame': <Galactic Coordinate: (l, b) in deg\n",
      "    (21.90869684, 43.96446788)>, 'parameters': [{'name': 'lon_0', 'value': 0.3823788947184808, 'unit': 'rad', 'frozen': True}, {'name': 'lat_0', 'value': 0.7673247183164368, 'unit': 'rad', 'frozen': True}]}}]}\n",
      "Analysis Step fit completed\n"
     ]
    },
    {
     "name": "stdout",
     "output_type": "stream",
     "text": [
      "1.2000000000000002 34805.159080481535\n",
      "Assigning the given models to the given datasets\n"
     ]
    },
    {
     "name": "stderr",
     "output_type": "stream",
     "text": [
      "OptimizeResult\n",
      "\n",
      "\tbackend    : minuit\n",
      "\tmethod     : migrad\n",
      "\tsuccess    : True\n",
      "\tmessage    : Optimization terminated successfully.\n",
      "\tnfev       : 182\n",
      "\ttotal stat : 34863.67\n",
      "\n",
      "CovarianceResult\n",
      "\n",
      "\tbackend    : minuit\n",
      "\tmethod     : hesse\n",
      "\tsuccess    : True\n",
      "\tmessage    : Hesse terminated successfully.\n",
      "\n",
      "{'components': [{'name': 'PG1553+113', 'type': 'SkyModel', 'spectral': {'type': 'CompoundSpectralModel', 'model1': {'type': 'LogParabolaSpectralModel', 'parameters': [{'name': 'amplitude', 'value': 6.283971833078957e-07, 'unit': 'cm-2 s-1 TeV-1', 'error': 7.197171459388628e-08, 'min': 0.0, 'max': 0.01}, {'name': 'reference', 'value': 0.01, 'unit': 'TeV', 'min': 0.001, 'max': 100.0}, {'name': 'alpha', 'value': 2.2304383479242866, 'error': 0.02405477460222603, 'min': 0.5, 'max': 5.0}, {'name': 'beta', 'value': 0.007071631281678065, 'error': 0.014251084311339656, 'min': 0.0, 'max': 1.0}]}, 'model2': {'type': 'EBLAbsorptionNormSpectralModel', 'parameters': [{'name': 'alpha_norm', 'value': 1.4000000000000001}, {'name': 'redshift', 'value': 0.43300000000000005}], 'filename': '/fefs/aswg/workspace/chaitanya.priyadarshi/software/gammapy-tutorials/dataset/ebl/ebl_dominguez11.fits.gz'}, 'operator': 'mul'}, 'spatial': {'type': 'PointSpatialModel', 'frame': <Galactic Coordinate: (l, b) in deg\n",
      "    (21.90869684, 43.96446788)>, 'parameters': [{'name': 'lon_0', 'value': 0.3823788947184808, 'unit': 'rad', 'frozen': True}, {'name': 'lat_0', 'value': 0.7673247183164368, 'unit': 'rad', 'frozen': True}]}}]}\n",
      "Analysis Step fit completed\n"
     ]
    },
    {
     "name": "stdout",
     "output_type": "stream",
     "text": [
      "1.4000000000000001 34863.667596546984\n",
      "Assigning the given models to the given datasets\n"
     ]
    },
    {
     "name": "stderr",
     "output_type": "stream",
     "text": [
      "OptimizeResult\n",
      "\n",
      "\tbackend    : minuit\n",
      "\tmethod     : migrad\n",
      "\tsuccess    : True\n",
      "\tmessage    : Optimization failed.\n",
      "\tnfev       : 227\n",
      "\ttotal stat : 34863.02\n",
      "\n",
      "CovarianceResult\n",
      "\n",
      "\tbackend    : minuit\n",
      "\tmethod     : hesse\n",
      "\tsuccess    : True\n",
      "\tmessage    : Hesse terminated successfully.\n",
      "\n",
      "{'components': [{'name': 'PG1553+113', 'type': 'SkyModel', 'spectral': {'type': 'CompoundSpectralModel', 'model1': {'type': 'LogParabolaSpectralModel', 'parameters': [{'name': 'amplitude', 'value': 6.209730144733654e-07, 'unit': 'cm-2 s-1 TeV-1', 'error': 3.3863728438596725e-07, 'min': 0.0, 'max': 0.01}, {'name': 'reference', 'value': 0.01, 'unit': 'TeV', 'min': 0.001, 'max': 100.0}, {'name': 'alpha', 'value': 2.2106516709651998, 'error': 0.10188431234501609, 'min': 0.5, 'max': 5.0}, {'name': 'beta', 'value': 0.00040098833785319357, 'error': 0.07049461195690643, 'min': 0.0, 'max': 1.0}]}, 'model2': {'type': 'EBLAbsorptionNormSpectralModel', 'parameters': [{'name': 'alpha_norm', 'value': 1.6}, {'name': 'redshift', 'value': 0.43300000000000005}], 'filename': '/fefs/aswg/workspace/chaitanya.priyadarshi/software/gammapy-tutorials/dataset/ebl/ebl_dominguez11.fits.gz'}, 'operator': 'mul'}, 'spatial': {'type': 'PointSpatialModel', 'frame': <Galactic Coordinate: (l, b) in deg\n",
      "    (21.90869684, 43.96446788)>, 'parameters': [{'name': 'lon_0', 'value': 0.3823788947184808, 'unit': 'rad', 'frozen': True}, {'name': 'lat_0', 'value': 0.7673247183164368, 'unit': 'rad', 'frozen': True}]}}]}\n",
      "Analysis Step fit completed\n"
     ]
    },
    {
     "name": "stdout",
     "output_type": "stream",
     "text": [
      "1.6 34863.01952001926\n",
      "Assigning the given models to the given datasets\n"
     ]
    },
    {
     "name": "stderr",
     "output_type": "stream",
     "text": [
      "OptimizeResult\n",
      "\n",
      "\tbackend    : minuit\n",
      "\tmethod     : migrad\n",
      "\tsuccess    : True\n",
      "\tmessage    : Optimization terminated successfully.\n",
      "\tnfev       : 217\n",
      "\ttotal stat : 34863.03\n",
      "\n",
      "CovarianceResult\n",
      "\n",
      "\tbackend    : minuit\n",
      "\tmethod     : hesse\n",
      "\tsuccess    : True\n",
      "\tmessage    : Hesse terminated successfully.\n",
      "\n",
      "{'components': [{'name': 'PG1553+113', 'type': 'SkyModel', 'spectral': {'type': 'CompoundSpectralModel', 'model1': {'type': 'LogParabolaSpectralModel', 'parameters': [{'name': 'amplitude', 'value': 6.386990378924213e-07, 'unit': 'cm-2 s-1 TeV-1', 'error': 3.27166834584514e-08, 'min': 0.0, 'max': 0.01}, {'name': 'reference', 'value': 0.01, 'unit': 'TeV', 'min': 0.001, 'max': 100.0}, {'name': 'alpha', 'value': 2.1998995645400323, 'error': 0.01775621616400756, 'min': 0.5, 'max': 5.0}, {'name': 'beta', 'value': 4.902838814502383e-07, 'error': 0.00018483209446747207, 'min': 0.0, 'max': 1.0}]}, 'model2': {'type': 'EBLAbsorptionNormSpectralModel', 'parameters': [{'name': 'alpha_norm', 'value': 1.8}, {'name': 'redshift', 'value': 0.43300000000000005}], 'filename': '/fefs/aswg/workspace/chaitanya.priyadarshi/software/gammapy-tutorials/dataset/ebl/ebl_dominguez11.fits.gz'}, 'operator': 'mul'}, 'spatial': {'type': 'PointSpatialModel', 'frame': <Galactic Coordinate: (l, b) in deg\n",
      "    (21.90869684, 43.96446788)>, 'parameters': [{'name': 'lon_0', 'value': 0.3823788947184808, 'unit': 'rad', 'frozen': True}, {'name': 'lat_0', 'value': 0.7673247183164368, 'unit': 'rad', 'frozen': True}]}}]}\n",
      "Analysis Step fit completed\n"
     ]
    },
    {
     "name": "stdout",
     "output_type": "stream",
     "text": [
      "1.8 34863.029307474026\n",
      "Assigning the given models to the given datasets\n"
     ]
    },
    {
     "name": "stderr",
     "output_type": "stream",
     "text": [
      "OptimizeResult\n",
      "\n",
      "\tbackend    : minuit\n",
      "\tmethod     : migrad\n",
      "\tsuccess    : True\n",
      "\tmessage    : Optimization terminated successfully.\n",
      "\tnfev       : 209\n",
      "\ttotal stat : 34863.68\n",
      "\n",
      "CovarianceResult\n",
      "\n",
      "\tbackend    : minuit\n",
      "\tmethod     : hesse\n",
      "\tsuccess    : True\n",
      "\tmessage    : Hesse terminated successfully.\n",
      "\n",
      "{'components': [{'name': 'PG1553+113', 'type': 'SkyModel', 'spectral': {'type': 'CompoundSpectralModel', 'model1': {'type': 'LogParabolaSpectralModel', 'parameters': [{'name': 'amplitude', 'value': 6.560259329831279e-07, 'unit': 'cm-2 s-1 TeV-1', 'error': 3.321387246543143e-08, 'min': 0.0, 'max': 0.01}, {'name': 'reference', 'value': 0.01, 'unit': 'TeV', 'min': 0.001, 'max': 100.0}, {'name': 'alpha', 'value': 2.1908789299570564, 'error': 0.017916428459417568, 'min': 0.5, 'max': 5.0}, {'name': 'beta', 'value': 9.131868840311008e-08, 'error': 5.749993457245975e-05, 'min': 0.0, 'max': 1.0}]}, 'model2': {'type': 'EBLAbsorptionNormSpectralModel', 'parameters': [{'name': 'alpha_norm', 'value': 2.0}, {'name': 'redshift', 'value': 0.43300000000000005}], 'filename': '/fefs/aswg/workspace/chaitanya.priyadarshi/software/gammapy-tutorials/dataset/ebl/ebl_dominguez11.fits.gz'}, 'operator': 'mul'}, 'spatial': {'type': 'PointSpatialModel', 'frame': <Galactic Coordinate: (l, b) in deg\n",
      "    (21.90869684, 43.96446788)>, 'parameters': [{'name': 'lon_0', 'value': 0.3823788947184808, 'unit': 'rad', 'frozen': True}, {'name': 'lat_0', 'value': 0.7673247183164368, 'unit': 'rad', 'frozen': True}]}}]}\n",
      "Analysis Step fit completed\n"
     ]
    },
    {
     "name": "stdout",
     "output_type": "stream",
     "text": [
      "2.0 34863.6839657405\n",
      "Assigning the given models to the given datasets\n"
     ]
    },
    {
     "name": "stderr",
     "output_type": "stream",
     "text": [
      "OptimizeResult\n",
      "\n",
      "\tbackend    : minuit\n",
      "\tmethod     : migrad\n",
      "\tsuccess    : True\n",
      "\tmessage    : Optimization terminated successfully.\n",
      "\tnfev       : 367\n",
      "\ttotal stat : 34814.66\n",
      "\n",
      "CovarianceResult\n",
      "\n",
      "\tbackend    : minuit\n",
      "\tmethod     : hesse\n",
      "\tsuccess    : True\n",
      "\tmessage    : Hesse terminated successfully.\n",
      "\n",
      "{'components': [{'name': 'PG1553+113', 'type': 'SkyModel', 'spectral': {'type': 'CompoundSpectralModel', 'model1': {'type': 'LogParabolaSpectralModel', 'parameters': [{'name': 'amplitude', 'value': 6.116373383553751e-07, 'unit': 'cm-2 s-1 TeV-1', 'error': 3.125754281201373e-08, 'min': 0.0, 'max': 0.01}, {'name': 'reference', 'value': 0.01, 'unit': 'TeV', 'min': 0.001, 'max': 100.0}, {'name': 'alpha', 'value': 2.244310482872351, 'error': 0.006169018692411033, 'min': 0.5, 'max': 5.0}, {'name': 'beta', 'value': 4.641038546196073e-08, 'error': 1.021622416217166e-05, 'min': 0.0, 'max': 1.0}]}, 'model2': {'type': 'EBLAbsorptionNormSpectralModel', 'parameters': [{'name': 'alpha_norm', 'value': 2.2}, {'name': 'redshift', 'value': 0.43300000000000005}], 'filename': '/fefs/aswg/workspace/chaitanya.priyadarshi/software/gammapy-tutorials/dataset/ebl/ebl_dominguez11.fits.gz'}, 'operator': 'mul'}, 'spatial': {'type': 'PointSpatialModel', 'frame': <Galactic Coordinate: (l, b) in deg\n",
      "    (21.90869684, 43.96446788)>, 'parameters': [{'name': 'lon_0', 'value': 0.3823788947184808, 'unit': 'rad', 'frozen': True}, {'name': 'lat_0', 'value': 0.7673247183164368, 'unit': 'rad', 'frozen': True}]}}]}\n",
      "Analysis Step fit completed\n"
     ]
    },
    {
     "name": "stdout",
     "output_type": "stream",
     "text": [
      "2.2 34814.6600242863\n",
      "Assigning the given models to the given datasets\n"
     ]
    },
    {
     "name": "stderr",
     "output_type": "stream",
     "text": [
      "OptimizeResult\n",
      "\n",
      "\tbackend    : minuit\n",
      "\tmethod     : migrad\n",
      "\tsuccess    : True\n",
      "\tmessage    : Optimization terminated successfully.\n",
      "\tnfev       : 213\n",
      "\ttotal stat : 34866.19\n",
      "\n",
      "CovarianceResult\n",
      "\n",
      "\tbackend    : minuit\n",
      "\tmethod     : hesse\n",
      "\tsuccess    : True\n",
      "\tmessage    : Hesse terminated successfully.\n",
      "\n",
      "{'components': [{'name': 'PG1553+113', 'type': 'SkyModel', 'spectral': {'type': 'CompoundSpectralModel', 'model1': {'type': 'LogParabolaSpectralModel', 'parameters': [{'name': 'amplitude', 'value': 6.855531230664177e-07, 'unit': 'cm-2 s-1 TeV-1', 'error': 3.4973011348479094e-08, 'min': 0.0, 'max': 0.01}, {'name': 'reference', 'value': 0.01, 'unit': 'TeV', 'min': 0.001, 'max': 100.0}, {'name': 'alpha', 'value': 2.17604187041202, 'error': 0.018356659904697217, 'min': 0.5, 'max': 5.0}, {'name': 'beta', 'value': 2.528430322615771e-09, 'error': 7.2572824095328845e-06, 'min': 0.0, 'max': 1.0}]}, 'model2': {'type': 'EBLAbsorptionNormSpectralModel', 'parameters': [{'name': 'alpha_norm', 'value': 2.4000000000000004}, {'name': 'redshift', 'value': 0.43300000000000005}], 'filename': '/fefs/aswg/workspace/chaitanya.priyadarshi/software/gammapy-tutorials/dataset/ebl/ebl_dominguez11.fits.gz'}, 'operator': 'mul'}, 'spatial': {'type': 'PointSpatialModel', 'frame': <Galactic Coordinate: (l, b) in deg\n",
      "    (21.90869684, 43.96446788)>, 'parameters': [{'name': 'lon_0', 'value': 0.3823788947184808, 'unit': 'rad', 'frozen': True}, {'name': 'lat_0', 'value': 0.7673247183164368, 'unit': 'rad', 'frozen': True}]}}]}\n",
      "Analysis Step fit completed\n"
     ]
    },
    {
     "name": "stdout",
     "output_type": "stream",
     "text": [
      "2.4000000000000004 34866.18576956503\n",
      "Assigning the given models to the given datasets\n"
     ]
    },
    {
     "name": "stderr",
     "output_type": "stream",
     "text": [
      "OptimizeResult\n",
      "\n",
      "\tbackend    : minuit\n",
      "\tmethod     : migrad\n",
      "\tsuccess    : True\n",
      "\tmessage    : Optimization terminated successfully.\n",
      "\tnfev       : 220\n",
      "\ttotal stat : 34867.80\n",
      "\n",
      "CovarianceResult\n",
      "\n",
      "\tbackend    : minuit\n",
      "\tmethod     : hesse\n",
      "\tsuccess    : True\n",
      "\tmessage    : Hesse terminated successfully.\n",
      "\n",
      "{'components': [{'name': 'PG1553+113', 'type': 'SkyModel', 'spectral': {'type': 'CompoundSpectralModel', 'model1': {'type': 'LogParabolaSpectralModel', 'parameters': [{'name': 'amplitude', 'value': 6.984253637544527e-07, 'unit': 'cm-2 s-1 TeV-1', 'error': 3.5868426948179445e-08, 'min': 0.0, 'max': 0.01}, {'name': 'reference', 'value': 0.01, 'unit': 'TeV', 'min': 0.001, 'max': 100.0}, {'name': 'alpha', 'value': 2.169965690830031, 'error': 0.018577871914663518, 'min': 0.5, 'max': 5.0}, {'name': 'beta', 'value': 2.702173479401785e-07, 'error': 7.010589134905989e-05, 'min': 0.0, 'max': 1.0}]}, 'model2': {'type': 'EBLAbsorptionNormSpectralModel', 'parameters': [{'name': 'alpha_norm', 'value': 2.6}, {'name': 'redshift', 'value': 0.43300000000000005}], 'filename': '/fefs/aswg/workspace/chaitanya.priyadarshi/software/gammapy-tutorials/dataset/ebl/ebl_dominguez11.fits.gz'}, 'operator': 'mul'}, 'spatial': {'type': 'PointSpatialModel', 'frame': <Galactic Coordinate: (l, b) in deg\n",
      "    (21.90869684, 43.96446788)>, 'parameters': [{'name': 'lon_0', 'value': 0.3823788947184808, 'unit': 'rad', 'frozen': True}, {'name': 'lat_0', 'value': 0.7673247183164368, 'unit': 'rad', 'frozen': True}]}}]}\n",
      "Analysis Step fit completed\n"
     ]
    },
    {
     "name": "stdout",
     "output_type": "stream",
     "text": [
      "2.6 34867.798021940325\n",
      "Assigning the given models to the given datasets\n"
     ]
    },
    {
     "name": "stderr",
     "output_type": "stream",
     "text": [
      "OptimizeResult\n",
      "\n",
      "\tbackend    : minuit\n",
      "\tmethod     : migrad\n",
      "\tsuccess    : True\n",
      "\tmessage    : Optimization terminated successfully.\n",
      "\tnfev       : 213\n",
      "\ttotal stat : 34869.55\n",
      "\n",
      "CovarianceResult\n",
      "\n",
      "\tbackend    : minuit\n",
      "\tmethod     : hesse\n",
      "\tsuccess    : True\n",
      "\tmessage    : Hesse terminated successfully.\n",
      "\n",
      "{'components': [{'name': 'PG1553+113', 'type': 'SkyModel', 'spectral': {'type': 'CompoundSpectralModel', 'model1': {'type': 'LogParabolaSpectralModel', 'parameters': [{'name': 'amplitude', 'value': 7.099556267461512e-07, 'unit': 'cm-2 s-1 TeV-1', 'error': 3.67130451612757e-08, 'min': 0.0, 'max': 0.01}, {'name': 'reference', 'value': 0.01, 'unit': 'TeV', 'min': 0.001, 'max': 100.0}, {'name': 'alpha', 'value': 2.1644973367574165, 'error': 0.018794735701579978, 'min': 0.5, 'max': 5.0}, {'name': 'beta', 'value': 1.5348717706965137e-10, 'error': 1.576245960849638e-06, 'min': 0.0, 'max': 1.0}]}, 'model2': {'type': 'EBLAbsorptionNormSpectralModel', 'parameters': [{'name': 'alpha_norm', 'value': 2.8000000000000003}, {'name': 'redshift', 'value': 0.43300000000000005}], 'filename': '/fefs/aswg/workspace/chaitanya.priyadarshi/software/gammapy-tutorials/dataset/ebl/ebl_dominguez11.fits.gz'}, 'operator': 'mul'}, 'spatial': {'type': 'PointSpatialModel', 'frame': <Galactic Coordinate: (l, b) in deg\n",
      "    (21.90869684, 43.96446788)>, 'parameters': [{'name': 'lon_0', 'value': 0.3823788947184808, 'unit': 'rad', 'frozen': True}, {'name': 'lat_0', 'value': 0.7673247183164368, 'unit': 'rad', 'frozen': True}]}}]}\n",
      "Analysis Step fit completed\n"
     ]
    },
    {
     "name": "stdout",
     "output_type": "stream",
     "text": [
      "2.8000000000000003 34869.55092391812\n",
      "Assigning the given models to the given datasets\n"
     ]
    },
    {
     "name": "stderr",
     "output_type": "stream",
     "text": [
      "OptimizeResult\n",
      "\n",
      "\tbackend    : minuit\n",
      "\tmethod     : migrad\n",
      "\tsuccess    : True\n",
      "\tmessage    : Optimization terminated successfully.\n",
      "\tnfev       : 180\n",
      "\ttotal stat : 34871.40\n",
      "\n",
      "CovarianceResult\n",
      "\n",
      "\tbackend    : minuit\n",
      "\tmethod     : hesse\n",
      "\tsuccess    : True\n",
      "\tmessage    : Hesse terminated successfully.\n",
      "\n",
      "{'components': [{'name': 'PG1553+113', 'type': 'SkyModel', 'spectral': {'type': 'CompoundSpectralModel', 'model1': {'type': 'LogParabolaSpectralModel', 'parameters': [{'name': 'amplitude', 'value': 7.206778810060657e-07, 'unit': 'cm-2 s-1 TeV-1', 'error': 3.7542596406686416e-08, 'min': 0.0, 'max': 0.01}, {'name': 'reference', 'value': 0.01, 'unit': 'TeV', 'min': 0.001, 'max': 100.0}, {'name': 'alpha', 'value': 2.159547078778241, 'error': 0.01900612671026109, 'min': 0.5, 'max': 5.0}, {'name': 'beta', 'value': 1.3885082600646856e-07, 'error': 4.545271348448921e-05, 'min': 0.0, 'max': 1.0}]}, 'model2': {'type': 'EBLAbsorptionNormSpectralModel', 'parameters': [{'name': 'alpha_norm', 'value': 3.0}, {'name': 'redshift', 'value': 0.43300000000000005}], 'filename': '/fefs/aswg/workspace/chaitanya.priyadarshi/software/gammapy-tutorials/dataset/ebl/ebl_dominguez11.fits.gz'}, 'operator': 'mul'}, 'spatial': {'type': 'PointSpatialModel', 'frame': <Galactic Coordinate: (l, b) in deg\n",
      "    (21.90869684, 43.96446788)>, 'parameters': [{'name': 'lon_0', 'value': 0.3823788947184808, 'unit': 'rad', 'frozen': True}, {'name': 'lat_0', 'value': 0.7673247183164368, 'unit': 'rad', 'frozen': True}]}}]}\n",
      "Analysis Step fit completed\n"
     ]
    },
    {
     "name": "stdout",
     "output_type": "stream",
     "text": [
      "3.0 34871.3959919886\n",
      "Assigning the given models to the given datasets\n"
     ]
    },
    {
     "name": "stderr",
     "output_type": "stream",
     "text": [
      "OptimizeResult\n",
      "\n",
      "\tbackend    : minuit\n",
      "\tmethod     : migrad\n",
      "\tsuccess    : True\n",
      "\tmessage    : Optimization terminated successfully.\n",
      "\tnfev       : 380\n",
      "\ttotal stat : 34831.05\n",
      "\n",
      "CovarianceResult\n",
      "\n",
      "\tbackend    : minuit\n",
      "\tmethod     : hesse\n",
      "\tsuccess    : True\n",
      "\tmessage    : Hesse terminated successfully.\n",
      "\n",
      "{'components': [{'name': 'PG1553+113', 'type': 'SkyModel', 'spectral': {'type': 'CompoundSpectralModel', 'model1': {'type': 'LogParabolaSpectralModel', 'parameters': [{'name': 'amplitude', 'value': 6.236946800965742e-07, 'unit': 'cm-2 s-1 TeV-1', 'error': 3.2950471916154934e-08, 'min': 0.0, 'max': 0.01}, {'name': 'reference', 'value': 0.01, 'unit': 'TeV', 'min': 0.001, 'max': 100.0}, {'name': 'alpha', 'value': 2.2434379165909135, 'error': 0.005430965860622704, 'min': 0.5, 'max': 5.0}, {'name': 'beta', 'value': 9.815404129124954e-11, 'error': 4.391042702894503e-07, 'min': 0.0, 'max': 1.0}]}, 'model2': {'type': 'EBLAbsorptionNormSpectralModel', 'parameters': [{'name': 'alpha_norm', 'value': 3.2}, {'name': 'redshift', 'value': 0.43300000000000005}], 'filename': '/fefs/aswg/workspace/chaitanya.priyadarshi/software/gammapy-tutorials/dataset/ebl/ebl_dominguez11.fits.gz'}, 'operator': 'mul'}, 'spatial': {'type': 'PointSpatialModel', 'frame': <Galactic Coordinate: (l, b) in deg\n",
      "    (21.90869684, 43.96446788)>, 'parameters': [{'name': 'lon_0', 'value': 0.3823788947184808, 'unit': 'rad', 'frozen': True}, {'name': 'lat_0', 'value': 0.7673247183164368, 'unit': 'rad', 'frozen': True}]}}]}\n",
      "Analysis Step fit completed\n"
     ]
    },
    {
     "name": "stdout",
     "output_type": "stream",
     "text": [
      "3.2 34831.05398015928\n",
      "Assigning the given models to the given datasets\n"
     ]
    },
    {
     "name": "stderr",
     "output_type": "stream",
     "text": [
      "OptimizeResult\n",
      "\n",
      "\tbackend    : minuit\n",
      "\tmethod     : migrad\n",
      "\tsuccess    : True\n",
      "\tmessage    : Optimization terminated successfully.\n",
      "\tnfev       : 185\n",
      "\ttotal stat : 34875.23\n",
      "\n",
      "CovarianceResult\n",
      "\n",
      "\tbackend    : minuit\n",
      "\tmethod     : hesse\n",
      "\tsuccess    : True\n",
      "\tmessage    : Hesse terminated successfully.\n",
      "\n",
      "{'components': [{'name': 'PG1553+113', 'type': 'SkyModel', 'spectral': {'type': 'CompoundSpectralModel', 'model1': {'type': 'LogParabolaSpectralModel', 'parameters': [{'name': 'amplitude', 'value': 7.395045125600008e-07, 'unit': 'cm-2 s-1 TeV-1', 'error': 3.9108345667702244e-08, 'min': 0.0, 'max': 0.01}, {'name': 'reference', 'value': 0.01, 'unit': 'TeV', 'min': 0.001, 'max': 100.0}, {'name': 'alpha', 'value': 2.150972990878246, 'error': 0.01941377951992565, 'min': 0.5, 'max': 5.0}, {'name': 'beta', 'value': 6.861761349006776e-12, 'error': 2.9936501222210143e-07, 'min': 0.0, 'max': 1.0}]}, 'model2': {'type': 'EBLAbsorptionNormSpectralModel', 'parameters': [{'name': 'alpha_norm', 'value': 3.4000000000000004}, {'name': 'redshift', 'value': 0.43300000000000005}], 'filename': '/fefs/aswg/workspace/chaitanya.priyadarshi/software/gammapy-tutorials/dataset/ebl/ebl_dominguez11.fits.gz'}, 'operator': 'mul'}, 'spatial': {'type': 'PointSpatialModel', 'frame': <Galactic Coordinate: (l, b) in deg\n",
      "    (21.90869684, 43.96446788)>, 'parameters': [{'name': 'lon_0', 'value': 0.3823788947184808, 'unit': 'rad', 'frozen': True}, {'name': 'lat_0', 'value': 0.7673247183164368, 'unit': 'rad', 'frozen': True}]}}]}\n",
      "Analysis Step fit completed\n"
     ]
    },
    {
     "name": "stdout",
     "output_type": "stream",
     "text": [
      "3.4000000000000004 34875.230704748654\n",
      "Assigning the given models to the given datasets\n"
     ]
    },
    {
     "name": "stderr",
     "output_type": "stream",
     "text": [
      "OptimizeResult\n",
      "\n",
      "\tbackend    : minuit\n",
      "\tmethod     : migrad\n",
      "\tsuccess    : True\n",
      "\tmessage    : Optimization terminated successfully.\n",
      "\tnfev       : 183\n",
      "\ttotal stat : 34877.18\n",
      "\n",
      "CovarianceResult\n",
      "\n",
      "\tbackend    : minuit\n",
      "\tmethod     : hesse\n",
      "\tsuccess    : True\n",
      "\tmessage    : Hesse terminated successfully.\n",
      "\n",
      "{'components': [{'name': 'PG1553+113', 'type': 'SkyModel', 'spectral': {'type': 'CompoundSpectralModel', 'model1': {'type': 'LogParabolaSpectralModel', 'parameters': [{'name': 'amplitude', 'value': 7.480036593023932e-07, 'unit': 'cm-2 s-1 TeV-1', 'error': 3.986030653357605e-08, 'min': 0.0, 'max': 0.01}, {'name': 'reference', 'value': 0.01, 'unit': 'TeV', 'min': 0.001, 'max': 100.0}, {'name': 'alpha', 'value': 2.147249203703904, 'error': 0.019608329117405596, 'min': 0.5, 'max': 5.0}, {'name': 'beta', 'value': 5.581875275038374e-11, 'error': 8.352981524149709e-07, 'min': 0.0, 'max': 1.0}]}, 'model2': {'type': 'EBLAbsorptionNormSpectralModel', 'parameters': [{'name': 'alpha_norm', 'value': 3.6}, {'name': 'redshift', 'value': 0.43300000000000005}], 'filename': '/fefs/aswg/workspace/chaitanya.priyadarshi/software/gammapy-tutorials/dataset/ebl/ebl_dominguez11.fits.gz'}, 'operator': 'mul'}, 'spatial': {'type': 'PointSpatialModel', 'frame': <Galactic Coordinate: (l, b) in deg\n",
      "    (21.90869684, 43.96446788)>, 'parameters': [{'name': 'lon_0', 'value': 0.3823788947184808, 'unit': 'rad', 'frozen': True}, {'name': 'lat_0', 'value': 0.7673247183164368, 'unit': 'rad', 'frozen': True}]}}]}\n",
      "Analysis Step fit completed\n"
     ]
    },
    {
     "name": "stdout",
     "output_type": "stream",
     "text": [
      "3.6 34877.17566441497\n",
      "Assigning the given models to the given datasets\n"
     ]
    },
    {
     "name": "stderr",
     "output_type": "stream",
     "text": [
      "OptimizeResult\n",
      "\n",
      "\tbackend    : minuit\n",
      "\tmethod     : migrad\n",
      "\tsuccess    : True\n",
      "\tmessage    : Optimization terminated successfully.\n",
      "\tnfev       : 173\n",
      "\ttotal stat : 34879.12\n",
      "\n",
      "CovarianceResult\n",
      "\n",
      "\tbackend    : minuit\n",
      "\tmethod     : hesse\n",
      "\tsuccess    : True\n",
      "\tmessage    : Hesse terminated successfully.\n",
      "\n",
      "{'components': [{'name': 'PG1553+113', 'type': 'SkyModel', 'spectral': {'type': 'CompoundSpectralModel', 'model1': {'type': 'LogParabolaSpectralModel', 'parameters': [{'name': 'amplitude', 'value': 7.5582380967101e-07, 'unit': 'cm-2 s-1 TeV-1', 'error': 4.059707015389638e-08, 'min': 0.0, 'max': 0.01}, {'name': 'reference', 'value': 0.01, 'unit': 'TeV', 'min': 0.001, 'max': 100.0}, {'name': 'alpha', 'value': 2.143872268915264, 'error': 0.019802539503273674, 'min': 0.5, 'max': 5.0}, {'name': 'beta', 'value': 5.146075302103997e-08, 'error': 2.490674922033227e-05, 'min': 0.0, 'max': 1.0}]}, 'model2': {'type': 'EBLAbsorptionNormSpectralModel', 'parameters': [{'name': 'alpha_norm', 'value': 3.8000000000000003}, {'name': 'redshift', 'value': 0.43300000000000005}], 'filename': '/fefs/aswg/workspace/chaitanya.priyadarshi/software/gammapy-tutorials/dataset/ebl/ebl_dominguez11.fits.gz'}, 'operator': 'mul'}, 'spatial': {'type': 'PointSpatialModel', 'frame': <Galactic Coordinate: (l, b) in deg\n",
      "    (21.90869684, 43.96446788)>, 'parameters': [{'name': 'lon_0', 'value': 0.3823788947184808, 'unit': 'rad', 'frozen': True}, {'name': 'lat_0', 'value': 0.7673247183164368, 'unit': 'rad', 'frozen': True}]}}]}\n",
      "Analysis Step fit completed\n"
     ]
    },
    {
     "name": "stdout",
     "output_type": "stream",
     "text": [
      "3.8000000000000003 34879.11865040069\n",
      "Assigning the given models to the given datasets\n"
     ]
    },
    {
     "name": "stderr",
     "output_type": "stream",
     "text": [
      "OptimizeResult\n",
      "\n",
      "\tbackend    : minuit\n",
      "\tmethod     : migrad\n",
      "\tsuccess    : True\n",
      "\tmessage    : Optimization terminated successfully.\n",
      "\tnfev       : 197\n",
      "\ttotal stat : 34881.05\n",
      "\n",
      "CovarianceResult\n",
      "\n",
      "\tbackend    : minuit\n",
      "\tmethod     : hesse\n",
      "\tsuccess    : True\n",
      "\tmessage    : Hesse terminated successfully.\n",
      "\n",
      "{'components': [{'name': 'PG1553+113', 'type': 'SkyModel', 'spectral': {'type': 'CompoundSpectralModel', 'model1': {'type': 'LogParabolaSpectralModel', 'parameters': [{'name': 'amplitude', 'value': 7.631975361661116e-07, 'unit': 'cm-2 s-1 TeV-1', 'error': 4.1302080340757676e-08, 'min': 0.0, 'max': 0.01}, {'name': 'reference', 'value': 0.01, 'unit': 'TeV', 'min': 0.001, 'max': 100.0}, {'name': 'alpha', 'value': 2.140684023292498, 'error': 0.019986517093413262, 'min': 0.5, 'max': 5.0}, {'name': 'beta', 'value': 4.005152043893602e-10, 'error': 2.1610709213675016e-06, 'min': 0.0, 'max': 1.0}]}, 'model2': {'type': 'EBLAbsorptionNormSpectralModel', 'parameters': [{'name': 'alpha_norm', 'value': 4.0}, {'name': 'redshift', 'value': 0.43300000000000005}], 'filename': '/fefs/aswg/workspace/chaitanya.priyadarshi/software/gammapy-tutorials/dataset/ebl/ebl_dominguez11.fits.gz'}, 'operator': 'mul'}, 'spatial': {'type': 'PointSpatialModel', 'frame': <Galactic Coordinate: (l, b) in deg\n",
      "    (21.90869684, 43.96446788)>, 'parameters': [{'name': 'lon_0', 'value': 0.3823788947184808, 'unit': 'rad', 'frozen': True}, {'name': 'lat_0', 'value': 0.7673247183164368, 'unit': 'rad', 'frozen': True}]}}]}\n",
      "Analysis Step fit completed\n"
     ]
    },
    {
     "name": "stdout",
     "output_type": "stream",
     "text": [
      "4.0 34881.04916155886\n",
      "Assigning the given models to the given datasets\n"
     ]
    },
    {
     "name": "stderr",
     "output_type": "stream",
     "text": [
      "OptimizeResult\n",
      "\n",
      "\tbackend    : minuit\n",
      "\tmethod     : migrad\n",
      "\tsuccess    : True\n",
      "\tmessage    : Optimization terminated successfully.\n",
      "\tnfev       : 191\n",
      "\ttotal stat : 34882.96\n",
      "\n",
      "CovarianceResult\n",
      "\n",
      "\tbackend    : minuit\n",
      "\tmethod     : hesse\n",
      "\tsuccess    : True\n",
      "\tmessage    : Hesse terminated successfully.\n",
      "\n",
      "{'components': [{'name': 'PG1553+113', 'type': 'SkyModel', 'spectral': {'type': 'CompoundSpectralModel', 'model1': {'type': 'LogParabolaSpectralModel', 'parameters': [{'name': 'amplitude', 'value': 7.700410665028925e-07, 'unit': 'cm-2 s-1 TeV-1', 'error': 4.199570541168242e-08, 'min': 0.0, 'max': 0.01}, {'name': 'reference', 'value': 0.01, 'unit': 'TeV', 'min': 0.001, 'max': 100.0}, {'name': 'alpha', 'value': 2.1377859543113322, 'error': 0.020169732919466735, 'min': 0.5, 'max': 5.0}, {'name': 'beta', 'value': 1.834588150828858e-09, 'error': 4.564204194260551e-06, 'min': 0.0, 'max': 1.0}]}, 'model2': {'type': 'EBLAbsorptionNormSpectralModel', 'parameters': [{'name': 'alpha_norm', 'value': 4.2}, {'name': 'redshift', 'value': 0.43300000000000005}], 'filename': '/fefs/aswg/workspace/chaitanya.priyadarshi/software/gammapy-tutorials/dataset/ebl/ebl_dominguez11.fits.gz'}, 'operator': 'mul'}, 'spatial': {'type': 'PointSpatialModel', 'frame': <Galactic Coordinate: (l, b) in deg\n",
      "    (21.90869684, 43.96446788)>, 'parameters': [{'name': 'lon_0', 'value': 0.3823788947184808, 'unit': 'rad', 'frozen': True}, {'name': 'lat_0', 'value': 0.7673247183164368, 'unit': 'rad', 'frozen': True}]}}]}\n",
      "Analysis Step fit completed\n"
     ]
    },
    {
     "name": "stdout",
     "output_type": "stream",
     "text": [
      "4.2 34882.95951794429\n",
      "Assigning the given models to the given datasets\n"
     ]
    },
    {
     "name": "stderr",
     "output_type": "stream",
     "text": [
      "OptimizeResult\n",
      "\n",
      "\tbackend    : minuit\n",
      "\tmethod     : migrad\n",
      "\tsuccess    : True\n",
      "\tmessage    : Optimization terminated successfully.\n",
      "\tnfev       : 203\n",
      "\ttotal stat : 34884.84\n",
      "\n",
      "CovarianceResult\n",
      "\n",
      "\tbackend    : minuit\n",
      "\tmethod     : hesse\n",
      "\tsuccess    : True\n",
      "\tmessage    : Hesse terminated successfully.\n",
      "\n",
      "{'components': [{'name': 'PG1553+113', 'type': 'SkyModel', 'spectral': {'type': 'CompoundSpectralModel', 'model1': {'type': 'LogParabolaSpectralModel', 'parameters': [{'name': 'amplitude', 'value': 7.763096238701592e-07, 'unit': 'cm-2 s-1 TeV-1', 'error': 4.267173755430816e-08, 'min': 0.0, 'max': 0.01}, {'name': 'reference', 'value': 0.01, 'unit': 'TeV', 'min': 0.001, 'max': 100.0}, {'name': 'alpha', 'value': 2.135106744835475, 'error': 0.020352485503747818, 'min': 0.5, 'max': 5.0}, {'name': 'beta', 'value': 4.0451516059871427e-10, 'error': 2.1157874345767825e-06, 'min': 0.0, 'max': 1.0}]}, 'model2': {'type': 'EBLAbsorptionNormSpectralModel', 'parameters': [{'name': 'alpha_norm', 'value': 4.4}, {'name': 'redshift', 'value': 0.43300000000000005}], 'filename': '/fefs/aswg/workspace/chaitanya.priyadarshi/software/gammapy-tutorials/dataset/ebl/ebl_dominguez11.fits.gz'}, 'operator': 'mul'}, 'spatial': {'type': 'PointSpatialModel', 'frame': <Galactic Coordinate: (l, b) in deg\n",
      "    (21.90869684, 43.96446788)>, 'parameters': [{'name': 'lon_0', 'value': 0.3823788947184808, 'unit': 'rad', 'frozen': True}, {'name': 'lat_0', 'value': 0.7673247183164368, 'unit': 'rad', 'frozen': True}]}}]}\n",
      "Analysis Step fit completed\n"
     ]
    },
    {
     "name": "stdout",
     "output_type": "stream",
     "text": [
      "4.4 34884.84401141853\n",
      "Assigning the given models to the given datasets\n"
     ]
    },
    {
     "name": "stderr",
     "output_type": "stream",
     "text": [
      "OptimizeResult\n",
      "\n",
      "\tbackend    : minuit\n",
      "\tmethod     : migrad\n",
      "\tsuccess    : True\n",
      "\tmessage    : Optimization terminated successfully.\n",
      "\tnfev       : 197\n",
      "\ttotal stat : 34886.70\n",
      "\n",
      "CovarianceResult\n",
      "\n",
      "\tbackend    : minuit\n",
      "\tmethod     : hesse\n",
      "\tsuccess    : True\n",
      "\tmessage    : Hesse terminated successfully.\n",
      "\n",
      "{'components': [{'name': 'PG1553+113', 'type': 'SkyModel', 'spectral': {'type': 'CompoundSpectralModel', 'model1': {'type': 'LogParabolaSpectralModel', 'parameters': [{'name': 'amplitude', 'value': 7.82471622465787e-07, 'unit': 'cm-2 s-1 TeV-1', 'error': 4.332854261558049e-08, 'min': 0.0, 'max': 0.01}, {'name': 'reference', 'value': 0.01, 'unit': 'TeV', 'min': 0.001, 'max': 100.0}, {'name': 'alpha', 'value': 2.1325800611947234, 'error': 0.020523213307248767, 'min': 0.5, 'max': 5.0}, {'name': 'beta', 'value': 6.572739520618182e-11, 'error': 8.454516038995226e-07, 'min': 0.0, 'max': 1.0}]}, 'model2': {'type': 'EBLAbsorptionNormSpectralModel', 'parameters': [{'name': 'alpha_norm', 'value': 4.6000000000000005}, {'name': 'redshift', 'value': 0.43300000000000005}], 'filename': '/fefs/aswg/workspace/chaitanya.priyadarshi/software/gammapy-tutorials/dataset/ebl/ebl_dominguez11.fits.gz'}, 'operator': 'mul'}, 'spatial': {'type': 'PointSpatialModel', 'frame': <Galactic Coordinate: (l, b) in deg\n",
      "    (21.90869684, 43.96446788)>, 'parameters': [{'name': 'lon_0', 'value': 0.3823788947184808, 'unit': 'rad', 'frozen': True}, {'name': 'lat_0', 'value': 0.7673247183164368, 'unit': 'rad', 'frozen': True}]}}]}\n",
      "Analysis Step fit completed\n"
     ]
    },
    {
     "name": "stdout",
     "output_type": "stream",
     "text": [
      "4.6000000000000005 34886.698444847425\n",
      "Assigning the given models to the given datasets\n"
     ]
    },
    {
     "name": "stderr",
     "output_type": "stream",
     "text": [
      "OptimizeResult\n",
      "\n",
      "\tbackend    : minuit\n",
      "\tmethod     : migrad\n",
      "\tsuccess    : True\n",
      "\tmessage    : Optimization terminated successfully.\n",
      "\tnfev       : 170\n",
      "\ttotal stat : 34888.52\n",
      "\n",
      "CovarianceResult\n",
      "\n",
      "\tbackend    : minuit\n",
      "\tmethod     : hesse\n",
      "\tsuccess    : True\n",
      "\tmessage    : Hesse terminated successfully.\n",
      "\n",
      "{'components': [{'name': 'PG1553+113', 'type': 'SkyModel', 'spectral': {'type': 'CompoundSpectralModel', 'model1': {'type': 'LogParabolaSpectralModel', 'parameters': [{'name': 'amplitude', 'value': 7.881566353122365e-07, 'unit': 'cm-2 s-1 TeV-1', 'error': 4.3976582520890114e-08, 'min': 0.0, 'max': 0.01}, {'name': 'reference', 'value': 0.01, 'unit': 'TeV', 'min': 0.001, 'max': 100.0}, {'name': 'alpha', 'value': 2.130286951776581, 'error': 0.02069488599266901, 'min': 0.5, 'max': 5.0}, {'name': 'beta', 'value': 1.5423820298753922e-09, 'error': 4.066341792543021e-06, 'min': 0.0, 'max': 1.0}]}, 'model2': {'type': 'EBLAbsorptionNormSpectralModel', 'parameters': [{'name': 'alpha_norm', 'value': 4.800000000000001}, {'name': 'redshift', 'value': 0.43300000000000005}], 'filename': '/fefs/aswg/workspace/chaitanya.priyadarshi/software/gammapy-tutorials/dataset/ebl/ebl_dominguez11.fits.gz'}, 'operator': 'mul'}, 'spatial': {'type': 'PointSpatialModel', 'frame': <Galactic Coordinate: (l, b) in deg\n",
      "    (21.90869684, 43.96446788)>, 'parameters': [{'name': 'lon_0', 'value': 0.3823788947184808, 'unit': 'rad', 'frozen': True}, {'name': 'lat_0', 'value': 0.7673247183164368, 'unit': 'rad', 'frozen': True}]}}]}\n",
      "Analysis Step fit completed\n"
     ]
    },
    {
     "name": "stdout",
     "output_type": "stream",
     "text": [
      "4.800000000000001 34888.5198860797\n",
      "Assigning the given models to the given datasets\n"
     ]
    },
    {
     "name": "stderr",
     "output_type": "stream",
     "text": [
      "OptimizeResult\n",
      "\n",
      "\tbackend    : minuit\n",
      "\tmethod     : migrad\n",
      "\tsuccess    : True\n",
      "\tmessage    : Optimization terminated successfully.\n",
      "\tnfev       : 167\n",
      "\ttotal stat : 34890.31\n",
      "\n",
      "CovarianceResult\n",
      "\n",
      "\tbackend    : minuit\n",
      "\tmethod     : hesse\n",
      "\tsuccess    : True\n",
      "\tmessage    : Hesse terminated successfully.\n",
      "\n",
      "{'components': [{'name': 'PG1553+113', 'type': 'SkyModel', 'spectral': {'type': 'CompoundSpectralModel', 'model1': {'type': 'LogParabolaSpectralModel', 'parameters': [{'name': 'amplitude', 'value': 7.933941568528542e-07, 'unit': 'cm-2 s-1 TeV-1', 'error': 4.4611879108140776e-08, 'min': 0.0, 'max': 0.01}, {'name': 'reference', 'value': 0.01, 'unit': 'TeV', 'min': 0.001, 'max': 100.0}, {'name': 'alpha', 'value': 2.1281647722223394, 'error': 0.020866685442007794, 'min': 0.5, 'max': 5.0}, {'name': 'beta', 'value': 9.7549649130202e-09, 'error': 1.0156082520808863e-05, 'min': 0.0, 'max': 1.0}]}, 'model2': {'type': 'EBLAbsorptionNormSpectralModel', 'parameters': [{'name': 'alpha_norm', 'value': 5.0}, {'name': 'redshift', 'value': 0.43300000000000005}], 'filename': '/fefs/aswg/workspace/chaitanya.priyadarshi/software/gammapy-tutorials/dataset/ebl/ebl_dominguez11.fits.gz'}, 'operator': 'mul'}, 'spatial': {'type': 'PointSpatialModel', 'frame': <Galactic Coordinate: (l, b) in deg\n",
      "    (21.90869684, 43.96446788)>, 'parameters': [{'name': 'lon_0', 'value': 0.3823788947184808, 'unit': 'rad', 'frozen': True}, {'name': 'lat_0', 'value': 0.7673247183164368, 'unit': 'rad', 'frozen': True}]}}]}\n",
      "Analysis Step fit completed\n"
     ]
    },
    {
     "name": "stdout",
     "output_type": "stream",
     "text": [
      "5.0 34890.306284754886\n",
      "CPU times: user 7min 44s, sys: 36.8 s, total: 8min 21s\n",
      "Wall time: 8min 28s\n"
     ]
    }
   ],
   "source": [
    "%%time\n",
    "stat = []\n",
    "for ebl in ebl_scale_range:\n",
    "    analysis.final_model = standard_model.copy()\n",
    "    analysis.final_model[0].spectral_model.model2.alpha_norm.value = ebl\n",
    "    analysis.datasets = standard_datasets.copy()\n",
    "    \n",
    "    analysis.run(steps=[\"fit\"])\n",
    "    stat.append(analysis.fit_result.total_stat)\n",
    "    print(ebl, analysis.fit_result.total_stat)"
   ]
  },
  {
   "cell_type": "code",
   "execution_count": 17,
   "id": "d5ed222b",
   "metadata": {},
   "outputs": [],
   "source": [
    "stat = np.array(stat)"
   ]
  },
  {
   "cell_type": "code",
   "execution_count": null,
   "id": "1ed27206",
   "metadata": {},
   "outputs": [],
   "source": []
  },
  {
   "cell_type": "code",
   "execution_count": 18,
   "id": "b6fbae85",
   "metadata": {},
   "outputs": [
    {
     "name": "stdout",
     "output_type": "stream",
     "text": [
      "Models\n",
      "\n",
      "Component 0: SkyModel\n",
      "\n",
      "  Name                      : PG1553+113\n",
      "  Datasets names            : None\n",
      "  Spectral model type       : CompoundSpectralModel\n",
      "  Spatial  model type       : PointSpatialModel\n",
      "  Temporal model type       : \n",
      "  Parameters:\n",
      "    amplitude                     :   8.20e-06   +/- 1.5e-06 1 / (cm2 s TeV)\n",
      "    reference             (frozen):      0.010       TeV         \n",
      "    alpha                         :      1.500   +/-    0.10             \n",
      "    beta                          :      0.100   +/-    0.01             \n",
      "    alpha_norm            (frozen):      1.000                   \n",
      "    redshift              (frozen):      0.433                   \n",
      "    lon_0                 (frozen):      0.382       rad         \n",
      "    lat_0                 (frozen):      0.767       rad         \n",
      "\n",
      "\n"
     ]
    }
   ],
   "source": [
    "print(standard_model)"
   ]
  },
  {
   "cell_type": "code",
   "execution_count": 19,
   "id": "2c04edba",
   "metadata": {
    "scrolled": true
   },
   "outputs": [
    {
     "data": {
      "image/png": "[encoded data removed]",
      "text/plain": [
       "<Figure size 640x480 with 1 Axes>"
      ]
     },
     "metadata": {},
     "output_type": "display_data"
    }
   ],
   "source": [
    "plt.plot(ebl_scale_range, stat)\n",
    "plt.grid()"
   ]
  },
  {
   "cell_type": "code",
   "execution_count": 20,
   "id": "6a344a76",
   "metadata": {},
   "outputs": [],
   "source": [
    "def plot_alpha_profile_stats(model_name, alpha_range, wstat):\n",
    "\n",
    "    a_min = alpha_range[np.where(wstat == wstat.min())[0][0]]\n",
    "    a_null = abs(alpha_range-1)\n",
    "\n",
    "    w_1 = wstat[np.where(a_null == a_null.min())][0]\n",
    "    w_0 = wstat[0]\n",
    "    w_min = wstat[np.where(alpha_range == a_min)][0]\n",
    "\n",
    "    y_range = wstat.max() - wstat.min()\n",
    "    y_pos = wstat.min() + round(y_range*0.8, 2)\n",
    "    pval = 2 * norm.sf(abs(w_1-w_min))\n",
    "\n",
    "    text = (\n",
    "        (f\"-2ln(L_min) is at alpha={a_min:.3e}\\n\" +\n",
    "        \"|-2ln(L_min/L_(alpha=1))| =\" + f\"{round(abs(w_1-w_min), 4)}\\n\" +\n",
    "        \"-2ln(L_min/L_(alpha=0)) =\"+f\" {round(abs(w_min-w_0), 4)} \" +\n",
    "        f\"p-value(alpha @ L_min vs alpha=1) = {pval:.3e}\")\n",
    "    )\n",
    "\n",
    "    plt.plot(alpha_range, wstat)\n",
    "    plt.scatter(alpha_range, wstat, lw=0.5, alpha=0.7, marker=\"*\")\n",
    "\n",
    "    plt.axvline(a_min, ls=\"--\", alpha=0.5)\n",
    "    plt.text(1, y_pos, text)\n",
    "    plt.axhline(wstat.min())\n",
    "\n",
    "    plt.grid(which=\"both\")\n",
    "    plt.xlabel(\"EBL Alpha\")\n",
    "\n",
    "    plt.title(f\"Log-likelihood profile of EBL alpha\\nfor intrinsic spectral model: {model_name}\")\n",
    "    plt.ylabel(f\"Wstat (-2 ln L)\")\n"
   ]
  },
  {
   "cell_type": "code",
   "execution_count": 21,
   "id": "2d141461",
   "metadata": {},
   "outputs": [
    {
     "data": {
      "image/png": "[encoded data removed]",
      "text/plain": [
       "<Figure size 640x480 with 1 Axes>"
      ]
     },
     "metadata": {},
     "output_type": "display_data"
    }
   ],
   "source": [
    "plot_alpha_profile_stats(\"Log Parabola\", ebl_scale_range, stat)"
   ]
  },
  {
   "cell_type": "code",
   "execution_count": null,
   "id": "93b91587",
   "metadata": {},
   "outputs": [],
   "source": []
  }
 ],
 "metadata": {
  "kernelspec": {
   "display_name": "gammapy-dev",
   "language": "python",
   "name": "gammapy-dev"
  },
  "language_info": {
   "codemirror_mode": {
    "name": "ipython",
    "version": 3
   },
   "file_extension": ".py",
   "mimetype": "text/x-python",
   "name": "python",
   "nbconvert_exporter": "python",
   "pygments_lexer": "ipython3",
   "version": "3.8.13"
  }
 },
 "nbformat": 4,
 "nbformat_minor": 5
}
