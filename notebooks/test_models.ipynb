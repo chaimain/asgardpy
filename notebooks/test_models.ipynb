{
 "cells": [
  {
   "cell_type": "code",
   "execution_count": 1,
   "id": "aee1fbf4",
   "metadata": {},
   "outputs": [
    {
     "name": "stderr",
     "output_type": "stream",
     "text": [
      "WARNING: AstropyDeprecationWarning: The truth value of a Quantity is ambiguous. In the future this will raise a ValueError. [astropy.units.quantity]\n"
     ]
    }
   ],
   "source": [
    "from asgardpy.analysis import AsgardpyAnalysis\n",
    "from asgardpy.config import AsgardpyConfig\n",
    "\n",
    "from gammapy.modeling.models import Models\n",
    "\n",
    "import xmltodict\n",
    "import astropy.units as u\n",
    "import logging"
   ]
  },
  {
   "cell_type": "code",
   "execution_count": 2,
   "id": "f058566a",
   "metadata": {},
   "outputs": [],
   "source": [
    "from asgardpy.data.dataset_3d import Dataset3DGeneration\n",
    "from asgardpy.data.target import (\n",
    "    set_models, create_gal_diffuse_skymodel, \n",
    "    create_source_skymodel, read_models_from_asgardpy_config\n",
    ")"
   ]
  },
  {
   "cell_type": "code",
   "execution_count": null,
   "id": "c14f8301",
   "metadata": {},
   "outputs": [],
   "source": []
  },
  {
   "cell_type": "code",
   "execution_count": 3,
   "id": "7c2f92e8",
   "metadata": {},
   "outputs": [],
   "source": [
    "log = logging.getLogger(\"test Models from XML\")"
   ]
  },
  {
   "cell_type": "code",
   "execution_count": 4,
   "id": "c68f07a5",
   "metadata": {},
   "outputs": [],
   "source": [
    "base_dir = \"/fefs/aswg/workspace/chaitanya.priyadarshi/\"\n",
    "config_file = base_dir + \"analyze_crab_test_Nov2020.yaml\""
   ]
  },
  {
   "cell_type": "code",
   "execution_count": 5,
   "id": "6143dfdf",
   "metadata": {},
   "outputs": [],
   "source": [
    "config = AsgardpyConfig()"
   ]
  },
  {
   "cell_type": "code",
   "execution_count": 6,
   "id": "d3400f37",
   "metadata": {},
   "outputs": [
    {
     "name": "stdout",
     "output_type": "stream",
     "text": [
      "CPU times: user 52.2 ms, sys: 3.28 ms, total: 55.5 ms\n",
      "Wall time: 54.4 ms\n"
     ]
    }
   ],
   "source": [
    "%%time\n",
    "config_main = config.read(config_file)"
   ]
  },
  {
   "cell_type": "code",
   "execution_count": 7,
   "id": "a531e6ed",
   "metadata": {},
   "outputs": [
    {
     "name": "stdout",
     "output_type": "stream",
     "text": [
      "('log', LogConfig(level='info', filename='', filemode='w', format='', datefmt=''))\n",
      "('outdir', PosixPath('/fefs/aswg/workspace/chaitanya.priyadarshi/real_data/AGN/Crab/v09x/tailcut84/DL3/interp_irf_en_dep/nsb_tuning/geff_70/teff_70/20220518_dec2276/perf_paper/interp_w_23/joint_lat_lst'))\n",
      "('n_jobs', 1)\n",
      "('steps', [<AnalysisStepEnum.datasets_3d: 'datasets-3d'>, <AnalysisStepEnum.datasets_1d: 'datasets-1d'>, <AnalysisStepEnum.fit: 'fit'>, <AnalysisStepEnum.flux_points: 'flux-points'>])\n",
      "('overwrite', True)\n",
      "('stacked_dataset', True)\n"
     ]
    }
   ],
   "source": [
    "for g in config_main.general:\n",
    "    print(g)"
   ]
  },
  {
   "cell_type": "markdown",
   "id": "e46aef7f",
   "metadata": {},
   "source": [
    "# Steps mentioned in the main config file"
   ]
  },
  {
   "cell_type": "code",
   "execution_count": 8,
   "id": "2de0184b",
   "metadata": {},
   "outputs": [
    {
     "data": {
      "text/plain": [
       "[<AnalysisStepEnum.datasets_3d: 'datasets-3d'>,\n",
       " <AnalysisStepEnum.datasets_1d: 'datasets-1d'>,\n",
       " <AnalysisStepEnum.fit: 'fit'>,\n",
       " <AnalysisStepEnum.flux_points: 'flux-points'>]"
      ]
     },
     "execution_count": 8,
     "metadata": {},
     "output_type": "execute_result"
    }
   ],
   "source": [
    "config_main.general.steps"
   ]
  },
  {
   "cell_type": "markdown",
   "id": "491934ac",
   "metadata": {},
   "source": [
    "# Target source information"
   ]
  },
  {
   "cell_type": "code",
   "execution_count": 9,
   "id": "5034abda",
   "metadata": {},
   "outputs": [
    {
     "name": "stdout",
     "output_type": "stream",
     "text": [
      "('source_name', 'Crab')\n",
      "('sky_position', SkyCoordConfig(frame=<FrameEnum.icrs: 'icrs'>, lon=<Angle 83.63308333 deg>, lat=<Angle 22.0145 deg>))\n",
      "('use_uniform_position', True)\n",
      "('models_file', PosixPath('.'))\n",
      "('extended', False)\n",
      "('components', SkyModelComponent(name='Crab', type='SkyModel', spectral=SpectralModelConfig(model_name='LogParabola', type='LogParabolaSpectralModel', parameters=[ModelParams(name='amplitude', value=1e-07, unit='cm-2 s-1 TeV-1', error=1.5e-08, min=1e-13, max=0.01, frozen=False), ModelParams(name='reference', value=0.01, unit='TeV', error=0.0, min=0.0001, max=100.0, frozen=True), ModelParams(name='alpha', value=2.0, unit='', error=0.1, min=0.5, max=5.0, frozen=False), ModelParams(name='beta', value=0.01, unit='', error=0.001, min=1e-06, max=1.0, frozen=False)], ebl_abs=EBLAbsorptionModel(model_name='dominguez', type='EBLAbsorptionNormSpectralModel', redshift=0.0, alpha_norm=1.0)), spatial=SpatialModelConfig(model_name='', type='', parameters=[ModelParams(name='', value=1.0, unit=' ', error=0.1, min=0.1, max=10.0, frozen=True)])))\n",
      "('covariance', 'None')\n",
      "('from_fermi', False)\n"
     ]
    }
   ],
   "source": [
    "for c in config_main.target:\n",
    "    print(c)"
   ]
  },
  {
   "cell_type": "markdown",
   "id": "a6dc4195",
   "metadata": {},
   "source": [
    "# 3D Datasets informations"
   ]
  },
  {
   "cell_type": "code",
   "execution_count": 10,
   "id": "40fabea9",
   "metadata": {},
   "outputs": [
    {
     "name": "stdout",
     "output_type": "stream",
     "text": [
      "('type', <ReductionTypeEnum.cube: '3d'>)\n",
      "('instruments', [Dataset3DBaseConfig(name='Fermi-LAT', io=[InputConfig(type='lat', input_dir=PosixPath('/fefs/aswg/workspace/chaitanya.priyadarshi/real_data/AGN/Crab/v09x/tailcut84/DL3/interp_irf_en_dep/nsb_tuning/geff_70/teff_70/20220518_dec2276/perf_paper/interp_w_23/joint_lat_lst/LAT/Nov2020'), glob_pattern={'events': '*MkTime.fits*', 'edisp': '*eDRM.fits*', 'xml_model': '*out.xml', 'exposure': '*BinnedMap.fits*', 'psf': '*psf.fits*'}), InputConfig(type='lat-aux', input_dir=PosixPath('/fefs/aswg/workspace/lst1-agn-paper/LAT/diffuse_models'), glob_pattern={'diffuse': 'gll_iem_v07.fits*', 'iso': 'iso_P8R3_SOURCE_V3_*.txt'})], dataset_info=Dataset3DInfoConfig(name='Fermi-LAT', key=['FRONT', 'BACK'], map_selection=[<MapSelectionEnum.counts: 'counts'>, <MapSelectionEnum.exposure: 'exposure'>, <MapSelectionEnum.background: 'background'>, <MapSelectionEnum.psf: 'psf'>, <MapSelectionEnum.edisp: 'edisp'>], obs_time=TimeIntervalsConfig(format=<TimeFormatEnum.iso: 'iso'>, intervals=[TimeRangeConfig(start=<Time object: scale='utc' format='iso' value=2020-11-16 00:00:00.000>, stop=<Time object: scale='utc' format='iso' value=2020-11-23 00:00:00.000>)]), background=BackgroundConfig(method=<BackgroundMethodEnum.reflected: 'reflected'>, region_finder_method=<BackgroundRegionFinderMethodEnum.wobble: 'wobble'>, parameters={}, exclusion=ExclusionRegionsConfig(target_source=True, regions=[RegionsConfig(type='CircleAnnulusSkyRegion', name='None', position=SkyCoordConfig(frame=<FrameEnum.icrs: 'icrs'>, lon=<Angle 83.63308333 deg>, lat=<Angle 22.0145 deg>), parameters={'rad_0': '8 deg', 'rad_1': '30 deg'}), RegionsConfig(type='CircleSkyRegion', name='RGB J0521+212', position=SkyCoordConfig(frame=<FrameEnum.icrs: 'icrs'>, lon=<Angle 0. deg>, lat=<Angle 0. deg>), parameters={'region_radius': '0.5 deg'})])), safe_mask=SafeMaskConfig(methods=[], parameters={'min': '100 MeV', 'max': '200 GeV'}), on_region=SpatialCircleConfig(frame=<FrameEnum.icrs: 'icrs'>, lon=<Angle 83.63308333 deg>, lat=<Angle 22.0145 deg>, radius=<Angle 0.1 rad>), containment_correction=True, spectral_energy_range=EnergyAxisConfig(min=<Quantity 100. MeV>, max=<Quantity 200. GeV>, nbins=2)))])\n"
     ]
    }
   ],
   "source": [
    "for cc in config_main.dataset3d:\n",
    "    print(cc)"
   ]
  },
  {
   "cell_type": "code",
   "execution_count": null,
   "id": "b63c5529",
   "metadata": {},
   "outputs": [],
   "source": []
  },
  {
   "cell_type": "code",
   "execution_count": 11,
   "id": "1a8f0690",
   "metadata": {},
   "outputs": [
    {
     "name": "stderr",
     "output_type": "stream",
     "text": [
      "Setting logging config: {'level': 'INFO', 'filename': '', 'filemode': 'w', 'format': '', 'datefmt': ''}\n"
     ]
    },
    {
     "name": "stdout",
     "output_type": "stream",
     "text": [
      "CPU times: user 2.15 ms, sys: 1.06 ms, total: 3.21 ms\n",
      "Wall time: 2.7 ms\n"
     ]
    }
   ],
   "source": [
    "%%time\n",
    "analysis = AsgardpyAnalysis(config_main)"
   ]
  },
  {
   "cell_type": "code",
   "execution_count": 12,
   "id": "dd6588f1",
   "metadata": {},
   "outputs": [
    {
     "data": {
      "text/plain": [
       "<asgardpy.analysis.analysis.AsgardpyAnalysis at 0x7f399ce81670>"
      ]
     },
     "execution_count": 12,
     "metadata": {},
     "output_type": "execute_result"
    }
   ],
   "source": [
    "analysis"
   ]
  },
  {
   "cell_type": "code",
   "execution_count": null,
   "id": "24e4ac05",
   "metadata": {},
   "outputs": [],
   "source": []
  },
  {
   "cell_type": "markdown",
   "id": "6a4fe4ce",
   "metadata": {},
   "source": [
    "# Get XML file from a single 3D Dataset - Fermi-LAT"
   ]
  },
  {
   "cell_type": "code",
   "execution_count": 13,
   "id": "ab46c633",
   "metadata": {},
   "outputs": [
    {
     "name": "stdout",
     "output_type": "stream",
     "text": [
      "1 number of 3D dataset information provided\n",
      "Instrument selected is Fermi-LAT\n",
      "The list of different keys or modes of observations for the selected instrument are ['FRONT', 'BACK']\n"
     ]
    }
   ],
   "source": [
    "instruments_list = config_main.dataset3d.instruments\n",
    "print(len(instruments_list), \"number of 3D dataset information provided\")\n",
    "\n",
    "config_3d_dataset = instruments_list[0]\n",
    "print(f\"Instrument selected is {config_3d_dataset.name}\")\n",
    "\n",
    "key_names = config_3d_dataset.dataset_info.key\n",
    "print(f\"The list of different keys or modes of observations for the selected instrument are {key_names}\")"
   ]
  },
  {
   "cell_type": "code",
   "execution_count": 14,
   "id": "54c923a4",
   "metadata": {},
   "outputs": [
    {
     "name": "stdout",
     "output_type": "stream",
     "text": [
      "CPU times: user 13 µs, sys: 15 µs, total: 28 µs\n",
      "Wall time: 36.7 µs\n"
     ]
    }
   ],
   "source": [
    "%%time\n",
    "generate_3d_dataset = Dataset3DGeneration(\n",
    "    log, config_3d_dataset, config_main\n",
    ")"
   ]
  },
  {
   "cell_type": "code",
   "execution_count": 15,
   "id": "91a0d1d7",
   "metadata": {},
   "outputs": [
    {
     "name": "stderr",
     "output_type": "stream",
     "text": [
      "WARNING: FITSFixedWarning: RADECSYS= 'FK5 ' \n",
      "the RADECSYS keyword is deprecated, use RADESYSa. [astropy.wcs.wcs]\n",
      "FITSFixedWarning: RADECSYS= 'FK5 ' \n",
      "the RADECSYS keyword is deprecated, use RADESYSa.\n",
      "WARNING: FITSFixedWarning: 'datfix' made the change 'Set DATEREF to '2001-01-01T00:01:04.184' from MJDREF.\n",
      "Set MJD-OBS to 59169.000000 from DATE-OBS.\n",
      "Set MJD-END to 59175.999954 from DATE-END'. [astropy.wcs.wcs]\n",
      "FITSFixedWarning: 'datfix' made the change 'Set DATEREF to '2001-01-01T00:01:04.184' from MJDREF.\n",
      "Set MJD-OBS to 59169.000000 from DATE-OBS.\n",
      "Set MJD-END to 59175.999954 from DATE-END'.\n",
      "WARNING: AstropyDeprecationWarning: The truth value of a Quantity is ambiguous. In the future this will raise a ValueError. [astropy.units.quantity]\n",
      "AstropyDeprecationWarning: The truth value of a Quantity is ambiguous. In the future this will raise a ValueError.\n"
     ]
    },
    {
     "name": "stdout",
     "output_type": "stream",
     "text": [
      "CPU times: user 1.15 s, sys: 1.04 s, total: 2.19 s\n",
      "Wall time: 2.2 s\n"
     ]
    }
   ],
   "source": [
    "%%time\n",
    "file_list = generate_3d_dataset.read_to_objects(\n",
    "    generate_3d_dataset.config_target.components.spectral, \n",
    "    key_names[0]\n",
    ")"
   ]
  },
  {
   "cell_type": "code",
   "execution_count": 16,
   "id": "5ec6f406",
   "metadata": {},
   "outputs": [
    {
     "name": "stdout",
     "output_type": "stream",
     "text": [
      "The XML file selected is /fefs/aswg/workspace/chaitanya.priyadarshi/real_data/AGN/Crab/v09x/tailcut84/DL3/interp_irf_en_dep/nsb_tuning/geff_70/teff_70/20220518_dec2276/perf_paper/interp_w_23/joint_lat_lst/LAT/Nov2020/Crab_LogParabola_LAT_Analysis_out.xml\n"
     ]
    }
   ],
   "source": [
    "print(f\"The XML file selected is {file_list['xml_file']}\")\n",
    "xml_file = file_list['xml_file']"
   ]
  },
  {
   "cell_type": "code",
   "execution_count": null,
   "id": "aa57e05e",
   "metadata": {},
   "outputs": [],
   "source": []
  },
  {
   "cell_type": "markdown",
   "id": "8a96c051",
   "metadata": {},
   "source": [
    "# Read into Models from XML file"
   ]
  },
  {
   "cell_type": "code",
   "execution_count": 17,
   "id": "046633e6",
   "metadata": {},
   "outputs": [],
   "source": [
    "with open(xml_file) as f:\n",
    "    data = xmltodict.parse(f.read())[\"source_library\"][\"source\"]"
   ]
  },
  {
   "cell_type": "code",
   "execution_count": 18,
   "id": "bf017e25",
   "metadata": {},
   "outputs": [
    {
     "name": "stdout",
     "output_type": "stream",
     "text": [
      "The sources for which model information is givne in the XML file:\n",
      "4FGL J0515.8+1527\n",
      "4FGL J0521.7+2112\n",
      "4FGL J0524.5+2839\n",
      "4FGL J0540.3+2756e\n",
      "4FGL J0554.1+3107\n",
      "4FGL J0601.4+2320\n",
      "4FGL J0609.0+2006\n",
      "4FGL J0613.1+1749c\n",
      "4FGL J0615.9+1416\n",
      "4FGL J0617.2+2234e\n",
      "4FGL J0634.2+0436e\n",
      "Crab\n",
      "GalDiffModel\n",
      "IsoDiffModel\n"
     ]
    }
   ],
   "source": [
    "\n",
    "print(\"The sources for which model information is givne in the XML file:\")\n",
    "for source in data:\n",
    "    print(source[\"@name\"])"
   ]
  },
  {
   "cell_type": "code",
   "execution_count": 19,
   "id": "ca80df20",
   "metadata": {},
   "outputs": [
    {
     "name": "stdout",
     "output_type": "stream",
     "text": [
      "Diffuse Isotropic Model already initialized\n",
      "SkyModel\n",
      "\n",
      "  Name                      : fermi-diffuse-iso-FRONT\n",
      "  Datasets names            : None\n",
      "  Spectral model type       : CompoundSpectralModel\n",
      "  Spatial  model type       : ConstantSpatialModel\n",
      "  Temporal model type       : \n",
      "  Parameters:\n",
      "    norm                  (frozen):      1.000                   \n",
      "    norm                          :      1.000   +/-    0.00             \n",
      "    tilt                  (frozen):      0.000                   \n",
      "    reference             (frozen):      1.000       TeV         \n",
      "    value                 (frozen):      1.000       1 / sr      \n",
      "\n",
      "\n"
     ]
    }
   ],
   "source": [
    "print(\"Diffuse Isotropic Model already initialized\")\n",
    "print(generate_3d_dataset.diffuse_models[\"diff_iso\"])"
   ]
  },
  {
   "cell_type": "code",
   "execution_count": 20,
   "id": "2b1c1f6f",
   "metadata": {},
   "outputs": [
    {
     "name": "stdout",
     "output_type": "stream",
     "text": [
      "SkyModel\n",
      "\n",
      "  Name                      : diffuse-iem\n",
      "  Datasets names            : None\n",
      "  Spectral model type       : PowerLawNormSpectralModel\n",
      "  Spatial  model type       : TemplateSpatialModel\n",
      "  Temporal model type       : \n",
      "  Parameters:\n",
      "    norm                          :      1.000   +/-    0.00             \n",
      "    tilt                  (frozen):      0.000                   \n",
      "    reference             (frozen):      1.000       TeV         \n",
      "\n",
      "\n"
     ]
    }
   ],
   "source": [
    "diff_gal = create_gal_diffuse_skymodel(generate_3d_dataset.diffuse_models[\"diff_gal\"])\n",
    "print(diff_gal)"
   ]
  },
  {
   "cell_type": "code",
   "execution_count": 21,
   "id": "3d275500",
   "metadata": {},
   "outputs": [
    {
     "name": "stdout",
     "output_type": "stream",
     "text": [
      "True /fefs/aswg/workspace/lst1-agn-paper/LAT/diffuse_models\n"
     ]
    }
   ],
   "source": [
    "lp_is_intrinsic = generate_3d_dataset.config_target.components.spectral.model_name == \"LogParabola\"\n",
    "aux_path = generate_3d_dataset.config_3d_dataset.io[1].input_dir\n",
    "\n",
    "print(lp_is_intrinsic, aux_path)"
   ]
  },
  {
   "cell_type": "code",
   "execution_count": 22,
   "id": "1682a992",
   "metadata": {},
   "outputs": [],
   "source": [
    "list_sources = []\n",
    "\n",
    "for source in data:\n",
    "    source_name = source[\"@name\"]\n",
    "    if source_name not in [\"IsoDiffModel\", \"GalDiffModel\"]:\n",
    "        source, is_target_source = create_source_skymodel(\n",
    "            config_main.target, source, aux_path, lp_is_intrinsic\n",
    "        )\n",
    "\n",
    "        if is_target_source:\n",
    "            list_sources.insert(0, source)\n",
    "        else:\n",
    "            list_sources.append(source)"
   ]
  },
  {
   "cell_type": "code",
   "execution_count": 23,
   "id": "b3f6b7fe",
   "metadata": {},
   "outputs": [],
   "source": [
    "list_sources.append(generate_3d_dataset.diffuse_models[\"diff_iso\"])"
   ]
  },
  {
   "cell_type": "code",
   "execution_count": 24,
   "id": "0e7983c4",
   "metadata": {},
   "outputs": [
    {
     "name": "stdout",
     "output_type": "stream",
     "text": [
      "13\n"
     ]
    }
   ],
   "source": [
    "print(len(list_sources))"
   ]
  },
  {
   "cell_type": "code",
   "execution_count": 25,
   "id": "eeb77fb3",
   "metadata": {},
   "outputs": [
    {
     "name": "stdout",
     "output_type": "stream",
     "text": [
      "SkyModel\n",
      "\n",
      "  Name                      : Crab\n",
      "  Datasets names            : None\n",
      "  Spectral model type       : CompoundSpectralModel\n",
      "  Spatial  model type       : PointSpatialModel\n",
      "  Temporal model type       : \n",
      "  Parameters:\n",
      "    amplitude                     :   1.00e-07   +/- 1.5e-08 1 / (cm2 s TeV)\n",
      "    reference             (frozen):      0.010       TeV         \n",
      "    alpha                         :      2.000   +/-    0.10             \n",
      "    beta                          :      0.010   +/-    0.00             \n",
      "    alpha_norm            (frozen):      1.000                   \n",
      "    redshift              (frozen):      0.000                   \n",
      "    lon_0                 (frozen):      3.221       rad         \n",
      "    lat_0                 (frozen):     -0.101       rad         \n",
      "\n",
      "\n",
      "SkyModel\n",
      "\n",
      "  Name                      : 4FGL J0515.8+1527\n",
      "  Datasets names            : None\n",
      "  Spectral model type       : LogParabolaSpectralModel\n",
      "  Spatial  model type       : PointSpatialModel\n",
      "  Temporal model type       : \n",
      "  Parameters:\n",
      "    amplitude                     :   9.44e-07   +/- 0.0e+00 1 / (cm2 s TeV)\n",
      "    reference             (frozen):      0.002       TeV         \n",
      "    alpha                 (frozen):      1.800                   \n",
      "    beta                  (frozen):      0.091                   \n",
      "    lon_0                 (frozen):      3.276       rad         \n",
      "    lat_0                 (frozen):     -0.228       rad         \n",
      "\n",
      "\n",
      "SkyModel\n",
      "\n",
      "  Name                      : 4FGL J0521.7+2112\n",
      "  Datasets names            : None\n",
      "  Spectral model type       : LogParabolaSpectralModel\n",
      "  Spatial  model type       : PointSpatialModel\n",
      "  Temporal model type       : \n",
      "  Parameters:\n",
      "    amplitude                     :   4.40e-06   +/- 0.0e+00 1 / (cm2 s TeV)\n",
      "    reference             (frozen):      0.002       TeV         \n",
      "    alpha                         :      0.500   +/-    0.00             \n",
      "    beta                          :      0.706   +/-    0.00             \n",
      "    lon_0                 (frozen):      3.205       rad         \n",
      "    lat_0                 (frozen):     -0.152       rad         \n",
      "\n",
      "\n",
      "SkyModel\n",
      "\n",
      "  Name                      : 4FGL J0524.5+2839\n",
      "  Datasets names            : None\n",
      "  Spectral model type       : PowerLawSpectralModel\n",
      "  Spatial  model type       : PointSpatialModel\n",
      "  Temporal model type       : \n",
      "  Parameters:\n",
      "    index                 (frozen):      2.025                   \n",
      "    amplitude             (frozen):   6.61e-08       1 / (cm2 s TeV)\n",
      "    reference             (frozen):      0.004       TeV         \n",
      "    lon_0                 (frozen):      3.102       rad         \n",
      "    lat_0                 (frozen):     -0.071       rad         \n",
      "\n",
      "\n",
      "SkyModel\n",
      "\n",
      "  Name                      : 4FGL J0540.3+2756e\n",
      "  Datasets names            : None\n",
      "  Spectral model type       : LogParabolaSpectralModel\n",
      "  Spatial  model type       : TemplateSpatialModel\n",
      "  Temporal model type       : \n",
      "  Parameters:\n",
      "    amplitude             (frozen):   4.83e-06       1 / (cm2 s TeV)\n",
      "    reference             (frozen):      0.001       TeV         \n",
      "    alpha                 (frozen):      2.070                   \n",
      "    beta                  (frozen):      0.081                   \n",
      "\n",
      "\n",
      "SkyModel\n",
      "\n",
      "  Name                      : 4FGL J0554.1+3107\n",
      "  Datasets names            : None\n",
      "  Spectral model type       : SuperExpCutoffPowerLaw4FGLDR3SpectralModel\n",
      "  Spatial  model type       : PointSpatialModel\n",
      "  Temporal model type       : \n",
      "  Parameters:\n",
      "    amplitude             (frozen):   2.75e-06       1 / (cm2 s TeV)\n",
      "    reference             (frozen):      0.001       TeV         \n",
      "    expfactor                     :      0.010   +/-    0.00             \n",
      "    index_1                       :      1.500   +/-    0.00             \n",
      "    index_2                       :      2.000   +/-    0.00             \n",
      "    lon_0                 (frozen):      3.126       rad         \n",
      "    lat_0                 (frozen):      0.047       rad         \n",
      "\n",
      "\n",
      "SkyModel\n",
      "\n",
      "  Name                      : 4FGL J0601.4+2320\n",
      "  Datasets names            : None\n",
      "  Spectral model type       : LogParabolaSpectralModel\n",
      "  Spatial  model type       : PointSpatialModel\n",
      "  Temporal model type       : \n",
      "  Parameters:\n",
      "    amplitude             (frozen):   2.38e-06       1 / (cm2 s TeV)\n",
      "    reference             (frozen):      0.001       TeV         \n",
      "    alpha                 (frozen):      2.845                   \n",
      "    beta                  (frozen):      0.370                   \n",
      "    lon_0                 (frozen):      3.257       rad         \n",
      "    lat_0                 (frozen):      0.004       rad         \n",
      "\n",
      "\n",
      "SkyModel\n",
      "\n",
      "  Name                      : 4FGL J0609.0+2006\n",
      "  Datasets names            : None\n",
      "  Spectral model type       : LogParabolaSpectralModel\n",
      "  Spatial  model type       : PointSpatialModel\n",
      "  Temporal model type       : \n",
      "  Parameters:\n",
      "    amplitude             (frozen):   5.88e-07       1 / (cm2 s TeV)\n",
      "    reference             (frozen):      0.001       TeV         \n",
      "    alpha                 (frozen):      3.123                   \n",
      "    beta                  (frozen):      0.548                   \n",
      "    lon_0                 (frozen):      3.321       rad         \n",
      "    lat_0                 (frozen):      0.003       rad         \n",
      "\n",
      "\n",
      "SkyModel\n",
      "\n",
      "  Name                      : 4FGL J0613.1+1749c\n",
      "  Datasets names            : None\n",
      "  Spectral model type       : PowerLawSpectralModel\n",
      "  Spatial  model type       : PointSpatialModel\n",
      "  Temporal model type       : \n",
      "  Parameters:\n",
      "    index                 (frozen):      2.603                   \n",
      "    amplitude             (frozen):   5.26e-07       1 / (cm2 s TeV)\n",
      "    reference             (frozen):      0.001       TeV         \n",
      "    lon_0                 (frozen):      3.365       rad         \n",
      "    lat_0                 (frozen):     -0.001       rad         \n",
      "\n",
      "\n",
      "SkyModel\n",
      "\n",
      "  Name                      : 4FGL J0615.9+1416\n",
      "  Datasets names            : None\n",
      "  Spectral model type       : LogParabolaSpectralModel\n",
      "  Spatial  model type       : PointSpatialModel\n",
      "  Temporal model type       : \n",
      "  Parameters:\n",
      "    amplitude             (frozen):   4.01e-07       1 / (cm2 s TeV)\n",
      "    reference             (frozen):      0.001       TeV         \n",
      "    alpha                 (frozen):      2.705                   \n",
      "    beta                  (frozen):      0.350                   \n",
      "    lon_0                 (frozen):      3.424       rad         \n",
      "    lat_0                 (frozen):     -0.021       rad         \n",
      "\n",
      "\n",
      "SkyModel\n",
      "\n",
      "  Name                      : 4FGL J0617.2+2234e\n",
      "  Datasets names            : None\n",
      "  Spectral model type       : LogParabolaSpectralModel\n",
      "  Spatial  model type       : PointSpatialModel\n",
      "  Temporal model type       : \n",
      "  Parameters:\n",
      "    amplitude                     :   4.30e-06   +/- 0.0e+00 1 / (cm2 s TeV)\n",
      "    reference             (frozen):      0.005       TeV         \n",
      "    alpha                 (frozen):      2.284                   \n",
      "    beta                  (frozen):      0.123                   \n",
      "    lon_0                 (frozen):      3.300       rad         \n",
      "    lat_0                 (frozen):      0.053       rad         \n",
      "\n",
      "\n",
      "SkyModel\n",
      "\n",
      "  Name                      : 4FGL J0634.2+0436e\n",
      "  Datasets names            : None\n",
      "  Spectral model type       : LogParabolaSpectralModel\n",
      "  Spatial  model type       : TemplateSpatialModel\n",
      "  Temporal model type       : \n",
      "  Parameters:\n",
      "    amplitude             (frozen):   5.37e-06       1 / (cm2 s TeV)\n",
      "    reference             (frozen):      0.001       TeV         \n",
      "    alpha                 (frozen):      2.280                   \n",
      "    beta                  (frozen):      0.213                   \n",
      "\n",
      "\n",
      "SkyModel\n",
      "\n",
      "  Name                      : fermi-diffuse-iso-FRONT\n",
      "  Datasets names            : None\n",
      "  Spectral model type       : CompoundSpectralModel\n",
      "  Spatial  model type       : ConstantSpatialModel\n",
      "  Temporal model type       : \n",
      "  Parameters:\n",
      "    norm                  (frozen):      1.000                   \n",
      "    norm                          :      1.000   +/-    0.00             \n",
      "    tilt                  (frozen):      0.000                   \n",
      "    reference             (frozen):      1.000       TeV         \n",
      "    value                 (frozen):      1.000       1 / sr      \n",
      "\n",
      "\n"
     ]
    }
   ],
   "source": [
    "for m in list_sources:\n",
    "    print(m)"
   ]
  },
  {
   "cell_type": "code",
   "execution_count": null,
   "id": "e1a02d11",
   "metadata": {},
   "outputs": [],
   "source": []
  },
  {
   "cell_type": "markdown",
   "id": "0d852468",
   "metadata": {},
   "source": [
    "# Reading models from Config file"
   ]
  },
  {
   "cell_type": "code",
   "execution_count": 26,
   "id": "6891589c",
   "metadata": {},
   "outputs": [],
   "source": [
    "spectral_model, spatial_model = read_models_from_asgardpy_config(config_main.target)"
   ]
  },
  {
   "cell_type": "code",
   "execution_count": 27,
   "id": "ff52299f",
   "metadata": {},
   "outputs": [
    {
     "name": "stdout",
     "output_type": "stream",
     "text": [
      "CompoundSpectralModel\n",
      "    Component 1 : LogParabolaSpectralModel\n",
      "\n",
      "  type      name     value         unit        error      min       max    frozen is_norm link\n",
      "-------- --------- ---------- -------------- --------- --------- --------- ------ ------- ----\n",
      "spectral amplitude 1.0000e-07 cm-2 s-1 TeV-1 1.500e-08 1.000e-13 1.000e-02  False    True     \n",
      "spectral reference 1.0000e-02            TeV 0.000e+00 1.000e-04 1.000e+02   True   False     \n",
      "spectral     alpha 2.0000e+00                1.000e-01 5.000e-01 5.000e+00  False   False     \n",
      "spectral      beta 1.0000e-02                1.000e-03 1.000e-06 1.000e+00  False   False     \n",
      "    Component 2 : EBLAbsorptionNormSpectralModel\n",
      "\n",
      "  type      name      value    unit   error   min max frozen is_norm link\n",
      "-------- ---------- ---------- ---- --------- --- --- ------ ------- ----\n",
      "spectral alpha_norm 1.0000e+00      0.000e+00 nan nan   True   False     \n",
      "spectral   redshift 0.0000e+00      0.000e+00 nan nan   True   False     \n",
      "    Operator : mul\n",
      "\n"
     ]
    }
   ],
   "source": [
    "print(spectral_model)"
   ]
  },
  {
   "cell_type": "code",
   "execution_count": 28,
   "id": "7a4a0290",
   "metadata": {},
   "outputs": [
    {
     "name": "stdout",
     "output_type": "stream",
     "text": [
      "None\n"
     ]
    }
   ],
   "source": [
    "print(spatial_model)"
   ]
  },
  {
   "cell_type": "code",
   "execution_count": null,
   "id": "f2747de7",
   "metadata": {},
   "outputs": [],
   "source": []
  }
 ],
 "metadata": {
  "kernelspec": {
   "display_name": "gammapy-dev",
   "language": "python",
   "name": "gammapy-dev"
  },
  "language_info": {
   "codemirror_mode": {
    "name": "ipython",
    "version": 3
   },
   "file_extension": ".py",
   "mimetype": "text/x-python",
   "name": "python",
   "nbconvert_exporter": "python",
   "pygments_lexer": "ipython3",
   "version": "3.8.13"
  }
 },
 "nbformat": 4,
 "nbformat_minor": 5
}
