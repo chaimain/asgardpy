{
 "cells": [
  {
   "cell_type": "code",
   "execution_count": null,
   "id": "aee1fbf4",
   "metadata": {},
   "outputs": [],
   "source": [
    "from asgardpy.analysis import AsgardpyAnalysis\n",
    "from asgardpy.config import AsgardpyConfig\n",
    "\n",
    "from gammapy.modeling.models import Models\n",
    "\n",
    "import xmltodict\n",
    "import astropy.units as u\n",
    "import logging"
   ]
  },
  {
   "cell_type": "code",
   "execution_count": null,
   "id": "f058566a",
   "metadata": {},
   "outputs": [],
   "source": [
    "from asgardpy.data.dataset_3d import Dataset3DGeneration\n",
    "from asgardpy.data.target import (\n",
    "    set_models, create_gal_diffuse_skymodel, \n",
    "    create_source_skymodel, read_models_from_asgardpy_config\n",
    ")"
   ]
  },
  {
   "cell_type": "code",
   "execution_count": null,
   "id": "c14f8301",
   "metadata": {},
   "outputs": [],
   "source": []
  },
  {
   "cell_type": "code",
   "execution_count": null,
   "id": "7c2f92e8",
   "metadata": {},
   "outputs": [],
   "source": [
    "log = logging.getLogger(\"test Models from XML\")"
   ]
  },
  {
   "cell_type": "code",
   "execution_count": null,
   "id": "c68f07a5",
   "metadata": {},
   "outputs": [],
   "source": [
    "config_file = \"/path/to/Config.yaml\""
   ]
  },
  {
   "cell_type": "code",
   "execution_count": null,
   "id": "6143dfdf",
   "metadata": {},
   "outputs": [],
   "source": [
    "config = AsgardpyConfig()"
   ]
  },
  {
   "cell_type": "code",
   "execution_count": null,
   "id": "d3400f37",
   "metadata": {},
   "outputs": [],
   "source": [
    "%%time\n",
    "config_main = config.read(config_file)"
   ]
  },
  {
   "cell_type": "code",
   "execution_count": null,
   "id": "a531e6ed",
   "metadata": {},
   "outputs": [],
   "source": [
    "for g in config_main.general:\n",
    "    print(g)"
   ]
  },
  {
   "cell_type": "markdown",
   "id": "e46aef7f",
   "metadata": {},
   "source": [
    "# Steps mentioned in the main config file"
   ]
  },
  {
   "cell_type": "code",
   "execution_count": null,
   "id": "2de0184b",
   "metadata": {},
   "outputs": [],
   "source": [
    "config_main.general.steps"
   ]
  },
  {
   "cell_type": "markdown",
   "id": "491934ac",
   "metadata": {},
   "source": [
    "# Target source information"
   ]
  },
  {
   "cell_type": "code",
   "execution_count": null,
   "id": "5034abda",
   "metadata": {},
   "outputs": [],
   "source": [
    "for c in config_main.target:\n",
    "    print(c)"
   ]
  },
  {
   "cell_type": "markdown",
   "id": "a6dc4195",
   "metadata": {},
   "source": [
    "# 3D Datasets informations"
   ]
  },
  {
   "cell_type": "code",
   "execution_count": null,
   "id": "40fabea9",
   "metadata": {},
   "outputs": [],
   "source": [
    "for cc in config_main.dataset3d:\n",
    "    print(cc)"
   ]
  },
  {
   "cell_type": "code",
   "execution_count": null,
   "id": "b63c5529",
   "metadata": {},
   "outputs": [],
   "source": []
  },
  {
   "cell_type": "code",
   "execution_count": null,
   "id": "1a8f0690",
   "metadata": {},
   "outputs": [],
   "source": [
    "%%time\n",
    "analysis = AsgardpyAnalysis(config_main)"
   ]
  },
  {
   "cell_type": "code",
   "execution_count": null,
   "id": "dd6588f1",
   "metadata": {},
   "outputs": [],
   "source": [
    "analysis"
   ]
  },
  {
   "cell_type": "code",
   "execution_count": null,
   "id": "24e4ac05",
   "metadata": {},
   "outputs": [],
   "source": []
  },
  {
   "cell_type": "markdown",
   "id": "6a4fe4ce",
   "metadata": {},
   "source": [
    "# Get XML file from a single 3D Dataset - Fermi-LAT"
   ]
  },
  {
   "cell_type": "code",
   "execution_count": null,
   "id": "ab46c633",
   "metadata": {},
   "outputs": [],
   "source": [
    "instruments_list = config_main.dataset3d.instruments\n",
    "print(len(instruments_list), \"number of 3D dataset information provided\")\n",
    "\n",
    "config_3d_dataset = instruments_list[0]\n",
    "print(f\"Instrument selected is {config_3d_dataset.name}\")\n",
    "\n",
    "key_names = config_3d_dataset.dataset_info.key\n",
    "print(f\"The list of different keys or modes of observations for the selected instrument are {key_names}\")"
   ]
  },
  {
   "cell_type": "code",
   "execution_count": null,
   "id": "54c923a4",
   "metadata": {},
   "outputs": [],
   "source": [
    "%%time\n",
    "generate_3d_dataset = Dataset3DGeneration(\n",
    "    log, config_3d_dataset, config_main\n",
    ")"
   ]
  },
  {
   "cell_type": "code",
   "execution_count": null,
   "id": "91a0d1d7",
   "metadata": {},
   "outputs": [],
   "source": [
    "%%time\n",
    "file_list = generate_3d_dataset.read_to_objects(\n",
    "    generate_3d_dataset.config_target.components.spectral, \n",
    "    key_names[0]\n",
    ")"
   ]
  },
  {
   "cell_type": "code",
   "execution_count": null,
   "id": "5ec6f406",
   "metadata": {},
   "outputs": [],
   "source": [
    "print(f\"The XML file selected is {file_list['xml_file']}\")\n",
    "xml_file = file_list['xml_file']"
   ]
  },
  {
   "cell_type": "code",
   "execution_count": null,
   "id": "aa57e05e",
   "metadata": {},
   "outputs": [],
   "source": []
  },
  {
   "cell_type": "markdown",
   "id": "8a96c051",
   "metadata": {},
   "source": [
    "# Read into Models from XML file"
   ]
  },
  {
   "cell_type": "code",
   "execution_count": null,
   "id": "046633e6",
   "metadata": {},
   "outputs": [],
   "source": [
    "with open(xml_file) as f:\n",
    "    data = xmltodict.parse(f.read())[\"source_library\"][\"source\"]"
   ]
  },
  {
   "cell_type": "code",
   "execution_count": null,
   "id": "bf017e25",
   "metadata": {},
   "outputs": [],
   "source": [
    "\n",
    "print(\"The sources for which model information is givne in the XML file:\")\n",
    "for source in data:\n",
    "    print(source[\"@name\"])"
   ]
  },
  {
   "cell_type": "code",
   "execution_count": null,
   "id": "ca80df20",
   "metadata": {},
   "outputs": [],
   "source": [
    "print(\"Diffuse Isotropic Model already initialized\")\n",
    "print(generate_3d_dataset.diffuse_models[\"diff_iso\"])"
   ]
  },
  {
   "cell_type": "code",
   "execution_count": null,
   "id": "2b1c1f6f",
   "metadata": {},
   "outputs": [],
   "source": [
    "diff_gal = create_gal_diffuse_skymodel(generate_3d_dataset.diffuse_models[\"diff_gal\"])\n",
    "print(diff_gal)"
   ]
  },
  {
   "cell_type": "code",
   "execution_count": null,
   "id": "3d275500",
   "metadata": {},
   "outputs": [],
   "source": [
    "lp_is_intrinsic = generate_3d_dataset.config_target.components.spectral.model_name == \"LogParabola\"\n",
    "aux_path = generate_3d_dataset.config_3d_dataset.io[1].input_dir\n",
    "\n",
    "print(lp_is_intrinsic, aux_path)"
   ]
  },
  {
   "cell_type": "code",
   "execution_count": null,
   "id": "1682a992",
   "metadata": {},
   "outputs": [],
   "source": [
    "list_sources = []\n",
    "\n",
    "for source in data:\n",
    "    source_name = source[\"@name\"]\n",
    "    if source_name not in [\"IsoDiffModel\", \"GalDiffModel\"]:\n",
    "        source, is_target_source = create_source_skymodel(\n",
    "            config_main.target, source, aux_path, lp_is_intrinsic\n",
    "        )\n",
    "\n",
    "        if is_target_source:\n",
    "            list_sources.insert(0, source)\n",
    "        else:\n",
    "            list_sources.append(source)"
   ]
  },
  {
   "cell_type": "code",
   "execution_count": null,
   "id": "b3f6b7fe",
   "metadata": {},
   "outputs": [],
   "source": [
    "list_sources.append(generate_3d_dataset.diffuse_models[\"diff_iso\"])"
   ]
  },
  {
   "cell_type": "code",
   "execution_count": null,
   "id": "0e7983c4",
   "metadata": {},
   "outputs": [],
   "source": [
    "print(len(list_sources))"
   ]
  },
  {
   "cell_type": "code",
   "execution_count": null,
   "id": "eeb77fb3",
   "metadata": {},
   "outputs": [],
   "source": [
    "for m in list_sources:\n",
    "    print(m)"
   ]
  },
  {
   "cell_type": "code",
   "execution_count": null,
   "id": "e1a02d11",
   "metadata": {},
   "outputs": [],
   "source": []
  },
  {
   "cell_type": "markdown",
   "id": "0d852468",
   "metadata": {},
   "source": [
    "# Reading models from Config file"
   ]
  },
  {
   "cell_type": "code",
   "execution_count": null,
   "id": "6891589c",
   "metadata": {},
   "outputs": [],
   "source": [
    "spectral_model, spatial_model = read_models_from_asgardpy_config(config_main.target)"
   ]
  },
  {
   "cell_type": "code",
   "execution_count": null,
   "id": "ff52299f",
   "metadata": {},
   "outputs": [],
   "source": [
    "print(spectral_model)"
   ]
  },
  {
   "cell_type": "code",
   "execution_count": null,
   "id": "7a4a0290",
   "metadata": {},
   "outputs": [],
   "source": [
    "print(spatial_model)"
   ]
  },
  {
   "cell_type": "code",
   "execution_count": null,
   "id": "f2747de7",
   "metadata": {},
   "outputs": [],
   "source": []
  }
 ],
 "metadata": {
  "kernelspec": {
   "display_name": "gammapy-dev",
   "language": "python",
   "name": "gammapy-dev"
  },
  "language_info": {
   "codemirror_mode": {
    "name": "ipython",
    "version": 3
   },
   "file_extension": ".py",
   "mimetype": "text/x-python",
   "name": "python",
   "nbconvert_exporter": "python",
   "pygments_lexer": "ipython3",
   "version": "3.8.13"
  }
 },
 "nbformat": 4,
 "nbformat_minor": 5
}
