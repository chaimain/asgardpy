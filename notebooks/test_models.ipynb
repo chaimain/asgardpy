{
 "cells": [
  {
   "cell_type": "code",
   "execution_count": null,
   "id": "aee1fbf4",
   "metadata": {},
   "outputs": [],
   "source": [
    "from asgardpy.analysis import AsgardpyAnalysis\n",
    "from asgardpy.config import AsgardpyConfig\n",
    "\n",
    "from gammapy.modeling.models import Models, SPECTRAL_MODEL_REGISTRY, SPATIAL_MODEL_REGISTRY\n",
    "from gammapy.maps import Map\n",
    "\n",
    "import matplotlib.pyplot as plt\n",
    "import xmltodict\n",
    "from astropy.coordinates import SkyCoord\n",
    "import astropy.units as u\n",
    "import numpy as np\n",
    "import logging"
   ]
  },
  {
   "cell_type": "code",
   "execution_count": null,
   "id": "f058566a",
   "metadata": {},
   "outputs": [],
   "source": [
    "from asgardpy.data.dataset_3d import Dataset3DGeneration\n",
    "from asgardpy.data.target import (\n",
    "    set_models, \n",
    "    apply_selection_mask_to_models,\n",
    "    create_gal_diffuse_skymodel, \n",
    "    create_source_skymodel, \n",
    "    read_models_from_asgardpy_config,\n",
    "    xml_spectral_model_to_gammapy_params,\n",
    "    xml_spatial_model_to_gammapy,\n",
    ")"
   ]
  },
  {
   "cell_type": "code",
   "execution_count": null,
   "id": "c14f8301",
   "metadata": {},
   "outputs": [],
   "source": []
  },
  {
   "cell_type": "code",
   "execution_count": null,
   "id": "7c2f92e8",
   "metadata": {},
   "outputs": [],
   "source": [
    "log = logging.getLogger(\"test Models from XML\")"
   ]
  },
  {
   "cell_type": "code",
   "execution_count": null,
   "id": "c68f07a5",
   "metadata": {},
   "outputs": [],
   "source": [
    "config_file = \"/path/to/Config.yaml\""
   ]
  },
  {
   "cell_type": "code",
   "execution_count": null,
   "id": "6143dfdf",
   "metadata": {},
   "outputs": [],
   "source": [
    "config = AsgardpyConfig()"
   ]
  },
  {
   "cell_type": "code",
   "execution_count": null,
   "id": "d3400f37",
   "metadata": {},
   "outputs": [],
   "source": [
    "%%time\n",
    "config_main = config.read(config_file)"
   ]
  },
  {
   "cell_type": "code",
   "execution_count": null,
   "id": "a531e6ed",
   "metadata": {},
   "outputs": [],
   "source": [
    "for g in config_main.general:\n",
    "    print(g)"
   ]
  },
  {
   "cell_type": "markdown",
   "id": "e46aef7f",
   "metadata": {},
   "source": [
    "# Steps mentioned in the main config file"
   ]
  },
  {
   "cell_type": "code",
   "execution_count": null,
   "id": "2de0184b",
   "metadata": {},
   "outputs": [],
   "source": [
    "config_main.general.steps"
   ]
  },
  {
   "cell_type": "markdown",
   "id": "491934ac",
   "metadata": {},
   "source": [
    "# Target source information"
   ]
  },
  {
   "cell_type": "code",
   "execution_count": null,
   "id": "5034abda",
   "metadata": {},
   "outputs": [],
   "source": [
    "for c in config_main.target:\n",
    "    print(c)"
   ]
  },
  {
   "cell_type": "markdown",
   "id": "a6dc4195",
   "metadata": {},
   "source": [
    "# 3D Datasets informations"
   ]
  },
  {
   "cell_type": "code",
   "execution_count": null,
   "id": "40fabea9",
   "metadata": {},
   "outputs": [],
   "source": [
    "for cc in config_main.dataset3d:\n",
    "    print(cc)"
   ]
  },
  {
   "cell_type": "code",
   "execution_count": null,
   "id": "b63c5529",
   "metadata": {},
   "outputs": [],
   "source": []
  },
  {
   "cell_type": "code",
   "execution_count": null,
   "id": "1a8f0690",
   "metadata": {},
   "outputs": [],
   "source": [
    "%%time\n",
    "analysis = AsgardpyAnalysis(config_main)"
   ]
  },
  {
   "cell_type": "code",
   "execution_count": null,
   "id": "dd6588f1",
   "metadata": {},
   "outputs": [],
   "source": [
    "analysis"
   ]
  },
  {
   "cell_type": "code",
   "execution_count": null,
   "id": "24e4ac05",
   "metadata": {},
   "outputs": [],
   "source": []
  },
  {
   "cell_type": "markdown",
   "id": "6a4fe4ce",
   "metadata": {},
   "source": [
    "# Get XML file from a single 3D Dataset - Fermi-LAT"
   ]
  },
  {
   "cell_type": "code",
   "execution_count": null,
   "id": "ab46c633",
   "metadata": {},
   "outputs": [],
   "source": [
    "instruments_list = config_main.dataset3d.instruments\n",
    "print(len(instruments_list), \"number of 3D dataset information provided\")\n",
    "\n",
    "config_3d_dataset = instruments_list[0]\n",
    "print(f\"Instrument selected is {config_3d_dataset.name}\")\n",
    "\n",
    "key_names = config_3d_dataset.dataset_info.key\n",
    "print(f\"The list of different keys or modes of observations for the selected instrument are {key_names}\")"
   ]
  },
  {
   "cell_type": "code",
   "execution_count": null,
   "id": "54c923a4",
   "metadata": {},
   "outputs": [],
   "source": [
    "%%time\n",
    "generate_3d_dataset = Dataset3DGeneration(\n",
    "    log, config_3d_dataset, config_main\n",
    ")"
   ]
  },
  {
   "cell_type": "code",
   "execution_count": null,
   "id": "f33f9e63",
   "metadata": {},
   "outputs": [],
   "source": [
    "if len(key_names) == 0:\n",
    "    key_names = [None]"
   ]
  },
  {
   "cell_type": "code",
   "execution_count": null,
   "id": "91a0d1d7",
   "metadata": {},
   "outputs": [],
   "source": [
    "%%time\n",
    "file_list = generate_3d_dataset.read_to_objects(key_names[0])"
   ]
  },
  {
   "cell_type": "code",
   "execution_count": null,
   "id": "5ec6f406",
   "metadata": {},
   "outputs": [],
   "source": [
    "print(f\"The XML file selected is {file_list['xml_file']}\")\n",
    "xml_file = file_list['xml_file']"
   ]
  },
  {
   "cell_type": "code",
   "execution_count": null,
   "id": "aa57e05e",
   "metadata": {},
   "outputs": [],
   "source": []
  },
  {
   "cell_type": "markdown",
   "id": "8a96c051",
   "metadata": {},
   "source": [
    "# Read into Models from XML file"
   ]
  },
  {
   "cell_type": "code",
   "execution_count": null,
   "id": "046633e6",
   "metadata": {},
   "outputs": [],
   "source": [
    "with open(xml_file) as f:\n",
    "    data = xmltodict.parse(f.read())[\"source_library\"][\"source\"]"
   ]
  },
  {
   "cell_type": "code",
   "execution_count": null,
   "id": "bf017e25",
   "metadata": {},
   "outputs": [],
   "source": [
    "print(\"The sources for which model information is given in the XML file, along with their spectral and spatial model:\")\n",
    "for source in data:\n",
    "    print(source[\"@name\"], source[\"spectrum\"][\"@type\"], source[\"spatialModel\"][\"@type\"])"
   ]
  },
  {
   "cell_type": "code",
   "execution_count": null,
   "id": "79e841ff",
   "metadata": {},
   "outputs": [],
   "source": []
  },
  {
   "cell_type": "code",
   "execution_count": null,
   "id": "ca80df20",
   "metadata": {},
   "outputs": [],
   "source": [
    "print(\"Diffuse Isotropic Model already initialized\")\n",
    "print(generate_3d_dataset.diffuse_models[\"iso_diffuse\"])"
   ]
  },
  {
   "cell_type": "code",
   "execution_count": null,
   "id": "2b1c1f6f",
   "metadata": {},
   "outputs": [],
   "source": [
    "diff_gal = create_gal_diffuse_skymodel(generate_3d_dataset.diffuse_models[\"gal_diffuse\"])\n",
    "print(diff_gal)"
   ]
  },
  {
   "cell_type": "code",
   "execution_count": null,
   "id": "3d275500",
   "metadata": {},
   "outputs": [],
   "source": [
    "aux_path = generate_3d_dataset.config_3d_dataset.io[1].input_dir\n",
    "print(aux_path)"
   ]
  },
  {
   "cell_type": "code",
   "execution_count": null,
   "id": "f5424647",
   "metadata": {},
   "outputs": [],
   "source": []
  },
  {
   "cell_type": "code",
   "execution_count": null,
   "id": "dbfbc6c5",
   "metadata": {},
   "outputs": [],
   "source": [
    "# Check if the Spectral Model type is properly translated\n",
    "for source in data:\n",
    "    source_name = source[\"@name\"]\n",
    "    if source_name not in [\"IsoDiffModel\", \"GalDiffModel\", \"isodiff\", \"galdiff\"]:\n",
    "        spectrum_ = source[\"spectrum\"][\"parameter\"]\n",
    "        spectrum_type = source[\"spectrum\"][\"@type\"].split(\"EblAtten::\")[-1]\n",
    "\n",
    "        if spectrum_[0][\"@name\"] not in [\"GalDiffModel\", \"IsoDiffModel\"]:\n",
    "            if spectrum_type in [\"PLSuperExpCutoff\", \"PLSuperExpCutoff2\"]:\n",
    "                spectrum_type_final = \"ExpCutoffPowerLawSpectralModel\"\n",
    "            elif spectrum_type == \"PLSuperExpCutoff4\":\n",
    "                spectrum_type_final = \"SuperExpCutoffPowerLaw4FGLDR3SpectralModel\"\n",
    "            else:\n",
    "                spectrum_type_final = f\"{spectrum_type}SpectralModel\"\n",
    "\n",
    "            spectral_model = SPECTRAL_MODEL_REGISTRY.get_cls(spectrum_type_final)()\n",
    "\n",
    "            if spectrum_type == \"LogParabola\":\n",
    "                if \"EblAtten\" in source[\"spectrum\"][\"@type\"]:\n",
    "                    spectral_model = SPECTRAL_MODEL_REGISTRY.get_cls(\"PowerLawSpectralModel\")()\n",
    "                    ebl_atten_pl = True\n",
    "                else:\n",
    "                    spectral_model = SPECTRAL_MODEL_REGISTRY.get_cls(\n",
    "                        \"LogParabolaSpectralModel\"\n",
    "                    )()\n",
    "        print(spectrum_type, spectral_model.tag)"
   ]
  },
  {
   "cell_type": "code",
   "execution_count": null,
   "id": "b31f3dd8",
   "metadata": {},
   "outputs": [],
   "source": [
    "# Check if the Spectral Model parameters are properly translated\n",
    "for source in data:\n",
    "    source_name = source[\"@name\"]\n",
    "\n",
    "    if source_name not in [\"IsoDiffModel\", \"GalDiffModel\", \"isodiff\", \"galdiff\"]:\n",
    "        print(f\"\\n{source_name}\\n\")\n",
    "        spectrum_ = source[\"spectrum\"][\"parameter\"]\n",
    "        spectrum_type = source[\"spectrum\"][\"@type\"].split(\"EblAtten::\")[-1]\n",
    "\n",
    "        print(spectrum_type)\n",
    "        for p in spectrum_:\n",
    "            print(f'Name: {p[\"@name\"]:12s} \\tScale: {float(p[\"@scale\"]):6e} \\tFrozen: {p[\"@free\"]}')\n",
    "            print(\n",
    "                f'Value: {(float(p[\"@value\"]) * float(p[\"@scale\"])):.6e}' + \n",
    "                f' \\tMin: {(float(p[\"@min\"]) * float(p[\"@scale\"])):.6e}' + \n",
    "                f' \\tMax: {(float(p[\"@max\"]) * float(p[\"@scale\"])):.6e}'\n",
    "            )\n",
    "\n",
    "        if spectrum_[0][\"@name\"] not in [\"GalDiffModel\", \"IsoDiffModel\"]:\n",
    "            if spectrum_type in [\"PLSuperExpCutoff\", \"PLSuperExpCutoff2\"]:\n",
    "                spectrum_type_final = \"ExpCutoffPowerLawSpectralModel\"\n",
    "            elif spectrum_type == \"PLSuperExpCutoff4\":\n",
    "                spectrum_type_final = \"SuperExpCutoffPowerLaw4FGLDR3SpectralModel\"\n",
    "            else:\n",
    "                spectrum_type_final = f\"{spectrum_type}SpectralModel\"\n",
    "\n",
    "            spectral_model = SPECTRAL_MODEL_REGISTRY.get_cls(spectrum_type_final)()\n",
    "\n",
    "            if spectrum_type == \"LogParabola\":\n",
    "                if \"EblAtten\" in source[\"spectrum\"][\"@type\"]:\n",
    "                    spectral_model = SPECTRAL_MODEL_REGISTRY.get_cls(\"PowerLawSpectralModel\")()\n",
    "                    ebl_atten_pl = True\n",
    "                else:\n",
    "                    spectral_model = SPECTRAL_MODEL_REGISTRY.get_cls(\n",
    "                        \"LogParabolaSpectralModel\"\n",
    "                    )()\n",
    "        # Read the parameter values from XML file to create SpectralModel\n",
    "        params_list = xml_spectral_model_to_gammapy_params(\n",
    "            spectrum_,\n",
    "            spectrum_type,\n",
    "        )\n",
    "        print(\"\\n\", spectral_model.tag)\n",
    "        for p in params_list:\n",
    "            print(f\"Name: {p.name:12s} \\tScale: {p.scale} \\t\\tFrozen:{p.frozen}\")\n",
    "            print(f\"Value: {p.value:.6e} \\tMin: {p.min:.6e} \\tMax: {p.max:.6e}\")\n"
   ]
  },
  {
   "cell_type": "code",
   "execution_count": null,
   "id": "d1aaa734",
   "metadata": {},
   "outputs": [],
   "source": []
  },
  {
   "cell_type": "markdown",
   "id": "dc366412",
   "metadata": {},
   "source": [
    "# Get the list of source models"
   ]
  },
  {
   "cell_type": "code",
   "execution_count": null,
   "id": "1682a992",
   "metadata": {},
   "outputs": [],
   "source": [
    "list_sources = []\n",
    "is_target_source = False\n",
    "\n",
    "for source in data:\n",
    "    source_name = source[\"@name\"]\n",
    "    if source_name not in [\"IsoDiffModel\", \"GalDiffModel\", \"isodiff\", \"galdiff\"]:\n",
    "        source, is_target_source = create_source_skymodel(\n",
    "            config_main.target, source, aux_path\n",
    "        )\n",
    "\n",
    "        if is_target_source:\n",
    "            list_sources.insert(0, source)\n",
    "        else:\n",
    "            list_sources.append(source)"
   ]
  },
  {
   "cell_type": "code",
   "execution_count": null,
   "id": "b3f6b7fe",
   "metadata": {},
   "outputs": [],
   "source": [
    "list_sources.append(generate_3d_dataset.diffuse_models[\"iso_diffuse\"])"
   ]
  },
  {
   "cell_type": "code",
   "execution_count": null,
   "id": "0e7983c4",
   "metadata": {},
   "outputs": [],
   "source": [
    "print(len(list_sources))"
   ]
  },
  {
   "cell_type": "code",
   "execution_count": null,
   "id": "eeb77fb3",
   "metadata": {},
   "outputs": [],
   "source": [
    "for m in list_sources:\n",
    "    print(m)"
   ]
  },
  {
   "cell_type": "code",
   "execution_count": null,
   "id": "e1a02d11",
   "metadata": {},
   "outputs": [],
   "source": []
  },
  {
   "cell_type": "code",
   "execution_count": null,
   "id": "51ab556e",
   "metadata": {},
   "outputs": [],
   "source": [
    "target_pos = Models(list_sources)[config_main.target.source_name].spatial_model.position.icrs\n",
    "for m in list_sources:\n",
    "    print(\"\\n\", m.name)\n",
    "    if m.spatial_model.position:\n",
    "        print(f\"Separation from Target source is {target_pos.separation(m.spatial_model.position.icrs).deg:.3f} deg\")\n",
    "    if m.spectral_model.tag[1] == \"compound\":\n",
    "        print(m.spectral_model.model1.tag[0])\n",
    "    else:\n",
    "        print(m.spectral_model.tag[0])\n",
    "    for p in m.spectral_model.parameters:\n",
    "        print(p.name, p._is_norm)"
   ]
  },
  {
   "cell_type": "code",
   "execution_count": null,
   "id": "d6e2a307",
   "metadata": {},
   "outputs": [],
   "source": [
    "plt.figure(figsize=(10,5))\n",
    "en_b = [1e-4, 1e2] * u.TeV\n",
    "for m in list_sources:\n",
    "    if m.spatial_model.position:\n",
    "        label_ = f\"{m.name} {target_pos.separation(m.spatial_model.position.icrs).deg:.1e} deg\"\n",
    "    else:\n",
    "        label_ = m.name\n",
    "    m.spectral_model.plot(energy_bounds=en_b, sed_type=\"e2dnde\", label=label_)\n",
    "\n",
    "plt.grid()\n",
    "plt.legend(bbox_to_anchor=(1,1), ncols=int(np.sqrt(len(list_sources))/2))\n",
    "plt.ylim(1e-13, 1e-8)"
   ]
  },
  {
   "cell_type": "code",
   "execution_count": null,
   "id": "bb1bef55",
   "metadata": {},
   "outputs": [],
   "source": []
  },
  {
   "cell_type": "markdown",
   "id": "767e1961",
   "metadata": {},
   "source": [
    "# Spatial Models"
   ]
  },
  {
   "cell_type": "code",
   "execution_count": null,
   "id": "233bc74c",
   "metadata": {},
   "outputs": [],
   "source": [
    "for source in data:\n",
    "    print(source[\"@name\"])\n",
    "    xml_spatial_model = source[\"spatialModel\"]\n",
    "    spatial_pars = xml_spatial_model[\"parameter\"]\n",
    "\n",
    "    if xml_spatial_model[\"@type\"] == \"SkyDirFunction\":\n",
    "        for par_ in spatial_pars:\n",
    "            print(par_)\n",
    "            if par_[\"@name\"] == \"RA\":\n",
    "                lon_0 = f\"{par_['@value']} deg\"\n",
    "            if par_[\"@name\"] == \"DEC\":\n",
    "                lat_0 = f\"{par_['@value']} deg\"\n",
    "        fk5_frame = SkyCoord(\n",
    "            lon_0,\n",
    "            lat_0,\n",
    "            frame=\"fk5\",\n",
    "        )\n",
    "        gal_frame = fk5_frame.transform_to(\"galactic\")\n",
    "        spatial_model = SPATIAL_MODEL_REGISTRY.get_cls(\"PointSpatialModel\")().from_position(\n",
    "            gal_frame\n",
    "        )\n",
    "\n",
    "    elif xml_spatial_model[\"@type\"] == \"SpatialMap\":\n",
    "        file_name = xml_spatial_model[\"@file\"].split(\"/\")[-1]\n",
    "        file_path = aux_path / f\"Templates/{file_name}\"\n",
    "\n",
    "        spatial_map = Map.read(file_path)\n",
    "        spatial_map = spatial_map.copy(unit=\"sr^-1\")\n",
    "\n",
    "        spatial_model = SPATIAL_MODEL_REGISTRY.get_cls(\"TemplateSpatialModel\")(\n",
    "            spatial_map, filename=file_path\n",
    "        )\n",
    "\n",
    "    elif xml_spatial_model[\"@type\"] == \"RadialGaussian\":\n",
    "        for par_ in spatial_pars:\n",
    "            print(par_)\n",
    "            if par_[\"@name\"] == \"RA\":\n",
    "                lon_0 = f\"{par_['@value']} deg\"\n",
    "            if par_[\"@name\"] == \"DEC\":\n",
    "                lat_0 = f\"{par_['@value']} deg\"\n",
    "            if par_[\"@name\"] == \"Sigma\":\n",
    "                sigma = f\"{par_['@value']} deg\"\n",
    "        fk5_frame_ = SkyCoord(\n",
    "            lon_0,\n",
    "            lat_0,\n",
    "            frame=\"fk5\",\n",
    "        )\n",
    "        print(fk5_frame_)\n",
    "        gal_frame = fk5_frame_.transform_to(\"galactic\")\n",
    "\n",
    "        spatial_model = SPATIAL_MODEL_REGISTRY.get_cls(\"GaussianSpatialModel\")(\n",
    "            lon_0=gal_frame.l, lat_0=gal_frame.b, sigma=sigma, frame=\"galactic\"\n",
    "        )\n",
    "\n",
    "    print(spatial_model.position)\n"
   ]
  },
  {
   "cell_type": "code",
   "execution_count": null,
   "id": "8c00125c",
   "metadata": {},
   "outputs": [],
   "source": [
    "for m in list_sources:\n",
    "    print(\"\\n\", m.name, m.spatial_model.tag)\n",
    "    print(m.spatial_model, m.spatial_model.evaluation_radius)"
   ]
  },
  {
   "cell_type": "code",
   "execution_count": null,
   "id": "e2398302",
   "metadata": {},
   "outputs": [],
   "source": [
    "idx = 0\n",
    "print(list_sources[idx].name, list_sources[idx].spatial_model)\n",
    "test_ = list_sources[idx].spatial_model\n",
    "test_.plot(add_cbar=True)"
   ]
  },
  {
   "cell_type": "code",
   "execution_count": null,
   "id": "7278fe88",
   "metadata": {},
   "outputs": [],
   "source": []
  },
  {
   "cell_type": "markdown",
   "id": "0d852468",
   "metadata": {},
   "source": [
    "# Reading models from Config file"
   ]
  },
  {
   "cell_type": "code",
   "execution_count": null,
   "id": "6891589c",
   "metadata": {},
   "outputs": [],
   "source": [
    "spectral_model, spatial_model = read_models_from_asgardpy_config(config_main.target)"
   ]
  },
  {
   "cell_type": "code",
   "execution_count": null,
   "id": "ff52299f",
   "metadata": {},
   "outputs": [],
   "source": [
    "print(spectral_model)"
   ]
  },
  {
   "cell_type": "code",
   "execution_count": null,
   "id": "7a4a0290",
   "metadata": {},
   "outputs": [],
   "source": [
    "print(spatial_model)"
   ]
  },
  {
   "cell_type": "code",
   "execution_count": null,
   "id": "f2747de7",
   "metadata": {},
   "outputs": [],
   "source": []
  },
  {
   "cell_type": "markdown",
   "id": "7cc469b5",
   "metadata": {},
   "source": [
    "# Apply selection mask to list of models"
   ]
  },
  {
   "cell_type": "code",
   "execution_count": null,
   "id": "d65dafc0",
   "metadata": {},
   "outputs": [],
   "source": [
    "list_sources = apply_selection_mask_to_models(\n",
    "    list_sources,\n",
    "    target_source=config_main.target.source_name,\n",
    "    roi_radius=config_main.target.roi_selection.roi_radius,\n",
    "    free_sources=config_main.target.roi_selection.free_sources\n",
    ")"
   ]
  },
  {
   "cell_type": "code",
   "execution_count": null,
   "id": "a5c244ba",
   "metadata": {},
   "outputs": [],
   "source": [
    "for m in list_sources:\n",
    "    print(m)"
   ]
  },
  {
   "cell_type": "code",
   "execution_count": null,
   "id": "c8057338",
   "metadata": {},
   "outputs": [],
   "source": [
    "print(len(list_sources))"
   ]
  },
  {
   "cell_type": "code",
   "execution_count": null,
   "id": "4d3dec2a",
   "metadata": {},
   "outputs": [],
   "source": [
    "print(len(list_sources.parameters.free_parameters))"
   ]
  },
  {
   "cell_type": "code",
   "execution_count": null,
   "id": "c4f89f28",
   "metadata": {},
   "outputs": [],
   "source": []
  }
 ],
 "metadata": {
  "kernelspec": {
   "display_name": "asgardpy",
   "language": "python",
   "name": "asgardpy"
  },
  "language_info": {
   "codemirror_mode": {
    "name": "ipython",
    "version": 3
   },
   "file_extension": ".py",
   "mimetype": "text/x-python",
   "name": "python",
   "nbconvert_exporter": "python",
   "pygments_lexer": "ipython3",
   "version": "3.11.3"
  }
 },
 "nbformat": 4,
 "nbformat_minor": 5
}
